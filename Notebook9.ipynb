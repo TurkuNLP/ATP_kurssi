{
  "nbformat": 4,
  "nbformat_minor": 0,
  "metadata": {
    "colab": {
      "name": "Notebook9.ipynb",
      "provenance": [],
      "authorship_tag": "ABX9TyNdBhCXogb1LNKE9yyTwIus",
      "include_colab_link": true
    },
    "kernelspec": {
      "name": "python3",
      "display_name": "Python 3"
    },
    "language_info": {
      "name": "python"
    }
  },
  "cells": [
    {
      "cell_type": "markdown",
      "metadata": {
        "id": "view-in-github",
        "colab_type": "text"
      },
      "source": [
        "<a href=\"https://colab.research.google.com/github/TurkuNLP/ATP_kurssi/blob/master/Notebook9.ipynb\" target=\"_parent\"><img src=\"https://colab.research.google.com/assets/colab-badge.svg\" alt=\"Open In Colab\"/></a>"
      ]
    },
    {
      "cell_type": "markdown",
      "metadata": {
        "id": "zTcf08kj07_4"
      },
      "source": [
        "## Scripts\n",
        "\n",
        "* Long command combinations can become complicated. \n",
        "* The commands can be saved in a script that can then be executed instead of typing the individual commands on command line\n",
        "----\n",
        "\n",
        "###  Script file\n",
        "\n",
        "* Bash scripts should have `.sh` ending\n",
        "* Bash scripts should start with\n",
        "\n",
        "` #!/bin/bash`\n",
        "* They can be executed by `./script.sh`\n",
        "* Important: you need to add excecuting permissions to your script. \n",
        "* `chmod a+x script.sh`\n"
      ]
    },
    {
      "cell_type": "markdown",
      "metadata": {
        "id": "GxcMbgft-W9T"
      },
      "source": [
        "### Script input and output\n",
        "\n",
        "* Standard input / output\n",
        "** `cat input.txt | ./script.sh > output.txt`\n",
        "\n",
        "* Arguments\n",
        "** `./script.sh input.txt`\n",
        "** Arguments referred to with` \\$1, \\$2,` etc in the script "
      ]
    },
    {
      "cell_type": "markdown",
      "metadata": {
        "id": "-hKMWL5Z_bY5"
      },
      "source": [
        "### Exercise\n",
        "\n",
        "* Make first a script that counts how many words a file has\n",
        "* The script should take the file from standard input (pipe)\n",
        "-------\n",
        "* Make a script that splits a txt file to a word-per-line format and makes a a cleaned frequency list of the words. The script should only output 20 of the most frequent words\n",
        "* Advanced: make a script that downloads a Gutenberg book and prints a clean frequency list (to standard output or to a file)\n",
        "* Note that wget -O allows you to name the downloaded file as you like\n"
      ]
    },
    {
      "cell_type": "code",
      "metadata": {
        "id": "v-KqlIooBoG6"
      },
      "source": [
        "! wget -O \"MYFILE.txt\" https://www.gutenberg.org/files/84/84-0.txt"
      ],
      "execution_count": null,
      "outputs": []
    }
  ]
}