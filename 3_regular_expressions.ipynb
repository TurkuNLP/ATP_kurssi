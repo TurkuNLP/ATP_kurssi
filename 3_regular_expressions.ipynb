{
 "cells": [
  {
   "cell_type": "markdown",
   "metadata": {},
   "source": [
    "# merkkijonon muuttaminen toiseksi\n",
    "\n",
    "- usein erittäin hyödyllistä\n",
    "\n",
    "- voidaan tehdä monella tapaa: sed, tr, perl\n",
    "\n",
    "- nyt tehdään perlillä\n",
    "\n",
    "- perl -pe 's/ALKUPERÄINEN/MUUTETTU/g'\n",
    "\n",
    "- HUOM! TOIMII MERKKIJONOPERIAATTEELLA, EI RIVI KERRALLAAN KUTEN GREP\n",
    "\n",
    "- esim cat hash.txt | perl -pe 's/charlie/CHARLIE/g'\n",
    "\n",
    "- cat hash.txt | perl -pe 's/charlie//g'\n",
    "\n",
    "- \\n --> rivinvaihto\n",
    "\n",
    "- cat gutenberg.txt | perl -pe 's/ /\\n/g' \n"
   ]
  },
  {
   "cell_type": "markdown",
   "metadata": {},
   "source": [
    "# Tehtävä merkkijonoista\n",
    "\n",
    "- Koita  cat tweet_languages.txt -tiedostolla muutaa kieliä toisiksi\n",
    "    \n",
    "    - Muuta es, fi ja fr kaikki kieliksi ROM\n",
    "    \n",
    "    - Muuta de ja nl kieliksi GER\n",
    "    \n",
    "    - Kuinka paljon näitä on tviiteissä?\n",
    "    \n",
    "    - Kuinka paljon muita kuin näitä on tviiteissä?\n",
    "\n",
    "\n",
    "- Ekstra: koita tehdä sama niin, että aloitat tviitteja2.txt -tiedostosta"
   ]
  },
  {
   "cell_type": "markdown",
   "metadata": {
    "collapsed": true
   },
   "source": [
    "# säännölliset lausekkeet / regular expressions\n",
    "\n",
    "- Merkkijonokieli, joka voi vastata tai olla vastaamatta toista merkkijonoa\n",
    "\n",
    "    - Näppärä etsimiseen, korvaamiseen, monen tiedoston samanaikaiseen ajamiseen...\n",
    "\n",
    "- x --> x\n",
    "\n",
    "- x+ --> yksi tai useampi x\n",
    "\n",
    "- x* --> nolla tai enemmän *\n",
    "\n",
    "- sovelluksia catilla\n",
    "\n",
    "cat *\n",
    "\n",
    "\n",
    "- sovelluksia grepillä\n",
    "\n",
    "- \n",
    "esim. cat t.txt"
   ]
  }
 ],
 "metadata": {
  "kernelspec": {
   "display_name": "Bash",
   "language": "bash",
   "name": "bash"
  },
  "language_info": {
   "codemirror_mode": "shell",
   "file_extension": ".sh",
   "mimetype": "text/x-sh",
   "name": "bash"
  }
 },
 "nbformat": 4,
 "nbformat_minor": 0
}
