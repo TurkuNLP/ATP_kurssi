{
  "nbformat": 4,
  "nbformat_minor": 0,
  "metadata": {
    "colab": {
      "name": "Notebook6.ipynb",
      "provenance": [],
      "collapsed_sections": [],
      "authorship_tag": "ABX9TyNhICfsFS2yzZteWmcV8INI",
      "include_colab_link": true
    },
    "kernelspec": {
      "name": "python3",
      "display_name": "Python 3"
    },
    "language_info": {
      "name": "python"
    }
  },
  "cells": [
    {
      "cell_type": "markdown",
      "metadata": {
        "id": "view-in-github",
        "colab_type": "text"
      },
      "source": [
        "<a href=\"https://colab.research.google.com/github/TurkuNLP/ATP_kurssi/blob/master/Notebook6.ipynb\" target=\"_parent\"><img src=\"https://colab.research.google.com/assets/colab-badge.svg\" alt=\"Open In Colab\"/></a>"
      ]
    },
    {
      "cell_type": "markdown",
      "metadata": {
        "id": "Hbk7qSCj1OQr"
      },
      "source": [
        "## Connecting to a server\n",
        "\n",
        "* Course server vm0964.kaj.pouta.csc.fi\n",
        "* You can connect to the server using *ssh* command\n",
        "** ssh vm0964.kaj.pouta.csc.fi\n",
        "* Connecting needs a program, such as Putty\n",
        "* Putty can be installed freely to any Windows laptop (https://www.chiark.greenend.org.uk/~sgtatham/putty/latest.html)\n",
        "* On Linux / Mac machines, you have a Terminal from which you can ssh to the server\n",
        "\n",
        "---\n",
        "* Your username is your UTU username\n",
        "* Your password is told at class and illustrated on Moodle (this page is public so not here)"
      ]
    },
    {
      "cell_type": "markdown",
      "metadata": {
        "id": "iimt0tL91-dM"
      },
      "source": [
        "### Change your password\n",
        "* command is *passwd*\n"
      ]
    },
    {
      "cell_type": "markdown",
      "metadata": {
        "id": "1qarfvipy3HP"
      },
      "source": [
        "### Browsing text files\n",
        "* *cat, head, tail* work \n",
        "* *less* useful to browse a file (q takes you away from less)\n",
        "* less useful at the end of pipes\n",
        "** cat file.txt | egrep \"cool\" | less\n",
        "\n",
        "### Text editors\n",
        "\n",
        "* emacs file.txt (to get out of emacs, press control+x control+c)\n",
        "\n",
        "* nano file.txt\n"
      ]
    },
    {
      "cell_type": "markdown",
      "metadata": {
        "id": "oCC1YQOxzbdK"
      },
      "source": [
        "## File system\n",
        "\n",
        "• Folders and subfolders similarly to any (Windows or other) machine\n",
        "* Each user has their own home directory (and possible subdirectories)\n",
        "• Here's a nice figure http://unix.stackexchange.com/questions/89114/what-does-the-jargon-filesystem-mean\n",
        "\n",
        "* Moving between directories: `cd` \n",
        "** Upwards:` cd ..`\n",
        "** Downwards: `cd folder`\n",
        "** Upwards and then downwards: `cd ../anotherfolder`\n",
        "* Back to home directory: `cd`\n",
        "---------\n",
        "### Moving files\n",
        "* Downwards:\n",
        "** `cp kukkuu.txt hakemisto/`\n",
        "* Upwards:\n",
        "**` cp kukkuu.txt ../`\n",
        "* Dot (.) means in this context the current directory:\n",
        "** `cp ../kukkkuu.txt .`\n",
        "* Printing the full path: `pwd`\n",
        "** can print from full path to another one\n",
        "** `/home/mavela`\n"
      ]
    },
    {
      "cell_type": "markdown",
      "metadata": {
        "id": "aDWzI0jJ3GxG"
      },
      "source": [
        "\n",
        "### Exercise\n",
        "Try out working on the server. Useful commands can be `mkdir, rmdir, cp, mv, rm` (rmdir and rm go for remove, so remember to be careful!)\n",
        "\n",
        "* Create a directory called `My_directory` to your home folder\n",
        "\n",
        "* Create a file called `myfile.txt` to the folder. Try to write something to it using a text editor.\n",
        "\n",
        "* Create a subdirectory to `My_directory`, and move `myfile.txt` to the subdirectory (you can call it as you wish).\n",
        "\n",
        "* Take a copy of `myfile.txt` and rename it as `backup-of-myfile.txt`\n",
        "\n",
        "* Move `backup-of-myfile.txt` to the subdirectory.\n",
        "\n",
        "* Take a file from Gutenberg and browse it with different methods: `head, tail, cat, less`. Note the differences!\n",
        "\n",
        "* ... And note that text editors are not great for browsing larger files, so avoid that!\n",
        "\n",
        "* Finally, remove all files and directories you created during this exercise. You can check with `ls `if you succeeded!"
      ]
    },
    {
      "cell_type": "markdown",
      "metadata": {
        "id": "w5b4PK0HzmfP"
      },
      "source": [
        "\n",
        "\n",
        "### A NEW COMMAND\n",
        "*tr* is useful for translating individual characters, but for longer strings it's not great.\n",
        "* This is better to do with a small perl script\n",
        "** `perl -pe 's/ORIGINAL/REPLACED/g'`\n",
        "----\n",
        "\n",
        "### Exercise 2\n",
        "\n",
        "* Create a directory for this exercise\n",
        "* Let's use data in `/home/mavela/nltk_data/corpora/brown`\n",
        "* List with `ls` the files in this directory. How many are there?\n",
        "* Copy all the files to your own directory. You can use * from the previous lecture, e.g.\n",
        "\n",
        "```\n",
        "#  cp /home/mavela/nltk_data/corpora/brown/*  mynewfolder \n",
        "```\n",
        "\n",
        "* Once you have the files in your own directory, count the most frequent tokens / strings in all the files\n",
        "* Note that you can cat them all by doing `cat *`\n",
        "* What are the most frequent strings?\n",
        "* How many words the files have alltogether?\n",
        "* Note that now it makes sense to use `less `at the end of the pipe!\n",
        "** ` cat x.txt | egrep \"is\" | less`\n",
        "\n",
        "\n",
        "* More advanced: The tokens are attached to some grammatical tags. Use the `perl -pe ..`. script above to remove those\n",
        "* What are the most frequent words then? What abt the grammatical tags?"
      ]
    }
  ]
}