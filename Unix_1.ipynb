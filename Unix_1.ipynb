{
 "cells": [
  {
   "cell_type": "markdown",
   "metadata": {},
   "source": [
    "# Automaattinen tekstiprosessointi\n",
    "\n",
    "• Mitä teille tulee mieleen?\n",
    "\n",
    "• Mitä olette käyttäneet?\n",
    "\n",
    "• Mitä odotatte tältä kurssilta?\n",
    "\n",
    "• Tällä kurssilla käytetään Unixia\n",
    "\n",
    "\n",
    "# Mikä Unix on?\n",
    "\n",
    "• Kuinka moni on joskus kuullut?\n",
    "\n",
    "• Käyttöjärjestelmä, samoin kuin esim. Windows\n",
    "\n",
    "• Linux-järjestelmät perustuvat Unixiin\n",
    "\n",
    "• Käytetään paljon tekstiaineistojen käsittelyssä\n",
    "\n",
    "    • Paljon pieniä ohjelmia tekstiaineistojen erilaisiin analyyseihin\n",
    "    \n",
    "    • Erittäin näppärä monien tiedoston yhtäaikaiseen käsittelyyn \"tee tämä käsky kaikille näille tiedostoille\"\n",
    "    \n",
    "    • Ohjelmia yhdistämällä erilaisia analyysivaihtoehtoja!\n",
    "    \n",
    "    • Ei “valmista softaa” jonkun tietyn kysymyksen tarkasteluun, vaan rakennuspalikoita\n",
    "\n",
    "• Monet kieliteknologian ohjelmat unix-pohjaisia\n",
    "\n",
    "• Kuinka moni on joskus käyttänyt?\n",
    "\n",
    "    • Ja kuinka moni on siinä jo tosi hyvä?\n",
    "    \n",
    "    • Entä kuka muuten puhuu sujuvaa Javaa / Ceetä tai Pythonia?\n",
    "\n",
    "\n",
    "# Tämän kurssin tavoitteet\n",
    "\n",
    "• Oppia käyttämään Unixia niin, että pystyy \n",
    "\n",
    "    • Lukemaan ohjeita -- GOOGLE ON YSTÄVÄ!\n",
    "    \n",
    "    • Käsittelemään tekstiaineistoja\n",
    "    \n",
    "    • Peruskomennot ja jipot: putket, skriptit ja for loopit\n",
    "    \n",
    "    • Jos aikaa jää, leikitään myös syntaktisesti analysoiduilla aineistoilla\n",
    "\n",
    "# Kurssin suorittaminen\n",
    "\n",
    "• Harjoituskerrat keskiviikkoisin ja torstaisin\n",
    "\n",
    "• To 15.9. ei luentoa\n",
    "\n",
    "• Kurssi suoritetaan tentillä / loppukokeella\n",
    "\n",
    "• Tenttivaihtoehdot to 20.10 ja ke 26.10\n",
    "\n",
    "• Täällä tehdään pieniä ja ehkä isompia harjoituksia, mutta niitä ei arvioida / valvota\n",
    "\n",
    "• Meitä on aika paljon!\n",
    "\n",
    "    • Autetaan kaveria! \n",
    "\n",
    "• Jos tuntuu huomattavan helpolta, voi jättää pari luentoa väliin tai autella kaveria\n",
    "    \n",
    "\n",
    "# Miten Unixia käytetään?\n",
    "\n",
    "• Unixia käytetään komentoriville\n",
    "\n",
    "• Ei graafista käyttöliittymää kuten esim. Windowsissa\n",
    "\n",
    "• Käskyt kirjoitetaan komentoriville, ja painamalla enter kone toteuttaa käskyn (jos osaa)\n",
    "\n",
    "• Komentorivi tulee näkyviin Terminaalilla\n",
    "\n",
    "• Kaksi tapaa avata Terminaali\n",
    "\n",
    "• Linux-kone: Avaa Terminaali valikosta\n",
    "\n",
    "    • Unix-palvelin\n",
    "       \n",
    "    • Yhteys Unix-palvelimeen ohjelman avulla (esim. ssh, Putty)\n",
    "    \n",
    "• Windows-kone\n",
    "\n",
    "    • Avataan terminaali\n",
    "    \n",
    "    • Otetaan yhteys palvelimeen\n",
    "    \n",
    "    • Lisäksi Windowsissa voidaan tarvita graafiset yhteydet avaavaa Xming\n",
    "  \n",
    "    \n",
    "# Käytännön juttuja\n",
    "\n",
    "• Tällä kurssilla Unixia käytetään CSC:n virtuaalipalvelimella (Linux-luokka on aika pieni)\n",
    "\n",
    "• Toivotaan, että toimii!\n",
    "\n",
    "• Tätä varten kaikilla pitäisi olla siellä käyttäjätili ja salasana. Jos palvelin toimii.\n",
    "\n",
    "• NÄMÄ KALVOT TULEVAT / OVAT TÄÄLLÄ: https://github.com/TurkuNLP/ATP_kurssi"
   ]
  },
  {
   "cell_type": "markdown",
   "metadata": {},
   "source": [
    "# Putty ja sisäänkirjautuminen\n",
    "\n",
    "\n",
    "• Ensin pitää käynnistää Xming (löytyy valikosta)\n",
    "\n",
    "    • Xlaunch --> multiple windows --> start no client --> next --> Finish\n",
    "\n",
    "• Putty löytyy koneen Start-valikosta\n",
    "\n",
    "    • Run\n",
    "\n",
    "• Palvelimen nimi vm0964.kaj.pouta.csc.fi (kohtaan host name)\n",
    "\n",
    "    • Lisäksi valitse kohdasta SSH X11 --> enable X11 forwarding\n",
    "\n",
    "• Käyttäjätunnus on oma käyttäjätunnuksesi\n",
    " \n",
    "\n",
    "• salasana on vaihda.USERNAME\n",
    "\n",
    "• Toimiiko?\n",
    "\n",
    "Ulos pääsee muuten esim. käskyllä Control-d tai kirjoittamalla komentoriville \"exit\". Jos kone menee jumiin, kannattaa koittaa käskyä Control-z. \n",
    "\n",
    "HUOM: ISOT JA PIENET KIRJAIMET ON ERI ASIA!"
   ]
  },
  {
   "cell_type": "markdown",
   "metadata": {},
   "source": [
    "# Ovatko kaikki kirjautuneina?"
   ]
  },
  {
   "cell_type": "code",
   "execution_count": 12,
   "metadata": {
    "collapsed": false
   },
   "outputs": [
    {
     "name": "stdout",
     "output_type": "stream",
     "text": [
      "poo\r\n",
      "hii\r\n"
     ]
    }
   ],
   "source": [
    "# tähän voi sit kirjoitella käskyjä\n",
    "\n",
    "# käytännön vinkkejä:\n",
    "\n",
    "# Autocomplete tabilla\n",
    "\n",
    "# Aiemmat komennot nuolinäppäimillä\n",
    "echo poo\n",
    "echo hii"
   ]
  },
  {
   "cell_type": "markdown",
   "metadata": {},
   "source": [
    "# Salasanan vaihto\n",
    "\n",
    "Komennolla  passwd\n",
    "\n",
    "Vaihtakaapa salasananne!"
   ]
  },
  {
   "cell_type": "code",
   "execution_count": 13,
   "metadata": {
    "collapsed": false
   },
   "outputs": [
    {
     "name": "stdout",
     "output_type": "stream",
     "text": [
      "README.md  \u001b[0m\u001b[01;34ms\u001b[0m  Unix_1.ipynb\r\n"
     ]
    }
   ],
   "source": [
    "# Komentoja alkuun pääsemiseksi\n",
    "# list files\n",
    "ls\n",
    "\n",
    "# echo"
   ]
  },
  {
   "cell_type": "code",
   "execution_count": 14,
   "metadata": {
    "collapsed": false
   },
   "outputs": [
    {
     "name": "stdout",
     "output_type": "stream",
     "text": []
    }
   ],
   "source": [
    "# Tiedostojen luonti ja selaus\n",
    "\n",
    "# Periaatteessa echollakin voi luoda tiedostoja\n",
    "\n",
    "# Huom! Tiedoston nimet saa valita itse, mutta toki kannattaa seurata hyviä käytänteitä\n",
    "\n",
    "# Tekstieditoreita: gedit, emacs\n",
    "\n",
    "# rm - remove"
   ]
  },
  {
   "cell_type": "markdown",
   "metadata": {},
   "source": [
    "# Tehtävä 1\n",
    "\n",
    "- Luo tiedosto harjoitus.txt, kirjoita sinne jotain, tallenna ja sulje editori\n",
    "\n",
    "- Selaa tiedostoa vielä lessillä ja catilla. Mitä eroa näillä on?\n",
    "\n",
    "- Tarkista vielä ls-komennolla, että tiedosto on olemassa\n",
    "\n",
    "- Lopuksi poista tiedosto"
   ]
  },
  {
   "cell_type": "markdown",
   "metadata": {},
   "source": [
    " # Unixin tiedostorakenteesta\n",
    "\n",
    "• Tiedostoja ja hakemistoja samaan tapaan kuin Windowsissa\n",
    "\n",
    "• Ks kuvio täällä http://unix.stackexchange.com/questions/89114/what-does-the-jargon-filesystem-mean \n"
   ]
  },
  {
   "cell_type": "code",
   "execution_count": 15,
   "metadata": {
    "collapsed": false
   },
   "outputs": [
    {
     "name": "stdout",
     "output_type": "stream",
     "text": []
    }
   ],
   "source": [
    "# Hakemistojen luonti: mkdir\n",
    "\n",
    "    #alihakemisto1, alihakemisto2\n",
    "\n",
    "# komennolla cd pääsee alihakemistoon\n",
    "\n",
    "    # cd vie takaisin kotihakemistoon\n",
    "    \n",
    "    # saman tekee cd ~\n",
    "\n",
    "    # cd .. (huom väli) vie yhden hakemiston \"ylös\"\n",
    "    \n",
    "    # yhdellä komennolla pääsee niin pitkälle kuin haluaa\n"
   ]
  },
  {
   "cell_type": "code",
   "execution_count": 16,
   "metadata": {
    "collapsed": false
   },
   "outputs": [
    {
     "name": "stdout",
     "output_type": "stream",
     "text": []
    }
   ],
   "source": [
    "# Tiedostojen kopiointi: cp\n",
    "\n",
    "    # esimerkkejä eri suuntiin\n",
    "\n",
    "    # alaspäin hakemistossa\n",
    "\n",
    "    # ylöspäin hakemistoon\n",
    "\n",
    "    # kopioidaan ylempää/alempaa sinne, missä ollaan\n",
    "    \n",
    "    # lopuksi rm:llä voidaan poistaa turhat\n",
    "    \n",
    "    # AUTOCOMPLETE ON AIKA NÄPPÄRÄ!\n",
    "    \n",
    "# Tiedostojen uudelleen nimeäminen ja siirtäminen: mv\n",
    "\n",
    "# rmdir"
   ]
  },
  {
   "cell_type": "code",
   "execution_count": 17,
   "metadata": {
    "collapsed": false
   },
   "outputs": [
    {
     "name": "stdout",
     "output_type": "stream",
     "text": []
    }
   ],
   "source": [
    "# Tiedostojen selailu\n",
    "\n",
    "# cat printtaa koko tiedoston ruudulle\n",
    "\n",
    "# less avaa selailuohjelman, pois pääsee q-kirjaimella\n",
    "\n",
    "# clear putsaa ruudun\n",
    "\n",
    "# head printtaa ainoastaan 10 ensimmäistä riviä\n",
    "\n",
    "# tail printtaa ainoastaan 10 viimeistä riviä\n",
    "\n"
   ]
  },
  {
   "cell_type": "markdown",
   "metadata": {},
   "source": [
    "# Tehtävä 2\n",
    "\n",
    "1. Luo kotihakemistoosi hakemisto Kurssit\n",
    "\n",
    "2. Luo Kurssit-kansioon tiedosto suomeksi.txt, johon voit kirjoittaa tekstiä suomeksi. Kirjoita ainakin 30 riviä, sisältö voi olla mitä vaan. Luo sitten toinen tiedosto, johon kirjoitat pari lausetta jollain mulla kielellä.\n",
    "\n",
    "3. Luo Kurssi-kansioon alahakemisto Tekstiprosessointi, ja siirrä suomeksi.txt sinne\n",
    "\n",
    "4. Luo Tekstiprosessointi-kansioon vielä alahakemisto Varmuuskopiot, ja tee molemmista tiedostoista kopiot sinne\n",
    "\n",
    "4. Siirrä toinen tiedosto vielä suoraan omaan kotihakemistoosi\n",
    "\n",
    "5. Tuhoa se, ja kopioi varmuuskopiosta uusi työstettävä versio kansioon Tekstiprosessointi\n",
    "\n",
    "6. Siirry omaan kotihakemistoosia, ja tuhoa sieltä käsin vielä Varmuuskopio-kansiossa olevat tiedostot, ja lopuksi koko kansio\n",
    "\n",
    "7. Selaile Tekstiprosessointi-kansiossa olevaa suomeksi-tiedostoa eri komennoilla\n"
   ]
  },
  {
   "cell_type": "markdown",
   "metadata": {
    "collapsed": true
   },
   "source": [
    "\n",
    "# Vivut ja ohjeet\n",
    "\n",
    "- Näitä käskyjä ei ole edes tarkoitus opetella kaikkia ulkoa\n",
    "\n",
    "- Google, man-sivut \n",
    "    \n",
    "# Man-sivuilla luetellaan tyypillisesti paljon erilaisia tarkenteita eli vipuja, joita käskyihin voi liittää\n",
    " \n",
    " \n",
    "- esim. head -n 15 [tiedostonimi] printtaakin 15 ekaa riviä\n",
    " \n",
    " \n",
    " "
   ]
  },
  {
   "cell_type": "markdown",
   "metadata": {},
   "source": [
    "# Lisää tiedostojen käsittelyä: grep ja wc\n",
    "\n",
    "- grep etsii ja printtaa tiedostosta tiettyjä sanoja tai merkkijonoja\n",
    "\n",
    "- wc laskee sanoja \n",
    "\n"
   ]
  },
  {
   "cell_type": "code",
   "execution_count": 19,
   "metadata": {
    "collapsed": false
   },
   "outputs": [
    {
     "name": "stdout",
     "output_type": "stream",
     "text": []
    }
   ],
   "source": [
    "# grep poo suomeksi.txt\n",
    "# grep Poo suomeksi.txt\n",
    "\n",
    "# wc suomeksi.txt"
   ]
  },
  {
   "cell_type": "markdown",
   "metadata": {},
   "source": [
    "# Tuotoksen (output) ohjaaminen tiedostoon\n",
    "\n",
    "- komennolla > tai >>\n"
   ]
  },
  {
   "cell_type": "markdown",
   "metadata": {},
   "source": [
    "# Helpompi tehtävä 4\n",
    "\n",
    "- Luo kotihakemistoosi tiedosto, ja kirjoita sinne jotain tekstiä. Toimiiko gedit nyt?\n",
    "\n",
    "- Etsi tiedostosta tiettyjä sanoja. Onnistuuko? Mikä ero on komennoilla grep \"koira\" ja grep \" koira\"?\n",
    "\n",
    "- Kuinka monta riviä ja sanaa tiedostossa on?\n",
    "\n",
    "--------------------------------\n",
    "- Kerrotaan muillekin, mitä vivut -v, -n -c -i tekee.\n",
    "\n",
    "- Kerrotaan muillekin, mitä ls -la tekee."
   ]
  },
  {
   "cell_type": "markdown",
   "metadata": {},
   "source": [
    "# Ekstratehtävä 4\n",
    "\n",
    "- grepin vivuista ainakin -v, -n, -c ja -i ovat näppäriä. Mitä ne tekevät? Entä vivut -B ja -A?\n",
    "\n",
    "- Muistatko, että vipuja voi myös yhdistellä? Mitä tapahtuu vivuilla -niv? Koita!\n",
    "\n",
    "- wc laskee siis tiedoston sanoja, rivejä ja bittejä. Löydätkö tiedon, miten laskea ainoastaan sanoja tai rivejä?\n",
    "\n",
    "\n",
    "\n",
    "- Tutki ls-komennon vipuja esim. man-sivuilta\n",
    "\n",
    "- Mitä ls -l tekee? entä ls -la ? \n",
    "\n",
    "- Entä mitä tekevät käskyt whatis, apropos, history?\n",
    "\n",
    "- Mitä eroa on komennoilla > ja >>?\n"
   ]
  },
  {
   "cell_type": "markdown",
   "metadata": {},
   "source": [
    "# Tiedoston haku Internetistä\n",
    "\n",
    "- wget http://www.gutenberg.org/cache/epub/38533/pg38533.txt   "
   ]
  },
  {
   "cell_type": "markdown",
   "metadata": {},
   "source": [
    "# Helpompi tehtävä 5\n",
    "\n",
    "1. Lataa Talviyön tarinoita kotihakemistoosi\n",
    "\n",
    "2. Luo sitten kotihakemistoosi hakemisto nimeltä Talviyö ja siirrä teksti sinne\n",
    "\n",
    "3. Nimeä teksti jotenkin fiksummin\n",
    "\n",
    "4. Selaile tekstiä. Kenen kirjoittama se on?\n",
    "\n",
    "5. Miten pääset katsomaan tekstin loppuosaa?\n",
    "\n",
    "6. Kuinka monta sanaa / riviä tekstissä on?\n",
    "\n",
    "7. Selaile rivejä, joilla esiintyy sana nainen. Ohjaa ne omaan tiedostoonsa.\n",
    "\n",
    "8. Kuinka monta rivejä on?\n",
    "\n",
    "9. Entä, jos ottaa mukaan myös N-alkuiset? Miten sen voi tehdä? Ohjaa nekin omaan tiedostoonsa. Kuinka monta riviä niitä on?\n",
    "\n",
    "10. Luo vielä näile kahdelle tuotos-tiedostolle alihakemisto, ja siirrä analyysit sinne. "
   ]
  },
  {
   "cell_type": "markdown",
   "metadata": {},
   "source": [
    "# Ekstratehtävä 5\n",
    "\n",
    "- Kansiossa mavela/tviitit on tiedosto tviitteja1.txt täynnä tviittejä. Kopioi se omaan kotihakemistoosi, jonnekin järkevään paikkaan.\n",
    " \n",
    "- Mitä tviitit käsittelevät?\n",
    "    \n",
    "- Kuinka monta tviittiä aineistossa on?\n",
    "\n",
    "- Miten saat printattua pelkästään rivit, joissa mainitaan sana Suomi ? entä Syyria?\n",
    "\n",
    "- Kuinka monessa tviitissä mainitaan sana Suomi? entä suomi? Entä miten saat etsittyä molempia yhdellä käskyllä?\n",
    "   \n",
    "- Kuinka monessa tviitissä ei mainita sanaa maahanmuuttaja?"
   ]
  }
 ],
 "metadata": {
  "kernelspec": {
   "display_name": "Bash",
   "language": "bash",
   "name": "bash"
  },
  "language_info": {
   "codemirror_mode": "shell",
   "file_extension": ".sh",
   "mimetype": "text/x-sh",
   "name": "bash"
  }
 },
 "nbformat": 4,
 "nbformat_minor": 0
}
