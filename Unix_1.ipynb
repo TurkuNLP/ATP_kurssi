{
 "cells": [
  {
   "cell_type": "markdown",
   "metadata": {},
   "source": [
    "# Automaattinen tekstiprosessointi\n",
    "• Mitä olette käyttäneet?\n",
    "• Mitä odotatte tältä kurssilta?\n",
    "• Tällä kurssilla käytetään Unixia\n",
    "\n",
    "\n",
    "# Mikä Unix on?\n",
    "• Käyttöjärjestelmä, samoin kuin esim. Windows\n",
    "• Linux-järjestelmät perustuvat Unixiin\n",
    "• Käytetään paljon tekstiaineistojen käsittelyssä\n",
    "    • Paljon pieniä ohjelmia tekstiaineistojen erilaisiin analyyseihin\n",
    "    • Erittäin näppärä monien tiedoston yhtäaikaiseen käsittelyyn \"tee tämä käsky kaikille näille tiedostoille\"\n",
    "    • Ohjelmia yhdistämällä erilaisia analyysivaihtoehtoja!\n",
    "    • Ei “valmista softaa” jonkun tietyn kysymyksen tarkasteluun, vaan rakennuspalikoita\n",
    "• Monet kieliteknologian ohjelmat unix-pohjaisia\n",
    "• Kuinka moni on joskus käyttänyt?\n",
    "    • Ja kuinka moni on siinä jo tosi hyvä?\n",
    "    • Entä kuka muuten puhuu sujuvaa Javaa / Ceetä tai Pythonia?\n",
    "\n",
    "# Tämän kurssin tavoitteet\n",
    "• Oppia käyttämään Unixia niin, että pystyy \n",
    "    • Lukemaan ohjeita -- GOOGLE ON YSTÄVÄ!\n",
    "    • Käsittelemään tekstiaineistoja\n",
    "    • Peruskomennot ja jipot: putket, skriptit ja for loopit\n",
    "    • Jos aikaa jää, leikitään myös syntaktisesti analysoiduilla aineistoilla\n",
    "\n",
    "\n",
    "# Miten Unixia käytetään?\n",
    "\n",
    "• Unixia käytetään komentoriville\n",
    "• Ei graafista käyttöliittymää kuten esim. Windowsissa\n",
    "• Käskyt kirjoitetaan komentoriville, ja painamalla enter kone toteuttaa käskyn (jos osaa)\n",
    "• Komentorivi tulee näkyviin Terminaalilla\n",
    "• Kaksi tapaa avata Terminaali\n",
    "    • Linux-kone: Avaa Terminaali valikosta\n",
    "    • Unix-palvelin\n",
    "    • Yhteys Unix-palvelimeen ohjelman avulla (esim. ssh, Putty)\n",
    "    • Lisäksi Windowsissa voidaan tarvita graafiset yhteydet avaavaa Xming\n",
    "  \n",
    "    \n",
    "# Käytännön juttuja\n",
    "• Tällä kurssilla Unixia käytetään CSC:n virtuaalipalvelimella (Linux-luokka on aika pieni)\n",
    "• Toivotaan, että toimii!\n",
    "• Tätä varten kaikilla pitäisi olla siellä käyttäjätili ja salasana. Jos palvelin toimii.\n",
    "• Kurssi suoritetaan tentillä / loppukokeella\n",
    "• Täällä tehdään pieniä ja ehkä isompia harjoituksia, mutta niitä ei arvioida / valvota\n",
    "\n"
   ]
  },
  {
   "cell_type": "markdown",
   "metadata": {},
   "source": [
    "# Putty ja sisäänkirjautuminen\n",
    "Yritetään! Ulos pääsee muuten esim. käskyllä Control-d tai kirjoittamalla komentoriville \"exit\". Jos kone menee jumiin, kannattaa koittaa käskyä Control-z. \n",
    "\n",
    "HUOM: ISOT JA PIENET KIRJAIMET ON ERI ASIA!"
   ]
  },
  {
   "cell_type": "markdown",
   "metadata": {},
   "source": [
    "# Ovatko kaikki kirjautuneina?"
   ]
  },
  {
   "cell_type": "code",
   "execution_count": 1,
   "metadata": {
    "collapsed": false
   },
   "outputs": [
    {
     "name": "stdout",
     "output_type": "stream",
     "text": [
      "poo\r\n",
      "hii\r\n"
     ]
    }
   ],
   "source": [
    "# tähän voi sit kirjoitella käskyjä\n",
    "# käytännön vinkkejä:\n",
    "# Autocomplete tabilla\n",
    "# Aiemmat komennot nuolinäppäimillä\n",
    "echo poo\n",
    "echo hii"
   ]
  },
  {
   "cell_type": "code",
   "execution_count": 3,
   "metadata": {
    "collapsed": false
   },
   "outputs": [
    {
     "name": "stdout",
     "output_type": "stream",
     "text": [
      "d  Unix_1.ipynb\r\n",
      "/home/jupyter/jupyter-notebooks/ATP_kurssi\r\n",
      "toimiiko"
     ]
    }
   ],
   "source": [
    "# Komentoja alkuun pääsemiseksi\n",
    "ls\n",
    "pwd\n",
    "# mkdir, rmdir\n",
    "# cd, cd .., cd hakemisto\n",
    "# emacs x, rm, mv\n",
    "# cp \n",
    "cat d"
   ]
  },
  {
   "cell_type": "markdown",
   "metadata": {},
   "source": [
    "# Unixin tiedostorakenteesta\n",
    "\n",
    "• Tiedostoja ja hakemistoja samaan tapaan kuin Windowsissa\n",
    "• Ks kuvio täällä http://www.ee.surrey.ac.uk/Teaching/Unix/unixintro.html"
   ]
  }
 ],
 "metadata": {
  "kernelspec": {
   "display_name": "Bash",
   "language": "bash",
   "name": "bash"
  },
  "language_info": {
   "codemirror_mode": "shell",
   "file_extension": ".sh",
   "mimetype": "text/x-sh",
   "name": "bash"
  }
 },
 "nbformat": 4,
 "nbformat_minor": 0
}
