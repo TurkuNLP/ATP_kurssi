{
 "cells": [
  {
   "cell_type": "markdown",
   "metadata": {},
   "source": [
    "# Automaattinen tekstiprosessointi\n",
    "\n",
    "• Tervetuloa opiskelemaan kieliteknologiaa!\n",
    "\n",
    "• Yksi kokonaisuuden viidestä kurssista\n",
    "\n",
    "• Tämän kurssin tavoitteena on opetella käsittelemään ja prosessoimaan laajoja tekstiaineistoja\n",
    "\n",
    "    • Siirtelemään, kopiomaan, muokkaamaan, analysoimaan, laskemaan\n",
    "    • Mitkä ovat tiedostojen yleisimmät sanat?\n",
    "    • Missä tiedostoissa esiintyy sana \"hallitus\"? Tai \"jippii?\"?\n",
    "    • Kuinka monta kertaa tiedostossa esiintyy sana \"pinkki\"?\n",
    "    • Kuinka monta kertaa esiintyy \"pin\"-alkuinen sana? \n",
    "    • Miten esim. syntaksianalyysiohjelmaa voi käsitellä komentoriviltä, monelle tiedostolle kerrallaan, ja miten syntaksianalysoituja tiedostoja voi käsitellä?\n",
    "    \n",
    "• ... Tämä kaikki tehdään Unixilla\n",
    "\n",
    "\n",
    "# Mikä Unix on?\n",
    "\n",
    "• Kuinka moni on joskus kuullut?\n",
    "\n",
    "• Käyttöjärjestelmä, samoin kuin esim. Windows\n",
    "\n",
    "• Linux-järjestelmät perustuvat Unixiin\n",
    "\n",
    "• Käytetään paljon tekstiaineistojen käsittelyssä\n",
    "\n",
    "    • Paljon pieniä ohjelmia tekstiaineistojen erilaisiin analyyseihin\n",
    "    • Erittäin näppärä monien tiedoston yhtäaikaiseen käsittelyyn \"tee tämä käsky kaikille näille tiedostoille\"\n",
    "    • Ohjelmia yhdistämällä erilaisia analyysivaihtoehtoja!\n",
    "    • Ei “valmista softaa” jonkun tietyn kysymyksen tarkasteluun, vaan rakennuspalikoita\n",
    "\n",
    "• Monet kieliteknologian ohjelmat unix-pohjaisia\n",
    "\n",
    "• Kuinka moni on joskus käyttänyt?\n",
    "\n",
    "    • Ja kuinka moni on siinä jo tosi hyvä?\n",
    "    • Entä kuka muuten puhuu sujuvaa Javaa / Ceetä tai Pythonia?\n",
    "\n",
    "\n",
    "# Tämän kurssin tavoitteet\n",
    "\n",
    "• Oppia käyttämään Unixia niin, että pystyy \n",
    "\n",
    "    • Lukemaan ohjeita -- GOOGLE ON YSTÄVÄ! (mutta multa/kaverilta saa myös kysyä!)\n",
    "    • Käsittelemään tekstiaineistoja\n",
    "    • Peruskomennot ja jipot: putket, skriptit ja for loopit\n",
    "    • Jos aikaa jää, leikitään myös syntaktisesti analysoiduilla aineistoilla\n",
    "    \n",
    "# Toiveita? Odotuksia?\n",
    "\n",
    "• Mitä olette käyttäneet?\n",
    "\n",
    "• Mitä odotatte tältä kurssilta?\n",
    "\n",
    "\n",
    "# Kurssin suorittaminen\n",
    "\n",
    "• Harjoituskerrat keskiviikkoisin ja torstaisin\n",
    "\n",
    "• Kurssi suoritetaan tentillä = loppukokeella\n",
    "\n",
    "• • 1. tentti 19.10, loput tentit sovitaan myöhemmin\n",
    "\n",
    "• Täällä tehdään pieniä ja ehkä isompia harjoituksia, mutta niitä ei arvioida / valvota\n",
    "\n",
    "• Läsnäolopakkoa ei ole, mutta...\n",
    "\n",
    "• Meitä on aika paljon!\n",
    "\n",
    "    • Autetaan kaveria! \n",
    "\n",
    "• Luennolla helpompia ja vaikeampia harjoituksia\n",
    "\n",
    "• Tarkistetaan ainakin helpommat harjoitukset joka kerran päätteeksi\n",
    "\n",
    "• Jos tuntuu huomattavan helpolta, voi jättää pari luentoa väliin tai autella kaveria\n",
    "    \n",
    "\n",
    "# Miten Unixia käytetään?\n",
    "\n",
    "• Unixia käytetään komentoriviltä\n",
    "\n",
    "• Ei graafista käyttöliittymää kuten esim. Windowsissa\n",
    "\n",
    "• Käskyt kirjoitetaan komentoriville, ja painamalla enter kone toteuttaa käskyn (jos osaa)\n",
    "\n",
    "• Komentorivi tulee näkyviin Terminaalilla\n",
    "\n",
    "• Kaksi tapaa avata Terminaali\n",
    "\n",
    "• Linux-kone: Avaa Terminaali valikosta\n",
    "    • Terminaali toimii suoraan koneella\n",
    "    • Unix-palvelin\n",
    "    • Yhteys Unix-palvelimeen ohjelman avulla Terminaalin avulla\n",
    "    \n",
    "• Windows-kone\n",
    "\n",
    "    • Tarvitaan ohjelma, joka ottaa yhteyden Unix-palvelimeen\n",
    "    • esim. Putty, ssh \n",
    "    • Lisäksi Windowsissa voidaan tarvita graafiset yhteydet avaavaa Xming\n",
    "  \n",
    "    \n",
    "# Käytännön juttuja\n",
    "\n",
    "• Tällä kurssilla Unixia käytetään CSC:n virtuaalipalvelimella\n",
    "\n",
    "• Toivotaan, että toimii!\n",
    "\n",
    "• Tätä varten kaikilla pitäisi olla siellä käyttäjätili ja salasana. Jos palvelin toimii.\n",
    "\n",
    "• NÄMÄ KALVOT TULEVAT / OVAT TÄÄLLÄ: https://github.com/TurkuNLP/ATP_kurssi"
   ]
  },
  {
   "cell_type": "markdown",
   "metadata": {},
   "source": [
    "# Putty ja sisäänkirjautuminen\n",
    "\n",
    "\n",
    "• Ensin pitää käynnistää Xming (löytyy valikosta)\n",
    "\n",
    "    • Xlaunch --> multiple windows --> start no client --> next --> Finish\n",
    "\n",
    "• Putty löytyy koneen Start-valikosta\n",
    "\n",
    "    • Run\n",
    "\n",
    "• Palvelimen nimi vm0964.kaj.pouta.csc.fi (kohtaan host name)\n",
    "\n",
    "    • Lisäksi valitse kohdasta SSH X11 --> enable X11 forwarding\n",
    "\n",
    "• Käyttäjätunnus on oma käyttäjätunnuksesi\n",
    " \n",
    "\n",
    "• salasana on vaihda.USERNAME\n",
    "\n",
    "• Toimiiko?\n",
    "\n",
    "Ulos pääsee muuten esim. käskyllä Control-d tai kirjoittamalla komentoriville \"exit\". Jos kone menee jumiin, kannattaa koittaa käskyä Control-c. \n",
    "\n",
    "HUOM: ISOT JA PIENET KIRJAIMET ON ERI ASIA!"
   ]
  },
  {
   "cell_type": "markdown",
   "metadata": {},
   "source": [
    "# Ovatko kaikki kirjautuneina?"
   ]
  },
  {
   "cell_type": "code",
   "execution_count": 24,
   "metadata": {
    "collapsed": false
   },
   "outputs": [
    {
     "name": "stdout",
     "output_type": "stream",
     "text": [
      "poo\r\n",
      "hooo\r\n",
      "hihhii\r\n"
     ]
    }
   ],
   "source": [
    "# tähän voi sit kirjoitella käskyjä\n",
    "\n",
    "# käytännön vinkkejä:\n",
    "\n",
    "# Autocomplete tabilla\n",
    "\n",
    "# Aiemmat komennot nuolinäppäimillä\n",
    "echo poo\n",
    "echo hooo\n",
    "echo hihhii"
   ]
  },
  {
   "cell_type": "markdown",
   "metadata": {},
   "source": [
    "# Salasanan vaihto\n",
    "\n",
    "Komennolla  passwd\n",
    "\n",
    "Vaihtakaapa salasananne!\n",
    "\n",
    "# Komentoja alkuun pääsemiseksi: ls, emacs, nano, cat, less, rm"
   ]
  },
  {
   "cell_type": "code",
   "execution_count": 25,
   "metadata": {
    "collapsed": false
   },
   "outputs": [
    {
     "name": "stdout",
     "output_type": "stream",
     "text": [
      "\u001b[0m\u001b[01;34m2016\u001b[0m  README.md  Unix_1.ipynb  Untitled1.ipynb  \u001b[01;34malihakemisto1\u001b[0m\r\n"
     ]
    }
   ],
   "source": [
    "\n",
    "##list files\n",
    "ls\n",
    "\n",
    "## printtaa ruudulle\n",
    "#echo \"LS\"\n",
    "\n",
    "## tekstieditoreita ovat esim. gedit, emacs ja nano\n",
    "\n",
    "# nano muntiedosto.txt\n",
    "\n",
    "# emacs tama.txt\n",
    "# emacs tallentaa komennolla control+x control+s\n",
    "# emacsista pääsee pois komennolla control+x control+c\n",
    "# myös control +z päästää pois, muttei tallenna...\n",
    "\n",
    "## Tiedostojen nimet saa valita itse, mutta toki kannattaa seurata hyviä käytänteitä: ei ääkkösiä, oikeat tiedostopäätteet\n",
    "\n",
    "## nyt meillä onkin jo yllä luodut tiedostot valikossa:\n",
    "# ls\n",
    "\n",
    "## olemassaolevia tiedostoja voi selailla less-komennolla\n",
    "# less tama.txt\n",
    "\n",
    "## myös cat toimii\n",
    "# cat tama.txt\n",
    "\n",
    "## tiedostoja voi poistaa käskyllä rm\n",
    "# rm tama.txt\n",
    "#ls"
   ]
  },
  {
   "cell_type": "markdown",
   "metadata": {},
   "source": [
    "# Tehtävä 1\n",
    "\n",
    "- Luo tiedosto harjoitus.txt, kirjoita sinne jotain, tallenna ja sulje editori\n",
    "\n",
    "- Selaa tiedostoa vielä lessillä ja catilla. Mitä eroa näillä on?\n",
    "\n",
    "- Tarkista vielä ls-komennolla, että tiedosto on olemassa\n",
    "\n",
    "- Lopuksi poista tiedosto"
   ]
  },
  {
   "cell_type": "markdown",
   "metadata": {},
   "source": [
    "# Lisätehtävä\n",
    "Vertaile eri tekstieditoreja. Mikä on sinun mielestäsi paras?"
   ]
  },
  {
   "cell_type": "markdown",
   "metadata": {},
   "source": [
    " # Unixin tiedostorakenteesta\n",
    "\n",
    "• Tiedostoja ja hakemistoja samaan tapaan kuin Windowsissa\n",
    "\n",
    "• Ks kuvio täällä http://unix.stackexchange.com/questions/89114/what-does-the-jargon-filesystem-mean \n",
    "\n",
    "# Hakemistojen luonti ja hakemistojen välillä liikkuminen: cd, mkdir, rmdir"
   ]
  },
  {
   "cell_type": "code",
   "execution_count": 38,
   "metadata": {
    "collapsed": false
   },
   "outputs": [
    {
     "name": "stdout",
     "output_type": "stream",
     "text": [
      "\u001b[0m\u001b[01;34mjupyter-notebooks\u001b[0m  jupyter_process.log  output.txt  t.txt  t.txt~\r\n"
     ]
    }
   ],
   "source": [
    "\n",
    "#cd /home/jupyter/jupyter-notebooks/ATP_kurssi\n",
    "\n",
    "## Hakemistojen luonti: mkdir\n",
    "\n",
    "# mkdir alihakemisto1\n",
    "\n",
    "#ls\n",
    "    \n",
    "## komennolla cd alihakemisto1 pääsee alihakemistoon 1\n",
    "\n",
    "#cd alihakemisto1\n",
    "\n",
    "#ls\n",
    "\n",
    "## cd tai cd ~ vie takaisin kotihakemistoon\n",
    "#cd \n",
    "#ls"
   ]
  },
  {
   "cell_type": "code",
   "execution_count": null,
   "metadata": {
    "collapsed": true
   },
   "outputs": [],
   "source": [
    "## cd .. (huom väli) vie yhden hakemiston \"ylös\"\n",
    "    \n",
    "## yhdellä komennolla pääsee niin pitkälle kuin haluaa\n",
    "\n",
    "# cd alihakemisto1/alihakemisto2/\n",
    "# ls\n",
    "# cd ../.."
   ]
  },
  {
   "cell_type": "markdown",
   "metadata": {},
   "source": [
    "# Kopiointi ja siirtely: cp, mv"
   ]
  },
  {
   "cell_type": "code",
   "execution_count": 40,
   "metadata": {
    "collapsed": false
   },
   "outputs": [
    {
     "name": "stdout",
     "output_type": "stream",
     "text": [
      "\u001b[0m\u001b[01;34m2016\u001b[0m  README.md  Unix_1.ipynb  Untitled1.ipynb\r\n"
     ]
    }
   ],
   "source": [
    "## Tiedostojen kopiointi: cp\n",
    "\n",
    "## esimerkkejä eri suuntiin\n",
    "\n",
    "## alaspäin hakemistossa\n",
    "cp kukkuu.txt hakemisto/\n",
    "\n",
    "## ylöspäin hakemistoon\n",
    "cp kukkuu.txt ../\n",
    "\n",
    "## kopioidaan ylempää/alempaa sinne, missä ollaan. PISTE tarkoittaa tässä komennossa tiedostoa\n",
    "cp ../kukkkuu.txt .\n",
    "\n",
    "\n",
    "## lopuksi rm:llä voidaan poistaa turhat\n",
    "\n",
    "\n",
    "## AUTOCOMPLETE ON AIKA NÄPPÄRÄ!\n",
    "    \n",
    "## Tiedostojen uudelleen nimeäminen ja siirtäminen: mv\n",
    "## toimii samalla tavalla kuin cp\n",
    "\n",
    "mv ../kukkuu.txt .\n",
    "mv kukkuu.txt hakemisto/\n",
    "\n",
    "## rmdir\n",
    "## poistaa hakemiston"
   ]
  },
  {
   "cell_type": "markdown",
   "metadata": {},
   "source": [
    "# cp ja mv uudelleen nimeämiseen\n",
    "\n",
    "- kopioi uuden nimiseen tiedostoon (vähän niin kuin save as):\n",
    "cp a.txt b.txt\n",
    "\n",
    "- vaihda nimeä:\n",
    "mv a.txt b.txt"
   ]
  },
  {
   "cell_type": "markdown",
   "metadata": {
    "collapsed": false
   },
   "source": [
    "## Lisäkomentoja: clear, head, tail\n",
    "\n",
    "- clear putsaa ruudun\n",
    "\n",
    "- head printtaa ainoastaan 10 ensimmäistä riviä\n",
    "\n",
    "head hakemisto/kukkuu.txt\n",
    "\n",
    "- tail printtaa ainoastaan 10 viimeistä riviä\n",
    " tail kukkuu.txt\n",
    " "
   ]
  },
  {
   "cell_type": "markdown",
   "metadata": {},
   "source": [
    "# Tehtävä 2\n",
    "\n",
    "1. Luo kotihakemistoosi hakemisto Kurssit\n",
    "\n",
    "2. Luo Kurssit-kansioon tiedosto suomeksi.txt, johon voit kirjoittaa tekstiä suomeksi. Kirjoita ainakin 30 riviä, sisältö voi olla mitä vaan. \n",
    "\n",
    "3. Luo Kurssi-kansioon alahakemisto Tekstiprosessointi, ja siirrä suomeksi.txt sinne\n",
    "\n",
    "4. Luo Tekstiprosessointi-kansioon vielä alahakemisto Varmuuskopiot, tee tiedostosta suomeksi.txt varmuuskopio suomeksi-bu.txt, ja siirrä suomeksi-bu.txt varmuuskopiot-kansioon\n",
    "\n",
    "5. Selaile suomeksi.txt -tiedostoa. Koita eri tapoja: less, cat, head, tail Milloin head ja tail on näppäriä?\n",
    "\n",
    "6. Tuhoa suomeksi.txt, ja kopioi varmuuskopiosta uusi työstettävä versio kansioon Tekstiprosessointi\n",
    "\n",
    "7. Siirry omaan kotihakemistoosia, ja tuhoa sieltä käsin vielä Varmuuskopio-kansiossa olevat tiedostot, ja lopuksi koko kansio\n",
    "\n"
   ]
  }
 ],
 "metadata": {
  "kernelspec": {
   "display_name": "Bash",
   "language": "bash",
   "name": "bash"
  },
  "language_info": {
   "codemirror_mode": "shell",
   "file_extension": ".sh",
   "mimetype": "text/x-sh",
   "name": "bash"
  }
 },
 "nbformat": 4,
 "nbformat_minor": 0
}
