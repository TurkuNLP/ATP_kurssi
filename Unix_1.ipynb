{
 "cells": [
  {
   "cell_type": "markdown",
   "metadata": {},
   "source": [
    "# Automaattinen tekstiprosessointi\n",
    "\n",
    "• Tervetuloa opiskelemaan kieliteknologiaa!\n",
    "\n",
    "• Yksi kokonaisuuden viidestä kurssista\n",
    "\n",
    "• Tämän kurssin tavoitteena on opetella käsittelemään ja prosessoimaan laajoja tekstiaineistoja\n",
    "\n",
    "    • Siirtelemään, kopiomaan, muokkaamaan, analysoimaan, laskemaan\n",
    "    • Mitkä ovat tiedostojen yleisimmät sanat?\n",
    "    • Missä tiedostoissa esiintyy sana \"hallitus\"? Tai \"jippii?\"?\n",
    "    • Kuinka monta kertaa tiedostossa esiintyy sana \"pinkki\"?\n",
    "    • Kuinka monta kertaa esiintyy \"pin\"-alkuinen sana? \n",
    "    • Miten esim. syntaksianalyysiohjelmaa voi käsitellä komentoriviltä, monelle tiedostolle kerrallaan, ja miten syntaksianalysoituja tiedostoja voi käsitellä?\n",
    "    \n",
    "• ... Tämä kaikki tehdään Unixilla\n",
    "\n",
    "\n",
    "# Mikä Unix on?\n",
    "\n",
    "• Kuinka moni on joskus kuullut?\n",
    "\n",
    "• Käyttöjärjestelmä, samoin kuin esim. Windows\n",
    "\n",
    "• Linux-järjestelmät perustuvat Unixiin\n",
    "\n",
    "• Käytetään paljon tekstiaineistojen käsittelyssä\n",
    "\n",
    "    • Paljon pieniä ohjelmia tekstiaineistojen erilaisiin analyyseihin\n",
    "    • Erittäin näppärä monien tiedoston yhtäaikaiseen käsittelyyn \"tee tämä käsky kaikille näille tiedostoille\"\n",
    "    • Ohjelmia yhdistämällä erilaisia analyysivaihtoehtoja!\n",
    "    • Ei “valmista softaa” jonkun tietyn kysymyksen tarkasteluun, vaan rakennuspalikoita\n",
    "\n",
    "• Monet kieliteknologian ohjelmat unix-pohjaisia\n",
    "\n",
    "• Kuinka moni on joskus käyttänyt?\n",
    "\n",
    "    • Ja kuinka moni on siinä jo tosi hyvä?\n",
    "    • Entä kuka muuten puhuu sujuvaa Javaa / Ceetä tai Pythonia?\n",
    "\n",
    "\n",
    "# Tämän kurssin tavoitteet\n",
    "\n",
    "• Oppia käyttämään Unixia niin, että pystyy \n",
    "\n",
    "    • Lukemaan ohjeita -- GOOGLE ON YSTÄVÄ! (mutta multa/kaverilta saa myös kysyä!)\n",
    "    • Käsittelemään tekstiaineistoja\n",
    "    • Peruskomennot ja jipot: putket, skriptit ja for loopit\n",
    "    • Jos aikaa jää, leikitään myös syntaktisesti analysoiduilla aineistoilla\n",
    "    \n",
    "# Toiveita? Odotuksia?\n",
    "\n",
    "• Mitä olette käyttäneet?\n",
    "\n",
    "• Mitä odotatte tältä kurssilta?\n",
    "\n",
    "\n",
    "# Kurssin suorittaminen\n",
    "\n",
    "• Harjoituskerrat keskiviikkoisin ja torstaisin\n",
    "\n",
    "• Kurssi suoritetaan tentillä = loppukokeella\n",
    "\n",
    "• • 1. tentti 19.10, loput tentit sovitaan myöhemmin\n",
    "\n",
    "• Täällä tehdään pieniä ja ehkä isompia harjoituksia, mutta niitä ei arvioida / valvota\n",
    "\n",
    "• Läsnäolopakkoa ei ole, mutta...\n",
    "\n",
    "• Meitä on aika paljon!\n",
    "\n",
    "    • Autetaan kaveria! \n",
    "\n",
    "• Luennolla helpompia ja vaikeampia harjoituksia\n",
    "\n",
    "• Tarkistetaan ainakin helpommat harjoitukset joka kerran päätteeksi\n",
    "\n",
    "• Jos tuntuu huomattavan helpolta, voi jättää pari luentoa väliin tai autella kaveria\n",
    "    \n",
    "\n",
    "# Miten Unixia käytetään?\n",
    "\n",
    "• Unixia käytetään komentoriville\n",
    "\n",
    "• Ei graafista käyttöliittymää kuten esim. Windowsissa\n",
    "\n",
    "• Käskyt kirjoitetaan komentoriville, ja painamalla enter kone toteuttaa käskyn (jos osaa)\n",
    "\n",
    "• Komentorivi tulee näkyviin Terminaalilla\n",
    "\n",
    "• Kaksi tapaa avata Terminaali\n",
    "\n",
    "• Linux-kone: Avaa Terminaali valikosta\n",
    "    • Terminaali toimii suoraan koneella\n",
    "    • Unix-palvelin\n",
    "    • Yhteys Unix-palvelimeen ohjelman avulla Terminaalin avulla\n",
    "    \n",
    "• Windows-kone\n",
    "\n",
    "    • Tarvitaan ohjelma, joka ottaa yhteyden Unix-palvelimeen\n",
    "    • esim. Putty, ssh \n",
    "    • Lisäksi Windowsissa voidaan tarvita graafiset yhteydet avaavaa Xming\n",
    "  \n",
    "    \n",
    "# Käytännön juttuja\n",
    "\n",
    "• Tällä kurssilla Unixia käytetään CSC:n virtuaalipalvelimella\n",
    "\n",
    "• Toivotaan, että toimii!\n",
    "\n",
    "• Tätä varten kaikilla pitäisi olla siellä käyttäjätili ja salasana. Jos palvelin toimii.\n",
    "\n",
    "• NÄMÄ KALVOT TULEVAT / OVAT TÄÄLLÄ: https://github.com/TurkuNLP/ATP_kurssi"
   ]
  },
  {
   "cell_type": "markdown",
   "metadata": {},
   "source": [
    "# Putty ja sisäänkirjautuminen\n",
    "\n",
    "\n",
    "• Ensin pitää käynnistää Xming (löytyy valikosta)\n",
    "\n",
    "    • Xlaunch --> multiple windows --> start no client --> next --> Finish\n",
    "\n",
    "• Putty löytyy koneen Start-valikosta\n",
    "\n",
    "    • Run\n",
    "\n",
    "• Palvelimen nimi vm0964.kaj.pouta.csc.fi (kohtaan host name)\n",
    "\n",
    "    • Lisäksi valitse kohdasta SSH X11 --> enable X11 forwarding\n",
    "\n",
    "• Käyttäjätunnus on oma käyttäjätunnuksesi\n",
    " \n",
    "\n",
    "• salasana on vaihda.USERNAME\n",
    "\n",
    "• Toimiiko?\n",
    "\n",
    "Ulos pääsee muuten esim. käskyllä Control-d tai kirjoittamalla komentoriville \"exit\". Jos kone menee jumiin, kannattaa koittaa käskyä Control-c. \n",
    "\n",
    "HUOM: ISOT JA PIENET KIRJAIMET ON ERI ASIA!"
   ]
  },
  {
   "cell_type": "markdown",
   "metadata": {},
   "source": [
    "# Ovatko kaikki kirjautuneina?"
   ]
  },
  {
   "cell_type": "code",
   "execution_count": 24,
   "metadata": {
    "collapsed": false
   },
   "outputs": [
    {
     "name": "stdout",
     "output_type": "stream",
     "text": [
      "poo\r\n",
      "hooo\r\n",
      "hihhii\r\n"
     ]
    }
   ],
   "source": [
    "# tähän voi sit kirjoitella käskyjä\n",
    "\n",
    "# käytännön vinkkejä:\n",
    "\n",
    "# Autocomplete tabilla\n",
    "\n",
    "# Aiemmat komennot nuolinäppäimillä\n",
    "echo poo\n",
    "echo hooo\n",
    "echo hihhii"
   ]
  },
  {
   "cell_type": "markdown",
   "metadata": {},
   "source": [
    "# Salasanan vaihto\n",
    "\n",
    "Komennolla  passwd\n",
    "\n",
    "Vaihtakaapa salasananne!\n",
    "\n",
    "# Komentoja alkuun pääsemiseksi"
   ]
  },
  {
   "cell_type": "code",
   "execution_count": 25,
   "metadata": {
    "collapsed": false
   },
   "outputs": [
    {
     "name": "stdout",
     "output_type": "stream",
     "text": [
      "\u001b[0m\u001b[01;34m2016\u001b[0m  README.md  Unix_1.ipynb  Untitled1.ipynb  \u001b[01;34malihakemisto1\u001b[0m\r\n"
     ]
    }
   ],
   "source": [
    "\n",
    "#list files\n",
    "ls\n",
    "\n",
    "# printtaa ruudulle\n",
    "#echo \"LS\"\n",
    "\n",
    "# tekstieditoreita ovat esim. gedit, emacs ja nano\n",
    "\n",
    "# nano muntiedosto.txt\n",
    "\n",
    "# emacs tama.txt\n",
    "\n",
    "# Tiedostojen nimet saa valita itse, mutta toki kannattaa seurata hyviä käytänteitä: ei ääkkösiä, oikeat tiedostopäätteet\n",
    "\n",
    "# nyt meillä onkin jo yllä luodut tiedostot valikossa:\n",
    "# ls\n",
    "\n",
    "# olemassaolevia tiedostoja voi selailla less-komennolla\n",
    "# less\n",
    "\n",
    "# myös cat toimii\n",
    "# cat\n",
    "\n",
    "# tiedostoja voi poistaa käskyllä rm\n",
    "# rm"
   ]
  },
  {
   "cell_type": "markdown",
   "metadata": {},
   "source": [
    "# Tehtävä 1\n",
    "\n",
    "- Luo tiedosto harjoitus.txt, kirjoita sinne jotain, tallenna ja sulje editori\n",
    "\n",
    "- Selaa tiedostoa vielä lessillä ja catilla. Mitä eroa näillä on?\n",
    "\n",
    "- Tarkista vielä ls-komennolla, että tiedosto on olemassa\n",
    "\n",
    "- Lopuksi poista tiedosto"
   ]
  },
  {
   "cell_type": "markdown",
   "metadata": {},
   "source": [
    " # Unixin tiedostorakenteesta\n",
    "\n",
    "• Tiedostoja ja hakemistoja samaan tapaan kuin Windowsissa\n",
    "\n",
    "• Ks kuvio täällä http://unix.stackexchange.com/questions/89114/what-does-the-jargon-filesystem-mean \n",
    "\n",
    "# Hakemistojen luonti ja hakemistojen välillä liikkuminen"
   ]
  },
  {
   "cell_type": "code",
   "execution_count": 38,
   "metadata": {
    "collapsed": false
   },
   "outputs": [
    {
     "name": "stdout",
     "output_type": "stream",
     "text": [
      "\u001b[0m\u001b[01;34mjupyter-notebooks\u001b[0m  jupyter_process.log  output.txt  t.txt  t.txt~\r\n"
     ]
    }
   ],
   "source": [
    "\n",
    "#cd /home/jupyter/jupyter-notebooks/ATP_kurssi\n",
    "\n",
    "## Hakemistojen luonti: mkdir\n",
    "\n",
    "# mkdir alihakemisto1\n",
    "\n",
    "#ls\n",
    "    \n",
    "## komennolla cd alihakemisto1 pääsee alihakemistoon 1\n",
    "\n",
    "#cd alihakemisto1\n",
    "\n",
    "#ls\n",
    "\n",
    "## cd tai cd ~ vie takaisin kotihakemistoon\n",
    "#cd \n",
    "#ls"
   ]
  },
  {
   "cell_type": "code",
   "execution_count": null,
   "metadata": {
    "collapsed": true
   },
   "outputs": [],
   "source": [
    "## cd .. (huom väli) vie yhden hakemiston \"ylös\"\n",
    "    \n",
    "## yhdellä komennolla pääsee niin pitkälle kuin haluaa\n",
    "\n",
    "#cd alihakemisto1/alihakemisto2/\n",
    "#ls\n",
    "#cd ../.."
   ]
  },
  {
   "cell_type": "code",
   "execution_count": 27,
   "metadata": {
    "collapsed": false
   },
   "outputs": [
    {
     "name": "stdout",
     "output_type": "stream",
     "text": []
    }
   ],
   "source": [
    "# Tiedostojen kopiointi: cp\n",
    "\n",
    "    # esimerkkejä eri suuntiin\n",
    "\n",
    "    # alaspäin hakemistossa\n",
    "\n",
    "    # ylöspäin hakemistoon\n",
    "\n",
    "    # kopioidaan ylempää/alempaa sinne, missä ollaan\n",
    "    \n",
    "    # lopuksi rm:llä voidaan poistaa turhat\n",
    "    \n",
    "    # AUTOCOMPLETE ON AIKA NÄPPÄRÄ!\n",
    "    \n",
    "# Tiedostojen uudelleen nimeäminen ja siirtäminen: mv\n",
    "\n",
    "# rmdir"
   ]
  },
  {
   "cell_type": "code",
   "execution_count": 28,
   "metadata": {
    "collapsed": false
   },
   "outputs": [
    {
     "name": "stdout",
     "output_type": "stream",
     "text": []
    }
   ],
   "source": [
    "# Tiedostojen selailu\n",
    "\n",
    "# cat printtaa koko tiedoston ruudulle\n",
    "\n",
    "# less avaa selailuohjelman, pois pääsee q-kirjaimella\n",
    "\n",
    "# clear putsaa ruudun\n",
    "\n",
    "# head printtaa ainoastaan 10 ensimmäistä riviä\n",
    "\n",
    "# tail printtaa ainoastaan 10 viimeistä riviä\n",
    "\n"
   ]
  },
  {
   "cell_type": "markdown",
   "metadata": {},
   "source": [
    "# Tehtävä 2\n",
    "\n",
    "1. Luo kotihakemistoosi hakemisto Kurssit\n",
    "\n",
    "2. Luo Kurssit-kansioon tiedosto suomeksi.txt, johon voit kirjoittaa tekstiä suomeksi. Kirjoita ainakin 30 riviä, sisältö voi olla mitä vaan. Luo sitten toinen tiedosto, johon kirjoitat pari lausetta jollain mulla kielellä.\n",
    "\n",
    "3. Luo Kurssi-kansioon alahakemisto Tekstiprosessointi, ja siirrä suomeksi.txt sinne\n",
    "\n",
    "4. Luo Tekstiprosessointi-kansioon vielä alahakemisto Varmuuskopiot, ja tee molemmista tiedostoista kopiot sinne\n",
    "\n",
    "4. Siirrä toinen tiedosto vielä suoraan omaan kotihakemistoosi\n",
    "\n",
    "5. Tuhoa se, ja kopioi varmuuskopiosta uusi työstettävä versio kansioon Tekstiprosessointi\n",
    "\n",
    "6. Siirry omaan kotihakemistoosia, ja tuhoa sieltä käsin vielä Varmuuskopio-kansiossa olevat tiedostot, ja lopuksi koko kansio\n",
    "\n",
    "7. Selaile Tekstiprosessointi-kansiossa olevaa suomeksi-tiedostoa eri komennoilla\n"
   ]
  },
  {
   "cell_type": "markdown",
   "metadata": {
    "collapsed": true
   },
   "source": [
    "\n",
    "# Vivut ja ohjeet\n",
    "\n",
    "- Näitä käskyjä ei ole edes tarkoitus opetella kaikkia ulkoa\n",
    "\n",
    "- Google, man-sivut \n",
    "    \n",
    "# Man-sivuilla luetellaan tyypillisesti paljon erilaisia tarkenteita eli vipuja, joita käskyihin voi liittää\n",
    " \n",
    " \n",
    "- esim. head -n 15 [tiedostonimi] printtaakin 15 ekaa riviä\n",
    " \n",
    " \n",
    " "
   ]
  },
  {
   "cell_type": "markdown",
   "metadata": {},
   "source": [
    "# Lisää tiedostojen käsittelyä: grep ja wc\n",
    "\n",
    "- grep etsii ja printtaa tiedostosta tiettyjä sanoja tai merkkijonoja\n",
    "\n",
    "- wc laskee sanoja \n",
    "\n"
   ]
  },
  {
   "cell_type": "code",
   "execution_count": 29,
   "metadata": {
    "collapsed": false
   },
   "outputs": [
    {
     "name": "stdout",
     "output_type": "stream",
     "text": []
    }
   ],
   "source": [
    "# grep poo suomeksi.txt\n",
    "# grep Poo suomeksi.txt\n",
    "\n",
    "# wc suomeksi.txt"
   ]
  },
  {
   "cell_type": "markdown",
   "metadata": {},
   "source": [
    "# Tuotoksen (output) ohjaaminen tiedostoon\n",
    "\n",
    "- komennolla > tai >>\n"
   ]
  },
  {
   "cell_type": "markdown",
   "metadata": {},
   "source": [
    "# Helpompi tehtävä 4\n",
    "\n",
    "- Luo kotihakemistoosi tiedosto, ja kirjoita sinne jotain tekstiä. Toimiiko gedit nyt?\n",
    "\n",
    "- Etsi tiedostosta tiettyjä sanoja. Onnistuuko? Mikä ero on komennoilla grep \"koira\" ja grep \" koira\"?\n",
    "\n",
    "- Kuinka monta riviä ja sanaa tiedostossa on?\n",
    "\n",
    "--------------------------------\n",
    "- Kerrotaan muillekin, mitä vivut -v, -n -c -i tekee.\n",
    "\n",
    "- Kerrotaan muillekin, mitä ls -la tekee."
   ]
  },
  {
   "cell_type": "markdown",
   "metadata": {},
   "source": [
    "# Ekstratehtävä 4\n",
    "\n",
    "- grepin vivuista ainakin -v, -n, -c ja -i ovat näppäriä. Mitä ne tekevät? Entä vivut -B ja -A?\n",
    "\n",
    "- Muistatko, että vipuja voi myös yhdistellä? Mitä tapahtuu vivuilla -niv? Koita!\n",
    "\n",
    "- wc laskee siis tiedoston sanoja, rivejä ja bittejä. Löydätkö tiedon, miten laskea ainoastaan sanoja tai rivejä?\n",
    "\n",
    "\n",
    "\n",
    "- Tutki ls-komennon vipuja esim. man-sivuilta\n",
    "\n",
    "- Mitä ls -l tekee? entä ls -la ? \n",
    "\n",
    "- Entä mitä tekevät käskyt whatis, apropos, history?\n",
    "\n",
    "- Mitä eroa on komennoilla > ja >>?\n"
   ]
  },
  {
   "cell_type": "markdown",
   "metadata": {},
   "source": [
    "# Tiedoston haku Internetistä\n",
    "\n",
    "- kirjoittamalla alla olevan käskyn komentoriville saat ladattua koko tiedoston\n",
    "\n",
    "- wget http://www.gutenberg.org/cache/epub/38533/pg38533.txt   \n",
    "\n",
    "- selaile tiedostoa. jos ne näyttää html-tiedostolta, eli sisältää ainoastaan kummallisia väkäsiä ja vähän tekstiä, kopioi tiedosto mieluummin täältä: mavela@nlpedu1:~/gutenberg gutenberg.txt\n"
   ]
  },
  {
   "cell_type": "markdown",
   "metadata": {},
   "source": [
    "# Helpompi tehtävä 5\n",
    "\n",
    "1. Lataa Talviyön tarinoita kotihakemistoosi\n",
    "\n",
    "2. Luo sitten kotihakemistoosi hakemisto nimeltä Talviyö ja siirrä teksti sinne\n",
    "\n",
    "3. Nimeä teksti jotenkin fiksummin\n",
    "\n",
    "4. Selaile tekstiä. Kenen kirjoittama se on?\n",
    "\n",
    "5. Miten pääset katsomaan tekstin loppuosaa?\n",
    "\n",
    "6. Kuinka monta sanaa / riviä tekstissä on?\n",
    "\n",
    "7. Selaile rivejä, joilla esiintyy sana nainen. Ohjaa ne omaan tiedostoonsa.\n",
    "\n",
    "8. Kuinka monta rivejä on?\n",
    "\n",
    "9. Entä, jos ottaa mukaan myös N-alkuiset? Miten sen voi tehdä? \n",
    "\n",
    "10. Luo vielä tuotos-tiedostolle alihakemisto, ja siirrä analyysit sinne. "
   ]
  },
  {
   "cell_type": "markdown",
   "metadata": {},
   "source": [
    "# Ekstratehtävä 5\n",
    "\n",
    "- Kansiossa mavela/tviitit on tiedosto tviitteja1.txt täynnä tviittejä. Kopioi se omaan kotihakemistoosi, jonnekin järkevään paikkaan.\n",
    " \n",
    "- Mitä tviitit käsittelevät?\n",
    "    \n",
    "- Kuinka monta tviittiä aineistossa on?\n",
    "\n",
    "- Miten saat printattua pelkästään rivit, joissa mainitaan sana Suomi ? entä Syyria?\n",
    "\n",
    "- Kuinka monessa tviitissä mainitaan sana Suomi? entä suomi? Entä miten saat etsittyä molempia yhdellä käskyllä?\n",
    "   \n",
    "- Kuinka monessa tviitissä ei mainita sanaa maahanmuuttaja?"
   ]
  }
 ],
 "metadata": {
  "kernelspec": {
   "display_name": "Bash",
   "language": "bash",
   "name": "bash"
  },
  "language_info": {
   "codemirror_mode": "shell",
   "file_extension": ".sh",
   "mimetype": "text/x-sh",
   "name": "bash"
  }
 },
 "nbformat": 4,
 "nbformat_minor": 0
}
