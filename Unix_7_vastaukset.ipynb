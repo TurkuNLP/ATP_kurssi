{
 "cells": [
  {
   "cell_type": "markdown",
   "metadata": {},
   "source": [
    "# Tehtävä 13\n",
    "\n",
    "Tämän tehtävän tarkoituksena on opetellä käsittelemään syntaksijäsennettyjä tiedostoja. Aineistona käytetään pb_head.conllu.gz-tiedostoa, joka löytyy kansiosta /home/mavela/dataa\n",
    "\n",
    "- Lasketaan ensin tämän tiedoston sanamäärä. Selaile tiedostoa ensin, huomaat, että mukana on myös tyhjiä rivejä ja metatietoja, joita ei lasketa sanamäärään\n",
    "\n",
    "zcat pb_head.conllu.gz | egrep -v \"^$\" |egrep -v \"^#\" | wc -l\n",
    "\n",
    "- Nyt kun meillä on tiedot sanojen sanaluokista, sanamäärälaskuria voi täsmentää. Lasketaan sanat vielä niin, että mukana ei ole välimerkeiksi analysoituja \"saneita\". Mikä sanaluokkaleima näillä on? Minkä sanamärän saat aineistolle tämän jälkeen?\n",
    "\n",
    "zcat pb_head.conllu.gz | egrep -v \"^$\" |egrep -v \"^#\" | egrep -v \"PUNCT\"  | wc -l\n",
    "\n",
    "- Yllä tarkasteltiin jo dependenssityyppejä Dep Searchin avulla. Laske vielä dependenssityyppien frekvenssit conllu-tiedostosta. Mitkä ovat yleisimpiä? Mitä et tunnista? Näistä voi etsiä esimerkkejä.\n",
    "\n",
    "zcat pb_head.conllu.gz | egrep -v \"^#|^$\" | cut -f 8 | sort | uniq -ci | sort -rn \n",
    "\n",
    "- Tarkastellaan vielä sanaluokkaleimoja. Laske eri sanaluokkien frekvenssit aineistosta. Mitkä ovat yleisimpiä? Entä mitä ne tarkoittavat? Etsi esimerkki virkkeestä, jossa sitä käytetään\n",
    "\n",
    "zcat pb_head.conllu.gz | egrep -v \"^#|^$\" | cut -f 4 | sort | uniq -ci | sort -rn\n"
   ]
  },
  {
   "cell_type": "markdown",
   "metadata": {},
   "source": [
    "# Tehtävä 14\n",
    "\n",
    "Tieto sanaluokista ja syntaksista antaa mahdollisuuden hyvinkin monipuoliseen aineiston analyysiin. Esimerkiksi yleisimpiä sanoja voi laskea lemmoista eli perusmuodoista, ja frekvenssilistoista voi jättää pois sanaluokkia, joilla ei välttämättä ole lingvististä arvoa. Laske pb-aineiston yleisimmät lemmamuodot. Puhdista listaa niin, että siinä ei näy välimerkkejä eikä numeroita. Tuleeko mieleen muita dependenssityyppejä tai sanaluokkia, joita kannattaisi ottaa pois?\n",
    "\n",
    "cat dups.conllu | egrep -v \"^#|^$\" | egrep -v \"PUNCT|NUM|SYM\" | cut -f 3 | sort | uniq -c | sort -rn | less\n",
    "\n",
    "Toisaalta voi laskea myös yleisimpiä sanoja, joita käytetään tietyissä syntaksitehtävissä. Laske aineistosta tyypillisimmät subjektit. Niitä merkitään esim. riippuvuuksilla nsubj:cop ja nsubj. \n",
    "\n",
    "zcat parsebank_v4_UD.conllu.gz |  egrep -v \"^$|^#\" |  egrep \"nsubj|nsubj:cop\" | cut -f 2 | sort | uniq -c | sort -rn | less\n",
    "\n",
    "\n",
    "Tämän jälkeen laske vielä yleisimmät pääverbit (root)\n",
    "\n",
    "zcat parsebank_v4_UD.conllu.gz  | egrep -v \"^$|^#\" |  egrep \"root\" | cut -f 2 | sort | uniq -c | sort -rn | less\n"
   ]
  }
 ],
 "metadata": {
  "kernelspec": {
   "display_name": "Bash",
   "language": "bash",
   "name": "bash"
  },
  "language_info": {
   "codemirror_mode": "shell",
   "file_extension": ".sh",
   "mimetype": "text/x-sh",
   "name": "bash"
  }
 },
 "nbformat": 4,
 "nbformat_minor": 0
}
