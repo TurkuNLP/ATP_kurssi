{
 "cells": [
  {
   "cell_type": "markdown",
   "metadata": {},
   "source": [
    "# Putket (pipes)\n",
    "\n",
    "- |\n",
    "\n",
    "- Unixin ehkä näppärin ominaisuus\n",
    "\n",
    "- Yhden käskyn tuote ohjataan suoraan seuraavaan\n",
    "\n",
    "- Esim. cat t.txt | grep \"v\" | wc -l\n",
    "\n",
    "- cat t.txt | grep \"v\" | less\n",
    "\n",
    "- voi tehdä myös esim. cat t.txt |less\n"
   ]
  },
  {
   "cell_type": "markdown",
   "metadata": {},
   "source": [
    "# Tehtävä tviiteistä, putkien avulla\n",
    "\n",
    "- Kansiossa mavela/tviitit on tiedosto tviitteja2.txt täynnä tviittejä. Kopioi se omaan kotihakemistoosi, jonnekin järkevään paikkaan.\n",
    "\n",
    "- Tiedoston ensimmäisellä rivillä on headerissä selitteet, mitä kukin sarake tarkoittaa. Kurkkaa sinne! Mitä kaikkea tietoa tviiteistä on?\n",
    "\n",
    "    - Millä käskyillä tiedoston selaaminen on järkevää?\n",
    "    \n",
    "    - Mitä tviitit käsittelevät?\n",
    "     \n",
    "    - Millainen on tiedoston viimeinen tviiti? Millä se kannattaa etsiä?\n",
    "    \n",
    "- Kuinka monta tviittiä aineistossa on?\n",
    "\n",
    "- RT tarkoittaa retviittiä. Kuinka monta niitä on?\n",
    "\n",
    "- Myös tviittien kielet on merkitty. Kuinka monta on suomeksi? Mikä ongelma tästä tulee?\n",
    "   \n"
   ]
  },
  {
   "cell_type": "markdown",
   "metadata": {},
   "source": [
    "# Extratehtävä tviiteistä\n",
    "\n",
    "- Miten saat printattua ainoastaan englanninkieliset tviitit? \n",
    "   \n",
    "     - Mikä ongelma tulee vastaan? Osaatko ratkaista sen?`(grepin man-sivut auttaa ainakin)\n",
    " \n",
    "      - Kuinka monta ranskankielistä tviittiä on?\n",
    " \n",
    "      - Kuinka monta ei-englanninkielistä tviittiä on?\n",
    "      \n",
    " - tee oma alakorpus pelkästään englannin- ja espanjankielisistä tviiteistä. Tämänkin voi tehdä parilla tapaa, osaatko sanoa, mitkä ne voisi olla?"
   ]
  },
  {
   "cell_type": "markdown",
   "metadata": {},
   "source": [
    "# sort ja uniq\n",
    "\n",
    "- sort järjestää tiedoston aakkos- tai numerojärjestykseen\n",
    "\n",
    "esim cat t.txt | sort > sorted_t.txt\n",
    "\n",
    "- uniq printtaa ainoastaan uniikit rivit\n",
    "\n",
    "- esim. cat t.txt |uniq\n",
    "\n",
    "- tässä less on kätevä! myös putken lopussa.\n",
    "\n",
    "- uniq -c printtaa myös rivien määrän!"
   ]
  },
  {
   "cell_type": "markdown",
   "metadata": {},
   "source": [
    "# Tehtävä uniqilla ja sortilla\n",
    "\n",
    "- Käy hakemassa tiedosto tweet_languages.txt samasta paikasta kuin muutkin\n",
    "\n",
    "- Mitä siellä on?\n",
    "\n",
    "- Järjestä rivit aakkosjärjestykseen\n",
    "\n",
    "- Kuinka monta riviä tiedostossa on?\n",
    "\n",
    "- Mitä uniq tekee tälle datalle? \n",
    "\n",
    "- Entä uniq -c?\n",
    "\n",
    "- (ilman putkia)\n",
    "\n",
    "- Ektra: miten saat listan päinvastaiseen aakkosjärjestykseen? Eli siis alkaa z:lla..."
   ]
  },
  {
   "cell_type": "markdown",
   "metadata": {},
   "source": [
    "# Uniq-sort -putket, cut -f\n",
    "\n",
    "- yhdistämällä näitä saa laskettua esim. frekvenssilistoja!\n",
    "\n",
    "- cat t.txt | sort | uniq -c\n",
    "\n",
    "Miltä näyttää nyt?\n",
    "\n",
    "Miksi sort yllä olevan pötkön perään ei toimi?\n",
    "\n",
    "- Sort -n rankkaa numeroiden mukaan...\n",
    "\n",
    "- Eli cat t.txt | sort | uniq -c | sort -n antaa frekvenssilistan\n",
    "\n",
    "- sort -rn vielä aloittaa isoimmasta, pelkkä sort -n aloittaa pienimmästä\n",
    "\n",
    "- cut -f 2 printtaa vain sen sarakkeen, jonka numero annetaan\n",
    "\n",
    "- Näin ollen samat frekvenssilaskut voi tehdä tviitteja2.txt-tiedostolle käyttämällä ensin cutia oikean sarakkeen printtaamiseen.\n",
    "\n",
    "- cat tviitteja2.txt | cut -f 3 | less\n",
    "\n",
    "- huom! cut pitää olla oikeassa paikassa: \"cat tviitteja2.txt | sort | uniq -c | cut -f 3 | less\" tekee hassuja asioita"
   ]
  },
  {
   "cell_type": "code",
   "execution_count": null,
   "metadata": {
    "collapsed": true
   },
   "outputs": [],
   "source": []
  },
  {
   "cell_type": "markdown",
   "metadata": {},
   "source": [
    "# Tehtävä \n",
    "\n",
    "- Järjestä tiedoston tweet_languages.txt kielet (=sanat) frekvenssijärjestykseen. \n",
    "\n",
    "    - Ohjaa output tiedostoon\n",
    "\n",
    "    - Kuinka monta englanninkielistä tviittiä aineistossa on?\n",
    "    \n",
    "    - Mikä on harvinaisin kieli?\n",
    "\n",
    "    - kuinka monta eri kieltä tiedostossa tweet_languages.txt on?\n",
    "    \n",
    "    - Ekstra: Kuinka monta suomenkielistä tviittiä? Huom, vahingossa mukana on yksi FIN-leima. Millä vivulla sen saa mukaan laskuihin? "
   ]
  },
  {
   "cell_type": "markdown",
   "metadata": {},
   "source": [
    "# Hankalampi tehtävä \n",
    "\n",
    "- Käytä tiedostoa tviitteja2.txt\n",
    "\n",
    "- Viides sarake kuvaa käyttäjätunnuksia. Mikä on toisiksi yleisin käyttäjätunnus?  Kuinka monta erilaista niitä on? \n",
    "\n",
    "- Ektra: kuinka monta käyttäjää on jättänyt ainoastaan yhden tviitin?\n",
    "\n",
    "- Miten saat tästä tiedostosta laskettua, kuinka monta suomenkielistä tviittiä on?\n",
    "\n",
    "    - Ekstra: miten se onnistuu ilman cut-komentoa ja säännöllisiä lausekkeita? (kysy vinkkiä jos et keksi) \n",
    "\n",
    "- Ektra: kuinka monessa tviitissä ei sanota \"jesuischarlie\" (huom myös mahdolliset isot kirjaimet)\n",
    "    - eNtä kuinka monessa ranskankielisessä ei sanota \"jesuischarlie\"\n",
    "\n"
   ]
  }
 ],
 "metadata": {
  "kernelspec": {
   "display_name": "Bash",
   "language": "bash",
   "name": "bash"
  },
  "language_info": {
   "codemirror_mode": "shell",
   "file_extension": ".sh",
   "mimetype": "text/x-sh",
   "name": "bash"
  }
 },
 "nbformat": 4,
 "nbformat_minor": 0
}
