{
 "cells": [
  {
   "cell_type": "markdown",
   "metadata": {},
   "source": [
    "# Tehtävä 7\n",
    "\n",
    "\n",
    "Harjoitellaan säännöllisiä lausekkeita apuverbi-tiedoston avulla: /home/mavela/dataa/auxes.txt.gz Se on aika suuri, joten jos et ole vielä tehnyt, niin tee ensin siitä miljoonan sanan satunnaisotos shuf ja head -komentojen avulla. Poista tässä kohdassa myös rivit, joissa on jokin numero. \n",
    "\n",
    "-- zcat auxes.txt.gz | shuf | egrep -v \"[0-9]\" | head -100000 > auxes-head.txt\n",
    "\n",
    "Poista sen jälkeen alkuperäinen omasta hakemistostasi! Sitten normalisoi kaikki isot kirjaimet pieniksi ja tee vielä tiedostosta frekvessilistaversio. Kuinka monta erilaista apuverbin muotoa tiedostostasi löytyy?\n",
    "\n",
    "-- cat auxes-head.txt | tr '[:upper:]' '[:lower:]' | sort | uniq -c | sort -rn > auxes-ranked.txt\n",
    "\n",
    "-- cat auxes-ranked.txt | wc -l\n",
    "\n",
    "Etsi kaikki sanat, joiden frekvenssi on 1\n",
    "\n",
    "-- cat auxes-ranked.txt | egrep \" 1 \" | less\n",
    "\n",
    "Etsi kaikki sanat, joiden frekvenssi on alle 100\n",
    "\n",
    "--  cat auxes-ranked.txt | egrep \" [123456789]{2} \" | less\n",
    "\n",
    "Etsi kaikki sanat, joiden frekvenssi on 1000 tai enemmän\n",
    "\n",
    "--  cat auxes-ranked.txt | egrep \" [123456789]{4,} \" \n",
    "    \n",
    "Poista listasta egrep -v:n avulla sanat, joiden frevenssi on alle 100\n",
    "\n",
    "-- cat auxes-ranked.txt | egrep -v \" [0-9][0-9]? \" \n",
    "\n",
    "\n",
    "Sitten sanoihin. Erilaiset liitepartikkelit tuntuvat olevan yleisiä tässä datassa. Kuinka voit etsiä yhdellä haulla sanoja, joissa on joko -han tai -hän -pääte? Miten teet tämän niin, että haut rajoittuvat sanoihin, jotka päättyvät tähän liitteeseen?\n",
    "\n",
    "--  cat auxes-ranked.txt | egrep \"h(a|ä)n$\"\n",
    "\n",
    "Entä miten etsitään o-alkuiset sanat, jotka päättyvät tähän?\n",
    "\n",
    "--  cat auxes-ranked.txt | egrep \"o.\\*h(a|ä)n$\"\n",
    "\n",
    "Ko- ja kö -päätteet olivat myös yleisiä. Usen nämä myös yhdistyvät yllä olevaan han / hän -päätteeseen. Miten etsit sanoja, joissa on nämä molemmat? Entä sanoja, joissa ko/kö saattaa olla?\n",
    "\n",
    "-- cat auxes-ranked.txt | egrep \"k(o|ö).\\*h(a|ä)n$\" \n",
    "\n",
    "-- cat auxes-ranked.txt | egrep \"(k(o|ö))?.*h(a|ä)n\" \n",
    "\n",
    "Vokaaliharmonian ansiosta suomen sanoista on helppo etsiä erilaisia virheitä tarkastelemalla merkkijonoja, joissa on sekä etu- että takavokaaleita (aou|yäö). Etsi sanoja, joissa on vokaaleita molemmista ryhmistä jossain järjestyksessä. Saatko kaiken yhteen lausekkeeseen? Miten tätä \"virhelistaa\" voisi vielä viilata?\n",
    "\n",
    "-- cat auxes-ranked.txt | egrep \"([yöä].\\*[aou])|([aou].\\*[yäö])\" "
   ]
  }
 ],
 "metadata": {
  "kernelspec": {
   "display_name": "Bash",
   "language": "bash",
   "name": "bash"
  },
  "language_info": {
   "codemirror_mode": "shell",
   "file_extension": ".sh",
   "mimetype": "text/x-sh",
   "name": "bash"
  }
 },
 "nbformat": 4,
 "nbformat_minor": 0
}
