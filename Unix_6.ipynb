{
 "cells": [
  {
   "cell_type": "markdown",
   "metadata": {},
   "source": [
    "# Skriptit\n",
    "\n",
    "Komentorivikäskyt käyvät helposti pitkiksi ja epäkäytännöllisiksi. Ne voi myös tallentaa skriptiin, jolloin koko pitkää käskyä ei tarvitse aina kirjoittaa uudestaan, vaan koko komennon voi ajaa vain ajamalla skriptin.\n",
    "\n",
    "Käytännössä skripti on tiedosto, jonka nimi loppuu .sh, ja jonka alussa on merkintä #!/bin/bash\n",
    "Esim. tiedosto.sh -niminen skripti ajetaan käskyllä ./tiedosto.sh\n",
    "\n",
    "Silloin komentotulkki suorittaa skriptin sisältämät käskyt.\n",
    "\n",
    "Skriptin ajaminen tarvitsee suoritusoikeudet. Nämä pitää erikseen muuttaa, se käy esim. käskyllä chmod a+x skripti.sh\n",
    "Skriptiin voi lisätä komentoja ihan samalla tavalla kuin komentorivillekin, ks. alla oleva esimerkki\n",
    "Skriptin tuotoksen voi ohjata tiedostoon samalla tavalla > -komennolla kuin komentorivikäskyjäkin"
   ]
  },
  {
   "cell_type": "code",
   "execution_count": null,
   "metadata": {
    "collapsed": true
   },
   "outputs": [],
   "source": [
    "#!/bin/bash\n",
    "\n",
    "# tähän voi myös kirjoittaa kommentteja, joita ei suoriteta\n",
    "\n",
    "echo \"Hello world\" "
   ]
  },
  {
   "cell_type": "code",
   "execution_count": null,
   "metadata": {
    "collapsed": true
   },
   "outputs": [],
   "source": [
    "#!/bin/bash\n",
    "\n",
    "# tähän voi myös kirjoittaa kommentteja, joita ei suoriteta\n",
    "\n",
    "cat tiedosto.txt | # putkia voi käyttää samalla tavoin kuin komentorivillä\n",
    "\n",
    "egrep \"Olla\"\n",
    "\n",
    "# yhteen skriptiin voi myös laittaa useamman komennon, eli tähän voi vielä jatkaa\n",
    "\n",
    "cat tiedosto2.txt |\n",
    "\n",
    "egrep \"kyllä\""
   ]
  },
  {
   "cell_type": "markdown",
   "metadata": {},
   "source": [
    "# Tehtävä 10\n",
    "\n",
    "1. Kirjoita skriptiin komentoketju, joka pilkkoo tiedoston sana per rivi muotoon ja laskee sanat. Aineistona voit käyttää tiedostoa /home/mavela/dataa/dekkareita.txt\n",
    "\n",
    "2. Muuta sitten komentoketjua niin, että tiedosto annetaan sille syöttenä komentoriviltä. Näin saat näppärästi pienen ohjelman, joka laskee sille annetun tiedoston sanamäärän!\n",
    "\n",
    "3. Muuta sitten skriptiä vielä niin, että ennen sanamäärän laskemista sanat normalisoidaan pieniksi kirjaimiksi ja välimerkit ja numerot poistetaan.\n",
    "\n",
    "4. Voit koittaa tätä myös muihin tekstitiedostoihin, jota kotihakemistossasi sattuu olemaan!\n"
   ]
  },
  {
   "cell_type": "markdown",
   "metadata": {},
   "source": [
    "# Tehtävä 11\n",
    "\n",
    "Tehkää (ryhmissä?) skripti, joka pilkkoo tekstin sanoiksi, eristää sanat omille riveilleen ja tekee niistä frekvenssilistan. \n",
    "\n",
    "Tavoitteena on saada mahdollisimman siisti frekvenssilista tiedoston sanoista niin, että esimerkiksi välimerkit ja numerot ovat omilla riveillään, isot ja pienet kirjaimet on normalisoitu, jne. \n",
    "\n",
    "Käyttäkää datana Gutenbergin sivuilta löytyvää tarinaa The Return of Sherlock Holmes. Sen saa kopioitua seuraavalla komennolla internetistä: \n",
    "\n",
    "wget http://www.gutenberg.org/files/108/108-0.txt\n",
    "\n",
    "Tämän jälkeen tiedosto ilmestyy kansioon, jossa tämä komento suoritetaan."
   ]
  },
  {
   "cell_type": "markdown",
   "metadata": {},
   "source": [
    "# Lisätehtävä\n",
    "\n",
    "Etsi Gutenbergistä joku hiukan erilainen englanninkielinen kirja, ja kopioi se itsellesi. Vertaile tämän aineiston ja Sherlock Holmesin yleisimpiä sanoja. Pystyykö näistä päättelemään mitään aineistojen sisällöstä?"
   ]
  }
 ],
 "metadata": {
  "kernelspec": {
   "display_name": "Bash",
   "language": "bash",
   "name": "bash"
  },
  "language_info": {
   "codemirror_mode": "shell",
   "file_extension": ".sh",
   "mimetype": "text/x-sh",
   "name": "bash"
  }
 },
 "nbformat": 4,
 "nbformat_minor": 0
}
