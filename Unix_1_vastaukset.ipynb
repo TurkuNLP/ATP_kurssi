{
 "cells": [
  {
   "cell_type": "markdown",
   "metadata": {},
   "source": [
    "# Tehtävä 2 vastaukset\n",
    "\n",
    "1. Luo kotihakemistoosi hakemisto Kurssit\n",
    "\n",
    "mkdir kurssit\n",
    "\n",
    "2. Luo Kurssit-kansioon tiedosto suomeksi.txt, johon voit kirjoittaa tekstiä suomeksi. Kirjoita ainakin 30 riviä, sisältö voi olla mitä vaan. Luo sitten toinen tiedosto, johon kirjoitat pari lausetta jollain mulla kielellä.\n",
    "\n",
    "cd kurssit\n",
    "emacs suomeksi.txt\n",
    "pois pääsi control+x control+c -komennolla\n",
    "\n",
    "3. Luo Kurssi-kansioon alahakemisto Tekstiprosessointi, ja siirrä suomeksi.txt sinne\n",
    "\n",
    "cd kurssit\n",
    "mkdir tekstiprosessointi\n",
    "mv suomeksi.txt tekstiprosessointi/\n",
    "\n",
    "4. Luo Tekstiprosessointi-kansioon vielä alahakemisto Varmuuskopiot, tee tiedostosta suomeksi.txt varmuuskopio suomeksi-bu.txt, ja siirrä suomeksi-bu.txt varmuuskopiot-kansioon\n",
    "\n",
    "cd tekstiprosessointi\n",
    "mkdir varmuuskopiot\n",
    "cp suomeksi.txt suomeksi-bu.txt\n",
    "mv suomeksi-bu.txt tekstiprosessointi/varmuuskopiot/\n",
    "\n",
    "5. Selaile suomeksi.txt -tiedostoa. Koita eri tapoja: less, cat, head, tail Milloin head ja tail on näppäriä?\n",
    "\n",
    "6. Tuhoa suomeksi.txt, ja kopioi varmuuskopiosta uusi työstettävä versio kansioon Tekstiprosessointi\n",
    "\n",
    "rm suomeksi.txt\n",
    "cp tekstiprosessointi/varmuuskopiot/suomeksi-bu.txt suomeksi2.txt\n",
    "\n",
    "7. Siirry omaan kotihakemistoosia, ja tuhoa sieltä käsin vielä Varmuuskopio-kansiossa olevat tiedostot, ja lopuksi koko kansio\n",
    "cd\n",
    "rm tekstiprosessointi/varmuuskopiot/suomeksi-bu.txt\n",
    "rmdir tekstiprosessointi/varmuuskopiot"
   ]
  }
 ],
 "metadata": {
  "kernelspec": {
   "display_name": "Bash",
   "language": "bash",
   "name": "bash"
  },
  "language_info": {
   "codemirror_mode": "shell",
   "file_extension": ".sh",
   "mimetype": "text/x-sh",
   "name": "bash"
  }
 },
 "nbformat": 4,
 "nbformat_minor": 0
}
