{
  "nbformat": 4,
  "nbformat_minor": 0,
  "metadata": {
    "colab": {
      "provenance": [],
      "authorship_tag": "ABX9TyO1oLpFyMCVCD+l8qa7Zdja",
      "include_colab_link": true
    },
    "kernelspec": {
      "name": "python3",
      "display_name": "Python 3"
    },
    "language_info": {
      "name": "python"
    }
  },
  "cells": [
    {
      "cell_type": "markdown",
      "metadata": {
        "id": "view-in-github",
        "colab_type": "text"
      },
      "source": [
        "<a href=\"https://colab.research.google.com/github/TurkuNLP/ATP_kurssi/blob/master/ATP_2025_Notebook_1.ipynb\" target=\"_parent\"><img src=\"https://colab.research.google.com/assets/colab-badge.svg\" alt=\"Open In Colab\"/></a>"
      ]
    },
    {
      "cell_type": "markdown",
      "source": [
        "##First commands\n",
        "\n",
        "\n",
        "Bash in Colab\n",
        "*   **always** use `!` before a command in Bash **in Notebook** (Colab)\n",
        "*   without `!` Notebook will interpret the command as Python\n",
        "\n",
        "Commenting out\n",
        "*   lines with `#` are comments\n",
        "*   they do not get executed\n",
        "*   a handy way to keep commands/code in the cell e.g., for future use!\n",
        "*   `#` can also be used to add comments to a code block, e.g., what the command does, or to give extra information\n",
        "\n",
        "Executing code blocks\n",
        "*   a code block can be executed by clicking the play-button on the upper left corner of the block, or by pressing `Ctrl + Enter` while in the block\n",
        "*   Colab will (probably) ask you to connect to Colab's server, just click ok\n",
        "\n",
        "Output\n",
        "*   the results of the code will be printed underneath the code block\n"
      ],
      "metadata": {
        "id": "k2b7WpfIbUmx"
      }
    },
    {
      "cell_type": "markdown",
      "source": [
        "**Let's start with printing**\n",
        "*   `echo` will print whatever you want\n"
      ],
      "metadata": {
        "id": "eRNXQYACv9MC"
      }
    },
    {
      "cell_type": "code",
      "execution_count": null,
      "metadata": {
        "id": "Nrv-5RPzZlrh"
      },
      "outputs": [],
      "source": [
        "# This is what a command in Bash looks like\n",
        "! echo Hello world in Bash!\n",
        "\n",
        "# This is what a command in Python looks like\n",
        "# (we will not learn Python in this course, though we will use some ready-made\n",
        "# Python scripts later, this is just an example)\n",
        "print(\"Hello world in Python!\")"
      ]
    },
    {
      "cell_type": "code",
      "source": [
        "# This is what happens if you omit !\n",
        "echo Hello world"
      ],
      "metadata": {
        "id": "LDmbQSjjeTHG"
      },
      "execution_count": null,
      "outputs": []
    },
    {
      "cell_type": "markdown",
      "source": [
        "**Jumping right into it: How to download data**\n",
        "*   `wget` - get a file from a url\n",
        "*   Today, we'll get some mystery data from project Gutenberg at www.gutenberg.org\n",
        "*   select `Plain Text UTF-8` for downloading `.txt` files\n",
        "*   `.txt` in the end of the filename means it is a text file\n",
        "*   The command below will temporarily download the file into Colab's default folder and it will disappear when you close the notebook\n",
        "\n",
        "\n",
        "\n",
        "\n",
        "    \n",
        "    \n",
        "    \n",
        "    \n",
        "\n"
      ],
      "metadata": {
        "id": "PalWryWjeeU8"
      }
    },
    {
      "cell_type": "code",
      "source": [
        "# get the file\n",
        "! wget https://www.gutenberg.org/cache/epub/20748/pg20748.txt"
      ],
      "metadata": {
        "id": "_NdFBIWHevie"
      },
      "execution_count": null,
      "outputs": []
    },
    {
      "cell_type": "markdown",
      "source": [
        "**Check that the file exists**\n",
        "*   `ls` - list all files and folders in your current working directory\n",
        "    (we will learn how to access different directories aka folders later)\n",
        "\n",
        "\n",
        "\n",
        "    \n",
        "\n"
      ],
      "metadata": {
        "id": "JvpHt3h-e0ZZ"
      }
    },
    {
      "cell_type": "code",
      "source": [
        "# see what you've got\n",
        "! ls\n",
        "\n",
        "# (do not worry about 'sample_data', it's Colab's default stuff and\n",
        "# it's just always there)"
      ],
      "metadata": {
        "id": "MCo8t9mEe-t6"
      },
      "execution_count": null,
      "outputs": []
    },
    {
      "cell_type": "markdown",
      "source": [
        "**Then let's have a look at the file**\n",
        "*   `cat` - concatenate aka **print** an entire file\n",
        "*   `head` - print the **first** lines of a file (default: 10 lines)\n",
        "*   `tail` - print the **last** lines of a file (default: 10 lines)\n",
        "\n",
        "\n",
        "\n",
        "\n",
        "\n",
        "    \n",
        "    \n",
        "    \n",
        "\n"
      ],
      "metadata": {
        "id": "QG9lN0H8fETW"
      }
    },
    {
      "cell_type": "code",
      "source": [
        "# print the entire file\n",
        "! cat pg20748.txt\n",
        "\n",
        "# NB! If you get ovewhelmed by the length of an output,\n",
        "# click on the icon left to the output and choose\n",
        "# \"show/hide output\""
      ],
      "metadata": {
        "collapsed": true,
        "id": "rLbv79MFfQWY"
      },
      "execution_count": null,
      "outputs": []
    },
    {
      "cell_type": "code",
      "source": [
        "# only take a look at the beginning and end of the file\n",
        "! head pg20748.txt\n",
        "! echo \"---------break-----------\"\n",
        "! tail pg20748.txt"
      ],
      "metadata": {
        "id": "gkUMJMZ3fbUx"
      },
      "execution_count": null,
      "outputs": []
    },
    {
      "cell_type": "markdown",
      "source": [
        "**Fine tuning your commands with flags**\n",
        "\n",
        "*   flags are tiny add-ons to commands that can modify how the command behaves\n",
        "*   they start with a `-` (a dash)\n",
        "*   each command has their own set of flags that do different things; there can be a lot of them and you don't have to learn them all (nobody does!), but we will use some useful ones in this course\n",
        "\n",
        "    **FOR EXAMPLE:**\n",
        "\n",
        "    you can define how many lines you want to show with head and tail by adding a number after the command but before the file name\n",
        "     \n",
        "    \n",
        "    `-1` (dash one) outputs only the first (`head -1`) or the last line (`tail -1`)\n",
        "\n",
        "    `-2` outputs two lines\n",
        "\n",
        "\n",
        "**N.B.**\n",
        "White spaces (often) matter in commands. So make sure that e.g., when using flags, there is no white space between the dash and the rest of the flag:\n",
        "\n",
        "`head -5 textfile.txt`\n"
      ],
      "metadata": {
        "id": "6lJlku2bfgO8"
      }
    },
    {
      "cell_type": "code",
      "source": [
        "# example on how to show only the first and last line of the file\n",
        "! head -1 pg20748.txt\n",
        "! tail -1 pg20748.txt\n",
        "# notice that the last line is empty!"
      ],
      "metadata": {
        "id": "2IvudG5ngh1X"
      },
      "execution_count": null,
      "outputs": []
    },
    {
      "cell_type": "markdown",
      "source": [
        "**Now try writing your own code!**\n",
        "\n",
        "The best way to learn is to write and try things yourself! So try to do the following steps by writing into the code cell below:\n",
        "\n",
        "1.  **Download** the file from here: https://raw.githubusercontent.com/aristila/totally-random-stuff/refs/heads/main/bash_limerick.txt\n",
        "\n"
      ],
      "metadata": {
        "id": "RX-RCRLbgl55"
      }
    },
    {
      "cell_type": "code",
      "source": [
        "# Download the file\n",
        "\n",
        "\n",
        "\n",
        "# (EXTRA: you can try running this code cell a couple of times,\n",
        "# then checking with 'ls' to see what you have)"
      ],
      "metadata": {
        "id": "3wxFzjILg4Rz"
      },
      "execution_count": null,
      "outputs": []
    },
    {
      "cell_type": "markdown",
      "source": [
        "2. Print the **entire** file\n",
        "3. Print only **the last three lines** of the file.\n"
      ],
      "metadata": {
        "id": "4F0VfmxKg8sh"
      }
    },
    {
      "cell_type": "code",
      "source": [
        "# Print the entire file\n",
        "\n",
        "\n",
        "# Print only the last three lines of the file.\n",
        "\n"
      ],
      "metadata": {
        "id": "ay6C2JDshLgD"
      },
      "execution_count": null,
      "outputs": []
    },
    {
      "cell_type": "markdown",
      "source": [
        "4 (EXTRA). Try what happens if you use **echo** instead of cat to print the file"
      ],
      "metadata": {
        "id": "ehRuJK26hOrQ"
      }
    },
    {
      "cell_type": "code",
      "source": [],
      "metadata": {
        "id": "4vu0tprwhSl0"
      },
      "execution_count": null,
      "outputs": []
    },
    {
      "cell_type": "markdown",
      "source": [
        "**Finding help and instructions**\n",
        "*   Google is often helpful\n",
        "*   Inside Unix `man` (manuals), e.g. `man wget`\n",
        "\n",
        "\n",
        "\n",
        "\n",
        "\n",
        "\n"
      ],
      "metadata": {
        "id": "YRNo7ec5hXeN"
      }
    },
    {
      "cell_type": "markdown",
      "source": [
        "**More commands: file manipulation**\n",
        "\n",
        "`>` saves the output of the command to a file (by **overwriting** it if the file existed)\n",
        "\n",
        "`>>` **appends** the output of the command to the end of a file (no overwriting)\n",
        "\n",
        "`rm` removes the file (N.B. removes **without double-checking**)\n",
        "\n",
        "`cp` copies a file\n",
        "\n",
        "`mv` moves a file (or **renames**)\n",
        "\n",
        "`wc -w` is word count; `wc` can also be used to count lines (more about this later)\n",
        "\n"
      ],
      "metadata": {
        "id": "PoTNdv3jhkVu"
      }
    },
    {
      "cell_type": "code",
      "source": [
        "# save head of the file to a new file\n",
        "! head pg20748.txt > head.txt\n",
        "# check what you have\n",
        "! ls\n",
        "# print the new file\n",
        "! cat head.txt"
      ],
      "metadata": {
        "id": "mgl8II-ak747"
      },
      "execution_count": null,
      "outputs": []
    },
    {
      "cell_type": "code",
      "source": [
        "# count the words in the new file\n",
        "! wc -w head.txt"
      ],
      "metadata": {
        "id": "uQD9i4OolO6y"
      },
      "execution_count": null,
      "outputs": []
    },
    {
      "cell_type": "code",
      "source": [
        "# remove the new file\n",
        "! rm head.txt\n",
        "# check what you have\n",
        "! ls"
      ],
      "metadata": {
        "id": "cluYTvtilUC0"
      },
      "execution_count": null,
      "outputs": []
    },
    {
      "cell_type": "code",
      "source": [
        "# save tail to a new file\n",
        "! tail pg20748.txt > tail.txt\n",
        "\n",
        "# copy the tail to a new file (cf. save as)\n",
        "! cp tail.txt copyoftail.txt\n",
        "\n",
        "# try copying the head.txt file\n",
        "! cp head.txt copyofhead.txt\n",
        "\n",
        "! ls"
      ],
      "metadata": {
        "id": "k0x7L0nmloA3"
      },
      "execution_count": null,
      "outputs": []
    },
    {
      "cell_type": "code",
      "source": [
        "# rename a file (mv also can move files between folders - we'll learn to do this later)\n",
        "! mv copyoftail.txt somethingelse.txt # so moving moves / renames, copying leaves the original\n",
        "\n",
        "! ls"
      ],
      "metadata": {
        "id": "pt2Kaa_Ml7yG"
      },
      "execution_count": null,
      "outputs": []
    },
    {
      "cell_type": "markdown",
      "source": [
        "**Exercises**\n",
        "1.   Choose another **book from Gutenberg** and **download** it\n",
        "1.   Make a **backup copy** of the file and **delete** the original\n",
        "1.   Then **move (rename)** the backup file as something else\n",
        "1.   **Check** with **`ls`** that all is how you intended\n",
        "2.   **Save** the head and tail outputs of the new book **into separate files**\n",
        "2.   **Check** with **`cat`** that you got what you wanted\n",
        "2.   Then try to use **`wc -w`**. How many words did **the original book** have?\n",
        "2.   How many words did **head and tail outputs** have?\n",
        "1.   How would you **print the output of `wc -w` to a file**?"
      ],
      "metadata": {
        "id": "Zlbsn28nmWiY"
      }
    },
    {
      "cell_type": "markdown",
      "source": [
        "##What did we learn today?\n",
        "\n",
        "*   print text in Bash\n",
        "*   download data\n",
        "*   check the contents of a folder (directory)\n",
        "*   print files and their beginnings and ends\n",
        "*   save and append text to a file\n",
        "*   copy, move and remove files\n",
        "*   count words in a file\n",
        "\n",
        "\n",
        "\n",
        "\n",
        "\n",
        "\n",
        "\n",
        "\n"
      ],
      "metadata": {
        "id": "WSbjYX1COJEX"
      }
    }
  ]
}