{
  "nbformat": 4,
  "nbformat_minor": 0,
  "metadata": {
    "colab": {
      "name": "Notebook10_answers.ipynb",
      "provenance": [],
      "authorship_tag": "ABX9TyPFkFQlZTDVwl81d/ipqbmo",
      "include_colab_link": true
    },
    "kernelspec": {
      "name": "python3",
      "display_name": "Python 3"
    },
    "language_info": {
      "name": "python"
    }
  },
  "cells": [
    {
      "cell_type": "markdown",
      "metadata": {
        "id": "view-in-github",
        "colab_type": "text"
      },
      "source": [
        "<a href=\"https://colab.research.google.com/github/TurkuNLP/ATP_kurssi/blob/master/Notebook10_answers.ipynb\" target=\"_parent\"><img src=\"https://colab.research.google.com/assets/colab-badge.svg\" alt=\"Open In Colab\"/></a>"
      ]
    },
    {
      "cell_type": "code",
      "metadata": {
        "id": "qC9JJblUQvX6"
      },
      "source": [
        ""
      ],
      "execution_count": null,
      "outputs": []
    },
    {
      "cell_type": "markdown",
      "metadata": {
        "id": "flyT-kf4Q3eq"
      },
      "source": [
        "### Exercise\n",
        "\n",
        "Remember the brown corpus files in `/home/mavela/nltk_data/corpora/brown`\n",
        "\n",
        "Copy the directory to your home folder if you don't have it anymore\n",
        "\n",
        "* Do a for loop that counts the wordcount of each file\n",
        "* Then add to the script a print of each of the file name, so that the output is\n",
        "\n",
        "```\n",
        "filename\n",
        "word count\n",
        "filename\n",
        "word count\n",
        "etc.\n",
        "```\n",
        "* Direct the output to a single file\n",
        "----\n",
        "\n"
      ]
    },
    {
      "cell_type": "markdown",
      "metadata": {
        "id": "NsZgCN8OQ6G7"
      },
      "source": [
        "### Exercise\n",
        "\n",
        "Remember the brown corpus files in `/home/mavela/nltk_data/corpora/brown`\n",
        "\n",
        "Copy the directory to your home folder if you don't have it anymore\n",
        "\n",
        "* Do a for loop that counts the wordcount of each file\n",
        "* Then add to the script a print of each of the file name\n",
        " `for f in brown/* ; do echo $f ; cat $f | wc -w ; done > outputfile.txt`"
      ]
    },
    {
      "cell_type": "markdown",
      "metadata": {
        "id": "ApI_DYQoRSUS"
      },
      "source": [
        "### Exercise cont.\n",
        "* Make a script that counts the 10 most frequent words of a file\n",
        "* Add this script to the for loop and print the whole output to a single file\n",
        "\n",
        "```\n",
        " for f in directory/* ; do echo  $f ; cat $f | ./script.sh ; done > output.txt\n",
        "```\n",
        "\n",
        "\n",
        "\n",
        "----\n",
        "### Exercise cont. 2\n",
        "* Let's use the tweets at `/home/mavela/tviitit/english_tweets`\n",
        "* Make a command (with pipes and / or scripts) that prints a unique and normalized list of all the hashtags that a file includes AND run this command with a forloop so that you end up having the hashtag lists in separate files\n",
        "* Then do the same thing but with user names (starting with @)\n",
        "** \n",
        "\n",
        "\n",
        "----\n",
        "* Then do yet a file that includes 15 most frequent hashtags from each of the files"
      ]
    },
    {
      "cell_type": "code",
      "metadata": {
        "id": "XaYw-PYHQ69h"
      },
      "source": [
        ""
      ],
      "execution_count": null,
      "outputs": []
    }
  ]
}