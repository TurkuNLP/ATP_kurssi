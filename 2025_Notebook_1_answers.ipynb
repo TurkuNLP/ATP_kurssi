{
  "nbformat": 4,
  "nbformat_minor": 0,
  "metadata": {
    "colab": {
      "provenance": [],
      "include_colab_link": true
    },
    "kernelspec": {
      "name": "python3",
      "display_name": "Python 3"
    },
    "language_info": {
      "name": "python"
    }
  },
  "cells": [
    {
      "cell_type": "markdown",
      "metadata": {
        "id": "view-in-github",
        "colab_type": "text"
      },
      "source": [
        "<a href=\"https://colab.research.google.com/github/TurkuNLP/ATP_kurssi/blob/master/2025_Notebook_1_answers.ipynb\" target=\"_parent\"><img src=\"https://colab.research.google.com/assets/colab-badge.svg\" alt=\"Open In Colab\"/></a>"
      ]
    },
    {
      "cell_type": "markdown",
      "source": [
        "### Exercise\n",
        "\n",
        "\n",
        "1. Choose another book from Gutenberg and download it\n",
        "2. Make a backup **copy** of the file and delete the original\n",
        "3. Then move (rename) the backup file as something else\n",
        "4. Check with `ls` that all is how you intended\n",
        "5. Save the `head` and `tail` outputs of the new book into separate files\n",
        "6. Check with cat that you got what you wanted\n",
        "7. Then try to use `wc -w`. How many words did the original book have?\n",
        "8. How many words did head and tail outputs have?\n",
        "9. How would you print the output of `wc -w` to a file?\n"
      ],
      "metadata": {
        "id": "4MpyrkZaHYdb"
      }
    },
    {
      "cell_type": "code",
      "source": [
        "# 1. Choose another book from Gutenberg and download it\n",
        "! wget https://www.gutenberg.org/cache/epub/54306/pg54306.txt # Take another book from Gutenberg"
      ],
      "metadata": {
        "id": "H1NumWz_LMYP"
      },
      "execution_count": null,
      "outputs": []
    },
    {
      "cell_type": "code",
      "source": [
        "# It's always a good idea to check what you've got\n",
        "! head pg54306.txt"
      ],
      "metadata": {
        "id": "3rSdsw19vsum"
      },
      "execution_count": null,
      "outputs": []
    },
    {
      "cell_type": "code",
      "source": [
        "# 2. Make a backup copy of the file and delete the original\n",
        "! cp pg54306.txt backup.txt # make a back-up copy\n",
        "! rm pg54306.txt # delete the original"
      ],
      "metadata": {
        "id": "Kcz-o17cLNYK"
      },
      "execution_count": null,
      "outputs": []
    },
    {
      "cell_type": "code",
      "source": [
        "! ls"
      ],
      "metadata": {
        "id": "X1XZyy0nxXa_"
      },
      "execution_count": null,
      "outputs": []
    },
    {
      "cell_type": "code",
      "source": [
        "# 3. Then move (rename) the backup file as something else\n",
        "! mv backup.txt mirdja.txt # rename"
      ],
      "metadata": {
        "id": "Lr99JKkexTZn"
      },
      "execution_count": null,
      "outputs": []
    },
    {
      "cell_type": "code",
      "source": [
        "# 4. Check with ls that all is how you intended\n",
        "! ls # check that all went fine"
      ],
      "metadata": {
        "id": "xRU2mZSkxTvj"
      },
      "execution_count": null,
      "outputs": []
    },
    {
      "cell_type": "code",
      "source": [
        "# 6. Save the head and tail outputs of the new book into separate files\n",
        "! head mirdja.txt > head-m.txt\n",
        "! tail mirdja.txt > tail-m.txt"
      ],
      "metadata": {
        "id": "liRiHdL4Lh0t"
      },
      "execution_count": null,
      "outputs": []
    },
    {
      "cell_type": "code",
      "source": [
        "! ls"
      ],
      "metadata": {
        "id": "FZrotU3vxmyu"
      },
      "execution_count": null,
      "outputs": []
    },
    {
      "cell_type": "code",
      "source": [
        "# 7. Check with cat that you got what you wanted in the new files\n",
        "! cat head-m.txt\n",
        "! cat tail-m.txt"
      ],
      "metadata": {
        "id": "St3CAM9EwvZr"
      },
      "execution_count": null,
      "outputs": []
    },
    {
      "cell_type": "code",
      "source": [
        "# 8. Then try to use wc -w. How many words did the original book have?\n",
        "! wc -w mirdja.txt # word count\n",
        "\n",
        "# 9. How many words did head and tail outputs have?\n",
        "! wc -w head-m.txt tail-m.txt # see you can count both files at once\n"
      ],
      "metadata": {
        "id": "m3tdR9LELut0"
      },
      "execution_count": null,
      "outputs": []
    },
    {
      "cell_type": "code",
      "source": [
        "# 10. How would you print the output of wc -w to a file?\n",
        "\n",
        "! wc -w head-m.txt tail-m.txt > wcs.txt # direct to a file"
      ],
      "metadata": {
        "id": "wXMEtxyAL4J2"
      },
      "execution_count": null,
      "outputs": []
    },
    {
      "cell_type": "code",
      "source": [
        "! ls"
      ],
      "metadata": {
        "id": "1VryumlzxvHP"
      },
      "execution_count": null,
      "outputs": []
    },
    {
      "cell_type": "code",
      "source": [
        "# Check what you've got\n",
        "\n",
        "! cat wcs.txt"
      ],
      "metadata": {
        "id": "Ou-nyU8uMB6Y"
      },
      "execution_count": null,
      "outputs": []
    },
    {
      "cell_type": "code",
      "source": [],
      "metadata": {
        "id": "nxiiQf_nMDLx"
      },
      "execution_count": null,
      "outputs": []
    }
  ]
}