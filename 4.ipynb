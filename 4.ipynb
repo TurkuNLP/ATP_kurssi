{
 "cells": [
  {
   "cell_type": "code",
   "execution_count": null,
   "metadata": {
    "collapsed": true
   },
   "outputs": [],
   "source": [
    "# säännölliset lausekkeet / regular expressions\n",
    "\n",
    "- Merkkijonokieli, joka voi vastata tai olla vastaamatta toista merkkijonoa\n",
    "\n",
    "    - Näppärä etsimiseen, korvaamiseen, monen tiedoston samanaikaiseen ajamiseen...\n",
    "\n",
    "- x --> x\n",
    "\n",
    "- x+ --> yksi tai useampi x\n",
    "\n",
    "- x* --> nolla tai enemmän *\n",
    "\n",
    "- sovelluksia catilla\n",
    "\n",
    "cat *\n",
    "\n",
    "\n",
    "- sovelluksia grepillä\n",
    "\n",
    "- \n",
    "esim. cat t.txt\n",
    "\n",
    "\n",
    "- virkkeisiin pilkkoja\n",
    "\n",
    "- verrata, miten vaikka ihqu ja ihku käyttäytyvät, mitä sanoja lähellä\n",
    "\n",
    "- etsiä hymiöitä\n",
    "\n",
    "- etsiä huutomerkkejä"
   ]
  }
 ],
 "metadata": {
  "kernelspec": {
   "display_name": "Bash",
   "language": "bash",
   "name": "bash"
  },
  "language_info": {
   "codemirror_mode": "shell",
   "file_extension": ".sh",
   "mimetype": "text/x-sh",
   "name": "bash"
  }
 },
 "nbformat": 4,
 "nbformat_minor": 0
}
