{
  "nbformat": 4,
  "nbformat_minor": 0,
  "metadata": {
    "colab": {
      "provenance": [],
      "authorship_tag": "ABX9TyPApyWFPzxxMByxIJZiSuVh",
      "include_colab_link": true
    },
    "kernelspec": {
      "name": "python3",
      "display_name": "Python 3"
    },
    "language_info": {
      "name": "python"
    }
  },
  "cells": [
    {
      "cell_type": "markdown",
      "metadata": {
        "id": "view-in-github",
        "colab_type": "text"
      },
      "source": [
        "<a href=\"https://colab.research.google.com/github/TurkuNLP/ATP_kurssi/blob/master/2025_ATP_Notebook_1_extra_task.ipynb\" target=\"_parent\"><img src=\"https://colab.research.google.com/assets/colab-badge.svg\" alt=\"Open In Colab\"/></a>"
      ]
    },
    {
      "cell_type": "markdown",
      "source": [
        "###Extra task\n",
        "\n",
        "Fetch just the story from a book in gutenberg.org\n",
        "\n",
        "Use `head`, `tail` and `wc -l` (line count)"
      ],
      "metadata": {
        "id": "wOQWuykjh2CN"
      }
    },
    {
      "cell_type": "code",
      "execution_count": null,
      "metadata": {
        "id": "7GpzWaFsh1m8"
      },
      "outputs": [],
      "source": [
        "! wget https://www.gutenberg.org/cache/epub/54306/pg54306.txt"
      ]
    },
    {
      "cell_type": "code",
      "source": [
        "# let's count the lines in the file for an overall view of the number of lines\n",
        "! wc -l pg54306.txt"
      ],
      "metadata": {
        "id": "lHlr8g8-iLsb"
      },
      "execution_count": null,
      "outputs": []
    },
    {
      "cell_type": "code",
      "source": [
        "# let's start with tail\n",
        "! tail pg54306.txt"
      ],
      "metadata": {
        "id": "7HrpychqD-Fy"
      },
      "execution_count": null,
      "outputs": []
    },
    {
      "cell_type": "code",
      "source": [
        "# let's add some more lines\n",
        "! tail -351 pg54306.txt"
      ],
      "metadata": {
        "id": "SXScxwbtEEsM"
      },
      "execution_count": null,
      "outputs": []
    },
    {
      "cell_type": "markdown",
      "source": [
        "So now we know that 351 lines from the end of the book are not part of the story."
      ],
      "metadata": {
        "id": "6gYF5-gREniZ"
      }
    },
    {
      "cell_type": "code",
      "source": [
        "# let's check the head\n",
        "! head -50 pg54306.txt"
      ],
      "metadata": {
        "id": "MZXV6ptqjtdb"
      },
      "execution_count": null,
      "outputs": []
    },
    {
      "cell_type": "code",
      "source": [
        "! head -24 pg54306.txt"
      ],
      "metadata": {
        "id": "d-MjVZyTh5g7"
      },
      "execution_count": null,
      "outputs": []
    },
    {
      "cell_type": "markdown",
      "source": [
        "In the beginning, 24 lines are not part of the story."
      ],
      "metadata": {
        "id": "CJ5FCDx4E0bN"
      }
    },
    {
      "cell_type": "code",
      "source": [
        "# let's first print the file with the tail being ok (ending in the story)\n",
        "# we print with head all the lines minus the 351 last lines containing text not part of the story\n",
        "# we direct this output to a new file\n",
        "! head -12175 pg54306.txt > tail_ok.txt"
      ],
      "metadata": {
        "id": "YW2O_F3liOXq"
      },
      "execution_count": null,
      "outputs": []
    },
    {
      "cell_type": "code",
      "source": [
        "! tail tail_ok.txt"
      ],
      "metadata": {
        "id": "LGnwp05jFDx_"
      },
      "execution_count": null,
      "outputs": []
    },
    {
      "cell_type": "code",
      "source": [
        "# then let's fix the beginning of the book\n",
        "# we print with tail all the lines minus the 24 first lines containing text not part of the story\n",
        "# we direct this to a new file\n",
        "! tail -12151 tail_ok.txt > head_ok.txt"
      ],
      "metadata": {
        "id": "DhDGIFvbjNJ7"
      },
      "execution_count": null,
      "outputs": []
    },
    {
      "cell_type": "code",
      "source": [
        "! head head_ok.txt"
      ],
      "metadata": {
        "id": "-Jc97cLLjod_"
      },
      "execution_count": null,
      "outputs": []
    },
    {
      "cell_type": "code",
      "source": [
        "# let's rename the file so we now that the file contains the cleaned version of the original file (the story only)\n",
        "! mv head_ok.txt mirdja_story_only.txt"
      ],
      "metadata": {
        "id": "hP08lMZ_FqM3"
      },
      "execution_count": null,
      "outputs": []
    },
    {
      "cell_type": "code",
      "source": [
        "# let's double-check that we succeeded\n",
        "! head mirdja_story_only.txt\n",
        "! echo ---\n",
        "! tail mirdja_story_only.txt"
      ],
      "metadata": {
        "id": "B4jyaqvZF59N"
      },
      "execution_count": null,
      "outputs": []
    }
  ]
}