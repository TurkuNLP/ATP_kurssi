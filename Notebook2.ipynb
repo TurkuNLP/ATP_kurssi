{
  "nbformat": 4,
  "nbformat_minor": 0,
  "metadata": {
    "colab": {
      "provenance": [],
      "collapsed_sections": [
        "FkLHWjUeEoE_"
      ],
      "authorship_tag": "ABX9TyOiKpR8v4YIkQQlYFeQBuTZ",
      "include_colab_link": true
    },
    "kernelspec": {
      "name": "python3",
      "display_name": "Python 3"
    },
    "language_info": {
      "name": "python"
    }
  },
  "cells": [
    {
      "cell_type": "markdown",
      "metadata": {
        "id": "view-in-github",
        "colab_type": "text"
      },
      "source": [
        "<a href=\"https://colab.research.google.com/github/TurkuNLP/ATP_kurssi/blob/master/Notebook2.ipynb\" target=\"_parent\"><img src=\"https://colab.research.google.com/assets/colab-badge.svg\" alt=\"Open In Colab\"/></a>"
      ]
    },
    {
      "cell_type": "markdown",
      "metadata": {
        "id": "qK8j601dEakq"
      },
      "source": [
        "# Notebook 2: more commands, flags (options) and pipes\n",
        "\n",
        "## egrep (or grep)\n",
        "* Matches a pattern on a line and prints it\n",
        "* see http://people.uta.fi/~jm58660/jutut/unix/grep.html \n",
        "* e.g. egrep \"is\" file\n",
        "* Note that capitals and whitespaces count!\n",
        "* So egrep \" is\" file gives a different output\n",
        "\n"
      ]
    },
    {
      "cell_type": "code",
      "metadata": {
        "id": "-hDMVIHhaDeS"
      },
      "source": [
        "# let's first get the data we had previously\n",
        "! wget https://www.gutenberg.org/cache/epub/20748/pg20748.txt\n",
        "! ls"
      ],
      "execution_count": null,
      "outputs": []
    },
    {
      "cell_type": "code",
      "metadata": {
        "id": "KWdUHyN6aRi9"
      },
      "source": [
        "! mv pg20748.txt book.txt # let's name this nicer\n"
      ],
      "execution_count": 3,
      "outputs": []
    },
    {
      "cell_type": "code",
      "source": [
        "! head book.txt # let's have a look"
      ],
      "metadata": {
        "id": "x2wGWfE1i4a2"
      },
      "execution_count": null,
      "outputs": []
    },
    {
      "cell_type": "code",
      "metadata": {
        "id": "-VAJnAjraqkb"
      },
      "source": [
        "! egrep \"snow\" book.txt"
      ],
      "execution_count": null,
      "outputs": []
    },
    {
      "cell_type": "code",
      "metadata": {
        "id": "9Olt3H8oazvM"
      },
      "source": [
        "! egrep \"Snow\" book.txt"
      ],
      "execution_count": null,
      "outputs": []
    },
    {
      "cell_type": "code",
      "source": [
        "! egrep \"Snow \" book.txt "
      ],
      "metadata": {
        "id": "HTEEG4lFjcdr"
      },
      "execution_count": 6,
      "outputs": []
    },
    {
      "cell_type": "markdown",
      "metadata": {
        "id": "syO3NO_SRDlD"
      },
      "source": [
        "## Options / flags\n",
        "\n",
        "* Options are arguments that can be given to Unix commands. These form one of the core elements of Unix command line work.\n",
        "\n",
        "* Options are difficult to remember but you can read them for instance on man pages or google for instrutions (which are probably easier to understand than man pages)\n"
      ]
    },
    {
      "cell_type": "code",
      "metadata": {
        "id": "JOZ0MkEZSA50"
      },
      "source": [
        "! man ls "
      ],
      "execution_count": null,
      "outputs": []
    },
    {
      "cell_type": "markdown",
      "metadata": {
        "id": "gUeLK-aRUCXf"
      },
      "source": [
        "### Some useful options\n",
        "\n",
        "* Head -n 15 prints 15 first lines\n",
        "* Tail -n 15 prints 15 last lines\n",
        "* wc -w prints wordcount\n",
        "* wc -l prints linecount\n"
      ]
    },
    {
      "cell_type": "code",
      "metadata": {
        "id": "8LNR-oRvm1Up"
      },
      "source": [
        "# let's try a bit!\n",
        "! head -5 book.txt\n",
        "! echo \"-----\"\n",
        "! wc -l book.txt\n",
        "! wc -w book.txt"
      ],
      "execution_count": null,
      "outputs": []
    },
    {
      "cell_type": "markdown",
      "source": [
        "* egrep -v (reverse) prints lines without a match\n",
        "* egrep -c counts matches\n",
        "* egrep -i ignores case\n",
        "* egrep -w matches just words\n",
        "* egrep -B N prints N lines Before\n",
        "* egrep -A N prints N lines After"
      ],
      "metadata": {
        "id": "9JItOSEvIz4B"
      }
    },
    {
      "cell_type": "code",
      "source": [
        "! egrep -i \"snow\" book.txt \n",
        "! egrep -w \"snow\" book.txt \n",
        "! egrep -wi \"snow\" book.txt # the flags can also be combined\n",
        "! egrep -v \"snow\" book.txt"
      ],
      "metadata": {
        "id": "25I5K7DCFVCN"
      },
      "execution_count": null,
      "outputs": []
    },
    {
      "cell_type": "code",
      "metadata": {
        "id": "oNP09g5AnYfx"
      },
      "source": [
        "! egrep -c \"snow\" book.txt\n",
        "! egrep -c \"Snow\" book.txt\n",
        "! egrep -ic \"snow\" book.txt\n",
        "! egrep -icw \"snow\" book.txt"
      ],
      "execution_count": null,
      "outputs": []
    },
    {
      "cell_type": "code",
      "source": [
        "! egrep -B 5 -A 5 \"Snow\" book.txt"
      ],
      "metadata": {
        "id": "wQUKRAmbXC56"
      },
      "execution_count": null,
      "outputs": []
    },
    {
      "cell_type": "markdown",
      "metadata": {
        "id": "4l6srdjKonG8"
      },
      "source": [
        "### Time out\n",
        "\n",
        "* How to rename a file?\n",
        "* How to count how many words and lines a file has?\n",
        "* How to count how many times the pronoun _he_ appears in a file? How can you control the use of capitals and white spaces so that the query matches only entire words?\n",
        "* How to direct all the lines that match the query (_he_) to a file?\n",
        "For instance, the file could include the following lines:\n",
        "\n",
        "```\n",
        "He appread this many times:\n",
        "15\n",
        "```\n",
        "### Advanced\n",
        "* You can also combine commands on one line using ;\n",
        "* You can assign variables using $:\n"
      ]
    },
    {
      "cell_type": "code",
      "metadata": {
        "id": "C-DD-gxHt3M4"
      },
      "source": [
        "!wordcount=$(wc -w book.txt) ; echo \"Word count is $wordcount\"\n"
      ],
      "execution_count": null,
      "outputs": []
    },
    {
      "cell_type": "code",
      "source": [
        "!wordcount=$(wc -w book.txt) ; echo \"Word count is $wordcount\"\n",
        "!echo \"Word count is\", $wordcount # this wont work anymore on Colab, because each line is interpreted individually"
      ],
      "metadata": {
        "id": "esFiuJ0QJ3v-"
      },
      "execution_count": null,
      "outputs": []
    },
    {
      "cell_type": "markdown",
      "metadata": {
        "id": "hFHd6af-ElBx"
      },
      "source": [
        "### Pipes (putket)\n",
        "\n",
        "* You can combine commands with a pipe | (alt gr + the key next to z)\n",
        "* This way the output of the first command goes as input to the next one\n",
        "* cat file.txt | wc -w (is actually the same as just wc -w) # first prints a file, then counts words\n",
        "* cat file.txt | egrep \"is\" # first prints a file, then matches the pattern\n",
        "*  cat file.txt | egrep \"is\"  | wc -l\n",
        "*  cat file.txt | egrep \"is\" | head\n",
        "*  cat file.txt | egrep \"is\" > output.txt\n",
        "* cat file.txt | head -1000 | tail -100 # prints the lines between 900-1000"
      ]
    },
    {
      "cell_type": "code",
      "source": [
        "! cat book.txt | egrep \"is\" | wc -l\n",
        "! cat book.txt | egrep \"is\" | head"
      ],
      "metadata": {
        "id": "tuEPyzSGeXYt"
      },
      "execution_count": null,
      "outputs": []
    },
    {
      "cell_type": "code",
      "source": [
        "\n",
        "! cat book.txt | egrep -w \"is\" | wc -l\n",
        "! cat book.txt | egrep -w \"is\" | head\n"
      ],
      "metadata": {
        "id": "qUUv81nNSylz"
      },
      "execution_count": null,
      "outputs": []
    },
    {
      "cell_type": "code",
      "source": [
        "! cat book.txt | egrep -wi \"is\" | head\n",
        "! cat book.txt | egrep -wi \"is\" | wc -l"
      ],
      "metadata": {
        "id": "i5888tpWLjq0"
      },
      "execution_count": null,
      "outputs": []
    },
    {
      "cell_type": "code",
      "source": [
        "# Again, you can direct these to a file as before\n",
        "!  cat book.txt | egrep -wi \"is\" | wc -l > file.txt\n",
        "! cat file.txt"
      ],
      "metadata": {
        "id": "M6_977gPfKvd"
      },
      "execution_count": null,
      "outputs": []
    },
    {
      "cell_type": "markdown",
      "source": [
        "## Frequency counts\n",
        "\n",
        "* A frequency counter can be done by combining *sort* and *uniq* commands with a pipe\n",
        "* `Sort` sorts the input lines to alphabetical order\n",
        "* `Uniq` filters repetitive lines\n"
      ],
      "metadata": {
        "id": "jCkv4zqzS-7A"
      }
    },
    {
      "cell_type": "code",
      "source": [
        "! wget http://dl.turkunlp.org/atp/tweets_en_nort.csv  # this gives us a new dataset - what do they look like?"
      ],
      "metadata": {
        "id": "lqIKGsF2V86r"
      },
      "execution_count": null,
      "outputs": []
    },
    {
      "cell_type": "markdown",
      "source": [
        "Let's first take just the tweet parts from the data, it's the column number 3 that we can get with `cut -f 3`\n",
        "\n",
        "Also, there seem to be empty lines. Those we can delete with `egrep -v \"^$\"`\n",
        "\n"
      ],
      "metadata": {
        "id": "2rXnywspNH_k"
      }
    },
    {
      "cell_type": "code",
      "source": [
        "! cat tweets_en_nort.csv | egrep -v \"^$\" | cut -f 3 | head -20"
      ],
      "metadata": {
        "id": "LaVva_j4NGNy"
      },
      "execution_count": null,
      "outputs": []
    },
    {
      "cell_type": "code",
      "source": [
        "! ! cat tweets_en_nort.csv | egrep -v \"^$\" |  cut -f 3 > tweets_text.txt # let's direct this to a file that we can then use"
      ],
      "metadata": {
        "id": "hTzqtcKxNzja"
      },
      "execution_count": 20,
      "outputs": []
    },
    {
      "cell_type": "code",
      "source": [
        "! cat tweets_text.txt | head "
      ],
      "metadata": {
        "id": "Lbkao3K6X8pp"
      },
      "execution_count": null,
      "outputs": []
    },
    {
      "cell_type": "markdown",
      "source": [
        "Then to the frequency counter part"
      ],
      "metadata": {
        "id": "JGYmnSxrOIZz"
      }
    },
    {
      "cell_type": "code",
      "source": [
        "! cat tweets_text.txt | sort | head # the beginning of the sorted document looks like this "
      ],
      "metadata": {
        "id": "ZbSUvo8FOK5q"
      },
      "execution_count": null,
      "outputs": []
    },
    {
      "cell_type": "code",
      "source": [
        "! cat tweets_text.txt | sort | head -3000 | tail"
      ],
      "metadata": {
        "id": "0R_ehVNaPre0"
      },
      "execution_count": null,
      "outputs": []
    },
    {
      "cell_type": "markdown",
      "source": [
        "`Uniq` prints only unique lines, i.e., deletes duplicate lines that follow each other. `Uniq -c` counts the number of duplicate lines"
      ],
      "metadata": {
        "id": "3tSLuG7pQWl7"
      }
    },
    {
      "cell_type": "code",
      "source": [
        "! cat tweets_text.txt | sort | uniq -c | head"
      ],
      "metadata": {
        "id": "U2Eo6gVaQWEH"
      },
      "execution_count": null,
      "outputs": []
    },
    {
      "cell_type": "markdown",
      "source": [
        "`Sort -n` sorts the lines by their number"
      ],
      "metadata": {
        "id": "LW2wRYDRQpbT"
      }
    },
    {
      "cell_type": "code",
      "source": [
        "! cat tweets_text.txt | sort | uniq -c | sort -n"
      ],
      "metadata": {
        "id": "mgWOHXy5Qu7p"
      },
      "execution_count": null,
      "outputs": []
    },
    {
      "cell_type": "markdown",
      "source": [
        "Sort -nr sorts the lines by their number in a reverse order --> perhaps a bit practical"
      ],
      "metadata": {
        "id": "KpBFlkJZRLfJ"
      }
    },
    {
      "cell_type": "code",
      "source": [
        "! cat tweets_text.txt | sort | uniq -c | sort -nr | head"
      ],
      "metadata": {
        "id": "iEUp_0jYRKhe"
      },
      "execution_count": null,
      "outputs": []
    },
    {
      "cell_type": "markdown",
      "source": [
        "### ... so this is how we then have the counter!"
      ],
      "metadata": {
        "id": "51CTVt99RjhF"
      }
    },
    {
      "cell_type": "markdown",
      "source": [
        "### Today\n",
        "\n",
        "* Flags are used to change or specify commands\n",
        "* Pipes are used to combine commands\n",
        "* New flags and commands \n",
        "  * egrep + flags\n",
        "  * sort\n",
        "  * uniq\n",
        "  * sort | uniq -c | sort -rn\n"
      ],
      "metadata": {
        "id": "Hkj29_4zUZhg"
      }
    },
    {
      "cell_type": "markdown",
      "metadata": {
        "id": "FkLHWjUeEoE_"
      },
      "source": [
        "## Exercise \n",
        "\n",
        "* It would be useful to have a look at the actual text in the Gutenberg book, not just the beginning or end. How could you print the lines between 210 and 220? How do they look like?\n",
        "\n",
        "* Can you think of two ways to count the lines that match the word \"Gutenberg\"?\n",
        "* How can you direct to a file the first 5 lines that match \"Gutenberg\"?\n",
        "* Filter away lines that have the word \"gutenberg\" in some form and direct the \"cleaned\" version to a file. Compare this to the original file. How many words or lines did you delete with this filtering?\n",
        "\n",
        "Advanced\n",
        "* Advanced: Can you find egrep options you can use to match entire words?\n",
        "* Make one-liners that print nicely different counts to a file\n",
        "* Btw you can also assign piped commands as variables\n",
        "\n",
        "\n"
      ]
    },
    {
      "cell_type": "code",
      "metadata": {
        "id": "mpzbzucr0jw1"
      },
      "source": [
        "!wordcount=$(cat book.txt|egrep -i \"the\" | wc -l) ; echo \"Line count for the is $wordcount\" >> niceoutput.txt\n"
      ],
      "execution_count": null,
      "outputs": []
    }
  ]
}