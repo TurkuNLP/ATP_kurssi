{
  "nbformat": 4,
  "nbformat_minor": 0,
  "metadata": {
    "colab": {
      "name": "Notebook2.ipynb",
      "provenance": [],
      "toc_visible": true,
      "authorship_tag": "ABX9TyOE/eyvDqOpDfhPIklHOmto",
      "include_colab_link": true
    },
    "kernelspec": {
      "name": "python3",
      "display_name": "Python 3"
    },
    "language_info": {
      "name": "python"
    }
  },
  "cells": [
    {
      "cell_type": "markdown",
      "metadata": {
        "id": "view-in-github",
        "colab_type": "text"
      },
      "source": [
        "<a href=\"https://colab.research.google.com/github/TurkuNLP/ATP_kurssi/blob/master/Notebook2.ipynb\" target=\"_parent\"><img src=\"https://colab.research.google.com/assets/colab-badge.svg\" alt=\"Open In Colab\"/></a>"
      ]
    },
    {
      "cell_type": "markdown",
      "metadata": {
        "id": "qK8j601dEakq"
      },
      "source": [
        "# Notebook 2: more commands, flags (options) and pipes\n",
        "\n",
        "## egrep (or grep)\n",
        "* Matches a pattern on a line and prints it\n",
        "* see http://people.uta.fi/~jm58660/jutut/unix/grep.html \n",
        "* e.g. egrep \"is\" file\n",
        "* Note that capitals and whitespaces count!\n",
        "* So egrep \" is\" file gives a different output\n",
        "\n"
      ]
    },
    {
      "cell_type": "code",
      "metadata": {
        "id": "-hDMVIHhaDeS"
      },
      "source": [
        "# let's first get the data we had previously\n",
        "! wget https://www.gutenberg.org/cache/epub/20748/pg20748.txt\n",
        "! ls"
      ],
      "execution_count": null,
      "outputs": []
    },
    {
      "cell_type": "code",
      "metadata": {
        "id": "KWdUHyN6aRi9"
      },
      "source": [
        "! mv pg20748.txt book.txt # let's name this nicer\n",
        "! head book.txt # let's have a look\n"
      ],
      "execution_count": null,
      "outputs": []
    },
    {
      "cell_type": "code",
      "metadata": {
        "id": "-VAJnAjraqkb"
      },
      "source": [
        "! egrep \"project\" book.txt"
      ],
      "execution_count": null,
      "outputs": []
    },
    {
      "cell_type": "code",
      "metadata": {
        "id": "9Olt3H8oazvM"
      },
      "source": [
        "! egrep \"Duck\" book.txt"
      ],
      "execution_count": null,
      "outputs": []
    },
    {
      "cell_type": "markdown",
      "metadata": {
        "id": "syO3NO_SRDlD"
      },
      "source": [
        "## Options / flags\n",
        "\n",
        "* Options are arguments that can be given to Unix commands. These form one of the core elements of Unix command line work.\n",
        "\n",
        "* Options are difficult to remember but you can read them for instance on man pages\n"
      ]
    },
    {
      "cell_type": "code",
      "metadata": {
        "id": "JOZ0MkEZSA50"
      },
      "source": [
        "! man ls "
      ],
      "execution_count": null,
      "outputs": []
    },
    {
      "cell_type": "markdown",
      "metadata": {
        "id": "gUeLK-aRUCXf"
      },
      "source": [
        "* Head -n 15 prints 15 first lines\n",
        "* Tail -n 15 prints 15 last lines\n",
        "* ls -lah prints more information than just ls\n",
        "* egrep -v (reverse) prints lines without a match\n",
        "* egrep -c counts matches\n",
        "* egrep -i ignores case\n",
        "* egrep -B N prints N lines Before\n",
        "* egrep -A N prints N lines After\n",
        "* wc -w prints wordcount\n",
        "* wc -l prints linecount"
      ]
    },
    {
      "cell_type": "code",
      "metadata": {
        "id": "8LNR-oRvm1Up"
      },
      "source": [
        "# let's try a bit!\n",
        "! head -5 book.txt\n",
        "! wc -l book.txt\n",
        "! wc -w book.txt"
      ],
      "execution_count": null,
      "outputs": []
    },
    {
      "cell_type": "code",
      "metadata": {
        "id": "oNP09g5AnYfx"
      },
      "source": [
        "! egrep -c \"of\" book.txt\n",
        "! egrep -i \"of\" book.txt\n"
      ],
      "execution_count": null,
      "outputs": []
    },
    {
      "cell_type": "code",
      "metadata": {
        "id": "h7EWQXx2n9gS"
      },
      "source": [
        "# Flags can also be combined!\n",
        "! egrep -ci \"of\" book.txt\n",
        "! egrep -c \"of\" book.txt"
      ],
      "execution_count": null,
      "outputs": []
    },
    {
      "cell_type": "markdown",
      "metadata": {
        "id": "4l6srdjKonG8"
      },
      "source": [
        "### Exercise on flags\n",
        "\n",
        "* Count how many words and lines the Gutenberg book has\n",
        "\n",
        "* First check how the actual text looks like. You remember that with default head and tail we got only the beginning and ending notes, not the actual stories? How could you get a longer chunk of the file?\n",
        "\n",
        "* Let's analyze personal pronouns in the book. How many times the pronoun \"it\" is used? What about the female and male pronouns? How can you use the flags so that you can catch both \"He\" and \"he\"? \n",
        "\n",
        "* (Later we will also learn how to match optional sequences so you can get both \"he\" and \"himself\" to a oneliner, but let's not go there quite yet.)\n",
        "\n",
        "* Create a file where you direct all the counts and their descriptors. For instance, the file could include the following lines:\n",
        "\n",
        "```\n",
        "She appread this many times:\n",
        "15\n",
        "```\n",
        "### Advanced\n",
        "* (You can also combine commands on one line using ;)\n",
        "* (You can assign variables using $:\n"
      ]
    },
    {
      "cell_type": "code",
      "metadata": {
        "id": "C-DD-gxHt3M4"
      },
      "source": [
        "!wordcount=$(wc -w book.txt) ; echo \"Word count is $wordcount\"\n"
      ],
      "execution_count": null,
      "outputs": []
    },
    {
      "cell_type": "markdown",
      "metadata": {
        "id": "hFHd6af-ElBx"
      },
      "source": [
        "### Pipes (putket)\n",
        "\n",
        "* You can combine commands with a pipe | (alt gr + the key next to z)\n",
        "* This way the output of the first command goes as input to the next one\n",
        "* cat file.txt | wc -w (is actually the same as just wc -w) # first prints a file, then counts words\n",
        "* cat file.txt | egrep \"is\" # first prints a file, then matches the pattern\n",
        "*  cat file.txt | egrep \"is\"  | wc -w\n",
        "*  cat file.txt | egrep \"is\" | head\n",
        "*  cat file.txt | egrep \"is\" > output.txt\n",
        "* cat file.txt | egrep \"is\" | wc -l\n",
        "* cat file.txt | head -1000 | tail -100 # prints the lines between 900-1000"
      ]
    },
    {
      "cell_type": "markdown",
      "metadata": {
        "id": "FkLHWjUeEoE_"
      },
      "source": [
        "## Exercise \n",
        "\n",
        "* It would be useful to have a look at the actual text in the Gutenberg book, not just the beginning or end. How could you print the lines between 210 and 220? How do they look like?\n",
        "\n",
        "* Can you think of two ways to count the lines that match the word \"Gutenberg\"?\n",
        "* How can you direct to a file the first 5 lines that match \"Gutenberg\"?\n",
        "* Filter away lines that have the word \"gutenberg\" in some form and direct the \"cleaned\" version to a file. Compare this to the original file. How many words or lines did you delete with this filtering?\n",
        "\n",
        "Advanced\n",
        "* Advanced: Can you find egrep options you can use to match entire words?\n",
        "* Make one-liners that print nicely different counts to a file\n",
        "* Btw you can also assign piped commands as variables\n",
        "\n",
        "\n"
      ]
    },
    {
      "cell_type": "code",
      "metadata": {
        "id": "mpzbzucr0jw1"
      },
      "source": [
        "!wordcount=$(cat book.txt|egrep -i \"the\" | wc -l) ; echo \"Line count for the is $wordcount\" >> niceoutput.txt\n"
      ],
      "execution_count": null,
      "outputs": []
    }
  ]
}