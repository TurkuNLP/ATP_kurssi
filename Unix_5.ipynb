{
 "cells": [
  {
   "cell_type": "markdown",
   "metadata": {},
   "source": [
    "# Merkkijonon korvaaminen toisella\n",
    "\n",
    "Yhdistettynä säännöllisiin lausekkeisiin merkkijonon korvaaminen toisilla on jo hyvin ilmaisuvoimainen komentoyhdistelmä.\n",
    "\n",
    "Hyvä komento tähän on seuraava perl-skripti. Se korvaa ensimmäisten kenoviivojen välissä olevan merkkijonon toisen kenoviivan välissä olevalla merkkojonolla\n",
    "\n",
    "-- echo \"AAA\" | perl -pe 's/A/Ä/g' \n",
    "\n",
    "    ÄÄÄ\n",
    "    \n",
    "Skriptiin voi liittää säännöllisiä lausekkeita:\n",
    "\n",
    "-- echo \"a1b2c3\" | perl -pe 's/[0-9]//g'\n",
    "\n",
    "    abc\n",
    "    \n",
    "-- echo \"a1b2c3\" | perl -pe 's/[a-z]//g'\n",
    "   \n",
    "   123\n",
    "   \n",
    "   \n",
    "-- echo \".tokenisointivirhe;:\" | perl -pe 's/[,\\.;:]//g' \n",
    "\n",
    "    tokensointivirhe\n",
    "    \n",
    "\\n tarkoittaa rivinvaihtoa (newline). Näin ollen kaikki välilyönnit rivinvaihdolla korvaava skripti laittaa sanat omille riveilleen!\n",
    "\n",
    "-- perl -pe 's/ /\\n/g'\n"
   ]
  },
  {
   "cell_type": "markdown",
   "metadata": {},
   "source": [
    "# Tehtävä 8\n",
    "\n",
    "Tehkää (ryhmissä?) komento, joka pilkkoo tekstin sanoiksi, eristää sanat omille riveilleen ja tekee niistä frekvenssilistan. \n",
    "\n",
    "Tavoitteena on saada mahdollisimman siisti frekvenssilista tiedoston sanoista niin, että esimerkiksi välimerkit ja numerot ovat omilla riveillään, isot ja pienet kirjaimet on normalisoitu, jne. Jos komennosta tulee liian pitkä, voi välivaiheita tallentaa omiin tiedostoihinsa. Myös komennot voi kopioida talteen omaan tiedostoonsa talteen, jottei ne katoa.\n",
    "\n",
    "Käyttäkää datana Gutenbergin sivuilta löytyvää tarinaa The Return of Sherlock Holmes. Sen saa kopioitua seuraavalla komennolla internetistä: \n",
    "\n",
    "wget http://www.gutenberg.org/files/108/108-0.txt\n",
    "\n",
    "Tämän jälkeen tiedosto ilmestyy kansioon, jossa tämä komento suoritetaan."
   ]
  }
 ],
 "metadata": {
  "kernelspec": {
   "display_name": "Bash",
   "language": "bash",
   "name": "bash"
  },
  "language_info": {
   "codemirror_mode": "shell",
   "file_extension": ".sh",
   "mimetype": "text/x-sh",
   "name": "bash"
  }
 },
 "nbformat": 4,
 "nbformat_minor": 0
}
