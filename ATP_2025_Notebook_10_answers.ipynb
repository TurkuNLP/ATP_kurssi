{
  "nbformat": 4,
  "nbformat_minor": 0,
  "metadata": {
    "colab": {
      "provenance": [],
      "include_colab_link": true
    },
    "kernelspec": {
      "name": "python3",
      "display_name": "Python 3"
    },
    "language_info": {
      "name": "python"
    }
  },
  "cells": [
    {
      "cell_type": "markdown",
      "metadata": {
        "id": "view-in-github",
        "colab_type": "text"
      },
      "source": [
        "<a href=\"https://colab.research.google.com/github/TurkuNLP/ATP_kurssi/blob/master/ATP_2025_Notebook_10_answers.ipynb\" target=\"_parent\"><img src=\"https://colab.research.google.com/assets/colab-badge.svg\" alt=\"Open In Colab\"/></a>"
      ]
    },
    {
      "cell_type": "markdown",
      "source": [
        "# Hands-on 10-1\n",
        "\n",
        "Practise using for loops.\n",
        "\n",
        "### 10-1.1   \n",
        "Print all file names in a folder using for loop.\n",
        "\n",
        "\n",
        "```\n",
        "# if you are in the folder where the files are\n",
        "for f in * ; do echo $f ; done\n",
        "```\n",
        "\n",
        "```\n",
        "# if you run the for loop on files in a specific folder\n",
        "for f in path/to/folder/* ; do echo $f ; done\n",
        "```\n",
        "\n",
        "\n",
        "### 10-1.2\n",
        "Print the file names and word counts of each file in a folder.\n",
        "\n",
        "\n",
        "```\n",
        "for f in * ; do echo $f ; cat $f | wc -w ; done\n",
        "```\n",
        "\n",
        "\n",
        "### 10-1.3\n",
        "Grep and print all perl scripts in your .sh files in a folder. Print also the script file names.\n",
        "\n",
        "\n",
        "```\n",
        "for f in *.sh ; do echo $f ; cat $f | egrep \"perl\" ; done\n",
        "```\n",
        "\n"
      ],
      "metadata": {
        "id": "JTfy-PzYhIhl"
      }
    },
    {
      "cell_type": "markdown",
      "source": [
        "# Hands-on 10-2\n",
        "\n",
        "More for loops and their output.\n",
        "\n",
        "### 10-2.1.\n",
        "Run one of your earlier scripts on at least two similar files (make sure that the script works equally well on both files) in your folder using a for-loop. Print the names and the output in one file.\n",
        "\n",
        "```\n",
        "for f in path/to/folder/* ; do echo $f ; cat $f | ./yourscript.sh ; done > output_of_yourscript.txt\n",
        "```\n",
        "\n",
        "### 10-2.2.\n",
        "Copy the files cricket.csv and icehockey.csv from /home/mavela/data-2022/ . Make a script that counts the words in a file. Exclude numbers and punctuation. Run the script on the cricket and ice hockey files using for loops and direct the output into separate files.\n",
        "\n",
        "```\n",
        "# we expect you to be able to create the script file\n",
        "# so we will just call it word_count.sh here :)\n",
        "\n",
        "# create a separate directory for the files\n",
        "mkdir sports\n",
        "\n",
        "# copy to a subdirectory\n",
        "cp /home/mavela/data-2022/cricket.csv ./sports/\n",
        "cp /home/mavela/data-2022/icehockey.csv ./sports/\n",
        "\n",
        "# count words\n",
        "for f in sports/* ; do echo $f ; cat $f | ./word_count.sh > $f-output.txt ; done\n",
        "```\n"
      ],
      "metadata": {
        "id": "ZNNXbI_whNRL"
      }
    },
    {
      "cell_type": "markdown",
      "source": [
        "# EXTRA: Hands-on 10-3\n"
      ],
      "metadata": {
        "id": "19DEPrkATaOL"
      }
    },
    {
      "cell_type": "markdown",
      "source": [
        "### 10-3.1\n",
        "\n",
        "* Print a list of numbers from 10 to 15. Use a for-loop and a number range.\n",
        "\n",
        "```\n",
        "for i in {10..15} ; do echo $i ; done\n",
        "```"
      ],
      "metadata": {
        "id": "vlpVMlvgTgsd"
      }
    },
    {
      "cell_type": "markdown",
      "source": [
        "### 10-3.2\n",
        "Creating a bunch of files at once, then renaming them.\n",
        "\n",
        "* Make a new directory called `animal_corpus`.\n",
        "* Move into the direcotry.\n",
        "* Fill it with files with this one-liner:\n",
        "```\n",
        "for i in {1..20} ; do echo \"Old McDonald had a farm with $i animals\" > file_$i.txt ; done\n",
        "```\n",
        "NB: If the above line does not work, try this more explicit notation:\n",
        "\n",
        "```\n",
        "for i in {1..20}; do echo \"Old McDonald had a farm with ${i} animals\" > file_${i}.txt; done\n",
        "```\n",
        "* Write a for-loop that renames all the files so that \"file\" is replaced with \"animals\". E.g. `file_1.txt` >>>> `animals_1.txt`\n",
        "\n",
        "```\n",
        "for i in {1..20}; do mv file_${i}.txt animals_${i}.txt; done\n",
        "```\n",
        "(There are other ways to do this but they require notations that we have not covered.)\n",
        "\n"
      ],
      "metadata": {
        "id": "YuMu25tIGMil"
      }
    },
    {
      "cell_type": "markdown",
      "source": [
        "### 10-3.3 (VERY ADVANCED!)\n",
        "\n",
        "This task cannot be done with a brace expansion, but try it first anyway. Then try to understand why brace expansion does not do what we want and what the right command might be (use Google or ask an AI):\n",
        "\n",
        "* Write a script that takes two numbers as arguments, then prints all the numbers between the first and the last number.\n",
        "\n",
        "Usage from command line:\n",
        "```\n",
        "./list_numbers.sh 2 5\n",
        "```\n",
        "\n",
        "Script that we can make but does not work:\n",
        "```\n",
        "#!/bin/bash\n",
        "for i in {$1..$2} ; do echo $i ; done\n",
        "\n",
        "# this prints out \"{2..5}\"\n",
        "```\n",
        "\n",
        "Script that actually works:\n",
        "```\n",
        "#!/bin/bash\n",
        "for i in $(seq $1 $2) ; do echo $i ; done\n",
        "\n",
        "# this prints out the number sequence correctly\n",
        "```\n",
        "\n",
        "So why does the first version not work? Because Bash interprets special notations in a certain order, and brace expansions are always interpreted before variables (`$`). In the first script version, Bash sees that the curly braces contain something it does not understand, so it processes`{$1..$2}` as literal text, and only after that the `$1` and `$2` get substituted with the actual numbers. So it just prints `{2..5}`.\n",
        "\n",
        "So what is `seq` then and why do we need it? It stands for \"sequence\" and is used to handle sequences of numbers specifically as numbers, not as characters. E.g.:\n",
        "```\n",
        "seq 5\t  prints 1 → 5\t  1 2 3 4 5\n",
        "seq 2 5\t  prints 2 → 5\t  2 3 4 5\n",
        "```\n",
        "And why is there a dollar sign in front of `$(seq $1 $2)` in the script?\n",
        "\n",
        "Again, because Bash interprets notation in a certain order. The `$()` notation is called a command substitution, and it basically just means \"run this command that is inside the parentheses, and replace the whole `$(...)` with whatever that command prints\". The variables referencing the arguments (`$1` and `$2`) are interpreted before the command substitution, so the line\n",
        "\n",
        "```\n",
        "for i in $(seq $1 $2)\n",
        "```\n",
        "is interpreted as:\n",
        "```\n",
        "for i in 2 3 4 5\n",
        "```\n",
        "Bash can get complicated, but it's more simple when you don't use numbers! :)\n",
        "\n",
        "\n",
        "\n"
      ],
      "metadata": {
        "id": "98X_MtA4TgkK"
      }
    }
  ]
}