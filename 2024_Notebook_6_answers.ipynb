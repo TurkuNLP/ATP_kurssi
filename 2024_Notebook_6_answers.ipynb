{
  "nbformat": 4,
  "nbformat_minor": 0,
  "metadata": {
    "colab": {
      "provenance": [],
      "authorship_tag": "ABX9TyOImsxARkJF8motDNiVSgAL",
      "include_colab_link": true
    },
    "kernelspec": {
      "name": "python3",
      "display_name": "Python 3"
    },
    "language_info": {
      "name": "python"
    }
  },
  "cells": [
    {
      "cell_type": "markdown",
      "metadata": {
        "id": "view-in-github",
        "colab_type": "text"
      },
      "source": [
        "<a href=\"https://colab.research.google.com/github/TurkuNLP/ATP_kurssi/blob/master/2024_Notebook_6_answers.ipynb\" target=\"_parent\"><img src=\"https://colab.research.google.com/assets/colab-badge.svg\" alt=\"Open In Colab\"/></a>"
      ]
    },
    {
      "cell_type": "markdown",
      "source": [
        "##More practice\n",
        "\n",
        "Now, it's your turn.\n",
        "\n",
        "4. Count the most frequent **lemmas**.\n",
        "\n",
        "5. Count the most frequent **POS tags**.\n",
        "\n",
        "6. How could you make a frequency list **without punctuation and numbering**?"
      ],
      "metadata": {
        "id": "bITl10x0vpqX"
      }
    },
    {
      "cell_type": "code",
      "source": [
        "#get the data\n",
        "\n",
        "! git clone https://github.com/UniversalDependencies/UD_English-EWT.git"
      ],
      "metadata": {
        "id": "MRjR_xWQgq4S"
      },
      "execution_count": null,
      "outputs": []
    },
    {
      "cell_type": "code",
      "source": [
        "#go to the folder\n",
        "#check what's in it\n",
        "\n",
        "%cd UD_English-EWT/\n",
        "! ls"
      ],
      "metadata": {
        "id": "uCBfnnBzh4iE"
      },
      "execution_count": null,
      "outputs": []
    },
    {
      "cell_type": "code",
      "source": [
        "#let's print the head of the files to remind us what they look like\n",
        "\n",
        "! cat *conllu | head -50 # lots of metadata!\n"
      ],
      "metadata": {
        "id": "NPvtoqQ6jnAS"
      },
      "execution_count": null,
      "outputs": []
    },
    {
      "cell_type": "code",
      "source": [
        "#4. Which are the most frequent lemmas?\n",
        "\n",
        "#let's first grab the lines that include tokens only (i.e. exclude meta data)\n",
        "\n",
        "!echo 'cut column with lemmas (column 3)'\n",
        "!echo '---'\n",
        "\n",
        "! cat *conllu | egrep \"^[0-9]+[:space:]\" | cut -f 3 | head\n",
        "\n",
        "#then, add the frequency list to the command\n",
        "!echo '---'\n",
        "!echo 'frequency list'\n",
        "!echo '---'\n",
        "\n",
        "! cat *conllu | egrep \"^[0-9+[:space:] | cut -f 3 | sort | uniq -c | sort -rn | head"
      ],
      "metadata": {
        "id": "MPDMTN2YndYE"
      },
      "execution_count": null,
      "outputs": []
    },
    {
      "cell_type": "code",
      "source": [
        "#5. Which are the most frequent POS tags?\n",
        "\n",
        "! cat *conllu | egrep \"^[0-9]+[:space:]\" | cut -f 2 | sort | uniq -c | sort -rn | head"
      ],
      "metadata": {
        "id": "JAoP0pk5vm6V"
      },
      "execution_count": null,
      "outputs": []
    },
    {
      "cell_type": "code",
      "source": [
        "#6. How could you get just words in the frequency lists?\n",
        "\n",
        "! cat *conllu | egrep \"^[0-9]+[:space:]\" | cut -f 2 | sort | uniq -c | sort -rn | head"
      ],
      "metadata": {
        "id": "F7Nq78yFwWkz"
      },
      "execution_count": null,
      "outputs": []
    }
  ]
}