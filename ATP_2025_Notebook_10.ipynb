{
  "nbformat": 4,
  "nbformat_minor": 0,
  "metadata": {
    "colab": {
      "provenance": [],
      "include_colab_link": true
    },
    "kernelspec": {
      "name": "python3",
      "display_name": "Python 3"
    },
    "language_info": {
      "name": "python"
    }
  },
  "cells": [
    {
      "cell_type": "markdown",
      "metadata": {
        "id": "view-in-github",
        "colab_type": "text"
      },
      "source": [
        "<a href=\"https://colab.research.google.com/github/TurkuNLP/ATP_kurssi/blob/master/ATP_2025_Notebook_10.ipynb\" target=\"_parent\"><img src=\"https://colab.research.google.com/assets/colab-badge.svg\" alt=\"Open In Colab\"/></a>"
      ]
    },
    {
      "cell_type": "markdown",
      "source": [
        "## Topics of this notebook:\n",
        "\n",
        "*  Thu 04 Dec 2025\n",
        "   * for-loops\n",
        "*  Mon 08 Dec 2025\n",
        "   * extra for-loops\n",
        "   * where to continue from here?\n",
        "   * send your questions!\n",
        "* Thu 11 Dec 2025\n",
        "  * FULL RECAP OF EVERYTHING + Q&A!\n"
      ],
      "metadata": {
        "id": "LE9os_HTU1XI"
      }
    },
    {
      "cell_type": "markdown",
      "source": [
        "# For-loops\n",
        "\n",
        "With for-loops we can execute the same command on several items. E.g., in\n",
        "\n",
        "```\n",
        "for f in cat dog mouse ; do echo $f ; done\n",
        "```\n",
        "we execute the command `echo` on all the strings `cat`, `dog` and `mouse` with just one command, instead of running three commands separately:\n",
        "\n",
        "`echo cat`\n",
        "\n",
        "`echo dog`\n",
        "\n",
        "`echo mouse`\n",
        "\n",
        "The item on which the command is executed in a for loop can be a file. This means that we can **execute the same command to multiple files** with one command. This is practical, since we can also execute **scripts** to multiple files with just one command.\n",
        "\n",
        "For for-loops we need **regular expressions**.\n",
        "\n",
        "\n",
        "\n",
        "\n",
        "\n",
        "\n",
        "\n",
        "\n",
        "\n",
        "\n",
        "\n",
        "\n",
        "\n",
        "\n",
        "\n",
        "\n",
        "\n",
        "\n",
        "\n",
        "\n"
      ],
      "metadata": {
        "id": "YqVmG0E_dx-0"
      }
    },
    {
      "cell_type": "markdown",
      "source": [
        "### For-loops in practise\n",
        "\n",
        "A for-loop begins with `for f` where `f` stands for the variable on which the command is executed (you can think of it as 'file': \"for file in the folder\"),  then comes the path of the folder with the files. You can specify if you want the loop to apply to all files or to a subset.\n",
        "\n",
        "* For all files:\n",
        "`for f in path/to/folder/*`\n",
        "\n",
        "* For files ending with csv:\n",
        "`for f in path/to/folder/*csv`\n",
        "\n",
        "* For files starting with myfi:\n",
        "`for f in path/to/folder/myfi*`\n",
        "\n",
        "\n",
        "If you are already in the folder you wish to operate on:\n",
        "\n",
        "* For all files in the folder:\n",
        "`for f in *`\n",
        "\n",
        "* For all files ending with .txt:\n",
        "`for f in *.txt`\n",
        "\n",
        "\n",
        "After specifying which files to operate on, you write `; do`and then the commands you want to execute. After the commands, you write `; done` to signal that your for-loop is finished.\n",
        "\n",
        "`for f in *; do [insert commands here]; done`\n",
        "\n",
        "The commands can be anything (pipes, scripts). Within the commands, `$f` refers to the file the command is executed on. For example:\n",
        "\n",
        "* List all text files in a folder:\n",
        "\n",
        "`for f in *.txt ; do echo $f ; done`\n",
        "\n",
        "* For every file in folder, print lines that have the word 'snow':\n",
        "\n",
        "`for f in path/to/folder/* ; do cat $f | egrep \"snow\" ; done`\n",
        "\n",
        "* Run a script on every file in folder:\n",
        "\n",
        "`for f in path/to/folder/* ; do cat $f | ./script.sh ; done`\n",
        "\n",
        "\n",
        "\n",
        "\n"
      ],
      "metadata": {
        "id": "S6s7rc_VXRvg"
      }
    },
    {
      "cell_type": "markdown",
      "source": [
        "\n",
        "## Directing output into a file\n",
        "\n",
        "\n",
        "The output can be directed into a file in two ways depending how many files you want as a result:\n",
        "\n",
        "1) In the end (all output in **one file**)\n",
        "\n",
        "`for f in path/to/folder/* ; do cat $f | egrep \"snow\" ; done > output.txt`\n",
        "\n",
        "2) Within the command (each output in a **separate file**)\n",
        "\n",
        "`for f in path/to/folder/* ; do cat $f | ./script.sh > $f-output.txt ; done`\n",
        "\n",
        "\n",
        "\n",
        "\n",
        "\n",
        "\n",
        "\n",
        "\n"
      ],
      "metadata": {
        "id": "bCT709kAae4a"
      }
    },
    {
      "cell_type": "markdown",
      "source": [
        "## Several commands within a for-loop\n",
        "\n",
        "* If you wish to execute several commands within the for loop, separate each one with a `;`\n",
        "* E.g., print file names AND lines with \"snow\" in the files:\n",
        "\n",
        "`for f in path/to/folder/* ; do echo $f ; cat $f | egrep \"snow\" ; done`"
      ],
      "metadata": {
        "id": "h0W1QN_PbNBn"
      }
    },
    {
      "cell_type": "markdown",
      "source": [
        "\n",
        "## Examples of some for-loops\n",
        "\n",
        "*   print **file names only**\n",
        "\n",
        "```\n",
        "for f in path/to/folder/*txt ; do echo $f ; done\n",
        "\n",
        "```\n",
        "\n",
        "*   print **file names and word counts**\n",
        "\n",
        "```\n",
        "for f in path/to/folder/*txt ; do echo $f ; cat $f | wc -w ; done\n",
        "\n",
        "```\n",
        "\n",
        "*   print **word count only**\n",
        "\n",
        "```\n",
        "for f in path/to/folder/*txt ; do cat $f | wc -w ; done\n",
        "\n",
        "```\n",
        "\n",
        "*   print **number of txt files only**\n",
        "\n",
        "```\n",
        "for f in path/to/folder/*txt ; do echo $f ; done | wc -l\n",
        "\n",
        "```\n",
        "\n",
        "**NOTE**\n",
        "\n",
        "*   Perl back refrences also use `$`, but they do not interfere with the `$f` and work as usual within a for loop. e.g.:\n",
        "\n",
        "```\n",
        "for f in *.txt ; do echo $f ; cat $f | perl -pe 's/([[:punct:]])/\\n$1/g' ; done\n",
        "```\n",
        "\n",
        "*   What the line above does:\n",
        "    1. For all files ending in `.txt`\n",
        "    2. print the file name\n",
        "    3. print the file and replace all punctuations with a newline and the punctuation in question (each punctuation starts a new line).\n",
        "\n",
        "* For-loops can be also used for looping other items than just files, and the item after `for` (e.g., above: `for f`) doesn't have to be `f`; remember though that it has to match the reference next to `$` (so if you use `for n` make sure you use `$n`).\n",
        "\n",
        "```\n",
        "for n in cat dog mouse ; do echo $n ; done\n",
        "```\n",
        "\n",
        "* EXTRA: It is also possible to specify a number of times something is done with curly brackets `{ }`. E.g. print a string 10 times:\n",
        "```\n",
        "for i in {1..10} ; do echo 'I am the best!' ; done\n",
        "```\n",
        "* N.B.! With for-loops you can also make/rename/delete multiple files, but it is very easy to make mistakes with it so be careful! It is better to work with one file at a time if there is a risk of losing data.\n"
      ],
      "metadata": {
        "id": "nN2KwlxxbKZb"
      }
    },
    {
      "cell_type": "markdown",
      "source": [
        "# Hands-on 10-1\n",
        "\n",
        "Practise using for loops.\n",
        "\n",
        "### 10-1.1   \n",
        "Print all file names in a folder using for loop.\n",
        "### 10-1.2\n",
        "Print the file names and word counts of each file in a folder.\n",
        "### 10-1.3\n",
        "Grep and print all perl scripts in your .sh files in a folder. Print also the script file names.\n",
        "\n"
      ],
      "metadata": {
        "id": "8hqBX5OEed10"
      }
    },
    {
      "cell_type": "markdown",
      "source": [
        "# Hands-on 10-2\n",
        "\n",
        "More for loops and their output.\n",
        "\n",
        "### 10-2.1.\n",
        "Run one of your earlier scripts on at least two similar files (make sure that the script works equally well on both files) in your folder using a for-loop. Print the names and the output in one file.\n",
        "\n",
        "### 10-2.2.\n",
        "Copy the files cricket.csv and icehockey.csv from /home/mavela/data-2022/ . Make a script that counts the words in a file. Exclude numbers and punctuation. Run the script on the cricket and ice hockey files using for loops and direct the output into separate files.\n"
      ],
      "metadata": {
        "id": "U5XzmDxBe-UJ"
      }
    },
    {
      "cell_type": "markdown",
      "source": [
        "\n",
        "---\n",
        "---\n",
        "---"
      ],
      "metadata": {
        "id": "JM6QyM1zCVHa"
      }
    },
    {
      "cell_type": "markdown",
      "source": [
        "# EXTRA: For-loops with brace expansion\n",
        "\n",
        "THIS WILL NOT BE ASKED IN THE EXAM! This is just for your information. We will only expect you to know how to for-loop over multiple files with an asterisk (*).  \n",
        "\n",
        "* It is possible to loop over a range of letters or numbers as characters. I will soon explain what \"as characters\" means, but first I will show you the notation.\n",
        "* A range defined with a brace expansion uses curly backets { } and two dots between the beginning and ending number or letter, e.g.:\n",
        "  * `for i in {1..5}` would loop over numbers from 1 to 5.\n",
        "  * `for i in {a..f}` would loop over the alphabet from a to f.\n",
        "* Referencing to the item in the loop works just like before with `$i`, e.g. `for i in {1..10} ; do echo $i ; done` will just print\n",
        "```\n",
        "1\n",
        "2\n",
        "3\n",
        "4\n",
        "5\n",
        "```\n",
        "* So what does \"letters or numbers as characters\" mean? Brace expansion handles everything as characters. So even numbers are not numbers, they are characters, and **you cannot expect any math-like behaviour with brace expansion**."
      ],
      "metadata": {
        "id": "Xq79NVoOHSQv"
      }
    },
    {
      "cell_type": "markdown",
      "source": [
        "# EXTRA: Hands-on 10-3"
      ],
      "metadata": {
        "id": "J6UYQ26HSLGX"
      }
    },
    {
      "cell_type": "markdown",
      "source": [
        "### 10-3.1\n",
        "* Print a list of numbers from 10 to 15. Use a for-loop and a brace expansion.\n"
      ],
      "metadata": {
        "id": "SPff9pofSQym"
      }
    },
    {
      "cell_type": "markdown",
      "source": [
        "### 10-3.2\n",
        "Creating a bunch of files at once, then renaming them.\n",
        "\n",
        "* Make a new directory called `animal_corpus`.\n",
        "* Move into the direcotry.\n",
        "* Fill it with files with this one-liner:\n",
        "```\n",
        "for i in {1..20} ; do echo \"Old McDonald had a farm with $i animals\" > file_$i.txt ; done\n",
        "```\n",
        "NB: If the above line does not work, try this more explicit notation:\n",
        "\n",
        "```\n",
        "for i in {1..20}; do echo \"Old McDonald had a farm with ${i} animals\" > file_${i}.txt; done\n",
        "```\n",
        "* Write a for-loop that renames all the files so that \"file\" is replaced with \"animals\". E.g. `file_1.txt` >>>> `animals_1.txt`\n",
        "\n"
      ],
      "metadata": {
        "id": "SdVJV2jQCKMM"
      }
    },
    {
      "cell_type": "markdown",
      "source": [
        "### 10-3.3 (VERY ADVANCED!)\n",
        "\n",
        "This task cannot be done with a brace expansion, but try it first anyway. Then try to understand why brace expansion does not do what we want and what the right command might be (use Google or ask an AI):\n",
        "\n",
        "* Write a script that takes two numbers as arguments, then prints all the numbers between the first and the last number."
      ],
      "metadata": {
        "id": "T0_sfdVWSUX4"
      }
    },
    {
      "cell_type": "markdown",
      "source": [
        "\n",
        "---\n",
        "---\n",
        "---"
      ],
      "metadata": {
        "id": "RVv224ENleVP"
      }
    },
    {
      "cell_type": "markdown",
      "source": [
        "# How to continue from here?\n",
        "\n",
        "A general tutorial to recap and learn some new stuff:\n",
        "* W3Schools Bash Tutorial: https://www.w3schools.com/bash/index.php\n",
        "\n",
        "If you are planning to use CSC's supercomputers, check this out:\n",
        "* Linux basics tutorial for CSC: https://docs.csc.fi/support/tutorials/env-guide/\n",
        "\n",
        "If you want to use what you have learned on your own Windows computer with minimum effort:\n",
        "* You can emulate Linux on a Windows computer with Cygwin (https://cygwin.com/). It does not do everything like a real Linux would, but is close. Just download and install.\n",
        "\n",
        "Feeling HC? If you have e.g. an old potato laptop with an outdated Windows that would otherwise go to a garbage heap, you could install e.g. Linux Lite on it and then have your own Linux environment where you can practice; no need for a server! (Linux is free! And Linux Lite is really a lot like Windows anyway so you could also use it to browse the internet or watch videos or whatever.)\n",
        "* How to install Linux Lite on a new machine: https://www.linuxliteos.com/manual/install.html#installguide (NB! Do this at your own risk; we will not be responsible!)\n",
        "\n",
        "Feeling like an absolute gigachad 1337 hacker? Make your new expensive high-end laptop dual boot Windows and Linux! (NB! Do this at your own risk and only if you absolutely know what you're doing!!! We will not buy you a new computer!) Some instructions e.g. here:\n",
        "* https://www.linuxliteos.com/manual/install.html#prepareinst\n"
      ],
      "metadata": {
        "id": "K-yl2eXfljgm"
      }
    },
    {
      "cell_type": "markdown",
      "source": [
        "\n",
        "---"
      ],
      "metadata": {
        "id": "E7xmSc8grUuG"
      }
    },
    {
      "cell_type": "markdown",
      "source": [
        "# NEXT TIME: RECAP & Q&A\n",
        "We will try to address any questions you may have during class, but if you want to ask more anonymously, please send your questions via email to Anna before the next class!"
      ],
      "metadata": {
        "id": "X8AABqJdrYCi"
      }
    }
  ]
}