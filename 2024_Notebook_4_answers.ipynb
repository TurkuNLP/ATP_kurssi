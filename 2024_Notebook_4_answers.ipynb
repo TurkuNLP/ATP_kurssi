{
  "nbformat": 4,
  "nbformat_minor": 0,
  "metadata": {
    "colab": {
      "provenance": [],
      "authorship_tag": "ABX9TyP9IssM6QDzBxV70ISfIisR",
      "include_colab_link": true
    },
    "kernelspec": {
      "name": "python3",
      "display_name": "Python 3"
    },
    "language_info": {
      "name": "python"
    }
  },
  "cells": [
    {
      "cell_type": "markdown",
      "metadata": {
        "id": "view-in-github",
        "colab_type": "text"
      },
      "source": [
        "<a href=\"https://colab.research.google.com/github/TurkuNLP/ATP_kurssi/blob/master/2024_Notebook_4_answers.ipynb\" target=\"_parent\"><img src=\"https://colab.research.google.com/assets/colab-badge.svg\" alt=\"Open In Colab\"/></a>"
      ]
    },
    {
      "cell_type": "code",
      "execution_count": null,
      "metadata": {
        "id": "ENGAzyUzNtyf",
        "colab": {
          "base_uri": "https://localhost:8080/"
        },
        "outputId": "253aae9c-4f0f-47ec-82c5-7ae2d38d9aa4"
      },
      "outputs": [
        {
          "output_type": "stream",
          "name": "stdout",
          "text": [
            "Cloning into 'CORE-corpus'...\n",
            "remote: Enumerating objects: 31, done.\u001b[K\n",
            "remote: Counting objects: 100% (23/23), done.\u001b[K\n",
            "remote: Compressing objects: 100% (21/21), done.\u001b[K\n",
            "remote: Total 31 (delta 12), reused 5 (delta 2), pack-reused 8 (from 1)\u001b[K\n",
            "Receiving objects: 100% (31/31), 124.72 MiB | 33.20 MiB/s, done.\n",
            "Resolving deltas: 100% (13/13), done.\n",
            "/content/CORE-corpus\n"
          ]
        }
      ],
      "source": [
        "# Prepare this notebook to correspond to the main one so that this notebook can be run smoothly\n",
        "! git clone https://github.com/TurkuNLP/CORE-corpus.git\n",
        "%cd CORE-corpus/\n",
        "! zcat train.tsv.gz | cut -f 3 | sort | uniq | gzip > cleaned.txt.gz\n",
        "! zcat cleaned.txt.gz  | tr ' ' '\\n' | egrep -v \"^$\" > one-per-line.txt"
      ]
    },
    {
      "cell_type": "code",
      "execution_count": null,
      "metadata": {
        "id": "BOVdYRF6KCjV",
        "colab": {
          "base_uri": "https://localhost:8080/"
        },
        "outputId": "1bd08a15-7ff6-4678-aafd-d6d445dbaf85"
      },
      "outputs": [
        {
          "output_type": "stream",
          "name": "stdout",
          "text": [
            "$17.99\n",
            "A\n",
            "high-end\n",
            "Vic\n",
            "Trafford\n"
          ]
        }
      ],
      "source": [
        "#Check the file contents\n",
        "\n",
        "! cat one-per-line.txt | head -5"
      ]
    },
    {
      "cell_type": "markdown",
      "source": [
        "# Exercises\n",
        "\n",
        "In the file one-per-line.txt grep lines\n",
        "\n",
        "22. with one capital letter\n",
        "23. with one or more capital letters\n",
        "24. starting with the letter a followed by any character 0 or more times, and ending with ing\n",
        "25. with proper nouns on A in the possessive form\n",
        "26. with words in the form as in wOrd, wORD, woRD, worD"
      ],
      "metadata": {
        "id": "-R2McTewxIDV"
      }
    },
    {
      "cell_type": "code",
      "execution_count": null,
      "metadata": {
        "id": "HYFJ6nuxPQkN",
        "colab": {
          "base_uri": "https://localhost:8080/"
        },
        "outputId": "5ff82947-a390-40ab-f692-5968ca0e576a"
      },
      "outputs": [
        {
          "output_type": "stream",
          "name": "stdout",
          "text": [
            "A\n",
            "A\n",
            "A\n",
            "I\n",
            "A\n"
          ]
        }
      ],
      "source": [
        "#22. One-letter lines in caps\n",
        "\n",
        "! cat one-per-line.txt | egrep \"^[A-Z]$\" | head -5"
      ]
    },
    {
      "cell_type": "code",
      "execution_count": null,
      "metadata": {
        "id": "si3xIP_SWLob",
        "colab": {
          "base_uri": "https://localhost:8080/"
        },
        "outputId": "e12666a3-ed3f-4183-a5e2-fce0c27a9f3f"
      },
      "outputs": [
        {
          "output_type": "stream",
          "name": "stdout",
          "text": [
            "ADA\n",
            "A\n",
            "ADA\n",
            "QUICK\n",
            "LINKS\n"
          ]
        }
      ],
      "source": [
        "# 23. One or more capital letters per line\n",
        "\n",
        "! cat one-per-line.txt | egrep \"^[A-Z]+$\" | tail -5"
      ]
    },
    {
      "cell_type": "code",
      "execution_count": null,
      "metadata": {
        "id": "RBpETUCuWUgc",
        "colab": {
          "base_uri": "https://localhost:8080/"
        },
        "outputId": "f47440e5-c6c5-4500-f866-a47565235e96"
      },
      "outputs": [
        {
          "output_type": "stream",
          "name": "stdout",
          "text": [
            "awaiting\n",
            "associating\n",
            "award-winning\n",
            "asking\n",
            "according\n",
            "anything\n",
            "anything\n",
            "anything\n",
            "appealing\n",
            "avoiding\n"
          ]
        }
      ],
      "source": [
        "#24. Lines starting with the letter a, then any character 0 or more times, and ends with ing\n",
        "\n",
        "! cat one-per-line.txt | egrep \"^a.*ing$\" | head"
      ]
    },
    {
      "cell_type": "code",
      "execution_count": null,
      "metadata": {
        "id": "V3UkI3A5acXj",
        "colab": {
          "base_uri": "https://localhost:8080/"
        },
        "outputId": "58e319aa-b83f-4481-9cba-b073d112c2f4"
      },
      "outputs": [
        {
          "output_type": "stream",
          "name": "stdout",
          "text": [
            "America's\n",
            "Abakhan's\n",
            "Adriana's\n",
            "Apple's\n",
            "Allah's\n",
            "Arthur's\n",
            "Airport's\n",
            "Arsene's\n",
            "Arshavin's\n",
            "Arsene's\n"
          ]
        }
      ],
      "source": [
        "#25. Lines with proper nouns starting with A in the possessive form\n",
        "\n",
        "# (i.e. words starting with the capital A followed by any character 0 or more times followed by 's and line end)\n",
        "\n",
        "! cat one-per-line.txt | egrep \"^A.*'s$\" | uniq | head"
      ]
    },
    {
      "cell_type": "code",
      "execution_count": null,
      "metadata": {
        "id": "_agNhUFga6Ww",
        "colab": {
          "base_uri": "https://localhost:8080/"
        },
        "outputId": "76b035ab-2716-4489-9ee7-7bebbc7fb60c"
      },
      "outputs": [
        {
          "output_type": "stream",
          "name": "stdout",
          "text": [
            "iPad,\n",
            "toiPOds\n",
            "iTunes\n",
            "iOS\n",
            "iPhones\n"
          ]
        }
      ],
      "source": [
        "#26. Lines with words in the form wOrd, wORD, woRD, worD\n",
        "\n",
        "#Lines that start with one or more lower case letter(s) followed by one or more capital letter(s)\n",
        "\n",
        "! cat one-per-line.txt  | egrep \"^[[:lower:]]+[[:upper:]]+\" | head -5"
      ]
    },
    {
      "cell_type": "markdown",
      "source": [
        "## Now try these yourselves\n",
        "\n",
        "**N.B.**\n",
        "\n",
        "`.` stands for any **character**; i.e. not only letters but also e.g. numbers\n",
        "\n",
        "`[a-z]` stands for any lower case **letter**\n",
        "\n",
        "`[A-Z]` stands for any upper case **letter**\n"
      ],
      "metadata": {
        "id": "Ku_woq_85bHX"
      }
    },
    {
      "cell_type": "code",
      "source": [
        "# 28. Lines with the word \"cat\" ending with just one punctuation mark\n",
        "! cat one-per-line.txt  | egrep \"^cat[[:punct:]]$\" | head -10"
      ],
      "metadata": {
        "id": "n8qTo_wq7Czg",
        "colab": {
          "base_uri": "https://localhost:8080/"
        },
        "outputId": "ef086d06-d3a5-4d7c-8c52-dd79b8a582fe"
      },
      "execution_count": null,
      "outputs": [
        {
          "output_type": "stream",
          "name": "stdout",
          "text": [
            "cat\"\n",
            "cat!\n",
            "cat.\n",
            "cat.\n",
            "cat.\n",
            "cat.\n",
            "cat.\n",
            "cat.\n",
            "cat,\n",
            "cat.\n"
          ]
        }
      ]
    },
    {
      "cell_type": "code",
      "source": [
        "# 29. Lines with compound words with a hyphen, e.g. \"co-operate\"\n",
        "! cat one-per-line.txt  | egrep \"^.+-.+$\" | head -10"
      ],
      "metadata": {
        "id": "a1_GPHrL7KS4",
        "colab": {
          "base_uri": "https://localhost:8080/"
        },
        "outputId": "c83505d6-2c5f-471b-f350-b68e8e93715f"
      },
      "execution_count": null,
      "outputs": [
        {
          "output_type": "stream",
          "name": "stdout",
          "text": [
            "high-end\n",
            "Action-Adventure.\n",
            "sword-wielding\n",
            "killer-squads\n",
            "tomb-raider\n",
            "mind-blowing\n",
            "nausea-inducing\n",
            "3-year-old\n",
            "African-Americans\n",
            "African-Americans,\n"
          ]
        }
      ]
    },
    {
      "cell_type": "code",
      "source": [
        "# 30. Lines that end in full stop\n",
        "! cat one-per-line.txt  | egrep \"^.+\\.$\" | head -10"
      ],
      "metadata": {
        "id": "KOXHMkVD7ns4",
        "colab": {
          "base_uri": "https://localhost:8080/"
        },
        "outputId": "01e8d03f-d2d7-4090-b857-c61ca159b1f3"
      },
      "execution_count": null,
      "outputs": [
        {
          "output_type": "stream",
          "name": "stdout",
          "text": [
            "Action-Adventure.\n",
            "Australia.\n",
            "notice.\n",
            "Pacific.\n",
            "destruction.\n",
            "park.\n",
            "Antietam.\n",
            "events.\n",
            "activity.\n",
            "Family.\n"
          ]
        }
      ]
    },
    {
      "cell_type": "code",
      "source": [
        "# 31. Lines written fully in capitals\n",
        "# (The output might make more sense if you remove 'I')\n",
        "! cat one-per-line.txt  | egrep \"^[[:upper:]]+$\" | egrep -v \"^I$\" | head -10"
      ],
      "metadata": {
        "id": "aWsSmSnp8OPs",
        "colab": {
          "base_uri": "https://localhost:8080/"
        },
        "outputId": "4d259db5-7f6d-4658-ce1b-ec9eb145dea8"
      },
      "execution_count": null,
      "outputs": [
        {
          "output_type": "stream",
          "name": "stdout",
          "text": [
            "A\n",
            "A\n",
            "PM\n",
            "TVPG\n",
            "A\n",
            "MA\n",
            "NUL\n",
            "A\n",
            "NAACP\n",
            "WWI\n"
          ]
        }
      ]
    },
    {
      "cell_type": "code",
      "source": [
        "# 32. Lines starting with punctuation\n",
        "! cat one-per-line.txt | egrep \"^[[:punct:]]+\" | head -10"
      ],
      "metadata": {
        "id": "ru8NyOZ09gl5",
        "colab": {
          "base_uri": "https://localhost:8080/"
        },
        "outputId": "253d407a-8128-43d7-f24c-0c19493a801a"
      },
      "execution_count": null,
      "outputs": [
        {
          "output_type": "stream",
          "name": "stdout",
          "text": [
            "$17.99\n",
            "\"Riveting,\n",
            "_\"\n",
            "#1122\n",
            "$19.99\n",
            "#50\n",
            "\"the\n",
            "\"the\n",
            "\"the\n",
            "(NAACP),\n"
          ]
        }
      ]
    },
    {
      "cell_type": "code",
      "source": [
        "# 33. Can you tell what the difference is between these two lines:\n",
        "! cat one-per-line.txt | egrep \"^[[:punct:]]$\" | tail -10  # finds lines with just one punctuation\n",
        "! echo '----------'\n",
        "! cat one-per-line.txt | egrep \"^[[:punct:]]+$\" | tail -10  # finds lines with one or more punctuations"
      ],
      "metadata": {
        "id": "vBmblmQ5-BfT",
        "colab": {
          "base_uri": "https://localhost:8080/"
        },
        "outputId": "86da7bce-61ee-4585-acc2-2703714590ae"
      },
      "execution_count": null,
      "outputs": [
        {
          "output_type": "stream",
          "name": "stdout",
          "text": [
            ".\n",
            ".\n",
            "?\n",
            "-\n",
            "-\n",
            "-\n",
            ".\n",
            "?\n",
            "?\n",
            ",\n",
            "----------\n",
            ".\n",
            "?\n",
            "-\n",
            "-\n",
            "-\n",
            ".\n",
            "?\"\n",
            "?\n",
            "?\n",
            ",\n"
          ]
        }
      ]
    },
    {
      "cell_type": "code",
      "source": [
        "# 34. Can you tell what the difference is between these two lines:\n",
        "! cat one-per-line.txt | egrep \"^.[[:punct:]].[[:punct:]].\" | head -10  # one character + one punct + one character + one punct + one character\n",
        "! echo '-----------------------------------'\n",
        "! cat one-per-line.txt | egrep \"^[a-z][[:punct:]][a-z][[:punct:]][a-z]\" | head -10  # one lower case letter + one punct + one lower case letter + one punct + one ower case letter\n"
      ],
      "metadata": {
        "id": "BNj8DzfBIL2B",
        "colab": {
          "base_uri": "https://localhost:8080/"
        },
        "outputId": "3c64f3fd-5a72-4495-aa3f-c07272e0a711"
      },
      "execution_count": null,
      "outputs": [
        {
          "output_type": "stream",
          "name": "stdout",
          "text": [
            "\"...there\n",
            "!...\"\n",
            "?݃?݃?݃?..Which\n",
            "______________\n",
            "($8),\n",
            "e.t.c.\n",
            "________\n",
            "E.g.,\n",
            "E.g.,\n",
            "8.2%.\n",
            "-----------------------------------\n",
            "e.t.c.\n",
            "a.k.a\n",
            "l.l.a.m.a.s.\n",
            "p.o.q.u.i.t.o.\n",
            "s.o.b.r.e.\n",
            "u.s.t.e.d.e.s.\n",
            "x,y,z'\n",
            "u.s.a\n",
            "w-o-r-s-h\n",
            "a.s.o.\n"
          ]
        }
      ]
    },
    {
      "cell_type": "code",
      "source": [
        "# 37. Lines with words only (i.e. lines with only letters)\n",
        "! cat one-per-line.txt | egrep '^[a-zA-Z]+$' | head -10"
      ],
      "metadata": {
        "id": "8v4KuVJ-DkgC",
        "colab": {
          "base_uri": "https://localhost:8080/"
        },
        "outputId": "003e07d1-8cf3-4fc6-cac4-02c7e2ad7e9a"
      },
      "execution_count": null,
      "outputs": [
        {
          "output_type": "stream",
          "name": "stdout",
          "text": [
            "A\n",
            "Vic\n",
            "Trafford\n",
            "And\n",
            "a\n",
            "true\n",
            "is\n",
            "a\n",
            "turbulent\n",
            "time\n"
          ]
        }
      ]
    }
  ]
}