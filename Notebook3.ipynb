{
  "nbformat": 4,
  "nbformat_minor": 0,
  "metadata": {
    "colab": {
      "name": "Notebook3.ipynb",
      "provenance": [],
      "authorship_tag": "ABX9TyPkWlnKeZERyF6waiC7cIkx",
      "include_colab_link": true
    },
    "kernelspec": {
      "name": "python3",
      "display_name": "Python 3"
    },
    "language_info": {
      "name": "python"
    }
  },
  "cells": [
    {
      "cell_type": "markdown",
      "metadata": {
        "id": "view-in-github",
        "colab_type": "text"
      },
      "source": [
        "<a href=\"https://colab.research.google.com/github/TurkuNLP/ATP_kurssi/blob/master/Notebook3.ipynb\" target=\"_parent\"><img src=\"https://colab.research.google.com/assets/colab-badge.svg\" alt=\"Open In Colab\"/></a>"
      ]
    },
    {
      "cell_type": "code",
      "metadata": {
        "id": "c9-ebWc10sMh"
      },
      "source": [
        ""
      ],
      "execution_count": null,
      "outputs": []
    },
    {
      "cell_type": "markdown",
      "metadata": {
        "id": "hqTKjj3w0zVM"
      },
      "source": [
        "\n",
        "## Copying a Github repo\n",
        "\n",
        "* Github is a common place to save code and data in NLP.\n",
        "* The repos (directories) can be copied to a local computer programatically\n",
        "* This is quite handy especially with Google colab\n",
        "* The command for the copying is *git clone*, and it should be followed the url \"Code\" link in the green box available at a Git repo\n",
        " "
      ]
    },
    {
      "cell_type": "code",
      "metadata": {
        "colab": {
          "base_uri": "https://localhost:8080/"
        },
        "id": "LVWyz9Eh04FT",
        "outputId": "b5c2b8b5-bf54-4762-d416-243b6a663017"
      },
      "source": [
        "! git clone https://github.com/TurkuNLP/ATP_kurssi.git\n",
        "! ls #to check that we got the repo"
      ],
      "execution_count": 1,
      "outputs": [
        {
          "output_type": "stream",
          "name": "stdout",
          "text": [
            "Cloning into 'ATP_kurssi'...\n",
            "remote: Enumerating objects: 337, done.\u001b[K\n",
            "remote: Counting objects: 100% (104/104), done.\u001b[K\n",
            "remote: Compressing objects: 100% (96/96), done.\u001b[K\n",
            "remote: Total 337 (delta 50), reused 26 (delta 7), pack-reused 233\u001b[K\n",
            "Receiving objects: 100% (337/337), 19.89 MiB | 13.04 MiB/s, done.\n",
            "Resolving deltas: 100% (179/179), done.\n",
            "ATP_kurssi  sample_data\n"
          ]
        }
      ]
    },
    {
      "cell_type": "code",
      "metadata": {
        "colab": {
          "base_uri": "https://localhost:8080/"
        },
        "id": "Z4-bZa7906Pz",
        "outputId": "442ae2a6-0fa3-4563-866e-0a107163fd63"
      },
      "source": [
        "# cd will take us to that folder\n",
        "%cd ATP_kurssi/\n",
        "! ls # check that we are at the correct place"
      ],
      "execution_count": 2,
      "outputs": [
        {
          "output_type": "stream",
          "name": "stdout",
          "text": [
            "/content/ATP_kurssi\n",
            "en_one_per_line.txt\t    Notebook2_answers.ipynb  README.md\n",
            "en_tweets_one_per_line.txt  Notebook2.ipynb\t     tweets_en_nort.csv\n",
            "Notebook1.ipynb\t\t    old_versions\n"
          ]
        }
      ]
    },
    {
      "cell_type": "markdown",
      "metadata": {
        "id": "LvHGpOKV08Gz"
      },
      "source": [
        "### Exercise with tweets \n",
        "\n",
        "* The file tweets_en_nort.csv includes tweets\n",
        "* How many are there?\n",
        "* What does the last tweet look like?\n",
        "* Can you think what they discuss? What seems the best way to read the data?\n",
        "* The dataset has a lot of bot-generated tweets that we'd like to filter out. At least one such tweet has the string \"Message of Leader\". Filter those out. How many such tweets were there? How many tweets do you have in the \"cleaned\" dataset after the filtering?\n",
        "* (There can also be other repetitive tweets, if you see any, you can take those away too)\n",
        "\n",
        "* The tweets mention at least France and Paris. Direct these to a separate file, which includes all spelling variants.\n",
        "* Can you find tweets where France or Paris are not capitalized?\n",
        "* There seems to be many news agencies. How many times is FoxNews mentioned? What about other news agencies, can you see any?\n"
      ]
    },
    {
      "cell_type": "markdown",
      "metadata": {
        "id": "mepYjuJG2BTj"
      },
      "source": [
        "## Frequency counts\n",
        "\n",
        "* A frequency counter can be done by combining *sort* and *uniq* commands \n",
        "* Sort sorts the input lines to alphabetical order\n",
        "* Uniq filters repetitive lines\n",
        "\n",
        "\n",
        "esim cat t.txt | sort -r > sorted_t.txt"
      ]
    },
    {
      "cell_type": "code",
      "metadata": {
        "colab": {
          "base_uri": "https://localhost:8080/"
        },
        "id": "50WaebTa2rcB",
        "outputId": "5209db80-b430-4df6-9ebe-eeb7bce5aadf"
      },
      "source": [
        "! head -5 en_one_per_line.txt  # let's have a look first\n",
        "! wc -l en_one_per_line.txt"
      ],
      "execution_count": 4,
      "outputs": [
        {
          "output_type": "stream",
          "name": "stdout",
          "text": [
            "Travel\n",
            "Tips,tricks\n",
            "and\n",
            "Beautiful\n",
            "Destinations\n",
            "10000 en_one_per_line.txt\n"
          ]
        }
      ]
    },
    {
      "cell_type": "code",
      "metadata": {
        "id": "4Nimgfyu6n_S"
      },
      "source": [
        "! cat en_one_per_line.txt| sort "
      ],
      "execution_count": null,
      "outputs": []
    },
    {
      "cell_type": "code",
      "metadata": {
        "id": "O2rodHfs60fs"
      },
      "source": [
        "! cat en_one_per_line.txt| sort | uniq # this will only print once the repetitive lines!"
      ],
      "execution_count": null,
      "outputs": []
    },
    {
      "cell_type": "code",
      "metadata": {
        "id": "uUONqqZ87CnZ"
      },
      "source": [
        "# we can check this by counting how many lines we have"
      ],
      "execution_count": null,
      "outputs": []
    },
    {
      "cell_type": "code",
      "metadata": {
        "colab": {
          "base_uri": "https://localhost:8080/"
        },
        "id": "U-IJv-KQ7FrB",
        "outputId": "ed26285e-ae15-46d6-8cff-131ba0ef97c7"
      },
      "source": [
        "! cat en_one_per_line.txt| sort | wc -l\n",
        "! cat en_one_per_line.txt| sort | uniq | wc -l"
      ],
      "execution_count": 8,
      "outputs": [
        {
          "output_type": "stream",
          "name": "stdout",
          "text": [
            "10000\n",
            "2338\n"
          ]
        }
      ]
    },
    {
      "cell_type": "markdown",
      "metadata": {
        "id": "YlOIAfGE7VRx"
      },
      "source": [
        "### Uniq -c\n",
        "In addition to deleting repeated items, uniq -c counts them\n",
        "\n"
      ]
    },
    {
      "cell_type": "code",
      "metadata": {
        "id": "AUyGOOvo7IzT"
      },
      "source": [
        "! cat en_one_per_line.txt| sort | uniq -c"
      ],
      "execution_count": null,
      "outputs": []
    },
    {
      "cell_type": "markdown",
      "metadata": {
        "id": "TW9lhqU67hrB"
      },
      "source": [
        "### Sorting uniq -c list by frequency\n",
        "\n",
        "* By adding another sort after uniq -c, we get a sorted frequency list\n",
        "\n"
      ]
    },
    {
      "cell_type": "code",
      "metadata": {
        "id": "qSNq6f6O78Bi"
      },
      "source": [
        "! cat en_one_per_line.txt| sort | uniq -c | sort"
      ],
      "execution_count": null,
      "outputs": []
    },
    {
      "cell_type": "markdown",
      "metadata": {
        "id": "Vrwjmrb477kK"
      },
      "source": [
        "### BUT sort alone does not understand numbers\n",
        "\n",
        "* Sort -n does"
      ]
    },
    {
      "cell_type": "code",
      "metadata": {
        "id": "CeskkW6Y8PZD"
      },
      "source": [
        "! cat en_one_per_line.txt| sort | uniq -c | sort -n"
      ],
      "execution_count": null,
      "outputs": []
    },
    {
      "cell_type": "code",
      "metadata": {
        "colab": {
          "base_uri": "https://localhost:8080/"
        },
        "id": "vSjf2e7e8Vab",
        "outputId": "32b53515-200a-433c-8d2d-00d6a01d4d6a"
      },
      "source": [
        "# Note that we only see the last lines unless we use head\n",
        "! cat en_one_per_line.txt| sort | uniq -c | sort -n | head -5"
      ],
      "execution_count": 12,
      "outputs": [
        {
          "output_type": "stream",
          "name": "stdout",
          "text": [
            "    372 .\n",
            "    318 and\n",
            "    303 the\n",
            "    302 to\n",
            "    302 ,\n"
          ]
        }
      ]
    },
    {
      "cell_type": "markdown",
      "metadata": {
        "id": "zgTnU4dP83rs"
      },
      "source": [
        "## Exercise\n",
        "\n",
        "* Let's use the same `en_one_per_line.txt` file\n",
        "* Sort the file first by *sort*. \n",
        "* Then filter out duplicates with *uniq*. Print the 5 first tokens.\n",
        "* How many unique strings (words etc) do you have in the file?\n",
        "* Make a frequency list of the words. What are the 10 most frequent tokens? With how many occurrences?\n",
        "\n",
        "### Advanced\n",
        "* Find out (from google or smth else) what sort option can be used to reverse the sorting so that the most frequent ones come first?\n",
        "* Find the words that are used only once. How many such words does the data include?\n",
        "\n"
      ]
    }
  ]
}