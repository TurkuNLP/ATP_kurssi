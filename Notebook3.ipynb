{
  "nbformat": 4,
  "nbformat_minor": 0,
  "metadata": {
    "colab": {
      "provenance": [],
      "collapsed_sections": [],
      "include_colab_link": true
    },
    "kernelspec": {
      "name": "python3",
      "display_name": "Python 3"
    },
    "language_info": {
      "name": "python"
    }
  },
  "cells": [
    {
      "cell_type": "markdown",
      "metadata": {
        "id": "view-in-github",
        "colab_type": "text"
      },
      "source": [
        "<a href=\"https://colab.research.google.com/github/TurkuNLP/ATP_kurssi/blob/master/Notebook3.ipynb\" target=\"_parent\"><img src=\"https://colab.research.google.com/assets/colab-badge.svg\" alt=\"Open In Colab\"/></a>"
      ]
    },
    {
      "cell_type": "markdown",
      "source": [
        "### Fetch data and basic statistics\n",
        "\n",
        "* Fetch the tweet file found at http://dl.turkunlp.org/atp/tweets_en_nort.csv \n",
        "* How many lines does it have? What if we remove empty lines?\n",
        "* Direct the non-empty files to a file\n",
        "* How many words does it have?\n",
        "* How does the last tweet look like? (This can be suprisingly useful when working with real data)"
      ],
      "metadata": {
        "id": "cVGiNOizCxMK"
      }
    },
    {
      "cell_type": "markdown",
      "source": [
        "### Further cleaning\n",
        "* Remember that the file still had a lot of other information than just the tweets. Create a version of the data file where you have only the tweet texts. Read some of the lines to understand which columns had the actual tweets?"
      ],
      "metadata": {
        "id": "V8PbWFpAGOLe"
      }
    },
    {
      "cell_type": "markdown",
      "source": [
        "### Matching specific patterns\n",
        "* There is a lot of Charlie-related tweets. Do all the tweets have the hashtag #JeSuisCharlie? \n",
        "* How could you look at tweets that do not have this hashtag?\n",
        "* How could you search any CaPS-variant of the hashtag using one single egrep-command?\n",
        "* How are the lines that dont have any variant of the hashtag? How many are there?\n"
      ],
      "metadata": {
        "id": "21ffCS_FDMkW"
      }
    },
    {
      "cell_type": "markdown",
      "source": [
        "### User names and their frequencies\n",
        "\n",
        "* Column 5 of the original tweet file has user names. Take them to a separate file\n",
        "* What are the 5 most frequent usernames in the dataset?\n",
        "* How many different usernames does the data have?"
      ],
      "metadata": {
        "id": "qmXz0aEbP6M6"
      }
    },
    {
      "cell_type": "markdown",
      "source": [
        "### Duplicate tweets\n",
        "\n",
        "* Does the tweet text data include duplicates, i.e., same tweets that have multiple occurrences in the dataset?\n",
        "* It is a bit suspicious that the dataset includes the same tweets several times. Can you think of a way to exclude those? Uniq man pages or instructions may help here.\n",
        "* Direct the tweets that occur only once to a file of its own.\n",
        "* How many tweets do you end up having here?"
      ],
      "metadata": {
        "id": "yt7LxhJmOlqj"
      }
    },
    {
      "cell_type": "markdown",
      "source": [
        "### Hashtags\n",
        "* The hashtags used in the tweets are available at http://dl.turkunlp.org/atp/hashtags.txt\n",
        "* How many different ones do you have? \n",
        "* What are the most frequent?\n",
        "* Different versions of jesuischarlie seem to be frequent. How could you exclude those? What are the most frequent ones when those are excluded?\n",
        "* We can find hashtags with different mentions of \"je suis\" (I am) that dont include \"Charlie\" but something else. How could you find those? What do they look like? These were used to express solidarity to also other"
      ],
      "metadata": {
        "id": "SaYej1X2XqJy"
      }
    }
  ]
}