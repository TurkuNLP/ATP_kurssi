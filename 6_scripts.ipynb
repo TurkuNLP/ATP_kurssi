{
 "cells": [
  {
   "cell_type": "markdown",
   "metadata": {},
   "source": [
    "# Skriptit\n",
    "\n",
    "- Komentorivikäskyt käyvät helposti pitkiksi ja epäkäytännöllisiksi. Ne voi myös tallentaa skriptiin, jolloin koko pitkää käskyä ei tarvitse aina kirjoittaa uudestaan, vaan koko komennon voi ajaa vain ajamalla skriptin.\n",
    "\n",
    "- Käytännössä skripti on tiedosto, jonka nimi loppuu .sh, ja jonka alussa on merkintä #!/bin/bash\n",
    "\n",
    "- Esim. tiedosto.sh -niminen skripti ajetaan käskyllä ./tiedosto.sh\n",
    "\n",
    "- Silloin komentotulkki suorittaa skriptin sisältämät käskyt\n",
    "\n",
    "- Skriptin ajaminen tarvitsee suoritusoikeudet. Nämä pitää erikseen muuttaa, se käy esim. käskyllä chmod a+x skripti.sh\n",
    "\n",
    "- Skriptiin voi lisätä komentoja ihan samalla tavalla kuin komentorivillekin, ks. alla oleva esimerkki\n",
    "\n",
    "- Skriptin tuotoksen voi ohjata tiedostoon samalla tavalla > -komennolla kuin komentorivikäskyjäkin"
   ]
  },
  {
   "cell_type": "code",
   "execution_count": null,
   "metadata": {
    "collapsed": true
   },
   "outputs": [],
   "source": [
    "#!/bin/bash\n",
    "\n",
    "# tähän voi myös kirjoittaa kommentteja, joita ei suoriteta\n",
    "\n",
    "echo \"Hello world\" \n"
   ]
  },
  {
   "cell_type": "code",
   "execution_count": null,
   "metadata": {
    "collapsed": true
   },
   "outputs": [],
   "source": [
    "#!/bin/bash\n",
    "\n",
    "# tähän voi myös kirjoittaa kommentteja, joita ei suoriteta\n",
    "\n",
    "cat tiedosto.txt | # putkia voi käyttää samalla tavoin kuin komentorivillä\n",
    "\n",
    "egrep \"Olla\"\n",
    "\n",
    "# yhteen skriptiin voi myös laittaa useamman komennon, eli tähän voi vielä jatkaa\n",
    "\n",
    "cat tiedosto2.txt |\n",
    "\n",
    "egrep \"kyllä\""
   ]
  },
  {
   "cell_type": "markdown",
   "metadata": {},
   "source": [
    "# Tehtävä\n",
    "\n",
    "- Luo skripti, joka laskee zcat pb_head.conllu.gz -tiedoston yhdyssanoista frekvenssilistan. (tutki tiedostosta, miten yhdyssanoja merkitään, niin tiedät, miten niitä voi etsiä.)"
   ]
  },
  {
   "cell_type": "markdown",
   "metadata": {},
   "source": [
    "# Ekstratehtävä\n",
    "\n",
    "- Tee skripti, jotka laskevat conllu- tai conll09-tiedostosta tyyppi- ja sanamäärän. Näistä voit sitten laskea (käsin tai laskimella) type/token-suhteen, ks. http://www.sltinfo.com/type-token-ratio/ \n",
    "\n",
    "- Oikeasti olisi tietty kiva, että skripti laskisi koko suhteen, eikä vain juoksevien sanojen ja tyyppien määriä. Jätetään tämä kuitenkin myöhempään.\n",
    "\n",
    "- Vertaile type/token -arvoja eri aineistoissa. Pb-tiedoston lisäksi korpuksia löytyy minun kotihakemistoni dataa-alahakemistossa."
   ]
  },
  {
   "cell_type": "markdown",
   "metadata": {},
   "source": [
    "# Skripteistä vielä, ja vähän säännöllisistä lausekkeista\n",
    "\n",
    "- Edellä skriptiin kirjoitettiin sisälle cat-komento, joka printtaa halutun tiedoston ja suorittaa sille halutut komennot\n",
    "\n",
    "- Tiedoston syöttämisen voi tehdä myös komentirivillä ennen skriptiä. Tällöin samaa skriptiä voi käyttää eri tiedostoille\n",
    "\n",
    "- Esim. cat t.txt | ./skripti.sh\n",
    "\n",
    "- Säännöllisten lausekkeiden avulla voi myös syöttää useamman tiedoston kerralla!\n",
    "\n",
    "- Esim. cat *.txt | ./skripti.sh \n",
    "\n",
    "    -- tai cat *  | ./skripti.sh\n",
    "\n",
    "- Samalla tavoin voi myös kopioida / siirtää useampi tiedosto kerralla\n",
    "\n",
    "    -- cp * hakemisto/\n"
   ]
  },
  {
   "cell_type": "markdown",
   "metadata": {},
   "source": [
    "# Tehtävä skripteistä\n",
    "\n",
    "- Tee skripti, joka laskee sanamäärän conll-tiedostosta niin, että sille voi syöttää komentoriviltä tiedoston\n",
    "\n",
    "- Tee skripti, joka laskee sanamäärän txt-tiedostosta, ja ottaa mukaan laskuihin mahdollisuuksien mukaan myös välimerkit\n",
    "\n",
    "- Laske sänämäärät \n",
    "\n",
    "    -- jo edellä käytetylle pb_head-tiedostolle, sekä /home/mavela/dataa/-kansion klaen.conll09.gz (suomeksi käännettyä lastenkirjallisuutta) ja kaken.conll09.gz (suomeksi käännettyä akateemista tekstiä)-tiedostoille\n",
    "    \n",
    "    -- /home/mavela/dataa/-kansion s24.txt -tiedostolle ja aiemmin käytetylle Talvi-iltain tarinoille\n",
    "    \n",
    "\n",
    "- Ekstra: laske myös aiemmin käytettyjen suomenkielisten tviittien yleisimmät sanat\n",
    "\n",
    "- Onko aineistojen yleisimmissä sanoissa mitään eroja?"
   ]
  },
  {
   "cell_type": "markdown",
   "metadata": {},
   "source": [
    "# Tiedostojen siirtämisestä serverille ja takaisin, ja Dep parserin asentamisesta\n",
    "\n",
    "- Tiedostoja windows-koneen ja unix-serverin välillä voidaan siirtää erilaisilla ohjelmilla\n",
    "\n",
    "- Nyt käytetään WinScp:tä\n",
    "\n",
    "# Tehtävä\n",
    "\n",
    "- Tehtävä on syntaksijäsentää suomi24-keskusteluja sisältävät s24.txt ja Talvi-iltain tarinoita.\n",
    "\n",
    "- Lataa syntaksijäsennin Finnish Dep Parser osoitteesta https://github.com/TurkuNLP/Finnish-dep-parser (oikealla on vihreällä taustalla kohta \"clone or download\"). Lataa ensin omalle koneelle ja siirrä sieltä serverille\n",
    "\n",
    "- Tarkemmat käyttöohjeet: http://turkunlp.github.io/Finnish-dep-parser/\n",
    "\n",
    "- Ennen kuin parseri toimii, se pitää asentaa käskyllä ./install.sh\n",
    "\n",
    "- Koita, toimiiko jäsennin. Jos ei, se todennäköisesti valittaa puuttuvista suoritusoikeuksista skripteille. Niitäkin voi lisätä kerralla kaikille: chmod a+x *sh\n",
    "\n",
    "- Huom! Myös parserin alihakemistossa /Finnish-dep-parser-master/morpho-sd2ud kannattaa antaa oikeudet myös kaikille python-skripeille: chmod a+x *py\n",
    "\n",
    "- Tee vielä skriptit, jotka laskevat 1. yleisimmät nominaalisubjektit, 2.objektit (dobj) ja 3. pääverbit (root)\n",
    "\n",
    "- Ekstra: jäsennä vielä tviitit, ja laske lauseenjäsenet myös näistä. Tviittejä voi tietty myös putsata aika paljonkin, jos aikaa jää.\n"
   ]
  }
 ],
 "metadata": {
  "kernelspec": {
   "display_name": "Bash",
   "language": "bash",
   "name": "bash"
  },
  "language_info": {
   "codemirror_mode": "shell",
   "file_extension": ".sh",
   "mimetype": "text/x-sh",
   "name": "bash"
  }
 },
 "nbformat": 4,
 "nbformat_minor": 0
}
