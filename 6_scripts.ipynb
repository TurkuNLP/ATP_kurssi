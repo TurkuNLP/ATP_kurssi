{
 "cells": [
  {
   "cell_type": "markdown",
   "metadata": {},
   "source": [
    "# Skriptit\n",
    "\n",
    "- Komentorivikäskyt käyvät helposti pitkiksi ja epäkäytännöllisiksi. Ne voi myös tallentaa skriptiin, jolloin koko pitkää käskyä ei tarvitse aina kirjoittaa uudestaan, vaan koko komennon voi ajaa vain ajamalla skriptin.\n",
    "\n",
    "- Käytännössä skripti on tiedosto, jonka nimi loppuu .sh, ja jonka alussa on merkintä #!/bin/bash\n",
    "\n",
    "- Esim. tiedosto.sh -niminen skripti ajetaan käskyllä ./tiedosto.sh\n",
    "\n",
    "- Silloin komentotulkki suorittaa skriptin sisältämät käskyt\n",
    "\n",
    "- Skriptin ajaminen tarvitsee suoritusoikeudet. Nämä pitää erikseen muuttaa, se käy esim. käskyllä chmod a+x skripti.sh\n",
    "\n",
    "- Skriptiin voi lisätä komentoja ihan samalla tavalla kuin komentorivillekin, ks. alla oleva esimerkki\n",
    "\n",
    "- Skriptin tuotoksen voi ohjata tiedostoon samalla tavalla > -komennolla kuin komentorivikäskyjäkin"
   ]
  },
  {
   "cell_type": "code",
   "execution_count": null,
   "metadata": {
    "collapsed": true
   },
   "outputs": [],
   "source": [
    "#!/bin/bash\n",
    "\n",
    "# tähän voi myös kirjoittaa kommentteja, joita ei suoriteta\n",
    "\n",
    "echo \"Hello world\" \n"
   ]
  },
  {
   "cell_type": "code",
   "execution_count": null,
   "metadata": {
    "collapsed": true
   },
   "outputs": [],
   "source": [
    "#!/bin/bash\n",
    "\n",
    "# tähän voi myös kirjoittaa kommentteja, joita ei suoriteta\n",
    "\n",
    "cat tiedosto.txt | # putkia voi käyttää samalla tavoin kuin komentorivillä\n",
    "\n",
    "egrep \"Olla\""
   ]
  },
  {
   "cell_type": "markdown",
   "metadata": {},
   "source": [
    "# Tehtävä\n",
    "\n",
    "- Luo skripti, joka laskee zcat pb_head.conllu.gz -tiedoston yhdyssanoista frekvenssilistan. (tutki tiedostosta, miten yhdyssanoja merkitään, niin tiedät, miten niitä voi etsiä.)"
   ]
  },
  {
   "cell_type": "markdown",
   "metadata": {},
   "source": [
    "# Ekstratehtävä\n",
    "\n",
    "- Tee skripti, jotka laskevat conllu- tai conll09-tiedostosta tyyppi- ja sanamäärän. Näistä voit sitten laskea (käsin tai laskimella) type/token-suhteen, ks. http://www.sltinfo.com/type-token-ratio/ \n",
    "\n",
    "- Oikeasti olisi tietty kiva, että skripti laskisi koko suhteen, eikä vain juoksevien sanojen ja tyyppien määriä. Jätetään tämä kuitenkin myöhempään.\n",
    "\n",
    "- Vertaile type/token -arvoja eri aineistoissa. Pb-tiedoston lisäksi korpuksia löytyy minun kotihakemistoni dataa-alahakemistossa."
   ]
  }
 ],
 "metadata": {
  "kernelspec": {
   "display_name": "Bash",
   "language": "bash",
   "name": "bash"
  },
  "language_info": {
   "codemirror_mode": "shell",
   "file_extension": ".sh",
   "mimetype": "text/x-sh",
   "name": "bash"
  }
 },
 "nbformat": 4,
 "nbformat_minor": 0
}
