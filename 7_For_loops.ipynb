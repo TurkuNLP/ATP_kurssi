{
 "cells": [
  {
   "cell_type": "markdown",
   "metadata": {},
   "source": [
    "# For loopit\n",
    "\n",
    "- Skripteillä voi tehdä pitkän komennon yhdelle tiedostolle, esim. laske virkkeiden / sanojen / verbien määrä\n",
    "\n",
    "- For-loopilla sama komento voidaan suorittaa yhdellä komennolla useammalle tiedostolle\n",
    "\n",
    "- Tähän tarvitaan myös hiukan säännöllisiä lausekkeita\n",
    "\n",
    "    - for t in hakemisto/* ; do echo $f ; done \n",
    "\n",
    "    - for t in hakemisto/*txt ; do echo $f ; done \n",
    "\n",
    "    - for t in hakemisto/*conllu ; do echo $f ; done \n",
    "\n",
    "- puolipisteiden väliin tulee käskyt, jotka suoritetaan jokaiselle annetulle tiedostolle\n",
    "\n",
    "- puolipisteiden väliin voi myös laittaa putken, skriptin tai mitä vaan. \n",
    "\n",
    "- Tuotteen voi ohjata tiedostoon joko lopuksi tai jo käskyn sisällä, jolloin jokaisen tiedoston tuote menee omaan tiedostoonsa\n",
    "\n",
    "    -  for t in hakemisto/*conllu ; do cat $f | egrep \"kukkuu\" ; done \n",
    "\n",
    "- $f kuvaa muuttujaa, sitä, jolle komento suoritetaan. Sitä voi myös muokata\n",
    "\n",
    "    - for t in hakemisto/* ; do cat $f | egrep \"kukkuu|verbi\" ; done > output.txt\n",
    "\n",
    "    - for t in hakemisto/* ; do cat $f | ./skripti.sh > $f-output ; done \n",
    "\n",
    "- puolipisteitä voi myös laittaa useamman, jos mukaan halutaan useampi komentosarja\n",
    "\n",
    "    - for t in hakemisto/* ; do echo $f ; cat $f | egrep \"kukkuu|verbi\" ; done > output.txt\n"
   ]
  },
  {
   "cell_type": "markdown",
   "metadata": {},
   "source": [
    "# Tehtävä\n",
    "\n",
    "- Sido edellä tehdyt skriptit sanamäärien laskemisesta for-looppeihin niin, että yksi for-loop laskee kaikille hakemiston tekstitiedostoille ja toinen kaikille hakemiston conllu-tiedostoille sanamäärän\n",
    "\n",
    "- Muokkaa skriptiä vielä niin, että se myös printtaa jokaisen käsitellyn tiedoston nimen, ja ohjaa output yhteen tiedostoon\n",
    "\n",
    "- Tee sama vielä yleisimmille subjekteille ja pääverbeille, joko käyttämällä suoraan conllu-tiedostoja tai jäsentämällä myös samassa loopissa"
   ]
  }
 ],
 "metadata": {
  "kernelspec": {
   "display_name": "Bash",
   "language": "bash",
   "name": "bash"
  },
  "language_info": {
   "codemirror_mode": "shell",
   "file_extension": ".sh",
   "mimetype": "text/x-sh",
   "name": "bash"
  }
 },
 "nbformat": 4,
 "nbformat_minor": 0
}
