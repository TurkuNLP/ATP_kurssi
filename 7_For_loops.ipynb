{
 "cells": [
  {
   "cell_type": "markdown",
   "metadata": {},
   "source": [
    "# For loopit\n",
    "\n",
    "- Skripteillä voi tehdä pitkän komennon yhdelle tiedostolle, esim. laske virkkeiden / sanojen / verbien määrä\n",
    "\n",
    "- For-loopilla sama komento voidaan suorittaa yhdellä komennolla useammalle tiedostolle\n",
    "\n",
    "- Tähän tarvitaan myös hiukan säännöllisiä lausekkeita\n",
    "\n",
    "    - for f in hakemisto/* ; do echo $f ; done \n",
    "\n",
    "    - for f in hakemisto/*txt ; do echo $f ; done \n",
    "\n",
    "    - for f in hakemisto/*conllu ; do echo $f ; done \n",
    "\n",
    "- puolipisteiden väliin tulee käskyt, jotka suoritetaan jokaiselle annetulle tiedostolle\n",
    "\n",
    "- puolipisteiden väliin voi myös laittaa putken, skriptin tai mitä vaan. \n",
    "\n",
    "- Tuotteen voi ohjata tiedostoon joko lopuksi tai jo käskyn sisällä, jolloin jokaisen tiedoston tuote menee omaan tiedostoonsa\n",
    "\n",
    "    -  for f in hakemisto/*conllu ; do cat $f | egrep \"kukkuu\" ; done \n",
    "\n",
    "- $f kuvaa muuttujaa, sitä, jolle komento suoritetaan. Sitä voi myös muokata\n",
    "\n",
    "    - for f in hakemisto/* ; do cat $f | egrep \"kukkuu|verbi\" ; done > output.txt\n",
    "\n",
    "    - for f in hakemisto/* ; do cat \\$f | ./skripti.sh > $f-output ; done \n",
    "\n",
    "- puolipisteitä voi myös laittaa useamman, jos mukaan halutaan useampi komentosarja\n",
    "\n",
    "    - for f in hakemisto/* ; do echo $f ; cat $f | egrep \"kukkuu|verbi\" ; done > output.txt\n"
   ]
  },
  {
   "cell_type": "markdown",
   "metadata": {},
   "source": [
    "# Tehtävä\n",
    "\n",
    "1. Tee for loop, joka printtaa hakemiston txt-loppuiset tiedostot ja niiden perään jokaisen tiedoston sanamäärän\n",
    "\n",
    "2. Sido edellä tehdyt skriptit sanamäärien laskemisesta for-looppeihin niin, että yksi for-loop laskee kaikille hakemiston tekstitiedostoille ja toinen kaikille hakemiston conllu-tiedostoille sanamäärän\n",
    "\n",
    "3. Muokkaa for loopia vielä niin, että se myös printtaa jokaisen käsitellyn tiedoston nimen, ja ohjaa output yhteen tiedostoon\n",
    "\n",
    "4. Tee vielä for loop, jokaisen hakemiston txt-tiedoston nimen sekä rivit, joilla esiintyy sana \"ovat\", ja syöttää ne omiin tiedostoihinsa."
   ]
  },
  {
   "cell_type": "code",
   "execution_count": null,
   "metadata": {
    "collapsed": true
   },
   "outputs": [],
   "source": [
    "# 1. for f in hakemisto/*txt ; do echo $f; cat $f | wc -w ; done\n",
    "\n",
    "# 2. for f in hakemisto/*txt ; do cat $f | ./laske-txt.sh ; done\n",
    "\n",
    "# 3. for f in hakemisto/*txt ; do echo $f ; cat $f | ./laske-txt.sh ; done > output.txt\n",
    "\n",
    "# 4. for f in hakemisto/*txt ; do echo $f ; cat $f | egrep -w \"ovat\" > $f-ovat.txt ; done"
   ]
  },
  {
   "cell_type": "markdown",
   "metadata": {},
   "source": [
    "# Ekstra\n",
    "\n",
    "Kurkkaa täältä while-looppeja\n",
    "http://www.cyberciti.biz/faq/bash-while-loop/\n"
   ]
  }
 ],
 "metadata": {
  "kernelspec": {
   "display_name": "Bash",
   "language": "bash",
   "name": "bash"
  },
  "language_info": {
   "codemirror_mode": "shell",
   "file_extension": ".sh",
   "mimetype": "text/x-sh",
   "name": "bash"
  }
 },
 "nbformat": 4,
 "nbformat_minor": 0
}
