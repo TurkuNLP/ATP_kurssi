{
  "nbformat": 4,
  "nbformat_minor": 0,
  "metadata": {
    "colab": {
      "name": "Notebook10.ipynb",
      "provenance": [],
      "collapsed_sections": [],
      "authorship_tag": "ABX9TyM73OM5mqKuNeE4+vq0wE3z",
      "include_colab_link": true
    },
    "kernelspec": {
      "name": "python3",
      "display_name": "Python 3"
    },
    "language_info": {
      "name": "python"
    }
  },
  "cells": [
    {
      "cell_type": "markdown",
      "metadata": {
        "id": "view-in-github",
        "colab_type": "text"
      },
      "source": [
        "<a href=\"https://colab.research.google.com/github/TurkuNLP/ATP_kurssi/blob/master/Notebook10.ipynb\" target=\"_parent\"><img src=\"https://colab.research.google.com/assets/colab-badge.svg\" alt=\"Open In Colab\"/></a>"
      ]
    },
    {
      "cell_type": "markdown",
      "metadata": {
        "id": "7VbNTG5P4U4i"
      },
      "source": [
        "## For loops\n",
        "_For loops_ execute a block of code many times, i.e. iterate\n",
        "* E.g., you might want to get the word counts of a set of files with one command\n",
        "* For each file, do X\n",
        "----\n",
        "for f in dir/* ; do echo $f ; done\n",
        "\n",
        "* 'for f in' specifies the iteration, what is iterated over\n",
        "* 'f' refers to the variable\n",
        "* The body between ; is executed once during each iteration\n",
        "* The first command is preceded by 'do'\n",
        "-----\n",
        "Iteration can be over files in a directory\n",
        "* for f in dir/* ; do echo $f ; done\n",
        "\n",
        "* for f in dir/*txt ; do echo $f ; done\n",
        "\n",
        "* for f in dir/*conllu ; do echo $f ; done\n",
        "\n",
        "Iteration can also be over a list\n",
        "* for f in {1..3}; do echo $f ; done\n",
        "\n",
        "... Or over just some files\n",
        "* for f in nltk_data/corpora/brown/ca01 nltk_data/corpora/brown/ca02  ; do echo $f ; done\n",
        "\n",
        "----\n",
        "The commands between ; can include pipes, several commands etc.\n",
        "\n",
        "Output can be directed to a file with `> `either during each iteration\n",
        "* for f in datadir/\\* ; do cat $f   |  wc -l  >    $f-output.txt ; done\n",
        "-----\n",
        "Of the entire output can be directed to one file at the end of the command\n",
        "* for f in dir/*conllu ; do cat $f | egrep \"kukkuu\" ; done >> output.txt\n",
        "\n",
        "-----\n",
        "The commands can as well include a script, or anything else\n",
        "* for f in hakemisto/* ; do cat $f | ./skripti.sh >  $f-output ; done\n",
        "\n",
        "---\n",
        "\n",
        "Several individual commands can be included by separating them with ;\n",
        "* for f in hakemisto/* ; do echo $f ; cat $f | ./skripti.sh >  $f-output ; done\n",
        "\n",
        "-----\n",
        "\n",
        "### Exercise\n",
        "\n",
        "Remember the brown corpus files in `/home/mavela/nltk_data/corpora/brown`\n",
        "\n",
        "Copy the directory to your home folder if you don't have it anymore\n",
        "\n",
        "* Do a for loop that counts the wordcount of each file\n",
        "* Then add to the script a print of each of the file name, so that the output is\n",
        "\n",
        "```\n",
        "filename\n",
        "word count\n",
        "filename\n",
        "word count\n",
        "etc.\n",
        "```\n",
        "* Direct the output to a single file\n",
        "----\n",
        "### Exercise cont.\n",
        "* Make a script that counts the 10 most frequent words of a file\n",
        "* Add this script to the for loop and print the whole output to a single file\n",
        "----\n",
        "### Exercise cont. 2\n",
        "* Let's use the tweets at `/home/mavela/tviitit/english_tweets`\n",
        "* Make a command (with pipes and / or scripts) that prints a unique and normalized list of all the hashtags that a file includes AND run this command with a forloop so that you end up having the hashtag lists in separate files\n",
        "* Then do the same thing but with user names (starting with @)\n",
        "----\n",
        "* Then do yet a file that includes 15 most frequent hashtags from each of the files\n",
        "\n",
        "\n",
        "\n",
        "\n",
        "\n"
      ]
    }
  ]
}