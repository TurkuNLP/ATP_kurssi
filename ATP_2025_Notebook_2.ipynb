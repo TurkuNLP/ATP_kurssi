{
  "nbformat": 4,
  "nbformat_minor": 0,
  "metadata": {
    "colab": {
      "provenance": [],
      "include_colab_link": true
    },
    "kernelspec": {
      "name": "python3",
      "display_name": "Python 3"
    },
    "language_info": {
      "name": "python"
    }
  },
  "cells": [
    {
      "cell_type": "markdown",
      "metadata": {
        "id": "view-in-github",
        "colab_type": "text"
      },
      "source": [
        "<a href=\"https://colab.research.google.com/github/TurkuNLP/ATP_kurssi/blob/master/ATP_2025_Notebook_2.ipynb\" target=\"_parent\"><img src=\"https://colab.research.google.com/assets/colab-badge.svg\" alt=\"Open In Colab\"/></a>"
      ]
    },
    {
      "cell_type": "markdown",
      "metadata": {
        "id": "qK8j601dEakq"
      },
      "source": [
        "# Notebook 2: more commands, flags (options) and pipes\n",
        "\n",
        "**Today's topics:**\n",
        "*   finding patterns (e.g., words) in a line (egrep/grep; grepping)\n",
        "*   making commands more versatile with flags\n",
        "*   combining commands (pipes)\n",
        "*   counting frequencies\n",
        "\n"
      ]
    },
    {
      "cell_type": "markdown",
      "source": [
        "## egrep (or grep)\n",
        "* Matches a pattern on a **line** and prints the line with the match;\n",
        "  \n",
        "  e.g. `egrep \"is\" filename.txt`\n",
        "\n",
        "  prints all lines in the file that match (have) a string 'is'\n",
        "\n",
        "* see http://people.uta.fi/~jm58660/jutut/unix/grep.html (in Finnish)\n",
        "  \n",
        "\n",
        "* N.B. 1: **capitals and whitespaces count**!\n",
        "\n",
        "  So `egrep \" is\" filename.txt` gives a different output\n",
        "\n",
        "* N.B. 2: **lines**\n",
        "\n",
        "  A line\n",
        "  1) ends in a line break, so it might be long.\n",
        "  2) does not necessarily correspond to a sentence.\n",
        "  3) can consist of several sentences, or even an entire text.\n"
      ],
      "metadata": {
        "id": "YdojS28iUosq"
      }
    },
    {
      "cell_type": "code",
      "metadata": {
        "id": "-hDMVIHhaDeS"
      },
      "source": [
        "# let's first get the data we had previously\n",
        "! wget https://www.gutenberg.org/cache/epub/20748/pg20748.txt\n",
        "! ls"
      ],
      "execution_count": null,
      "outputs": []
    },
    {
      "cell_type": "code",
      "metadata": {
        "id": "KWdUHyN6aRi9"
      },
      "source": [
        "! mv pg20748.txt book.txt # let's change the name to an easier one\n"
      ],
      "execution_count": null,
      "outputs": []
    },
    {
      "cell_type": "code",
      "source": [
        "! head book.txt # let's have a look to remind us what's inside"
      ],
      "metadata": {
        "id": "x2wGWfE1i4a2"
      },
      "execution_count": null,
      "outputs": []
    },
    {
      "cell_type": "code",
      "source": [
        "! egrep \"snow\" book.txt"
      ],
      "metadata": {
        "id": "ZwUrLm2h29Px"
      },
      "execution_count": null,
      "outputs": []
    },
    {
      "cell_type": "code",
      "source": [
        "! egrep \"Snow\" book.txt"
      ],
      "metadata": {
        "id": "R77HVfaG7QS6"
      },
      "execution_count": null,
      "outputs": []
    },
    {
      "cell_type": "code",
      "source": [
        "! egrep \"Snow \" book.txt"
      ],
      "metadata": {
        "id": "HTEEG4lFjcdr"
      },
      "execution_count": null,
      "outputs": []
    },
    {
      "cell_type": "markdown",
      "metadata": {
        "id": "syO3NO_SRDlD"
      },
      "source": [
        "## More about flags / options\n",
        "\n",
        "* Options are arguments that can be given to Unix commands to change their behavior. These form one of the core elements of Unix command line work.\n",
        "\n",
        "* most flags have both a short from (e.g. `-v`) and a long form (e.g. `--verbose`); we use short forms whenever possible since it's faster to write\n",
        "\n",
        "* Options are difficult to remember but you can read them for instance on man pages or google for instrutions (which are probably easier to understand than man pages)"
      ]
    },
    {
      "cell_type": "code",
      "metadata": {
        "id": "JOZ0MkEZSA50",
        "collapsed": true
      },
      "source": [
        "# an example of the manual page for ls\n",
        "! man ls"
      ],
      "execution_count": null,
      "outputs": []
    },
    {
      "cell_type": "code",
      "source": [
        "# In Colab the man pages have been 'minimized', so you need to run this first\n",
        "# before Colab will show them to you:\n",
        "! unminimize\n",
        "# Colab will ask you if you really want to do this;\n",
        "# click on the area behind the question, type 'y' and press enter.\n",
        "# After running this cell you can try the cell above again."
      ],
      "metadata": {
        "id": "2-H5xT9nnMaW"
      },
      "execution_count": null,
      "outputs": []
    },
    {
      "cell_type": "markdown",
      "metadata": {
        "id": "gUeLK-aRUCXf"
      },
      "source": [
        "### Some useful options\n",
        "\n",
        "* `head -n 15` or `head -15` prints 15 first lines\n",
        "* `tail -n 15` or `tail -15` prints 15 last lines\n",
        "* `wc -w` prints wordcount\n",
        "* `wc -l` prints linecount\n"
      ]
    },
    {
      "cell_type": "code",
      "metadata": {
        "id": "8LNR-oRvm1Up"
      },
      "source": [
        "# let's try a bit!\n",
        "! head -5 book.txt\n",
        "! echo \"-----\"\n",
        "! wc -l book.txt\n",
        "! wc -w book.txt"
      ],
      "execution_count": null,
      "outputs": []
    },
    {
      "cell_type": "markdown",
      "source": [
        "##More useful options\n",
        "\n",
        "* `egrep -v` (reverse) prints lines without a match\n",
        "* `egrep -c` counts matches\n",
        "* `egrep -i` ignores case\n",
        "* `egrep -w` matches just words\n",
        "* `egrep -B N` prints N lines Before\n",
        "* `egrep -A N` prints N lines After\n",
        "\n",
        "\n",
        "\n",
        "N.B. The flags can also be **combined**, e.g., `egrep -vi`"
      ],
      "metadata": {
        "id": "9JItOSEvIz4B"
      }
    },
    {
      "cell_type": "code",
      "source": [
        "! egrep -i \"snow\" book.txt\n",
        "! egrep -w \"snow\" book.txt\n",
        "! egrep -wi \"snow\" book.txt # the flags can also be combined\n",
        "! egrep -v \"snow\" book.txt"
      ],
      "metadata": {
        "id": "25I5K7DCFVCN",
        "collapsed": true
      },
      "execution_count": null,
      "outputs": []
    },
    {
      "cell_type": "code",
      "metadata": {
        "id": "oNP09g5AnYfx"
      },
      "source": [
        "! egrep -c \"snow\" book.txt\n",
        "! egrep -c \"Snow\" book.txt\n",
        "! egrep -ic \"snow\" book.txt\n",
        "! egrep -icw \"snow\" book.txt"
      ],
      "execution_count": null,
      "outputs": []
    },
    {
      "cell_type": "code",
      "source": [
        "! egrep -B 5 -A 5 \"Snow\" book.txt"
      ],
      "metadata": {
        "id": "wQUKRAmbXC56",
        "collapsed": true
      },
      "execution_count": null,
      "outputs": []
    },
    {
      "cell_type": "markdown",
      "metadata": {
        "id": "4l6srdjKonG8"
      },
      "source": [
        "### Time to try things out!\n",
        "\n",
        "Let's use the same file we already have, now called `book.txt`. Do the following tasks:\n",
        "\n",
        "1. Rename the file as e.g., `fairytales.txt`\n",
        "2. Count how many **words** and **lines** the file has.\n",
        "3. Count **how many times** the pronoun _he_ appears in the file. How can you control the use of **capitals** and **white spaces** so that the query matches **only entire words**?\n",
        "4. Direct the number of lines that match the query (_he_) to **a new file** called `pron_in_file.txt`.\n",
        "\n"
      ]
    },
    {
      "cell_type": "markdown",
      "source": [
        "### Advanced\n",
        "* You can also combine commands on one line using `;`\n",
        "* You can assign variables using `$`:"
      ],
      "metadata": {
        "id": "OnaBt2IGXt_e"
      }
    },
    {
      "cell_type": "code",
      "metadata": {
        "id": "C-DD-gxHt3M4"
      },
      "source": [
        "! wordcount=$(wc -w book.txt) ; echo \"Word count is $wordcount\"\n"
      ],
      "execution_count": null,
      "outputs": []
    },
    {
      "cell_type": "code",
      "source": [
        "! wordcount=$(wc -w book.txt) ; echo \"Word count is $wordcount\"\n",
        "! echo \"Word count is\", $wordcount # this won't work anymore on Colab, because each line is interpreted individually"
      ],
      "metadata": {
        "id": "esFiuJ0QJ3v-"
      },
      "execution_count": null,
      "outputs": []
    },
    {
      "cell_type": "markdown",
      "metadata": {
        "id": "hFHd6af-ElBx"
      },
      "source": [
        "### Pipes (*putket* in Finnish)\n",
        "\n",
        "* You can combine commands with a pipe `|` (alt gr + the key next to z)\n",
        "* This way the output of the first command goes as input to the next one (the order of the commands is important!)\n",
        "* `cat file.txt | wc -w` (is actually the same as just `wc -w`) first prints a file, then counts words\n",
        "* `cat file.txt | egrep \"is\"`  first prints a file, then matches the pattern\n",
        "* `cat file.txt | egrep \"is\"  | wc -l`\n",
        "* `cat file.txt | egrep \"is\" | head`\n",
        "* `cat file.txt | egrep \"is\" > output.txt`\n",
        "* `cat file.txt | head -1000 | tail -100`  prints the lines between 900-1000"
      ]
    },
    {
      "cell_type": "code",
      "source": [
        "! cat book.txt | egrep \"is\" | wc -l\n",
        "! cat book.txt | egrep \"is\" | head"
      ],
      "metadata": {
        "id": "tuEPyzSGeXYt"
      },
      "execution_count": null,
      "outputs": []
    },
    {
      "cell_type": "code",
      "source": [
        "\n",
        "! cat book.txt | egrep -w \"is\" | wc -l\n",
        "! cat book.txt | egrep -w \"is\" | head\n"
      ],
      "metadata": {
        "id": "qUUv81nNSylz"
      },
      "execution_count": null,
      "outputs": []
    },
    {
      "cell_type": "code",
      "source": [
        "! cat book.txt | egrep -wi \"is\" | head\n",
        "! cat book.txt | egrep -wi \"is\" | wc -l"
      ],
      "metadata": {
        "id": "i5888tpWLjq0"
      },
      "execution_count": null,
      "outputs": []
    },
    {
      "cell_type": "code",
      "source": [
        "# Again, you can direct these to a file as before\n",
        "! cat book.txt | egrep -wi \"is\" | wc -l > file.txt\n",
        "! cat file.txt"
      ],
      "metadata": {
        "id": "M6_977gPfKvd"
      },
      "execution_count": null,
      "outputs": []
    },
    {
      "cell_type": "markdown",
      "source": [
        "## Frequency counts\n",
        "\n",
        "* A frequency counter can be done by combining *sort* and *uniq* commands with a pipe\n",
        "* `sort` sorts the input lines to alphabetical order\n",
        "* `uniq` filters repetitive lines\n"
      ],
      "metadata": {
        "id": "jCkv4zqzS-7A"
      }
    },
    {
      "cell_type": "markdown",
      "source": [
        "Let's first get some data. This time we'll fetch some parliamentary data."
      ],
      "metadata": {
        "id": "UqwKyh00mG9P"
      }
    },
    {
      "cell_type": "code",
      "source": [
        "!wget https://a3s.fi/parliamentsampo/speeches/csv/speeches_2024.csv"
      ],
      "metadata": {
        "id": "VzLIR0-8kLkd"
      },
      "execution_count": null,
      "outputs": []
    },
    {
      "cell_type": "markdown",
      "source": [
        "Next, we'll need some Python to make the data format suitable for our purposes. **You need not know how to do this**, but feel free to have a look at the code snippet."
      ],
      "metadata": {
        "id": "paleXfAYmW16"
      }
    },
    {
      "cell_type": "code",
      "source": [
        "import pandas as pd\n",
        "df = pd.read_csv('speeches_2024.csv')\n",
        "df.to_csv('speeches_2024.tsv', sep='\\t')"
      ],
      "metadata": {
        "id": "4StFKcvgkaBP"
      },
      "execution_count": null,
      "outputs": []
    },
    {
      "cell_type": "markdown",
      "source": [
        "Let's check what we got."
      ],
      "metadata": {
        "id": "eVL8TphBmqRf"
      }
    },
    {
      "cell_type": "code",
      "source": [
        "!ls"
      ],
      "metadata": {
        "id": "eC7_652tkr1S"
      },
      "execution_count": null,
      "outputs": []
    },
    {
      "cell_type": "markdown",
      "source": [
        "Looks good. Let's use the **tsv-file** and just ignore the original csv-file we downloaded."
      ],
      "metadata": {
        "id": "we-X9wrSmt5K"
      }
    },
    {
      "cell_type": "code",
      "source": [
        "# What does the data look like?\n",
        "\n",
        "! cat speeches_2024.tsv | head\n",
        "\n",
        "#! cat speeches_2024.tsv | head #outputs the same thing as the command above"
      ],
      "metadata": {
        "id": "WmdFTbYO_YI2"
      },
      "execution_count": null,
      "outputs": []
    },
    {
      "cell_type": "code",
      "source": [
        "! cat speeches_2024.tsv | wc -l"
      ],
      "metadata": {
        "id": "0SoSTljynCK9"
      },
      "execution_count": null,
      "outputs": []
    },
    {
      "cell_type": "markdown",
      "source": [
        "There's quite a lot of data, so let's focus on one month only. I select March this time.\n",
        "\n",
        "Let's grep the lines that matches the time stample 2024-03 and direct those in a new file."
      ],
      "metadata": {
        "id": "60LtyHC5m6KJ"
      }
    },
    {
      "cell_type": "code",
      "source": [
        "!cat speeches_2024.tsv | egrep '2024-03' > speeches_2024_03.tsv"
      ],
      "metadata": {
        "id": "4VqLaGHdkw_b"
      },
      "execution_count": null,
      "outputs": []
    },
    {
      "cell_type": "code",
      "source": [
        "!ls"
      ],
      "metadata": {
        "id": "dxvqR5MXkx6Y"
      },
      "execution_count": null,
      "outputs": []
    },
    {
      "cell_type": "code",
      "source": [
        "!cat speeches_2024_03.tsv | wc -l"
      ],
      "metadata": {
        "id": "Bu6mIlRKk1_n"
      },
      "execution_count": null,
      "outputs": []
    },
    {
      "cell_type": "markdown",
      "source": [
        "It's always possible that data files have empty lines. Let's check if we have any in this data. We can use\n",
        "\n",
        "`egrep \"^$\"`\n",
        "\n",
        "to do that."
      ],
      "metadata": {
        "id": "wFPC5FuDnW_m"
      }
    },
    {
      "cell_type": "code",
      "source": [
        "! cat speeches_2024_03.tsv | egrep \"^$\" | wc -l"
      ],
      "metadata": {
        "id": "N1Trd0U5k_Mc"
      },
      "execution_count": null,
      "outputs": []
    },
    {
      "cell_type": "markdown",
      "source": [
        "This data has several columns.\n",
        "Let's first take just the speaker surnames from the data, it's the column number 8.\n",
        "\n",
        "`cut` will output just (a) specific column(s).\n",
        "\n",
        "`cut -f 8` will give us column 8.\n"
      ],
      "metadata": {
        "id": "2rXnywspNH_k"
      }
    },
    {
      "cell_type": "code",
      "source": [
        "!cat speeches_2024_03.tsv | cut -f 8 | head"
      ],
      "metadata": {
        "id": "L0iL0JwMlP7-"
      },
      "execution_count": null,
      "outputs": []
    },
    {
      "cell_type": "markdown",
      "source": [
        "Let's count how many lines we have."
      ],
      "metadata": {
        "id": "kTnL8e_Ho59d"
      }
    },
    {
      "cell_type": "code",
      "source": [
        "!cat speeches_2024_03.tsv | cut -f 8 | wc -l"
      ],
      "metadata": {
        "id": "sjIVZjSUou-I"
      },
      "execution_count": null,
      "outputs": []
    },
    {
      "cell_type": "markdown",
      "source": [
        "In case a name is missing in a row in the original data, we will have empty lines here. Let's check."
      ],
      "metadata": {
        "id": "oQmDeGsXoEzT"
      }
    },
    {
      "cell_type": "code",
      "source": [
        "!cat speeches_2024_03.tsv | cut -f 8 | egrep '^$' | wc -l"
      ],
      "metadata": {
        "id": "yIpwqriMoRB9"
      },
      "execution_count": null,
      "outputs": []
    },
    {
      "cell_type": "markdown",
      "source": [
        "Let's remove this one empty line and check that we succeeded."
      ],
      "metadata": {
        "id": "1Dkg25neobio"
      }
    },
    {
      "cell_type": "code",
      "source": [
        "!cat speeches_2024_03.tsv | cut -f 8 | egrep -v '^$' | wc -l"
      ],
      "metadata": {
        "id": "upqTW9DGoolN"
      },
      "execution_count": null,
      "outputs": []
    },
    {
      "cell_type": "markdown",
      "source": [
        "Let's save these in a new file."
      ],
      "metadata": {
        "id": "aCAqM9Xpn8zd"
      }
    },
    {
      "cell_type": "code",
      "source": [
        "!cat speeches_2024_03.tsv | cut -f 8 | egrep -v '^$' > speakers.txt"
      ],
      "metadata": {
        "id": "Mt0UfO1mlT01"
      },
      "execution_count": null,
      "outputs": []
    },
    {
      "cell_type": "code",
      "source": [
        "! cat speakers.txt | head"
      ],
      "metadata": {
        "id": "Lbkao3K6X8pp"
      },
      "execution_count": null,
      "outputs": []
    },
    {
      "cell_type": "markdown",
      "source": [
        "Then to the **frequency counter** part\n",
        "\n",
        "*   `sort` sorts the lines **alphabetically**\n",
        "\n"
      ],
      "metadata": {
        "id": "JGYmnSxrOIZz"
      }
    },
    {
      "cell_type": "code",
      "source": [
        "! cat speakers.txt | sort | head # the beginning of the sorted document looks like this"
      ],
      "metadata": {
        "id": "ZbSUvo8FOK5q"
      },
      "execution_count": null,
      "outputs": []
    },
    {
      "cell_type": "code",
      "source": [
        "! cat speakers.txt | sort | tail"
      ],
      "metadata": {
        "id": "0R_ehVNaPre0"
      },
      "execution_count": null,
      "outputs": []
    },
    {
      "cell_type": "markdown",
      "source": [
        "* `uniq` prints only unique lines, i.e., deletes duplicate lines that follow each other\n",
        "* `uniq -c` only counts the number of duplicate lines\n",
        "\n",
        "  --> important to sort the lines first"
      ],
      "metadata": {
        "id": "3tSLuG7pQWl7"
      }
    },
    {
      "cell_type": "code",
      "source": [
        "! cat speakers.txt | sort | uniq | head"
      ],
      "metadata": {
        "id": "8JntXsr1lj5N"
      },
      "execution_count": null,
      "outputs": []
    },
    {
      "cell_type": "code",
      "source": [
        "! cat speakers.txt | sort | uniq -c | head # always use sort before uniq!"
      ],
      "metadata": {
        "id": "U2Eo6gVaQWEH"
      },
      "execution_count": null,
      "outputs": []
    },
    {
      "cell_type": "markdown",
      "source": [
        "Using `sort -n` again sorts the lines **by their number**"
      ],
      "metadata": {
        "id": "LW2wRYDRQpbT"
      }
    },
    {
      "cell_type": "code",
      "source": [
        "! cat speakers.txt | sort | uniq -c | sort | head"
      ],
      "metadata": {
        "id": "95EPB__LlqFc"
      },
      "execution_count": null,
      "outputs": []
    },
    {
      "cell_type": "code",
      "source": [
        "! cat speakers.txt | sort | uniq -c | sort -n | head  # This command pipe may take a while to print out! How would you fix that?"
      ],
      "metadata": {
        "id": "mgWOHXy5Qu7p",
        "collapsed": true
      },
      "execution_count": null,
      "outputs": []
    },
    {
      "cell_type": "markdown",
      "source": [
        "`sort -nr` sorts the lines by their number **in reverse order** --> perhaps a bit more practical"
      ],
      "metadata": {
        "id": "KpBFlkJZRLfJ"
      }
    },
    {
      "cell_type": "code",
      "source": [
        "! cat speakers.txt | sort | uniq -c | sort -nr | head"
      ],
      "metadata": {
        "id": "iEUp_0jYRKhe"
      },
      "execution_count": null,
      "outputs": []
    },
    {
      "cell_type": "markdown",
      "source": [
        "Since there are some urls among the names, let's remove these so we'll get a frequency list of names only."
      ],
      "metadata": {
        "id": "uVq1ail-pOs0"
      }
    },
    {
      "cell_type": "code",
      "source": [
        "! cat speakers.txt | egrep -v '^http' | sort | uniq -c | sort -nr | head"
      ],
      "metadata": {
        "id": "2QRGcMAIpd8x"
      },
      "execution_count": null,
      "outputs": []
    },
    {
      "cell_type": "markdown",
      "source": [
        "### ... so this is how we finally have the frequencies!"
      ],
      "metadata": {
        "id": "51CTVt99RjhF"
      }
    },
    {
      "cell_type": "markdown",
      "source": [
        "### What did we learn?\n",
        "\n",
        "* Flags are used to change or specify commands\n",
        "* Pipes are used to combine commands\n",
        "* New flags and commands\n",
        "  * `egrep` match character strings\n",
        "  * `egrep` + flags\n",
        "  * `egrep -v \"^$\"` delete empty lines\n",
        "  * `cut -f` select a specific column\n",
        "  * `sort`\n",
        "  * `uniq`\n",
        "  * `sort | uniq -c | sort -rn` frequency list\n"
      ],
      "metadata": {
        "id": "Hkj29_4zUZhg"
      }
    }
  ]
}