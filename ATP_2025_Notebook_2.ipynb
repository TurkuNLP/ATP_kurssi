{
  "nbformat": 4,
  "nbformat_minor": 0,
  "metadata": {
    "colab": {
      "provenance": [],
      "include_colab_link": true
    },
    "kernelspec": {
      "name": "python3",
      "display_name": "Python 3"
    },
    "language_info": {
      "name": "python"
    }
  },
  "cells": [
    {
      "cell_type": "markdown",
      "metadata": {
        "id": "view-in-github",
        "colab_type": "text"
      },
      "source": [
        "<a href=\"https://colab.research.google.com/github/TurkuNLP/ATP_kurssi/blob/master/ATP_2025_Notebook_2.ipynb\" target=\"_parent\"><img src=\"https://colab.research.google.com/assets/colab-badge.svg\" alt=\"Open In Colab\"/></a>"
      ]
    },
    {
      "cell_type": "markdown",
      "metadata": {
        "id": "qK8j601dEakq"
      },
      "source": [
        "# Notebook 2: more commands, flags (options) and pipes\n",
        "\n",
        "**Today's topics:**\n",
        "*   finding patterns (e.g., words) in a line (egrep/grep; grepping)\n",
        "*   making commands more versatile with flags\n",
        "*   combining commands (pipes)\n",
        "*   counting frequencies\n",
        "\n"
      ]
    },
    {
      "cell_type": "markdown",
      "source": [
        "## egrep (or grep)\n",
        "* Matches a **pattern** on a **line** and **prints the line** with the match;\n",
        "  \n",
        "  e.g. `egrep \"is\" filename.txt`\n",
        "\n",
        "  prints all lines in the file that match (have) the string 'is'\n",
        "\n",
        "* see http://people.uta.fi/~jm58660/jutut/unix/grep.html about egrep (in Finnish)\n",
        "  \n",
        "---\n",
        "\n",
        "N.B. 1: **capitals and whitespaces count**!\n",
        "\n",
        "  All the following commands give a different output:\n",
        "\n",
        "  `egrep \"is\" filename.txt` - lines with the string *is*, as a word or part of it (e.g., '**is**', 'th**is**', 'l**is**t', '**is**land')\n",
        "  \n",
        "  `egrep \" is\" filename.txt` - lines with the string *is*, where *is* can be a separate word or in the beginning of a word (e.g., '**is**', '**is**land')\n",
        "\n",
        "  `egrep \"is \" filename.txt` - lines with the string *is*, where *is* can be a separate word or in the end of a word (e.g., '**is**', 'th**is**')\n",
        "  \n",
        "  `egrep \" is \" filename.txt` - lines with the whitespace separated string *is*, i.e., a separate word ('**is**')\n",
        "\n",
        "  `egrep \"Is\" filename.txt` - lines with the string *Is*, as a word or part of it (e.g., '**Is**', '**Is**land', 'th**Is**' [camel case strings: thisIsCamelCase])\n",
        "  \n",
        "  `egrep \" Is \" filename.txt` - lines with the whitespace separated string *Is*, i.e., a separate word ('**Is**')\n",
        "\n",
        "---\n",
        "\n",
        "N.B. 2: **lines**\n",
        "\n",
        "  A line\n",
        "  1) ends in a line break, so it might be long.\n",
        "  2) does not necessarily correspond to a sentence.\n",
        "  3) can consist of several sentences, or even an entire text.\n"
      ],
      "metadata": {
        "id": "YdojS28iUosq"
      }
    },
    {
      "cell_type": "code",
      "metadata": {
        "id": "-hDMVIHhaDeS"
      },
      "source": [
        "# let's first get the limerick data we had previously\n",
        "! wget https://raw.githubusercontent.com/aristila/totally-random-stuff/refs/heads/main/bash_limerick.txt\n",
        "! ls"
      ],
      "execution_count": null,
      "outputs": []
    },
    {
      "cell_type": "code",
      "source": [
        "! head bash_limerick.txt # let's have a look to remind us what's inside"
      ],
      "metadata": {
        "id": "x2wGWfE1i4a2"
      },
      "execution_count": null,
      "outputs": []
    },
    {
      "cell_type": "code",
      "source": [
        "# find patterns that match the string 'Bash' (capital B!), as a separate word or part of a word\n",
        "! egrep \"Bash\" bash_limerick.txt"
      ],
      "metadata": {
        "id": "ZwUrLm2h29Px"
      },
      "execution_count": null,
      "outputs": []
    },
    {
      "cell_type": "code",
      "source": [
        "# lower-cased 'bash', as a separate word or part of a word\n",
        "! egrep \"bash\" bash_limerick.txt"
      ],
      "metadata": {
        "id": "R77HVfaG7QS6"
      },
      "execution_count": null,
      "outputs": []
    },
    {
      "cell_type": "code",
      "source": [
        "# 'rep' as a separate word or part of a word\n",
        "! egrep \"rep\" bash_limerick.txt"
      ],
      "metadata": {
        "id": "Ttxpkx0t4hli"
      },
      "execution_count": null,
      "outputs": []
    },
    {
      "cell_type": "code",
      "source": [
        "# 'rep' as a separate word or in the beginning of a word\n",
        "! egrep \" rep\" bash_limerick.txt"
      ],
      "metadata": {
        "id": "xvwMEUeZ4meU"
      },
      "execution_count": null,
      "outputs": []
    },
    {
      "cell_type": "code",
      "source": [
        "# 'rep' as a separate word or in the end of a word\n",
        "! egrep \"rep \" bash_limerick.txt\n",
        "\n",
        "# N.B. the comma in 'rep,'"
      ],
      "metadata": {
        "id": "dAy80GQTxf8l"
      },
      "execution_count": null,
      "outputs": []
    },
    {
      "cell_type": "code",
      "source": [
        "# 'he' as a separate word or part of a word; lower-case!\n",
        "! egrep \"he\" bash_limerick.txt"
      ],
      "metadata": {
        "id": "HTEEG4lFjcdr"
      },
      "execution_count": null,
      "outputs": []
    },
    {
      "cell_type": "code",
      "source": [
        "# 'He' (capital H!) as a separate word or part of a word\n",
        "! egrep \"He\" bash_limerick.txt"
      ],
      "metadata": {
        "id": "KELAgICq3-gL"
      },
      "execution_count": null,
      "outputs": []
    },
    {
      "cell_type": "code",
      "source": [
        "# 'he' as a separate word; lower-case!\n",
        "! egrep \" he \" bash_limerick.txt"
      ],
      "metadata": {
        "id": "i6guYV6Z4Aip"
      },
      "execution_count": null,
      "outputs": []
    },
    {
      "cell_type": "markdown",
      "metadata": {
        "id": "syO3NO_SRDlD"
      },
      "source": [
        "## More about flags / options\n",
        "\n",
        "* Options are arguments that can be given to Unix commands to change their behavior. These form one of the core elements of Unix command line work.\n",
        "\n",
        "* most flags have both a short from (e.g. `-v`) and a long form (e.g. `--verbose`); we use short forms whenever possible since it's faster to write\n",
        "\n",
        "* Options are difficult to remember but you can read them for instance on `man` pages or google for instructions (which are probably easier to understand than `man` pages)"
      ]
    },
    {
      "cell_type": "code",
      "metadata": {
        "id": "JOZ0MkEZSA50",
        "collapsed": true
      },
      "source": [
        "# an example of the manual page for ls\n",
        "! man ls"
      ],
      "execution_count": null,
      "outputs": []
    },
    {
      "cell_type": "code",
      "source": [
        "# In Colab the man pages have been 'minimized', so you need to run this first\n",
        "# before Colab will show them to you:\n",
        "! unminimize\n",
        "# Colab will ask you if you really want to do this;\n",
        "# click on the area behind the question, type 'y' and press enter.\n",
        "# After running this cell you can try the cell above again."
      ],
      "metadata": {
        "id": "2-H5xT9nnMaW"
      },
      "execution_count": null,
      "outputs": []
    },
    {
      "cell_type": "markdown",
      "metadata": {
        "id": "gUeLK-aRUCXf"
      },
      "source": [
        "### Some useful options\n",
        "\n",
        "* `head -n 15` or `head -15` prints 15 first lines\n",
        "* `tail -n 15` or `tail -15` prints 15 last lines\n",
        "* `wc -w` prints **word** count\n",
        "* `wc -l` prints **line** count\n"
      ]
    },
    {
      "cell_type": "code",
      "metadata": {
        "id": "8LNR-oRvm1Up"
      },
      "source": [
        "# let's try a bit!\n",
        "! head -3 bash_limerick.txt\n",
        "! echo \"-----\"\n",
        "! wc -l bash_limerick.txt\n",
        "! wc -w bash_limerick.txt"
      ],
      "execution_count": null,
      "outputs": []
    },
    {
      "cell_type": "code",
      "source": [
        "# if no flag is given to wc, it will print line, word, and byte & character count\n",
        "! wc bash_limerick.txt"
      ],
      "metadata": {
        "id": "N82EpkM1yYkk"
      },
      "execution_count": null,
      "outputs": []
    },
    {
      "cell_type": "markdown",
      "source": [
        "##More useful options\n",
        "\n",
        "* `egrep -v` (reverse) prints lines **without a match**\n",
        "* `egrep -c` **counts** the lines with a match\n",
        "* `egrep -i` **ignores case**\n",
        "* `egrep -w` matches **just words** (prints lines with a match where the match is a word and not part of a word)\n",
        "* `egrep -B N` prints N lines **Before**\n",
        "* `egrep -A N` prints N lines **After**\n",
        "\n",
        "\n",
        "\n",
        "N.B. The flags can also be **combined**, e.g.,\n",
        "\n",
        "`egrep -vi`\n",
        "\n",
        "ignores case and prints lines without the pattern."
      ],
      "metadata": {
        "id": "9JItOSEvIz4B"
      }
    },
    {
      "cell_type": "code",
      "source": [
        "# let's print the text here so it's easier to compare egrep output with the entire text\n",
        "! cat bash_limerick.txt"
      ],
      "metadata": {
        "id": "KZCsqwcW6Il8"
      },
      "execution_count": null,
      "outputs": []
    },
    {
      "cell_type": "code",
      "source": [
        "# ignores case (so all lines with the string 'he', capitalized or not, and as a separate word or part of a word, are printed)\n",
        "! egrep -i \"he\" bash_limerick.txt"
      ],
      "metadata": {
        "id": "25I5K7DCFVCN",
        "collapsed": true
      },
      "execution_count": null,
      "outputs": []
    },
    {
      "cell_type": "code",
      "source": [
        "# only matches lines with 'a' as a word\n",
        "! egrep -w \"a\" bash_limerick.txt"
      ],
      "metadata": {
        "id": "_unbDki344b3"
      },
      "execution_count": null,
      "outputs": []
    },
    {
      "cell_type": "code",
      "source": [
        "# all lines with 'a', as a separate word or part of a word\n",
        "! egrep \"a\" bash_limerick.txt"
      ],
      "metadata": {
        "id": "ujG8giGrC8PL"
      },
      "execution_count": null,
      "outputs": []
    },
    {
      "cell_type": "code",
      "source": [
        "# the string 'he' as a word, case ignored\n",
        "! egrep -wi \"he\" bash_limerick.txt # the flags can also be combined"
      ],
      "metadata": {
        "id": "ttEDS4Rg48ra"
      },
      "execution_count": null,
      "outputs": []
    },
    {
      "cell_type": "code",
      "source": [
        "# prints all lines that do not match the string 'Bash'\n",
        "! egrep -v \"Bash\" bash_limerick.txt"
      ],
      "metadata": {
        "id": "rCVMKUX44-Xd"
      },
      "execution_count": null,
      "outputs": []
    },
    {
      "cell_type": "code",
      "source": [
        "# prints all lines that do not match the string 'he' (lower-case!) as a separate word or part of a word\n",
        "! egrep -v \"he\" bash_limerick.txt"
      ],
      "metadata": {
        "id": "9w_SQ7irz7x1"
      },
      "execution_count": null,
      "outputs": []
    },
    {
      "cell_type": "code",
      "metadata": {
        "id": "oNP09g5AnYfx"
      },
      "source": [
        "# counts lines with the string \"Bash\"\n",
        "! egrep -c \"Bash\" bash_limerick.txt"
      ],
      "execution_count": null,
      "outputs": []
    },
    {
      "cell_type": "code",
      "source": [
        "# counts lines with the string 'he', ignoring case\n",
        "! egrep -ic \"he\" bash_limerick.txt"
      ],
      "metadata": {
        "id": "sxA3Mk8-5d_F"
      },
      "execution_count": null,
      "outputs": []
    },
    {
      "cell_type": "code",
      "source": [
        "# let's check which lines it matched (and counted)\n",
        "! egrep -i \"he\" bash_limerick.txt"
      ],
      "metadata": {
        "id": "0OFQKlpF0W8C"
      },
      "execution_count": null,
      "outputs": []
    },
    {
      "cell_type": "code",
      "source": [
        "# counts lines with 'he' (lower-case), as a separate word or as part of word\n",
        "! egrep -c \"he\" bash_limerick.txt"
      ],
      "metadata": {
        "id": "QXKMQt1w5WLn"
      },
      "execution_count": null,
      "outputs": []
    },
    {
      "cell_type": "code",
      "source": [
        "# these are the lines that were counted above\n",
        "! egrep \"he\" bash_limerick.txt"
      ],
      "metadata": {
        "id": "iDIr4IgpDJGD"
      },
      "execution_count": null,
      "outputs": []
    },
    {
      "cell_type": "code",
      "source": [
        "# ignores case, matches only 'he' as a word and counts the lines\n",
        "! egrep -icw \"he\" bash_limerick.txt"
      ],
      "metadata": {
        "id": "bOVP5xWU5fyi"
      },
      "execution_count": null,
      "outputs": []
    },
    {
      "cell_type": "code",
      "source": [
        "# order of the flags does not matter\n",
        "! egrep -wic \"he\" bash_limerick.txt"
      ],
      "metadata": {
        "id": "VmF2fn1e1R1L"
      },
      "execution_count": null,
      "outputs": []
    },
    {
      "cell_type": "code",
      "source": [
        "# ignores case, 'he' as a separate word\n",
        "! egrep -iw \"he\" bash_limerick.txt"
      ],
      "metadata": {
        "id": "WHMoHsutDMXU"
      },
      "execution_count": null,
      "outputs": []
    },
    {
      "cell_type": "code",
      "source": [
        "# prints one line before and two lines after the line(s) that match the string 'and'\n",
        "! egrep -B 1 -A 2 \"and\" bash_limerick.txt"
      ],
      "metadata": {
        "id": "wQUKRAmbXC56",
        "collapsed": true
      },
      "execution_count": null,
      "outputs": []
    },
    {
      "cell_type": "markdown",
      "metadata": {
        "id": "4l6srdjKonG8"
      },
      "source": [
        "### Time to try things out!\n",
        "\n",
        "Let's fetch some data from project Gutenberg at www.gutenberg.org. Do the following tasks:\n",
        "\n",
        "\n",
        "\n",
        "1.   Download this file: https://www.gutenberg.org/cache/epub/20748/pg20748.txt\n",
        "1. Rename the file as e.g., `fairytales.txt`\n",
        "2. Count how many **words** and **lines** the file has.\n",
        "3. Count on **how many lines** the pronoun _he_ appears in the file. How can you control the use of **capitals** and **white spaces** so that the query matches **only entire words**?\n",
        "4. Direct the number of lines that match the query (_he_) to **a new file** called `pron_in_file.txt`.\n",
        "\n",
        "\n",
        "**Advanced**\n",
        "\n",
        "Direct the output to a file called `pron_count_with_text.txt` with the following text: 'The pronoun he appeared this many times:'\n",
        "\n",
        "I.e., when you print the file, the output should look something like this:\n",
        "```\n",
        "Th pronoun he appeared this many times:\n",
        "15\n",
        "```"
      ]
    },
    {
      "cell_type": "markdown",
      "source": [
        "N.B. The commands etc. in **'Advanced' sections will not be tested in the exam**. They're just there to give you a bit more (advanced) information.\n",
        "\n",
        "### Advanced\n",
        "* You can also combine commands on one line using `;`\n",
        "* You can assign variables using `$`:\n",
        "\n"
      ],
      "metadata": {
        "id": "OnaBt2IGXt_e"
      }
    },
    {
      "cell_type": "code",
      "metadata": {
        "id": "C-DD-gxHt3M4"
      },
      "source": [
        "! wordcount=$(wc -w book.txt) ; echo \"Word count is $wordcount\"\n"
      ],
      "execution_count": null,
      "outputs": []
    },
    {
      "cell_type": "code",
      "source": [
        "! wordcount=$(wc -w book.txt) ; echo \"Word count is $wordcount\"\n",
        "! echo \"Word count is\", $wordcount # this won't work anymore on Colab, because each line is interpreted individually"
      ],
      "metadata": {
        "id": "esFiuJ0QJ3v-"
      },
      "execution_count": null,
      "outputs": []
    },
    {
      "cell_type": "markdown",
      "metadata": {
        "id": "hFHd6af-ElBx"
      },
      "source": [
        "### Pipes (*putket* in Finnish)\n",
        "\n",
        "* You can combine commands with a pipe `|` (alt gr + the key next to z)\n",
        "* This way the output of the first command goes as input to the next one (**the order of the commands is important!**)\n",
        "* `cat file.txt | wc -w` first prints a file, then counts words (this is actually the same as just `wc -w file.txt`)\n",
        "* `cat file.txt | egrep \"is\"`  first prints a file, then matches the pattern\n",
        "* `cat file.txt | egrep \"is\"  | wc -l` prints file, matches a pattern, counts the lines with the pattern\n",
        "* `cat file.txt | egrep \"is\" | head` prints file, matches a pattern, prints the head of the lines with the pattern\n",
        "* `cat file.txt | egrep \"is\" > output.txt` prints file, matches a pattern, directs the matched lines to a new file\n",
        "* `cat file.txt | head -1000 | tail -100`  prints the lines between 900-1000; first prints the file, then it prints the first 1000 lines which go to the next pipe, which in turn prints the 100 last lines of the `head -1000` output"
      ]
    },
    {
      "cell_type": "code",
      "source": [
        "# once again, let's use the limerick\n",
        "! cat bash_limerick.txt"
      ],
      "metadata": {
        "id": "QTp94VtnDnFt"
      },
      "execution_count": null,
      "outputs": []
    },
    {
      "cell_type": "code",
      "source": [
        "# prints file, matches a pattern, counts the lines with the pattern\n",
        "! cat bash_limerick.txt | egrep \"and\" | wc -l"
      ],
      "metadata": {
        "id": "tuEPyzSGeXYt"
      },
      "execution_count": null,
      "outputs": []
    },
    {
      "cell_type": "code",
      "source": [
        "# here I use echo to separate output, but it's not necessary\n",
        "\n",
        "# prints file, matches a pattern as a word, prints the lines with the pattern\n",
        "! cat bash_limerick.txt | egrep -w \"a\"\n",
        "\n",
        "! echo\n",
        "! echo --- line count ---\n",
        "\n",
        "# prints file, matches a pattern as a word, counts the lines with the pattern\n",
        "! cat bash_limerick.txt | egrep -w \"a\" | wc -l\n",
        "\n",
        "! echo\n",
        "! echo --- the first two lines with a match ---\n",
        "\n",
        "# prints file, matches a pattern as a word, prints the head of the lines with the pattern\n",
        "! cat bash_limerick.txt | egrep -w \"a\" | head -2\n"
      ],
      "metadata": {
        "id": "qUUv81nNSylz"
      },
      "execution_count": null,
      "outputs": []
    },
    {
      "cell_type": "code",
      "source": [
        "# prints file, matches a pattern as a word and ignores case, prints the head of the lines with the pattern\n",
        "! cat bash_limerick.txt | egrep -wi \"he\" | head\n",
        "\n",
        "# prints file, matches a pattern as a word and ignores case, counts the lines with the pattern\n",
        "! cat bash_limerick.txt | egrep -wi \"he\" | wc -l"
      ],
      "metadata": {
        "id": "i5888tpWLjq0"
      },
      "execution_count": null,
      "outputs": []
    },
    {
      "cell_type": "code",
      "source": [
        "# Again, you can direct these to a file as before\n",
        "! cat bash_limerick.txt | egrep -wi \"he\" | wc -l > file.txt\n",
        "! cat file.txt"
      ],
      "metadata": {
        "id": "M6_977gPfKvd"
      },
      "execution_count": null,
      "outputs": []
    },
    {
      "cell_type": "markdown",
      "source": [
        "## Frequency counts\n",
        "\n",
        "\n",
        "\n",
        "*   A frequency counter is very useful to count e.g., strings in a text\n",
        "* A frequency counter can be done by combining *sort* and *uniq* commands with a pipe\n",
        "* `sort` sorts the input lines in **alphabetical order**\n",
        "* `uniq` filters **repetitive, consecutive** lines\n"
      ],
      "metadata": {
        "id": "jCkv4zqzS-7A"
      }
    },
    {
      "cell_type": "markdown",
      "source": [
        "Let's first get some data. This time we'll fetch some parliamentary data."
      ],
      "metadata": {
        "id": "UqwKyh00mG9P"
      }
    },
    {
      "cell_type": "code",
      "source": [
        "!wget https://a3s.fi/parliamentsampo/speeches/csv/speeches_2024.csv"
      ],
      "metadata": {
        "id": "VzLIR0-8kLkd"
      },
      "execution_count": null,
      "outputs": []
    },
    {
      "cell_type": "code",
      "source": [
        "# let's check that the file made it to our directory\n",
        "! ls"
      ],
      "metadata": {
        "id": "ntqjHrmx88da"
      },
      "execution_count": null,
      "outputs": []
    },
    {
      "cell_type": "code",
      "source": [
        "# let's check what we got\n",
        "! head speeches_2024.csv"
      ],
      "metadata": {
        "id": "nlzbSpbCvo-3"
      },
      "execution_count": null,
      "outputs": []
    },
    {
      "cell_type": "markdown",
      "source": [
        "This file is a **csv** file.\n",
        "\n",
        "**csv** stands for comma-separated values.\n",
        "\n",
        "This file format is a bit impractical for us at the moment, so let's change it to **tsv**.\n",
        "\n",
        "**tsv** stands for tab-separated values."
      ],
      "metadata": {
        "id": "FbaHGLshvxF6"
      }
    },
    {
      "cell_type": "markdown",
      "source": [
        "Next, we'll need some Python to make the data format suitable for our purposes. **You need not know how to do this**, but feel free to have a look at the code snippet."
      ],
      "metadata": {
        "id": "paleXfAYmW16"
      }
    },
    {
      "cell_type": "code",
      "source": [
        "# let's save the csv file as a tsv file\n",
        "import pandas as pd\n",
        "df = pd.read_csv('speeches_2024.csv')\n",
        "df.to_csv('speeches_2024.tsv', sep='\\t')"
      ],
      "metadata": {
        "id": "4StFKcvgkaBP"
      },
      "execution_count": null,
      "outputs": []
    },
    {
      "cell_type": "markdown",
      "source": [
        "Let's check what we got."
      ],
      "metadata": {
        "id": "eVL8TphBmqRf"
      }
    },
    {
      "cell_type": "code",
      "source": [
        "!ls"
      ],
      "metadata": {
        "id": "eC7_652tkr1S"
      },
      "execution_count": null,
      "outputs": []
    },
    {
      "cell_type": "code",
      "source": [
        "# What does the data look like?\n",
        "\n",
        "! cat speeches_2024.tsv | head\n",
        "\n",
        "#! head speeches_2024.tsv #outputs the same thing as the command above"
      ],
      "metadata": {
        "id": "WmdFTbYO_YI2"
      },
      "execution_count": null,
      "outputs": []
    },
    {
      "cell_type": "markdown",
      "source": [
        "Looks good. Let's use the **tsv-file** and just ignore the original csv-file we downloaded."
      ],
      "metadata": {
        "id": "we-X9wrSmt5K"
      }
    },
    {
      "cell_type": "code",
      "source": [
        "# let's count the lines\n",
        "! cat speeches_2024.tsv | wc -l"
      ],
      "metadata": {
        "id": "0SoSTljynCK9"
      },
      "execution_count": null,
      "outputs": []
    },
    {
      "cell_type": "markdown",
      "source": [
        "There's quite a lot of data, so let's focus on one month only. I select March this time.\n",
        "\n",
        "Let's grep the lines that match the time stamp 2024-03 and direct those in a new file."
      ],
      "metadata": {
        "id": "60LtyHC5m6KJ"
      }
    },
    {
      "cell_type": "code",
      "source": [
        "!cat speeches_2024.tsv | egrep '2024-03' > speeches_2024_03.tsv"
      ],
      "metadata": {
        "id": "4VqLaGHdkw_b"
      },
      "execution_count": null,
      "outputs": []
    },
    {
      "cell_type": "code",
      "source": [
        "!ls"
      ],
      "metadata": {
        "id": "dxvqR5MXkx6Y"
      },
      "execution_count": null,
      "outputs": []
    },
    {
      "cell_type": "code",
      "source": [
        "# let's count the lines in this new file with speeches from March only\n",
        "!cat speeches_2024_03.tsv | wc -l"
      ],
      "metadata": {
        "id": "Bu6mIlRKk1_n"
      },
      "execution_count": null,
      "outputs": []
    },
    {
      "cell_type": "markdown",
      "source": [
        "It's always possible that data files have empty lines. Let's check if we have any in this data. We can use\n",
        "\n",
        "`egrep \"^$\"`\n",
        "\n",
        "to do that.\n",
        "\n",
        "Let's have a quick look at the command:\n",
        "\n",
        "`^` stand for line **start**\n",
        "\n",
        "`$` stands for line **end**\n",
        "\n",
        "so together line start and line end with nothing inbetween make an empty line!\n"
      ],
      "metadata": {
        "id": "wFPC5FuDnW_m"
      }
    },
    {
      "cell_type": "code",
      "source": [
        "! cat speeches_2024_03.tsv | egrep \"^$\" | wc -l"
      ],
      "metadata": {
        "id": "N1Trd0U5k_Mc"
      },
      "execution_count": null,
      "outputs": []
    },
    {
      "cell_type": "markdown",
      "source": [
        "This data has several columns.\n",
        "Let's first take just the speaker surnames from the data, it's the column number 8.\n",
        "\n",
        "`cut` will output just (a) specific column(s).\n",
        "\n",
        "`cut -f 8` will give us column 8.\n",
        "\n",
        "**N.B.** In Bash, counting starts from 1 (unlike in Python!), so the first column is accessed with `cut -f 1`\n"
      ],
      "metadata": {
        "id": "2rXnywspNH_k"
      }
    },
    {
      "cell_type": "code",
      "source": [
        "# always check that you've cut the intended column!\n",
        "!cat speeches_2024_03.tsv | cut -f 8 | head"
      ],
      "metadata": {
        "id": "L0iL0JwMlP7-"
      },
      "execution_count": null,
      "outputs": []
    },
    {
      "cell_type": "markdown",
      "source": [
        "Let's count how many lines we have."
      ],
      "metadata": {
        "id": "kTnL8e_Ho59d"
      }
    },
    {
      "cell_type": "code",
      "source": [
        "!cat speeches_2024_03.tsv | cut -f 8 | wc -l"
      ],
      "metadata": {
        "id": "sjIVZjSUou-I"
      },
      "execution_count": null,
      "outputs": []
    },
    {
      "cell_type": "markdown",
      "source": [
        "Good. This line count corresponds to the line count of the entire file."
      ],
      "metadata": {
        "id": "793suKUk96Zt"
      }
    },
    {
      "cell_type": "markdown",
      "source": [
        "In case a name is missing in a row in the original data, we will have an empty line here. Let's check."
      ],
      "metadata": {
        "id": "oQmDeGsXoEzT"
      }
    },
    {
      "cell_type": "code",
      "source": [
        "!cat speeches_2024_03.tsv | cut -f 8 | egrep '^$' | wc -l"
      ],
      "metadata": {
        "id": "yIpwqriMoRB9"
      },
      "execution_count": null,
      "outputs": []
    },
    {
      "cell_type": "markdown",
      "source": [
        "Let's remove this one empty line and check that we succeeded."
      ],
      "metadata": {
        "id": "1Dkg25neobio"
      }
    },
    {
      "cell_type": "code",
      "source": [
        "!cat speeches_2024_03.tsv | cut -f 8 | egrep -v '^$' | wc -l"
      ],
      "metadata": {
        "id": "upqTW9DGoolN"
      },
      "execution_count": null,
      "outputs": []
    },
    {
      "cell_type": "markdown",
      "source": [
        "It seems that we were able to remove the empty line; cf. line count with the previous line count of the speaker column."
      ],
      "metadata": {
        "id": "Nc_3y8G--J7e"
      }
    },
    {
      "cell_type": "markdown",
      "source": [
        "Let's save these in a new file."
      ],
      "metadata": {
        "id": "aCAqM9Xpn8zd"
      }
    },
    {
      "cell_type": "code",
      "source": [
        "!cat speeches_2024_03.tsv | cut -f 8 | egrep -v '^$' > speakers.txt"
      ],
      "metadata": {
        "id": "Mt0UfO1mlT01"
      },
      "execution_count": null,
      "outputs": []
    },
    {
      "cell_type": "code",
      "source": [
        "# and let's check the file looks ok\n",
        "! cat speakers.txt | head"
      ],
      "metadata": {
        "id": "Lbkao3K6X8pp"
      },
      "execution_count": null,
      "outputs": []
    },
    {
      "cell_type": "markdown",
      "source": [
        "Then to the **frequency counter** part\n",
        "\n",
        "*   `sort` sorts the lines **alphabetically**\n",
        "\n"
      ],
      "metadata": {
        "id": "JGYmnSxrOIZz"
      }
    },
    {
      "cell_type": "code",
      "source": [
        "! cat speakers.txt | sort | head # the beginning of the sorted document looks like this"
      ],
      "metadata": {
        "id": "ZbSUvo8FOK5q"
      },
      "execution_count": null,
      "outputs": []
    },
    {
      "cell_type": "code",
      "source": [
        "! cat speakers.txt | sort | tail"
      ],
      "metadata": {
        "id": "0R_ehVNaPre0"
      },
      "execution_count": null,
      "outputs": []
    },
    {
      "cell_type": "markdown",
      "source": [
        "* `uniq` prints only unique lines, i.e., deletes consecutive duplicate lines (lines that follow each other)\n",
        "* `uniq -c` only counts the number of duplicate lines\n",
        "\n",
        "  --> **important to sort the lines first**"
      ],
      "metadata": {
        "id": "3tSLuG7pQWl7"
      }
    },
    {
      "cell_type": "code",
      "source": [
        "! cat speakers.txt | sort | uniq | head"
      ],
      "metadata": {
        "id": "8JntXsr1lj5N"
      },
      "execution_count": null,
      "outputs": []
    },
    {
      "cell_type": "code",
      "source": [
        "# then let's count the sorted unique lines\n",
        "! cat speakers.txt | sort | uniq -c | head # always use sort before uniq!"
      ],
      "metadata": {
        "id": "U2Eo6gVaQWEH"
      },
      "execution_count": null,
      "outputs": []
    },
    {
      "cell_type": "markdown",
      "source": [
        "Using `sort -n` again sorts the lines **by their number**"
      ],
      "metadata": {
        "id": "LW2wRYDRQpbT"
      }
    },
    {
      "cell_type": "code",
      "source": [
        "# sort sorts alphabetically\n",
        "! cat speakers.txt | sort | uniq -c | sort | head"
      ],
      "metadata": {
        "id": "95EPB__LlqFc"
      },
      "execution_count": null,
      "outputs": []
    },
    {
      "cell_type": "markdown",
      "source": [
        "There seems to be some data in the file that does not correspond to a surname, but let's ignore that for now and get back to it later."
      ],
      "metadata": {
        "id": "MRZVBZyo_Sv2"
      }
    },
    {
      "cell_type": "code",
      "source": [
        "# sort -n sorts by number\n",
        "! cat speakers.txt | sort | uniq -c | sort -n | head  # This command pipe may take a while to print out! How would you fix that?"
      ],
      "metadata": {
        "id": "mgWOHXy5Qu7p",
        "collapsed": true
      },
      "execution_count": null,
      "outputs": []
    },
    {
      "cell_type": "markdown",
      "source": [
        "`sort -nr` sorts the lines by their number **in reverse order** --> perhaps a bit more practical"
      ],
      "metadata": {
        "id": "KpBFlkJZRLfJ"
      }
    },
    {
      "cell_type": "code",
      "source": [
        "# sort -nr sorts lines by number in ascending order\n",
        "! cat speakers.txt | sort | uniq -c | sort -nr | head"
      ],
      "metadata": {
        "id": "iEUp_0jYRKhe"
      },
      "execution_count": null,
      "outputs": []
    },
    {
      "cell_type": "markdown",
      "source": [
        "Now, let's do something about the lines that do not correspond to surnames. `egrep -v` could help us here. In the pattern we want to match we must not forget to add line start `^`, otherwise it will match patterns also elsewhere in the line. Here the `egrep -v` without line start would work, but in general it is good practice to remember to indicate the line start if you wish to match patterns that begin a line."
      ],
      "metadata": {
        "id": "uVq1ail-pOs0"
      }
    },
    {
      "cell_type": "code",
      "source": [
        "# so here is our final frequency list\n",
        "! cat speakers.txt | egrep -v '^http' | sort | uniq -c | sort -nr | head"
      ],
      "metadata": {
        "id": "2QRGcMAIpd8x"
      },
      "execution_count": null,
      "outputs": []
    },
    {
      "cell_type": "markdown",
      "source": [
        "### ... so this is how we finally have the frequencies!"
      ],
      "metadata": {
        "id": "51CTVt99RjhF"
      }
    },
    {
      "cell_type": "markdown",
      "source": [
        "##Now it's your turn!\n",
        "\n",
        "\n",
        "1.   Use the same file with speeches from March, 2024.\n",
        "2.   Focus on (i.e., cut) the column with the party.\n",
        "1.   Remove any empty lines.\n",
        "1.   Save the parties to a new file called `parties.txt`\n",
        "2.   Make a frequency list of the parties.\n",
        "\n",
        "N.B. All data is not neatly in the column it belongs to. Thus, make sure to remove any items that do not refer to a party.\n",
        "\n",
        "Also, remember to check after each command that you have or did what you intended to! I have not added separate code cells for these.\n",
        "\n",
        "\n",
        "\n",
        "\n",
        "\n"
      ],
      "metadata": {
        "id": "bQ3Z2mXFxf1c"
      }
    },
    {
      "cell_type": "code",
      "source": [
        "# 1. Check the file to be used"
      ],
      "metadata": {
        "id": "zPWwCOvzzsyE"
      },
      "execution_count": null,
      "outputs": []
    },
    {
      "cell_type": "code",
      "source": [
        "# 2. Cut the column with the parties"
      ],
      "metadata": {
        "id": "h1LS51Zjz1uA"
      },
      "execution_count": null,
      "outputs": []
    },
    {
      "cell_type": "code",
      "source": [
        "# 3. Remove any empty lines"
      ],
      "metadata": {
        "id": "n5CBWYuTztTH"
      },
      "execution_count": null,
      "outputs": []
    },
    {
      "cell_type": "code",
      "source": [
        "# 4. Save the column to a new file called parties.txt"
      ],
      "metadata": {
        "id": "pbGc0n-H1fn0"
      },
      "execution_count": null,
      "outputs": []
    },
    {
      "cell_type": "code",
      "source": [
        "# 5. Make the frequency list"
      ],
      "metadata": {
        "id": "aMDYrQNIzte0"
      },
      "execution_count": null,
      "outputs": []
    },
    {
      "cell_type": "code",
      "source": [
        "# 6. Remove any items that do not belong to the frequency list (N.B. you might want to run this command earlier!)"
      ],
      "metadata": {
        "id": "16YF-Kse0Fmj"
      },
      "execution_count": null,
      "outputs": []
    },
    {
      "cell_type": "code",
      "source": [],
      "metadata": {
        "id": "zVPzBHOjztoF"
      },
      "execution_count": null,
      "outputs": []
    },
    {
      "cell_type": "markdown",
      "source": [
        "### What did we learn?\n",
        "\n",
        "* Flags are used to change or specify commands\n",
        "* Pipes are used to combine commands\n",
        "* New flags and commands\n",
        "  * `egrep` match character strings\n",
        "  * `egrep` + flags\n",
        "  * `egrep -v \"^$\"` delete empty lines\n",
        "\n",
        "      `^` beginning of a line\n",
        "\n",
        "      `$` line end\n",
        "  * `cut -f` select a specific column\n",
        "  * `sort`\n",
        "  * `uniq`\n",
        "  * `sort | uniq -c | sort -rn` frequency list\n"
      ],
      "metadata": {
        "id": "Hkj29_4zUZhg"
      }
    },
    {
      "cell_type": "code",
      "source": [],
      "metadata": {
        "id": "MNURlIs9xHHQ"
      },
      "execution_count": null,
      "outputs": []
    }
  ]
}