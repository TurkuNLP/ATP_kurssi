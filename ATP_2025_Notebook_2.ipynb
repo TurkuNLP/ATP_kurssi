{
  "nbformat": 4,
  "nbformat_minor": 0,
  "metadata": {
    "colab": {
      "provenance": [],
      "include_colab_link": true
    },
    "kernelspec": {
      "name": "python3",
      "display_name": "Python 3"
    },
    "language_info": {
      "name": "python"
    }
  },
  "cells": [
    {
      "cell_type": "markdown",
      "metadata": {
        "id": "view-in-github",
        "colab_type": "text"
      },
      "source": [
        "<a href=\"https://colab.research.google.com/github/TurkuNLP/ATP_kurssi/blob/master/ATP_2025_Notebook_2.ipynb\" target=\"_parent\"><img src=\"https://colab.research.google.com/assets/colab-badge.svg\" alt=\"Open In Colab\"/></a>"
      ]
    },
    {
      "cell_type": "markdown",
      "metadata": {
        "id": "qK8j601dEakq"
      },
      "source": [
        "# Notebook 2: more commands, flags (options) and pipes\n",
        "\n",
        "**Today's topics:**\n",
        "*   finding patterns (e.g., words) in a line (egrep/grep; grepping)\n",
        "*   making commands more versatile with flags\n",
        "*   combining commands (pipes)\n",
        "*   counting frequencies\n",
        "\n"
      ]
    },
    {
      "cell_type": "markdown",
      "source": [
        "## egrep (or grep)\n",
        "* Matches a **pattern** on a **line** and **prints the line** with the match;\n",
        "  \n",
        "  e.g. `egrep \"is\" filename.txt`\n",
        "\n",
        "  prints all lines in the file that match (have) the string 'is'\n",
        "\n",
        "* see http://people.uta.fi/~jm58660/jutut/unix/grep.html about egrep (in Finnish)\n",
        "  \n",
        "---\n",
        "\n",
        "N.B. 1: **capitals and whitespaces count**!\n",
        "\n",
        "  All the following commands give a different output:\n",
        "\n",
        "  `egrep \"is\" filename.txt` - lines with the string *is*, as a word or part of it (e.g., '**is**', 'th**is**', 'l**is**t', '**is**land')\n",
        "  \n",
        "  `egrep \" is\" filename.txt` - lines with the string *is*, where *is* can be a separate word or in the beginning of a word (e.g., '**is**', '**is**land')\n",
        "\n",
        "  `egrep \"is \" filename.txt` - lines with the string *is*, where *is* can be a separate word or in the end of a word (e.g., '**is**', 'th**is**')\n",
        "  \n",
        "  `egrep \" is \" filename.txt` - lines with the whitespace separated string *is*, i.e., a separate word ('**is**')\n",
        "\n",
        "  `egrep \"Is\" filename.txt` - lines with the string *Is*, as a word or part of it (e.g., '**Is**', '**Is**land', 'th**Is**' [camel case strings: thisIsCamelCase])\n",
        "  \n",
        "  `egrep \" Is \" filename.txt` - lines with the whitespace separated string *Is*, i.e., a separate word ('**Is**')\n",
        "\n",
        "---\n",
        "\n",
        "N.B. 2: **lines**\n",
        "\n",
        "  A line\n",
        "  1) ends in a line break, so it might be long.\n",
        "  2) does not necessarily correspond to a sentence.\n",
        "  3) can consist of several sentences, or even an entire text.\n"
      ],
      "metadata": {
        "id": "YdojS28iUosq"
      }
    },
    {
      "cell_type": "code",
      "metadata": {
        "id": "-hDMVIHhaDeS",
        "colab": {
          "base_uri": "https://localhost:8080/"
        },
        "outputId": "feb6a5cd-0716-4d1a-968f-d89c1f61c67e"
      },
      "source": [
        "# let's first get the limerick data we had previously\n",
        "! wget https://raw.githubusercontent.com/aristila/totally-random-stuff/refs/heads/main/bash_limerick.txt\n",
        "! ls"
      ],
      "execution_count": 60,
      "outputs": [
        {
          "output_type": "stream",
          "name": "stdout",
          "text": [
            "--2025-10-30 08:38:27--  https://raw.githubusercontent.com/aristila/totally-random-stuff/refs/heads/main/bash_limerick.txt\n",
            "Resolving raw.githubusercontent.com (raw.githubusercontent.com)... 185.199.108.133, 185.199.109.133, 185.199.110.133, ...\n",
            "Connecting to raw.githubusercontent.com (raw.githubusercontent.com)|185.199.108.133|:443... connected.\n",
            "HTTP request sent, awaiting response... 200 OK\n",
            "Length: 150 [text/plain]\n",
            "Saving to: ‘bash_limerick.txt.1’\n",
            "\n",
            "\rbash_limerick.txt.1   0%[                    ]       0  --.-KB/s               \rbash_limerick.txt.1 100%[===================>]     150  --.-KB/s    in 0s      \n",
            "\n",
            "2025-10-30 08:38:27 (3.20 MB/s) - ‘bash_limerick.txt.1’ saved [150/150]\n",
            "\n",
            "bash_limerick.txt    file.txt\t  speakers.txt\t\tspeeches_2024.csv\n",
            "bash_limerick.txt.1  sample_data  speeches_2024_03.tsv\tspeeches_2024.tsv\n"
          ]
        }
      ]
    },
    {
      "cell_type": "code",
      "source": [
        "! wc -lw bash_limerick.txt"
      ],
      "metadata": {
        "colab": {
          "base_uri": "https://localhost:8080/"
        },
        "id": "1lww0mhXRL69",
        "outputId": "0a88063b-39f8-4990-8ebd-1f13b3146b48"
      },
      "execution_count": 77,
      "outputs": [
        {
          "output_type": "stream",
          "name": "stdout",
          "text": [
            "  5  31 bash_limerick.txt\n"
          ]
        }
      ]
    },
    {
      "cell_type": "code",
      "source": [
        "! head bash_limerick.txt # let's have a look to remind us what's inside"
      ],
      "metadata": {
        "id": "x2wGWfE1i4a2",
        "colab": {
          "base_uri": "https://localhost:8080/"
        },
        "outputId": "fd847b0d-b720-4ff9-f0b7-bb5d1d1d3a68"
      },
      "execution_count": null,
      "outputs": [
        {
          "output_type": "stream",
          "name": "stdout",
          "text": [
            "There once was a coder named Mash,\n",
            "Who set out to master some Bash.\n",
            "With \"echo\" and \"grep,\"\n",
            "He made quite a rep,\n",
            "Now scripts he can write in a flash!\n"
          ]
        }
      ]
    },
    {
      "cell_type": "code",
      "source": [
        "# find patterns that match the string 'Bash' (capital B!), as a separate word or part of a word\n",
        "! egrep \"Bash\" bash_limerick.txt"
      ],
      "metadata": {
        "id": "ZwUrLm2h29Px",
        "colab": {
          "base_uri": "https://localhost:8080/"
        },
        "outputId": "9f34087c-baef-4a58-d2a7-e5bd4000b549"
      },
      "execution_count": null,
      "outputs": [
        {
          "output_type": "stream",
          "name": "stdout",
          "text": [
            "Who set out to master some Bash.\n"
          ]
        }
      ]
    },
    {
      "cell_type": "code",
      "source": [
        "# lower-cased 'bash', as a separate word or part of a word\n",
        "! egrep \"bash\" bash_limerick.txt"
      ],
      "metadata": {
        "id": "R77HVfaG7QS6"
      },
      "execution_count": null,
      "outputs": []
    },
    {
      "cell_type": "code",
      "source": [
        "# 'rep' as a separate word or part of a word\n",
        "! egrep \"rep\" bash_limerick.txt"
      ],
      "metadata": {
        "id": "Ttxpkx0t4hli",
        "colab": {
          "base_uri": "https://localhost:8080/"
        },
        "outputId": "7545ed66-9355-4155-f918-e6367187305a"
      },
      "execution_count": null,
      "outputs": [
        {
          "output_type": "stream",
          "name": "stdout",
          "text": [
            "With \"echo\" and \"grep,\"\n",
            "He made quite a rep,\n"
          ]
        }
      ]
    },
    {
      "cell_type": "code",
      "source": [
        "# 'rep' as a separate word or in the beginning of a word\n",
        "! egrep \" rep\" bash_limerick.txt"
      ],
      "metadata": {
        "id": "xvwMEUeZ4meU",
        "colab": {
          "base_uri": "https://localhost:8080/"
        },
        "outputId": "61366013-c5ed-4b1c-b158-ca3e93dff2c9"
      },
      "execution_count": null,
      "outputs": [
        {
          "output_type": "stream",
          "name": "stdout",
          "text": [
            "He made quite a rep,\n"
          ]
        }
      ]
    },
    {
      "cell_type": "code",
      "source": [
        "# 'rep' as a separate word or in the end of a word\n",
        "! egrep \"rep \" bash_limerick.txt\n",
        "\n",
        "# N.B. the comma in 'rep,'"
      ],
      "metadata": {
        "id": "dAy80GQTxf8l"
      },
      "execution_count": null,
      "outputs": []
    },
    {
      "cell_type": "code",
      "source": [
        "# 'he' as a separate word or part of a word; lower-case!\n",
        "! egrep \"he\" bash_limerick.txt"
      ],
      "metadata": {
        "id": "HTEEG4lFjcdr",
        "colab": {
          "base_uri": "https://localhost:8080/"
        },
        "outputId": "c165506c-6d34-45db-eefa-c8ccdc6612a4"
      },
      "execution_count": null,
      "outputs": [
        {
          "output_type": "stream",
          "name": "stdout",
          "text": [
            "There once was a coder named Mash,\n",
            "Now scripts he can write in a flash!\n"
          ]
        }
      ]
    },
    {
      "cell_type": "code",
      "source": [
        "# 'He' (capital H!) as a separate word or part of a word\n",
        "! egrep \"He\" bash_limerick.txt"
      ],
      "metadata": {
        "id": "KELAgICq3-gL",
        "colab": {
          "base_uri": "https://localhost:8080/"
        },
        "outputId": "44f39f43-1dbe-436b-d748-56f7d5f6f564"
      },
      "execution_count": null,
      "outputs": [
        {
          "output_type": "stream",
          "name": "stdout",
          "text": [
            "He made quite a rep,\n"
          ]
        }
      ]
    },
    {
      "cell_type": "code",
      "source": [
        "# 'he' as a separate word; lower-case!\n",
        "! egrep \" he \" bash_limerick.txt"
      ],
      "metadata": {
        "id": "i6guYV6Z4Aip",
        "colab": {
          "base_uri": "https://localhost:8080/"
        },
        "outputId": "f850e635-70a5-4c3a-f64c-633576afc4f6"
      },
      "execution_count": null,
      "outputs": [
        {
          "output_type": "stream",
          "name": "stdout",
          "text": [
            "Now scripts he can write in a flash!\n"
          ]
        }
      ]
    },
    {
      "cell_type": "markdown",
      "metadata": {
        "id": "syO3NO_SRDlD"
      },
      "source": [
        "## More about flags / options\n",
        "\n",
        "* Options are arguments that can be given to Unix commands to change their behavior. These form one of the core elements of Unix command line work.\n",
        "\n",
        "* most flags have both a short from (e.g. `-v`) and a long form (e.g. `--verbose`); we use short forms whenever possible since it's faster to write\n",
        "\n",
        "* Options are difficult to remember but you can read them for instance on `man` pages or google for instructions (which are probably easier to understand than `man` pages)"
      ]
    },
    {
      "cell_type": "code",
      "metadata": {
        "id": "JOZ0MkEZSA50",
        "collapsed": true,
        "colab": {
          "base_uri": "https://localhost:8080/"
        },
        "outputId": "69d1ad2d-407c-4d51-aa06-0dd80b5ec4a7"
      },
      "source": [
        "# an example of the manual page for ls\n",
        "! man ls"
      ],
      "execution_count": null,
      "outputs": [
        {
          "output_type": "stream",
          "name": "stdout",
          "text": [
            "This system has been minimized by removing packages and content that are\n",
            "not required on a system that users do not log into.\n",
            "\n",
            "To restore this content, including manpages, you can run the 'unminimize'\n",
            "command. You will still need to ensure the 'man-db' package is installed.\n"
          ]
        }
      ]
    },
    {
      "cell_type": "code",
      "source": [
        "# In Colab the man pages have been 'minimized', so you need to run this first\n",
        "# before Colab will show them to you:\n",
        "! unminimize\n",
        "# Colab will ask you if you really want to do this;\n",
        "# click on the area behind the question, type 'y' and press enter.\n",
        "# After running this cell you can try the cell above again."
      ],
      "metadata": {
        "id": "2-H5xT9nnMaW"
      },
      "execution_count": null,
      "outputs": []
    },
    {
      "cell_type": "markdown",
      "metadata": {
        "id": "gUeLK-aRUCXf"
      },
      "source": [
        "### Some useful options\n",
        "\n",
        "* `head -n 15` or `head -15` prints 15 first lines\n",
        "* `tail -n 15` or `tail -15` prints 15 last lines\n",
        "* `wc -w` prints **word** count\n",
        "* `wc -l` prints **line** count\n"
      ]
    },
    {
      "cell_type": "code",
      "metadata": {
        "id": "8LNR-oRvm1Up",
        "colab": {
          "base_uri": "https://localhost:8080/"
        },
        "outputId": "b205af54-6752-4cbc-b3ce-25746ad3e152"
      },
      "source": [
        "# let's try a bit!\n",
        "! head -3 bash_limerick.txt\n",
        "! echo \"-----\"\n",
        "! wc -l bash_limerick.txt\n",
        "! wc -w bash_limerick.txt"
      ],
      "execution_count": null,
      "outputs": [
        {
          "output_type": "stream",
          "name": "stdout",
          "text": [
            "There once was a coder named Mash,\n",
            "Who set out to master some Bash.\n",
            "With \"echo\" and \"grep,\"\n",
            "-----\n",
            "5 bash_limerick.txt\n",
            "31 bash_limerick.txt\n"
          ]
        }
      ]
    },
    {
      "cell_type": "code",
      "source": [
        "# if no flag is given to wc, it will print line, word, and byte & character count\n",
        "! wc bash_limerick.txt"
      ],
      "metadata": {
        "id": "N82EpkM1yYkk",
        "colab": {
          "base_uri": "https://localhost:8080/"
        },
        "outputId": "7bcae6f6-668b-4025-bebe-4494488aff13"
      },
      "execution_count": null,
      "outputs": [
        {
          "output_type": "stream",
          "name": "stdout",
          "text": [
            "  5  31 150 bash_limerick.txt\n"
          ]
        }
      ]
    },
    {
      "cell_type": "markdown",
      "source": [
        "##More useful options\n",
        "\n",
        "* `egrep -v` (reverse) prints lines **without a match**\n",
        "* `egrep -c` **counts** the lines with a match\n",
        "* `egrep -i` **ignores case**\n",
        "* `egrep -w` matches **just words** (prints lines with a match where the match is a word and not part of a word)\n",
        "* `egrep -B N` prints N lines **Before**\n",
        "* `egrep -A N` prints N lines **After**\n",
        "\n",
        "\n",
        "\n",
        "N.B. The flags can also be **combined**, e.g.,\n",
        "\n",
        "`egrep -vi`\n",
        "\n",
        "ignores case and prints lines without the pattern."
      ],
      "metadata": {
        "id": "9JItOSEvIz4B"
      }
    },
    {
      "cell_type": "code",
      "source": [
        "# let's print the text here so it's easier to compare egrep output with the entire text\n",
        "! cat bash_limerick.txt"
      ],
      "metadata": {
        "id": "KZCsqwcW6Il8",
        "colab": {
          "base_uri": "https://localhost:8080/"
        },
        "outputId": "36d8c278-ba98-4360-9a06-949e395910f4"
      },
      "execution_count": null,
      "outputs": [
        {
          "output_type": "stream",
          "name": "stdout",
          "text": [
            "There once was a coder named Mash,\n",
            "Who set out to master some Bash.\n",
            "With \"echo\" and \"grep,\"\n",
            "He made quite a rep,\n",
            "Now scripts he can write in a flash!\n"
          ]
        }
      ]
    },
    {
      "cell_type": "code",
      "source": [
        "# ignores case (so all lines with the string 'he', capitalized or not, and as a separate word or part of a word, are printed)\n",
        "! egrep -i \"he\" bash_limerick.txt"
      ],
      "metadata": {
        "id": "25I5K7DCFVCN",
        "collapsed": true,
        "colab": {
          "base_uri": "https://localhost:8080/"
        },
        "outputId": "e8fba936-9915-47d5-b501-bd7366939a40"
      },
      "execution_count": null,
      "outputs": [
        {
          "output_type": "stream",
          "name": "stdout",
          "text": [
            "There once was a coder named Mash,\n",
            "He made quite a rep,\n",
            "Now scripts he can write in a flash!\n"
          ]
        }
      ]
    },
    {
      "cell_type": "code",
      "source": [
        "# only matches lines with 'a' as a word\n",
        "! egrep -w \"a\" bash_limerick.txt"
      ],
      "metadata": {
        "id": "_unbDki344b3",
        "colab": {
          "base_uri": "https://localhost:8080/"
        },
        "outputId": "0c726b0c-bd93-48ad-9126-00eddea3b8fa"
      },
      "execution_count": null,
      "outputs": [
        {
          "output_type": "stream",
          "name": "stdout",
          "text": [
            "There once was a coder named Mash,\n",
            "He made quite a rep,\n",
            "Now scripts he can write in a flash!\n"
          ]
        }
      ]
    },
    {
      "cell_type": "code",
      "source": [
        "# all lines with 'a', as a separate word or part of a word\n",
        "! egrep \"a\" bash_limerick.txt"
      ],
      "metadata": {
        "id": "ujG8giGrC8PL",
        "colab": {
          "base_uri": "https://localhost:8080/"
        },
        "outputId": "2ed15139-f323-4035-9908-f4455ba712f0"
      },
      "execution_count": null,
      "outputs": [
        {
          "output_type": "stream",
          "name": "stdout",
          "text": [
            "There once was a coder named Mash,\n",
            "Who set out to master some Bash.\n",
            "With \"echo\" and \"grep,\"\n",
            "He made quite a rep,\n",
            "Now scripts he can write in a flash!\n"
          ]
        }
      ]
    },
    {
      "cell_type": "code",
      "source": [
        "# the string 'he' as a word, case ignored\n",
        "! egrep -wi \"he\" bash_limerick.txt # the flags can also be combined"
      ],
      "metadata": {
        "id": "ttEDS4Rg48ra",
        "colab": {
          "base_uri": "https://localhost:8080/"
        },
        "outputId": "0bdc269f-2894-4a7e-8dfc-54f93113dd16"
      },
      "execution_count": null,
      "outputs": [
        {
          "output_type": "stream",
          "name": "stdout",
          "text": [
            "He made quite a rep,\n",
            "Now scripts he can write in a flash!\n"
          ]
        }
      ]
    },
    {
      "cell_type": "code",
      "source": [
        "# prints all lines that do not match the string 'Bash'\n",
        "! egrep -v \"Bash\" bash_limerick.txt"
      ],
      "metadata": {
        "id": "rCVMKUX44-Xd",
        "colab": {
          "base_uri": "https://localhost:8080/"
        },
        "outputId": "40e47886-a8ac-4cd4-aa35-2931ec64c368"
      },
      "execution_count": null,
      "outputs": [
        {
          "output_type": "stream",
          "name": "stdout",
          "text": [
            "There once was a coder named Mash,\n",
            "With \"echo\" and \"grep,\"\n",
            "He made quite a rep,\n",
            "Now scripts he can write in a flash!\n"
          ]
        }
      ]
    },
    {
      "cell_type": "code",
      "source": [
        "# prints all lines that do not match the string 'he' (lower-case!) as a separate word or part of a word\n",
        "! egrep -v \"he\" bash_limerick.txt"
      ],
      "metadata": {
        "id": "9w_SQ7irz7x1",
        "colab": {
          "base_uri": "https://localhost:8080/"
        },
        "outputId": "d85182d1-d57b-44ac-ba72-90f302b14adf"
      },
      "execution_count": null,
      "outputs": [
        {
          "output_type": "stream",
          "name": "stdout",
          "text": [
            "Who set out to master some Bash.\n",
            "With \"echo\" and \"grep,\"\n",
            "He made quite a rep,\n"
          ]
        }
      ]
    },
    {
      "cell_type": "code",
      "metadata": {
        "id": "oNP09g5AnYfx",
        "colab": {
          "base_uri": "https://localhost:8080/"
        },
        "outputId": "4741f606-95a8-4e60-a5c6-9d57ef1257a1"
      },
      "source": [
        "# counts lines with the string \"Bash\"\n",
        "! egrep -c \"Bash\" bash_limerick.txt"
      ],
      "execution_count": null,
      "outputs": [
        {
          "output_type": "stream",
          "name": "stdout",
          "text": [
            "1\n"
          ]
        }
      ]
    },
    {
      "cell_type": "code",
      "source": [
        "# counts lines with the string 'he', ignoring case\n",
        "! egrep -ic \"he\" bash_limerick.txt"
      ],
      "metadata": {
        "id": "sxA3Mk8-5d_F",
        "colab": {
          "base_uri": "https://localhost:8080/"
        },
        "outputId": "7ec7dea0-8a52-4bd3-e3ae-0f89a6f9c822"
      },
      "execution_count": null,
      "outputs": [
        {
          "output_type": "stream",
          "name": "stdout",
          "text": [
            "3\n"
          ]
        }
      ]
    },
    {
      "cell_type": "code",
      "source": [
        "# let's check which lines it matched (and counted)\n",
        "! egrep -i \"he\" bash_limerick.txt"
      ],
      "metadata": {
        "id": "0OFQKlpF0W8C",
        "colab": {
          "base_uri": "https://localhost:8080/"
        },
        "outputId": "88f06f43-58d3-49f5-b343-f09289536ef6"
      },
      "execution_count": null,
      "outputs": [
        {
          "output_type": "stream",
          "name": "stdout",
          "text": [
            "There once was a coder named Mash,\n",
            "He made quite a rep,\n",
            "Now scripts he can write in a flash!\n"
          ]
        }
      ]
    },
    {
      "cell_type": "code",
      "source": [
        "# counts lines with 'he' (lower-case), as a separate word or as part of word\n",
        "! egrep -c \"he\" bash_limerick.txt"
      ],
      "metadata": {
        "id": "QXKMQt1w5WLn",
        "colab": {
          "base_uri": "https://localhost:8080/"
        },
        "outputId": "a6b1149a-2618-42e7-8001-3513fcdac181"
      },
      "execution_count": null,
      "outputs": [
        {
          "output_type": "stream",
          "name": "stdout",
          "text": [
            "2\n"
          ]
        }
      ]
    },
    {
      "cell_type": "code",
      "source": [
        "# these are the lines that were counted above\n",
        "! egrep \"he\" bash_limerick.txt"
      ],
      "metadata": {
        "id": "iDIr4IgpDJGD",
        "colab": {
          "base_uri": "https://localhost:8080/"
        },
        "outputId": "ac07e13b-315d-4b6d-9d4d-59d31e360c35"
      },
      "execution_count": null,
      "outputs": [
        {
          "output_type": "stream",
          "name": "stdout",
          "text": [
            "There once was a coder named Mash,\n",
            "Now scripts he can write in a flash!\n"
          ]
        }
      ]
    },
    {
      "cell_type": "code",
      "source": [
        "# ignores case, matches only 'he' as a word and counts the lines\n",
        "! egrep -icw \"he\" bash_limerick.txt"
      ],
      "metadata": {
        "id": "bOVP5xWU5fyi",
        "colab": {
          "base_uri": "https://localhost:8080/"
        },
        "outputId": "8c32e9fa-b60c-4a02-9371-b030a8bd9387"
      },
      "execution_count": null,
      "outputs": [
        {
          "output_type": "stream",
          "name": "stdout",
          "text": [
            "2\n"
          ]
        }
      ]
    },
    {
      "cell_type": "code",
      "source": [
        "# order of the flags does not matter\n",
        "! egrep -wic \"he\" bash_limerick.txt"
      ],
      "metadata": {
        "id": "VmF2fn1e1R1L",
        "colab": {
          "base_uri": "https://localhost:8080/"
        },
        "outputId": "c52e2a50-3445-47e8-ba4d-35a889f9b4e7"
      },
      "execution_count": null,
      "outputs": [
        {
          "output_type": "stream",
          "name": "stdout",
          "text": [
            "2\n"
          ]
        }
      ]
    },
    {
      "cell_type": "code",
      "source": [
        "# ignores case, 'he' as a separate word\n",
        "! egrep -iw \"he\" bash_limerick.txt"
      ],
      "metadata": {
        "id": "WHMoHsutDMXU",
        "colab": {
          "base_uri": "https://localhost:8080/"
        },
        "outputId": "e5152395-7587-4eca-d25f-7a7e2d8c8277"
      },
      "execution_count": null,
      "outputs": [
        {
          "output_type": "stream",
          "name": "stdout",
          "text": [
            "He made quite a rep,\n",
            "Now scripts he can write in a flash!\n"
          ]
        }
      ]
    },
    {
      "cell_type": "code",
      "source": [
        "# prints one line before and two lines after the line(s) that match the string 'and'\n",
        "! egrep -B 1 -A 2 \"and\" bash_limerick.txt"
      ],
      "metadata": {
        "id": "wQUKRAmbXC56",
        "collapsed": true,
        "colab": {
          "base_uri": "https://localhost:8080/"
        },
        "outputId": "b87a3c1e-209b-4ba9-b88b-848bf368563c"
      },
      "execution_count": null,
      "outputs": [
        {
          "output_type": "stream",
          "name": "stdout",
          "text": [
            "Who set out to master some Bash.\n",
            "With \"echo\" and \"grep,\"\n",
            "He made quite a rep,\n",
            "Now scripts he can write in a flash!\n"
          ]
        }
      ]
    },
    {
      "cell_type": "markdown",
      "metadata": {
        "id": "4l6srdjKonG8"
      },
      "source": [
        "### Time to try things out!\n",
        "\n",
        "Let's fetch some data from project Gutenberg at www.gutenberg.org. Do the following tasks:\n",
        "\n",
        "\n",
        "\n",
        "1.   Download this file: https://www.gutenberg.org/cache/epub/20748/pg20748.txt\n",
        "1. Rename the file as e.g., `fairytales.txt`\n",
        "2. Count how many **words** and **lines** the file has.\n",
        "3. Count on **how many lines** the pronoun _he_ appears in the file. How can you control the use of **capitals** and **white spaces** so that the query matches **only entire words**?\n",
        "4. Direct the number of lines that match the query (_he_) to **a new file** called `pron_in_file.txt`.\n",
        "\n",
        "\n",
        "**Advanced**\n",
        "\n",
        "Direct the output to a file called `pron_count_with_text.txt` with the following text: 'The pronoun he appeared this many times:'\n",
        "\n",
        "I.e., when you print the file, the output should look something like this:\n",
        "```\n",
        "Th pronoun he appeared this many times:\n",
        "15\n",
        "```"
      ]
    },
    {
      "cell_type": "markdown",
      "source": [
        "N.B. The commands etc. in **'Advanced' sections will not be tested in the exam**. They're just there to give you a bit more (advanced) information.\n",
        "\n",
        "### Advanced\n",
        "* You can also combine commands on one line using `;`\n",
        "* You can assign variables using `$`:\n",
        "\n"
      ],
      "metadata": {
        "id": "OnaBt2IGXt_e"
      }
    },
    {
      "cell_type": "code",
      "metadata": {
        "id": "C-DD-gxHt3M4"
      },
      "source": [
        "! wordcount=$(wc -w book.txt) ; echo \"Word count is $wordcount\"\n"
      ],
      "execution_count": null,
      "outputs": []
    },
    {
      "cell_type": "code",
      "source": [
        "! wordcount=$(wc -w book.txt) ; echo \"Word count is $wordcount\"\n",
        "! echo \"Word count is\", $wordcount # this won't work anymore on Colab, because each line is interpreted individually"
      ],
      "metadata": {
        "id": "esFiuJ0QJ3v-"
      },
      "execution_count": null,
      "outputs": []
    },
    {
      "cell_type": "markdown",
      "metadata": {
        "id": "hFHd6af-ElBx"
      },
      "source": [
        "### Pipes (*putket* in Finnish)\n",
        "\n",
        "* You can combine commands with a pipe `|` (alt gr + the key next to z)\n",
        "* This way the output of the first command goes as input to the next one (**the order of the commands is important!**)\n",
        "* `cat file.txt | wc -w` first prints a file, then counts words (this is actually the same as just `wc -w file.txt`)\n",
        "* `cat file.txt | egrep \"is\"`  first prints a file, then matches the pattern\n",
        "* `cat file.txt | egrep \"is\"  | wc -l` prints file, matches a pattern, counts the lines with the pattern\n",
        "* `cat file.txt | egrep \"is\" | head` prints file, matches a pattern, prints the head of the lines with the pattern\n",
        "* `cat file.txt | egrep \"is\" > output.txt` prints file, matches a pattern, directs the matched lines to a new file\n",
        "* `cat file.txt | head -1000 | tail -100`  prints the lines between 900-1000; first prints the file, then it prints the first 1000 lines which go to the next pipe, which in turn prints the 100 last lines of the `head -1000` output"
      ]
    },
    {
      "cell_type": "code",
      "source": [
        "# once again, let's use the limerick\n",
        "! cat bash_limerick.txt"
      ],
      "metadata": {
        "id": "QTp94VtnDnFt",
        "colab": {
          "base_uri": "https://localhost:8080/"
        },
        "outputId": "aa3fe491-d3a4-4a69-d819-df608b300d64"
      },
      "execution_count": null,
      "outputs": [
        {
          "output_type": "stream",
          "name": "stdout",
          "text": [
            "There once was a coder named Mash,\n",
            "Who set out to master some Bash.\n",
            "With \"echo\" and \"grep,\"\n",
            "He made quite a rep,\n",
            "Now scripts he can write in a flash!\n"
          ]
        }
      ]
    },
    {
      "cell_type": "code",
      "source": [
        "# prints file, matches a pattern, counts the lines with the pattern\n",
        "! cat bash_limerick.txt | egrep \"and\" | wc -l"
      ],
      "metadata": {
        "id": "tuEPyzSGeXYt",
        "colab": {
          "base_uri": "https://localhost:8080/"
        },
        "outputId": "8facb91e-2918-43f8-98df-e1ce935efd1a"
      },
      "execution_count": null,
      "outputs": [
        {
          "output_type": "stream",
          "name": "stdout",
          "text": [
            "1\n"
          ]
        }
      ]
    },
    {
      "cell_type": "code",
      "source": [
        "# here I use echo to separate output, but it's not necessary\n",
        "\n",
        "# prints file, matches a pattern as a word, prints the lines with the pattern\n",
        "! cat bash_limerick.txt | egrep -w \"a\"\n",
        "\n",
        "! echo\n",
        "! echo --- line count ---\n",
        "\n",
        "# prints file, matches a pattern as a word, counts the lines with the pattern\n",
        "! cat bash_limerick.txt | egrep -w \"a\" | wc -l\n",
        "\n",
        "! echo\n",
        "! echo --- the first two lines with a match ---\n",
        "\n",
        "# prints file, matches a pattern as a word, prints the head of the lines with the pattern\n",
        "! cat bash_limerick.txt | egrep -w \"a\" | head -2\n"
      ],
      "metadata": {
        "id": "qUUv81nNSylz",
        "colab": {
          "base_uri": "https://localhost:8080/"
        },
        "outputId": "e37a69a8-d17b-4db1-fd3e-4da6b22daefa"
      },
      "execution_count": null,
      "outputs": [
        {
          "output_type": "stream",
          "name": "stdout",
          "text": [
            "There once was a coder named Mash,\n",
            "He made quite a rep,\n",
            "Now scripts he can write in a flash!\n",
            "\n",
            "--- line count ---\n",
            "3\n",
            "\n",
            "--- the first two lines with a match ---\n",
            "There once was a coder named Mash,\n",
            "He made quite a rep,\n"
          ]
        }
      ]
    },
    {
      "cell_type": "code",
      "source": [
        "# prints file, matches a pattern as a word and ignores case, prints the head of the lines with the pattern\n",
        "! cat bash_limerick.txt | egrep -wi \"he\" | head\n",
        "\n",
        "# prints file, matches a pattern as a word and ignores case, counts the lines with the pattern\n",
        "! cat bash_limerick.txt | egrep -wi \"he\" | wc -l"
      ],
      "metadata": {
        "id": "i5888tpWLjq0",
        "colab": {
          "base_uri": "https://localhost:8080/"
        },
        "outputId": "f4f6d496-ab8d-44d7-e696-c243d35efb3a"
      },
      "execution_count": null,
      "outputs": [
        {
          "output_type": "stream",
          "name": "stdout",
          "text": [
            "He made quite a rep,\n",
            "Now scripts he can write in a flash!\n",
            "2\n"
          ]
        }
      ]
    },
    {
      "cell_type": "code",
      "source": [
        "# Again, you can direct these to a file as before\n",
        "! cat bash_limerick.txt | egrep -wi \"he\" | wc -l > file.txt\n",
        "! cat file.txt"
      ],
      "metadata": {
        "id": "M6_977gPfKvd",
        "colab": {
          "base_uri": "https://localhost:8080/"
        },
        "outputId": "45d07395-76d9-4cf9-8217-26c96b71da4c"
      },
      "execution_count": null,
      "outputs": [
        {
          "output_type": "stream",
          "name": "stdout",
          "text": [
            "2\n"
          ]
        }
      ]
    },
    {
      "cell_type": "markdown",
      "source": [
        "## Frequency counts\n",
        "\n",
        "\n",
        "\n",
        "*   A frequency counter is very useful to count e.g., strings in a text\n",
        "* A frequency counter can be done by combining *sort* and *uniq* commands with a pipe\n",
        "* `sort` sorts the input lines in **alphabetical order**\n",
        "* `uniq` filters **repetitive, consecutive** lines\n"
      ],
      "metadata": {
        "id": "jCkv4zqzS-7A"
      }
    },
    {
      "cell_type": "markdown",
      "source": [
        "Let's first get some data. This time we'll fetch some parliamentary data."
      ],
      "metadata": {
        "id": "UqwKyh00mG9P"
      }
    },
    {
      "cell_type": "code",
      "source": [
        "!wget https://a3s.fi/parliamentsampo/speeches/csv/speeches_2024.csv"
      ],
      "metadata": {
        "id": "VzLIR0-8kLkd",
        "colab": {
          "base_uri": "https://localhost:8080/"
        },
        "outputId": "a3f11c33-7466-436c-9afe-70b72bb7f133"
      },
      "execution_count": null,
      "outputs": [
        {
          "output_type": "stream",
          "name": "stdout",
          "text": [
            "--2025-10-30 07:36:19--  https://a3s.fi/parliamentsampo/speeches/csv/speeches_2024.csv\n",
            "Resolving a3s.fi (a3s.fi)... 86.50.254.18, 86.50.254.19\n",
            "Connecting to a3s.fi (a3s.fi)|86.50.254.18|:443... connected.\n",
            "HTTP request sent, awaiting response... 200 OK\n",
            "Length: 42858211 (41M) [text/plain]\n",
            "Saving to: ‘speeches_2024.csv’\n",
            "\n",
            "speeches_2024.csv   100%[===================>]  40.87M  12.4MB/s    in 3.3s    \n",
            "\n",
            "2025-10-30 07:36:23 (12.4 MB/s) - ‘speeches_2024.csv’ saved [42858211/42858211]\n",
            "\n"
          ]
        }
      ]
    },
    {
      "cell_type": "code",
      "source": [
        "# let's check that the file made it to our directory\n",
        "! ls"
      ],
      "metadata": {
        "id": "ntqjHrmx88da",
        "colab": {
          "base_uri": "https://localhost:8080/"
        },
        "outputId": "da1fd59a-606f-4b88-9256-d1dfd84aad49"
      },
      "execution_count": null,
      "outputs": [
        {
          "output_type": "stream",
          "name": "stdout",
          "text": [
            "bash_limerick.txt  file.txt  sample_data  speeches_2024.csv\n"
          ]
        }
      ]
    },
    {
      "cell_type": "code",
      "source": [
        "# let's check what we got\n",
        "! head speeches_2024.csv"
      ],
      "metadata": {
        "id": "nlzbSpbCvo-3",
        "colab": {
          "base_uri": "https://localhost:8080/"
        },
        "outputId": "2565aa21-980d-4485-a8b7-eead764fd2cc"
      },
      "execution_count": null,
      "outputs": [
        {
          "output_type": "stream",
          "name": "stdout",
          "text": [
            "speech_id,session,date,start_time,end_time,given,family,role,party,topic,content,speech_type,mp_uri,gender,birth,party_uri,parliamentary_role,group_uri,status,version,link,lang,name_in_source,speaker_id,speech_start,speech_end,speech_status,speech_version\r\n",
            "2024_1_1,1/2024,2024-02-06,12.01,13.53,Kimmo,Kiljunen,Ikäpuhemies,SDP,Nimenhuuto>>>Nimenhuutoraportti,\"Täysistunto alkaa. Iältäni vanhimpana eduskunnan jäsenenä johdan puhetta tässä valtiopäivien ensimmäisessä täysistunnossa, kunnes eduskunta on työjärjestyksen 4 §:n mukaan valinnut puhemiehen ja kaksi varapuhemiestä ja nämä ovat antaneet eduskunnalle juhlallisen vakuutuksen.\",PuhemiesPuheenvuoro,http://ldf.fi/semparl/people/p464,Male,1951-01-01,http://ldf.fi/semparl/groups/Q499029,Oppositiopuolue,http://ldf.fi/semparl/groups/g3055354335113056020,Tarkistettu,4.1,https://www.eduskunta.fi/FI/vaski/PoytakirjaAsiakohta/Sivut/PTK_1+2024+1.aspx,fi,Ikäpuhemies Kimmo Kiljunen\r\n",
            "2024_1_2,1/2024,2024-02-06,12.01,13.53,Kimmo,Kiljunen,Ikäpuhemies,SDP,Puhemiehen vaali>>>Vaali  VAA 1/2024 vp,\"Nyt seuraa puhemiehen vaali, joka, kuten varapuhemiestenkin vaalit, toimitetaan noudattamalla Suomen perustuslain 34 §:n 2 momentin ja eduskunnan vaalisäännön 5 ja 6 §:n säännöksiä. Vaali toimitetaan umpilipuin. Edustajat tuovat äänestyslippunsa uurnaan aakkosjärjestyksessä toimitettavan nimenhuudon mukaan. Ehdokkaan nimi on yksilöitävä riittävällä tarkkuudella tarvittaessa myös etunimeä käyttäen. Avustajiksi äänestyslippujen tarkastamiseen ja äänten laskemiseen vaalissa pyydän seuraavat edustajat: Matias Marttinen, Jari Ronkainen, Tytti Tuppurainen ja Antti Kurvinen.\",PuhemiesPuheenvuoro,http://ldf.fi/semparl/people/p464,Male,1951-01-01,http://ldf.fi/semparl/groups/Q499029,Oppositiopuolue,http://ldf.fi/semparl/groups/g3055354335113056020,Tarkistettu,4.1,https://www.eduskunta.fi/FI/vaski/PoytakirjaAsiakohta/Sivut/PTK_1+2024+2.aspx,fi,Ikäpuhemies Kimmo Kiljunen\r\n",
            "2024_1_3,1/2024,2024-02-06,12.01,13.53,Kimmo,Kiljunen,Ikäpuhemies,SDP,Puhemiehen vaali>>>Vaali  VAA 1/2024 vp,\"Ääntenlaskijat ovat suoriutuneet tehtävästään, ja nyt luetaan äänestyksen tulos.\",PuhemiesPuheenvuoro,http://ldf.fi/semparl/people/p464,Male,1951-01-01,http://ldf.fi/semparl/groups/Q499029,Oppositiopuolue,http://ldf.fi/semparl/groups/g3055354335113056020,Tarkistettu,4.1,https://www.eduskunta.fi/FI/vaski/PoytakirjaAsiakohta/Sivut/PTK_1+2024+2.aspx,fi,Ikäpuhemies Kimmo Kiljunen\r\n",
            "2024_1_4,1/2024,2024-02-06,12.01,13.53,Kimmo,Kiljunen,Ikäpuhemies,SDP,Puhemiehen vaali>>>Vaali  VAA 1/2024 vp,\"Kun Jussi Halla-aho on saanut vaalissa enemmän kuin puolet annetuista hyväksytyistä äänistä, on hänet valittu eduskunnan puhemieheksi vuoden 2024 valtiopäivien ajaksi.\",PuhemiesPuheenvuoro,http://ldf.fi/semparl/people/p464,Male,1951-01-01,http://ldf.fi/semparl/groups/Q499029,Oppositiopuolue,http://ldf.fi/semparl/groups/g3055354335113056020,Tarkistettu,4.1,https://www.eduskunta.fi/FI/vaski/PoytakirjaAsiakohta/Sivut/PTK_1+2024+2.aspx,fi,Ikäpuhemies Kimmo Kiljunen\r\n",
            "2024_1_5,1/2024,2024-02-06,12.01,13.53,Kimmo,Kiljunen,Ikäpuhemies,SDP,Ensimmäisen varapuhemiehen vaali>>>Vaali  VAA 2/2024 vp,\"Nyt seuraa ensimmäisen varapuhemiehen vaali. Tämäkin vaali toimitetaan umpilipuin. Nyt pyydän edustajia tarkkaavaisuuteen äänestäessänne. Edellisellä äänestyskerralla joku edustajista äänesti vahingossa kahdella lapulla, toinen oli liimautunut toisen taakse — se oli tyhjä kylläkin, niin että se ei aiheuttanut hämminkiä siinä suhteessa. Mutta olkaa tarkkoja: yksi ainoa äänestyslippu, kun revitte sieltä sen äänestyslippunne. Edustajat tuovat äänestyslippunsa uurnaan aakkosjärjestyksessä. Avustajiksi tässä vaalissa pyydän seuraavat edustajat: Sinuhe Wallinheimo, Ari Koponen, Piritta Rantanen ja Eeva Kalli.\",PuhemiesPuheenvuoro,http://ldf.fi/semparl/people/p464,Male,1951-01-01,http://ldf.fi/semparl/groups/Q499029,Oppositiopuolue,http://ldf.fi/semparl/groups/g3055354335113056020,Tarkistettu,4.1,https://www.eduskunta.fi/FI/vaski/PoytakirjaAsiakohta/Sivut/PTK_1+2024+3.aspx,fi,Ikäpuhemies Kimmo Kiljunen\r\n",
            "2024_1_6,1/2024,2024-02-06,12.01,13.53,Kimmo,Kiljunen,Ikäpuhemies,SDP,Ensimmäisen varapuhemiehen vaali>>>Vaali  VAA 2/2024 vp,Luetaan äänestyksen tulos.,PuhemiesPuheenvuoro,http://ldf.fi/semparl/people/p464,Male,1951-01-01,http://ldf.fi/semparl/groups/Q499029,Oppositiopuolue,http://ldf.fi/semparl/groups/g3055354335113056020,Tarkistettu,4.1,https://www.eduskunta.fi/FI/vaski/PoytakirjaAsiakohta/Sivut/PTK_1+2024+3.aspx,fi,Ikäpuhemies Kimmo Kiljunen\r\n",
            "2024_1_7,1/2024,2024-02-06,12.01,13.53,Kimmo,Kiljunen,Ikäpuhemies,SDP,Ensimmäisen varapuhemiehen vaali>>>Vaali  VAA 2/2024 vp,\"Kun Paula Risikko on saanut vaalissa enemmän kuin puolet annetuista hyväksytyistä äänistä, on hänet valittu eduskunnan ensimmäiseksi varapuhemieheksi vuoden 2024 valtiopäivien ajaksi.\",PuhemiesPuheenvuoro,http://ldf.fi/semparl/people/p464,Male,1951-01-01,http://ldf.fi/semparl/groups/Q499029,Oppositiopuolue,http://ldf.fi/semparl/groups/g3055354335113056020,Tarkistettu,4.1,https://www.eduskunta.fi/FI/vaski/PoytakirjaAsiakohta/Sivut/PTK_1+2024+3.aspx,fi,Ikäpuhemies Kimmo Kiljunen\r\n",
            "2024_1_8,1/2024,2024-02-06,12.01,13.53,Kimmo,Kiljunen,Ikäpuhemies,SDP,Toisen varapuhemiehen vaali>>>Vaali  VAA 3/2024 vp,\"Nyt siirrytään seuraavaan eli toisen varapuhemiehen vaaliin. Vaali toimitetaan samalla tavalla kuin aikaisemminkin: umpilipuin. Edustajat tuovat äänestyslippunsa uurnaan aakkosjärjestyksessä. Avustajiksi vaalissa pyydetään seuraavat edustajat: Mari-Leena Talvitie, Sara Seppänen, Mika Kari ja Eerikki Viljanen.\",PuhemiesPuheenvuoro,http://ldf.fi/semparl/people/p464,Male,1951-01-01,http://ldf.fi/semparl/groups/Q499029,Oppositiopuolue,http://ldf.fi/semparl/groups/g3055354335113056020,Tarkistettu,4.1,https://www.eduskunta.fi/FI/vaski/PoytakirjaAsiakohta/Sivut/PTK_1+2024+4.aspx,fi,Ikäpuhemies Kimmo Kiljunen\r\n",
            "2024_1_9,1/2024,2024-02-06,12.01,13.53,Kimmo,Kiljunen,Ikäpuhemies,SDP,Toisen varapuhemiehen vaali>>>Vaali  VAA 3/2024 vp,Luetaan äänestyksen tulos.,PuhemiesPuheenvuoro,http://ldf.fi/semparl/people/p464,Male,1951-01-01,http://ldf.fi/semparl/groups/Q499029,Oppositiopuolue,http://ldf.fi/semparl/groups/g3055354335113056020,Tarkistettu,4.1,https://www.eduskunta.fi/FI/vaski/PoytakirjaAsiakohta/Sivut/PTK_1+2024+4.aspx,fi,Ikäpuhemies Kimmo Kiljunen\r\n"
          ]
        }
      ]
    },
    {
      "cell_type": "markdown",
      "source": [
        "This file is a **csv** file.\n",
        "\n",
        "**csv** stands for comma-separated values.\n",
        "\n",
        "This file format is a bit impractical for us at the moment, so let's change it to **tsv**.\n",
        "\n",
        "**tsv** stands for tab-separated values."
      ],
      "metadata": {
        "id": "FbaHGLshvxF6"
      }
    },
    {
      "cell_type": "markdown",
      "source": [
        "Next, we'll need some Python to make the data format suitable for our purposes. **You need not know how to do this**, but feel free to have a look at the code snippet."
      ],
      "metadata": {
        "id": "paleXfAYmW16"
      }
    },
    {
      "cell_type": "code",
      "source": [
        "# let's save the csv file as a tsv file\n",
        "import pandas as pd\n",
        "df = pd.read_csv('speeches_2024.csv')\n",
        "df.to_csv('speeches_2024.tsv', sep='\\t')"
      ],
      "metadata": {
        "id": "4StFKcvgkaBP"
      },
      "execution_count": null,
      "outputs": []
    },
    {
      "cell_type": "markdown",
      "source": [
        "Let's check what we got."
      ],
      "metadata": {
        "id": "eVL8TphBmqRf"
      }
    },
    {
      "cell_type": "code",
      "source": [
        "!ls"
      ],
      "metadata": {
        "id": "eC7_652tkr1S",
        "colab": {
          "base_uri": "https://localhost:8080/"
        },
        "outputId": "80fd01e8-47c7-4748-d9a9-b982925d2e8a"
      },
      "execution_count": null,
      "outputs": [
        {
          "output_type": "stream",
          "name": "stdout",
          "text": [
            "bash_limerick.txt  file.txt  sample_data  speeches_2024.csv  speeches_2024.tsv\n"
          ]
        }
      ]
    },
    {
      "cell_type": "code",
      "source": [
        "# What does the data look like?\n",
        "\n",
        "! cat speeches_2024.tsv | head\n",
        "\n",
        "#! head speeches_2024.tsv #outputs the same thing as the command above"
      ],
      "metadata": {
        "id": "WmdFTbYO_YI2",
        "colab": {
          "base_uri": "https://localhost:8080/"
        },
        "outputId": "ead878c9-f6be-402a-db03-533483e95043"
      },
      "execution_count": null,
      "outputs": [
        {
          "output_type": "stream",
          "name": "stdout",
          "text": [
            "\tspeech_id\tsession\tdate\tstart_time\tend_time\tgiven\tfamily\trole\tparty\ttopic\tcontent\tspeech_type\tmp_uri\tgender\tbirth\tparty_uri\tparliamentary_role\tgroup_uri\tstatus\tversion\tlink\tlang\tname_in_source\tspeaker_id\tspeech_start\tspeech_end\tspeech_status\tspeech_version\n",
            "0\t2024_1_1\t1/2024\t2024-02-06\t12.01\t13.53\tKimmo\tKiljunen\tIkäpuhemies\tSDP\tNimenhuuto>>>Nimenhuutoraportti\tTäysistunto alkaa. Iältäni vanhimpana eduskunnan jäsenenä johdan puhetta tässä valtiopäivien ensimmäisessä täysistunnossa, kunnes eduskunta on työjärjestyksen 4 §:n mukaan valinnut puhemiehen ja kaksi varapuhemiestä ja nämä ovat antaneet eduskunnalle juhlallisen vakuutuksen.\tPuhemiesPuheenvuoro\thttp://ldf.fi/semparl/people/p464\tMale\t1951-01-01\thttp://ldf.fi/semparl/groups/Q499029\tOppositiopuolue\thttp://ldf.fi/semparl/groups/g3055354335113056020\tTarkistettu\t4.1\thttps://www.eduskunta.fi/FI/vaski/PoytakirjaAsiakohta/Sivut/PTK_1+2024+1.aspx\tfi\tIkäpuhemies Kimmo Kiljunen\t\t\t\t\t\n",
            "1\t2024_1_2\t1/2024\t2024-02-06\t12.01\t13.53\tKimmo\tKiljunen\tIkäpuhemies\tSDP\tPuhemiehen vaali>>>Vaali  VAA 1/2024 vp\tNyt seuraa puhemiehen vaali, joka, kuten varapuhemiestenkin vaalit, toimitetaan noudattamalla Suomen perustuslain 34 §:n 2 momentin ja eduskunnan vaalisäännön 5 ja 6 §:n säännöksiä. Vaali toimitetaan umpilipuin. Edustajat tuovat äänestyslippunsa uurnaan aakkosjärjestyksessä toimitettavan nimenhuudon mukaan. Ehdokkaan nimi on yksilöitävä riittävällä tarkkuudella tarvittaessa myös etunimeä käyttäen. Avustajiksi äänestyslippujen tarkastamiseen ja äänten laskemiseen vaalissa pyydän seuraavat edustajat: Matias Marttinen, Jari Ronkainen, Tytti Tuppurainen ja Antti Kurvinen.\tPuhemiesPuheenvuoro\thttp://ldf.fi/semparl/people/p464\tMale\t1951-01-01\thttp://ldf.fi/semparl/groups/Q499029\tOppositiopuolue\thttp://ldf.fi/semparl/groups/g3055354335113056020\tTarkistettu\t4.1\thttps://www.eduskunta.fi/FI/vaski/PoytakirjaAsiakohta/Sivut/PTK_1+2024+2.aspx\tfi\tIkäpuhemies Kimmo Kiljunen\t\t\t\t\t\n",
            "2\t2024_1_3\t1/2024\t2024-02-06\t12.01\t13.53\tKimmo\tKiljunen\tIkäpuhemies\tSDP\tPuhemiehen vaali>>>Vaali  VAA 1/2024 vp\tÄäntenlaskijat ovat suoriutuneet tehtävästään, ja nyt luetaan äänestyksen tulos.\tPuhemiesPuheenvuoro\thttp://ldf.fi/semparl/people/p464\tMale\t1951-01-01\thttp://ldf.fi/semparl/groups/Q499029\tOppositiopuolue\thttp://ldf.fi/semparl/groups/g3055354335113056020\tTarkistettu\t4.1\thttps://www.eduskunta.fi/FI/vaski/PoytakirjaAsiakohta/Sivut/PTK_1+2024+2.aspx\tfi\tIkäpuhemies Kimmo Kiljunen\t\t\t\t\t\n",
            "3\t2024_1_4\t1/2024\t2024-02-06\t12.01\t13.53\tKimmo\tKiljunen\tIkäpuhemies\tSDP\tPuhemiehen vaali>>>Vaali  VAA 1/2024 vp\tKun Jussi Halla-aho on saanut vaalissa enemmän kuin puolet annetuista hyväksytyistä äänistä, on hänet valittu eduskunnan puhemieheksi vuoden 2024 valtiopäivien ajaksi.\tPuhemiesPuheenvuoro\thttp://ldf.fi/semparl/people/p464\tMale\t1951-01-01\thttp://ldf.fi/semparl/groups/Q499029\tOppositiopuolue\thttp://ldf.fi/semparl/groups/g3055354335113056020\tTarkistettu\t4.1\thttps://www.eduskunta.fi/FI/vaski/PoytakirjaAsiakohta/Sivut/PTK_1+2024+2.aspx\tfi\tIkäpuhemies Kimmo Kiljunen\t\t\t\t\t\n",
            "4\t2024_1_5\t1/2024\t2024-02-06\t12.01\t13.53\tKimmo\tKiljunen\tIkäpuhemies\tSDP\tEnsimmäisen varapuhemiehen vaali>>>Vaali  VAA 2/2024 vp\tNyt seuraa ensimmäisen varapuhemiehen vaali. Tämäkin vaali toimitetaan umpilipuin. Nyt pyydän edustajia tarkkaavaisuuteen äänestäessänne. Edellisellä äänestyskerralla joku edustajista äänesti vahingossa kahdella lapulla, toinen oli liimautunut toisen taakse — se oli tyhjä kylläkin, niin että se ei aiheuttanut hämminkiä siinä suhteessa. Mutta olkaa tarkkoja: yksi ainoa äänestyslippu, kun revitte sieltä sen äänestyslippunne. Edustajat tuovat äänestyslippunsa uurnaan aakkosjärjestyksessä. Avustajiksi tässä vaalissa pyydän seuraavat edustajat: Sinuhe Wallinheimo, Ari Koponen, Piritta Rantanen ja Eeva Kalli.\tPuhemiesPuheenvuoro\thttp://ldf.fi/semparl/people/p464\tMale\t1951-01-01\thttp://ldf.fi/semparl/groups/Q499029\tOppositiopuolue\thttp://ldf.fi/semparl/groups/g3055354335113056020\tTarkistettu\t4.1\thttps://www.eduskunta.fi/FI/vaski/PoytakirjaAsiakohta/Sivut/PTK_1+2024+3.aspx\tfi\tIkäpuhemies Kimmo Kiljunen\t\t\t\t\t\n",
            "5\t2024_1_6\t1/2024\t2024-02-06\t12.01\t13.53\tKimmo\tKiljunen\tIkäpuhemies\tSDP\tEnsimmäisen varapuhemiehen vaali>>>Vaali  VAA 2/2024 vp\tLuetaan äänestyksen tulos.\tPuhemiesPuheenvuoro\thttp://ldf.fi/semparl/people/p464\tMale\t1951-01-01\thttp://ldf.fi/semparl/groups/Q499029\tOppositiopuolue\thttp://ldf.fi/semparl/groups/g3055354335113056020\tTarkistettu\t4.1\thttps://www.eduskunta.fi/FI/vaski/PoytakirjaAsiakohta/Sivut/PTK_1+2024+3.aspx\tfi\tIkäpuhemies Kimmo Kiljunen\t\t\t\t\t\n",
            "6\t2024_1_7\t1/2024\t2024-02-06\t12.01\t13.53\tKimmo\tKiljunen\tIkäpuhemies\tSDP\tEnsimmäisen varapuhemiehen vaali>>>Vaali  VAA 2/2024 vp\tKun Paula Risikko on saanut vaalissa enemmän kuin puolet annetuista hyväksytyistä äänistä, on hänet valittu eduskunnan ensimmäiseksi varapuhemieheksi vuoden 2024 valtiopäivien ajaksi.\tPuhemiesPuheenvuoro\thttp://ldf.fi/semparl/people/p464\tMale\t1951-01-01\thttp://ldf.fi/semparl/groups/Q499029\tOppositiopuolue\thttp://ldf.fi/semparl/groups/g3055354335113056020\tTarkistettu\t4.1\thttps://www.eduskunta.fi/FI/vaski/PoytakirjaAsiakohta/Sivut/PTK_1+2024+3.aspx\tfi\tIkäpuhemies Kimmo Kiljunen\t\t\t\t\t\n",
            "7\t2024_1_8\t1/2024\t2024-02-06\t12.01\t13.53\tKimmo\tKiljunen\tIkäpuhemies\tSDP\tToisen varapuhemiehen vaali>>>Vaali  VAA 3/2024 vp\tNyt siirrytään seuraavaan eli toisen varapuhemiehen vaaliin. Vaali toimitetaan samalla tavalla kuin aikaisemminkin: umpilipuin. Edustajat tuovat äänestyslippunsa uurnaan aakkosjärjestyksessä. Avustajiksi vaalissa pyydetään seuraavat edustajat: Mari-Leena Talvitie, Sara Seppänen, Mika Kari ja Eerikki Viljanen.\tPuhemiesPuheenvuoro\thttp://ldf.fi/semparl/people/p464\tMale\t1951-01-01\thttp://ldf.fi/semparl/groups/Q499029\tOppositiopuolue\thttp://ldf.fi/semparl/groups/g3055354335113056020\tTarkistettu\t4.1\thttps://www.eduskunta.fi/FI/vaski/PoytakirjaAsiakohta/Sivut/PTK_1+2024+4.aspx\tfi\tIkäpuhemies Kimmo Kiljunen\t\t\t\t\t\n",
            "8\t2024_1_9\t1/2024\t2024-02-06\t12.01\t13.53\tKimmo\tKiljunen\tIkäpuhemies\tSDP\tToisen varapuhemiehen vaali>>>Vaali  VAA 3/2024 vp\tLuetaan äänestyksen tulos.\tPuhemiesPuheenvuoro\thttp://ldf.fi/semparl/people/p464\tMale\t1951-01-01\thttp://ldf.fi/semparl/groups/Q499029\tOppositiopuolue\thttp://ldf.fi/semparl/groups/g3055354335113056020\tTarkistettu\t4.1\thttps://www.eduskunta.fi/FI/vaski/PoytakirjaAsiakohta/Sivut/PTK_1+2024+4.aspx\tfi\tIkäpuhemies Kimmo Kiljunen\t\t\t\t\t\n"
          ]
        }
      ]
    },
    {
      "cell_type": "markdown",
      "source": [
        "Looks good. Let's use the **tsv-file** and just ignore the original csv-file we downloaded."
      ],
      "metadata": {
        "id": "we-X9wrSmt5K"
      }
    },
    {
      "cell_type": "code",
      "source": [
        "# let's count the lines\n",
        "! cat speeches_2024.tsv | wc -l"
      ],
      "metadata": {
        "id": "0SoSTljynCK9",
        "colab": {
          "base_uri": "https://localhost:8080/"
        },
        "outputId": "6fba6182-c41c-4119-c2ec-03aeb8e420c0"
      },
      "execution_count": null,
      "outputs": [
        {
          "output_type": "stream",
          "name": "stdout",
          "text": [
            "60737\n"
          ]
        }
      ]
    },
    {
      "cell_type": "markdown",
      "source": [
        "There's quite a lot of data, so let's focus on one month only. I select March this time.\n",
        "\n",
        "Let's grep the lines that match the time stamp 2024-03 and direct those in a new file."
      ],
      "metadata": {
        "id": "60LtyHC5m6KJ"
      }
    },
    {
      "cell_type": "code",
      "source": [
        "!cat speeches_2024.tsv | egrep '2024-03' > speeches_2024_03.tsv"
      ],
      "metadata": {
        "id": "4VqLaGHdkw_b"
      },
      "execution_count": null,
      "outputs": []
    },
    {
      "cell_type": "code",
      "source": [
        "!ls"
      ],
      "metadata": {
        "id": "dxvqR5MXkx6Y",
        "colab": {
          "base_uri": "https://localhost:8080/"
        },
        "outputId": "d03afddb-2ac6-448d-efee-b1c9a8e75b41"
      },
      "execution_count": null,
      "outputs": [
        {
          "output_type": "stream",
          "name": "stdout",
          "text": [
            "bash_limerick.txt  sample_data\t\t speeches_2024.csv\n",
            "file.txt\t   speeches_2024_03.tsv  speeches_2024.tsv\n"
          ]
        }
      ]
    },
    {
      "cell_type": "code",
      "source": [
        "# let's count the lines in this new file with speeches from March only\n",
        "!cat speeches_2024_03.tsv | wc -l"
      ],
      "metadata": {
        "id": "Bu6mIlRKk1_n",
        "colab": {
          "base_uri": "https://localhost:8080/"
        },
        "outputId": "f3652c55-d1ca-45d4-dafb-689e8c5c2757"
      },
      "execution_count": null,
      "outputs": [
        {
          "output_type": "stream",
          "name": "stdout",
          "text": [
            "2787\n"
          ]
        }
      ]
    },
    {
      "cell_type": "markdown",
      "source": [
        "It's always possible that data files have empty lines. Let's check if we have any in this data. We can use\n",
        "\n",
        "`egrep \"^$\"`\n",
        "\n",
        "to do that.\n",
        "\n",
        "Let's have a quick look at the command:\n",
        "\n",
        "`^` stand for line **start**\n",
        "\n",
        "`$` stands for line **end**\n",
        "\n",
        "so together line start and line end with nothing inbetween make an empty line!\n"
      ],
      "metadata": {
        "id": "wFPC5FuDnW_m"
      }
    },
    {
      "cell_type": "code",
      "source": [
        "! cat speeches_2024_03.tsv | egrep \"^$\" | wc -l"
      ],
      "metadata": {
        "id": "N1Trd0U5k_Mc"
      },
      "execution_count": null,
      "outputs": []
    },
    {
      "cell_type": "markdown",
      "source": [
        "This data has several columns.\n",
        "Let's first take just the speaker surnames from the data, it's the column number 8.\n",
        "\n",
        "`cut` will output just (a) specific column(s).\n",
        "\n",
        "`cut -f 8` will give us column 8.\n",
        "\n",
        "**N.B.** In Bash, counting starts from 1 (unlike in Python!), so the first column is accessed with `cut -f 1`\n"
      ],
      "metadata": {
        "id": "2rXnywspNH_k"
      }
    },
    {
      "cell_type": "code",
      "source": [
        "# always check that you've cut the intended column!\n",
        "!cat speeches_2024_03.tsv | cut -f 8 | head"
      ],
      "metadata": {
        "id": "L0iL0JwMlP7-",
        "colab": {
          "base_uri": "https://localhost:8080/"
        },
        "outputId": "f33d4d07-7866-42fd-a715-9d5e82a0088c"
      },
      "execution_count": null,
      "outputs": [
        {
          "output_type": "stream",
          "name": "stdout",
          "text": [
            "Halla-aho\n",
            "Halla-aho\n",
            "Niinistö\n",
            "Halla-aho\n",
            "Halla-aho\n",
            "Stubb\n",
            "Stubb\n",
            "Halla-aho\n",
            "Risikko\n",
            "Risikko\n"
          ]
        }
      ]
    },
    {
      "cell_type": "markdown",
      "source": [
        "Let's count how many lines we have."
      ],
      "metadata": {
        "id": "kTnL8e_Ho59d"
      }
    },
    {
      "cell_type": "code",
      "source": [
        "!cat speeches_2024_03.tsv | cut -f 8 | wc -l"
      ],
      "metadata": {
        "id": "sjIVZjSUou-I",
        "colab": {
          "base_uri": "https://localhost:8080/"
        },
        "outputId": "58cb8f07-26cb-41d1-b1d8-13cd5825e55c"
      },
      "execution_count": null,
      "outputs": [
        {
          "output_type": "stream",
          "name": "stdout",
          "text": [
            "2787\n"
          ]
        }
      ]
    },
    {
      "cell_type": "markdown",
      "source": [
        "Good. This line count corresponds to the line count of the entire file."
      ],
      "metadata": {
        "id": "793suKUk96Zt"
      }
    },
    {
      "cell_type": "markdown",
      "source": [
        "In case a name is missing in a row in the original data, we will have an empty line here. Let's check."
      ],
      "metadata": {
        "id": "oQmDeGsXoEzT"
      }
    },
    {
      "cell_type": "code",
      "source": [
        "!cat speeches_2024_03.tsv | cut -f 8 | egrep '^$' | wc -l"
      ],
      "metadata": {
        "id": "yIpwqriMoRB9",
        "colab": {
          "base_uri": "https://localhost:8080/"
        },
        "outputId": "7f05cdfa-5941-4095-effc-b789986095ce"
      },
      "execution_count": null,
      "outputs": [
        {
          "output_type": "stream",
          "name": "stdout",
          "text": [
            "1\n"
          ]
        }
      ]
    },
    {
      "cell_type": "markdown",
      "source": [
        "Let's remove this one empty line and check that we succeeded."
      ],
      "metadata": {
        "id": "1Dkg25neobio"
      }
    },
    {
      "cell_type": "code",
      "source": [
        "!cat speeches_2024_03.tsv | cut -f 8 | egrep -v '^$' | wc -l"
      ],
      "metadata": {
        "id": "upqTW9DGoolN",
        "colab": {
          "base_uri": "https://localhost:8080/"
        },
        "outputId": "83422abf-bc4a-4665-e094-4f1f45508f2f"
      },
      "execution_count": null,
      "outputs": [
        {
          "output_type": "stream",
          "name": "stdout",
          "text": [
            "2786\n"
          ]
        }
      ]
    },
    {
      "cell_type": "markdown",
      "source": [
        "It seems that we were able to remove the empty line; cf. line count with the previous line count of the speaker column."
      ],
      "metadata": {
        "id": "Nc_3y8G--J7e"
      }
    },
    {
      "cell_type": "markdown",
      "source": [
        "Let's save these in a new file."
      ],
      "metadata": {
        "id": "aCAqM9Xpn8zd"
      }
    },
    {
      "cell_type": "code",
      "source": [
        "!cat speeches_2024_03.tsv | cut -f 8 | egrep -v '^$' > speakers.txt"
      ],
      "metadata": {
        "id": "Mt0UfO1mlT01"
      },
      "execution_count": null,
      "outputs": []
    },
    {
      "cell_type": "code",
      "source": [
        "# and let's check the file looks ok\n",
        "! cat speakers.txt | head"
      ],
      "metadata": {
        "id": "Lbkao3K6X8pp",
        "colab": {
          "base_uri": "https://localhost:8080/"
        },
        "outputId": "a0dba79d-8570-4634-e3eb-1e541c19ab9d"
      },
      "execution_count": null,
      "outputs": [
        {
          "output_type": "stream",
          "name": "stdout",
          "text": [
            "Halla-aho\n",
            "Halla-aho\n",
            "Niinistö\n",
            "Halla-aho\n",
            "Halla-aho\n",
            "Stubb\n",
            "Stubb\n",
            "Halla-aho\n",
            "Risikko\n",
            "Risikko\n"
          ]
        }
      ]
    },
    {
      "cell_type": "markdown",
      "source": [
        "Then to the **frequency counter** part\n",
        "\n",
        "*   `sort` sorts the lines **alphabetically**\n",
        "\n"
      ],
      "metadata": {
        "id": "JGYmnSxrOIZz"
      }
    },
    {
      "cell_type": "code",
      "source": [
        "! cat speakers.txt | sort | head # the beginning of the sorted document looks like this"
      ],
      "metadata": {
        "id": "ZbSUvo8FOK5q",
        "colab": {
          "base_uri": "https://localhost:8080/"
        },
        "outputId": "1a77dbf8-6013-4276-dc16-09cfa7d9f766"
      },
      "execution_count": null,
      "outputs": [
        {
          "output_type": "stream",
          "name": "stdout",
          "text": [
            "Aalto-Setälä\n",
            "Aalto-Setälä\n",
            "Aalto-Setälä\n",
            "Aittakumpu\n",
            "Aittakumpu\n",
            "Aittakumpu\n",
            "Aittakumpu\n",
            "Andersson\n",
            "Andersson\n",
            "Andersson\n"
          ]
        }
      ]
    },
    {
      "cell_type": "code",
      "source": [
        "! cat speakers.txt | sort | tail"
      ],
      "metadata": {
        "id": "0R_ehVNaPre0",
        "colab": {
          "base_uri": "https://localhost:8080/"
        },
        "outputId": "0c8ca35f-b4b0-4671-96e2-2461b6b5d549"
      },
      "execution_count": null,
      "outputs": [
        {
          "output_type": "stream",
          "name": "stdout",
          "text": [
            "Wickström\n",
            "Zyskowicz\n",
            "Zyskowicz\n",
            "Zyskowicz\n",
            "Zyskowicz\n",
            "Zyskowicz\n",
            "Zyskowicz\n",
            "Zyskowicz\n",
            "Zyskowicz\n",
            "Zyskowicz\n"
          ]
        }
      ]
    },
    {
      "cell_type": "markdown",
      "source": [
        "* `uniq` prints only unique lines, i.e., deletes consecutive duplicate lines (lines that follow each other)\n",
        "* `uniq -c` only counts the number of duplicate lines\n",
        "\n",
        "  --> **important to sort the lines first**"
      ],
      "metadata": {
        "id": "3tSLuG7pQWl7"
      }
    },
    {
      "cell_type": "code",
      "source": [
        "! cat speakers.txt | sort | uniq | head"
      ],
      "metadata": {
        "id": "8JntXsr1lj5N",
        "colab": {
          "base_uri": "https://localhost:8080/"
        },
        "outputId": "6f9cc1ab-1f1d-4d9c-b9fb-5f1b45f25a07"
      },
      "execution_count": null,
      "outputs": [
        {
          "output_type": "stream",
          "name": "stdout",
          "text": [
            "Aalto-Setälä\n",
            "Aittakumpu\n",
            "Andersson\n",
            "Antikainen\n",
            "Asell\n",
            "Autto\n",
            "Berg\n",
            "Bergbom\n",
            "Bergqvist\n",
            "Biaudet\n"
          ]
        }
      ]
    },
    {
      "cell_type": "code",
      "source": [
        "# then let's count the sorted unique lines\n",
        "! cat speakers.txt | sort | uniq -c | head # always use sort before uniq!"
      ],
      "metadata": {
        "id": "U2Eo6gVaQWEH",
        "colab": {
          "base_uri": "https://localhost:8080/"
        },
        "outputId": "68f4f33e-185b-47c9-8d27-fc690072947c"
      },
      "execution_count": null,
      "outputs": [
        {
          "output_type": "stream",
          "name": "stdout",
          "text": [
            "      3 Aalto-Setälä\n",
            "      4 Aittakumpu\n",
            "     10 Andersson\n",
            "      2 Antikainen\n",
            "      2 Asell\n",
            "      9 Autto\n",
            "      6 Berg\n",
            "     27 Bergbom\n",
            "      1 Bergqvist\n",
            "      1 Biaudet\n"
          ]
        }
      ]
    },
    {
      "cell_type": "markdown",
      "source": [
        "`sort` sorts again alphabetically"
      ],
      "metadata": {
        "id": "0ghUlu8VsTVq"
      }
    },
    {
      "cell_type": "code",
      "source": [
        "# sort sorts alphabetically\n",
        "! cat speakers.txt | sort | uniq -c | sort | head"
      ],
      "metadata": {
        "id": "95EPB__LlqFc",
        "colab": {
          "base_uri": "https://localhost:8080/"
        },
        "outputId": "cab84761-acbd-4688-a919-fd5c9aef1449"
      },
      "execution_count": null,
      "outputs": [
        {
          "output_type": "stream",
          "name": "stdout",
          "text": [
            "    102 http://ldf.fi/semparl/groups/g3279885168244560608\n",
            "     10 Andersson\n",
            "     10 Kulmuni\n",
            "     10 Sirén\n",
            "     11 Hoskonen\n",
            "     11 Mäkynen\n",
            "     11 Mikkonen\n",
            "     11 Piisinen\n",
            "     11 Valtola\n",
            "     12 Ojala-Niemelä\n"
          ]
        }
      ]
    },
    {
      "cell_type": "markdown",
      "source": [
        "There seems to be some data in the file that does not correspond to a surname, but let's ignore that for now and get back to it later."
      ],
      "metadata": {
        "id": "MRZVBZyo_Sv2"
      }
    },
    {
      "cell_type": "markdown",
      "source": [
        "Using `sort -n` sorts the lines **by their number**"
      ],
      "metadata": {
        "id": "LW2wRYDRQpbT"
      }
    },
    {
      "cell_type": "code",
      "source": [
        "# sort -n sorts by number\n",
        "! cat speakers.txt | sort | uniq -c | sort -n | head"
      ],
      "metadata": {
        "id": "mgWOHXy5Qu7p",
        "collapsed": true,
        "colab": {
          "base_uri": "https://localhost:8080/"
        },
        "outputId": "69b6df8f-dc77-43d7-c42a-4912ca586bdd"
      },
      "execution_count": null,
      "outputs": [
        {
          "output_type": "stream",
          "name": "stdout",
          "text": [
            "      1 Bergqvist\n",
            "      1 Biaudet\n",
            "      1 Eestilä\n",
            "      1 Fagerström\n",
            "      1 Jääskeläinen\n",
            "      1 Kangas\n",
            "      1 Kauma\n",
            "      1 Kaunisto\n",
            "      1 Koskinen\n",
            "      1 Kymäläinen\n"
          ]
        }
      ]
    },
    {
      "cell_type": "markdown",
      "source": [
        "`sort -nr` sorts the lines by their number **in reverse order** --> perhaps a bit more practical"
      ],
      "metadata": {
        "id": "KpBFlkJZRLfJ"
      }
    },
    {
      "cell_type": "code",
      "source": [
        "# sort -nr sorts lines by number in ascending order\n",
        "! cat speakers.txt | sort | uniq -c | sort -nr | head"
      ],
      "metadata": {
        "id": "iEUp_0jYRKhe",
        "colab": {
          "base_uri": "https://localhost:8080/"
        },
        "outputId": "178acdd3-7c78-45c0-94b2-fb163e6debae"
      },
      "execution_count": null,
      "outputs": [
        {
          "output_type": "stream",
          "name": "stdout",
          "text": [
            "    406 Halla-aho\n",
            "    328 Filatov\n",
            "    304 http://ldf.fi/semparl/groups/g3055354335113056020\n",
            "    258 Risikko\n",
            "    162 http://ldf.fi/semparl/groups/g1355574059541716999\n",
            "    145 http://ldf.fi/semparl/groups/g1318953026601666130\n",
            "    102 http://ldf.fi/semparl/groups/g3279885168244560608\n",
            "     51 http://ldf.fi/semparl/groups/g3060061659797614877\n",
            "     36 http://ldf.fi/semparl/groups/g4168024274967336754\n",
            "     35 Satonen\n"
          ]
        }
      ]
    },
    {
      "cell_type": "markdown",
      "source": [
        "Now, let's do something about the lines that do not correspond to surnames. `egrep -v` could help us here. In the pattern we want to match we must not forget to add line start `^`, otherwise it will match patterns also elsewhere in the line. Here the `egrep -v` without line start would work, but in general it is good practice to remember to indicate the line start if you wish to match patterns that begin a line."
      ],
      "metadata": {
        "id": "uVq1ail-pOs0"
      }
    },
    {
      "cell_type": "code",
      "source": [
        "# so here is our final frequency list\n",
        "! cat speakers.txt | egrep -v '^http' | sort | uniq -c | sort -nr | tail"
      ],
      "metadata": {
        "id": "2QRGcMAIpd8x",
        "colab": {
          "base_uri": "https://localhost:8080/"
        },
        "outputId": "69e8dccf-a58b-4b97-e2f2-37f731c120b9"
      },
      "execution_count": null,
      "outputs": [
        {
          "output_type": "stream",
          "name": "stdout",
          "text": [
            "      1 Kymäläinen\n",
            "      1 Koskinen\n",
            "      1 Kaunisto\n",
            "      1 Kauma\n",
            "      1 Kangas\n",
            "      1 Jääskeläinen\n",
            "      1 Fagerström\n",
            "      1 Eestilä\n",
            "      1 Biaudet\n",
            "      1 Bergqvist\n"
          ]
        }
      ]
    },
    {
      "cell_type": "markdown",
      "source": [
        "### ... so this is how we finally have the frequencies!"
      ],
      "metadata": {
        "id": "51CTVt99RjhF"
      }
    },
    {
      "cell_type": "markdown",
      "source": [
        "##Now it's your turn!\n",
        "\n",
        "\n",
        "1.   Use the same file with speeches from March, 2024.\n",
        "2.   Focus on (i.e., cut) the column with the party.\n",
        "1.   Remove any empty lines.\n",
        "1.   Save the parties to a new file called `parties.txt`\n",
        "2.   Make a frequency list of the parties.\n",
        "\n",
        "N.B. All data is not neatly in the column it belongs to. Thus, make sure to remove any items that do not refer to a party.\n",
        "\n",
        "Also, remember to check after each command that you have or did what you intended to! I have not added separate code cells for these.\n",
        "\n",
        "\n",
        "\n",
        "\n",
        "\n"
      ],
      "metadata": {
        "id": "bQ3Z2mXFxf1c"
      }
    },
    {
      "cell_type": "code",
      "source": [
        "# 1. Check the file to be used"
      ],
      "metadata": {
        "id": "zPWwCOvzzsyE"
      },
      "execution_count": null,
      "outputs": []
    },
    {
      "cell_type": "code",
      "source": [
        "# 2. Cut the column with the parties"
      ],
      "metadata": {
        "id": "h1LS51Zjz1uA"
      },
      "execution_count": null,
      "outputs": []
    },
    {
      "cell_type": "code",
      "source": [
        "# 3. Remove any empty lines"
      ],
      "metadata": {
        "id": "n5CBWYuTztTH"
      },
      "execution_count": null,
      "outputs": []
    },
    {
      "cell_type": "code",
      "source": [
        "# 4. Save the column to a new file called parties.txt"
      ],
      "metadata": {
        "id": "pbGc0n-H1fn0"
      },
      "execution_count": null,
      "outputs": []
    },
    {
      "cell_type": "code",
      "source": [
        "# 5. Make the frequency list"
      ],
      "metadata": {
        "id": "aMDYrQNIzte0"
      },
      "execution_count": null,
      "outputs": []
    },
    {
      "cell_type": "code",
      "source": [
        "# 6. Remove any items that do not belong to the frequency list (N.B. you might want to run this command earlier!)"
      ],
      "metadata": {
        "id": "16YF-Kse0Fmj"
      },
      "execution_count": null,
      "outputs": []
    },
    {
      "cell_type": "code",
      "source": [],
      "metadata": {
        "id": "zVPzBHOjztoF"
      },
      "execution_count": null,
      "outputs": []
    },
    {
      "cell_type": "markdown",
      "source": [
        "### What did we learn?\n",
        "\n",
        "* Flags are used to change or specify commands\n",
        "* Pipes are used to combine commands\n",
        "* New flags and commands\n",
        "  * `egrep` match character strings\n",
        "  * `egrep` + flags\n",
        "  * `egrep -v \"^$\"` delete empty lines\n",
        "\n",
        "      `^` beginning of a line\n",
        "\n",
        "      `$` line end\n",
        "  * `cut -f` select a specific column\n",
        "  * `sort`\n",
        "  * `uniq`\n",
        "  * `sort | uniq -c | sort -rn` frequency list\n"
      ],
      "metadata": {
        "id": "Hkj29_4zUZhg"
      }
    },
    {
      "cell_type": "code",
      "source": [],
      "metadata": {
        "id": "MNURlIs9xHHQ"
      },
      "execution_count": null,
      "outputs": []
    }
  ]
}