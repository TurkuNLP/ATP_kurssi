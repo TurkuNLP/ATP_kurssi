{
  "nbformat": 4,
  "nbformat_minor": 0,
  "metadata": {
    "colab": {
      "provenance": [],
      "collapsed_sections": [
        "6CeGpMAWZb7K"
      ],
      "authorship_tag": "ABX9TyMi79QeLNWLueZM2EOhKVkJ",
      "include_colab_link": true
    },
    "kernelspec": {
      "name": "python3",
      "display_name": "Python 3"
    },
    "language_info": {
      "name": "python"
    }
  },
  "cells": [
    {
      "cell_type": "markdown",
      "metadata": {
        "id": "view-in-github",
        "colab_type": "text"
      },
      "source": [
        "<a href=\"https://colab.research.google.com/github/TurkuNLP/ATP_kurssi/blob/master/Notebook11_version2tomakeitwork.ipynb\" target=\"_parent\"><img src=\"https://colab.research.google.com/assets/colab-badge.svg\" alt=\"Open In Colab\"/></a>"
      ]
    },
    {
      "cell_type": "markdown",
      "source": [
        "## About the exam\n",
        "\n",
        "* On the course server\n",
        "* The answers to be written on a text file using a text editor\n",
        "* You can use all the course materials and Google\n",
        "* Approx. 8 questions / short tasks\n",
        "    * The questions go from easier to more difficult"
      ],
      "metadata": {
        "id": "6CeGpMAWZb7K"
      }
    },
    {
      "cell_type": "markdown",
      "source": [
        "## Recap\n",
        "\n",
        "**Basics**\n",
        "\n",
        "* Printing file contents: `cat, head, tail, less`\n",
        "* Listing files and directories: `ls`\n",
        "* Getting data: `wget`\n",
        "* Copying, renaming, removing: `cp, rm, mv, mkdir, rmdir`\n",
        "* Counting words: `wc -w`\n",
        "* Directing output to a file: `>, >>`\n",
        "\n",
        "**Working on the server**\n",
        "\n",
        "* Text editors: nano, emacs\n",
        "* Moving files with `cp` and `mv` \n",
        "* Creating and deleting directories with `mkdir` and `rmdir`\n",
        "* Remember the file structure and how to copy data from a directory to another one!\n",
        "* `cp /home/mavela/data-2022/*txt .`\n",
        "\n",
        "**Possible tasks in the exam 1**\n",
        "* Write the answers to a text file to a folder you created (this is very likely to happen)\n",
        "* Copy / access data from elsewhere on the server to your own own home folder\n",
        "* Ensure your home folder has all the files that you need\n",
        "\n",
        "**Matching patterns: `egrep`**\n",
        "Options for egrep: \n",
        "* `egrep -v` (reverse) prints lines without a match\n",
        "* `egrep -c` counts matches\n",
        "* `egrep -i` ignores case\n",
        "*\t`egrep -w` matches just words\n",
        "*\t`egrep -B N` prints N lines Before\n",
        "*\t`egrep -A N` prints N lines After\n",
        "\n",
        "**Options for further commands**\n",
        "* `head -5, tail -10`\n",
        "* `wc -l`\n",
        "\n",
        "**Possible tasks in the exam 2**\n",
        "* Provide basic statistics for a txt-formatted file\n",
        "  * How many words and lines?\n",
        "  * On how many lines does the string *dog* appear in? What about the word *Dog*?\n",
        "\n",
        "\n",
        "**Frequency counts with sort and uniq**\n",
        "* `sort` sorts input line by line\n",
        "* useful options include `-r -n`\n",
        "*\t`uniq` prints only unique lines\n",
        "* `uniq -c` counts the recurring lines\n",
        "* `sort | uniq -c | sort -rn` gives a frequency list of input, line by line\n",
        "* `sort | uniq` prints only unique lines\n",
        "* `sort | uniq | wc -l` counts the number of unique lines\n",
        "\n",
        "**Possible tasks in the exam 3**\n",
        "* How many unique lines does a file have? And how many duplicates?\n",
        "* Make a frequency list of the lines\n",
        "\n",
        "**Getting data from Github: `git clone`**\n",
        "* Remember to get the address from the green box!\n",
        "\n",
        "**Processing compressed files**\n",
        "* `zcat` for printing\n",
        "* `gzip` for compressing\n",
        "* `cat file.txt | gzip > file.txt.gz`\n",
        "\n",
        "**Focusing on a specific column**\n",
        "* \t`cut -f` \n",
        "* `cut -f -d ' '` specifies the separator if not a tab, here whitespace\n",
        "\n",
        "**Changing characters with `tr`**\n",
        "* `tr ' ' '\\n'` to spit a token per line\n",
        "* `tr '[:upper:]' '[:lower:]'` to normalize to lower case\n",
        "*\t`tr '[:punct:]' ' '` to delete punctuation\n",
        "\n"
      ],
      "metadata": {
        "id": "EMZ4EdG6awcp"
      }
    },
    {
      "cell_type": "markdown",
      "source": [
        "**Possible tasks in the exam 4**\n",
        "* Processing a csv-file, take the nth column\n",
        "* Make a cleaned and normalized frequency list of the column words\n",
        "\n",
        "**(Some) regular expressions**\n",
        "\n",
        "Grouping, alternatives\n",
        "* `[ ]`,  `|`,  `( )`\n",
        "* Remember that anything can go, e.g., in the square brackets\n",
        "* This would replace any consonant by a white space `tr '[qwrtpsdfghjklzxcvbnm]' ' '`\n",
        "\n",
        "Operators\n",
        "* Beginning of line, end of line, empty line: `^, $, ^$`\n",
        "* Any character: `.`\n",
        "* 0 or more times, 1 or more times, 0 or 1 times:` * +?`\n",
        "* Combinations of these can be useful\n",
        "\n",
        "\n",
        "\n"
      ],
      "metadata": {
        "id": "zoqdMG8UG6a5"
      }
    },
    {
      "cell_type": "markdown",
      "source": [
        "**Processing dependency syntax -analyzed data in the conllu format**\n",
        "\n",
        "Remember `cut -f` to focus on specific columns!\n",
        "\n",
        "Terminology\n",
        "  * Lemma: baseform of the word\n",
        "  * Running word, word form: as it is used it the text\n",
        "  * Part-of-speech (POS): the grammatical category of the word, such as noun, adjective\n",
        "\n",
        "**Possible tasks in the exam 5**\n",
        "* Counting stats from a conllu-formatted file\n",
        "* How many running words / texts / sentences?\n",
        "* How many words and unique words? \n",
        "* How many lemmas and unique lemmas?\n",
        "* The most frequent words/lemmas/pos tags, punctuation and numbers excluded?\n",
        "* The most frequent words analyzed as adjectives?\n",
        "\n",
        "**Working on the server**\n",
        "\n",
        "* Text editors: nano, emacs\n",
        "* Moving files with `cp` and `mv` \n",
        "* Remember the file structure and how to copy data from a directory to another one!\n",
        "* `cp /home/mavela/data-2022/*txt .`\n",
        "\n"
      ],
      "metadata": {
        "id": "6vyNwn9fqv-U"
      }
    },
    {
      "cell_type": "markdown",
      "source": [
        "**Counting keywords**\n",
        "* Using the python script we have used at class\n",
        "\n",
        "**Possible tasks in the exam 6**\n",
        "* Starting from a conllu-formatted file, count keywords for the files X and Y using the keyness script we have used at class. Exclude words that are analyzed as punctuation, numbers or symbol\n",
        "\n",
        "**Writing scripts**\n",
        "* Remember to give execution rights to the script files\n",
        "* `chmod a+xwr ./script.sh`\n",
        "* Arguments can be referred to as `$1` etc. in the script file\n",
        "\n",
        "**Modifying several characters at a time**\n",
        "* This one would put any combinations of punctuation to a line of its own\n",
        "* Note the back reference!\n",
        "* `cat input.txt | perl -pe 's/([[:punct:]]+)/\\n$1\\n/g'`\n",
        "\n",
        "**Possible tasks in the exam 7**\n",
        "* Write a script that takes as input a conllu file and a POS class, and gives as output the 15 most frequent lemmas associated with that class\n"
      ],
      "metadata": {
        "id": "EdNvAgLOn8dl"
      }
    }
  ]
}