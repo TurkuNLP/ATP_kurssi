{
  "nbformat": 4,
  "nbformat_minor": 0,
  "metadata": {
    "colab": {
      "provenance": [],
      "include_colab_link": true
    },
    "kernelspec": {
      "name": "python3",
      "display_name": "Python 3"
    },
    "language_info": {
      "name": "python"
    }
  },
  "cells": [
    {
      "cell_type": "markdown",
      "metadata": {
        "id": "view-in-github",
        "colab_type": "text"
      },
      "source": [
        "<a href=\"https://colab.research.google.com/github/TurkuNLP/ATP_kurssi/blob/master/ATP_2024_notebook_X.ipynb\" target=\"_parent\"><img src=\"https://colab.research.google.com/assets/colab-badge.svg\" alt=\"Open In Colab\"/></a>"
      ]
    },
    {
      "cell_type": "markdown",
      "source": [
        "This is an extra recap notebook for the ATP course. To make this more fun, let's do some pretend play!\n",
        "\n",
        "# Premise:\n",
        "\n",
        "You are now a \"hacker\" working for the, uh... Anti-Corruption Mafia (ACM). :) Your codename is `elite_NUMBER` where NUMBER is one given to you previously. (You can aslo just use your utu username or whatever nickname you want.)\n",
        "\n",
        "(*NB: Disclaimer! This is all humor, no real hacking done here!! Also, I want to make clear that hacking is illegal and I do not endorse it in any way. Be good, alright!*)\n",
        "\n",
        "You are currently an undercover agent, enrolled in Super Easy and Accessible Bash Course (`SEABC`) at Random University.\n",
        "\n",
        "Your corrupted university teacher has already decided to FAIL all exam takers in the upcoming course test, unless they pay her one million dollars each. How evil!\n",
        "\n",
        "But your comrades at ACM have found important information: the file where all the exam records are kept is laying on a server unprotected! The path to the file is `/home/ankrris/SEABC`\n",
        "\n",
        "(*NB: Another disclaimer; In reality, accessing a file that is \"unprotected\" but clearly not meant for you is similar to opening a personal locker that someone forgot to lock and stealing stuff from it. It's illegal, so don't do it!*)\n"
      ],
      "metadata": {
        "id": "rrOLa52_PySa"
      }
    },
    {
      "cell_type": "markdown",
      "source": [
        "# Mission:\n",
        "\n",
        "Your task is to\n",
        "* create a new fodler named `mySEABC` under your home folder,\n",
        "* go and find the right file from `/home/ankrris/SEABC`,\n",
        "* make a copy of it in your `mySEABC` folder as evidence against the evil teacher,\n",
        "* give EVERYONE ALL permissions (read, write and execute) to the COPIED file (with `chmod a+rwx filename`); DO NOT TOUCH THE ORIGINAL FILE IN ANY WAY,\n",
        "* make ANOTHER copy and rename the file as `seabc_CODENAME.csv` where CODENAME is your assigned codename,\n",
        "* in the copied and renamed file, find the line with the same student number as the number in your codename (practice using `grep`),\n",
        "* change the student name in the line with your number into something else (open the file in `nano` and edit by hand),\n",
        "* change EVERYONE'S course grade from FAILED to PASSED (use `tr` or `perl -pe`),\n",
        "* save the file with the changes,\n",
        "* copy the edited file back into the folder `/home/ankrris/SEABC` to show the evil teacher :)\n",
        "\n",
        "Your advanced task is to\n",
        "* create a script file called `counting_SEABC_files.sh`,\n",
        "* which, when run from your home folder, gives the number of files with filenames that start with \"SEABC\" within the folder `/home/ankrris/SEABC` (there are many ways to do this, some more complicated than others)\n",
        "\n"
      ],
      "metadata": {
        "id": "It2BIk_3cg22"
      }
    }
  ]
}