{
 "cells": [
  {
   "cell_type": "markdown",
   "metadata": {},
   "source": [
    "# Skriptejä ja syntaksiannotoituja tiedostoja\n",
    "\n",
    "Harjoitellaan syntaksijäsennettyjen tiedostojen analysointia.\n",
    "\n",
    "\n",
    "## Tehtävä 15\n",
    "\n",
    "Tee skripti, joka laskee sille syötetyn conllu-tiedoston yleisimmät lemmamuodot. Ota pois laskuista välimerkit.\n",
    "\n",
    "Miltä lista näyttää? Voiko sen perusteella päätellä jotain aineistosta? Testaa skriptiä kolmelle conllu-tiedostolle, jotka löytyvät kansiosta mavela/dataa/syntaksijasennetyt\n"
   ]
  },
  {
   "cell_type": "markdown",
   "metadata": {},
   "source": [
    "## Tehtävä 16\n",
    "\n",
    "Tee edellä tehdystä skriptistä kaksi muuta versiota: toisen, joka laskee 20 aineiston yleisintä adjektiivia, ja toisen, joka laskee 20 aineiston yleisintä substantiivia. Vertaile niiden avulla aineistoja. Saatko mitään irti?\n"
   ]
  },
  {
   "cell_type": "markdown",
   "metadata": {},
   "source": [
    "## Tehtävä 17\n",
    "\n",
    "egrepin -B (before) ja -A (after) -vivut printtaavat osumarivin lisäksi myös n edellistä (before) ja seuraavaa (after) riviä. Käytä tätä hyväksi ja tee skripti, joka etsii tietyn sanan conllu-tiedostosta ja printtaa sitä ympäröivän tekstin (vaikka 15 sanaa ennen ja 15 jälkeen), muttei muuta tietoa. Printtaa tiedot helposti luettavassa muodossa, niin että haettu sana ja sitä ympäröivät sanat ovat kaikki yhdellä rivillä:\n",
    "\n",
    "ympäröivä-sana ympäröivä-sana ympäröivä-sana ympäröivä-sana HAKUSANA ympäröivä-sana ympäröivä-sana ympäröivä-sana ympäröivä-sana\n",
    "[rivinvaihto]\n",
    "ympäröivä-sana ympäröivä-sana ympäröivä-sana ympäröivä-sana HAKUSANA ympäröivä-sana ympäröivä-sana ympäröivä-sana\n",
    "[rivinvaihto]\n",
    "\n",
    "\n",
    "## Lisätehtävä\n",
    "\n",
    "Muokkaa edellistä skriptiä niin, että voit antaa sille komentiriviltä etsityn sanan. \n",
    "\n",
    "Tähän ohjeita löytyy esim. täältä:\n",
    "https://www.lifewire.com/pass-arguments-to-bash-script-2200571\n",
    "https://ryanstutorials.net/bash-scripting-tutorial/bash-variables.php\n",
    "\n",
    "\n",
    "## Tehtävä 18\n",
    "\n",
    "Mikä on parsebank-tiedoston yleisin adjektiivilemma? Laske sen jälkeen Parsebank-tiedoston yleisimmät substantiivit, jotka seuraavat näitä adjektiiveja. Minkälaisten substantiivien kanssa ko. adjektiivi esiintyy? Vertaa sitten näitä substantiiveja adjektiivin \"viimeinen\" kanssa esiintyviin substantiiveihin. Näkyyko eroja?\n",
    "\n",
    "## Tehtävä 19\n",
    "\n",
    "Suurin osa verbeistä saa morfologisen analyysin, jonka mukaan se on joko aktiivissa tai passiivissa. Tarkista aineistosta, miltä nämä analyysit näyttävät. Voisi ajatella, että kaikkia vebejä ei käytetä yhtä paljon aktiivissa ja passiivissa. Laske dataa-kansiossa olevasta pb-head2.conllu.gz-tiedostosta yleisimmät verbit, joita käytetään aktiivissa, ja yleisimmät, joita käytetään passiivissa. Printtaa molemmista listoista 20 yleisintä. Pitääkö hypoteesi paikkansa, onko eroja?\n",
    "\n",
    "### Lisäosa\n",
    "\n",
    "Koita verrata koneellisesti yleisimpiä aktiivimuotoisia ja passiivimuotoisia verbejä. Miten tämän voisi tehdä? Kuinka moni vaikka aktiivimuotoisten 100:sta yleisimmästä verbistä on myös yleisimpien passiivimuotoisten listalla?\n"
   ]
  }
 ],
 "metadata": {
  "kernelspec": {
   "display_name": "Bash",
   "language": "bash",
   "name": "bash"
  },
  "language_info": {
   "codemirror_mode": "shell",
   "file_extension": ".sh",
   "mimetype": "text/x-sh",
   "name": "bash"
  }
 },
 "nbformat": 4,
 "nbformat_minor": 0
}
