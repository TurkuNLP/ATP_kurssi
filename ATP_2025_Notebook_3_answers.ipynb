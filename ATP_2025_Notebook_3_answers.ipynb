{
  "nbformat": 4,
  "nbformat_minor": 0,
  "metadata": {
    "colab": {
      "provenance": [],
      "authorship_tag": "ABX9TyPLzLO/hATFUyxGKU+aIs4k",
      "include_colab_link": true
    },
    "kernelspec": {
      "name": "python3",
      "display_name": "Python 3"
    },
    "language_info": {
      "name": "python"
    }
  },
  "cells": [
    {
      "cell_type": "markdown",
      "metadata": {
        "id": "view-in-github",
        "colab_type": "text"
      },
      "source": [
        "<a href=\"https://colab.research.google.com/github/TurkuNLP/ATP_kurssi/blob/master/ATP_2025_Notebook_3_answers.ipynb\" target=\"_parent\"><img src=\"https://colab.research.google.com/assets/colab-badge.svg\" alt=\"Open In Colab\"/></a>"
      ]
    },
    {
      "cell_type": "markdown",
      "source": [
        "##Practicing what we've learned so far\n",
        "\n",
        "Let's continue with some parliamentary data and use the same file as last week: https://a3s.fi/parliamentsampo/speeches/csv/speeches_2024.csv\n",
        "\n",
        "I've done the downloading for you and converted the file format from csv to tsv. You only need to run the first cells below. After that, do the following exercises on the data:\n",
        "\n",
        "\n",
        "1. Have a look through what each column contains. Since the column headings and the columns are not really in line, it might be difficult to see directly when using `head`. This is easily done with the command `cut`.\n",
        "\n",
        "2. Fetch the speeches from February and save them in a file called `speeches_2024_02.txt`\n",
        "\n",
        "3. Check the distribution of speeches along the month (i.e., which days are the most frequent ones in the file).\n",
        "\n",
        "4. Then check which roles the speakers have and make a frequency list of those. Check also how many ministers \"ministeri\" are among the speakers.\n",
        "\n",
        "5. Next, have a look at the topics. a) Which are the most frequent ones and which are the least frequent? b) How many different \"esitys\" (proposals) can you find? c) What about \"kysymys\" (question)? d) How many times does a topic start with the string \"Suullinen\" (oral)? e) How many different topics are there altogether?\n",
        "\n",
        "6. And then to the actual speeches. Fetch the content of the speeches and direct it to a new file called `speech_content.txt`.\n",
        "\n",
        "    a) How many unique lines/speeches are there?\n",
        "\n",
        "    b) On how many lines does the word \"eduskunta\" (parliament) in any form (upper or lower case) occur in the speeches?\n",
        "\n",
        "    c) On how many lines does the string \"eduskunta\" occur in the speeches?\n",
        "\n",
        "    d) What if you take into account both lower and upper cased forms of \"eduskunta\"?\n",
        "\n",
        "    e) What about \"Eduskunta\"?\n",
        "\n",
        "    f) How many times does the string \"metsä\" (forest) occur in the speeches?\n",
        "    \n",
        "    g) What about \"metsä\" as a word? Let's also check on how many lines\n",
        "    \n",
        "    h) the string \"puhe\" (speech) appears in the speeches.\n",
        "    \n",
        "    i) What about \"puhe\" in the end of a word?\n",
        "    \n",
        "    j) Or in the beginning of a word?\n",
        "    \n",
        "    k) Let's also check whether \"korona\" (covid) is mentioned in the speeches.\n",
        "    \n",
        "    l) Can you find any lines ending in \"Kiitos.\"? How many?\n",
        "\n",
        "7. Finally, let's check in which languages the speeches are given.\n",
        "\n",
        "\n",
        "N.B. In all exercises, remove everything from the columns that do not seem to belong there (e.g., URLs in dates). Also remember to remove any empty lines."
      ],
      "metadata": {
        "id": "Od2v3kLyzzX3"
      }
    },
    {
      "cell_type": "code",
      "execution_count": null,
      "metadata": {
        "id": "ny9t3WoRyynr"
      },
      "outputs": [],
      "source": [
        "# Download data\n",
        "! wget https://a3s.fi/parliamentsampo/speeches/csv/speeches_2024.csv"
      ]
    },
    {
      "cell_type": "code",
      "source": [
        "# let's save the csv file as a tsv file\n",
        "import pandas as pd\n",
        "df = pd.read_csv('speeches_2024.csv')\n",
        "df.to_csv('speeches_2024.tsv', sep='\\t')"
      ],
      "metadata": {
        "id": "S8QW88pSy6Ze"
      },
      "execution_count": null,
      "outputs": []
    },
    {
      "cell_type": "code",
      "source": [
        "! cat speeches_2024.tsv | head"
      ],
      "metadata": {
        "id": "DSSM0WiKzRGT"
      },
      "execution_count": null,
      "outputs": []
    },
    {
      "cell_type": "code",
      "source": [
        "# 1. Check through the columns with cut"
      ],
      "metadata": {
        "id": "d8zn-SvZ_djj"
      },
      "execution_count": null,
      "outputs": []
    },
    {
      "cell_type": "code",
      "source": [
        "# 2. Save speeches from February to a new file\n",
        "! cat speeches_2024.tsv | egrep '2024-02' > speeches_2024_02.tsv"
      ],
      "metadata": {
        "id": "-G7fb7Dvy93E"
      },
      "execution_count": null,
      "outputs": []
    },
    {
      "cell_type": "code",
      "source": [
        "# Check what we got\n",
        "! ls"
      ],
      "metadata": {
        "id": "3kBO4AntzNyE"
      },
      "execution_count": null,
      "outputs": []
    },
    {
      "cell_type": "code",
      "source": [
        "# Check the file\n",
        "! cat speeches_2024_02.tsv | head"
      ],
      "metadata": {
        "id": "UWb-AKu_y_Sq"
      },
      "execution_count": null,
      "outputs": []
    },
    {
      "cell_type": "code",
      "source": [
        "# 3. Check the distribution of speeches along the month (i.e., which days are the most frequent ones in the file).\n",
        "! cat speeches_2024_02.tsv | cut -f 4 | sort | uniq -c | sort -nr | head"
      ],
      "metadata": {
        "id": "ksC3Ddlg2xf5"
      },
      "execution_count": null,
      "outputs": []
    },
    {
      "cell_type": "code",
      "source": [
        "! cat speeches_2024_02.tsv | egrep -vi \"male\" |cut -f 4 | sort | uniq -c | sort -nr | head"
      ],
      "metadata": {
        "id": "FvPfDkqKESXw"
      },
      "execution_count": null,
      "outputs": []
    },
    {
      "cell_type": "code",
      "source": [
        "# Then check which roles the speakers have and make a frequency list of those.\n",
        "! cat speeches_2024_02.tsv | cut -f 9 | sort | uniq -c | sort -nr | head"
      ],
      "metadata": {
        "id": "OVANCtouzJrO"
      },
      "execution_count": null,
      "outputs": []
    },
    {
      "cell_type": "code",
      "source": [
        "# Why does this not work?\n",
        "! cat speeches_2024_02.tsv | egrep -v \"^Tarkistettu\" | cut -f 9 | sort | uniq -c | sort -nr"
      ],
      "metadata": {
        "id": "bAeDcRk9Ewje"
      },
      "execution_count": null,
      "outputs": []
    },
    {
      "cell_type": "code",
      "source": [
        "! cat speeches_2024_02.tsv | cut -f 9 | egrep -v \"^Tarkistettu\" | sort | uniq -c | sort -nr"
      ],
      "metadata": {
        "id": "48wOukrKEhA4"
      },
      "execution_count": null,
      "outputs": []
    },
    {
      "cell_type": "code",
      "source": [
        "# Check also which and how many ministers \"ministeri\" are among the speakers.\n",
        "! cat speeches_2024_02.tsv | cut -f 9 | sort | uniq -c | sort -nr | egrep \"ministeri\" | head"
      ],
      "metadata": {
        "id": "t_QUpLJk8PpS"
      },
      "execution_count": null,
      "outputs": []
    },
    {
      "cell_type": "code",
      "source": [
        "! cat speeches_2024_02.tsv | cut -f 9 | sort | uniq -c | sort -nr | egrep \"ministeri\" | wc -l"
      ],
      "metadata": {
        "id": "woaQ0qXPE9Nf"
      },
      "execution_count": null,
      "outputs": []
    },
    {
      "cell_type": "code",
      "source": [
        "# 5. Topics. a) Which are the most frequent ones and which are the least frequent?\n",
        "! cat speeches_2024_02.tsv | cut -f 11 | sort | uniq -c | sort -nr"
      ],
      "metadata": {
        "id": "97YhvW9A3tOT"
      },
      "execution_count": null,
      "outputs": []
    },
    {
      "cell_type": "code",
      "source": [
        "! cat speeches_2024_02.tsv | cut -f 11 | egrep -v \"^https:\" | sort | uniq -c | sort -nr"
      ],
      "metadata": {
        "id": "hR3J4o87FKFC"
      },
      "execution_count": null,
      "outputs": []
    },
    {
      "cell_type": "code",
      "source": [
        "# b) How many different \"esitys\" (proposals) can you find?\n",
        "! cat speeches_2024_02.tsv | cut -f 11 | sort | uniq -c | sort -nr | egrep \"esitys\" | head"
      ],
      "metadata": {
        "id": "c-X1yY2G8mCP"
      },
      "execution_count": null,
      "outputs": []
    },
    {
      "cell_type": "code",
      "source": [
        "! cat speeches_2024_02.tsv | cut -f 11 | sort | uniq -c | sort -nr | egrep \"esitys\" | wc -l"
      ],
      "metadata": {
        "id": "Yi8-CoZ0FYSJ"
      },
      "execution_count": null,
      "outputs": []
    },
    {
      "cell_type": "code",
      "source": [
        "# c) What about \"kysymys\" (question)?\n",
        "! cat speeches_2024_02.tsv | cut -f 11 | sort | uniq -c | sort -nr | egrep \"kysymys\" | head"
      ],
      "metadata": {
        "id": "F4O14cD78oLO"
      },
      "execution_count": null,
      "outputs": []
    },
    {
      "cell_type": "code",
      "source": [
        "! cat speeches_2024_02.tsv | cut -f 11 | sort | uniq -c | sort -nr | egrep \"kysymys\" | wc -l"
      ],
      "metadata": {
        "id": "Z3LM88rZFdHS"
      },
      "execution_count": null,
      "outputs": []
    },
    {
      "cell_type": "code",
      "source": [
        "# d) How many times does a topic start with the string \"Suullinen\" (oral)?\n",
        "! cat speeches_2024_02.tsv | cut -f 11 | sort | uniq -c | sort -nr | egrep \" Suullinen\" | head\n",
        "\n",
        "# N.B. If you grep from a frequency list, the line count (number) starts the line."
      ],
      "metadata": {
        "id": "HpPAlHWC-aL6"
      },
      "execution_count": null,
      "outputs": []
    },
    {
      "cell_type": "code",
      "source": [
        "! cat speeches_2024_02.tsv | cut -f 11 | sort | uniq -c | sort -nr | egrep \" Suullinen\" | wc -l"
      ],
      "metadata": {
        "id": "rBXom-fpFgkL"
      },
      "execution_count": null,
      "outputs": []
    },
    {
      "cell_type": "code",
      "source": [
        "# e) How many different topics are there altogether?\n",
        "! cat speeches_2024_02.tsv | cut -f 11 | sort | uniq -c | sort -nr | wc -l"
      ],
      "metadata": {
        "id": "lvMsWMn98p3_"
      },
      "execution_count": null,
      "outputs": []
    },
    {
      "cell_type": "code",
      "source": [
        "# This does the same thing\n",
        "! cat speeches_2024_02.tsv | cut -f 11 | sort | uniq | wc -l"
      ],
      "metadata": {
        "id": "kvy62GG3Fpu3"
      },
      "execution_count": null,
      "outputs": []
    },
    {
      "cell_type": "code",
      "source": [
        "#6. Speeches\n",
        "! cat speeches_2024_02.tsv | cut -f 12 | head -20"
      ],
      "metadata": {
        "id": "XeHjvUP_5RNY"
      },
      "execution_count": null,
      "outputs": []
    },
    {
      "cell_type": "code",
      "source": [
        "# 6. a) How many unique lines/speeches are there?\n",
        "! cat speeches_2024_02.tsv | cut -f 12 | sort | uniq -c | sort -nr | wc -l"
      ],
      "metadata": {
        "id": "gzYE-E0vBg22"
      },
      "execution_count": null,
      "outputs": []
    },
    {
      "cell_type": "code",
      "source": [
        "# 6. a) Another way to count the unique lines.\n",
        "! cat speeches_2024_02.tsv | cut -f 12 | sort | uniq | wc -l"
      ],
      "metadata": {
        "id": "5mZJg9vwCp8z"
      },
      "execution_count": null,
      "outputs": []
    },
    {
      "cell_type": "code",
      "source": [
        "# 6. b) On how many lines does the word \"eduskunta\" (parliament) in any form (upper or lower case) occur in the speeches?\n",
        "! cat speeches_2024_02.tsv | cut -f 12 | egrep -wi \"eduskunta\" | wc -l"
      ],
      "metadata": {
        "id": "4YX6_fqECzfv"
      },
      "execution_count": null,
      "outputs": []
    },
    {
      "cell_type": "code",
      "source": [
        "# c) On how many lines does the string \"eduskunta\" occur in the speeches?\n",
        "! cat speeches_2024_02.tsv | cut -f 12 | egrep \"eduskunta\" | wc -l"
      ],
      "metadata": {
        "id": "94i6_04mDiE5"
      },
      "execution_count": null,
      "outputs": []
    },
    {
      "cell_type": "code",
      "source": [
        "# d) What if you take into account both lower and upper cased forms of \"eduskunta\"?\n",
        "! cat speeches_2024_02.tsv | cut -f 12 | egrep -i \"eduskunta\" | wc -l"
      ],
      "metadata": {
        "id": "D6b0VVhXF3Tv"
      },
      "execution_count": null,
      "outputs": []
    },
    {
      "cell_type": "code",
      "source": [
        "# e) What about \"Eduskunta\"?\n",
        "! cat speeches_2024_02.tsv | cut -f 12 | egrep \"Eduskunta\" | wc -l"
      ],
      "metadata": {
        "id": "yZBtvrlJGDUx"
      },
      "execution_count": null,
      "outputs": []
    },
    {
      "cell_type": "code",
      "source": [
        "#6. f) On how many lines does the string \"metsä\" (forest) occur in the speeches?\n",
        "! cat speeches_2024_02.tsv | cut -f 12 | egrep -c \"metsä\" | head"
      ],
      "metadata": {
        "id": "dg6Cv5Ve4qDf"
      },
      "execution_count": null,
      "outputs": []
    },
    {
      "cell_type": "code",
      "source": [
        "# g) What about \"metsä\" as a word?\n",
        "! cat speeches_2024_02.tsv | cut -f 12 | egrep -wc \"metsä\" | head"
      ],
      "metadata": {
        "id": "AhlxCkg55F4N"
      },
      "execution_count": null,
      "outputs": []
    },
    {
      "cell_type": "code",
      "source": [
        "# h) On how many lines does the string \"puhe\" (speech) appear in the speeches.\n",
        "! cat speeches_2024_02.tsv | cut -f 12 | egrep -wc \"puhe\" | head"
      ],
      "metadata": {
        "id": "sQNPUw1p5_44"
      },
      "execution_count": null,
      "outputs": []
    },
    {
      "cell_type": "code",
      "source": [
        "# i) What about \"puhe\" in the end of a word?\n",
        "! cat speeches_2024_02.tsv | cut -f 12 | egrep \"puhe \" | head"
      ],
      "metadata": {
        "id": "7WPToJTW6Jd8"
      },
      "execution_count": null,
      "outputs": []
    },
    {
      "cell_type": "code",
      "source": [
        "# j) Or in the beginning of a word?\n",
        "! cat speeches_2024_02.tsv | cut -f 12 | egrep -c \" puhe\" | head"
      ],
      "metadata": {
        "id": "dno4wW5m6Eia"
      },
      "execution_count": null,
      "outputs": []
    },
    {
      "cell_type": "code",
      "source": [
        "# k) Let's also check whether \"korona\" (covid) is mentioned in the speeches\n",
        "! cat speeches_2024_02.tsv | cut -f 12 | egrep \"korona\" | head"
      ],
      "metadata": {
        "id": "-k8NHhqw_01M"
      },
      "execution_count": null,
      "outputs": []
    },
    {
      "cell_type": "code",
      "source": [
        "# l) Can you find any lines ending in \"Kiitos.\"? How many?\n",
        "! cat speeches_2024_02.tsv | cut -f 12 | egrep \"Kiitos.$\" | wc -l"
      ],
      "metadata": {
        "id": "SIPfpuqtAoiT"
      },
      "execution_count": null,
      "outputs": []
    },
    {
      "cell_type": "code",
      "source": [
        "# 7. Finally, let's check in which languages the speeches are given.\n",
        "! cat speeches_2024_02.tsv | cut -f 23 | sort | uniq | head"
      ],
      "metadata": {
        "id": "osH88-OO7BYX"
      },
      "execution_count": null,
      "outputs": []
    }
  ]
}