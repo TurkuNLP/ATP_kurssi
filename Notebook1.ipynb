{
  "nbformat": 4,
  "nbformat_minor": 0,
  "metadata": {
    "colab": {
      "provenance": [],
      "collapsed_sections": [],
      "authorship_tag": "ABX9TyNTNdZQTuqVt7Wzg2fUuSKu",
      "include_colab_link": true
    },
    "kernelspec": {
      "name": "python3",
      "display_name": "Python 3"
    },
    "language_info": {
      "name": "python"
    }
  },
  "cells": [
    {
      "cell_type": "markdown",
      "metadata": {
        "id": "view-in-github",
        "colab_type": "text"
      },
      "source": [
        "<a href=\"https://colab.research.google.com/github/TurkuNLP/ATP_kurssi/blob/master/Notebook1.ipynb\" target=\"_parent\"><img src=\"https://colab.research.google.com/assets/colab-badge.svg\" alt=\"Open In Colab\"/></a>"
      ]
    },
    {
      "cell_type": "markdown",
      "metadata": {
        "id": "6PObpkU34dd_"
      },
      "source": [
        "## Automatic text processing\n",
        "\n",
        "Welcome to study language technology, or digital linguistics, or natural language processing!\n",
        "\n",
        "The entire curriculum: https://opas.peppi.utu.fi/en/programme/89089?period=2022-2024\n",
        "\n",
        "Research group website: turkunlp.org\n",
        "\n",
        "Course Moodle page: https://moodle.utu.fi/course/view.php?id=26139 \n",
        "\n"
      ]
    },
    {
      "cell_type": "markdown",
      "metadata": {
        "id": "_BdXfMq_5esg"
      },
      "source": [
        "## Course objectives\n",
        "\n",
        "Most importantly: process large sets of files / data on _command line_\n",
        "\n",
        "Processing includes (among others)\n",
        "\n",
        "*   Moving, modifying\n",
        "* Analyzing, e.g., counting things\n",
        "   * Frequencies of individual items, such as specific words\n",
        "   * Distributions of items in datasets, such as most frequent words\n",
        "* Regular expressions\n",
        "* Processing multiple files / datasets at a time\n",
        "* Processing linguistically annotated data\n",
        "  * Part-of-speech tagged datasets\n",
        "  * Syntax analyzed datasets\n",
        "* Combining python with command line commands\n",
        "\n",
        "## Processing data on command line with Bash\n",
        "\n",
        "* Bash is the Unix command line language\n",
        "* Good for basic text processing and script management (this course!)\n",
        "* Used for running real stuff\n",
        "* But also super useful for simple text processing things\n",
        "* In practice, many small programs that can be then combined to somewhat more complex processing pipelines and that can be run for many items at once\n",
        "* No ready software but small construction parts!\n",
        "\n",
        "### What is Unix?\n",
        "* Operating system (such as Windows)\n",
        "* Linux system is based on Unix\n",
        "\n",
        "### Why Bash and command line?\n",
        "*  More options than ready-made software\n",
        "*  Independence w.r.t. the software developers opinions and choices\n",
        "*  First steps towards a programmatic approach that allows you to apply more sophisticated, state-of-the-art methods\n",
        "\n",
        "### Practical objectives\n",
        "* Use Unix command line so that you can process data\n",
        "* Read instructions (Google <3)\n",
        "* Basic commands and tricks: pipes, scripts, for loops\n",
        "\n",
        "### Course environments\n",
        "* Bash can be used on Linux computers\n",
        "* Other options are Unix servers and bash shell on Google Colab\n",
        "* If you have a Mac or a Linux machine, you have straight access to a terminal in Bash\n",
        "* We will start with Google Colab today, but move to the course server soon\n",
        "* Course server indicated on Moodle\n",
        "\n"
      ]
    },
    {
      "cell_type": "markdown",
      "metadata": {
        "id": "AOBpWbjhy4wp"
      },
      "source": [
        "Google colab is the google docs for coding. Unfortunately, you need a google account to use it. If you don't want to have one, you can always use the course server as well.\n",
        "Colab shell executes Bash commands when you start the line with !\n",
        "Otherwise it's python\n",
        "\n"
      ]
    },
    {
      "cell_type": "code",
      "metadata": {
        "colab": {
          "base_uri": "https://localhost:8080/"
        },
        "id": "1NGn-6wk5lEN",
        "outputId": "7b7b00ce-3944-4e06-de9e-3d1c564f8a67"
      },
      "source": [
        "! echo Hello people in Bash!\n",
        "#echo Hello people!\n",
        "print(\"Hello people in Python!\")"
      ],
      "execution_count": null,
      "outputs": [
        {
          "output_type": "stream",
          "name": "stdout",
          "text": [
            "Hello people in Bash!\n",
            "Hello people in Python!\n"
          ]
        }
      ]
    },
    {
      "cell_type": "markdown",
      "metadata": {
        "id": "usio9OjW0sWV"
      },
      "source": [
        "### First commands\n",
        "\n",
        "#### We need data to process...\n",
        "* wget - get a file from a url\n",
        "\n",
        "Today, we'll get data from project Gutenberg at www.gutenberg.org\n"
      ]
    },
    {
      "cell_type": "code",
      "metadata": {
        "id": "ndnYfaOr2rIn"
      },
      "source": [
        "# first we need a file:\n",
        "! wget https://www.gutenberg.org/cache/epub/20748/pg20748.txt"
      ],
      "execution_count": null,
      "outputs": []
    },
    {
      "cell_type": "markdown",
      "source": [
        "#### Then to have a look at the file\n",
        "\n",
        "* cat - concatenate aka print a file\n",
        "* head  - print the head of a file\n",
        "* tail - print the tail of a file\n",
        "* ls - list all the files and folders available"
      ],
      "metadata": {
        "id": "BMosYCMQGZKR"
      }
    },
    {
      "cell_type": "code",
      "metadata": {
        "id": "2txdu6UY3Cpz"
      },
      "source": [
        "! cat pg20748.txt \n"
      ],
      "execution_count": null,
      "outputs": []
    },
    {
      "cell_type": "code",
      "metadata": {
        "id": "mwkoiq593LNC",
        "colab": {
          "base_uri": "https://localhost:8080/"
        },
        "outputId": "fefa56be-8c65-4066-d975-f5ad0acb51f2"
      },
      "source": [
        "! head pg20748.txt\n",
        "! echo \"---------break-----------\"\n",
        "! tail pg20748.txt"
      ],
      "execution_count": 4,
      "outputs": [
        {
          "output_type": "stream",
          "name": "stdout",
          "text": [
            "﻿The Project Gutenberg EBook of Favorite Fairy Tales, by Logan Marshall\r\n",
            "\r\n",
            "This eBook is for the use of anyone anywhere at no cost and with\r\n",
            "almost no restrictions whatsoever.  You may copy it, give it away or\r\n",
            "re-use it under the terms of the Project Gutenberg License included\r\n",
            "with this eBook or online at www.gutenberg.org\r\n",
            "\r\n",
            "\r\n",
            "Title: Favorite Fairy Tales\r\n",
            "\r\n",
            "---------break-----------\n",
            "\n",
            "\n",
            "Most people start at our Web site which has the main PG search facility:\n",
            "\n",
            "     https://www.gutenberg.org\n",
            "\n",
            "This Web site includes information about Project Gutenberg-tm,\n",
            "including how to make donations to the Project Gutenberg Literary\n",
            "Archive Foundation, how to help produce our new eBooks, and how to\n",
            "subscribe to our email newsletter to hear about new eBooks.\n"
          ]
        }
      ]
    },
    {
      "cell_type": "markdown",
      "metadata": {
        "id": "Y7VP4eV35fKc"
      },
      "source": [
        "### Finding help and instructions\n",
        "* Google is often helpful\n",
        "* Inside Unix man, e.g. man wget\n",
        "\n",
        "### More commands\n",
        "* \\> directs to a file (by overwriting it if the file existed)\n",
        "* \\>> directs by appending (no overwriting)\n",
        "* rm removes the file\n",
        "* cp copies a file\n",
        "* mv moves a file (or renames)\n",
        "* wc -w is wordcount"
      ]
    },
    {
      "cell_type": "code",
      "metadata": {
        "id": "Ahs3JMDO6zXE"
      },
      "source": [
        "! head pg20748.txt > head.txt\n",
        "! ls\n",
        "! cat head.txt"
      ],
      "execution_count": null,
      "outputs": []
    },
    {
      "cell_type": "code",
      "source": [
        "! wc -w head.txt"
      ],
      "metadata": {
        "id": "CZvIompqIIQe"
      },
      "execution_count": null,
      "outputs": []
    },
    {
      "cell_type": "code",
      "source": [
        "! rm head.txt\n",
        "! ls"
      ],
      "metadata": {
        "id": "aiuZcaoOHS-u"
      },
      "execution_count": null,
      "outputs": []
    },
    {
      "cell_type": "code",
      "metadata": {
        "id": "PELHcKKJ7YUb"
      },
      "source": [
        "! tail pg20748.txt >  tail.txt\n",
        "! cp head.txt copyofhead.txt\n",
        "! ls"
      ],
      "execution_count": null,
      "outputs": []
    },
    {
      "cell_type": "code",
      "metadata": {
        "id": "UF1XBw5g7vqc"
      },
      "source": [
        "! mv copyofhead.txt somethingelse.txt # so moving moves / renames, copying leaves the original"
      ],
      "execution_count": null,
      "outputs": []
    },
    {
      "cell_type": "markdown",
      "metadata": {
        "id": "5J9Tqd728Eac"
      },
      "source": [
        "### Exercise\n",
        "* Run first the commands above\n",
        "* Then take another book from Gutenberg\n",
        "* Make a backup copy of the previous Gutenberg file and delete the original\n",
        "* Them move (rename) the backup file as something else\n",
        "* Check with ls that all went fine\n",
        "\n",
        "\n",
        "---\n",
        "\n",
        "\n",
        "* Print the head and tail of the new book to separate files\n",
        "* Check with cat that all went fine\n",
        "* Then try to use wc -w. How many words did the original books have?\n",
        "* And how many words did head and tail print?\n",
        "* And how would you print the wordnumber of a file to a file?"
      ]
    }
  ]
}