{
  "nbformat": 4,
  "nbformat_minor": 0,
  "metadata": {
    "colab": {
      "name": "Notebook1.ipynb",
      "provenance": [],
      "collapsed_sections": [],
      "authorship_tag": "ABX9TyPpHK/NwrNvXA62nzjv0z7P",
      "include_colab_link": true
    },
    "kernelspec": {
      "name": "python3",
      "display_name": "Python 3"
    },
    "language_info": {
      "name": "python"
    }
  },
  "cells": [
    {
      "cell_type": "markdown",
      "metadata": {
        "id": "view-in-github",
        "colab_type": "text"
      },
      "source": [
        "<a href=\"https://colab.research.google.com/github/TurkuNLP/ATP_kurssi/blob/master/Notebook1.ipynb\" target=\"_parent\"><img src=\"https://colab.research.google.com/assets/colab-badge.svg\" alt=\"Open In Colab\"/></a>"
      ]
    },
    {
      "cell_type": "markdown",
      "metadata": {
        "id": "6PObpkU34dd_"
      },
      "source": [
        "## Automatic text processing\n",
        "\n",
        "Welcome to study language technology, or digital linguistics, or natural language processing!\n",
        "\n",
        "The entire curriculum at  https://opas.peppi.utu.fi/en/programme/20146?period=2020-2022\n",
        "\n",
        "Research group website at turkunlp.org\n",
        "\n",
        "Course Moodle page https://moodle.utu.fi/course/view.php?id=23080 \n",
        "\n"
      ]
    },
    {
      "cell_type": "markdown",
      "metadata": {
        "id": "_BdXfMq_5esg"
      },
      "source": [
        "## Course objectives\n",
        "\n",
        "Most importantly: process large sets of files / data on command line\n",
        "\n",
        "Processing includes (among others)\n",
        "\n",
        "*   Moving, modifying, analyzing (counting things)\n",
        "   *   Such as frequencies of individual / groups of items, distributions of items in datasets \n",
        "* Regular experssions\n",
        "* Processing multiple files / datasets at a time\n",
        "* Processing linguistically annotated data\n",
        "* Combining python with command line commands\n",
        "\n",
        "\n",
        "### Bash \n",
        "* Unix command line language\n",
        "* Good for basic text processing and script management (this course!)\n",
        "* Used for running real stuff\n",
        "* But also super useful for simple text processing things\n",
        "* In practice, many small programs that can be then combined to somewhat more complex processing pipelines and that can be run for many items at once\n",
        "\n",
        "* No ready software but small construction parts!\n",
        "\n",
        "\n",
        "### What is Unix?\n",
        "  * Operating system (such as Windows)\n",
        "  * Linux system is based on Unix\n",
        "  * --> Bash can be used on Linux\n",
        "  * Other options are Unix servers and bash shell in Google Colab\n",
        "\n",
        "### Practical objectives\n",
        "* Use Unix command line so that you can process data\n",
        "* Read instructions (Google <3)\n",
        "* Basic commands and tricks: pipes, scripts, for loops\n",
        "\n",
        "### Course environments\n",
        "* Google colab\n",
        "* Course server vm0964.kaj.pouta.csc.fi\n",
        "* If you have a Mac or a Linux machine, you have straight access to a terminal in Bash\n",
        "* We will start with Google colab today, but move to the course server soon\n",
        "\n",
        "\n"
      ]
    },
    {
      "cell_type": "markdown",
      "metadata": {
        "id": "AOBpWbjhy4wp"
      },
      "source": [
        "Google colab is the google docs for coding. Unfortunately, you need a google account to use it. If you don't want to have one, you can always use the course server as well.\n",
        "Colab shell executes Bash commands when you start the line with !\n",
        "Otherwise it's python\n",
        "\n"
      ]
    },
    {
      "cell_type": "code",
      "metadata": {
        "colab": {
          "base_uri": "https://localhost:8080/"
        },
        "id": "1NGn-6wk5lEN",
        "outputId": "7b7b00ce-3944-4e06-de9e-3d1c564f8a67"
      },
      "source": [
        "! echo Hello people in Bash!\n",
        "#echo Hello people!\n",
        "print(\"Hello people in Python!\")"
      ],
      "execution_count": null,
      "outputs": [
        {
          "output_type": "stream",
          "name": "stdout",
          "text": [
            "Hello people in Bash!\n",
            "Hello people in Python!\n"
          ]
        }
      ]
    },
    {
      "cell_type": "markdown",
      "metadata": {
        "id": "usio9OjW0sWV"
      },
      "source": [
        "### First commands\n",
        "* cat - concatenate aka print a file\n",
        "* head  - print the head of a file\n",
        "* tail - print the tail of a file\n",
        "* ls - list all the files and folders available\n",
        "* wget - get a file from a url\n",
        "\n",
        "Today, we'll get data from project Gutenberg at www.gutenberg.org\n"
      ]
    },
    {
      "cell_type": "code",
      "metadata": {
        "colab": {
          "base_uri": "https://localhost:8080/"
        },
        "id": "ndnYfaOr2rIn",
        "outputId": "ec01b853-7926-4939-d3f5-7a980fa48064"
      },
      "source": [
        "# first we need a file:\n",
        "! wget https://www.gutenberg.org/cache/epub/20748/pg20748.txt\n",
        "! ls # check if the file is there"
      ],
      "execution_count": null,
      "outputs": [
        {
          "output_type": "stream",
          "name": "stdout",
          "text": [
            "--2021-10-22 16:35:50--  https://www.gutenberg.org/cache/epub/20748/pg20748.txt\n",
            "Resolving www.gutenberg.org (www.gutenberg.org)... 152.19.134.47, 2610:28:3090:3000:0:bad:cafe:47\n",
            "Connecting to www.gutenberg.org (www.gutenberg.org)|152.19.134.47|:443... connected.\n",
            "HTTP request sent, awaiting response... 200 OK\n",
            "Length: 238755 (233K) [text/plain]\n",
            "Saving to: ‘pg20748.txt’\n",
            "\n",
            "pg20748.txt         100%[===================>] 233.16K   313KB/s    in 0.7s    \n",
            "\n",
            "2021-10-22 16:35:52 (313 KB/s) - ‘pg20748.txt’ saved [238755/238755]\n",
            "\n",
            "pg20748.txt  sample_data\n"
          ]
        }
      ]
    },
    {
      "cell_type": "code",
      "metadata": {
        "id": "2txdu6UY3Cpz"
      },
      "source": [
        "! cat pg20748.txt \n"
      ],
      "execution_count": null,
      "outputs": []
    },
    {
      "cell_type": "code",
      "metadata": {
        "colab": {
          "base_uri": "https://localhost:8080/"
        },
        "id": "mwkoiq593LNC",
        "outputId": "e31a8659-3a87-4626-9b9b-24d9f178d3d6"
      },
      "source": [
        "! head pg20748.txt\n",
        "! echo \"---------break-----------\"\n",
        "! tail pg20748.txt"
      ],
      "execution_count": null,
      "outputs": [
        {
          "output_type": "stream",
          "name": "stdout",
          "text": [
            "﻿The Project Gutenberg EBook of Favorite Fairy Tales, by Logan Marshall\r\n",
            "\r\n",
            "This eBook is for the use of anyone anywhere at no cost and with\r\n",
            "almost no restrictions whatsoever.  You may copy it, give it away or\r\n",
            "re-use it under the terms of the Project Gutenberg License included\r\n",
            "with this eBook or online at www.gutenberg.org\r\n",
            "\r\n",
            "\r\n",
            "Title: Favorite Fairy Tales\r\n",
            "\r\n",
            "---------break-----------\n",
            "\n",
            "\n",
            "Most people start at our Web site which has the main PG search facility:\n",
            "\n",
            "     https://www.gutenberg.org\n",
            "\n",
            "This Web site includes information about Project Gutenberg-tm,\n",
            "including how to make donations to the Project Gutenberg Literary\n",
            "Archive Foundation, how to help produce our new eBooks, and how to\n",
            "subscribe to our email newsletter to hear about new eBooks.\n"
          ]
        }
      ]
    },
    {
      "cell_type": "markdown",
      "metadata": {
        "id": "Y7VP4eV35fKc"
      },
      "source": [
        "### Finding help and instructions\n",
        "* Google is often helpful\n",
        "* Inside Unix man, e.g. man wget\n",
        "\n",
        "### More commands\n",
        "* \\> directs to a file (by overwriting it if the file existed)\n",
        "* \\>> directs by appending (no overwriting)\n",
        "* rm removes the file\n",
        "* cp copies a file\n",
        "* mv moves a file (or renames)\n",
        "* wc -w is wordcount"
      ]
    },
    {
      "cell_type": "code",
      "metadata": {
        "id": "Ahs3JMDO6zXE"
      },
      "source": [
        "! head pg20748.txt > tail.txt\n",
        "! ls\n",
        "! rm tail.txt\n",
        "! ls"
      ],
      "execution_count": null,
      "outputs": []
    },
    {
      "cell_type": "code",
      "metadata": {
        "id": "PELHcKKJ7YUb"
      },
      "source": [
        "! tail pg20748.txt >  head.txt\n",
        "! cp head.txt copyofhead.txt\n",
        "! ls"
      ],
      "execution_count": null,
      "outputs": []
    },
    {
      "cell_type": "code",
      "metadata": {
        "id": "UF1XBw5g7vqc"
      },
      "source": [
        "! mv copyofhead.txt somethingelse.txt # so moving moves / renames, copying leaves the original"
      ],
      "execution_count": null,
      "outputs": []
    },
    {
      "cell_type": "markdown",
      "metadata": {
        "id": "5J9Tqd728Eac"
      },
      "source": [
        "### Exercise\n",
        "* Run first the commands above\n",
        "* Then take another book from Gutenberg\n",
        "* Make a backup copy of the previous Gutenberg file and delete the original\n",
        "* Them move (rename) the backup file as something else\n",
        "* Check with ls that all went fine\n",
        "\n",
        "* Print the head and tail of the new book to separate files\n",
        "* Check with cat that all went fine\n",
        "* Then try to use wc -w. How many lines did the original books have?\n",
        "* And how many files do head and tail print?\n",
        "* And how would you print the wordnumber of a file to a file?"
      ]
    },
    {
      "cell_type": "code",
      "metadata": {
        "colab": {
          "base_uri": "https://localhost:8080/"
        },
        "id": "moaX91sa-T97",
        "outputId": "e7bdc51f-2115-49e5-e0c5-082047895009"
      },
      "source": [
        "! head pg20748.txt"
      ],
      "execution_count": 5,
      "outputs": [
        {
          "output_type": "stream",
          "name": "stdout",
          "text": [
            "﻿The Project Gutenberg EBook of Favorite Fairy Tales, by Logan Marshall\r\n",
            "\r\n",
            "This eBook is for the use of anyone anywhere at no cost and with\r\n",
            "almost no restrictions whatsoever.  You may copy it, give it away or\r\n",
            "re-use it under the terms of the Project Gutenberg License included\r\n",
            "with this eBook or online at www.gutenberg.org\r\n",
            "\r\n",
            "\r\n",
            "Title: Favorite Fairy Tales\r\n",
            "\r\n"
          ]
        }
      ]
    },
    {
      "cell_type": "markdown",
      "metadata": {
        "id": "T1NkPUltBbGR"
      },
      "source": [
        "### One more command: egrep (or grep)\n",
        "* Matches a pattern on a line and prints it\n",
        "* see http://people.uta.fi/~jm58660/jutut/unix/grep.html \n",
        "* e.g. egrep \"is\" file\n",
        "* Note that capitals and whitespaces count!\n",
        "* So egrep \" is\" file gives a different output\n",
        "\n"
      ]
    },
    {
      "cell_type": "code",
      "metadata": {
        "id": "ba4UhLijC59m"
      },
      "source": [
        "! egrep \"is\" pg20748.txt"
      ],
      "execution_count": null,
      "outputs": []
    },
    {
      "cell_type": "markdown",
      "metadata": {
        "id": "aS9sgeOCCRsY"
      },
      "source": [
        "### Pipes (putket)\n",
        "\n",
        "* You can combine commands with a pipe | \n",
        "* This way the output of the first command goes as input to the next one\n",
        "* cat file.txt | wc -w (is actually the same as just wc -w) # first prints a file, then counts words\n",
        "* cat file.txt | egrep \"is\" # first prints a file, then matches the pattern\n",
        "*  cat file.txt | egrep \"is\"  | wc -w\n",
        "*  cat file.txt | egrep \"is\" | head\n",
        "*  cat file.txt | egrep \"is\" > output.txt"
      ]
    },
    {
      "cell_type": "markdown",
      "metadata": {
        "id": "B14tGc7tE8hX"
      },
      "source": [
        "### Exercise 2\n",
        "\n",
        "* Match lines with \"the\" from a gutenberg book. How many? What about \"The\" ? What about the and The as entire words?\n",
        "* Direct all linecounts to a file (btw, you can also print stuff to a file with echo \"print this\" >> file.txt)\n",
        "* How can you direct to a file the first lines that match \"the\"?"
      ]
    },
    {
      "cell_type": "code",
      "metadata": {
        "id": "ldnc8bM2Exdy"
      },
      "source": [
        "! "
      ],
      "execution_count": null,
      "outputs": []
    }
  ]
}