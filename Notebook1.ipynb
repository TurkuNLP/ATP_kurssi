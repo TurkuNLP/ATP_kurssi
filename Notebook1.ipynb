{
  "nbformat": 4,
  "nbformat_minor": 0,
  "metadata": {
    "colab": {
      "name": "Notebook1.ipynb",
      "provenance": [],
      "collapsed_sections": [],
      "authorship_tag": "ABX9TyPF1d1TABxl0gPx76G3p1NB",
      "include_colab_link": true
    },
    "kernelspec": {
      "name": "python3",
      "display_name": "Python 3"
    },
    "language_info": {
      "name": "python"
    }
  },
  "cells": [
    {
      "cell_type": "markdown",
      "metadata": {
        "id": "view-in-github",
        "colab_type": "text"
      },
      "source": [
        "<a href=\"https://colab.research.google.com/github/TurkuNLP/ATP_kurssi/blob/master/Notebook1.ipynb\" target=\"_parent\"><img src=\"https://colab.research.google.com/assets/colab-badge.svg\" alt=\"Open In Colab\"/></a>"
      ]
    },
    {
      "cell_type": "markdown",
      "metadata": {
        "id": "6PObpkU34dd_"
      },
      "source": [
        "## Automatic text processing\n",
        "\n",
        "Welcome to study language technology, or digital linguistics, or natural language processing!\n",
        "\n",
        "The entire curriculum at  https://opas.peppi.utu.fi/en/programme/20146?period=2020-2022\n",
        "\n",
        "Research group website at turkunlp.org\n",
        "\n",
        "Course Moodle page https://moodle.utu.fi/course/view.php?id=23080 \n",
        "\n"
      ]
    },
    {
      "cell_type": "markdown",
      "metadata": {
        "id": "_BdXfMq_5esg"
      },
      "source": [
        "## Course objectives\n",
        "\n",
        "Most importantly: process large sets of files / data on command line\n",
        "\n",
        "Processing includes (among others)\n",
        "\n",
        "*   Moving, modifying, analyzing (counting things)\n",
        "   *   Such as frequencies of individual / groups of items, distributions of items in datasets \n",
        "* Regular experssions\n",
        "* Processing multiple files / datasets at a time\n",
        "* Processing linguistically annotated data\n",
        "* Combining python with command line commands\n",
        "\n",
        "\n",
        "### Bash \n",
        "* Unix command line language\n",
        "* Good for basic text processing and script management (this course!)\n",
        "* Used for running real stuff\n",
        "* But also super useful for simple text processing things\n",
        "* In practice, many small programs that can be then combined to somewhat more complex processing pipelines and that can be run for many items at once\n",
        "\n",
        "* No ready software but small construction parts!\n",
        "\n",
        "\n",
        "### What is Unix?\n",
        "  * Operating system (such as Windows)\n",
        "  * Linux system is based on Unix\n",
        "  * --> Bash can be used on Linux\n",
        "  * Other options are Unix servers and bash shell in Google Colab\n",
        "\n",
        "### Practical objectives\n",
        "* Use Unix command line so that you can process data\n",
        "* Read instructions (Google <3)\n",
        "* Basic commands and tricks: pipes, scripts, for loops\n",
        "\n",
        "### Course environments\n",
        "* Google colab\n",
        "* Course server vm0964.kaj.pouta.csc.fi\n",
        "* If you have a Mac or a Linux machine, you have straight access to a terminal in Bash\n",
        "* We will start with Google colab today, but move to the course server soon\n",
        "\n",
        "\n"
      ]
    },
    {
      "cell_type": "markdown",
      "metadata": {
        "id": "AOBpWbjhy4wp"
      },
      "source": [
        "Google colab is the google docs for coding. Unfortunately, you need a google account to use it. If you don't want to have one, you can always use the course server as well.\n",
        "Colab shell executes Bash commands when you start the line with !\n",
        "Otherwise it's python\n",
        "\n"
      ]
    },
    {
      "cell_type": "code",
      "metadata": {
        "colab": {
          "base_uri": "https://localhost:8080/"
        },
        "id": "1NGn-6wk5lEN",
        "outputId": "7b7b00ce-3944-4e06-de9e-3d1c564f8a67"
      },
      "source": [
        "! echo Hello people in Bash!\n",
        "#echo Hello people!\n",
        "print(\"Hello people in Python!\")"
      ],
      "execution_count": null,
      "outputs": [
        {
          "output_type": "stream",
          "name": "stdout",
          "text": [
            "Hello people in Bash!\n",
            "Hello people in Python!\n"
          ]
        }
      ]
    },
    {
      "cell_type": "markdown",
      "metadata": {
        "id": "usio9OjW0sWV"
      },
      "source": [
        "### First commands\n",
        "* cat - concatenate aka print a file\n",
        "* head  - print the head of a file\n",
        "* tail - print the tail of a file\n",
        "* ls - list all the files and folders available\n",
        "* wget - get a file from a url\n",
        "\n",
        "Today, we'll get data from project Gutenberg at www.gutenberg.org\n"
      ]
    },
    {
      "cell_type": "code",
      "metadata": {
        "id": "ndnYfaOr2rIn"
      },
      "source": [
        "# first we need a file:\n",
        "! wget https://www.gutenberg.org/cache/epub/20748/pg20748.txt\n",
        "! ls # check if the file is there"
      ],
      "execution_count": null,
      "outputs": []
    },
    {
      "cell_type": "code",
      "metadata": {
        "id": "2txdu6UY3Cpz"
      },
      "source": [
        "! cat pg20748.txt \n"
      ],
      "execution_count": null,
      "outputs": []
    },
    {
      "cell_type": "code",
      "metadata": {
        "id": "mwkoiq593LNC"
      },
      "source": [
        "! head pg20748.txt\n",
        "! echo \"---------break-----------\"\n",
        "! tail pg20748.txt"
      ],
      "execution_count": null,
      "outputs": []
    },
    {
      "cell_type": "markdown",
      "metadata": {
        "id": "Y7VP4eV35fKc"
      },
      "source": [
        "### Finding help and instructions\n",
        "* Google is often helpful\n",
        "* Inside Unix man, e.g. man wget\n",
        "\n",
        "### More commands\n",
        "* \\> directs to a file (by overwriting it if the file existed)\n",
        "* \\>> directs by appending (no overwriting)\n",
        "* rm removes the file\n",
        "* cp copies a file\n",
        "* mv moves a file (or renames)\n",
        "* wc -w is wordcount"
      ]
    },
    {
      "cell_type": "code",
      "metadata": {
        "id": "Ahs3JMDO6zXE"
      },
      "source": [
        "! head pg20748.txt > tail.txt\n",
        "! ls\n",
        "! rm tail.txt\n",
        "! ls"
      ],
      "execution_count": null,
      "outputs": []
    },
    {
      "cell_type": "code",
      "metadata": {
        "id": "PELHcKKJ7YUb"
      },
      "source": [
        "! tail pg20748.txt >  head.txt\n",
        "! cp head.txt copyofhead.txt\n",
        "! ls"
      ],
      "execution_count": null,
      "outputs": []
    },
    {
      "cell_type": "code",
      "metadata": {
        "id": "UF1XBw5g7vqc"
      },
      "source": [
        "! mv copyofhead.txt somethingelse.txt # so moving moves / renames, copying leaves the original"
      ],
      "execution_count": null,
      "outputs": []
    },
    {
      "cell_type": "markdown",
      "metadata": {
        "id": "5J9Tqd728Eac"
      },
      "source": [
        "### Exercise\n",
        "* Run first the commands above\n",
        "* Then take another book from Gutenberg\n",
        "* Make a backup copy of the previous Gutenberg file and delete the original\n",
        "* Them move (rename) the backup file as something else\n",
        "* Check with ls that all went fine\n",
        "\n",
        "* Print the head and tail of the new book to separate files\n",
        "* Check with cat that all went fine\n",
        "* Then try to use wc -w. How many words did the original books have?\n",
        "* And how many words did head and tail print?\n",
        "* And how would you print the wordnumber of a file to a file?"
      ]
    },
    {
      "cell_type": "code",
      "metadata": {
        "id": "moaX91sa-T97"
      },
      "source": [
        "! head pg20748.txt"
      ],
      "execution_count": null,
      "outputs": []
    }
  ]
}