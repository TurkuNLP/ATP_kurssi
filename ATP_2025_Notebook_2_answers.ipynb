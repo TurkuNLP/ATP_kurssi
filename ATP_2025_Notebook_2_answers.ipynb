{
  "nbformat": 4,
  "nbformat_minor": 0,
  "metadata": {
    "colab": {
      "provenance": [],
      "include_colab_link": true
    },
    "kernelspec": {
      "name": "python3",
      "display_name": "Python 3"
    },
    "language_info": {
      "name": "python"
    }
  },
  "cells": [
    {
      "cell_type": "markdown",
      "metadata": {
        "id": "view-in-github",
        "colab_type": "text"
      },
      "source": [
        "<a href=\"https://colab.research.google.com/github/TurkuNLP/ATP_kurssi/blob/master/ATP_2025_Notebook_2_answers.ipynb\" target=\"_parent\"><img src=\"https://colab.research.google.com/assets/colab-badge.svg\" alt=\"Open In Colab\"/></a>"
      ]
    },
    {
      "cell_type": "markdown",
      "metadata": {
        "id": "4l6srdjKonG8"
      },
      "source": [
        "### Time to try things out!\n",
        "\n",
        "Let's fetch some data from project Gutenberg at www.gutenberg.org. Do the following tasks:\n",
        "\n",
        "1.   Download this file: https://www.gutenberg.org/cache/epub/20748/pg20748.txt\n",
        "1. Rename the file as e.g., `fairytales.txt`\n",
        "2. Count how many **words** and **lines** the file has.\n",
        "3. Count on **how many lines** the pronoun _he_ appears in the file. How can you control the use of **capitals** and **white spaces** so that the query matches **only entire words**?\n",
        "4. Direct the number of lines that match the query (_he_) to **a new file** called `pron_in_file.txt`.\n",
        "\n",
        "\n",
        "**Advanced**\n",
        "\n",
        "Direct the output to a file called `pron_count_with_text.txt` with the following text: 'The pronoun he appeared this many times:'\n",
        "\n",
        "I.e., when you print the file, the output should look something like this:\n",
        "```\n",
        "Th pronoun he appeared this many times:\n",
        "15\n",
        "```\n"
      ]
    },
    {
      "cell_type": "code",
      "metadata": {
        "id": "-hDMVIHhaDeS"
      },
      "source": [
        "# 1. Download the file\n",
        "! wget https://www.gutenberg.org/cache/epub/20748/pg20748.txt\n",
        "! ls"
      ],
      "execution_count": null,
      "outputs": []
    },
    {
      "cell_type": "code",
      "source": [
        "# 2. Rename\n",
        "! mv pg20748.txt fairytales.txt\n",
        "! ls"
      ],
      "metadata": {
        "id": "ieKXON_Ia7mz"
      },
      "execution_count": null,
      "outputs": []
    },
    {
      "cell_type": "code",
      "source": [
        "# 3. Counting the words and lines:\n",
        "! echo this many words:\n",
        "! wc -w fairytales.txt\n",
        "! echo \"----\"\n",
        "! echo this many lines:\n",
        "! wc -l fairytales.txt\n"
      ],
      "metadata": {
        "id": "XALaxT-_b83-"
      },
      "execution_count": null,
      "outputs": []
    },
    {
      "cell_type": "code",
      "source": [
        "# 4. Counting 'he' as a word (also in caps)\n",
        "! egrep -wic \"he\" fairytales.txt"
      ],
      "metadata": {
        "id": "dOt3LW9iDBjP"
      },
      "execution_count": null,
      "outputs": []
    },
    {
      "cell_type": "code",
      "source": [
        "# to check what we actually counted, we should run the same command without counting\n",
        "! egrep -wi \"he\" fairytales.txt"
      ],
      "metadata": {
        "id": "wKoEBEJlcYbA",
        "collapsed": true
      },
      "execution_count": null,
      "outputs": []
    },
    {
      "cell_type": "code",
      "source": [
        "# 5. Direct the output to a file\n",
        "\n",
        "! egrep -wi \"he\" fairytales.txt > pron_in_file.txt"
      ],
      "metadata": {
        "id": "4dcNYjKP2q73"
      },
      "execution_count": null,
      "outputs": []
    },
    {
      "cell_type": "code",
      "source": [
        "# Advanced: Directing output to a file with text\n",
        "! echo \"He appeared in the file this many times:\" > pron_count_with_text.txt\n",
        "! egrep -wic \"he\" fairytales.txt >> pron_count_with_text.txt # append to the end of file\n",
        "! cat pron_count_with_text.txt # check that it looks ok"
      ],
      "metadata": {
        "id": "WlzaPa31dkTO"
      },
      "execution_count": null,
      "outputs": []
    },
    {
      "cell_type": "markdown",
      "source": [
        "##Now it's your turn!\n",
        "\n",
        "1.   Use the same file with speeches from March, 2024.\n",
        "2.   Focus on (i.e., cut) the column with the party.\n",
        "1.   Save the parties to a new file called `parties.txt`\n",
        "1.   Remove any empty lines.\n",
        "2.   Make a frequency list of the parties.\n",
        "\n",
        "N.B. All data is not neatly in the column it belongs to. Thus, make sure to remove any items that do not refer to a party.\n",
        "\n",
        "Also, remember to check after each command that you have or did what you intended to! I have not added separate code cells for these."
      ],
      "metadata": {
        "id": "zyec0noOA5Kx"
      }
    },
    {
      "cell_type": "code",
      "source": [
        "! wget https://a3s.fi/parliamentsampo/speeches/csv/speeches_2024.csv"
      ],
      "metadata": {
        "id": "ArjyccipA7ez"
      },
      "execution_count": null,
      "outputs": []
    },
    {
      "cell_type": "code",
      "source": [
        "# let's save the csv file as a tsv file\n",
        "import pandas as pd\n",
        "df = pd.read_csv('speeches_2024.csv')\n",
        "df.to_csv('speeches_2024.tsv', sep='\\t')"
      ],
      "metadata": {
        "id": "fQvVRJtpA_9N"
      },
      "execution_count": null,
      "outputs": []
    },
    {
      "cell_type": "code",
      "source": [
        "! cat speeches_2024.tsv | egrep '2024-03' > speeches_2024_03.tsv"
      ],
      "metadata": {
        "id": "ctul5Y4KBDag"
      },
      "execution_count": null,
      "outputs": []
    },
    {
      "cell_type": "code",
      "source": [
        "# 1. Check the file to be used\n",
        "! cat speeches_2024_03.tsv | head"
      ],
      "metadata": {
        "id": "tt-1E-vvBNj3"
      },
      "execution_count": null,
      "outputs": []
    },
    {
      "cell_type": "code",
      "source": [
        "# 2. Cut the column with the parties\n",
        "! cat speeches_2024_03.tsv | cut -f 10 | head"
      ],
      "metadata": {
        "id": "aONe94EeBSvE"
      },
      "execution_count": null,
      "outputs": []
    },
    {
      "cell_type": "code",
      "source": [
        "# 3. Remove any empty lines\n",
        "! cat speeches_2024_03.tsv | cut -f 10 | egrep -v '^$' | head\n"
      ],
      "metadata": {
        "id": "jZ0HKV5KBkrV"
      },
      "execution_count": null,
      "outputs": []
    },
    {
      "cell_type": "code",
      "source": [
        "# Remove any items that do not refer to a party\n",
        "! cat speeches_2024_03.tsv | cut -f 10 | egrep -v '^$' | egrep -v '^4' | head"
      ],
      "metadata": {
        "id": "6gytOLCMB1kV"
      },
      "execution_count": null,
      "outputs": []
    },
    {
      "cell_type": "code",
      "source": [
        "# 4. Save the column to a new file called parties.txt\n",
        "! cat speeches_2024_03.tsv | cut -f 10 | egrep -v '^$' | egrep -v '^4' > parties.txt\n"
      ],
      "metadata": {
        "id": "hze4FFPKBwIB"
      },
      "execution_count": null,
      "outputs": []
    },
    {
      "cell_type": "code",
      "source": [
        "! ls"
      ],
      "metadata": {
        "id": "OJj5A7ERCA4s"
      },
      "execution_count": null,
      "outputs": []
    },
    {
      "cell_type": "code",
      "source": [
        "! cat parties.txt | head"
      ],
      "metadata": {
        "id": "dUUYGJRCCCGN"
      },
      "execution_count": null,
      "outputs": []
    },
    {
      "cell_type": "code",
      "source": [
        "# 5. Make the frequency list\n",
        "! cat parties.txt | sort | uniq -c | sort -nr"
      ],
      "metadata": {
        "id": "C5v9FXgmCIoy"
      },
      "execution_count": null,
      "outputs": []
    }
  ]
}