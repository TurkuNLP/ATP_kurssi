{
  "nbformat": 4,
  "nbformat_minor": 0,
  "metadata": {
    "colab": {
      "provenance": [],
      "collapsed_sections": [],
      "include_colab_link": true
    },
    "kernelspec": {
      "name": "python3",
      "display_name": "Python 3"
    },
    "language_info": {
      "name": "python"
    }
  },
  "cells": [
    {
      "cell_type": "markdown",
      "metadata": {
        "id": "view-in-github",
        "colab_type": "text"
      },
      "source": [
        "<a href=\"https://colab.research.google.com/github/TurkuNLP/ATP_kurssi/blob/master/Notebook7_2022.ipynb\" target=\"_parent\"><img src=\"https://colab.research.google.com/assets/colab-badge.svg\" alt=\"Open In Colab\"/></a>"
      ]
    },
    {
      "cell_type": "markdown",
      "source": [
        "## Exercise 1\n",
        "\n",
        "The course Github repo has the tweets syntax analyzed in the data folder. The file is called simply `covidtweets.conllu.gz `. Let's work on this a bit.\n",
        "\n",
        "### Basics\n",
        "* How many tweets?\n",
        "* How many tokens? What if you exclude punctuation and numbers? \n",
        "* How many sentences? Note that `\\t` does not work with egrep, can you google for how to do this?\n",
        "\n",
        "### Lexical characteristics\n",
        "* The most frequent lemmas? What if you exclude function words? \n",
        "* The definition of function words can vary a bit. What do you think could be the most useful POS classes to keep to get a general view to the contents of the tweets?\n",
        "* Note: it might be hard to figure out the POS tags associated with the words, you can also analyze this by combining the lemma and POS columns\n",
        "\n",
        "### More\n",
        "* Now that we have POS classes, we can also focus on specific kinds of words. So let's count the most frequent lemmas for\n",
        "  * Nouns (NOUN)\n",
        "  * Verbs (VERB)\n",
        "  * Proper nouns (PROPR)\n",
        "* Which POS class words provide in your opinion the most interesting results?"
      ],
      "metadata": {
        "id": "xx16JAjMekGi"
      }
    },
    {
      "cell_type": "markdown",
      "source": [
        "\n",
        "## Exercise 2\n",
        "\n",
        "With a python wrapper we can print only the tweets that match the content and time of our query. \n",
        "\n",
        "Here's an example:\n",
        "\n",
        "`! zcat covidtweets.conllu.gz | python3 ../scripts/read_conllu_docs.py --text \"Covid\" --time \"2020\" `\n",
        "\n",
        "Both options match any string in the respective metadatalines, so `--time \"2021\"` and `\"2021-02\" `are both valid options.\n",
        "\n",
        "Also, the --text option normalises everything to lower case, `so --text \"TWEET\"` matches any upper / lower case versions.\n",
        "\n",
        "\n",
        "\n",
        "---\n",
        "\n",
        "Let's focus on tweets that mention specific persons. At least the prime minister @MarinSanna is mentioned frequently, so let's try her. How could you first fetch just the tweets that mention her? Direct those tweets to a file.\n",
        "\n",
        "How many tweets does this file have? How are they distributed over time? What would be a reasonable way to analyze the distribution - the time stamps are quite detailed and not equally distributed? \n",
        "\n",
        "Let's try to compare the contents of tweets mentioning @MarinSanna at different periods of time. Ideally, we would have a sufficient number of tweets to compare, representing different time spots of the crisis.\n",
        "\n",
        "Gather the tweets to be compared, and analyze possible differences in terms of frequent words. Which POS classes provide the most interpretable results? If any? Can you see some differences that could be related to the different periods in the crisis and events that took place?\n",
        "\n",
        "When you find interesting words that could reflect some events, remember to analyze tweets with those words to check if the words are used like you anticipated.\n",
        "\n",
        "If you have time left after this, you can try with different politicians or other handles. For instance, @THL_org seems quite frequent - what is it and what do twitters tweet about it?\n"
      ],
      "metadata": {
        "id": "HqM6zOsRq4jN"
      }
    }
  ]
}