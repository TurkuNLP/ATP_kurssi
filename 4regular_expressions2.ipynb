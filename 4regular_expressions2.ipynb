{
 "cells": [
  {
   "cell_type": "markdown",
   "metadata": {},
   "source": [
    "# Säännölliset lausekkeet / regular expressions\n",
    "\n",
    "- Merkkijonokieli, joka voi vastata tai olla vastaamatta toista merkkijonoa\n",
    "\n",
    "    - Näppärä etsimiseen, korvaamiseen, monen tiedoston samanaikaiseen ajamiseen...\n",
    "    \n",
    "    - Huom! Saattavat vähän vaihdella eri kielissä, eil esim. bashin eli komentorivin ja perl-komennon välillä voi olla joitain eroja. Ei välitetä siitä.\n",
    "    \n",
    "    - Erilaisia operaattoreita:\n",
    "    \n",
    "    - ^ --> merkkijonon / rivin alku\n",
    "    \n",
    "    -  $ --> merkkijonon / rivin loppu\n",
    "    \n",
    "    - ^$ --> tyhjä rivi (kätevä eritoten grep -v:n kanssa!)\n",
    "    \n",
    "    - . --> mikä tahansa merkki\n",
    "    \n",
    "    - | --> vaihtoehto\n",
    "    \n",
    "    - \\* --> match 0 kertaa tai useammin\n",
    "    \n",
    "    - \\+ --> match 1 kerran tai useammin\n",
    "    \n",
    "    - \\? --> match 0 tai 1 kertaa\n",
    "    \n",
    "    - a{m}  m kertaa a\n",
    "    \n",
    "    - a{m,}\tainakin m kertaa a\n",
    "\n",
    "    - a{m,n} m-n kertaa a\n",
    "    \n",
    "    - [] --> ryhmä, esim. [A-ZÅÄÖa-zÅÄÖ] --> kaikki kirjaimet, [0-9] --> kaikki numerot\n",
    "    \n",
    "    - tr -komento on usein tässä aika näppärä, ks. man-sivut tai http://ss64.com/bash/tr.html \n",
    "\n",
    "    - perl-ohjeita: https://www.cs.tut.fi/~jkorpela/perl/regexp.html\n",
    "  \n",
    "    - HUOM! Kun säännöllisiä lausekkeita käyttää grepin kanssa, kannattaa liittää joko vipu -E tai käyttää komentoa egrep\n",
    "   "
   ]
  },
  {
   "cell_type": "code",
   "execution_count": null,
   "metadata": {
    "collapsed": true
   },
   "outputs": [],
   "source": [
    "# Näin ollen edellä tehty välimerkkien deletointikin onnistuu helpommin:\n",
    "\n",
    "cat t.txt | perl -pe 's/\\.|,|\\?|!//g' |less\n",
    "\n",
    "# samaa voi käyttää egrepillä: cat t.txt | egrep \"\\.|,\"\n",
    "\n",
    "# lisäksi voidaan muuttaa isot kirjaimet pieniksi, jolloin frekvenssilistasta tulee vielä parempi\n",
    "\n",
    "cat t.txt | tr [:upper:] [:lower:]\n",
    "\n",
    "# ääkköset hoituvat seuraavalla komennolla:\n",
    "sed -e's/.*/\\L&/' t.txt"
   ]
  },
  {
   "cell_type": "markdown",
   "metadata": {},
   "source": [
    "# Tehtävä\n",
    "\n",
    "Laske gutenberg-tiedoston kaikkien sanojen frekvenssit näin fiinimmin!"
   ]
  },
  {
   "cell_type": "markdown",
   "metadata": {},
   "source": [
    "# Lisää säännöllisistä lausekkeista\n",
    "\n",
    "- Toisto-operaattoreilla *, + ja ? pystyy etsimään monimutkaisempia vaihtoehtoisia merkkijonoja yhdellä haulla\n",
    "\n",
    "- Esim. grep \"ab*a\" -->\n",
    "abbbbbbba\n",
    "abbba\n",
    "abba\n",
    "aba\n",
    "aa\n",
    "\n",
    "- mutta ei\n",
    "acccca\n",
    "bba\n",
    "\n",
    "\n",
    "- grep ab?a\n",
    "\n",
    "aba\n",
    "aa\n",
    "\n",
    "- mutta ei:\n",
    "\n",
    "abbbbbbbbbbbbbbbbba\n",
    "abbba\n",
    "abba\n",
    "acccca\n",
    "bba\n",
    "\n",
    "- grep ab+a\n",
    "\n",
    "abbba\n",
    "aba\n",
    "abbbba\n",
    "\n",
    "- mutta ei\n",
    "\n",
    "aa\n"
   ]
  },
  {
   "cell_type": "markdown",
   "metadata": {},
   "source": [
    "# Tehtävä säännöllisillä lausekkeilla\n",
    "\n",
    "- Hae tiedosto s24_lines.txt kansiosta mavela/regex-hakemisto/ \n",
    "\n",
    "- Kuinka monella rivillä ei ole huuto- eikä kysymysmerkkejä?\n",
    "\n",
    "- Kuinka monella rivillä on yksi tai useampi huutomerkki? Entä useampi kuin yksi huutomerkki? Entä ainakin 10 huuto- tai kysymysmerkkiä?\n",
    "\n",
    "- Entä huuto- ja kysymysmerkkien yhdistelmiä? Näitä voi löytää monilla eri tavoilla.\n",
    "\n",
    "- Ekstra: Mikä on pisin jono joko huuto- tai kysymysmerkkejä tai niiden yhdistelmiä, jonka löydät?\n",
    "\n"
   ]
  },
  {
   "cell_type": "markdown",
   "metadata": {},
   "source": [
    "# Ekstratehtävä\n",
    "\n",
    "- Koita tehtä komento, joka pilkkoo jokaisen virkkeen omalle rivilleen mahdollisimman tehokkaasti.\n",
    "\n",
    "# Toinen ekstratehtävä\n",
    "\n",
    "- Säännöllisten lausekkeiden avulla tviiteistä saa ilman bugeja etsittyä ainoastaan tietynkieliset. Koita!"
   ]
  }
 ],
 "metadata": {
  "kernelspec": {
   "display_name": "Bash",
   "language": "bash",
   "name": "bash"
  },
  "language_info": {
   "codemirror_mode": "shell",
   "file_extension": ".sh",
   "mimetype": "text/x-sh",
   "name": "bash"
  }
 },
 "nbformat": 4,
 "nbformat_minor": 0
}
