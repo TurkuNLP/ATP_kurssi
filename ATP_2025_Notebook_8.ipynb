{
  "nbformat": 4,
  "nbformat_minor": 0,
  "metadata": {
    "colab": {
      "provenance": [],
      "include_colab_link": true
    },
    "kernelspec": {
      "name": "python3",
      "display_name": "Python 3"
    },
    "language_info": {
      "name": "python"
    }
  },
  "cells": [
    {
      "cell_type": "markdown",
      "metadata": {
        "id": "view-in-github",
        "colab_type": "text"
      },
      "source": [
        "<a href=\"https://colab.research.google.com/github/TurkuNLP/ATP_kurssi/blob/master/ATP_2025_Notebook_8.ipynb\" target=\"_parent\"><img src=\"https://colab.research.google.com/assets/colab-badge.svg\" alt=\"Open In Colab\"/></a>"
      ]
    },
    {
      "cell_type": "markdown",
      "metadata": {
        "id": "Hbk7qSCj1OQr"
      },
      "source": [
        "## Topics of this notebook:\n",
        "\n",
        "* Thu 20 Nov 2025 08:30-10:00\n",
        "  * Connecting to a server\n",
        "  * Directory structure on the server\n",
        "  * Creating folders and files and browsing them\n",
        "  * Copying, renaming, moving and removing files and folders\n",
        "* Mon 24 Nov 2025 10:00-12:00\n",
        "  * Recap of the previous lecture\n",
        "  * Scripts, stdin/stdout, arguments\n",
        "\n",
        "\n",
        "\n",
        "\n",
        "\n",
        "\n",
        "\n"
      ]
    },
    {
      "cell_type": "markdown",
      "source": [
        "###Course server\n",
        "\n",
        "* We will now start using a Linux server with a command line! No more Colab!\n",
        "* The course server address is `fip-193-166-24-207.kaj.poutavm.fi`\n",
        "* Connecting to the server:\n",
        "  * In Windows it is best to use a special program, such as PuTTY, which can be installed freely (https://www.chiark.greenend.org.uk/~sgtatham/putty/latest.html) (you CAN also use OpenSSH if you know what you're doing, otherwise just use PuTTY)\n",
        "  * On Linux / Mac machines, you have a Terminal from which you can `ssh` to the server with `ssh USERNAME@fip-193-166-24-207.kaj.poutavm.fi`\n",
        "\n",
        "* Your username is your UTU username\n",
        "* Your password is given to you during class\n",
        "* If you forget your username or password, email the teachers"
      ],
      "metadata": {
        "id": "hhrQg5gvMolS"
      }
    },
    {
      "cell_type": "markdown",
      "metadata": {
        "id": "iimt0tL91-dM"
      },
      "source": [
        "### Change your password when you first log in to the server\n",
        "* The command for this is `passwd`\n",
        "* Note that **you can't see the password** when typing it!"
      ]
    },
    {
      "cell_type": "markdown",
      "source": [
        "## File system\n",
        "\n",
        "* The Linux server has **folders and subfolders** similarly to any (Windows or other) computer\n",
        "* NB: folder and directory mean practically the same thing (there is a technical difference, but we don't have to care about it :) )\n",
        "* Each user has their own **home directory** (and possible subdirectories)\n",
        "![Directory Structure](https://raw.githubusercontent.com/TurkuNLP/ATP_kurssi/refs/heads/master/directory_structure3.png)\n",
        "* Extra: more explanations about filesystems: http://unix.stackexchange.com/questions/89114/what-does-the-jargon-filesystem-mean\n",
        "\n",
        "*  **Paths** (the *route* from folder A to folder B, or the *location* of a folder or file) are essential, e.g.:\n",
        "\n",
        "  `folder/subfolder/subsubfolder`\n",
        "\n",
        "  `home/folder/subfolder/file.txt`\n",
        "\n",
        "* Paths can be eiter\n",
        "  * relative to where you are\n",
        "  `../sibling_folder/file.txt`\n",
        "  * or absolute, always relative to root: `/home/ankrris/folder/file.txt`\n",
        "\n",
        "* `pwd` prints the absolute path of the current folder you are in.\n",
        "\n",
        "* `cd` for moving between directories\n",
        "  * Upwards: `cd ..` Note the **space**!\n",
        "  * Downwards: `cd folder`\n",
        "  * Upwards and then downwards: `cd ../anotherfolder`\n",
        "* Back to home directory: `cd ~` or just `cd`"
      ],
      "metadata": {
        "id": "zf1Iqswm-Re-"
      }
    },
    {
      "cell_type": "markdown",
      "source": [
        "###Creating folders and files\n",
        "\n",
        "**Folders**\n",
        "\n",
        "Create a folder: `mkdir myfolder`\n",
        "\n",
        "\n",
        "**Files**\n",
        "\n",
        "To create a file, you need to use a **text editor** such as emacs or nano. To create a file, you simply type\n",
        "\n",
        "`nano myfile.txt`\n",
        "\n",
        "or\n",
        "\n",
        "`emacs myfile.txt`\n",
        "\n",
        "These commands (create and) open a file you can edit."
      ],
      "metadata": {
        "id": "G66_k3Rr-b-l"
      }
    },
    {
      "cell_type": "markdown",
      "source": [
        "**Note 1: Saving and exiting the text editors**\n",
        "\n",
        "**nano**\n",
        "\n",
        "In nano you find these commands inside the editor. `^` stands for ctrl, so:\n",
        "\n",
        "* to **exit** nano, press control+x\n",
        "* to **save** in nano, press control+o, then write the filename you want to save as, then press enter\n",
        "\n",
        "**emacs**\n",
        "\n",
        "In emacs you have to remember the commands:\n",
        "\n",
        "* to **exit** emacs, press control+x control+c\n",
        "* to **save** press control+s control+c\n"
      ],
      "metadata": {
        "id": "K6PJBW4W-lNX"
      }
    },
    {
      "cell_type": "markdown",
      "source": [
        "**Note 2: File and folder names**\n",
        "\n",
        "When naming the files (or directories/folders), do **not** use spaces or full stops (e.g., `my.file.txt` or `my file.txt` will just make things difficult for everyone). Instead, use underscore (`my_file.txt`), hyphen (`my-file.txt`) or camel case (`myFile.txt`) or write everything as one word (`myfile.txt`). This is good practice and will prevent many problems."
      ],
      "metadata": {
        "id": "wA2hqLoA-qkm"
      }
    },
    {
      "cell_type": "markdown",
      "metadata": {
        "id": "1qarfvipy3HP"
      },
      "source": [
        "### Browsing text files\n",
        "* `cat`, `head`, `tail`\n",
        "* `less` is useful to browse a file (`q` takes you away from less)\n",
        "* `less` is also useful at the end of pipes to see what you got e.g.\n",
        "\n",
        "    `cat file.txt | egrep \"cool\" | less`\n"
      ]
    },
    {
      "cell_type": "markdown",
      "metadata": {
        "id": "oCC1YQOxzbdK"
      },
      "source": [
        "\n",
        "\n",
        "\n",
        "\n",
        "\n",
        "---------\n",
        "### Copying, moving and removing files\n",
        "**Copying**\n",
        "* Downwards:\n",
        "\n",
        "  `cp file.txt folder/`\n",
        "* Upwards:\n",
        "\n",
        "  ` cp file.txt ../`\n",
        "* In this context, the single dot (.) in the end means the working directory (the one you're in at the moment):\n",
        "\n",
        "  `cp ../file.txt .`\n",
        "\n",
        "  The command above can be read as \"copy from the folder above (`../`) `file.txt` to this location/folder where I am now\".\n",
        "\n",
        "* Copy to a new file (cf. save as); results in two files (the original and its copy):\n",
        "\n",
        "  ` cp file.txt file1.txt`\n",
        "\n",
        "* Copying to a new file and moving the copy:\n",
        "\n",
        "  `cp file.txt folder/file1.txt`\n",
        "\n",
        "**Moving**\n",
        "* Downwards:\n",
        "\n",
        " `mv file.txt folder/`\n",
        "* Upwards:\n",
        "\n",
        "  ` mv file.txt ../`\n",
        "\n",
        "* Renaming; results in one file (the original which is moved):\n",
        "\n",
        "  ` mv file.txt file1.txt`\n",
        "\n",
        "* Renaming and moving:\n",
        "\n",
        "  ` mv file.txt ../file1.txt`\n",
        "\n",
        "\n",
        "**Removing**\n",
        "\n",
        "* To remove a file:\n",
        "\n",
        "`rm file.txt`\n",
        "\n",
        "* To remove a folder (NB! Will only reove the folder if it is empty):\n",
        "\n",
        "`rmdir foldername`\n",
        "\n",
        "\n",
        "**!!!** The environment will **NOT** ask \"Are you sure you want to delete the file/folder?\" **!!!**\n",
        "\n",
        "**!!!** Also, there is no trash can, so the file will be gone forever. **!!!**\n",
        "\n",
        "So be careful!\n",
        "\n"
      ]
    },
    {
      "cell_type": "markdown",
      "source": [
        "### **Hands-on 8-1**\n",
        "\n",
        "1.1 Make sure you can log in to the server.\n",
        "\n",
        "1.2 Create a directory called `My_directory` to your home folder\n",
        "\n",
        "1.3 Create a file called `myfile.txt` in the folder you just created. Try to write something to it using a text editor.\n",
        "\n",
        "1.4 Make a copy of `myfile.txt` and rename it as `backup-of-myfile.txt`\n",
        "\n",
        "1.5 Download (`wget`) a file from Gutenberg (https://gutenberg.org/) and browse it with different methods: `head, tail, cat, less`. Note the differences!\n",
        "\n",
        "  ... And note that **text editors are not great for browsing larger files**, so avoid that!\n",
        "\n",
        "1.6 Finally, remove all files and directories you created during this exercise. You can check with `ls` if you succeeded!"
      ],
      "metadata": {
        "id": "e9pA1uaMBbsd"
      }
    },
    {
      "cell_type": "markdown",
      "source": [
        "----\n",
        "----"
      ],
      "metadata": {
        "id": "4qKXbcORTo_B"
      }
    },
    {
      "cell_type": "markdown",
      "source": [
        "## Scripts\n",
        "\n",
        "* Long command combinations can become complicated.\n",
        "* The commands can be saved in a script that can then be executed instead of typing the individual commands on command line\n",
        "*   Scripts are useful in that they save the commands also for later use\n",
        "\n",
        "\n",
        "\n",
        "###  Script file\n",
        "\n",
        "* Bash script files should have the ending\n",
        "  \n",
        "  `.sh`\n",
        "* Bash scripts should start with\n",
        "\n",
        "  ` #!/bin/bash`\n",
        "* They can be executed by\n",
        "\n",
        "  `./script.sh`\n",
        "\n",
        "* **Important**: you need to add **executing permissions** to your script.\n",
        "\n",
        "  `chmod a+x script.sh`\n",
        "\n",
        "### Script input and output using a pipe\n",
        "\n",
        "* **Feeding data from standard input / saving from standard output**\n",
        "\n",
        "  First print the file to stdout with `cat`, then the use **pipe** to give that data to the script, and finally direct the output to a new file:\n",
        "  \n",
        "  `cat input.txt | ./script.sh > output.txt`\n",
        "\n",
        "  The script file itself may look something like this:\n",
        "\n",
        "  ```\n",
        "  #!/bin/bash\n",
        "  egrep \"cat\" | wc -l\n",
        "  ```\n",
        "\n",
        "  or like this (each part of the pipe on a separate row):\n",
        "  \n",
        "  ```\n",
        "  #!/bin/bash\n",
        "  egrep \"cat\" |\n",
        "      wc -l\n",
        "  ```\n",
        "  **N.B.** The script can feature comments (#):\n",
        "  ```\n",
        "  #!/bin/bash\n",
        "  egrep \"cat\" |  # here you can write comments\n",
        "      wc -l  # the hashtag marks them as comments and not executable code\n",
        "  ```\n",
        "\n",
        "  When the script is executed, the commands in the script file are run on the data file, as in a corresponding command:\n",
        "\n",
        "  `cat input.txt | egrep \"cat\" | wc -l`\n",
        "\n",
        "\n",
        "* **Arguments**\n",
        "\n",
        "  `./script.sh input.txt`\n",
        "  \n",
        "  `./script.sh input.txt > output.txt`\n",
        "\n",
        "  When using arguments, the execute command `./script.sh` is always typed first and then the arguments follow that (in this case the filename `input.txt`). **No pipes** are used.\n",
        "\n",
        "  Arguments (such as `input.txt` above) are referred to with `$1`, `$2`, etc. inside the script file.\n",
        "\n",
        "  Say we have a script called `script.sh` that counts the lines in a file:\n",
        "  ```\n",
        "  #!/bin/bash\n",
        "  $1 | wc -l\n",
        "  ```\n",
        "\n",
        "  The `$1` refers to the first argument given with the execute command (our data file `input.txt`).\n",
        "\n",
        "  Then we run the script with the execute command and provide our data file `input.txt` as an argument to it (i.e. in this case the file the script should be run on):\n",
        "  \n",
        "  `./script.sh input.txt`\n",
        "  \n",
        "  When running the script, Bash understands that `$1` refers to the first argument in the execute command, i.e. our data file `input.txt`, and reads it in in the correct place, as in a corresponding command\n",
        "\n",
        "  `input.txt | wc -l`\n",
        "\n",
        "  There can be several arguments, and these get running numbering (`$1`, `$2`, `$3` and so on in the script).\n",
        "\n",
        "  E.g. if we have a script that greps different tokens `script_tokens.sh`, we could give the token to be grepped (e.g. `\"cat\"`) as the second argument:\n",
        "\n",
        "  `./script_tokens.sh input.txt \"cat\"`\n",
        "\n",
        "  In the script file `script_tokens.sh` the script could look as follows:\n",
        "  ```\n",
        "  #!/bin/bash\n",
        "  $1 |\n",
        "    egrep $2\n",
        "  ```\n",
        "\n",
        "  and Bash would know to read the `input.txt` file as the first argument and `\"cat\"` as the second argument, as in a corresponding command\n",
        "\n",
        "  `input.txt | egrep \"cat\"`\n",
        "\n",
        "**Summary**\n",
        "\n",
        "*   Using **standard input/output** with a pipe may be more familiar to you than using arguments, but arguments can be very useful!\n",
        "*   Using **arguments** might seem a bit more tedious with the `$` signs within the script and the arguments needed on the command line when executing. However, using arguments gives more flexibility if you have (several) variables you want to change in the script. Remember, though, that you **don't need to use pipes** when running `.sh` scripts with arguments.\n",
        "*   All in all, scripts are useful in that you can **use the same command multiple times on several files** without having to type the (long) command over and over again. By using scripts you also **minimize the risk for typos and errors** which you face more easily when typing a command several times.\n",
        "\n",
        "\n",
        "\n",
        "\n"
      ],
      "metadata": {
        "id": "QvHDy26bvBSK"
      }
    },
    {
      "cell_type": "markdown",
      "source": [
        "### **Hands-on 8-2**\n",
        "\n",
        "2.1 Make a script that counts **how many words** a file has.\n",
        "  * For data, you can fetch any file from the folder `/home/mavela/data-2022`\n",
        "  * Remember that with `ls /home/mavela/data-2022` you can list the contents of the folder so you can decide which one to fetch\n",
        "  * The script should take the file from **standard input** (use a pipe)\n",
        "  * Many of the files are quite messy. You can first make a script that counts all the words of the file, and then refine it to count only actual text in the file\n",
        "\n",
        "2.2 **ADVANCED!**\n",
        "* Make a script that downloads a Gutenberg book and prints a clean word frequency list (to standard output or to a file)\n",
        "* Note that `wget -O` allows you to name the downloaded file as you like\n",
        "\n"
      ],
      "metadata": {
        "id": "zhYcr7xRwrUq"
      }
    },
    {
      "cell_type": "code",
      "source": [
        "! wget -O \"MYFILE.txt\" https://www.gutenberg.org/files/84/84-0.txt"
      ],
      "metadata": {
        "id": "kFtyFlxOwz3J"
      },
      "execution_count": null,
      "outputs": []
    }
  ]
}