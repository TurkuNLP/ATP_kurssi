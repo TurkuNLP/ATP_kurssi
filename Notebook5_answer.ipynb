{
  "nbformat": 4,
  "nbformat_minor": 0,
  "metadata": {
    "colab": {
      "name": "Notebook5_answer.ipynb",
      "provenance": [],
      "authorship_tag": "ABX9TyPE+NUx+XtzbfDS9lRovwwy",
      "include_colab_link": true
    },
    "kernelspec": {
      "name": "python3",
      "display_name": "Python 3"
    },
    "language_info": {
      "name": "python"
    }
  },
  "cells": [
    {
      "cell_type": "markdown",
      "metadata": {
        "id": "view-in-github",
        "colab_type": "text"
      },
      "source": [
        "<a href=\"https://colab.research.google.com/github/TurkuNLP/ATP_kurssi/blob/master/Notebook5_answer.ipynb\" target=\"_parent\"><img src=\"https://colab.research.google.com/assets/colab-badge.svg\" alt=\"Open In Colab\"/></a>"
      ]
    },
    {
      "cell_type": "code",
      "metadata": {
        "id": "JmQgiiU07xBN"
      },
      "source": [
        ""
      ],
      "execution_count": null,
      "outputs": []
    },
    {
      "cell_type": "markdown",
      "metadata": {
        "id": "WmQib6UR7xub"
      },
      "source": [
        "### Exercise with tweets\n",
        "\n",
        "* The *cut* command is useful for handling data in colums\n",
        "* *cut* specifies the column to be used (by default columns are separated by a tab)\n",
        "* `! cat tweets_en_nort.csv | cut -f 5` prints the 5th column\n",
        "\n",
        "Let's use tweets_en_nort.csv\n",
        "\n",
        "* What are the most frequent user names, in column 5?\n",
        "* Column 3 has the actual tweet texts. Focus on these. Examine the most frequent words. \n",
        "* You'll see that the texts have a lot of hashtags\n",
        "* What are the most frequent hashtags in the texts? \n",
        "* What are about mentions (starting with @)\n",
        "--------------------------\n",
        "* The tweet time stamps are in column 14. When are the tweets published?\n",
        "\n",
        "* Advanced: the tweets have a lot of different Je suis X variations. How could you get the most frequent Xs?\n",
        "\n",
        "Note: if you want to have Xs futher than the next word, you need some tricks. I simply made a regex to split \"sentences\" to lines and decided that anything after \"je suis\" in the same \"sentence\" is the X.\n",
        "\n",
        "Note 2: tr is nice, but sometimes the similar functionality works better with a small perl script: perl -pe 's/ORIGINAL/REPLACED/g'"
      ]
    },
    {
      "cell_type": "code",
      "metadata": {
        "id": "C3709f7A8eJJ"
      },
      "source": [
        "! git clone https://github.com/TurkuNLP/ATP_kurssi.git\n",
        "%cd ATP_kurssi"
      ],
      "execution_count": null,
      "outputs": []
    },
    {
      "cell_type": "code",
      "metadata": {
        "id": "5B3n3JXgnygN"
      },
      "source": [
        "! cat tweets_en_nort.csv | egrep -v \"^$\" | wc -l # to check empty lines"
      ],
      "execution_count": null,
      "outputs": []
    },
    {
      "cell_type": "code",
      "metadata": {
        "id": "m8_sEmRm8iQI"
      },
      "source": [
        "# What are the most frequent user names, in column 5?\n",
        "! cat tweets_en_nort.csv | cut -f 5 | egrep -v \"^$\" | sort | uniq -c | sort -rn | head -15"
      ],
      "execution_count": null,
      "outputs": []
    },
    {
      "cell_type": "code",
      "metadata": {
        "id": "yfQSUfmx8u35"
      },
      "source": [
        "# Column 3 has the actual tweet texts. Focus on these. Examine the most frequent words.\n",
        "! cat tweets_en_nort.csv | cut -f 3 | tr ' ' '\\n' | tr '[[:upper:]]' '[[:lower:]]' | sort | uniq -c | sort -rn | head -25"
      ],
      "execution_count": null,
      "outputs": []
    },
    {
      "cell_type": "code",
      "metadata": {
        "id": "1pY-Hs2e9K1y"
      },
      "source": [
        "! cat tweets_en_nort.csv | cut -f 3 | tr ' ' '\\n' | tr '[[:upper:]]' '[[:lower:]]' | egrep \"^#\" |  sort | uniq -c | sort -rn | head -15"
      ],
      "execution_count": null,
      "outputs": []
    },
    {
      "cell_type": "code",
      "metadata": {
        "id": "rLpc1nSh9UWa"
      },
      "source": [
        "! cat tweets_en_nort.csv | cut -f 3 | tr ' ' '\\n' | tr '[[:upper:]]' '[[:lower:]]' | egrep \"^@\" | sort | uniq -c | sort -rn | head -15"
      ],
      "execution_count": null,
      "outputs": []
    },
    {
      "cell_type": "code",
      "metadata": {
        "id": "f7UGZYO-9ZlZ"
      },
      "source": [
        "! cat tweets_en_nort.csv | cut -f 14 | egrep -v \"^$\" | sort | uniq -c | sort -rn | head -20"
      ],
      "execution_count": null,
      "outputs": []
    },
    {
      "cell_type": "code",
      "metadata": {
        "id": "VC0pMVuOr-S1"
      },
      "source": [
        "! cat tweets_en_nort.csv | egrep \"Wed Jan 14 14:51:56 \\+0000 2015\" | head -5"
      ],
      "execution_count": null,
      "outputs": []
    },
    {
      "cell_type": "markdown",
      "metadata": {
        "id": "4NHEn1ql7x3r"
      },
      "source": [
        ""
      ]
    }
  ]
}