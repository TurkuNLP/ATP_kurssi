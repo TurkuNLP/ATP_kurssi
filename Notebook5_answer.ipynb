{
  "nbformat": 4,
  "nbformat_minor": 0,
  "metadata": {
    "colab": {
      "name": "Notebook5_answer.ipynb",
      "provenance": [],
      "authorship_tag": "ABX9TyMBeOO8w+YuSropV42z3Sv1",
      "include_colab_link": true
    },
    "kernelspec": {
      "name": "python3",
      "display_name": "Python 3"
    },
    "language_info": {
      "name": "python"
    }
  },
  "cells": [
    {
      "cell_type": "markdown",
      "metadata": {
        "id": "view-in-github",
        "colab_type": "text"
      },
      "source": [
        "<a href=\"https://colab.research.google.com/github/TurkuNLP/ATP_kurssi/blob/master/Notebook5_answer.ipynb\" target=\"_parent\"><img src=\"https://colab.research.google.com/assets/colab-badge.svg\" alt=\"Open In Colab\"/></a>"
      ]
    },
    {
      "cell_type": "code",
      "metadata": {
        "id": "JmQgiiU07xBN"
      },
      "source": [
        ""
      ],
      "execution_count": null,
      "outputs": []
    },
    {
      "cell_type": "markdown",
      "metadata": {
        "id": "WmQib6UR7xub"
      },
      "source": [
        "### Exercise with tweets\n",
        "\n",
        "* The *cut* command is useful for handling data in colums\n",
        "* *cut* specifies the column to be used (by default columns are separated by a tab)\n",
        "* `! cat tweets_en_nort.csv | cut -f 5` prints the 5th column\n",
        "\n",
        "Let's use tweets_en_nort.csv\n",
        "\n",
        "* What are the most frequent user names, in column 5?\n",
        "* Column 3 has the actual tweet texts. Focus on these. Examine the most frequent words. \n",
        "* You'll see that the texts have a lot of hashtags\n",
        "* What are the most frequent hashtags in the texts? \n",
        "* What are about mentions (starting with @)\n",
        "--------------------------\n",
        "* The tweet time stamps are in column 14. When are the tweets published?\n",
        "\n",
        "* Advanced: the tweets have a lot of different Je suis X variations. How could you get the most frequent Xs?\n",
        "\n",
        "Note: if you want to have Xs futher than the next word, you need some tricks. I simply made a regex to split \"sentences\" to lines and decided that anything after \"je suis\" in the same \"sentence\" is the X.\n",
        "\n",
        "Note 2: tr is nice, but sometimes the similar functionality works better with a small perl script: perl -pe 's/ORIGINAL/REPLACED/g'"
      ]
    },
    {
      "cell_type": "code",
      "metadata": {
        "colab": {
          "base_uri": "https://localhost:8080/"
        },
        "id": "C3709f7A8eJJ",
        "outputId": "6d8feab6-0b0c-4e1c-ca15-f6e9f94597c8"
      },
      "source": [
        "! git clone https://github.com/TurkuNLP/ATP_kurssi.git\n",
        "%cd ATP_kurssi"
      ],
      "execution_count": 1,
      "outputs": [
        {
          "output_type": "stream",
          "name": "stdout",
          "text": [
            "Cloning into 'ATP_kurssi'...\n",
            "remote: Enumerating objects: 389, done.\u001b[K\n",
            "remote: Counting objects: 100% (156/156), done.\u001b[K\n",
            "remote: Compressing objects: 100% (148/148), done.\u001b[K\n",
            "remote: Total 389 (delta 82), reused 25 (delta 7), pack-reused 233\u001b[K\n",
            "Receiving objects: 100% (389/389), 19.91 MiB | 12.57 MiB/s, done.\n",
            "Resolving deltas: 100% (211/211), done.\n",
            "/content/ATP_kurssi\n"
          ]
        }
      ]
    },
    {
      "cell_type": "code",
      "metadata": {
        "colab": {
          "base_uri": "https://localhost:8080/"
        },
        "id": "m8_sEmRm8iQI",
        "outputId": "d57ef7a9-dec1-452f-82d1-057389364443"
      },
      "source": [
        "# What are the most frequent user names, in column 5?\n",
        "! cat tweets_en_nort.csv | cut -f 5 | sort | uniq -c | sort -rn | head -5"
      ],
      "execution_count": 2,
      "outputs": [
        {
          "output_type": "stream",
          "name": "stdout",
          "text": [
            " 230691 \n",
            "   3532 jesuischarlie_\n",
            "   3479 Promo_Culturel\n",
            "   2682 BotCharlie\n",
            "   1926 russfeed\n"
          ]
        }
      ]
    },
    {
      "cell_type": "code",
      "metadata": {
        "colab": {
          "base_uri": "https://localhost:8080/"
        },
        "id": "yfQSUfmx8u35",
        "outputId": "3300f495-7184-4739-84be-03526ad74d9e"
      },
      "source": [
        "# Column 3 has the actual tweet texts. Focus on these. Examine the most frequent words.\n",
        "! cat tweets_en_nort.csv | cut -f 3 | tr ' ' '\\n' | tr '[[:upper:]]' '[[:lower:]]' | sort | uniq -c | sort -rn | head -5"
      ],
      "execution_count": 5,
      "outputs": [
        {
          "output_type": "stream",
          "name": "stdout",
          "text": [
            " 327811 of\n",
            " 230691 \n",
            " 205778 #jesuischarlie\n",
            " 149074 the\n",
            " 100245 islamic\n"
          ]
        }
      ]
    },
    {
      "cell_type": "code",
      "metadata": {
        "colab": {
          "base_uri": "https://localhost:8080/"
        },
        "id": "1pY-Hs2e9K1y",
        "outputId": "3ef3b1d1-a677-4836-b087-28ba0c1e6554"
      },
      "source": [
        "! cat tweets_en_nort.csv | cut -f 3 | tr ' ' '\\n' | tr '[[:upper:]]' '[[:lower:]]' | egrep \"^#\" | sort | uniq -c | sort -rn | head -5"
      ],
      "execution_count": 6,
      "outputs": [
        {
          "output_type": "stream",
          "name": "stdout",
          "text": [
            " 205778 #jesuischarlie\n",
            "  99676 #letter4all\n",
            "  99648 #letter4u\n",
            "  91860 #paris\n",
            "  14662 #charliehebdo\n"
          ]
        }
      ]
    },
    {
      "cell_type": "code",
      "metadata": {
        "colab": {
          "base_uri": "https://localhost:8080/"
        },
        "id": "rLpc1nSh9UWa",
        "outputId": "c9c23d0d-9499-4216-9db7-b9efe3238129"
      },
      "source": [
        "! cat tweets_en_nort.csv | cut -f 3 | tr ' ' '\\n' | tr '[[:upper:]]' '[[:lower:]]' | egrep \"^@\" | sort | uniq -c | sort -rn | head -5"
      ],
      "execution_count": 7,
      "outputs": [
        {
          "output_type": "stream",
          "name": "stdout",
          "text": [
            "  10228 @khamenei_ir\n",
            "   1186 @youtube\n",
            "    555 @charlie_hebdo_\n",
            "    453 @\n",
            "    245 @cnn\n"
          ]
        }
      ]
    },
    {
      "cell_type": "code",
      "metadata": {
        "colab": {
          "base_uri": "https://localhost:8080/"
        },
        "id": "f7UGZYO-9ZlZ",
        "outputId": "abeec6fb-8313-4d3c-e4e1-0e69929c3d7b"
      },
      "source": [
        "! cat tweets_en_nort.csv | cut -f 14 | tr '[[:upper:]]' '[[:lower:]]'  | sort | uniq -c | sort -rn | head -20"
      ],
      "execution_count": 9,
      "outputs": [
        {
          "output_type": "stream",
          "name": "stdout",
          "text": [
            " 230721 \n",
            "     28 wed jan 14 14:51:56 +0000 2015\n",
            "     21 wed jan 14 17:10:05 +0000 2015\n",
            "     20 wed mar 11 20:14:17 +0000 2015\n",
            "     19 wed jan 14 01:12:12 +0000 2015\n",
            "     16 tue jan 13 14:30:14 +0000 2015\n",
            "     15 sun jan 18 15:38:10 +0000 2015\n",
            "     15 sun jan 18 15:38:09 +0000 2015\n",
            "     14 sun jan 18 15:38:08 +0000 2015\n",
            "     13 tue jan 13 14:30:12 +0000 2015\n",
            "     13 sun jan 18 15:38:07 +0000 2015\n",
            "     13 sun jan 18 15:38:05 +0000 2015\n",
            "     13 fri jan 16 22:56:03 +0000 2015\n",
            "     13 fri jan 16 14:57:12 +0000 2015\n",
            "     12 tue jan 13 14:30:11 +0000 2015\n",
            "     11 wed jan 14 17:10:04 +0000 2015\n",
            "     11 sat jan 17 06:41:43 +0000 2015\n",
            "     10 wed jan 21 02:57:07 +0000 2015\n",
            "     10 wed jan 14 04:30:55 +0000 2015\n",
            "     10 wed jan 07 23:31:17 +0000 2015\n"
          ]
        }
      ]
    },
    {
      "cell_type": "markdown",
      "metadata": {
        "id": "4NHEn1ql7x3r"
      },
      "source": [
        ""
      ]
    }
  ]
}