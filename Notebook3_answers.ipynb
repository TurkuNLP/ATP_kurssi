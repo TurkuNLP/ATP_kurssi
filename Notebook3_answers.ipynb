{
  "nbformat": 4,
  "nbformat_minor": 0,
  "metadata": {
    "colab": {
      "name": "Notebook3_answers.ipynb",
      "provenance": [],
      "authorship_tag": "ABX9TyOtFEOS8ZJ9kNzF8oeUbShF",
      "include_colab_link": true
    },
    "kernelspec": {
      "name": "python3",
      "display_name": "Python 3"
    },
    "language_info": {
      "name": "python"
    }
  },
  "cells": [
    {
      "cell_type": "markdown",
      "metadata": {
        "id": "view-in-github",
        "colab_type": "text"
      },
      "source": [
        "<a href=\"https://colab.research.google.com/github/TurkuNLP/ATP_kurssi/blob/master/Notebook3_answers.ipynb\" target=\"_parent\"><img src=\"https://colab.research.google.com/assets/colab-badge.svg\" alt=\"Open In Colab\"/></a>"
      ]
    },
    {
      "cell_type": "code",
      "metadata": {
        "id": "xSbcNGqpnSZS"
      },
      "source": [
        ""
      ],
      "execution_count": null,
      "outputs": []
    },
    {
      "cell_type": "markdown",
      "metadata": {
        "id": "RljDweXEnTUq"
      },
      "source": [
        "### Exercise\n",
        "\n",
        "Let's use the same en_one_per_line.txt file\n",
        "\n",
        "* Sort the file first by sort.\n",
        "\n",
        "* Then filter out duplicates with uniq. Print the 5 first tokens.\n",
        "\n",
        "* How many unique strings (words etc) do you have in the file?\n",
        "\n",
        "* Make a frequency list of the words. What are the 10 most frequent tokens? With\n",
        "how many occurrences?\n",
        "\n",
        "* Create a file that has a frequency list of the words.\n"
      ]
    },
    {
      "cell_type": "code",
      "metadata": {
        "id": "G5myK2OZnkT4"
      },
      "source": [
        "! git clone https://github.com/TurkuNLP/ATP_kurssi.git"
      ],
      "execution_count": null,
      "outputs": []
    },
    {
      "cell_type": "code",
      "metadata": {
        "id": "GfIC6h3NnlrD"
      },
      "source": [
        "%cd ATP_kurssi "
      ],
      "execution_count": null,
      "outputs": []
    },
    {
      "cell_type": "code",
      "metadata": {
        "id": "370SG-BfoRNb"
      },
      "source": [
        "! ls"
      ],
      "execution_count": null,
      "outputs": []
    },
    {
      "cell_type": "code",
      "metadata": {
        "id": "ImrMDZpfoYRH"
      },
      "source": [
        "! cat en_one_per_line.txt | sort # this sorts the file, let's check with head:\n",
        "! cat en_one_per_line.txt | sort | head -15"
      ],
      "execution_count": null,
      "outputs": []
    },
    {
      "cell_type": "code",
      "metadata": {
        "id": "YdwG58DToge7"
      },
      "source": [
        "! cat en_one_per_line.txt | sort | uniq # uniq then filters duplicate lines away\n",
        "! cat en_one_per_line.txt | sort | uniq | wc -l # once each unique word is per line, we can count the number of unique lines by counting simply lines\n"
      ],
      "execution_count": null,
      "outputs": []
    },
    {
      "cell_type": "code",
      "metadata": {
        "id": "91hWtiR6o36T"
      },
      "source": [
        "! cat en_one_per_line.txt | sort | uniq -c |sort -nr | head -10 # sort -rn sorts by numbers and r reverses the order --> most frequent first"
      ],
      "execution_count": null,
      "outputs": []
    },
    {
      "cell_type": "markdown",
      "metadata": {
        "id": "8ldhGlfVoJU4"
      },
      "source": [
        "#### Advanced\n",
        "* Find out (from google or smth else) what sort option can be used to reverse the sorting so that the most frequent ones come first?\n",
        "\n",
        "* Find the words that are used only once. How many such words does the data include?\n",
        "\n",
        "* Create a frequency list file from where you have filtered out words that occur only once."
      ]
    },
    {
      "cell_type": "code",
      "metadata": {
        "id": "pHggTSe-nmMP"
      },
      "source": [
        "! cat en_one_per_line.txt | sort | uniq -c |sort -nr | egrep \" 1 \" "
      ],
      "execution_count": null,
      "outputs": []
    },
    {
      "cell_type": "code",
      "metadata": {
        "id": "5EbEWvO7pjlJ"
      },
      "source": [
        "! cat en_one_per_line.txt | sort | uniq -c |sort -nr | egrep \" 1 \" |wc -l"
      ],
      "execution_count": null,
      "outputs": []
    },
    {
      "cell_type": "code",
      "metadata": {
        "id": "SWOK1j-zpeYh"
      },
      "source": [
        "! cat en_one_per_line.txt | sort | uniq -cu | wc -l # uniq -u prints only lines appearing once"
      ],
      "execution_count": null,
      "outputs": []
    },
    {
      "cell_type": "code",
      "metadata": {
        "id": "qqqU8Rl_pmxU"
      },
      "source": [
        "! cat en_one_per_line.txt | sort | uniq -c |sort -nr | egrep -v \" 1 \" > noduplicates.txt"
      ],
      "execution_count": null,
      "outputs": []
    }
  ]
}