{
  "cells": [
    {
      "cell_type": "markdown",
      "metadata": {
        "id": "view-in-github",
        "colab_type": "text"
      },
      "source": [
        "<a href=\"https://colab.research.google.com/github/TurkuNLP/ATP_kurssi/blob/master/Notebook3_answers.ipynb\" target=\"_parent\"><img src=\"https://colab.research.google.com/assets/colab-badge.svg\" alt=\"Open In Colab\"/></a>"
      ]
    },
    {
      "cell_type": "markdown",
      "metadata": {
        "id": "cVGiNOizCxMK"
      },
      "source": [
        "### Fetch data and basic statistics\n",
        "\n",
        "* Fetch the tweet file found at http://dl.turkunlp.org/atp/tweets_en_nort.csv \n",
        "* How many lines does it have? What if we remove empty lines?\n",
        "* Direct the non-empty files to a file\n",
        "* How many words does it have?\n",
        "* How does the last tweet look like? (This can be suprisingly useful when working with real data)"
      ]
    },
    {
      "cell_type": "code",
      "execution_count": null,
      "metadata": {
        "id": "f7PgobTMCqqh"
      },
      "outputs": [],
      "source": [
        "! wget http://dl.turkunlp.org/atp/tweets_en_nort.csv "
      ]
    },
    {
      "cell_type": "code",
      "execution_count": null,
      "metadata": {
        "id": "KHGdzYleDD3v"
      },
      "outputs": [],
      "source": [
        "! cat tweets_en_nort.csv | head # better have a look at what we got"
      ]
    },
    {
      "cell_type": "code",
      "execution_count": null,
      "metadata": {
        "id": "59ovl5qGEC9P"
      },
      "outputs": [],
      "source": [
        "! cat tweets_en_nort.csv | wc -l # just lines, but remember there were a lot of empty lines?\n",
        "! cat tweets_en_nort.csv | egrep -v \"^$\" | wc -l #first match anything but empty lines, then count how many lines"
      ]
    },
    {
      "cell_type": "code",
      "execution_count": null,
      "metadata": {
        "id": "TLBqz7WwEdxd"
      },
      "outputs": [],
      "source": [
        "! cat tweets_en_nort.csv | egrep -v \"^$\"  > tweets_no_empties.txt "
      ]
    },
    {
      "cell_type": "code",
      "execution_count": null,
      "metadata": {
        "id": "jObL4D9JE7Eo"
      },
      "outputs": [],
      "source": [
        "! cat tweets_no_empties.txt | wc -l # just to double-check, looks about right"
      ]
    },
    {
      "cell_type": "code",
      "execution_count": null,
      "metadata": {
        "id": "zegPPiYPFKJS"
      },
      "outputs": [],
      "source": [
        "! cat tweets_no_empties.txt | wc -w # then count the words"
      ]
    },
    {
      "cell_type": "code",
      "execution_count": null,
      "metadata": {
        "id": "Xy6VFXO9PVgM"
      },
      "outputs": [],
      "source": [
        "! cat tweets_no_empties.txt | tail -1 # the last one"
      ]
    },
    {
      "cell_type": "markdown",
      "metadata": {
        "id": "V8PbWFpAGOLe"
      },
      "source": [
        "### Further cleaning\n",
        "* Remember that the file still had a lot of other information than just the tweets. Create a version of the data file where you have only the tweet texts. Read some of the lines to understand which columns had the actual tweets?"
      ]
    },
    {
      "cell_type": "code",
      "execution_count": null,
      "metadata": {
        "id": "u2FKgosTGdlu"
      },
      "outputs": [],
      "source": [
        "# cut -f prints only specific columns\n",
        "! cat tweets_no_empties.txt | cut -f 3 | head # Head at the end of the pipe is useful to reading"
      ]
    },
    {
      "cell_type": "code",
      "execution_count": null,
      "metadata": {
        "id": "ys-ShwCPG80h"
      },
      "outputs": [],
      "source": [
        "! cat tweets_no_empties.txt | cut -f 3 > just_tweets.txt"
      ]
    },
    {
      "cell_type": "code",
      "execution_count": null,
      "metadata": {
        "id": "m5gN1YpGG_bq"
      },
      "outputs": [],
      "source": [
        "! head just_tweets.txt # just to make sure it looks ok"
      ]
    },
    {
      "cell_type": "markdown",
      "metadata": {
        "id": "21ffCS_FDMkW"
      },
      "source": [
        "### Matching specific patterns\n",
        "* There is a lot of Charlie-related tweets. Do all the tweets have the hashtag #JeSuisCharlie? \n",
        "* How could you look at tweets that do not have this hashtag?\n",
        "* How could you search any CaPS-variant of the hashtag using one single egrep-command?\n",
        "* How are the lines that dont have any variant of the hashtag? How many are there?\n"
      ]
    },
    {
      "cell_type": "code",
      "execution_count": null,
      "metadata": {
        "colab": {
          "base_uri": "https://localhost:8080/"
        },
        "id": "78UUDBZVKtSk",
        "outputId": "1bccabda-ece6-4b3b-a73b-aef197a87cca"
      },
      "outputs": [
        {
          "name": "stdout",
          "output_type": "stream",
          "text": [
            "230721\n"
          ]
        }
      ],
      "source": [
        "! cat just_tweets.txt | wc -l # How many did we have in total?"
      ]
    },
    {
      "cell_type": "code",
      "execution_count": null,
      "metadata": {
        "colab": {
          "base_uri": "https://localhost:8080/"
        },
        "id": "mS3ZSl4rE97Y",
        "outputId": "49bb6b3d-e3c6-44da-e095-683534a28240"
      },
      "outputs": [
        {
          "name": "stdout",
          "output_type": "stream",
          "text": [
            "193108\n"
          ]
        }
      ],
      "source": [
        "! cat just_tweets.txt | egrep \"#JeSuisCharlie\"  | wc -l # so not all of them have this hashtag"
      ]
    },
    {
      "cell_type": "code",
      "execution_count": null,
      "metadata": {
        "id": "SBfGWkGgK6ve"
      },
      "outputs": [],
      "source": [
        "! cat just_tweets.txt | egrep -v \"#JeSuisCharlie\" # print lines that do not match"
      ]
    },
    {
      "cell_type": "code",
      "execution_count": null,
      "metadata": {
        "id": "uWbtd_owKbdq"
      },
      "outputs": [],
      "source": [
        "! cat just_tweets.txt | egrep -iv \"#JeSuisCharlie\"  # print lines that do not match in any case"
      ]
    },
    {
      "cell_type": "code",
      "execution_count": null,
      "metadata": {
        "id": "EosM-qslM6LY"
      },
      "outputs": [],
      "source": [
        "! cat just_tweets.txt | egrep -iv \"#JeSuisCharlie\" | egrep -v NA # so if we skip the lines with NA we get nothing, so all the remaining tweets are empty"
      ]
    },
    {
      "cell_type": "code",
      "execution_count": null,
      "metadata": {
        "colab": {
          "base_uri": "https://localhost:8080/"
        },
        "id": "AgYXcTalORT7",
        "outputId": "1262be9d-0523-4513-90f1-6ca68ebd57f2"
      },
      "outputs": [
        {
          "name": "stdout",
          "output_type": "stream",
          "text": [
            "17347\n"
          ]
        }
      ],
      "source": [
        "!  cat just_tweets.txt | egrep -iv \"#JeSuisCharlie\" | wc -l # this many"
      ]
    },
    {
      "cell_type": "markdown",
      "metadata": {
        "id": "qmXz0aEbP6M6"
      },
      "source": [
        "### User names and their frequencies\n",
        "\n",
        "* Column 5 of the original tweet file has user names. Take them to a separate file\n",
        "* What are the 5 most frequent usernames in the dataset?\n",
        "* How many different usernames does the data have?"
      ]
    },
    {
      "cell_type": "code",
      "execution_count": null,
      "metadata": {
        "id": "QL3y43aoQY_9"
      },
      "outputs": [],
      "source": [
        "! cat tweets_no_empties.txt | cut -f 5 > usernames.txt "
      ]
    },
    {
      "cell_type": "code",
      "execution_count": null,
      "metadata": {
        "id": "ZmRnyrumQ6G4"
      },
      "outputs": [],
      "source": [
        "! cat usernames.txt | sort | uniq -ci | sort -rn | head # printing the beginning of the frequency list"
      ]
    },
    {
      "cell_type": "code",
      "execution_count": null,
      "metadata": {
        "id": "xXDXVSr6RnLx"
      },
      "outputs": [],
      "source": [
        "! cat usernames.txt | sort | uniq -ci | sort -rn | wc -l # just counting how many lines there are in the frequency list gives you the number "
      ]
    },
    {
      "cell_type": "code",
      "execution_count": null,
      "metadata": {
        "id": "PuYHH4rGRvz-"
      },
      "outputs": [],
      "source": [
        "! cat usernames.txt | sort | uniq -i | wc -l #but actually, it's enough to count the number of unique lines without count or resorting"
      ]
    },
    {
      "cell_type": "markdown",
      "metadata": {
        "id": "yt7LxhJmOlqj"
      },
      "source": [
        "### Duplicate tweets\n",
        "\n",
        "* Does the tweet text data include duplicates, i.e., same tweets that have multiple occurrences in the dataset?\n",
        "* It is a bit suspicious that the dataset includes the same tweets several times. Can you think of a way to exclude those? Uniq man pages or instructions may help here.\n",
        "* Direct the tweets that occur only once to a file of its own.\n",
        "* How many tweets do you end up having here?"
      ]
    },
    {
      "cell_type": "code",
      "execution_count": null,
      "metadata": {
        "id": "iAeNCo7sOULu"
      },
      "outputs": [],
      "source": [
        "!  cat just_tweets.txt | sort | uniq -ci | sort -rn | head -20 # a frequency list tells if the same tweets are repeated"
      ]
    },
    {
      "cell_type": "code",
      "execution_count": null,
      "metadata": {
        "colab": {
          "background_save": true
        },
        "id": "HziZwjOZOyz8"
      },
      "outputs": [],
      "source": [
        "! cat just_tweets.txt | sort | uniq -u # uniq -u prints only unique lines"
      ]
    },
    {
      "cell_type": "code",
      "execution_count": null,
      "metadata": {
        "id": "F7HRD4GLTxzv"
      },
      "outputs": [],
      "source": [
        "! cat just_tweets.txt | sort | uniq -u | wc -l # I want to see how many lines are left?"
      ]
    },
    {
      "cell_type": "code",
      "execution_count": null,
      "metadata": {
        "id": "WmHD5aAxTiWU"
      },
      "outputs": [],
      "source": [
        "! cat just_tweets.txt | sort | uniq -u | egrep \"NA\" # I want to make sure uniq -u works, so I'm trying to find the empty NA tweets"
      ]
    },
    {
      "cell_type": "code",
      "execution_count": null,
      "metadata": {
        "id": "IKZC16IoUHb7"
      },
      "outputs": [],
      "source": [
        "! cat just_tweets.txt | sort | uniq -u | egrep -w \"NA\" # We need to -w option to get just the correct ones - this seems to work!"
      ]
    },
    {
      "cell_type": "code",
      "execution_count": null,
      "metadata": {
        "id": "9ZA_6c3eT3Gf"
      },
      "outputs": [],
      "source": [
        "! cat just_tweets.txt | sort | uniq -u > noduplicates.txt "
      ]
    },
    {
      "cell_type": "code",
      "execution_count": null,
      "metadata": {
        "id": "mc4M4_j_WCjs"
      },
      "outputs": [],
      "source": [
        "! cat noduplicates.txt | wc -l"
      ]
    },
    {
      "cell_type": "code",
      "execution_count": null,
      "metadata": {
        "id": "7AgL8V7VWEGN"
      },
      "outputs": [],
      "source": [
        " ! cat noduplicates.txt | perl -pe 's/ /\\n/g' | egrep \"^#\" | sort | uniq -ci | sort -rn | head"
      ]
    },
    {
      "cell_type": "markdown",
      "metadata": {
        "id": "SaYej1X2XqJy"
      },
      "source": [
        "### Hashtags\n",
        "* The hashtags used in the tweets are available at http://dl.turkunlp.org/atp/hashtags.txt\n",
        "* How many different ones do you have? \n",
        "* What are the most frequent?\n",
        "* Different versions of jesuischarlie seem to be frequent. How could you exclude those? What are the most frequent ones when those are excluded?\n",
        "* We can find hashtags with different mentions of \"je suis\" (I am) that dont include \"Charlie\" but something else. How could you find those? What do they look like? These were used to express solidarity to also other"
      ]
    },
    {
      "cell_type": "code",
      "execution_count": null,
      "metadata": {
        "id": "YyjPVbOKWM7i"
      },
      "outputs": [],
      "source": [
        "! wget http://dl.turkunlp.org/atp/hashtags.txt "
      ]
    },
    {
      "cell_type": "code",
      "execution_count": null,
      "metadata": {
        "id": "nkmZJAShX2P0"
      },
      "outputs": [],
      "source": [
        "! head hashtags.txt # to check how they look like"
      ]
    },
    {
      "cell_type": "code",
      "execution_count": null,
      "metadata": {
        "id": "5BfUX1V3X8VV"
      },
      "outputs": [],
      "source": [
        "! cat hashtags.txt | sort | uniq -ci | sort -rn | head # to check the most frequent ones"
      ]
    },
    {
      "cell_type": "code",
      "execution_count": null,
      "metadata": {
        "id": "CQcM3-f5YDV6"
      },
      "outputs": [],
      "source": [
        "! cat hashtags.txt | sort | uniq -i | wc -l # how many unique ones"
      ]
    },
    {
      "cell_type": "code",
      "execution_count": null,
      "metadata": {
        "id": "OvJ0bAv2YKFP"
      },
      "outputs": [],
      "source": [
        "! cat hashtags.txt | egrep -i jesuischarlie | head # this matches any version of the notion"
      ]
    },
    {
      "cell_type": "code",
      "execution_count": null,
      "metadata": {
        "id": "DJA-BJOEYZfN"
      },
      "outputs": [],
      "source": [
        "! cat hashtags.txt | egrep -iv jesuischarlie | head # with -v we can ignore those"
      ]
    },
    {
      "cell_type": "code",
      "execution_count": null,
      "metadata": {
        "id": "NgveaFbmZDZv"
      },
      "outputs": [],
      "source": [
        "! cat hashtags.txt | egrep -iv jesuischarlie | sort | uniq -ci | sort -rn # and make a list of those"
      ]
    },
    {
      "cell_type": "code",
      "execution_count": null,
      "metadata": {
        "id": "Adg6jWytZILD"
      },
      "outputs": [],
      "source": [
        "! cat hashtags.txt | egrep -i \"suis\" | egrep -vi \"charlie\" | head # if we first search of \"suis\" and then skip the charlie ones"
      ]
    },
    {
      "cell_type": "code",
      "execution_count": null,
      "metadata": {
        "id": "E5IUpxGuZPwg"
      },
      "outputs": [],
      "source": [
        "! cat hashtags.txt | egrep -i \"suis\" | egrep -vi \"charlie\" | sort | uniq -ci | sort -rn # a frequency list tells us that quite many similar notions were used"
      ]
    }
  ],
  "metadata": {
    "colab": {
      "collapsed_sections": [
        "cVGiNOizCxMK",
        "V8PbWFpAGOLe",
        "21ffCS_FDMkW",
        "qmXz0aEbP6M6"
      ],
      "provenance": [],
      "include_colab_link": true
    },
    "kernelspec": {
      "display_name": "Python 3",
      "name": "python3"
    },
    "language_info": {
      "name": "python"
    }
  },
  "nbformat": 4,
  "nbformat_minor": 0
}