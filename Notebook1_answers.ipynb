{
  "nbformat": 4,
  "nbformat_minor": 0,
  "metadata": {
    "colab": {
      "provenance": [],
      "authorship_tag": "ABX9TyPVIwGfiGKY5IpmvaRwddbx",
      "include_colab_link": true
    },
    "kernelspec": {
      "name": "python3",
      "display_name": "Python 3"
    },
    "language_info": {
      "name": "python"
    }
  },
  "cells": [
    {
      "cell_type": "markdown",
      "metadata": {
        "id": "view-in-github",
        "colab_type": "text"
      },
      "source": [
        "<a href=\"https://colab.research.google.com/github/TurkuNLP/ATP_kurssi/blob/master/Notebook1_answers.ipynb\" target=\"_parent\"><img src=\"https://colab.research.google.com/assets/colab-badge.svg\" alt=\"Open In Colab\"/></a>"
      ]
    },
    {
      "cell_type": "markdown",
      "source": [
        "### Exercise\n",
        "\n",
        "* Take another book from Gutenberg\n",
        "* Make a backup copy of the previous Gutenberg file and delete the original\n",
        "* Them move (rename) the backup file as something else\n",
        "* Check with ls that all went fine\n",
        "* Print the head and tail of the new book to separate files\n",
        "* Check with cat that all went fine\n",
        "* Then try to use wc -w. How many words did the original book have?\n",
        "* And how many words did head and tail print?\n",
        "* And how would you print the wordnumber of a file to a file?"
      ],
      "metadata": {
        "id": "4MpyrkZaHYdb"
      }
    },
    {
      "cell_type": "code",
      "source": [
        "! wget https://www.gutenberg.org/cache/epub/54306/pg54306.txt # Take another book from Gutenberg"
      ],
      "metadata": {
        "id": "H1NumWz_LMYP"
      },
      "execution_count": null,
      "outputs": []
    },
    {
      "cell_type": "code",
      "source": [
        "! cp pg54306.txt backup.txt # make a back-up copy\n",
        "! rm pg54306.txt # delete the original\n",
        "! mv backup.txt mirdja.txt # rename"
      ],
      "metadata": {
        "id": "Kcz-o17cLNYK"
      },
      "execution_count": 2,
      "outputs": []
    },
    {
      "cell_type": "code",
      "source": [
        "! ls #check that all went fine"
      ],
      "metadata": {
        "id": "cZtSd5c-Ldlf"
      },
      "execution_count": null,
      "outputs": []
    },
    {
      "cell_type": "code",
      "source": [
        "! head mirdja.txt > head-m.txt\n",
        "! tail mirdja.txt > tail-m.txt\n",
        "! ls"
      ],
      "metadata": {
        "id": "liRiHdL4Lh0t"
      },
      "execution_count": null,
      "outputs": []
    },
    {
      "cell_type": "code",
      "source": [
        "! wc -w mirdja.txt # word count\n",
        "! wc -w head-m.txt tail-m.txt # see you can count both files at once\n"
      ],
      "metadata": {
        "id": "m3tdR9LELut0"
      },
      "execution_count": null,
      "outputs": []
    },
    {
      "cell_type": "code",
      "source": [
        "! wc -w head-m.txt tail-m.txt > wcs.txt # direct to a file"
      ],
      "metadata": {
        "id": "wXMEtxyAL4J2"
      },
      "execution_count": 8,
      "outputs": []
    },
    {
      "cell_type": "code",
      "source": [
        "! cat wcs.txt"
      ],
      "metadata": {
        "id": "Ou-nyU8uMB6Y"
      },
      "execution_count": null,
      "outputs": []
    },
    {
      "cell_type": "code",
      "source": [],
      "metadata": {
        "id": "nxiiQf_nMDLx"
      },
      "execution_count": null,
      "outputs": []
    }
  ]
}