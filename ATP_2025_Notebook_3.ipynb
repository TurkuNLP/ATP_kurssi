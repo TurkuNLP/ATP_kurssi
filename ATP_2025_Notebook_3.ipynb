{
  "nbformat": 4,
  "nbformat_minor": 0,
  "metadata": {
    "colab": {
      "provenance": [],
      "authorship_tag": "ABX9TyPLzLO/hATFUyxGKU+aIs4k",
      "include_colab_link": true
    },
    "kernelspec": {
      "name": "python3",
      "display_name": "Python 3"
    },
    "language_info": {
      "name": "python"
    }
  },
  "cells": [
    {
      "cell_type": "markdown",
      "metadata": {
        "id": "view-in-github",
        "colab_type": "text"
      },
      "source": [
        "<a href=\"https://colab.research.google.com/github/TurkuNLP/ATP_kurssi/blob/master/ATP_2025_Notebook_3.ipynb\" target=\"_parent\"><img src=\"https://colab.research.google.com/assets/colab-badge.svg\" alt=\"Open In Colab\"/></a>"
      ]
    },
    {
      "cell_type": "markdown",
      "source": [
        "##Practicing what we've learned so far\n",
        "\n",
        "Let's continue with some parliamentary data and use the same file as last week: https://a3s.fi/parliamentsampo/speeches/csv/speeches_2024.csv\n",
        "\n",
        "I've done the downloading for you and converted the file format from csv to tsv. You only need to run the first cells below. After that, do the following exercises on the data:\n",
        "\n",
        "\n",
        "1. Have a look through what each column contains. Since the column headings and the columns are not really in line, it might be difficult to see directly when using `head`. This is easily done with the command `cut`.\n",
        "\n",
        "2. Fetch the speeches from February and save them in a file called `speeches_2024_02.txt`\n",
        "\n",
        "3. Check the distribution of speeches along the month (i.e., which days are the most frequent ones in the file).\n",
        "\n",
        "4. Then check which roles the speakers have and make a frequency list of those. Check also how many ministers \"ministeri\" are among the speakers.\n",
        "\n",
        "5. Next, have a look at the topics. a) Which are the most frequent ones and which are the least frequent? b) How many different \"esitys\" (proposals) can you find? c) What about \"kysymys\" (question)? d) How many times does a topic start with the string \"Suullinen\" (oral)? e) How many different topics are there altogether?\n",
        "\n",
        "6. And then to the actual speeches. Fetch the content of the speeches and direct it to a new file called `speech_content.txt`.\n",
        "\n",
        "    a) How many unique lines/speeches are there?\n",
        "\n",
        "    b) On how many lines does the word \"eduskunta\" (parliament) in any form (upper or lower case) occur in the speeches?\n",
        "\n",
        "    c) On how many lines does the string \"eduskunta\" occur in the speeches?\n",
        "\n",
        "    d) What if you take into account both lower and upper cased forms of \"eduskunta\"?\n",
        "\n",
        "    e) What about \"Eduskunta\"?\n",
        "\n",
        "    f) How many times does the string \"metsä\" (forest) occur in the speeches?\n",
        "    \n",
        "    g) What about \"metsä\" as a word? Let's also check on how many lines\n",
        "    \n",
        "    h) the string \"puhe\" (speech) appears in the speeches.\n",
        "    \n",
        "    i) What about \"puhe\" in the end of a word?\n",
        "    \n",
        "    j) Or in the beginning of a word?\n",
        "    \n",
        "    k) Let's also check whether \"korona\" (covid) is mentioned in the speeches.\n",
        "    \n",
        "    l) Can you find any lines ending in \"Kiitos.\"? How many?\n",
        "\n",
        "7. Finally, let's check in which languages the speeches are given.\n",
        "\n",
        "\n",
        "N.B. In all exercises, remove everything from the columns that do not seem to belong there (e.g., URLs in dates). Also remember to remove any empty lines."
      ],
      "metadata": {
        "id": "Od2v3kLyzzX3"
      }
    },
    {
      "cell_type": "code",
      "execution_count": 1,
      "metadata": {
        "colab": {
          "base_uri": "https://localhost:8080/"
        },
        "id": "ny9t3WoRyynr",
        "outputId": "c7834fe1-ff12-4748-f7d3-4fb5c76163d2"
      },
      "outputs": [
        {
          "output_type": "stream",
          "name": "stdout",
          "text": [
            "--2025-10-30 11:05:45--  https://a3s.fi/parliamentsampo/speeches/csv/speeches_2024.csv\n",
            "Resolving a3s.fi (a3s.fi)... 86.50.254.18, 86.50.254.19\n",
            "Connecting to a3s.fi (a3s.fi)|86.50.254.18|:443... connected.\n",
            "HTTP request sent, awaiting response... 200 OK\n",
            "Length: 42858211 (41M) [text/plain]\n",
            "Saving to: ‘speeches_2024.csv’\n",
            "\n",
            "speeches_2024.csv   100%[===================>]  40.87M  19.8MB/s    in 2.1s    \n",
            "\n",
            "2025-10-30 11:05:48 (19.8 MB/s) - ‘speeches_2024.csv’ saved [42858211/42858211]\n",
            "\n"
          ]
        }
      ],
      "source": [
        "# Download data\n",
        "! wget https://a3s.fi/parliamentsampo/speeches/csv/speeches_2024.csv"
      ]
    },
    {
      "cell_type": "code",
      "source": [
        "# let's save the csv file as a tsv file\n",
        "import pandas as pd\n",
        "df = pd.read_csv('speeches_2024.csv')\n",
        "df.to_csv('speeches_2024.tsv', sep='\\t')"
      ],
      "metadata": {
        "id": "S8QW88pSy6Ze"
      },
      "execution_count": 2,
      "outputs": []
    },
    {
      "cell_type": "code",
      "source": [
        "! cat speeches_2024.tsv | head"
      ],
      "metadata": {
        "colab": {
          "base_uri": "https://localhost:8080/"
        },
        "id": "DSSM0WiKzRGT",
        "outputId": "c37d5939-c470-4276-ba4d-3f3f3cb7def2"
      },
      "execution_count": 10,
      "outputs": [
        {
          "output_type": "stream",
          "name": "stdout",
          "text": [
            "\tspeech_id\tsession\tdate\tstart_time\tend_time\tgiven\tfamily\trole\tparty\ttopic\tcontent\tspeech_type\tmp_uri\tgender\tbirth\tparty_uri\tparliamentary_role\tgroup_uri\tstatus\tversion\tlink\tlang\tname_in_source\tspeaker_id\tspeech_start\tspeech_end\tspeech_status\tspeech_version\n",
            "0\t2024_1_1\t1/2024\t2024-02-06\t12.01\t13.53\tKimmo\tKiljunen\tIkäpuhemies\tSDP\tNimenhuuto>>>Nimenhuutoraportti\tTäysistunto alkaa. Iältäni vanhimpana eduskunnan jäsenenä johdan puhetta tässä valtiopäivien ensimmäisessä täysistunnossa, kunnes eduskunta on työjärjestyksen 4 §:n mukaan valinnut puhemiehen ja kaksi varapuhemiestä ja nämä ovat antaneet eduskunnalle juhlallisen vakuutuksen.\tPuhemiesPuheenvuoro\thttp://ldf.fi/semparl/people/p464\tMale\t1951-01-01\thttp://ldf.fi/semparl/groups/Q499029\tOppositiopuolue\thttp://ldf.fi/semparl/groups/g3055354335113056020\tTarkistettu\t4.1\thttps://www.eduskunta.fi/FI/vaski/PoytakirjaAsiakohta/Sivut/PTK_1+2024+1.aspx\tfi\tIkäpuhemies Kimmo Kiljunen\t\t\t\t\t\n",
            "1\t2024_1_2\t1/2024\t2024-02-06\t12.01\t13.53\tKimmo\tKiljunen\tIkäpuhemies\tSDP\tPuhemiehen vaali>>>Vaali  VAA 1/2024 vp\tNyt seuraa puhemiehen vaali, joka, kuten varapuhemiestenkin vaalit, toimitetaan noudattamalla Suomen perustuslain 34 §:n 2 momentin ja eduskunnan vaalisäännön 5 ja 6 §:n säännöksiä. Vaali toimitetaan umpilipuin. Edustajat tuovat äänestyslippunsa uurnaan aakkosjärjestyksessä toimitettavan nimenhuudon mukaan. Ehdokkaan nimi on yksilöitävä riittävällä tarkkuudella tarvittaessa myös etunimeä käyttäen. Avustajiksi äänestyslippujen tarkastamiseen ja äänten laskemiseen vaalissa pyydän seuraavat edustajat: Matias Marttinen, Jari Ronkainen, Tytti Tuppurainen ja Antti Kurvinen.\tPuhemiesPuheenvuoro\thttp://ldf.fi/semparl/people/p464\tMale\t1951-01-01\thttp://ldf.fi/semparl/groups/Q499029\tOppositiopuolue\thttp://ldf.fi/semparl/groups/g3055354335113056020\tTarkistettu\t4.1\thttps://www.eduskunta.fi/FI/vaski/PoytakirjaAsiakohta/Sivut/PTK_1+2024+2.aspx\tfi\tIkäpuhemies Kimmo Kiljunen\t\t\t\t\t\n",
            "2\t2024_1_3\t1/2024\t2024-02-06\t12.01\t13.53\tKimmo\tKiljunen\tIkäpuhemies\tSDP\tPuhemiehen vaali>>>Vaali  VAA 1/2024 vp\tÄäntenlaskijat ovat suoriutuneet tehtävästään, ja nyt luetaan äänestyksen tulos.\tPuhemiesPuheenvuoro\thttp://ldf.fi/semparl/people/p464\tMale\t1951-01-01\thttp://ldf.fi/semparl/groups/Q499029\tOppositiopuolue\thttp://ldf.fi/semparl/groups/g3055354335113056020\tTarkistettu\t4.1\thttps://www.eduskunta.fi/FI/vaski/PoytakirjaAsiakohta/Sivut/PTK_1+2024+2.aspx\tfi\tIkäpuhemies Kimmo Kiljunen\t\t\t\t\t\n",
            "3\t2024_1_4\t1/2024\t2024-02-06\t12.01\t13.53\tKimmo\tKiljunen\tIkäpuhemies\tSDP\tPuhemiehen vaali>>>Vaali  VAA 1/2024 vp\tKun Jussi Halla-aho on saanut vaalissa enemmän kuin puolet annetuista hyväksytyistä äänistä, on hänet valittu eduskunnan puhemieheksi vuoden 2024 valtiopäivien ajaksi.\tPuhemiesPuheenvuoro\thttp://ldf.fi/semparl/people/p464\tMale\t1951-01-01\thttp://ldf.fi/semparl/groups/Q499029\tOppositiopuolue\thttp://ldf.fi/semparl/groups/g3055354335113056020\tTarkistettu\t4.1\thttps://www.eduskunta.fi/FI/vaski/PoytakirjaAsiakohta/Sivut/PTK_1+2024+2.aspx\tfi\tIkäpuhemies Kimmo Kiljunen\t\t\t\t\t\n",
            "4\t2024_1_5\t1/2024\t2024-02-06\t12.01\t13.53\tKimmo\tKiljunen\tIkäpuhemies\tSDP\tEnsimmäisen varapuhemiehen vaali>>>Vaali  VAA 2/2024 vp\tNyt seuraa ensimmäisen varapuhemiehen vaali. Tämäkin vaali toimitetaan umpilipuin. Nyt pyydän edustajia tarkkaavaisuuteen äänestäessänne. Edellisellä äänestyskerralla joku edustajista äänesti vahingossa kahdella lapulla, toinen oli liimautunut toisen taakse — se oli tyhjä kylläkin, niin että se ei aiheuttanut hämminkiä siinä suhteessa. Mutta olkaa tarkkoja: yksi ainoa äänestyslippu, kun revitte sieltä sen äänestyslippunne. Edustajat tuovat äänestyslippunsa uurnaan aakkosjärjestyksessä. Avustajiksi tässä vaalissa pyydän seuraavat edustajat: Sinuhe Wallinheimo, Ari Koponen, Piritta Rantanen ja Eeva Kalli.\tPuhemiesPuheenvuoro\thttp://ldf.fi/semparl/people/p464\tMale\t1951-01-01\thttp://ldf.fi/semparl/groups/Q499029\tOppositiopuolue\thttp://ldf.fi/semparl/groups/g3055354335113056020\tTarkistettu\t4.1\thttps://www.eduskunta.fi/FI/vaski/PoytakirjaAsiakohta/Sivut/PTK_1+2024+3.aspx\tfi\tIkäpuhemies Kimmo Kiljunen\t\t\t\t\t\n",
            "5\t2024_1_6\t1/2024\t2024-02-06\t12.01\t13.53\tKimmo\tKiljunen\tIkäpuhemies\tSDP\tEnsimmäisen varapuhemiehen vaali>>>Vaali  VAA 2/2024 vp\tLuetaan äänestyksen tulos.\tPuhemiesPuheenvuoro\thttp://ldf.fi/semparl/people/p464\tMale\t1951-01-01\thttp://ldf.fi/semparl/groups/Q499029\tOppositiopuolue\thttp://ldf.fi/semparl/groups/g3055354335113056020\tTarkistettu\t4.1\thttps://www.eduskunta.fi/FI/vaski/PoytakirjaAsiakohta/Sivut/PTK_1+2024+3.aspx\tfi\tIkäpuhemies Kimmo Kiljunen\t\t\t\t\t\n",
            "6\t2024_1_7\t1/2024\t2024-02-06\t12.01\t13.53\tKimmo\tKiljunen\tIkäpuhemies\tSDP\tEnsimmäisen varapuhemiehen vaali>>>Vaali  VAA 2/2024 vp\tKun Paula Risikko on saanut vaalissa enemmän kuin puolet annetuista hyväksytyistä äänistä, on hänet valittu eduskunnan ensimmäiseksi varapuhemieheksi vuoden 2024 valtiopäivien ajaksi.\tPuhemiesPuheenvuoro\thttp://ldf.fi/semparl/people/p464\tMale\t1951-01-01\thttp://ldf.fi/semparl/groups/Q499029\tOppositiopuolue\thttp://ldf.fi/semparl/groups/g3055354335113056020\tTarkistettu\t4.1\thttps://www.eduskunta.fi/FI/vaski/PoytakirjaAsiakohta/Sivut/PTK_1+2024+3.aspx\tfi\tIkäpuhemies Kimmo Kiljunen\t\t\t\t\t\n",
            "7\t2024_1_8\t1/2024\t2024-02-06\t12.01\t13.53\tKimmo\tKiljunen\tIkäpuhemies\tSDP\tToisen varapuhemiehen vaali>>>Vaali  VAA 3/2024 vp\tNyt siirrytään seuraavaan eli toisen varapuhemiehen vaaliin. Vaali toimitetaan samalla tavalla kuin aikaisemminkin: umpilipuin. Edustajat tuovat äänestyslippunsa uurnaan aakkosjärjestyksessä. Avustajiksi vaalissa pyydetään seuraavat edustajat: Mari-Leena Talvitie, Sara Seppänen, Mika Kari ja Eerikki Viljanen.\tPuhemiesPuheenvuoro\thttp://ldf.fi/semparl/people/p464\tMale\t1951-01-01\thttp://ldf.fi/semparl/groups/Q499029\tOppositiopuolue\thttp://ldf.fi/semparl/groups/g3055354335113056020\tTarkistettu\t4.1\thttps://www.eduskunta.fi/FI/vaski/PoytakirjaAsiakohta/Sivut/PTK_1+2024+4.aspx\tfi\tIkäpuhemies Kimmo Kiljunen\t\t\t\t\t\n",
            "8\t2024_1_9\t1/2024\t2024-02-06\t12.01\t13.53\tKimmo\tKiljunen\tIkäpuhemies\tSDP\tToisen varapuhemiehen vaali>>>Vaali  VAA 3/2024 vp\tLuetaan äänestyksen tulos.\tPuhemiesPuheenvuoro\thttp://ldf.fi/semparl/people/p464\tMale\t1951-01-01\thttp://ldf.fi/semparl/groups/Q499029\tOppositiopuolue\thttp://ldf.fi/semparl/groups/g3055354335113056020\tTarkistettu\t4.1\thttps://www.eduskunta.fi/FI/vaski/PoytakirjaAsiakohta/Sivut/PTK_1+2024+4.aspx\tfi\tIkäpuhemies Kimmo Kiljunen\t\t\t\t\t\n"
          ]
        }
      ]
    },
    {
      "cell_type": "code",
      "source": [
        "# 1. Check through the columns with cut"
      ],
      "metadata": {
        "id": "d8zn-SvZ_djj"
      },
      "execution_count": null,
      "outputs": []
    },
    {
      "cell_type": "code",
      "source": [
        "# 2. Save speeches from February to a new file\n",
        "! cat speeches_2024.tsv | egrep '2024-02' > speeches_2024_02.tsv"
      ],
      "metadata": {
        "id": "-G7fb7Dvy93E"
      },
      "execution_count": 11,
      "outputs": []
    },
    {
      "cell_type": "code",
      "source": [
        "# Check what we got\n",
        "! ls"
      ],
      "metadata": {
        "colab": {
          "base_uri": "https://localhost:8080/"
        },
        "id": "3kBO4AntzNyE",
        "outputId": "1f73cb84-8b91-4dd2-fc8d-9a416a82afdc"
      },
      "execution_count": 8,
      "outputs": [
        {
          "output_type": "stream",
          "name": "stdout",
          "text": [
            "sample_data\t      speeches_2024_03.tsv  speeches_2024.tsv\n",
            "speeches_2024_01.tsv  speeches_2024.csv\n"
          ]
        }
      ]
    },
    {
      "cell_type": "code",
      "source": [
        "# Check the file\n",
        "! cat speeches_2024_02.tsv | head"
      ],
      "metadata": {
        "colab": {
          "base_uri": "https://localhost:8080/"
        },
        "id": "UWb-AKu_y_Sq",
        "outputId": "d2c4b3fc-e4f8-4d3e-e30d-3a6943abbe0a"
      },
      "execution_count": 12,
      "outputs": [
        {
          "output_type": "stream",
          "name": "stdout",
          "text": [
            "0\t2024_1_1\t1/2024\t2024-02-06\t12.01\t13.53\tKimmo\tKiljunen\tIkäpuhemies\tSDP\tNimenhuuto>>>Nimenhuutoraportti\tTäysistunto alkaa. Iältäni vanhimpana eduskunnan jäsenenä johdan puhetta tässä valtiopäivien ensimmäisessä täysistunnossa, kunnes eduskunta on työjärjestyksen 4 §:n mukaan valinnut puhemiehen ja kaksi varapuhemiestä ja nämä ovat antaneet eduskunnalle juhlallisen vakuutuksen.\tPuhemiesPuheenvuoro\thttp://ldf.fi/semparl/people/p464\tMale\t1951-01-01\thttp://ldf.fi/semparl/groups/Q499029\tOppositiopuolue\thttp://ldf.fi/semparl/groups/g3055354335113056020\tTarkistettu\t4.1\thttps://www.eduskunta.fi/FI/vaski/PoytakirjaAsiakohta/Sivut/PTK_1+2024+1.aspx\tfi\tIkäpuhemies Kimmo Kiljunen\t\t\t\t\t\n",
            "1\t2024_1_2\t1/2024\t2024-02-06\t12.01\t13.53\tKimmo\tKiljunen\tIkäpuhemies\tSDP\tPuhemiehen vaali>>>Vaali  VAA 1/2024 vp\tNyt seuraa puhemiehen vaali, joka, kuten varapuhemiestenkin vaalit, toimitetaan noudattamalla Suomen perustuslain 34 §:n 2 momentin ja eduskunnan vaalisäännön 5 ja 6 §:n säännöksiä. Vaali toimitetaan umpilipuin. Edustajat tuovat äänestyslippunsa uurnaan aakkosjärjestyksessä toimitettavan nimenhuudon mukaan. Ehdokkaan nimi on yksilöitävä riittävällä tarkkuudella tarvittaessa myös etunimeä käyttäen. Avustajiksi äänestyslippujen tarkastamiseen ja äänten laskemiseen vaalissa pyydän seuraavat edustajat: Matias Marttinen, Jari Ronkainen, Tytti Tuppurainen ja Antti Kurvinen.\tPuhemiesPuheenvuoro\thttp://ldf.fi/semparl/people/p464\tMale\t1951-01-01\thttp://ldf.fi/semparl/groups/Q499029\tOppositiopuolue\thttp://ldf.fi/semparl/groups/g3055354335113056020\tTarkistettu\t4.1\thttps://www.eduskunta.fi/FI/vaski/PoytakirjaAsiakohta/Sivut/PTK_1+2024+2.aspx\tfi\tIkäpuhemies Kimmo Kiljunen\t\t\t\t\t\n",
            "2\t2024_1_3\t1/2024\t2024-02-06\t12.01\t13.53\tKimmo\tKiljunen\tIkäpuhemies\tSDP\tPuhemiehen vaali>>>Vaali  VAA 1/2024 vp\tÄäntenlaskijat ovat suoriutuneet tehtävästään, ja nyt luetaan äänestyksen tulos.\tPuhemiesPuheenvuoro\thttp://ldf.fi/semparl/people/p464\tMale\t1951-01-01\thttp://ldf.fi/semparl/groups/Q499029\tOppositiopuolue\thttp://ldf.fi/semparl/groups/g3055354335113056020\tTarkistettu\t4.1\thttps://www.eduskunta.fi/FI/vaski/PoytakirjaAsiakohta/Sivut/PTK_1+2024+2.aspx\tfi\tIkäpuhemies Kimmo Kiljunen\t\t\t\t\t\n",
            "3\t2024_1_4\t1/2024\t2024-02-06\t12.01\t13.53\tKimmo\tKiljunen\tIkäpuhemies\tSDP\tPuhemiehen vaali>>>Vaali  VAA 1/2024 vp\tKun Jussi Halla-aho on saanut vaalissa enemmän kuin puolet annetuista hyväksytyistä äänistä, on hänet valittu eduskunnan puhemieheksi vuoden 2024 valtiopäivien ajaksi.\tPuhemiesPuheenvuoro\thttp://ldf.fi/semparl/people/p464\tMale\t1951-01-01\thttp://ldf.fi/semparl/groups/Q499029\tOppositiopuolue\thttp://ldf.fi/semparl/groups/g3055354335113056020\tTarkistettu\t4.1\thttps://www.eduskunta.fi/FI/vaski/PoytakirjaAsiakohta/Sivut/PTK_1+2024+2.aspx\tfi\tIkäpuhemies Kimmo Kiljunen\t\t\t\t\t\n",
            "4\t2024_1_5\t1/2024\t2024-02-06\t12.01\t13.53\tKimmo\tKiljunen\tIkäpuhemies\tSDP\tEnsimmäisen varapuhemiehen vaali>>>Vaali  VAA 2/2024 vp\tNyt seuraa ensimmäisen varapuhemiehen vaali. Tämäkin vaali toimitetaan umpilipuin. Nyt pyydän edustajia tarkkaavaisuuteen äänestäessänne. Edellisellä äänestyskerralla joku edustajista äänesti vahingossa kahdella lapulla, toinen oli liimautunut toisen taakse — se oli tyhjä kylläkin, niin että se ei aiheuttanut hämminkiä siinä suhteessa. Mutta olkaa tarkkoja: yksi ainoa äänestyslippu, kun revitte sieltä sen äänestyslippunne. Edustajat tuovat äänestyslippunsa uurnaan aakkosjärjestyksessä. Avustajiksi tässä vaalissa pyydän seuraavat edustajat: Sinuhe Wallinheimo, Ari Koponen, Piritta Rantanen ja Eeva Kalli.\tPuhemiesPuheenvuoro\thttp://ldf.fi/semparl/people/p464\tMale\t1951-01-01\thttp://ldf.fi/semparl/groups/Q499029\tOppositiopuolue\thttp://ldf.fi/semparl/groups/g3055354335113056020\tTarkistettu\t4.1\thttps://www.eduskunta.fi/FI/vaski/PoytakirjaAsiakohta/Sivut/PTK_1+2024+3.aspx\tfi\tIkäpuhemies Kimmo Kiljunen\t\t\t\t\t\n",
            "5\t2024_1_6\t1/2024\t2024-02-06\t12.01\t13.53\tKimmo\tKiljunen\tIkäpuhemies\tSDP\tEnsimmäisen varapuhemiehen vaali>>>Vaali  VAA 2/2024 vp\tLuetaan äänestyksen tulos.\tPuhemiesPuheenvuoro\thttp://ldf.fi/semparl/people/p464\tMale\t1951-01-01\thttp://ldf.fi/semparl/groups/Q499029\tOppositiopuolue\thttp://ldf.fi/semparl/groups/g3055354335113056020\tTarkistettu\t4.1\thttps://www.eduskunta.fi/FI/vaski/PoytakirjaAsiakohta/Sivut/PTK_1+2024+3.aspx\tfi\tIkäpuhemies Kimmo Kiljunen\t\t\t\t\t\n",
            "6\t2024_1_7\t1/2024\t2024-02-06\t12.01\t13.53\tKimmo\tKiljunen\tIkäpuhemies\tSDP\tEnsimmäisen varapuhemiehen vaali>>>Vaali  VAA 2/2024 vp\tKun Paula Risikko on saanut vaalissa enemmän kuin puolet annetuista hyväksytyistä äänistä, on hänet valittu eduskunnan ensimmäiseksi varapuhemieheksi vuoden 2024 valtiopäivien ajaksi.\tPuhemiesPuheenvuoro\thttp://ldf.fi/semparl/people/p464\tMale\t1951-01-01\thttp://ldf.fi/semparl/groups/Q499029\tOppositiopuolue\thttp://ldf.fi/semparl/groups/g3055354335113056020\tTarkistettu\t4.1\thttps://www.eduskunta.fi/FI/vaski/PoytakirjaAsiakohta/Sivut/PTK_1+2024+3.aspx\tfi\tIkäpuhemies Kimmo Kiljunen\t\t\t\t\t\n",
            "7\t2024_1_8\t1/2024\t2024-02-06\t12.01\t13.53\tKimmo\tKiljunen\tIkäpuhemies\tSDP\tToisen varapuhemiehen vaali>>>Vaali  VAA 3/2024 vp\tNyt siirrytään seuraavaan eli toisen varapuhemiehen vaaliin. Vaali toimitetaan samalla tavalla kuin aikaisemminkin: umpilipuin. Edustajat tuovat äänestyslippunsa uurnaan aakkosjärjestyksessä. Avustajiksi vaalissa pyydetään seuraavat edustajat: Mari-Leena Talvitie, Sara Seppänen, Mika Kari ja Eerikki Viljanen.\tPuhemiesPuheenvuoro\thttp://ldf.fi/semparl/people/p464\tMale\t1951-01-01\thttp://ldf.fi/semparl/groups/Q499029\tOppositiopuolue\thttp://ldf.fi/semparl/groups/g3055354335113056020\tTarkistettu\t4.1\thttps://www.eduskunta.fi/FI/vaski/PoytakirjaAsiakohta/Sivut/PTK_1+2024+4.aspx\tfi\tIkäpuhemies Kimmo Kiljunen\t\t\t\t\t\n",
            "8\t2024_1_9\t1/2024\t2024-02-06\t12.01\t13.53\tKimmo\tKiljunen\tIkäpuhemies\tSDP\tToisen varapuhemiehen vaali>>>Vaali  VAA 3/2024 vp\tLuetaan äänestyksen tulos.\tPuhemiesPuheenvuoro\thttp://ldf.fi/semparl/people/p464\tMale\t1951-01-01\thttp://ldf.fi/semparl/groups/Q499029\tOppositiopuolue\thttp://ldf.fi/semparl/groups/g3055354335113056020\tTarkistettu\t4.1\thttps://www.eduskunta.fi/FI/vaski/PoytakirjaAsiakohta/Sivut/PTK_1+2024+4.aspx\tfi\tIkäpuhemies Kimmo Kiljunen\t\t\t\t\t\n",
            "9\t2024_1_10\t1/2024\t2024-02-06\t12.01\t13.53\tKimmo\tKiljunen\tIkäpuhemies\tSDP\tToisen varapuhemiehen vaali>>>Vaali  VAA 3/2024 vp\tKun Tarja Filatov on saanut vaalissa enemmän kuin puolet annetuista hyväksytyistä äänistä, on hänet valittu eduskunnan toiseksi varapuhemieheksi vuoden 2024 valtiopäivien ajaksi.\tPuhemiesPuheenvuoro\thttp://ldf.fi/semparl/people/p464\tMale\t1951-01-01\thttp://ldf.fi/semparl/groups/Q499029\tOppositiopuolue\thttp://ldf.fi/semparl/groups/g3055354335113056020\tTarkistettu\t4.1\thttps://www.eduskunta.fi/FI/vaski/PoytakirjaAsiakohta/Sivut/PTK_1+2024+4.aspx\tfi\tIkäpuhemies Kimmo Kiljunen\t\t\t\t\t\n"
          ]
        }
      ]
    },
    {
      "cell_type": "code",
      "source": [
        "# 3. Check the distribution of speeches along the month (i.e., which days are the most frequent ones in the file).\n",
        "! cat speeches_2024_02.tsv | cut -f 4 | sort | uniq -c | sort -nr | head"
      ],
      "metadata": {
        "colab": {
          "base_uri": "https://localhost:8080/"
        },
        "id": "ksC3Ddlg2xf5",
        "outputId": "7a73f19d-6624-4764-ef41-6fb963e6f4b5"
      },
      "execution_count": 53,
      "outputs": [
        {
          "output_type": "stream",
          "name": "stdout",
          "text": [
            "    492 Male\n",
            "    402 2024-02-20\n",
            "    382 Female\n",
            "    266 2024-02-22\n",
            "    259 2024-02-21\n",
            "    237 2024-02-13\n",
            "    226 2024-02-29\n",
            "    159 2024-02-08\n",
            "    139 2024-02-14\n",
            "    124 2024-02-15\n"
          ]
        }
      ]
    },
    {
      "cell_type": "code",
      "source": [
        "! cat speeches_2024_02.tsv | egrep -vi \"male\" |cut -f 4 | sort | uniq -c | sort -nr | head"
      ],
      "metadata": {
        "colab": {
          "base_uri": "https://localhost:8080/"
        },
        "id": "FvPfDkqKESXw",
        "outputId": "5b430ec5-8bad-4b9f-d6ae-7993e5b7b7ac"
      },
      "execution_count": 102,
      "outputs": [
        {
          "output_type": "stream",
          "name": "stdout",
          "text": [
            "    166 2024-02-20\n",
            "    111 2024-02-21\n",
            "    110 2024-02-22\n",
            "     97 2024-02-13\n",
            "     88 2024-02-29\n",
            "     69 2024-02-08\n",
            "     62 2024-02-14\n",
            "     55 2024-02-28\n",
            "     43 2024-02-15\n",
            "     39 2024-02-27\n"
          ]
        }
      ]
    },
    {
      "cell_type": "code",
      "source": [
        "# Then check which roles the speakers have and make a frequency list of those.\n",
        "! cat speeches_2024_02.tsv | cut -f 9 | sort | uniq -c | sort -nr | head"
      ],
      "metadata": {
        "colab": {
          "base_uri": "https://localhost:8080/"
        },
        "id": "OVANCtouzJrO",
        "outputId": "9a0c7239-8074-4365-8351-816bbab75156"
      },
      "execution_count": 104,
      "outputs": [
        {
          "output_type": "stream",
          "name": "stdout",
          "text": [
            "    874 Tarkistettu\n",
            "    857 Kansanedustaja\n",
            "    565 Puhemies\n",
            "    270 Toinen varapuhemies\n",
            "    225 Ensimmäinen varapuhemies\n",
            "     38 Pääministeri\n",
            "     35 Työministeri\n",
            "     16 Valtiovarainministeri\n",
            "     14 Maa- ja metsätalousministeri\n",
            "     14 Ikäpuhemies\n"
          ]
        }
      ]
    },
    {
      "cell_type": "code",
      "source": [
        "# Why does this not work?\n",
        "! cat speeches_2024_02.tsv | egrep -v \"^Tarkistettu\" | cut -f 9 | sort | uniq -c | sort -nr"
      ],
      "metadata": {
        "colab": {
          "base_uri": "https://localhost:8080/"
        },
        "id": "bAeDcRk9Ewje",
        "outputId": "407ba669-500b-4960-e794-ff6d1f9278db"
      },
      "execution_count": 109,
      "outputs": [
        {
          "output_type": "stream",
          "name": "stdout",
          "text": [
            "    874 Tarkistettu\n",
            "    857 Kansanedustaja\n",
            "    565 Puhemies\n",
            "    270 Toinen varapuhemies\n",
            "    225 Ensimmäinen varapuhemies\n",
            "     38 Pääministeri\n",
            "     35 Työministeri\n",
            "     16 Valtiovarainministeri\n",
            "     14 Maa- ja metsätalousministeri\n",
            "     14 Ikäpuhemies\n",
            "     12 Sosiaaliturvaministeri\n",
            "     12 Puolustusministeri\n",
            "     11 Oikeusministeri\n",
            "     10 Elinkeinoministeri\n",
            "      9 Sosiaali- ja terveysministeri\n",
            "      9 Liikenne- ja viestintäministeri\n",
            "      6 Sisäministeri\n",
            "      5 Eurooppa- ja omistajaohjausministeri\n",
            "      3 Ympäristö- ja ilmastoministeri\n",
            "      3 Tiede- ja kulttuuriministeri\n",
            "      3 Kunta- ja alueministeri\n",
            "      2 Opetusministeri\n",
            "      1 Ulkomaankauppa- ja kehitysministeri\n"
          ]
        }
      ]
    },
    {
      "cell_type": "code",
      "source": [
        "! cat speeches_2024_02.tsv | cut -f 9 | egrep -v \"^Tarkistettu\" | sort | uniq -c | sort -nr"
      ],
      "metadata": {
        "colab": {
          "base_uri": "https://localhost:8080/"
        },
        "id": "48wOukrKEhA4",
        "outputId": "ebc5e8f7-8341-4e38-c0b5-059814f39f25"
      },
      "execution_count": 107,
      "outputs": [
        {
          "output_type": "stream",
          "name": "stdout",
          "text": [
            "    857 Kansanedustaja\n",
            "    565 Puhemies\n",
            "    270 Toinen varapuhemies\n",
            "    225 Ensimmäinen varapuhemies\n",
            "     38 Pääministeri\n",
            "     35 Työministeri\n",
            "     16 Valtiovarainministeri\n",
            "     14 Maa- ja metsätalousministeri\n",
            "     14 Ikäpuhemies\n",
            "     12 Sosiaaliturvaministeri\n",
            "     12 Puolustusministeri\n",
            "     11 Oikeusministeri\n",
            "     10 Elinkeinoministeri\n",
            "      9 Sosiaali- ja terveysministeri\n",
            "      9 Liikenne- ja viestintäministeri\n",
            "      6 Sisäministeri\n",
            "      5 Eurooppa- ja omistajaohjausministeri\n",
            "      3 Ympäristö- ja ilmastoministeri\n",
            "      3 Tiede- ja kulttuuriministeri\n",
            "      3 Kunta- ja alueministeri\n",
            "      2 Opetusministeri\n",
            "      1 Ulkomaankauppa- ja kehitysministeri\n"
          ]
        }
      ]
    },
    {
      "cell_type": "code",
      "source": [
        "# Check also which and how many ministers \"ministeri\" are among the speakers.\n",
        "! cat speeches_2024_02.tsv | cut -f 9 | sort | uniq -c | sort -nr | egrep \"ministeri\" | head"
      ],
      "metadata": {
        "colab": {
          "base_uri": "https://localhost:8080/"
        },
        "id": "t_QUpLJk8PpS",
        "outputId": "8e3d5d27-dc24-4d86-a757-646f5e94892e"
      },
      "execution_count": 112,
      "outputs": [
        {
          "output_type": "stream",
          "name": "stdout",
          "text": [
            "     38 Pääministeri\n",
            "     35 Työministeri\n",
            "     16 Valtiovarainministeri\n",
            "     14 Maa- ja metsätalousministeri\n",
            "     12 Sosiaaliturvaministeri\n",
            "     12 Puolustusministeri\n",
            "     11 Oikeusministeri\n",
            "     10 Elinkeinoministeri\n",
            "      9 Sosiaali- ja terveysministeri\n",
            "      9 Liikenne- ja viestintäministeri\n"
          ]
        }
      ]
    },
    {
      "cell_type": "code",
      "source": [
        "! cat speeches_2024_02.tsv | cut -f 9 | sort | uniq -c | sort -nr | egrep \"ministeri\" | wc -l"
      ],
      "metadata": {
        "colab": {
          "base_uri": "https://localhost:8080/"
        },
        "id": "woaQ0qXPE9Nf",
        "outputId": "c9d79075-3399-4f8c-e021-6c60fa66febc"
      },
      "execution_count": 113,
      "outputs": [
        {
          "output_type": "stream",
          "name": "stdout",
          "text": [
            "17\n"
          ]
        }
      ]
    },
    {
      "cell_type": "code",
      "source": [
        "# 5. Topics. a) Which are the most frequent ones and which are the least frequent?\n",
        "! cat speeches_2024_02.tsv | cut -f 11 | sort | uniq -c | sort -nr"
      ],
      "metadata": {
        "colab": {
          "base_uri": "https://localhost:8080/"
        },
        "id": "97YhvW9A3tOT",
        "outputId": "0bc8a992-ed02-40c9-f760-ddefb3630718"
      },
      "execution_count": 31,
      "outputs": [
        {
          "output_type": "stream",
          "name": "stdout",
          "text": [
            "    403 Välikysymys hallituksen aiheuttamasta työmarkkinakaaoksesta>>>Välikysymys  VK 1/2024 vp\n",
            "    196 Pääministerin ilmoitus hallituksen politiikasta vuonna 2024 ja keskeisimmistä eduskunnalle annettavista esityksistä>>>Pääministerin ilmoitus  PI 1/2024 vp\n",
            "    166 https://www.eduskunta.fi/FI/vaski/PoytakirjaAsiakohta/Sivut/PTK_8+2024+4.aspx\n",
            "    125 Hallituksen esitys eduskunnalle aikuiskoulutustuen, ammattitutkintostipendin ja vuorotteluvapaan lakkauttamista koskevaksi lainsäädännöksi>>>Hallituksen esitys  HE 8/2024 vp\n",
            "     96 Hallituksen esitys eduskunnalle laeiksi saamelaiskäräjistä annetun lain ja rikoslain 40 luvun 11 §:n muuttamisesta>>>Hallituksen esitys  HE 100/2023 vp\n",
            "     94 Eläinten oikeudet perustuslakiin>>>Kansalaisaloite  KAA 8/2023 vp\n",
            "     80 Keskustelualoite suomen kielen asemasta>>>Keskustelualoite  KA 1/2024 vp\n",
            "     80 https://www.eduskunta.fi/FI/vaski/PoytakirjaAsiakohta/Sivut/PTK_4+2024+3.aspx\n",
            "     73 Hallituksen esitys eduskunnalle laiksi alkoholilain 17 ja 26 §:n muuttamisesta>>>Hallituksen esitys  HE 7/2024 vp\n",
            "     70 Vaalirahoituksen valvonta vuoden 2023 eduskuntavaaleissa - Valtiontalouden tarkastusviraston kertomus  >>>Kertomus  K 20/2023 vp\n",
            "     58 Ajankohtaiskeskustelu Ukrainan tilanteesta>>>Keskustelualoite  KA 2/2024 vp\n",
            "     57 https://www.eduskunta.fi/FI/vaski/PoytakirjaAsiakohta/Sivut/PTK_9+2024+7.aspx\n",
            "     56 Suullinen kysymys Itä-Suomeen panostamisesta (Suna Kymäläinen sd)>>>Suullinen kysymys  SKT 18/2024 vp\n",
            "     54 Suullinen kysymys yritysvastuudirektiivistä (Maria Guzenina sd)>>>Suullinen kysymys  SKT 25/2024 vp\n",
            "     52 Suullinen kysymys aikuiskoulutustuen lakkauttamisesta (Tuula Haatainen sd)>>>Suullinen kysymys  SKT 11/2024 vp\n",
            "     50  Valtioneuvoston selonteko eduskunnalle Puolustusvoimien osallistumisesta Naton rauhan ajan yhteisen puolustuksen tehtäviin vuonna 2024>>>Valtioneuvoston selonteko  VNS 1/2024 vp\n",
            "     41 https://www.eduskunta.fi/FI/vaski/PoytakirjaAsiakohta/Sivut/PTK_5+2024+2.aspx\n",
            "     41 https://www.eduskunta.fi/FI/vaski/PoytakirjaAsiakohta/Sivut/PTK_14+2024+3.aspx\n",
            "     40 Lakialoite laiksi metsästyslain muuttamisesta>>>Lakialoite  LA 24/2023 vp\n",
            "     38 Lakialoite laiksi tuloverolain 69 §:n muuttamisesta>>>Lakialoite  LA 18/2023 vp\n",
            "     37 https://www.eduskunta.fi/FI/vaski/PoytakirjaAsiakohta/Sivut/PTK_13+2024+4.aspx\n",
            "     33 https://www.eduskunta.fi/FI/vaski/PoytakirjaAsiakohta/Sivut/PTK_10+2024+4.aspx\n",
            "     32 Suullinen kysymys hallituksen talouspäätöksistä (Antti Lindtman sd)>>>Suullinen kysymys  SKT 1/2024 vp\n",
            "     30 Suullinen kysymys ruoan arvonlisäveron korottamisesta ja ruokamarkkinan korjaamisesta (Anne Kalmari kesk)>>>Suullinen kysymys  SKT 12/2024 vp\n",
            "     27 Hallituksen esitys eduskunnalle laiksi metsästyslain 33 §:n muuttamisesta>>>Hallituksen esitys  HE 5/2024 vp\n",
            "     24 Suullinen kysymys väylänpidon leikkauksista ja korjausvelan kasvamisesta (Antti Kurvinen kesk)>>>Suullinen kysymys  SKT 26/2024 vp\n",
            "     24 Hallituksen esitys eduskunnalle laiksi kolmansien maiden kansalaisten maahantulon ja oleskelun edellytyksistä korkeaa osaamistasoa vaativaa työtä varten ja eräiksi siihen liittyviksi laeiksi>>>Hallituksen esitys  HE 6/2024 vp\n",
            "     24 Hallituksen esitys eduskunnalle laeiksi rajavartiolaitoksen hallinnosta annetun lain ja rajavartiolain 34 g §:n muuttamisesta>>>Hallituksen esitys  HE 1/2024 vp\n",
            "     22 Lakialoite laiksi lukiolain muuttamisesta >>>Lakialoite  LA 2/2024 vp\n",
            "     22 Lakialoite laeiksi alueellisen opintolainahyvityksen kokeilusta sekä tuloverolain 92 §:n väliaikaisesta muuttamisesta>>>Lakialoite  LA 22/2023 vp\n",
            "     22 https://www.eduskunta.fi/FI/vaski/PoytakirjaAsiakohta/Sivut/PTK_9+2024+4.aspx\n",
            "     22 Hallituksen esitys eduskunnalle laiksi pilaantuneiden alueiden puhdistamisen tukemisesta annetun lain 12 §:n muuttamisesta>>>Hallituksen esitys  HE 96/2023 vp\n",
            "     21 https://www.eduskunta.fi/FI/vaski/PoytakirjaAsiakohta/Sivut/PTK_9+2024+2.aspx\n",
            "     20 Hallituksen esitys eduskunnalle kalastuksesta Tenojoen vesistössä Norjan kanssa tehdyn sopimuksen liitteessä olevan kalastussäännön korvaamisesta uudella kalastussäännöllä tehdyn sopimuksen hyväksymisestä sekä laiksi kalastuksesta Tenojoen vesistössä Norjan kanssa tehdyn sopimuksen lainsäädännön alaan kuuluvien määräysten voimaansaattamisesta ja soveltamisesta annetun lain muuttamisesta>>>Hallituksen esitys  HE 9/2024 vp\n",
            "     19 https://www.eduskunta.fi/FI/vaski/PoytakirjaAsiakohta/Sivut/PTK_10+2024+2.1.aspx\n",
            "     18 https://www.eduskunta.fi/FI/vaski/PoytakirjaAsiakohta/Sivut/PTK_14+2024+2.1.aspx\n",
            "     18 https://www.eduskunta.fi/FI/vaski/PoytakirjaAsiakohta/Sivut/PTK_10+2024+9.aspx\n",
            "     18 Hallituksen esitys eduskunnalle väkivallan ja häirinnän poistamisesta työelämässä tehdyn Kansainvälisen työjärjestön yleissopimuksen hyväksymiseksi ja voimaansaattamiseksi>>>Hallituksen esitys  HE 89/2023 vp\n",
            "     18 Hallituksen esitys eduskunnalle laiksi positiivisesta luottotietorekisteristä annetun lain muuttamisesta>>>Hallituksen esitys  HE 91/2023 vp\n",
            "     17 https://www.eduskunta.fi/FI/vaski/PoytakirjaAsiakohta/Sivut/PTK_6+2024+2.1.aspx\n",
            "     16 Suullinen kysymys terveyspalveluista (Harry Harkimo liik)>>>Suullinen kysymys  SKT 21/2024 vp\n",
            "     16 Suullinen kysymys ministerin kannanotosta reservistä eroamiseen (Jouni Ovaska kesk)>>>Suullinen kysymys  SKT 8/2024 vp\n",
            "     16 Hallituksen esitys eduskunnalle Suomen tasavallan hallituksen ja Ruotsin kuningaskunnan hallituksen välillä raja-alueen poliisiyhteistyöstä tehdyn sopimuksen hyväksymiseksi ja voimaansaattamiseksi sekä laiksi ampuma-aselain 17 §:n muuttamisesta>>>Hallituksen esitys  HE 92/2023 vp\n",
            "     15 Valtiontalouden tarkastusviraston erilliskertomus eduskunnalle: Finanssipolitiikan valvonnan raportti 2023>>>Kertomus  K 21/2023 vp\n",
            "     15 https://www.eduskunta.fi/FI/vaski/PoytakirjaAsiakohta/Sivut/PTK_3+2024+3.aspx\n",
            "     14 Suullinen kysymys uusien työpaikkojen luomisesta (Harry Harkimo liik)>>>Suullinen kysymys  SKT 7/2024 vp\n",
            "     14 Hallituksen esitys eduskunnalle laiksi syöpäsairauden vaaraa aiheuttaville aineille ja menetelmille ammatissaan altistuvien luettelosta ja rekisteristä annetun lain muuttamisesta>>>Hallituksen esitys  HE 104/2023 vp\n",
            "     14 Hallituksen esitys eduskunnalle laiksi sotilasvammalain 6 ja 6 b §:n muuttamisesta>>>Hallituksen esitys  HE 108/2023 vp\n",
            "     14 Hallituksen esitys eduskunnalle laiksi eräistä paloturvallisuuslaitteista ja siihen liittyviksi laeiksi>>>Hallituksen esitys  HE 106/2023 vp\n",
            "     13 https://www.eduskunta.fi/FI/vaski/PoytakirjaAsiakohta/Sivut/PTK_12+2024+6.aspx\n",
            "     13 https://www.eduskunta.fi/FI/vaski/PoytakirjaAsiakohta/Sivut/PTK_11+2024+3.aspx\n",
            "     13 Hallituksen esitys eduskunnalle laeiksi liikennevakuutuslain, Liikennevakuutuskeskuksesta annetun lain ja vakuutusyhtiölain muuttamisesta>>>Hallituksen esitys  HE 10/2024 vp\n",
            "     12 Suullinen kysymys työmarkkinauudistusten vaikutuksesta talouskasvuun (Miko Bergbom ps)>>>Suullinen kysymys  SKT 4/2024 vp\n",
            "     12 Suullinen kysymys terveyspalveluista (Markku Siponen kesk)>>>Suullinen kysymys  SKT 19/2024 vp\n",
            "     12 https://www.eduskunta.fi/FI/vaski/PoytakirjaAsiakohta/Sivut/PTK_4+2024+7.aspx\n",
            "     12 Hallituksen esitys laiksi työntekijöiden lähettämisestä annetun lain muuttamisesta>>>Hallituksen esitys  HE 101/2023 vp\n",
            "     12 Hallituksen esitys laiksi raideliikennelain ja liikenteen palveluista annetun lain muuttamisesta >>>Hallituksen esitys  HE 95/2023 vp\n",
            "     11 https://www.eduskunta.fi/FI/vaski/PoytakirjaAsiakohta/Sivut/PTK_9+2024+8.aspx\n",
            "     11 https://www.eduskunta.fi/FI/vaski/PoytakirjaAsiakohta/Sivut/PTK_6+2024+2.2.aspx\n",
            "     11 https://www.eduskunta.fi/FI/vaski/PoytakirjaAsiakohta/Sivut/PTK_2+2024+2.1.aspx\n",
            "     11 https://www.eduskunta.fi/FI/vaski/PoytakirjaAsiakohta/Sivut/PTK_14+2024+5.aspx\n",
            "     11 https://www.eduskunta.fi/FI/vaski/PoytakirjaAsiakohta/Sivut/PTK_12+2024+5.aspx\n",
            "     10 Suullinen kysymys ammatillisesta koulutuksesta leikkaamisesta (Veronika Honkasalo vas)>>>Suullinen kysymys  SKT 28/2024 vp\n",
            "     10 https://www.eduskunta.fi/FI/vaski/PoytakirjaAsiakohta/Sivut/PTK_6+2024+3.aspx\n",
            "     10 Hallituksen esitys eduskunnalle laeiksi uusjakojen tukemisesta annetun lain ja eräiden maa- ja metsätalousministeriön hallinnonalan lainojen ja saamisten siirtämisestä Valtiokonttorin hoidettavaksi annetun lain muuttamisesta >>>Hallituksen esitys  HE 94/2023 vp\n",
            "      9 https://www.eduskunta.fi/FI/vaski/PoytakirjaAsiakohta/Sivut/PTK_5+2024+3.aspx\n",
            "      9 https://www.eduskunta.fi/FI/vaski/PoytakirjaAsiakohta/Sivut/PTK_13+2024+7.aspx\n",
            "      9 https://www.eduskunta.fi/FI/vaski/PoytakirjaAsiakohta/Sivut/PTK_12+2024+7.aspx\n",
            "      9 https://www.eduskunta.fi/FI/vaski/PoytakirjaAsiakohta/Sivut/PTK_10+2024+5.aspx\n",
            "      8 Suullinen kysymys talouskasvua edistävistä toimista (Otto Andersson r)>>>Suullinen kysymys  SKT 5/2024 vp\n",
            "      8 Suullinen kysymys eläkeläisten työllistymisestä (Sari Tanus kd)>>>Suullinen kysymys  SKT 6/2024 vp\n",
            "      8 Puhemiehen ja varapuhemiesten juhlalliset vakuutukset\n",
            "      8 https://www.eduskunta.fi/FI/vaski/PoytakirjaAsiakohta/Sivut/PTK_2+2024+4.aspx\n",
            "      7 Suullinen kysymys terveyspalveluista (Henrik Wickström r)>>>Suullinen kysymys  SKT 20/2024 vp\n",
            "      7 https://www.eduskunta.fi/FI/vaski/PoytakirjaAsiakohta/Sivut/PTK_2+2024+5.aspx\n",
            "      7 https://www.eduskunta.fi/FI/vaski/PoytakirjaAsiakohta/Sivut/PTK_14+2024+2.2.aspx\n",
            "      7 https://www.eduskunta.fi/FI/vaski/PoytakirjaAsiakohta/Sivut/PTK_10+2024+6.aspx\n",
            "      6 Valtiontalouden tarkastusviraston kertomus eduskunnalle puoluerahoituksen valvonnasta 2022>>>Kertomus  K 6/2023 vp>>>Valiokunnan mietintö  TrVM 4/2023 vp\n",
            "      6 Lakialoite laeiksi varhaiskasvatuslain 13 §:n ja sosiaalihuoltolain 18 a §:n muuttamisesta>>>Lakialoite  LA 20/2023 vp\n",
            "      6 https://www.eduskunta.fi/FI/vaski/PoytakirjaAsiakohta/Sivut/PTK_7+2024+5.aspx\n",
            "      6 https://www.eduskunta.fi/FI/vaski/PoytakirjaAsiakohta/Sivut/PTK_5+2024+6.aspx\n",
            "      6 https://www.eduskunta.fi/FI/vaski/PoytakirjaAsiakohta/Sivut/PTK_2+2024+7.aspx\n",
            "      6 https://www.eduskunta.fi/FI/vaski/PoytakirjaAsiakohta/Sivut/PTK_2+2024+2.7.aspx\n",
            "      6 https://www.eduskunta.fi/FI/vaski/PoytakirjaAsiakohta/Sivut/PTK_2+2024+2.6.aspx\n",
            "      6 https://www.eduskunta.fi/FI/vaski/PoytakirjaAsiakohta/Sivut/PTK_13+2024+6.aspx\n",
            "      6 https://www.eduskunta.fi/FI/vaski/PoytakirjaAsiakohta/Sivut/PTK_10+2024+7.aspx\n",
            "      6 Hallituksen esitys eduskunnalle laiksi arvopaperimarkkinalain muuttamisesta>>>Hallituksen esitys  HE 3/2024 vp\n",
            "      5 https://www.eduskunta.fi/FI/vaski/PoytakirjaAsiakohta/Sivut/PTK_2+2024+6.aspx\n",
            "      5 https://www.eduskunta.fi/FI/vaski/PoytakirjaAsiakohta/Sivut/PTK_12+2024+9.aspx\n",
            "      5 https://www.eduskunta.fi/FI/vaski/PoytakirjaAsiakohta/Sivut/PTK_10+2024+2.2.aspx\n",
            "      4 Suullinen kysymys yritysvastuuta koskevasta direktiivistä (Maria Ohisalo vihr)>>>Suullinen kysymys  SKT 9/2024 vp\n",
            "      4 Suullinen kysymys yritysvastuuta koskevasta direktiivistä (Mai Kivelä vas)>>>Suullinen kysymys  SKT 10/2024 vp\n",
            "      4 Suullinen kysymys työmarkkinauudistusten vaikutuksesta talouskasvuun (Karoliina Partanen kok)>>>Suullinen kysymys  SKT 2/2024 vp\n",
            "      4 Suullinen kysymys nuorisorikollisuuden ehkäisemisestä (Mika Poutala kd)>>>Suullinen kysymys  SKT 17/2024 vp\n",
            "      4 Suullinen kysymys lasten oikeusturvan parantamisesta (Päivi Räsänen kd)>>>Suullinen kysymys  SKT 31/2024 vp\n",
            "      4 Suullinen kysymys julkisen talouden lisäsopeutustarpeesta (Harry Harkimo liik)>>>Suullinen kysymys  SKT 29/2024 vp\n",
            "      4 Suullinen kysymys investointihankkeiden lupabyrokratiasta (Peter Östman kd)>>>Suullinen kysymys  SKT 24/2024 vp\n",
            "      4 Suullinen kysymys ilmastotavoitteisiin sitoutumisesta (Krista Mikkonen vihr)>>>Suullinen kysymys  SKT 27/2024 vp\n",
            "      4 Suullinen kysymys Gazan tilanteesta (Mai Kivelä vas)>>>Suullinen kysymys  SKT 14/2024 vp\n",
            "      4 Suullinen kysymys Gazan tilanteesta (Inka Hopsu vihr)>>>Suullinen kysymys  SKT 13/2024 vp\n",
            "      4 Suullinen kysymys Gazan tilanteesta (Harry Harkimo liik)>>>Suullinen kysymys  SKT 15/2024 vp\n",
            "      4 Suullinen kysymys energiantuontia koskevista Venäjä-pakotteista (Oras Tynkkynen vihr)>>>Suullinen kysymys  SKT 22/2024 vp\n",
            "      4 Suullinen kysymys aikuiskoulutustuen lakkauttamisesta (Minja Koskela vas)>>>Suullinen kysymys  SKT 23/2024 vp\n",
            "      4 Suullinen kyselytunti\n",
            "      4 https://www.eduskunta.fi/FI/vaski/PoytakirjaAsiakohta/Sivut/PTK_2+2024+2.5.aspx\n",
            "      4 https://www.eduskunta.fi/FI/vaski/PoytakirjaAsiakohta/Sivut/PTK_2+2024+2.4.aspx\n",
            "      4 https://www.eduskunta.fi/FI/vaski/PoytakirjaAsiakohta/Sivut/PTK_2+2024+2.3.aspx\n",
            "      4 https://www.eduskunta.fi/FI/vaski/PoytakirjaAsiakohta/Sivut/PTK_14+2024+2.4.aspx\n",
            "      4 https://www.eduskunta.fi/FI/vaski/PoytakirjaAsiakohta/Sivut/PTK_10+2024+2.4.aspx\n",
            "      4 Hallituksen vuosikertomus 2022>>>Kertomus  K 2/2023 vp>>>Kertomus  K 16/2023 vp>>>Valiokunnan mietintö  TrVM 5/2023 vp\n",
            "      4 Hallituksen esitys eduskunnalle puolustukseen liittyvien, patentoitavaksi haettujen keksintöjen salassapidon vastavuoroiseksi turvaamiseksi tehdyn sopimuksen, teknisten tietojen välittämisestä puolustustarkoituksiin tehdyn Naton sopimuksen sekä niiden täytäntöönpanomenettelyjen hyväksymiseksi ja voimaansaattamiseksi  >>>Hallituksen esitys  HE 98/2023 vp\n",
            "      4 Hallituksen esitys eduskunnalle laiksi rikostorjunnasta Tullissa annetun lain 3 luvun muuttamisesta>>>Hallituksen esitys  HE 107/2023 vp>>>Valiokunnan mietintö  HaVM 1/2024 vp\n",
            "      3 Toisen varapuhemiehen vaali>>>Vaali  VAA 3/2024 vp\n",
            "      3 Suullinen kysymys Ruotsin Nato-jäsenyyden merkityksestä (Joakim Strand r)>>>Suullinen kysymys  SKT 30/2024 vp\n",
            "      3 Suullinen kysymys pk-yritysten toimintaedellytyksistä (Anders Norrback r)>>>Suullinen kysymys  SKT 16/2024 vp\n",
            "      3 Puhemiehen vaali>>>Vaali  VAA 1/2024 vp\n",
            "      3 https://www.eduskunta.fi/FI/vaski/PoytakirjaAsiakohta/Sivut/PTK_5+2024+8.aspx\n",
            "      3 https://www.eduskunta.fi/FI/vaski/PoytakirjaAsiakohta/Sivut/PTK_13+2024+5.aspx\n",
            "      3 https://www.eduskunta.fi/FI/vaski/PoytakirjaAsiakohta/Sivut/PTK_10+2024+2.3.aspx\n",
            "      3 Hallituksen esitys eduskunnalle laiksi rikoslain muuttamisesta sekä eräiksi muiksi laeiksi >>>Hallituksen esitys  HE 105/2023 vp\n",
            "      3 Ensimmäisen varapuhemiehen vaali>>>Vaali  VAA 2/2024 vp\n",
            "      2 Välikysymys hallituksen aiheuttamasta työmarkkinakaaoksesta>>>Välikysymys  VK 1/2024 vp>>>Pöytäkirjan liite\n",
            "      2 Lakialoite laiksi asunto-osakeyhtiölain 8 luvun 3 §:n muuttamisesta>>>Lakialoite  LA 1/2024 vp\n",
            "      2 https://www.eduskunta.fi/FI/vaski/PoytakirjaAsiakohta/Sivut/PTK_6+2024+2.5.aspx\n",
            "      2 https://www.eduskunta.fi/FI/vaski/PoytakirjaAsiakohta/Sivut/PTK_4+2024+6.aspx\n",
            "      2 https://www.eduskunta.fi/FI/vaski/PoytakirjaAsiakohta/Sivut/PTK_4+2024+5.aspx\n",
            "      2 https://www.eduskunta.fi/FI/vaski/PoytakirjaAsiakohta/Sivut/PTK_2+2024+8.aspx\n",
            "      2 https://www.eduskunta.fi/FI/vaski/PoytakirjaAsiakohta/Sivut/PTK_2+2024+2.9.aspx\n",
            "      2 https://www.eduskunta.fi/FI/vaski/PoytakirjaAsiakohta/Sivut/PTK_2+2024+2.8.aspx\n",
            "      2 https://www.eduskunta.fi/FI/vaski/PoytakirjaAsiakohta/Sivut/PTK_2+2024+2.2.aspx\n",
            "      2 https://www.eduskunta.fi/FI/vaski/PoytakirjaAsiakohta/Sivut/PTK_14+2024+4.aspx\n",
            "      2 https://www.eduskunta.fi/FI/vaski/PoytakirjaAsiakohta/Sivut/PTK_10+2024+2.7.aspx\n",
            "      2 https://www.eduskunta.fi/FI/vaski/PoytakirjaAsiakohta/Sivut/PTK_10+2024+2.6.aspx\n",
            "      2 Hallituksen esitys eduskunnalle puolustukseen liittyvien, patentoitavaksi haettujen keksintöjen salassapidon vastavuoroiseksi turvaamiseksi tehdyn sopimuksen, teknisten tietojen välittämisestä puolustustarkoituksiin tehdyn Naton sopimuksen sekä niiden täytäntöönpanomenettelyjen hyväksymiseksi ja voimaansaattamiseksi  >>>Hallituksen esitys  HE 98/2023 vp>>>Valiokunnan mietintö  PuVM 1/2024 vp\n",
            "      2 Hallituksen esitys eduskunnalle lisäeläkesäätiöistä ja lisäeläkekassoista annetun lain muuttamisesta>>>Hallituksen esitys  HE 109/2023 vp\n",
            "      2 Hallituksen esitys eduskunnalle laiksi rikostorjunnasta Tullissa annetun lain 3 luvun muuttamisesta>>>Hallituksen esitys  HE 107/2023 vp\n",
            "      2 Hallituksen esitys eduskunnalle laeiksi kirjanpitolain ja tilintarkastuslain muuttamisesta>>>Hallituksen esitys  HE 99/2023 vp\n",
            "      2 Hallituksen esitys eduskunnalle laeiksi julkisista hankinnoista ja käyttöoikeussopimuksista annetun lain sekä vesi- ja energiahuollon, liikenteen ja postipalvelujen alalla toimivien yksiköiden hankinnoista ja käyttöoikeussopimuksista annetun lain muuttamisesta>>>Hallituksen esitys  HE 102/2023 vp\n",
            "      1 Pohjoismaiden neuvoston Suomen valtuuskunnan vaali>>>Vaali  VAA 5/2024 vp\n",
            "      1 Nimenhuuto>>>Nimenhuutoraportti\n",
            "      1 Ilmoituksia\n",
            "      1 https://www.eduskunta.fi/FI/vaski/PoytakirjaAsiakohta/Sivut/PTK_6+2024+2.7.aspx\n",
            "      1 https://www.eduskunta.fi/FI/vaski/PoytakirjaAsiakohta/Sivut/PTK_6+2024+2.4.aspx\n",
            "      1 https://www.eduskunta.fi/FI/vaski/PoytakirjaAsiakohta/Sivut/PTK_6+2024+2.3.aspx\n",
            "      1 https://www.eduskunta.fi/FI/vaski/PoytakirjaAsiakohta/Sivut/PTK_5+2024+7.aspx\n",
            "      1 https://www.eduskunta.fi/FI/vaski/PoytakirjaAsiakohta/Sivut/PTK_5+2024+5.aspx\n",
            "      1 https://www.eduskunta.fi/FI/vaski/PoytakirjaAsiakohta/Sivut/PTK_5+2024+4.aspx\n",
            "      1 https://www.eduskunta.fi/FI/vaski/PoytakirjaAsiakohta/Sivut/PTK_4+2024+4.aspx\n",
            "      1 https://www.eduskunta.fi/FI/vaski/PoytakirjaAsiakohta/Sivut/PTK_14+2024+6.aspx\n",
            "      1 https://www.eduskunta.fi/FI/vaski/PoytakirjaAsiakohta/Sivut/PTK_14+2024+2.7.aspx\n",
            "      1 https://www.eduskunta.fi/FI/vaski/PoytakirjaAsiakohta/Sivut/PTK_14+2024+2.6.aspx\n",
            "      1 https://www.eduskunta.fi/FI/vaski/PoytakirjaAsiakohta/Sivut/PTK_14+2024+2.5.aspx\n",
            "      1 https://www.eduskunta.fi/FI/vaski/PoytakirjaAsiakohta/Sivut/PTK_14+2024+2.3.aspx\n",
            "      1 https://www.eduskunta.fi/FI/vaski/PoytakirjaAsiakohta/Sivut/PTK_12+2024+8.aspx\n",
            "      1 https://www.eduskunta.fi/FI/vaski/PoytakirjaAsiakohta/Sivut/PTK_10+2024+8.aspx\n",
            "      1 https://www.eduskunta.fi/FI/vaski/PoytakirjaAsiakohta/Sivut/PTK_10+2024+2.5.aspx\n"
          ]
        }
      ]
    },
    {
      "cell_type": "code",
      "source": [
        "! cat speeches_2024_02.tsv | cut -f 11 | egrep -v \"^https:\" | sort | uniq -c | sort -nr"
      ],
      "metadata": {
        "colab": {
          "base_uri": "https://localhost:8080/"
        },
        "id": "hR3J4o87FKFC",
        "outputId": "27994214-d2fe-41f4-be3a-20093951471d"
      },
      "execution_count": 114,
      "outputs": [
        {
          "output_type": "stream",
          "name": "stdout",
          "text": [
            "    403 Välikysymys hallituksen aiheuttamasta työmarkkinakaaoksesta>>>Välikysymys  VK 1/2024 vp\n",
            "    196 Pääministerin ilmoitus hallituksen politiikasta vuonna 2024 ja keskeisimmistä eduskunnalle annettavista esityksistä>>>Pääministerin ilmoitus  PI 1/2024 vp\n",
            "    125 Hallituksen esitys eduskunnalle aikuiskoulutustuen, ammattitutkintostipendin ja vuorotteluvapaan lakkauttamista koskevaksi lainsäädännöksi>>>Hallituksen esitys  HE 8/2024 vp\n",
            "     96 Hallituksen esitys eduskunnalle laeiksi saamelaiskäräjistä annetun lain ja rikoslain 40 luvun 11 §:n muuttamisesta>>>Hallituksen esitys  HE 100/2023 vp\n",
            "     94 Eläinten oikeudet perustuslakiin>>>Kansalaisaloite  KAA 8/2023 vp\n",
            "     80 Keskustelualoite suomen kielen asemasta>>>Keskustelualoite  KA 1/2024 vp\n",
            "     73 Hallituksen esitys eduskunnalle laiksi alkoholilain 17 ja 26 §:n muuttamisesta>>>Hallituksen esitys  HE 7/2024 vp\n",
            "     70 Vaalirahoituksen valvonta vuoden 2023 eduskuntavaaleissa - Valtiontalouden tarkastusviraston kertomus  >>>Kertomus  K 20/2023 vp\n",
            "     58 Ajankohtaiskeskustelu Ukrainan tilanteesta>>>Keskustelualoite  KA 2/2024 vp\n",
            "     56 Suullinen kysymys Itä-Suomeen panostamisesta (Suna Kymäläinen sd)>>>Suullinen kysymys  SKT 18/2024 vp\n",
            "     54 Suullinen kysymys yritysvastuudirektiivistä (Maria Guzenina sd)>>>Suullinen kysymys  SKT 25/2024 vp\n",
            "     52 Suullinen kysymys aikuiskoulutustuen lakkauttamisesta (Tuula Haatainen sd)>>>Suullinen kysymys  SKT 11/2024 vp\n",
            "     50  Valtioneuvoston selonteko eduskunnalle Puolustusvoimien osallistumisesta Naton rauhan ajan yhteisen puolustuksen tehtäviin vuonna 2024>>>Valtioneuvoston selonteko  VNS 1/2024 vp\n",
            "     40 Lakialoite laiksi metsästyslain muuttamisesta>>>Lakialoite  LA 24/2023 vp\n",
            "     38 Lakialoite laiksi tuloverolain 69 §:n muuttamisesta>>>Lakialoite  LA 18/2023 vp\n",
            "     32 Suullinen kysymys hallituksen talouspäätöksistä (Antti Lindtman sd)>>>Suullinen kysymys  SKT 1/2024 vp\n",
            "     30 Suullinen kysymys ruoan arvonlisäveron korottamisesta ja ruokamarkkinan korjaamisesta (Anne Kalmari kesk)>>>Suullinen kysymys  SKT 12/2024 vp\n",
            "     27 Hallituksen esitys eduskunnalle laiksi metsästyslain 33 §:n muuttamisesta>>>Hallituksen esitys  HE 5/2024 vp\n",
            "     24 Suullinen kysymys väylänpidon leikkauksista ja korjausvelan kasvamisesta (Antti Kurvinen kesk)>>>Suullinen kysymys  SKT 26/2024 vp\n",
            "     24 Hallituksen esitys eduskunnalle laiksi kolmansien maiden kansalaisten maahantulon ja oleskelun edellytyksistä korkeaa osaamistasoa vaativaa työtä varten ja eräiksi siihen liittyviksi laeiksi>>>Hallituksen esitys  HE 6/2024 vp\n",
            "     24 Hallituksen esitys eduskunnalle laeiksi rajavartiolaitoksen hallinnosta annetun lain ja rajavartiolain 34 g §:n muuttamisesta>>>Hallituksen esitys  HE 1/2024 vp\n",
            "     22 Lakialoite laiksi lukiolain muuttamisesta >>>Lakialoite  LA 2/2024 vp\n",
            "     22 Lakialoite laeiksi alueellisen opintolainahyvityksen kokeilusta sekä tuloverolain 92 §:n väliaikaisesta muuttamisesta>>>Lakialoite  LA 22/2023 vp\n",
            "     22 Hallituksen esitys eduskunnalle laiksi pilaantuneiden alueiden puhdistamisen tukemisesta annetun lain 12 §:n muuttamisesta>>>Hallituksen esitys  HE 96/2023 vp\n",
            "     20 Hallituksen esitys eduskunnalle kalastuksesta Tenojoen vesistössä Norjan kanssa tehdyn sopimuksen liitteessä olevan kalastussäännön korvaamisesta uudella kalastussäännöllä tehdyn sopimuksen hyväksymisestä sekä laiksi kalastuksesta Tenojoen vesistössä Norjan kanssa tehdyn sopimuksen lainsäädännön alaan kuuluvien määräysten voimaansaattamisesta ja soveltamisesta annetun lain muuttamisesta>>>Hallituksen esitys  HE 9/2024 vp\n",
            "     18 Hallituksen esitys eduskunnalle väkivallan ja häirinnän poistamisesta työelämässä tehdyn Kansainvälisen työjärjestön yleissopimuksen hyväksymiseksi ja voimaansaattamiseksi>>>Hallituksen esitys  HE 89/2023 vp\n",
            "     18 Hallituksen esitys eduskunnalle laiksi positiivisesta luottotietorekisteristä annetun lain muuttamisesta>>>Hallituksen esitys  HE 91/2023 vp\n",
            "     16 Suullinen kysymys terveyspalveluista (Harry Harkimo liik)>>>Suullinen kysymys  SKT 21/2024 vp\n",
            "     16 Suullinen kysymys ministerin kannanotosta reservistä eroamiseen (Jouni Ovaska kesk)>>>Suullinen kysymys  SKT 8/2024 vp\n",
            "     16 Hallituksen esitys eduskunnalle Suomen tasavallan hallituksen ja Ruotsin kuningaskunnan hallituksen välillä raja-alueen poliisiyhteistyöstä tehdyn sopimuksen hyväksymiseksi ja voimaansaattamiseksi sekä laiksi ampuma-aselain 17 §:n muuttamisesta>>>Hallituksen esitys  HE 92/2023 vp\n",
            "     15 Valtiontalouden tarkastusviraston erilliskertomus eduskunnalle: Finanssipolitiikan valvonnan raportti 2023>>>Kertomus  K 21/2023 vp\n",
            "     14 Suullinen kysymys uusien työpaikkojen luomisesta (Harry Harkimo liik)>>>Suullinen kysymys  SKT 7/2024 vp\n",
            "     14 Hallituksen esitys eduskunnalle laiksi syöpäsairauden vaaraa aiheuttaville aineille ja menetelmille ammatissaan altistuvien luettelosta ja rekisteristä annetun lain muuttamisesta>>>Hallituksen esitys  HE 104/2023 vp\n",
            "     14 Hallituksen esitys eduskunnalle laiksi sotilasvammalain 6 ja 6 b §:n muuttamisesta>>>Hallituksen esitys  HE 108/2023 vp\n",
            "     14 Hallituksen esitys eduskunnalle laiksi eräistä paloturvallisuuslaitteista ja siihen liittyviksi laeiksi>>>Hallituksen esitys  HE 106/2023 vp\n",
            "     13 Hallituksen esitys eduskunnalle laeiksi liikennevakuutuslain, Liikennevakuutuskeskuksesta annetun lain ja vakuutusyhtiölain muuttamisesta>>>Hallituksen esitys  HE 10/2024 vp\n",
            "     12 Suullinen kysymys työmarkkinauudistusten vaikutuksesta talouskasvuun (Miko Bergbom ps)>>>Suullinen kysymys  SKT 4/2024 vp\n",
            "     12 Suullinen kysymys terveyspalveluista (Markku Siponen kesk)>>>Suullinen kysymys  SKT 19/2024 vp\n",
            "     12 Hallituksen esitys laiksi työntekijöiden lähettämisestä annetun lain muuttamisesta>>>Hallituksen esitys  HE 101/2023 vp\n",
            "     12 Hallituksen esitys laiksi raideliikennelain ja liikenteen palveluista annetun lain muuttamisesta >>>Hallituksen esitys  HE 95/2023 vp\n",
            "     10 Suullinen kysymys ammatillisesta koulutuksesta leikkaamisesta (Veronika Honkasalo vas)>>>Suullinen kysymys  SKT 28/2024 vp\n",
            "     10 Hallituksen esitys eduskunnalle laeiksi uusjakojen tukemisesta annetun lain ja eräiden maa- ja metsätalousministeriön hallinnonalan lainojen ja saamisten siirtämisestä Valtiokonttorin hoidettavaksi annetun lain muuttamisesta >>>Hallituksen esitys  HE 94/2023 vp\n",
            "      8 Suullinen kysymys talouskasvua edistävistä toimista (Otto Andersson r)>>>Suullinen kysymys  SKT 5/2024 vp\n",
            "      8 Suullinen kysymys eläkeläisten työllistymisestä (Sari Tanus kd)>>>Suullinen kysymys  SKT 6/2024 vp\n",
            "      8 Puhemiehen ja varapuhemiesten juhlalliset vakuutukset\n",
            "      7 Suullinen kysymys terveyspalveluista (Henrik Wickström r)>>>Suullinen kysymys  SKT 20/2024 vp\n",
            "      6 Valtiontalouden tarkastusviraston kertomus eduskunnalle puoluerahoituksen valvonnasta 2022>>>Kertomus  K 6/2023 vp>>>Valiokunnan mietintö  TrVM 4/2023 vp\n",
            "      6 Lakialoite laeiksi varhaiskasvatuslain 13 §:n ja sosiaalihuoltolain 18 a §:n muuttamisesta>>>Lakialoite  LA 20/2023 vp\n",
            "      6 Hallituksen esitys eduskunnalle laiksi arvopaperimarkkinalain muuttamisesta>>>Hallituksen esitys  HE 3/2024 vp\n",
            "      4 Suullinen kysymys yritysvastuuta koskevasta direktiivistä (Maria Ohisalo vihr)>>>Suullinen kysymys  SKT 9/2024 vp\n",
            "      4 Suullinen kysymys yritysvastuuta koskevasta direktiivistä (Mai Kivelä vas)>>>Suullinen kysymys  SKT 10/2024 vp\n",
            "      4 Suullinen kysymys työmarkkinauudistusten vaikutuksesta talouskasvuun (Karoliina Partanen kok)>>>Suullinen kysymys  SKT 2/2024 vp\n",
            "      4 Suullinen kysymys nuorisorikollisuuden ehkäisemisestä (Mika Poutala kd)>>>Suullinen kysymys  SKT 17/2024 vp\n",
            "      4 Suullinen kysymys lasten oikeusturvan parantamisesta (Päivi Räsänen kd)>>>Suullinen kysymys  SKT 31/2024 vp\n",
            "      4 Suullinen kysymys julkisen talouden lisäsopeutustarpeesta (Harry Harkimo liik)>>>Suullinen kysymys  SKT 29/2024 vp\n",
            "      4 Suullinen kysymys investointihankkeiden lupabyrokratiasta (Peter Östman kd)>>>Suullinen kysymys  SKT 24/2024 vp\n",
            "      4 Suullinen kysymys ilmastotavoitteisiin sitoutumisesta (Krista Mikkonen vihr)>>>Suullinen kysymys  SKT 27/2024 vp\n",
            "      4 Suullinen kysymys Gazan tilanteesta (Mai Kivelä vas)>>>Suullinen kysymys  SKT 14/2024 vp\n",
            "      4 Suullinen kysymys Gazan tilanteesta (Inka Hopsu vihr)>>>Suullinen kysymys  SKT 13/2024 vp\n",
            "      4 Suullinen kysymys Gazan tilanteesta (Harry Harkimo liik)>>>Suullinen kysymys  SKT 15/2024 vp\n",
            "      4 Suullinen kysymys energiantuontia koskevista Venäjä-pakotteista (Oras Tynkkynen vihr)>>>Suullinen kysymys  SKT 22/2024 vp\n",
            "      4 Suullinen kysymys aikuiskoulutustuen lakkauttamisesta (Minja Koskela vas)>>>Suullinen kysymys  SKT 23/2024 vp\n",
            "      4 Suullinen kyselytunti\n",
            "      4 Hallituksen vuosikertomus 2022>>>Kertomus  K 2/2023 vp>>>Kertomus  K 16/2023 vp>>>Valiokunnan mietintö  TrVM 5/2023 vp\n",
            "      4 Hallituksen esitys eduskunnalle puolustukseen liittyvien, patentoitavaksi haettujen keksintöjen salassapidon vastavuoroiseksi turvaamiseksi tehdyn sopimuksen, teknisten tietojen välittämisestä puolustustarkoituksiin tehdyn Naton sopimuksen sekä niiden täytäntöönpanomenettelyjen hyväksymiseksi ja voimaansaattamiseksi  >>>Hallituksen esitys  HE 98/2023 vp\n",
            "      4 Hallituksen esitys eduskunnalle laiksi rikostorjunnasta Tullissa annetun lain 3 luvun muuttamisesta>>>Hallituksen esitys  HE 107/2023 vp>>>Valiokunnan mietintö  HaVM 1/2024 vp\n",
            "      3 Toisen varapuhemiehen vaali>>>Vaali  VAA 3/2024 vp\n",
            "      3 Suullinen kysymys Ruotsin Nato-jäsenyyden merkityksestä (Joakim Strand r)>>>Suullinen kysymys  SKT 30/2024 vp\n",
            "      3 Suullinen kysymys pk-yritysten toimintaedellytyksistä (Anders Norrback r)>>>Suullinen kysymys  SKT 16/2024 vp\n",
            "      3 Puhemiehen vaali>>>Vaali  VAA 1/2024 vp\n",
            "      3 Hallituksen esitys eduskunnalle laiksi rikoslain muuttamisesta sekä eräiksi muiksi laeiksi >>>Hallituksen esitys  HE 105/2023 vp\n",
            "      3 Ensimmäisen varapuhemiehen vaali>>>Vaali  VAA 2/2024 vp\n",
            "      2 Välikysymys hallituksen aiheuttamasta työmarkkinakaaoksesta>>>Välikysymys  VK 1/2024 vp>>>Pöytäkirjan liite\n",
            "      2 Lakialoite laiksi asunto-osakeyhtiölain 8 luvun 3 §:n muuttamisesta>>>Lakialoite  LA 1/2024 vp\n",
            "      2 Hallituksen esitys eduskunnalle puolustukseen liittyvien, patentoitavaksi haettujen keksintöjen salassapidon vastavuoroiseksi turvaamiseksi tehdyn sopimuksen, teknisten tietojen välittämisestä puolustustarkoituksiin tehdyn Naton sopimuksen sekä niiden täytäntöönpanomenettelyjen hyväksymiseksi ja voimaansaattamiseksi  >>>Hallituksen esitys  HE 98/2023 vp>>>Valiokunnan mietintö  PuVM 1/2024 vp\n",
            "      2 Hallituksen esitys eduskunnalle lisäeläkesäätiöistä ja lisäeläkekassoista annetun lain muuttamisesta>>>Hallituksen esitys  HE 109/2023 vp\n",
            "      2 Hallituksen esitys eduskunnalle laiksi rikostorjunnasta Tullissa annetun lain 3 luvun muuttamisesta>>>Hallituksen esitys  HE 107/2023 vp\n",
            "      2 Hallituksen esitys eduskunnalle laeiksi kirjanpitolain ja tilintarkastuslain muuttamisesta>>>Hallituksen esitys  HE 99/2023 vp\n",
            "      2 Hallituksen esitys eduskunnalle laeiksi julkisista hankinnoista ja käyttöoikeussopimuksista annetun lain sekä vesi- ja energiahuollon, liikenteen ja postipalvelujen alalla toimivien yksiköiden hankinnoista ja käyttöoikeussopimuksista annetun lain muuttamisesta>>>Hallituksen esitys  HE 102/2023 vp\n",
            "      1 Pohjoismaiden neuvoston Suomen valtuuskunnan vaali>>>Vaali  VAA 5/2024 vp\n",
            "      1 Nimenhuuto>>>Nimenhuutoraportti\n",
            "      1 Ilmoituksia\n"
          ]
        }
      ]
    },
    {
      "cell_type": "code",
      "source": [
        "# b) How many different \"esitys\" (proposals) can you find?\n",
        "! cat speeches_2024_02.tsv | cut -f 11 | sort | uniq -c | sort -nr | egrep \"esitys\" | head"
      ],
      "metadata": {
        "colab": {
          "base_uri": "https://localhost:8080/"
        },
        "id": "c-X1yY2G8mCP",
        "outputId": "ab15c099-ab78-425a-dca7-fa563b72b50b"
      },
      "execution_count": 116,
      "outputs": [
        {
          "output_type": "stream",
          "name": "stdout",
          "text": [
            "    125 Hallituksen esitys eduskunnalle aikuiskoulutustuen, ammattitutkintostipendin ja vuorotteluvapaan lakkauttamista koskevaksi lainsäädännöksi>>>Hallituksen esitys  HE 8/2024 vp\n",
            "     96 Hallituksen esitys eduskunnalle laeiksi saamelaiskäräjistä annetun lain ja rikoslain 40 luvun 11 §:n muuttamisesta>>>Hallituksen esitys  HE 100/2023 vp\n",
            "     73 Hallituksen esitys eduskunnalle laiksi alkoholilain 17 ja 26 §:n muuttamisesta>>>Hallituksen esitys  HE 7/2024 vp\n",
            "     27 Hallituksen esitys eduskunnalle laiksi metsästyslain 33 §:n muuttamisesta>>>Hallituksen esitys  HE 5/2024 vp\n",
            "     24 Hallituksen esitys eduskunnalle laiksi kolmansien maiden kansalaisten maahantulon ja oleskelun edellytyksistä korkeaa osaamistasoa vaativaa työtä varten ja eräiksi siihen liittyviksi laeiksi>>>Hallituksen esitys  HE 6/2024 vp\n",
            "     24 Hallituksen esitys eduskunnalle laeiksi rajavartiolaitoksen hallinnosta annetun lain ja rajavartiolain 34 g §:n muuttamisesta>>>Hallituksen esitys  HE 1/2024 vp\n",
            "     22 Hallituksen esitys eduskunnalle laiksi pilaantuneiden alueiden puhdistamisen tukemisesta annetun lain 12 §:n muuttamisesta>>>Hallituksen esitys  HE 96/2023 vp\n",
            "     20 Hallituksen esitys eduskunnalle kalastuksesta Tenojoen vesistössä Norjan kanssa tehdyn sopimuksen liitteessä olevan kalastussäännön korvaamisesta uudella kalastussäännöllä tehdyn sopimuksen hyväksymisestä sekä laiksi kalastuksesta Tenojoen vesistössä Norjan kanssa tehdyn sopimuksen lainsäädännön alaan kuuluvien määräysten voimaansaattamisesta ja soveltamisesta annetun lain muuttamisesta>>>Hallituksen esitys  HE 9/2024 vp\n",
            "     18 Hallituksen esitys eduskunnalle väkivallan ja häirinnän poistamisesta työelämässä tehdyn Kansainvälisen työjärjestön yleissopimuksen hyväksymiseksi ja voimaansaattamiseksi>>>Hallituksen esitys  HE 89/2023 vp\n",
            "     18 Hallituksen esitys eduskunnalle laiksi positiivisesta luottotietorekisteristä annetun lain muuttamisesta>>>Hallituksen esitys  HE 91/2023 vp\n"
          ]
        }
      ]
    },
    {
      "cell_type": "code",
      "source": [
        "! cat speeches_2024_02.tsv | cut -f 11 | sort | uniq -c | sort -nr | egrep \"esitys\" | wc -l"
      ],
      "metadata": {
        "colab": {
          "base_uri": "https://localhost:8080/"
        },
        "id": "Yi8-CoZ0FYSJ",
        "outputId": "26350d48-7b3d-4547-d0c7-45e1c76c1b09"
      },
      "execution_count": 117,
      "outputs": [
        {
          "output_type": "stream",
          "name": "stdout",
          "text": [
            "27\n"
          ]
        }
      ]
    },
    {
      "cell_type": "code",
      "source": [
        "# c) What about \"kysymys\" (question)?\n",
        "! cat speeches_2024_02.tsv | cut -f 11 | sort | uniq -c | sort -nr | egrep \"kysymys\" | head"
      ],
      "metadata": {
        "colab": {
          "base_uri": "https://localhost:8080/"
        },
        "id": "F4O14cD78oLO",
        "outputId": "3e8a31ea-e568-4bc4-c880-bcb9e90bc6af"
      },
      "execution_count": 118,
      "outputs": [
        {
          "output_type": "stream",
          "name": "stdout",
          "text": [
            "    403 Välikysymys hallituksen aiheuttamasta työmarkkinakaaoksesta>>>Välikysymys  VK 1/2024 vp\n",
            "     56 Suullinen kysymys Itä-Suomeen panostamisesta (Suna Kymäläinen sd)>>>Suullinen kysymys  SKT 18/2024 vp\n",
            "     54 Suullinen kysymys yritysvastuudirektiivistä (Maria Guzenina sd)>>>Suullinen kysymys  SKT 25/2024 vp\n",
            "     52 Suullinen kysymys aikuiskoulutustuen lakkauttamisesta (Tuula Haatainen sd)>>>Suullinen kysymys  SKT 11/2024 vp\n",
            "     32 Suullinen kysymys hallituksen talouspäätöksistä (Antti Lindtman sd)>>>Suullinen kysymys  SKT 1/2024 vp\n",
            "     30 Suullinen kysymys ruoan arvonlisäveron korottamisesta ja ruokamarkkinan korjaamisesta (Anne Kalmari kesk)>>>Suullinen kysymys  SKT 12/2024 vp\n",
            "     24 Suullinen kysymys väylänpidon leikkauksista ja korjausvelan kasvamisesta (Antti Kurvinen kesk)>>>Suullinen kysymys  SKT 26/2024 vp\n",
            "     16 Suullinen kysymys terveyspalveluista (Harry Harkimo liik)>>>Suullinen kysymys  SKT 21/2024 vp\n",
            "     16 Suullinen kysymys ministerin kannanotosta reservistä eroamiseen (Jouni Ovaska kesk)>>>Suullinen kysymys  SKT 8/2024 vp\n",
            "     14 Suullinen kysymys uusien työpaikkojen luomisesta (Harry Harkimo liik)>>>Suullinen kysymys  SKT 7/2024 vp\n"
          ]
        }
      ]
    },
    {
      "cell_type": "code",
      "source": [
        "! cat speeches_2024_02.tsv | cut -f 11 | sort | uniq -c | sort -nr | egrep \"kysymys\" | wc -l"
      ],
      "metadata": {
        "colab": {
          "base_uri": "https://localhost:8080/"
        },
        "id": "Z3LM88rZFdHS",
        "outputId": "63bf604a-686f-4e78-82af-0264465e641c"
      },
      "execution_count": 119,
      "outputs": [
        {
          "output_type": "stream",
          "name": "stdout",
          "text": [
            "32\n"
          ]
        }
      ]
    },
    {
      "cell_type": "code",
      "source": [
        "# d) How many times does a topic start with the string \"Suullinen\" (oral)?\n",
        "! cat speeches_2024_02.tsv | cut -f 11 | sort | uniq -c | sort -nr | egrep \" Suullinen\" | head\n",
        "\n",
        "# N.B. If you grep from a frequency list, the line count (number) starts the line."
      ],
      "metadata": {
        "colab": {
          "base_uri": "https://localhost:8080/"
        },
        "id": "HpPAlHWC-aL6",
        "outputId": "8a6bd7c1-ed92-405b-cea9-35b04dfda899"
      },
      "execution_count": 120,
      "outputs": [
        {
          "output_type": "stream",
          "name": "stdout",
          "text": [
            "     56 Suullinen kysymys Itä-Suomeen panostamisesta (Suna Kymäläinen sd)>>>Suullinen kysymys  SKT 18/2024 vp\n",
            "     54 Suullinen kysymys yritysvastuudirektiivistä (Maria Guzenina sd)>>>Suullinen kysymys  SKT 25/2024 vp\n",
            "     52 Suullinen kysymys aikuiskoulutustuen lakkauttamisesta (Tuula Haatainen sd)>>>Suullinen kysymys  SKT 11/2024 vp\n",
            "     32 Suullinen kysymys hallituksen talouspäätöksistä (Antti Lindtman sd)>>>Suullinen kysymys  SKT 1/2024 vp\n",
            "     30 Suullinen kysymys ruoan arvonlisäveron korottamisesta ja ruokamarkkinan korjaamisesta (Anne Kalmari kesk)>>>Suullinen kysymys  SKT 12/2024 vp\n",
            "     24 Suullinen kysymys väylänpidon leikkauksista ja korjausvelan kasvamisesta (Antti Kurvinen kesk)>>>Suullinen kysymys  SKT 26/2024 vp\n",
            "     16 Suullinen kysymys terveyspalveluista (Harry Harkimo liik)>>>Suullinen kysymys  SKT 21/2024 vp\n",
            "     16 Suullinen kysymys ministerin kannanotosta reservistä eroamiseen (Jouni Ovaska kesk)>>>Suullinen kysymys  SKT 8/2024 vp\n",
            "     14 Suullinen kysymys uusien työpaikkojen luomisesta (Harry Harkimo liik)>>>Suullinen kysymys  SKT 7/2024 vp\n",
            "     12 Suullinen kysymys työmarkkinauudistusten vaikutuksesta talouskasvuun (Miko Bergbom ps)>>>Suullinen kysymys  SKT 4/2024 vp\n"
          ]
        }
      ]
    },
    {
      "cell_type": "code",
      "source": [
        "! cat speeches_2024_02.tsv | cut -f 11 | sort | uniq -c | sort -nr | egrep \" Suullinen\" | wc -l"
      ],
      "metadata": {
        "colab": {
          "base_uri": "https://localhost:8080/"
        },
        "id": "rBXom-fpFgkL",
        "outputId": "0ee982fc-18ac-4015-c0cb-ae12008fc861"
      },
      "execution_count": 121,
      "outputs": [
        {
          "output_type": "stream",
          "name": "stdout",
          "text": [
            "31\n"
          ]
        }
      ]
    },
    {
      "cell_type": "code",
      "source": [
        "# e) How many different topics are there altogether?\n",
        "! cat speeches_2024_02.tsv | cut -f 11 | sort | uniq -c | sort -nr | wc -l"
      ],
      "metadata": {
        "colab": {
          "base_uri": "https://localhost:8080/"
        },
        "id": "lvMsWMn98p3_",
        "outputId": "ee915003-a582-42d5-9614-f4b149bb05ef"
      },
      "execution_count": 60,
      "outputs": [
        {
          "output_type": "stream",
          "name": "stdout",
          "text": [
            "156\n"
          ]
        }
      ]
    },
    {
      "cell_type": "code",
      "source": [
        "# This does the same thing\n",
        "! cat speeches_2024_02.tsv | cut -f 11 | sort | uniq | wc -l"
      ],
      "metadata": {
        "colab": {
          "base_uri": "https://localhost:8080/"
        },
        "id": "kvy62GG3Fpu3",
        "outputId": "a7b9ee57-388e-4fca-fcbd-7e390e4e4a8a"
      },
      "execution_count": 123,
      "outputs": [
        {
          "output_type": "stream",
          "name": "stdout",
          "text": [
            "156\n"
          ]
        }
      ]
    },
    {
      "cell_type": "code",
      "source": [
        "#6. Speeches\n",
        "! cat speeches_2024_02.tsv | cut -f 12 | head -20"
      ],
      "metadata": {
        "colab": {
          "base_uri": "https://localhost:8080/"
        },
        "id": "XeHjvUP_5RNY",
        "outputId": "2682d241-f5bc-41c4-ed66-c3539c8011e7"
      },
      "execution_count": 84,
      "outputs": [
        {
          "output_type": "stream",
          "name": "stdout",
          "text": [
            "Täysistunto alkaa. Iältäni vanhimpana eduskunnan jäsenenä johdan puhetta tässä valtiopäivien ensimmäisessä täysistunnossa, kunnes eduskunta on työjärjestyksen 4 §:n mukaan valinnut puhemiehen ja kaksi varapuhemiestä ja nämä ovat antaneet eduskunnalle juhlallisen vakuutuksen.\n",
            "Nyt seuraa puhemiehen vaali, joka, kuten varapuhemiestenkin vaalit, toimitetaan noudattamalla Suomen perustuslain 34 §:n 2 momentin ja eduskunnan vaalisäännön 5 ja 6 §:n säännöksiä. Vaali toimitetaan umpilipuin. Edustajat tuovat äänestyslippunsa uurnaan aakkosjärjestyksessä toimitettavan nimenhuudon mukaan. Ehdokkaan nimi on yksilöitävä riittävällä tarkkuudella tarvittaessa myös etunimeä käyttäen. Avustajiksi äänestyslippujen tarkastamiseen ja äänten laskemiseen vaalissa pyydän seuraavat edustajat: Matias Marttinen, Jari Ronkainen, Tytti Tuppurainen ja Antti Kurvinen.\n",
            "Ääntenlaskijat ovat suoriutuneet tehtävästään, ja nyt luetaan äänestyksen tulos.\n",
            "Kun Jussi Halla-aho on saanut vaalissa enemmän kuin puolet annetuista hyväksytyistä äänistä, on hänet valittu eduskunnan puhemieheksi vuoden 2024 valtiopäivien ajaksi.\n",
            "Nyt seuraa ensimmäisen varapuhemiehen vaali. Tämäkin vaali toimitetaan umpilipuin. Nyt pyydän edustajia tarkkaavaisuuteen äänestäessänne. Edellisellä äänestyskerralla joku edustajista äänesti vahingossa kahdella lapulla, toinen oli liimautunut toisen taakse — se oli tyhjä kylläkin, niin että se ei aiheuttanut hämminkiä siinä suhteessa. Mutta olkaa tarkkoja: yksi ainoa äänestyslippu, kun revitte sieltä sen äänestyslippunne. Edustajat tuovat äänestyslippunsa uurnaan aakkosjärjestyksessä. Avustajiksi tässä vaalissa pyydän seuraavat edustajat: Sinuhe Wallinheimo, Ari Koponen, Piritta Rantanen ja Eeva Kalli.\n",
            "Luetaan äänestyksen tulos.\n",
            "Kun Paula Risikko on saanut vaalissa enemmän kuin puolet annetuista hyväksytyistä äänistä, on hänet valittu eduskunnan ensimmäiseksi varapuhemieheksi vuoden 2024 valtiopäivien ajaksi.\n",
            "Nyt siirrytään seuraavaan eli toisen varapuhemiehen vaaliin. Vaali toimitetaan samalla tavalla kuin aikaisemminkin: umpilipuin. Edustajat tuovat äänestyslippunsa uurnaan aakkosjärjestyksessä. Avustajiksi vaalissa pyydetään seuraavat edustajat: Mari-Leena Talvitie, Sara Seppänen, Mika Kari ja Eerikki Viljanen.\n",
            "Luetaan äänestyksen tulos.\n",
            "Kun Tarja Filatov on saanut vaalissa enemmän kuin puolet annetuista hyväksytyistä äänistä, on hänet valittu eduskunnan toiseksi varapuhemieheksi vuoden 2024 valtiopäivien ajaksi.\n",
            "Pyydän puhemiestä ja varapuhemiehiä kutakin vuorollaan antamaan eduskunnalle työjärjestyksen 4 §:ssä säädetyn juhlallisen vakuutuksen. — Olkaa hyvä, puhemies.\n",
            "Minä Jussi Halla-aho vakuutan, että minä puhemiehenä voimieni mukaan puolustan Suomen kansan ja eduskunnan oikeutta valtiosäännön mukaan. Jag Jussi Halla-aho försäkrar att jag som talman efter all min förmåga skall försvara finska folkets och riksdagens rättigheter enligt konstitutionen.\n",
            "Ensimmäinen varapuhemies.\n",
            "Minä Paula Risikko vakuutan, että minä puhemiehenä voimieni mukaan puolustan Suomen kansan ja eduskunnan oikeutta valtiosäännön mukaan. Jag Paula Risikko försäkrar att jag som talman efter all min förmåga skall försvara finska folkets och riksdagens rättigheter enligt konstitutionen.\n",
            "Toinen varapuhemies Filatov.\n",
            "Minä Tarja Filatov vakuutan, että minä puhemiehenä voimieni mukaan puolustan Suomen kansan ja eduskunnan oikeutta valtiosäännön mukaan. Jag Tarja Filatov försäkrar att jag som talman efter all min förmåga skall försvara finska folkets och riksdagens rättigheter enligt konstitutionen.\n",
            "Pyydän nyt herra puhemiestä ottamaan paikkansa eduskunnassa ja ryhtymään toimeensa.\n",
            "Arvoisat kansanedustajat, ärade riksdagsledamöter! Kiitän lämpimästi omasta ja valittujen varapuhemiesten puolesta luottamuksesta. Elämme muutosten keskellä, eivätkä kaikki muutokset ole viime aikoina olleet myönteisiä. Venäjän toissa vuonna aloittama sota ja sen heijastevaikutukset kansalliseen, eurooppalaiseen ja globaaliin turvallisuustilanteeseen vaikuttavat työhömme ja eteemme tuleviin päätöksiin tänäkin vuonna. Tähän asti päätöksenteko Suomen turvallisuuden ja suvereniteetin puolustamiseksi on ollut Venäjän hyökkäyksen aikana määrätietoista, oikea-aikaista ja jokseenkin yksituumaista. Voidaan olettaa, että näin on myös vuonna 2024. De försämrade ekonomiska utsikterna för vårt land och oenigheten om de korrigerande åtgärderna kastar en skugga över vårt arbete. Lösningarna är inte enkla och utskotten får säkert långa dagar. Jag är ändå övertygad om att vi lyckas fatta de nödvändiga besluten. Haluan kiittää puhemiehistön puolesta myös eduskunnan henkilökuntaa, joka käytännössä mahdollistaa tämän instituution toiminnan ja päätöksenteon. Näilläkin valtiopäivillä vakaa aikomukseni on kirjoitettuja ja kirjoittamattomia sääntöjä ja vakiintuneita menettelytapoja noudattaen puolustaa tasapuolisesti kaikkien kansanedustajien oikeutta tuoda keskustelussa vapaasti esiin omia kantojaan käsiteltävänä oleviin asioihin. Riksdagen är hjärtat och det allra heligaste i den finländska demokratin. Edustajien perustuslaillinen puhe- ja toimintavapaus, eduskunnan riippumattomuus ulkoisesta painostuksesta, sitoutuminen demokraattisiin päätöksentekotapoihin sekä demokraattisesti tehtyjen päätösten kunnioittaminen ovat toimivan kansanvallan edellytys. Ne takaavat, että meillä ei ole mitään hätää aikana, jolloin demokratiaa haastetaan monestakin suunnasta. Arvoisat edustajat! Toivotan teille voimaa ja viisautta vaativassa tehtävässänne isänmaan hyväksi. — Kiitos.\n",
            "Päiväjärjestyksen 2. asiana on suullinen kyselytunti. Pyydän paikalla olevia ministereitä siirtymään ministeriaitioon. Pyydän niitä edustajia, jotka haluavat esittää kysymyksen paikalla olevalle ministerille, ilmoittautumaan painamalla P-painiketta ja nousemalla seisomaan. On toivottavaa, että kukin kysymys on osoitettu yhdelle ministerille.\n",
            "Edustaja Lindtman, olkaa hyvä.\n"
          ]
        }
      ]
    },
    {
      "cell_type": "code",
      "source": [
        "# 6. a) How many unique lines/speeches are there?\n",
        "! cat speeches_2024_02.tsv | cut -f 12 | sort | uniq -c | sort -nr | wc -l"
      ],
      "metadata": {
        "colab": {
          "base_uri": "https://localhost:8080/"
        },
        "id": "gzYE-E0vBg22",
        "outputId": "daf1eec7-f412-4725-ddce-6ebd87bffc49"
      },
      "execution_count": 87,
      "outputs": [
        {
          "output_type": "stream",
          "name": "stdout",
          "text": [
            "1744\n"
          ]
        }
      ]
    },
    {
      "cell_type": "code",
      "source": [
        "# 6. a) Another way to count the unique lines.\n",
        "! cat speeches_2024_02.tsv | cut -f 12 | sort | uniq | wc -l"
      ],
      "metadata": {
        "colab": {
          "base_uri": "https://localhost:8080/"
        },
        "id": "5mZJg9vwCp8z",
        "outputId": "9b995bbf-b076-4251-c22e-7a773e622736"
      },
      "execution_count": 88,
      "outputs": [
        {
          "output_type": "stream",
          "name": "stdout",
          "text": [
            "1744\n"
          ]
        }
      ]
    },
    {
      "cell_type": "code",
      "source": [
        "# 6. b) On how many lines does the word \"eduskunta\" (parliament) in any form (upper or lower case) occur in the speeches?\n",
        "! cat speeches_2024_02.tsv | cut -f 12 | egrep -wi \"eduskunta\" | wc -l"
      ],
      "metadata": {
        "colab": {
          "base_uri": "https://localhost:8080/"
        },
        "id": "4YX6_fqECzfv",
        "outputId": "f2f4c179-6bf4-4086-d344-f68b60b93f95"
      },
      "execution_count": 98,
      "outputs": [
        {
          "output_type": "stream",
          "name": "stdout",
          "text": [
            "21\n"
          ]
        }
      ]
    },
    {
      "cell_type": "code",
      "source": [
        "# c) On how many lines does the string \"eduskunta\" occur in the speeches?\n",
        "! cat speeches_2024_02.tsv | cut -f 12 | egrep \"eduskunta\" | wc -l"
      ],
      "metadata": {
        "colab": {
          "base_uri": "https://localhost:8080/"
        },
        "id": "94i6_04mDiE5",
        "outputId": "a5a446f3-9678-4d92-facd-33a3964532b4"
      },
      "execution_count": 125,
      "outputs": [
        {
          "output_type": "stream",
          "name": "stdout",
          "text": [
            "69\n"
          ]
        }
      ]
    },
    {
      "cell_type": "code",
      "source": [
        "# d) What if you take into account both lower and upper cased forms of \"eduskunta\"?\n",
        "! cat speeches_2024_02.tsv | cut -f 12 | egrep -i \"eduskunta\" | wc -l"
      ],
      "metadata": {
        "colab": {
          "base_uri": "https://localhost:8080/"
        },
        "id": "D6b0VVhXF3Tv",
        "outputId": "f7a20c08-6bf6-4f73-e579-ff33abe4240a"
      },
      "execution_count": 126,
      "outputs": [
        {
          "output_type": "stream",
          "name": "stdout",
          "text": [
            "70\n"
          ]
        }
      ]
    },
    {
      "cell_type": "code",
      "source": [
        "# e) What about \"Eduskunta\"?\n",
        "! cat speeches_2024_02.tsv | cut -f 12 | egrep \"Eduskunta\" | wc -l"
      ],
      "metadata": {
        "colab": {
          "base_uri": "https://localhost:8080/"
        },
        "id": "yZBtvrlJGDUx",
        "outputId": "d846c2e8-956d-46b7-a4a4-dea4a6525ab8"
      },
      "execution_count": 127,
      "outputs": [
        {
          "output_type": "stream",
          "name": "stdout",
          "text": [
            "1\n"
          ]
        }
      ]
    },
    {
      "cell_type": "code",
      "source": [
        "#6. f) On how many lines does the string \"metsä\" (forest) occur in the speeches?\n",
        "! cat speeches_2024_02.tsv | cut -f 12 | egrep -c \"metsä\" | head"
      ],
      "metadata": {
        "colab": {
          "base_uri": "https://localhost:8080/"
        },
        "id": "dg6Cv5Ve4qDf",
        "outputId": "72597a75-4a9e-4e74-d991-d0c9fb46d911"
      },
      "execution_count": 36,
      "outputs": [
        {
          "output_type": "stream",
          "name": "stdout",
          "text": [
            "32\n"
          ]
        }
      ]
    },
    {
      "cell_type": "code",
      "source": [
        "# g) What about \"metsä\" as a word?\n",
        "! cat speeches_2024_02.tsv | cut -f 12 | egrep -wc \"metsä\" | head"
      ],
      "metadata": {
        "colab": {
          "base_uri": "https://localhost:8080/"
        },
        "id": "AhlxCkg55F4N",
        "outputId": "2cbde60e-3f4e-4ca3-8b7f-f2f723c4a1c5"
      },
      "execution_count": 61,
      "outputs": [
        {
          "output_type": "stream",
          "name": "stdout",
          "text": [
            "0\n"
          ]
        }
      ]
    },
    {
      "cell_type": "code",
      "source": [
        "# h) On how many lines does the string \"puhe\" (speech) appear in the speeches.\n",
        "! cat speeches_2024_02.tsv | cut -f 12 | egrep -wc \"puhe\" | head"
      ],
      "metadata": {
        "colab": {
          "base_uri": "https://localhost:8080/"
        },
        "id": "sQNPUw1p5_44",
        "outputId": "739f0261-29ae-4fe9-d700-c27d6f08ea2d"
      },
      "execution_count": 45,
      "outputs": [
        {
          "output_type": "stream",
          "name": "stdout",
          "text": [
            "7\n"
          ]
        }
      ]
    },
    {
      "cell_type": "code",
      "source": [
        "# i) What about \"puhe\" in the end of a word?\n",
        "! cat speeches_2024_02.tsv | cut -f 12 | egrep \"puhe \" | head"
      ],
      "metadata": {
        "colab": {
          "base_uri": "https://localhost:8080/"
        },
        "id": "7WPToJTW6Jd8",
        "outputId": "e15f1ac7-8833-4062-a1c5-8111c5fd3402"
      },
      "execution_count": 50,
      "outputs": [
        {
          "output_type": "stream",
          "name": "stdout",
          "text": [
            "\"Arvoisa puhemies! Me ollaan paljon puhuttu taloudesta, mutta se, mikä on unohtunut, on puhe luontopääomasta. Me kaikki tiedämme, että luonnon monimuotoisuus takaa luontopääoman, ja sen säilyttämiseksi meidän täytyy tehdä toimia. Jos me ei pidetä huolta, että meillä on monimuotoinen luonto, niin se vaikuttaa niin talouteen, turvallisuuteen kuin meidän ihmisten fyysiseen ja psyykkiseen hyvinvointiin ja terveyteenkin.\n",
            "\"Arvoisa puhemies! Tämä opposition puhe kuulostaa hieman lamaantuneelta. Sieltä koko ajan hoetaan samaa mantraa, opinkappaletta siitä, että pitäisi käynnistää neuvottelut. [Vasemmalta: Niin pitäisi!] Ihmettelen, että neuvottelut mistä — neuvottelut siitäkö, mitä toimia jätetään tekemättä, mitä työpaikkoja jätetään luomatta ja mitä säästöjä ei tehdä? Teidän kannattaa huomata, että nämä toimet, joita hallitus nyt esittää, oli katsottu tarpeelliseksi jo viime kevään taloudellisessa tilanteessa, siinä tilanteessa, missä taloutemme oli viime keväänä. [Sosiaalidemokraattien ryhmästä: Olisitte kertoneet ennen vaaleja!] Nyt toteutamme niitä toimia.\n",
            "\"Arvoisa puhemies! Suomalaiset puhuvat mielellään metsistään, luonnostaan ja kansallismaisemastaan. Romantisoimme karhuja, joutsenia ja taistelevia metsoja. Tämä kaunis puhe jää kuitenkin pelkästään puheeksi, kun samaan aikaan hakataan metsiä, joissa luonnonvaraiset eläimet asuvat, sullotaan eläimiä minimaalisiin häkkeihin turkissomisteiden toivossa ja jalostetaan siipikarjaa niin, että eläinten ihan koko elämä on kärsimystä. Ihmisten suhde muihin eläimiin on täysin vinksahtanut, ja sen toivoisi muuttuvan.\n"
          ]
        }
      ]
    },
    {
      "cell_type": "code",
      "source": [
        "# j) Or in the beginning of a word?\n",
        "! cat speeches_2024_02.tsv | cut -f 12 | egrep -c \" puhe\" | head"
      ],
      "metadata": {
        "colab": {
          "base_uri": "https://localhost:8080/"
        },
        "id": "dno4wW5m6Eia",
        "outputId": "881aeaac-b1e1-4806-d1ee-06bdb90e5164"
      },
      "execution_count": 48,
      "outputs": [
        {
          "output_type": "stream",
          "name": "stdout",
          "text": [
            "1090\n"
          ]
        }
      ]
    },
    {
      "cell_type": "code",
      "source": [
        "# k) Let's also check whether \"korona\" (covid) is mentioned in the speeches\n",
        "! cat speeches_2024_02.tsv | cut -f 12 | egrep \"korona\" | head"
      ],
      "metadata": {
        "colab": {
          "base_uri": "https://localhost:8080/"
        },
        "id": "-k8NHhqw_01M",
        "outputId": "242b220d-b7e2-451d-d2bc-8af2e92ee1e1"
      },
      "execution_count": 74,
      "outputs": [
        {
          "output_type": "stream",
          "name": "stdout",
          "text": [
            "Arvoisa puhemies! Taisin juuri äskeisessä puheenvuorossa sanoa, että ilmeisesti jonkin aikaa pärjää sanomalla ”mutta kun se edellinen”, [Antti Lindtman: Sieltä se tuli! — Jani Mäkelä: Tyhjä paperi!] mutta minä haluan todeta, että ymmärrän, että ette tainnut olla täällä viime vaalikaudella, joten siksi hyvä muistuttaa. Puolueenne tuki kaikkia niitä ratkaisuja, [Antti Lindtman: Kyllä! — Tytti Tuppurainen: Ihan kaikkia!] joita teimme koronan vuoksi tukeaksemme yrityksiä, kuntia ja suomalaisten elämää. Te kannatitte sitä, että Puolustusvoimien resursseja lisätään, [Kimmo Kiljunen: Poliisia!] ja myöskin sellaisia toimia, joilla parannettiin esimerkiksi meidän koulutusta ja sosiaali‑ ja terveydenhuoltoa. Me voimme käydä tätä loputonta taistoa siitä, että totta, Suomi on velkaantunut 15 vuoden ajan — kuten todettua, syntisten pöydässä on muitakin puolueita — mutta nyt ikään kuin toteatte, että koska edellinen, niin meidän pitää toimia näin. Kyllä ne ovat politiikan arvovalintoja, miten sitä taloutta ryhdytään laittamaan kuntoon, ja tässä peräänkuulutetaan sitä, että teidän vaalipuheenne on täydellisessä ristiriidassa sen kanssa, mitä me nyt todistamme hallituksen politiikaksi. Siitä te olette vastuussa, siitä, mitä tapahtuu tästä eteenpäin.\n",
            "Arvoisa rouva puhemies! Kovasti hallitus ja ministerit ja edustajat yrittävät puhua mustaa valkoiseksi, mutta kun katsomme tosiasioita ja tunnustamme ne, niin tosiasia on se, että valtionvelka kasvaa ja työllisyystavoite karkaa, ja sen vuoksi ennätysajassa ollaan joutumassa tilanteeseen, jossa hallitus joutuu käytännössä neuvottelemaan hallitusohjelman uusiksi, ja tämä kaikki ilman koronaa, tämä kaikki ilman energiakriisiä. Ja nyt kansalaiset kysyvät ja me kansalaisten mukana, että onko nyt niin, että luvassa on kehysriihessä tätä samaa, joka vie Suomea väärään suuntaan? No SDP on esittänyt täällä tänään, edustaja Lindtman on esittänyt, viiden kohdan ohjelman tilanteen ratkaisemiseksi [Kimmo Kiljunen: Selkeät kohdat!] — viiden kohdan ohjelman, jolla tätä asiaa voitaisiin ratkaista, ja niistä kaikkein keskeisin on se, joka on, pääministeri Orpo, suoraan teidän omissa käsissänne, ja se on tämän työmarkkinatilanteen vakauttaminen. Teillä on avaimet käsissänne. Eikö nyt olisi aika vaikuttaa siihen, joka on meidän suomalaisten itsemme vaikutettavissa, eli saada yhteiskuntarauhaa, järjestöt sopimaan asioista keskenään ja sitä kautta työllisyyttä ja kasvua kestävästi? Voisitteko te nyt ojentaa sovinnon kättä? [Ben Zyskowicz: Eivätkö avaimet ole Hakaniemen ay-johtajilla? — Antti Lindtman: Taitavat olla hallituksella!]\n",
            "Arvoisa rouva puhemies! Suomessa on Pohjolan heikoin talous. Suomi on Euroopan seitsemänneksi velkaantunein maa. Tähän syynä ei ole Ukrainan sota tai korona, sillä monet muut Euroopan maat ovat onnistuneet velkasuhteen pienentämisessä näistä kriiseistä huolimatta. Hallitus tekee työllistämisestä ja työllistymisestä kannustavaa ja kannattavaa. Sosiaaliturvaan tehtävät sopeutukset ja työtuloverotuksen keventäminen pieni- ja keskituloisille luovat kannustimet työnteolle. Täällä on hoettu mantraa ”köyhiltä otetaan”, mutta tosiasia on se, että vain vajaa 3 prosenttia väestöstä kuuluu niihin, joiden tulot laskevat paljon eli 10 prosenttia. [Aki Lindén: He ovat juuri niitä kaikkein köyhimpiä!] 49 prosenttia saa lisää, ja 36 prosentin tulot eivät juuri muutu. — Kiitos.\n",
            "Kiitos, arvoisa rouva puhemies! Kun täällä toitotettiin sen perään, että pysykää nyt faktoissa, niin pysytäänpä tosiaan faktoissa. Te vetoatte siihen, että oppositio viime kaudella olisi ikään kuin kuitannut lähes koko sen Rinteen—Marinin hallituksen velkaantumisen. Tämä väite ei ole johdonmukainen, eikä se pidä täysin paikkaansa, koska oppositio antoi tukensa Rinteen tai oikeastaan Marinin hallitukselle koronakriisissä sekä Ukrainan sotaan liittyvissä toimissa, jotka voidaan nähdä kertaluonteisina menoerinä. Eli ne muodostivat kertaluontoisia menoja koronakriisissä, ne eivät olleet pysyviä menoja. Mutta sen sijaan oppositio ei antanut teille tukea siinä, että te teitte pysyviä menolisäyksiä, joilla saatiin meidän alijäämä kasvuun. Oppositio kerta toisensa jälkeen vaati Marinin hallitusta avaamaan hallitusohjelman [Juho Eerola: Näin muistelin!] ja uudistamaan sen talouslinjauksia, [Joona Räsänen pyytää vastauspuheenvuoroa] jotka eivät olleet kestävällä pohjalla. Tämä on tosiasia.\n",
            "Arvoisa puhemies! Tämä on hyvä, että vähän näitä arkeologisia kaivauksia täällä harjoitetaan ja muistellaan vähän myös sitä viime kautta. Kun te nyt, edustaja Bergbom, totesitte, että te hyväksyitte vain kaiken sen velan, mikä liittyi nyt sitten vaikka tähän Venäjän hyökkäyssotaan, energiakriisiin tai koronaan, mutta mitään muuta te ette hyväksyneet, [Miko Bergbom: En sanonut!] niin katsotaanpa nyt sitten, mitä te esititte silloin itse, mihin niitä lisäeuroja vaikkapa käytettiin. Siihen, että tämä sali nosti valtion eläkkeitä. Yksikään perussuomalainen ei sitä vastustanut. Yksikään perussuomalainen ei vastustanut sitä, että eläkkeitä korotettiin. Tämä sali sääti vaikkapa tämän hoitajamitoituksen, jota tämä hallitus nyt sitten lykkää. Perussuomalaiset vaativat vielä, että sen pitää tulla nopeammin voimaan, vielä nopeammin voimaan. Ette te sitäkään vastustaneet, vaikka siihenkin rahaa meni. Tai edellinen hallitus satsasi julmettoman määrän rahaa vaikkapa koulutukseen verrattuna sitä edelliseen hallitukseen. Yksikään perussuomalainen ei täällä vastustanut niitä menolisäyksiä. Joten tunnustakaa nyt, [Puhemies koputtaa] että kun te syyttelette muita tästä velkaantumisesta, niin te olette siihen ihan yhtä syyllisiä itsekin.\n",
            "\"Arvoisa rouva puhemies! Vastaan tähän kysymykseen, mutta ensinnäkin tuosta viime kauden velasta. Marinin hallituksen aikana otettiin koronaan, Ukrainan sotaan ja energiakriisiin noin 26—27 miljardia euroa velkaa ja noin 10 miljardia muuhun. [Juho Eerola: Jätettiin kaikki sopeutustoimet tekemättä!] Tämä on se suuruusluokka, joka viime kaudelta on jäänyt.\n",
            "\"Arvoisa herra puhemies! Tämä Utsjoen tilanne on todellakin, niin kuin kuultiin, lohduton. Utsjoen kuntaa, kunnan taloutta, korona jo kovasti runteli, koska rajat olivat kiinni ja rajakauppa hyytyi, ja nyt myös tämän lain nojalla edelleen kolmatta kesää kielletään Tenojoella lohenkalastus ja matkailuyritykset kärsivät kovin tästä, ettei ole enää kesäisin turisteja. On tietenkin luontevaa ja ymmärrettävää, että lohia on suojeltava, ja tuo Tenon lohikannan tila on tällä hetkellä huono, mutta se, mikä tästä uupuu, on juuri se kompensaatio kunnille ja yrittäjille tässä tilanteessa.\n"
          ]
        }
      ]
    },
    {
      "cell_type": "code",
      "source": [
        "# l) Can you find any lines ending in \"Kiitos.\"? How many?\n",
        "! cat speeches_2024_02.tsv | cut -f 12 | egrep \"Kiitos.$\" | wc -l"
      ],
      "metadata": {
        "colab": {
          "base_uri": "https://localhost:8080/"
        },
        "id": "SIPfpuqtAoiT",
        "outputId": "c0db8f1e-aaca-4568-dda2-9f05cbf6713e"
      },
      "execution_count": 82,
      "outputs": [
        {
          "output_type": "stream",
          "name": "stdout",
          "text": [
            "15\n"
          ]
        }
      ]
    },
    {
      "cell_type": "code",
      "source": [
        "# 7. Finally, let's check in which languages the speeches are given.\n",
        "! cat speeches_2024_02.tsv | cut -f 23 | sort | uniq | head"
      ],
      "metadata": {
        "colab": {
          "base_uri": "https://localhost:8080/"
        },
        "id": "osH88-OO7BYX",
        "outputId": "c106af86-46aa-41ae-8b24-e810ab45c4ed"
      },
      "execution_count": 52,
      "outputs": [
        {
          "output_type": "stream",
          "name": "stdout",
          "text": [
            "\n",
            "fi\n",
            "fi:sv\n",
            "sv\n"
          ]
        }
      ]
    }
  ]
}