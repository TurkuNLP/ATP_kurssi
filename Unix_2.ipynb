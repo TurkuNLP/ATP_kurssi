{
 "cells": [
  {
   "cell_type": "markdown",
   "metadata": {},
   "source": [
    "# Ohjeiden haku\n",
    "\n",
    "- Kaikki komentoja ei ole edes tarkoitus oppia ulkoa\n",
    "\n",
    "- Google on ihan hyvä apu\n",
    "\n",
    "- Unixin sisällä man\n",
    "\n",
    "man less\n"
   ]
  },
  {
   "cell_type": "markdown",
   "metadata": {},
   "source": [
    "# lisää komentoja: egrep ja wc\n",
    "\n",
    "- wc laskee tiedoston bitit, sanat ja rivit\n",
    "\n",
    "wc hakemisto/kukkuu.txt\n",
    "1 1 7 hakemisto/kukkuu.txt\n",
    "\n",
    "- egrep (vanha versio grep) tulostaa rivit, joissa etsitty \"hahmo\", esim sana, esiintyy\n",
    "egrep \"poo\" hakemisto/kukkuu.txt\n",
    "\n",
    "-- ks. grepin hyvät ohjeet täällä: http://people.uta.fi/~jm58660/jutut/unix/grep.html"
   ]
  },
  {
   "cell_type": "markdown",
   "metadata": {},
   "source": [
    "# Vivut\n",
    "\n",
    "- komennoilla on tyypillisesti paljon erilaisia tarkenteita eli vipuja, joita käskyihin voi liittää\n",
    "\n",
    "- nämä selviävät esim. man-sivuilta\n",
    "\n",
    "    -- esim. head -n 15 [tiedostonimi] printtaakin 15 ekaa riviä \n",
    "    -- esim. wc -l laskee vain rivit\n",
    "    -- ls -lah antaa enemmän tietoa kuin pelkkä ls\n",
    "    -- egrep -v (reverse) printtaa rivit, joilla ei ole osumaa\n",
    "    -- egrep -B N printtaa N riviä ennen osumaa\n",
    "    -- egrep -A N printtaa N riviä osuman jälkeen"
   ]
  },
  {
   "cell_type": "markdown",
   "metadata": {},
   "source": [
    "# Tuotoksen (output) ohjaaminen tiedostoon\n",
    "- komento > kirjoittaa uuden tiedoston\n",
    "    -- esim. echo \"kukkuu\" > tiedosto.txt\n",
    "    \n",
    "- komento >> lisää halutun tiedon jo olemassa olevaan tiedostoon\n",
    "    -- esim. echo \"kukkuu\" >> tiedosto.txt"
   ]
  },
  {
   "cell_type": "markdown",
   "metadata": {},
   "source": [
    "# Tehtävä 3\n",
    "\n",
    "Harjoitellaan vähän vipujen käyttöä.\n",
    "\n",
    "- Kansiossa mavela/tviitit on tiedosto tviitteja1.txt täynnä tviittejä. Kopio tiedosto omaan hakemistoosi esim. komennolla cp /home/mavela/tviitit/tviitteja1.txt .\n",
    "\n",
    "- Tee kotihakemistoosi vielä oma kansio tätä harjoitusta varten, ja siirrä tviitit sinne.\n",
    "\n",
    "- Koita head -komentoa määrittämällä vivun kanssa, kuinka monta riviä haluat nähdä. \n",
    "\n",
    "- Entä miltä näyttää tiedoston viimeinen tviitti?\n",
    "\n",
    "- Kuinka monta riviä tviittejä on? Entä kuinka monta sanaa aineistossa on?\n",
    "\n",
    "- Kuinka monessa tviitissä mainitaan sana Suomi? Entä suomi?\n",
    "\n",
    "- Ohjaa omaan tiedostoonsa kaikki tviitit, joissa mainitaan sana suomi. Laske, kuinka monta tviittiä tässä tiedostossa on. Tämän jälkeen ohjaa tähän tiedostoon myös kaikki ne tviitit, joissa mainitaan \"Suomi\". Laske sitten, kuinka monta näitä tuli yhteensä.\n",
    "\n"
   ]
  },
  {
   "cell_type": "markdown",
   "metadata": {},
   "source": [
    "# Putket\n",
    "\n",
    "- komentoja voi yhdistellä putkilla |\n",
    "- edellisen komennon ouput ohjataan seuraavan komennon syötteeksi\n",
    "        -- esim. seuraava printtaa (cat) ensin tiedoston ja sitten valitsee (egrep) niistä rivit, joissa on sana kukkuu\n",
    "            -- cat tiedosto.txt | egrep \"kukkuu\"\n",
    "        -- seuraava taas ensin printtaa ja sitten laskee rivit\n",
    "            -- cat t.txt | wc -l\n",
    "        -- seuraava taas ensin printtaa, sitten valitsee vain tietyt rivit ja sitten laskee ne\n",
    "            -- cat t.txt | egrep \"kukkuu\"  | wc -l\n",
    "        -- seuraava taas ensin printtaa, sitten valitsee vain rivit, joilla ei ole osumaa, ja sitten laskee ne\n",
    "            -- cat t.txt | egrep -v \"kukkuu\"  | wc -l\n",
    "        -- putken päättäminen less-komentoon on näppärää, jos selattava tiedosto on pitkä \n",
    "             -- -- cat t.txt | egrep -v \"kukkuu\" | less"
   ]
  },
  {
   "cell_type": "markdown",
   "metadata": {},
   "source": [
    "# Tehtävä 4\n",
    "\n",
    "- Kopioi kansiosta mavela/dataa tiedosto data.txt omaan kansioosi\n",
    "    -- esim:  cp /home/mavela/dataa/data.txt .\n",
    "\n",
    "- Selaile tiedostoa data.txt eri komennoilla. Miksi cat on tähän epäkätevä, ja esim. head kätevä? Mitä tiedosto sisältää? Kuinka monta sanaa siinä on? Entä rivejä?\n",
    "\n",
    "- Kuinka monella rivillä \"ihminen\" mainitaan? Entä kuinka monella rivillä ei ole merkkijonoa \"ihminen\"?\n",
    "\n",
    "- egrepillä on monia näppäriä vipuja. Koita ymmärtää man-sivujen, internetin ja yrittämisen avulla, mitä vivut -n, -c, -i ja -w tekevät. \n",
    "\n",
    "- Huomaathan, että vipuja voi myös yhdistellä. Mitä siis tekisi käsky egrep -vi? Entä egrep -ciw?\n",
    "\n",
    "- Kuinka monella rivillä tiedostossa esiintyy merkkijono \"on\"? Entä sana \"on\"? Entä kuinka monessa ei esiinny sanaa \"on\"? Entä, jos laskuihin ottaa mukaan isot ja pienet kirjaimet?\n",
    "\n",
    "- Keskustelujen aiheiden piti liittyä yhteiskuntaan, mutta mukana on aika paljon uskontoa. Kuinka monella rivillä mainitaan Jeesus jossain muodossa? Ota pois kaikki nämä rivit, ja ohjaa tuotos tiedostoon putsattu.txt. Kuinka monta riviä tässä putsatussa versiossa on?\n",
    "\n",
    "- Kopioi vielä kansiosta mavela/dataa tiedosto data-per-line.txt\n",
    "\n",
    "- Kuinka monta riviä tiedostossa on? \n",
    "\n",
    "- Kuinka monella rivillä esiintyy sana \"koira\" omana sananaan? Entä KOIRA? Entä yhteensä?\n",
    "\n",
    "- Hae rivejä, joissa esiintyy merkkijono \"koira\" jossain muodossa, ja tulosta ne tiedostoon. Kuinka monta osumaa näistä tuli?\n",
    "\n",
    "\n",
    "# Lisätehtäviä, jos tulee tylsää\n",
    "\n",
    "## Tiedoston haku Internetistä\n",
    "\n",
    "kirjoittamalla alla olevan käskyn komentoriville saat ladattua koko tiedoston\n",
    "wget http://www.gutenberg.org/cache/epub/38533/pg38533.txt\n",
    "selaile tiedostoa. jos ne näyttää html-tiedostolta, eli sisältää ainoastaan kummallisia väkäsiä ja vähän tekstiä, kopioi tiedosto mieluummin täältä: mavela@nlpedu1:~/gutenberg gutenberg.txt\n",
    "\n",
    "\n",
    "Lataa Talviyön tarinoita kotihakemistoosi\n",
    "Luo sitten kotihakemistoosi hakemisto nimeltä Talviyo ja siirrä teksti sinne\n",
    "Nimeä teksti jotenkin fiksummin\n",
    "Selaile tekstiä. Kenen kirjoittama se on?\n",
    "Miten pääset katsomaan tekstin loppuosaa?\n",
    "Kuinka monta sanaa / riviä tekstissä on?\n",
    "Selaile rivejä, joilla esiintyy sana nainen. Ohjaa ne omaan tiedostoonsa.\n",
    "Kuinka monta rivejä on?\n",
    "Entä, jos ottaa mukaan myös N-alkuiset? Miten sen voi tehdä?\n",
    "Luo vielä tuotos-tiedostolle alihakemisto, ja siirrä analyysit sinne.\n",
    "\n",
    "## Vielä: tviitit\n",
    "Kansiossa mavela/tviitit on tiedosto tviitteja1.txt täynnä tviittejä. Kopioi se omaan kotihakemistoosi, jonnekin järkevään paikkaan.\n",
    "Mitä tviitit käsittelevät?\n",
    "Kuinka monta tviittiä aineistossa on?\n",
    "Miten saat printattua pelkästään rivit, joissa mainitaan sana Suomi ? entä Syyria?\n",
    "Kuinka monessa tviitissä mainitaan sana Suomi? entä suomi? Entä miten saat etsittyä molempia yhdellä käskyllä?\n",
    "Kuinka monessa tviitissä ei mainita sanaa maahanmuuttaja?"
   ]
  }
 ],
 "metadata": {
  "kernelspec": {
   "display_name": "Bash",
   "language": "bash",
   "name": "bash"
  },
  "language_info": {
   "codemirror_mode": "shell",
   "file_extension": ".sh",
   "mimetype": "text/x-sh",
   "name": "bash"
  }
 },
 "nbformat": 4,
 "nbformat_minor": 1
}
