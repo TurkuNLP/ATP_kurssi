{
  "nbformat": 4,
  "nbformat_minor": 0,
  "metadata": {
    "colab": {
      "name": "Notebook2-answers.ipynb",
      "provenance": [],
      "authorship_tag": "ABX9TyO0p6syXwfQHXtRBk0P2WDn",
      "include_colab_link": true
    },
    "kernelspec": {
      "name": "python3",
      "display_name": "Python 3"
    },
    "language_info": {
      "name": "python"
    }
  },
  "cells": [
    {
      "cell_type": "markdown",
      "metadata": {
        "id": "view-in-github",
        "colab_type": "text"
      },
      "source": [
        "<a href=\"https://colab.research.google.com/github/TurkuNLP/ATP_kurssi/blob/master/Notebook2_answers.ipynb\" target=\"_parent\"><img src=\"https://colab.research.google.com/assets/colab-badge.svg\" alt=\"Open In Colab\"/></a>"
      ]
    },
    {
      "cell_type": "markdown",
      "metadata": {
        "id": "O7Rit8Lcx_C3"
      },
      "source": [
        "### Exercise\n",
        "It would be useful to have a look at the actual text in the Gutenberg book, not just the beginning or end. How could you print the lines between 210 and 220? How do they look like?\n",
        "\n",
        "Can you think of two ways to count the lines that match the word \"Gutenberg\"?\n",
        "\n",
        "How can you direct to a file the first 5 lines that match \"Gutenberg\"?\n",
        "\n",
        "Filter away lines that have the word \"gutenberg\" in some form and direct the \"cleaned\" version to a file. Compare this to the original file. How many words or lines did you delete with this filtering?\n",
        "\n",
        "#### Advanced\n",
        "\n",
        "Advanced: Can you find egrep options you can use to match entire words?\n",
        "Make one-liners that print nicely different counts to a file\n",
        "Btw you can also assign piped commands as variables"
      ]
    },
    {
      "cell_type": "code",
      "metadata": {
        "id": "zufbrrhix3ND"
      },
      "source": [
        " ! wget https://www.gutenberg.org/cache/epub/20748/pg20748.txt"
      ],
      "execution_count": null,
      "outputs": []
    },
    {
      "cell_type": "code",
      "metadata": {
        "colab": {
          "base_uri": "https://localhost:8080/"
        },
        "id": "ABYRwFi2yHG3",
        "outputId": "203f90d4-44e0-4609-aa3c-fba1bc271ddd"
      },
      "source": [
        "! head -220 pg20748.txt | tail -10 # first print the first 220 lines, then 10 of the last ones --> those will be the lines bw 210 and 220.bit_length\n",
        "# TIP: cat -n will print you line numbers, that can help you to verify which lines you are having"
      ],
      "execution_count": 4,
      "outputs": [
        {
          "output_type": "stream",
          "name": "stdout",
          "text": [
            "saw Snow-White sleeping in it; so he called his companions, who shouted\r\n",
            "with wonder and held up their seven lamps, so that the light fell upon\r\n",
            "the little girl.\r\n",
            "\r\n",
            "\"Oh, heavens! oh, heavens!\" said they; \"what a beauty she is!\" and they\r\n",
            "were so much delighted that they would not awaken her, but left her to\r\n",
            "sleep, and the seventh Dwarf, in whose bed she was, slept with each of\r\n",
            "his fellows one hour, and so passed the night.\r\n",
            "\r\n",
            "As soon as morning dawned Snow-White awoke, and was quite frightened\r\n"
          ]
        }
      ]
    },
    {
      "cell_type": "code",
      "metadata": {
        "colab": {
          "base_uri": "https://localhost:8080/"
        },
        "id": "FkguHIHgyoaX",
        "outputId": "3d584d36-ddd1-4781-f2ee-8bd967e0fbee"
      },
      "source": [
        "# Can you think of two ways to count the lines that match the word \"Gutenberg\"?\n",
        "! egrep -c \"Gutenberg\" pg20748.txt\n",
        "! cat pg20748.txt | egrep \"Gutenberg\" | wc -l\n",
        "! cat pg20748.txt | egrep -c \"Gutenberg\""
      ],
      "execution_count": 5,
      "outputs": [
        {
          "output_type": "stream",
          "name": "stdout",
          "text": [
            "83\n",
            "83\n",
            "83\n"
          ]
        }
      ]
    },
    {
      "cell_type": "code",
      "metadata": {
        "id": "DGmbDyZoy5vR"
      },
      "source": [
        "# How can you direct to a file the first 5 lines that match \"Gutenberg\"?\n",
        "! cat pg20748.txt| egrep \"Gutenberg\" | head -5 > outputfile.txt # note that the order of the command makes all the difference!"
      ],
      "execution_count": null,
      "outputs": []
    },
    {
      "cell_type": "code",
      "metadata": {
        "colab": {
          "base_uri": "https://localhost:8080/"
        },
        "id": "abef-wQYzLky",
        "outputId": "3aa2c7a2-675e-450b-baf7-7bb2de4fc059"
      },
      "source": [
        "#Filter away lines that have the word \"gutenberg\" in some form and direct the \"cleaned\" version to a file. \n",
        "#Compare this to the original file. How many words or lines did you delete with this filtering?\n",
        "! cat pg20748.txt | egrep -vi \"Gutenberg\" > cleaned.txt\n",
        "! echo \"cleaned version has this many lines and words\"\n",
        "! wc -l cleaned.txt\n",
        "! wc -w cleaned.txt\n",
        "! echo \"uncleaned version has this many lines and words\"\n",
        "! wc -l pg20748.txt\n",
        "! wc -w pg20748.txt"
      ],
      "execution_count": 6,
      "outputs": [
        {
          "output_type": "stream",
          "name": "stdout",
          "text": [
            "cleaned version has this many lines and words\n",
            "4982 cleaned.txt\n",
            "42115 cleaned.txt\n",
            "uncleaned version has this many lines and words\n",
            "5074 pg20748.txt\n",
            "42963 pg20748.txt\n"
          ]
        }
      ]
    },
    {
      "cell_type": "code",
      "metadata": {
        "id": "xaZGaLdazjNG"
      },
      "source": [
        "# egrep -w matches entire words only"
      ],
      "execution_count": null,
      "outputs": []
    },
    {
      "cell_type": "code",
      "metadata": {
        "id": "NRKoUvFm0UFE"
      },
      "source": [
        "# if you want to direct the outputs to a file, you have to add the redirect to every line\n",
        "! echo \"cleaned version has this many lines and words\" > nicethings.txt #here we are rewriting the file, later just appending\n",
        "! wc -l cleaned.txt >> nicethings.txt\n",
        "! wc -w cleaned.txt >> nicethings.txt\n",
        "! echo \"uncleaned version has this many lines and words\"\n",
        "! wc -l pg20748.txt >> nicethings.txt\n",
        "! wc -w pg20748.txt >> nicethings.txt"
      ],
      "execution_count": null,
      "outputs": []
    }
  ]
}