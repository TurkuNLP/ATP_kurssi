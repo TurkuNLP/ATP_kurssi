{
  "nbformat": 4,
  "nbformat_minor": 0,
  "metadata": {
    "colab": {
      "name": "Notebook2-answers.ipynb",
      "provenance": [],
      "authorship_tag": "ABX9TyOXqUXK2uHeRp56nECtfjkz",
      "include_colab_link": true
    },
    "kernelspec": {
      "name": "python3",
      "display_name": "Python 3"
    },
    "language_info": {
      "name": "python"
    }
  },
  "cells": [
    {
      "cell_type": "markdown",
      "metadata": {
        "id": "view-in-github",
        "colab_type": "text"
      },
      "source": [
        "<a href=\"https://colab.research.google.com/github/TurkuNLP/ATP_kurssi/blob/master/Notebook2_answers.ipynb\" target=\"_parent\"><img src=\"https://colab.research.google.com/assets/colab-badge.svg\" alt=\"Open In Colab\"/></a>"
      ]
    },
    {
      "cell_type": "markdown",
      "metadata": {
        "id": "O7Rit8Lcx_C3"
      },
      "source": [
        "### Exercise\n",
        "It would be useful to have a look at the actual text in the Gutenberg book, not just the beginning or end. How could you print the lines between 210 and 220? How do they look like?\n",
        "\n",
        "Can you think of two ways to count the lines that match the word \"Gutenberg\"?\n",
        "\n",
        "How can you direct to a file the first 5 lines that match \"Gutenberg\"?\n",
        "\n",
        "Filter away lines that have the word \"gutenberg\" in some form and direct the \"cleaned\" version to a file. Compare this to the original file. How many words or lines did you delete with this filtering?\n",
        "\n",
        "#### Advanced\n",
        "\n",
        "Advanced: Can you find egrep options you can use to match entire words?\n",
        "Make one-liners that print nicely different counts to a file\n",
        "Btw you can also assign piped commands as variables"
      ]
    },
    {
      "cell_type": "code",
      "metadata": {
        "id": "zufbrrhix3ND"
      },
      "source": [
        " ! wget https://www.gutenberg.org/cache/epub/20748/pg20748.txt"
      ],
      "execution_count": null,
      "outputs": []
    },
    {
      "cell_type": "code",
      "metadata": {
        "id": "wcbgdsUxdaA3"
      },
      "source": [
        "! head pg20748.txt"
      ],
      "execution_count": null,
      "outputs": []
    },
    {
      "cell_type": "code",
      "metadata": {
        "id": "ABYRwFi2yHG3"
      },
      "source": [
        "! cat -n pg20748.txt | head -220 | tail -10 # first print the first 220 lines, then 10 of the last ones --> those will be the lines bw 210 and 220.bit_length\n",
        "# TIP: cat -n will print you line numbers, that can help you to verify which lines you are having"
      ],
      "execution_count": null,
      "outputs": []
    },
    {
      "cell_type": "code",
      "metadata": {
        "id": "FkguHIHgyoaX"
      },
      "source": [
        "# Can you think of two ways to count the lines that match the word \"Gutenberg\"?\n",
        "! egrep -c \"Gutenberg\" pg20748.txt\n",
        "! cat pg20748.txt | egrep \"Gutenberg\" | wc -l\n",
        "! cat pg20748.txt | egrep -c \"Gutenberg\""
      ],
      "execution_count": null,
      "outputs": []
    },
    {
      "cell_type": "code",
      "metadata": {
        "id": "DGmbDyZoy5vR"
      },
      "source": [
        "# How can you direct to a file the first 5 lines that match \"Gutenberg\"?\n",
        "! cat pg20748.txt| egrep \"Gutenberg\" | head -5 > output.txt # note that the order of the command makes all the difference!\n",
        "! cat pg20748.txt | head -5 | egrep \"Gutenberg\" "
      ],
      "execution_count": null,
      "outputs": []
    },
    {
      "cell_type": "code",
      "metadata": {
        "colab": {
          "base_uri": "https://localhost:8080/"
        },
        "id": "abef-wQYzLky",
        "outputId": "caf57f67-2970-4837-e660-f68a2b756da6"
      },
      "source": [
        "#Filter away lines that have the word \"gutenberg\" in some form and direct the \"cleaned\" version to a file. \n",
        "#Compare this to the original file. How many words or lines did you delete with this filtering?\n",
        "! cat pg20748.txt | egrep -vi \"Gutenberg\" > cleaned.txt\n",
        "! echo \"cleaned version has this many lines and words\"\n",
        "! wc -l cleaned.txt\n",
        "! wc -w cleaned.txt\n",
        "! echo \"uncleaned version has this many lines and words\"\n",
        "! wc -l pg20748.txt\n",
        "! wc -w pg20748.txt"
      ],
      "execution_count": 10,
      "outputs": [
        {
          "output_type": "stream",
          "name": "stdout",
          "text": [
            "cleaned version has this many lines and words\n",
            "4982 cleaned.txt\n",
            "42115 cleaned.txt\n",
            "uncleaned version has this many lines and words\n",
            "5074 pg20748.txt\n",
            "42963 pg20748.txt\n"
          ]
        }
      ]
    },
    {
      "cell_type": "code",
      "metadata": {
        "id": "rLmXnZLPfTmP"
      },
      "source": [
        "! cat output.txt"
      ],
      "execution_count": null,
      "outputs": []
    },
    {
      "cell_type": "code",
      "metadata": {
        "id": "xaZGaLdazjNG"
      },
      "source": [
        "# egrep -w matches entire words only\n",
        "! cat pg20748.txt | egrep -w \"match\"\n",
        "! cat pg20748.txt | egrep \" match \" # this matches the string surrounded by whitespace"
      ],
      "execution_count": null,
      "outputs": []
    },
    {
      "cell_type": "code",
      "metadata": {
        "id": "NRKoUvFm0UFE"
      },
      "source": [
        "# if you want to direct the outputs to a file, you have to add the redirect to every line\n",
        "! echo \"cleaned version has this many lines and words\" > nicethings.txt #here we are rewriting the file, later just appending\n",
        "! wc -l cleaned.txt >> nicethings.txt\n",
        "! wc -w cleaned.txt >> nicethings.txt\n",
        "! echo \"uncleaned version has this many lines and words\"\n",
        "! wc -l pg20748.txt >> nicethings.txt\n",
        "! wc -w pg20748.txt >> nicethings.txt"
      ],
      "execution_count": null,
      "outputs": []
    },
    {
      "cell_type": "code",
      "metadata": {
        "id": "kxKJCaxEgl7n"
      },
      "source": [
        "! echo \"dog\" >> del.txt\n",
        "! echo \"cat\" >> del.txt\n",
        "! echo \"mouse\" >> del.txt\n",
        "! echo \"cats\" >> del.txt\n",
        "! cat del.txt"
      ],
      "execution_count": null,
      "outputs": []
    },
    {
      "cell_type": "code",
      "metadata": {
        "id": "oInCdj8DguIB"
      },
      "source": [
        "! egrep -v cats del.txt"
      ],
      "execution_count": null,
      "outputs": []
    }
  ]
}