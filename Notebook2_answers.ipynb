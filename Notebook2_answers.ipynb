{
  "nbformat": 4,
  "nbformat_minor": 0,
  "metadata": {
    "colab": {
      "provenance": [],
      "toc_visible": true,
      "collapsed_sections": [],
      "authorship_tag": "ABX9TyPNchq0UTXUuEPXQ6lqRjBh",
      "include_colab_link": true
    },
    "kernelspec": {
      "name": "python3",
      "display_name": "Python 3"
    },
    "language_info": {
      "name": "python"
    }
  },
  "cells": [
    {
      "cell_type": "markdown",
      "metadata": {
        "id": "view-in-github",
        "colab_type": "text"
      },
      "source": [
        "<a href=\"https://colab.research.google.com/github/TurkuNLP/ATP_kurssi/blob/master/Notebook2_answers.ipynb\" target=\"_parent\"><img src=\"https://colab.research.google.com/assets/colab-badge.svg\" alt=\"Open In Colab\"/></a>"
      ]
    },
    {
      "cell_type": "markdown",
      "metadata": {
        "id": "4l6srdjKonG8"
      },
      "source": [
        "### Time out\n",
        "\n",
        "* How to rename a file?\n",
        "* How to count how many words and lines a file has?\n",
        "* How to count how many times the pronoun _he_ appears in a file? How can you control the use of capitals and white spaces so that the query matches only entire words?\n",
        "* How to direct all the lines that match the query (_he_) to a file?\n"
      ]
    },
    {
      "cell_type": "code",
      "metadata": {
        "id": "-hDMVIHhaDeS"
      },
      "source": [
        "# let's first get the data we had previously\n",
        "! wget https://www.gutenberg.org/cache/epub/20748/pg20748.txt\n",
        "! ls"
      ],
      "execution_count": null,
      "outputs": []
    },
    {
      "cell_type": "code",
      "source": [
        "# For renaming:\n",
        "! mv pg20748.txt myfile.txt\n",
        "! ls"
      ],
      "metadata": {
        "id": "ieKXON_Ia7mz"
      },
      "execution_count": null,
      "outputs": []
    },
    {
      "cell_type": "code",
      "source": [
        "# Counting words and lines:\n",
        "! echo this many words:\n",
        "! wc -w myfile.txt\n",
        "! echo \"----\"\n",
        "! echo this many lines:\n",
        "! wc -l myfile.txt\n"
      ],
      "metadata": {
        "id": "XALaxT-_b83-"
      },
      "execution_count": null,
      "outputs": []
    },
    {
      "cell_type": "code",
      "source": [
        "# Counting _he_ as a word (also in caps)\n",
        "! egrep -wic \"he\" myfile.txt\n",
        "\n",
        "# to check what we actually counted, we should run the same command without counting\n",
        "! egrep -wi \"he\" myfile.txt"
      ],
      "metadata": {
        "id": "wKoEBEJlcYbA"
      },
      "execution_count": null,
      "outputs": []
    },
    {
      "cell_type": "code",
      "source": [
        "# Directing to a file\n",
        "! echo \"He appeared in the file this many times:\"\n",
        "! egrep -wi \"he\" myfile.txt > outputfile.txt"
      ],
      "metadata": {
        "id": "WlzaPa31dkTO"
      },
      "execution_count": null,
      "outputs": []
    },
    {
      "cell_type": "code",
      "source": [
        "# better check that it looks ok\n",
        "! cat outputfile.txt"
      ],
      "metadata": {
        "id": "JGbDw_CfdrBB"
      },
      "execution_count": null,
      "outputs": []
    }
  ]
}
