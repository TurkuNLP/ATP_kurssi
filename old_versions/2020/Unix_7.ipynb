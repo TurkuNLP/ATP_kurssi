{
 "cells": [
  {
   "cell_type": "markdown",
   "metadata": {},
   "source": [
    "# Syntaksianalysoidut aineistot\n",
    "\n",
    "Juoksevan tekstin sijaan nykyään tekstiaineistot ovat aika usein syntaksimerkittyjä.\n",
    "\n",
    "Yhä yleistyvänä standardina syntaksia kuvataan dependenssipuilla, joissa sanojen roolia ja sanojen välisiä riippuvuuksia kuvataan dependensseillä eli riippuvuuksilla.\n",
    "\n",
    "Riippuvuudet sitovat yhteen pääsanan (head/governor) ja sille alisteisten sanan (dependent)\n",
    "\n",
    "Riippuvuuksilla on aina suunta: ne lähtevät pääsanasta\n",
    "\n",
    "Riippuvuuksilla on aina joku tyyppi, esim. subjekti tai objekti\n",
    "\n",
    "Riippuvuuksia on aina vain yksi per sana\n",
    "\n",
    "Koko virkkeen \"juuri\" on sana, josta kaikki muut sanat ainakin välillisesti lähtevät. Näitä on vain yksi per virke.\n",
    "\n",
    "Tavallisesti juuri on finiittiverbi\n",
    "\n",
    "Lähtökohtana on, että riippuvuudet eivät saa mennä \"ristiin\", vaan niitä seuraamalla pitäisi päästä virkkeen juureen.\n",
    "\n",
    "Tällä kurssilla käytettävissä aineistoissa syntaksi on kuvattu Universal Dependencies -mallin mukaisesti (http://universaldependencies.org/) \n",
    "\n",
    "Hyvä johdatus aiheeseen löytyy täältä: http://universaldependencies.org/introduction.html\n",
    "\n",
    "Käydään kurkkaamassa pari esimerkkiä Parsebankista: http://bionlp-www.utu.fi/dep_search/\n",
    "\n",
    "Syntaksitiedot merkitään erilaisilla conll-formaateilla. Näitä on useampia (conllu, conll09, jne.), mutta pääidea on, että teksti on sana / rivi -muodossa, ja rivillä tiedot sanan paikasta virkkeessä, perusmuodosta, sanaluokasta ja syntaksifunktiosta ovat omilla sarakkeillaan.\n",
    "\n",
    "Esim. alla \n",
    "- ensimmäinen sarake kertoo sanan järjestysnumeron virkkeessä, ja toimii myös sen id:nä\n",
    "- toinen sarake: sane\n",
    "- kolmas sarake: perusmuoto eli lemma\n",
    "- neljäs sarake: sanaluokka\n",
    "- viides sarake: morfologiset tiedot\n",
    "- kuudes sarake: sanan pääsanan id, eli sana, josta tähän sanaan tulee riippuvuus. 0 tarkoittaa, että sana on virkkeen juuri.\n",
    "- seitsemäs sarake: riippuvuuden tyyppi\n",
    "\n",
    "\n",
    "1 Lue lukea VERB Mood=Imp|Number=Sing|Person=2|VerbForm=Fin|Voice=Act 0 root \n",
    "\n",
    "2 lisää lisää ADV _ 1 advmod \n",
    " "
   ]
  },
  {
   "cell_type": "markdown",
   "metadata": {},
   "source": [
    "# Tehtävä 12\n",
    "\n",
    "Tarkastellaan hiukan, miten dependenssisyntaksi toimii etsimällä tiettyjä sidoksia Parsebankista. Tämän voi toki tehdä komentoriviltäkin, mutta käytetään Dep Searchiä ja sen hakutoimintoja. Esim. seuraava komento etsii kaikkia sanoja, joihin tulee dobj-dependenssi (ilman #-merkkejä)\n",
    "\n",
    "_ #<dobj #_\n",
    "\n",
    "Etsi seuraavia dependenssejä. Mitä lauseenjäseniä ne merkitsevät? Näyttävätkö analyysit oikeilta?\n",
    "\n",
    "dobj\n",
    "mark\n",
    "nmod\n",
    "advmod\n",
    "nsubj\n",
    "nsubj:cop\n",
    "amod\n"
   ]
  },
  {
   "cell_type": "markdown",
   "metadata": {},
   "source": [
    "# Conllu-tiedostojen käsittely\n",
    "\n",
    "Conllu-tiedostojen käsittelyssä cut-käsky on näppärä. Se printtaa vain halutut sarakkeet. \n",
    "\n",
    "Esim. seuraava käsky printtaa ainoastaaan toisen sarakkeen\n",
    "\n",
    "cat tiedosto.conllu | cut -f 2 | less\n",
    "\n",
    "Cutin -d -vipu määrittää sarakkeiden jakamisperiaatteen, joka defaulttina on tabulaattori. Seuraavassa se olisi väli:\n",
    "\n",
    "cat tiedosto.txt | cut -f 2 -d ' '"
   ]
  },
  {
   "cell_type": "markdown",
   "metadata": {},
   "source": [
    "# Tehtävä 13\n",
    "\n",
    "- Syntaksijäsennettyjä tiedostoja löytyy kansiosta /home/mavela/dataa/syntaksijasennetyt Näistä voi käyttää näihin tehtäviin eri aineistoja!\n",
    "\n",
    "\n",
    "- Nyt kun meillä on tiedot sanojen sanaluokista, sanamäärälaskuria voi täsmentää. Lasketaan sanat vielä niin, että mukana ei ole välimerkeiksi analysoituja \"saneita\". Mikä sanaluokkaleima näillä on? Minkä sanamärän saat aineistolle tämän jälkeen?\n",
    "\n",
    "- Yllä tarkasteltiin jo dependenssityyppejä Dep Searchin avulla. Laske vielä dependenssityyppien frekvenssit conllu-tiedostosta. Mitkä ovat yleisimpiä? Mitä et tunnista? Näistä voi etsiä esimerkkejä.\n",
    "\n",
    "\n"
   ]
  },
  {
   "cell_type": "markdown",
   "metadata": {},
   "source": [
    "# Lisätehtävä\n",
    "\n",
    "- Tarkastellaan vielä sanaluokkaleimoja. Laske eri sanaluokkien frekvenssit aineistosta. Mitkä ovat yleisimpiä? Entä mitä ne tarkoittavat? Etsi esimerkki virkkeestä, jossa sitä käytetään.\n"
   ]
  },
  {
   "cell_type": "markdown",
   "metadata": {},
   "source": [
    "# Tehtävä 14\n",
    "\n",
    "Tieto sanaluokista ja syntaksista antaa mahdollisuuden hyvinkin monipuoliseen aineiston analyysiin. Esimerkiksi yleisimpiä sanoja voi laskea lemmoista eli perusmuodoista, ja frekvenssilistoista voi jättää pois sanaluokkia, joilla ei välttämättä ole lingvististä arvoa. Laske pb-aineiston yleisimmät lemmamuodot. Puhdista listaa niin, että siinä ei näy välimerkkejä eikä numeroita. Tuleeko mieleen muita dependenssityyppejä tai sanaluokkia, joita kannattaisi ottaa pois?\n",
    "\n",
    "Toisaalta voi laskea myös yleisimpiä sanoja, joita käytetään tietyissä syntaksitehtävissä. Laske aineistosta tyypillisimmät subjektit. Niitä merkitään esim. riippuvuuksilla nsubj:cop ja nsubj. \n",
    "\n",
    "Tämän jälkeen laske vielä yleisimmät pääverbit (root)\n"
   ]
  },
  {
   "cell_type": "markdown",
   "metadata": {},
   "source": [
    "# Lisätehtävä\n",
    "\n",
    "Subjekteja on vielä eri sanaluokissa. Erittele vielä yleisimmät subjektit sananaluokittain. (Selvitä yleisimmät subjektien sanaluokat aineistosta.)\n"
   ]
  }
 ],
 "metadata": {
  "kernelspec": {
   "display_name": "Bash",
   "language": "bash",
   "name": "bash"
  },
  "language_info": {
   "codemirror_mode": "shell",
   "file_extension": ".sh",
   "mimetype": "text/x-sh",
   "name": "bash"
  }
 },
 "nbformat": 4,
 "nbformat_minor": 1
}
