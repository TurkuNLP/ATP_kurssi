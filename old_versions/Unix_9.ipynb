{
 "cells": [
  {
   "cell_type": "markdown",
   "metadata": {},
   "source": [
    "# Silmukat - for loops\n",
    "\n",
    "- Skripteillä voi tehdä pitkän komennon yhdelle tiedostolle, esim. laske virkkeiden / sanojen / verbien määrä\n",
    "\n",
    "- For-loopilla sama komento voidaan suorittaa yhdellä komennolla useammalle tiedostolle\n",
    "\n",
    "- Tähän tarvitaan myös hiukan säännöllisiä lausekkeita\n",
    "\n",
    "    - for f in hakemisto/* ; do echo $f ; done \n",
    "\n",
    "    - for f in hakemisto/*txt ; do echo $f ; done \n",
    "\n",
    "    - for f in hakemisto/*conllu ; do echo $f ; done \n",
    "\n",
    "- puolipisteiden väliin tulee käskyt, jotka suoritetaan jokaiselle annetulle tiedostolle\n",
    "\n",
    "- puolipisteiden väliin voi myös laittaa putken, skriptin tai mitä vaan. \n",
    "\n",
    "- Tuotteen voi ohjata tiedostoon joko lopuksi tai jo käskyn sisällä, jolloin jokaisen tiedoston tuote menee omaan tiedostoonsa\n",
    "\n",
    "    -  for f in hakemisto/*conllu ; do cat $f | egrep \"kukkuu\" ; done \n",
    "\n",
    "- $f kuvaa muuttujaa, sitä, jolle komento suoritetaan. Sitä voi myös muokata\n",
    "\n",
    "    - for f in hakemisto/* ; do cat $f | egrep \"kukkuu|verbi\" ; done > output.txt\n",
    "\n",
    "    - for f in hakemisto/* ; do cat \\$f | ./skripti.sh > $f-output ; done \n",
    "\n",
    "- puolipisteitä voi myös laittaa useamman, jos mukaan halutaan useampi komentosarja\n",
    "\n",
    "    - for f in hakemisto/\\* ; do echo \\$f ; cat $f | egrep \"kukkuu|verbi\" ; done > output.txt\n"
   ]
  },
  {
   "cell_type": "markdown",
   "metadata": {},
   "source": [
    "# Tehtävä 20\n",
    "\n",
    "- Suorita tämä tehtävä jossain hakemistossa, jossa on txt-loppuisia tiedostoja.\n",
    "\n",
    "1. Tee for loop, joka laskee kaikkien hakemiston txt-loppuisten tiedostojen sanamäärät\n",
    "\n",
    "2. Muokkaa edellistä komentoa niin, että loop myös printtaa ennen sanamäärää tiedoston nimen.\n",
    "\n",
    "3. Tee sitten for loop, joka laskee txt-tiedostojen sijaan conllu-tiedostojen sanamäärän, ja ottaa myös pois ainakin kommenttirivit ja tyhjät rivit. \n",
    "\n",
    "4. Tee skripti, joka etsii sille annetusta conllu-tiedostosta 20 yleisintä lemmaa. Ota ainakin numerot, välimerkit, symbolit ja konjunktiot pois. \n",
    "\n",
    "Aja tätä skriptiä sitten for loopilla niin, että se printtaa kaikkien hakemiston conllu-tiedostojen nimet ja yleisimmät sanat ruudulle.\n",
    "\n",
    "Muuta for loopia sitten niin, että se printtaa jokaisen tiedoston yleisimmät sanat tiedostoon, jonka nimi on alkuperäisen [tiedoston nimi].txt\n"
   ]
  },
  {
   "cell_type": "markdown",
   "metadata": {},
   "source": [
    "# Tehtävä 21\n",
    "\n",
    "Dataa-kansiosta löytyy tviittejä csv-tiedostoissa. Kopioi ne kaikki kotikansioosi.\n",
    "\n",
    "- Tee ensin skripti, joka printtaa 15 yleisintä hashtagiä jokaisesta tviittitiedostosta (ei kuitenkaan frekvenssejä). Tviitit ovat csv-muodossa, jossa sarakkeet on erotettu pilkulla. Muistathan, että cut-komennossa d-vivulla voi määrittää sarakkeen erotusmerkin, jos se ei ole tabulaattori. Esim. cut -f 1 -d ' ' erottaisi ensimmäisen sarakkeen, jota merkitään välilyönnillä. \n",
    "\n",
    "- Aja skripti for loopilla niin, että se printtaa jokaisen tiedoston nimen ja sen 15 yleisintä hashtagiä. \n",
    "\n",
    "- Vertaile hashtageja tiedostojen välillä. Onko jotkut hashtagit samoja eri tiedostojen välillä? Miten tätä voisi tehdä koneellisesti?\n",
    "\n",
    "- Tee skripti, joka laskee 100 tviittien yleisintä sanaa. Putsaa välimerkkejä ja nettiosoitteita sanoista, ja normalisoi isot kirjaimet pieniksi. Ota myös nettiosoitteet ja hasthagit pois.\n",
    "\n",
    "- Aja sitten skripti for loopilla kaikille csv-tiedostoille, ja tallenna kaikki nämä \n"
   ]
  },
  {
   "cell_type": "markdown",
   "metadata": {},
   "source": [
    "# Tehtävä\n",
    "\n",
    "Tarkastellaan sitten vähän suomen morfologiaa. Tee skripti, joka etsii kaikki käyttää-verbin muodot. (etsi vain käyttää-verbejä, ei esim. säikäyttää)\n",
    "\n",
    "- Mitkä ovat yleisimpiä? Käytä esim. parsebank-tiedostoa.\n",
    "\n",
    "- Kuinka monta erilaista muotoa löysit?  (muista isot ja pienet kirjaimet...)\n",
    "\n",
    "zcat pb-head2.conllu.gz | egrep \"VERB\" | egrep \"[[:space:]]käyttää[[:space:]]\" | cut -f 2 | tr '[[:upper:]]' '[[:lower:]]' | sort | uniq -c | sort -rn | wc -l\n"
   ]
  },
  {
   "cell_type": "markdown",
   "metadata": {},
   "source": [
    "# Lisätehtävä\n",
    "\n",
    "Edellisellä kalvolla on linkkejä ohjeisiin, joiden avulla skriptille voi antaa komentoriviltä muuttujan. Tee edellisen tehtävän komennosta skripti, jolle etsittävä sana annetaan komentoriviltä. Testaa skriptiä myös englanninkielisiin tviitteitin, jota syntaksijasennettya-kansiosta löytyy. "
   ]
  }
 ],
 "metadata": {
  "kernelspec": {
   "display_name": "Bash",
   "language": "bash",
   "name": "bash"
  },
  "language_info": {
   "codemirror_mode": "shell",
   "file_extension": ".sh",
   "mimetype": "text/x-sh",
   "name": "bash"
  }
 },
 "nbformat": 4,
 "nbformat_minor": 0
}
