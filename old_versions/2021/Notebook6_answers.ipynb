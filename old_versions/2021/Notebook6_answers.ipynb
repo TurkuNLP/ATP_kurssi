{
  "nbformat": 4,
  "nbformat_minor": 0,
  "metadata": {
    "colab": {
      "name": "Notebook6_answers.ipynb",
      "provenance": [],
      "authorship_tag": "ABX9TyP0kEFzsbq4ExwXAeFwY11B",
      "include_colab_link": true
    },
    "kernelspec": {
      "name": "python3",
      "display_name": "Python 3"
    },
    "language_info": {
      "name": "python"
    }
  },
  "cells": [
    {
      "cell_type": "markdown",
      "metadata": {
        "id": "view-in-github",
        "colab_type": "text"
      },
      "source": [
        "<a href=\"https://colab.research.google.com/github/TurkuNLP/ATP_kurssi/blob/master/Notebook6_answers.ipynb\" target=\"_parent\"><img src=\"https://colab.research.google.com/assets/colab-badge.svg\" alt=\"Open In Colab\"/></a>"
      ]
    },
    {
      "cell_type": "markdown",
      "metadata": {
        "id": "1g71oUcGp5gg"
      },
      "source": [
        "* Create a directory for this exercise\n",
        "\n",
        "* Let's use data in /home/mavela/nltk_data/corpora/brown\n",
        "\n",
        "* List with ls the files in this directory. How many are there?\n",
        "\n",
        "`ls * | wc -l`\n",
        "\n",
        "`ls /home/mavela/nltk_data/corpora/brown/* | wc -l`\n",
        "\n",
        "* Advanced: You can also filter away files that do not include data:\n",
        "\n",
        " `ls |egrep -v \"^[a-z]+[0-9]+\"| wc -l`\n",
        "\n",
        "* Copy all the files to your own directory. You can use * from the previous lecture, e.g.\n",
        "  `cp /home/mavela/nltk_data/corpora/brown/*  mynewfolder `\n",
        "* Once you have the files in your own directory, count the most frequent tokens / strings in all the files\n",
        "\n",
        "* Note that you can cat them all by doing `cat *`\n",
        "```\n",
        "mavela@nlpedu-new-1:~/dataa/Wed$ cat * |perl -pe 's/ /\\n/g' | sort | uniq -ci | sort -rn | head -10\n",
        "  62284 the/at\n",
        "  58150 ,/,\n",
        "  48788 ./.\n",
        "  36898\n",
        "  34864 of/in\n",
        "  27676 and/cc\n",
        "  21824 a/at\n",
        "  18974 in/in\n",
        "  14679 to/to\n",
        "  10903 to/in\n",
        "```\n",
        "\n",
        "* How many words the files have alltogether?\n",
        "\n",
        "```\n",
        "mavela@nlpedu-new-1:~/dataa/Wed$ cat * |perl -pe 's/ /\\n/g' | egrep -v \"^$\" | wc -l\n",
        "1181669\n",
        "```\n",
        "\n",
        "* Note that now it makes sense to use lessat the end of the pipe!\n",
        "`cat x.txt | egrep \"is\" | less`\n",
        "\n",
        "* More advanced: The tokens are attached to some grammatical tags. Use the` perl -pe ... script` above to remove those\n",
        "\n",
        "* What are the most frequent words then? What abt the grammatical tags?\n",
        "\n",
        "```\n",
        "mavela@nlpedu-new-1:~/dataa/Wed$ cat * | perl -pe 's/\\/[a-z\\-\\$]+ / /g' | perl -pe 's/[[:punct:]]\\/[[:punct:]]//g' | perl -pe 's/ /\\n/g' | egrep -v \"^$\" | sort | uniq -c | sort -rn | head -10\n",
        "  62901 the\n",
        "  36591 of\n",
        "  28126 and\n",
        "  25779 to\n",
        "  21912 a\n",
        "  19639 in\n",
        "  10238 that\n",
        "  10019 is\n",
        "   9777 was\n",
        "   8889 for\n",
        "\n",
        "\n",
        "   mavela@nlpedu-new-1:~/dataa/Wed$ cat * | perl -pe 's/(^|\\t| )+[a-zA-Z]+\\// /g' | perl -pe 's/[[:punct:]]\\/[[:punct:]]//g' | perl -pe 's/ /\\n/g' | egrep -v \"^$\" | sort | uniq -c | sort -rn | head -10\n",
        " 149549 nn\n",
        " 120509 in\n",
        "  97973 at\n",
        "  60646 jj\n",
        "  53948 nns\n",
        "  37633 cc\n",
        "  36087 rb\n",
        "  33637 vb\n",
        "  30587 np\n",
        "  29138 vbn\n",
        "\n",
        "```\n",
        "\n",
        "\n"
      ]
    }
  ]
}