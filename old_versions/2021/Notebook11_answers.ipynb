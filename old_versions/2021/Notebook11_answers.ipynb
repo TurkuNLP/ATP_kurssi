{
  "nbformat": 4,
  "nbformat_minor": 0,
  "metadata": {
    "colab": {
      "name": "Notebook11_answers.ipynb",
      "provenance": [],
      "authorship_tag": "ABX9TyMuIjOS3R0xpe4u5LoR6nLI",
      "include_colab_link": true
    },
    "kernelspec": {
      "name": "python3",
      "display_name": "Python 3"
    },
    "language_info": {
      "name": "python"
    }
  },
  "cells": [
    {
      "cell_type": "markdown",
      "metadata": {
        "id": "view-in-github",
        "colab_type": "text"
      },
      "source": [
        "<a href=\"https://colab.research.google.com/github/TurkuNLP/ATP_kurssi/blob/master/Notebook11_answers.ipynb\" target=\"_parent\"><img src=\"https://colab.research.google.com/assets/colab-badge.svg\" alt=\"Open In Colab\"/></a>"
      ]
    },
    {
      "cell_type": "markdown",
      "metadata": {
        "id": "2RUDkjEG273s"
      },
      "source": [
        "## Recap\n",
        "\n",
        "### Exercise 1\n",
        "* Get data https://github.com/TurkuNLP/FinCORE\n",
        "- (If you want non-Finnish data, you can use https://github.com/TurkuNLP/Multilingual-register-corpora)\n",
        "* Read the description on the front page so you know what you are working on\n",
        "* If you want to know more about the classes, see https://turkunlp.org/register-annotation-docs/"
      ]
    },
    {
      "cell_type": "code",
      "metadata": {
        "id": "Q_IzLp-MhsLh",
        "colab": {
          "base_uri": "https://localhost:8080/"
        },
        "outputId": "fc3c2087-dd28-4753-e37e-06eb111982b6"
      },
      "source": [
        "! git clone https://github.com/TurkuNLP/FinCORE\n",
        "% cd FinCORE/data\n",
        "! ls"
      ],
      "execution_count": 2,
      "outputs": [
        {
          "output_type": "stream",
          "name": "stdout",
          "text": [
            "Cloning into 'FinCORE'...\n",
            "remote: Enumerating objects: 38, done.\u001b[K\n",
            "remote: Counting objects: 100% (10/10), done.\u001b[K\n",
            "remote: Compressing objects: 100% (8/8), done.\u001b[K\n",
            "remote: Total 38 (delta 0), reused 0 (delta 0), pack-reused 28\u001b[K\n",
            "Unpacking objects: 100% (38/38), done.\n",
            "/content/FinCORE/data\n",
            "dev.tsv  LICENSE.txt  test.tsv\ttrain.tsv\n"
          ]
        }
      ]
    },
    {
      "cell_type": "code",
      "metadata": {
        "colab": {
          "base_uri": "https://localhost:8080/"
        },
        "id": "w65iI6hT3WlN",
        "outputId": "bf7faa11-e466-4c4e-8009-dd4e6e0d9f3f"
      },
      "source": [
        "! head train.tsv"
      ],
      "execution_count": 3,
      "outputs": [
        {
          "output_type": "stream",
          "name": "stdout",
          "text": [
            "Opinion\tRamopunk.com 5-vuotissynttärit Tampere 1.-3.3.2007 Jonna : Aputoimittajan keikkaraportti - Osa 2 : Perjantai 2.3.07 - Jopas lähti ! Aamulla olo oli hyvä , kiitos oman päättäväisyyden ja Vastavirran kahvitarjoilun . Tänään tiedossa olisi sitten jo pieni tupa täynnä ja kovat bileet . Vastavirtaan hyvissä ajoin ja ihmisiä oli silloin jo paljon paikalla . Kauheesti tuttuja ja kavereita ympäri Suomen ja Kretiinit menikin siinä sitten tuttuja moikkaillessa ja kuulumisia vaihdellessa . Vihanneksiksi olinkin jo sitten löytänyt paikan lavan edustalta . Tutut biisit tuli ja uusiakin . Ainakin minulle ihan uusia biisejä . Keikan aluksi Hallu vieraili taas lavalla . En muista mitä siellä sovelsi , mutta eipä tuon niin väliä . Toi on vaan jotenkin hienon näköinen toi Vihannes-asetelma . Kitarat sivuilla ja rumpali paukuttelee ja laulelee samaan aikaan . Pistää ihmettelemään kuinka se on mahdollista . Minun rumpali urani loppui siihen kun sain niin monesti pelkällä soittamisella mustelmia kasvoihini ja melkein puhkoin silmäni . Hyvä fiilis oli Vihanneksilla ja yleisöllä ! 70-luvun Vihannekset ( kuva : M!ka ) . Taukojuomaa muutama ja lavalle Joey Luumäki . Tämä tuli katseltua rauhallisesti istuen ja samalla seurustellessa . Peitsamoa taisi ainakin tulla ja mieleen jäi ainakin numero 82 . Tiedä ketä äänestät ! Muistikuvat on vähän hatarat ja yksittäisiä biisejä ei tule juuri mieleen . Olisiko Onnellinen perhe ollut viimeisenä ja sai kovan menon aikaan lavalla ja sen edessä . Lavalla käväisi muistaakseni vierailevia tähtiäkin tuon biisin aikana . . Joey Luumäki ( kuva : M!ka ) . Salmaria piti kokeilla muutaman paukun verran , kun sitä kerran nykyään Vastavirralla tarjoillaan . Ehkä huonokin idea , koska Häiriköt plays Misfits jäi lähes kokonaan kokematta . Asiaan kuuluvat meikit oli ja asiaan kuuluva meininki oli lavan edustalla ja kauempanakin . Hienosti vetivät ja tämä viimeistään sai kengät kattoon kaikilta . Vieraileva laulaja veti kyllä hyvin ! \" Pojilla ei ole muuta , kuin hittibiisejä ja meno sen mukaista yleisöllä \" ( kuva : M!ka ) . Yhtäkkiä lavalle astelikin jo Pojat ja ilta alkoi olla lopuillaan . Aina se vaan menee niin , että kun on kivaa niin kaikki loppuu liian nopeasti . Ei auttanut muuta kuin tunkea lavan eteen mustelmia hankkimaan . Pojilla ei ole muuta , kuin hittibiisejä ja meno sen mukaista yleisöllä . Joka biisi piti pomppia kuin viimeistä päivää ! Tässä on kyllä niin hieno bändi , jonka keikalla ei koskaan ole tylsää . Ihan ehdottomasti päivän kohokohta taas . Minä se aina vaan näistä Pojista niin tykkään . Valomerkkejä sateli ja piti alkaa tilailla taksia . Sputnikkiin lähdettiin sitten vielä jatkoille lähes kaikki paikalla olleet . Tappiin asti ei oltu paikalla , kun poika oli niin holtittomassa humalassa ja itselläkin alkoi uni painaa silmään . Taksi takaisin Pispalaan ja unta palloon .\n",
            "Opinion\tOriginal Sokos Vaakuna Hotellikuvaus A 1 Palvelu oli parasta , mitä on suomessa saatu- respa-ravintola-siistijät-IHAN NIINKU KAIKKI... Katso koko arvio tytti teatterilainen 25.2.2013 Overall this is a pleasant hotel , with an excellent location . A large grey and white building , similar to a 1960's office block . It has nevertheless been reasonably well looked after . One of the biggest buildings in Vaasa , located right next to the central market place . There are many shops and restaurants around the base of the hotel and within walking distance . Hotellin kartta Ilallinen Hotellin ehdot Matkaehdot Hotellihinnat ovat riippuvaisia valuuttakurssimuutoksista . Kaikki hotelliyöt eivät välttämättä ole samanhintaisia ( arki- / viikonloppuhinnat ) . Per yö hinta on keskiarvo kokonaishinnasta . Lapsista / lisävuoteista peritään lisäkulu . Ylimääräiset palvelut , kuten huonepalvelu tai minibaari , eivät sisälly hintaan Palvelut ja/tai tilat saattavat sijaita muualla kuin hotellissa , mutta järkevällä etäisyydellä . Palveluiden käyttö saattaa olla lisämaksullista . Kaikki tiedot on antanut tämä hotelli , ei Ebookers. Kaikki sivuilla annetut hotellia koskevat tiedot ( mm. sijainti , etäisyys keskustasta , huonekuvaus , tähditys , hotellin varustetaso ) ovat ohjeellisia . Ne saattavat poiketa todellisuudesta . Suosittelemme tarkistamaan tiedot . Emme ole vastuussa kolmannen osapuolen tuottamista tiedoista . Ebookers.fi on Suomen johtava online-matkatoimisto , jonka erikoisalaa ovat halvat lennot , kaupunkilomat , hotellit , matkapaketit ja autonvuokraus . Sivuillamme voit myös paketoida itse lomasi kätevästi varaamalla lennot ja hotellit suosikkikohteeseesi . Yhteistyökumppaneinamme toimivat parhaat lentoyhtiöt kuten Finnair , SAS , Lufthansa , British Airways , KLM , Turkish Airlines ja Etihad Airways . Halvat lennot löytyvät parhaiten vertailemalla eri lentoyhtiöiden tarjouksia .\n",
            "Discussion\tKirjoittaja Aihe : Sylinterin poraus ? ( Luettu 10951 kertaa ) Jos ollaan pilkunviilaajia , ylikoon männällä oleva mopo on laiton , koska iskutilavuus ei saa olla yli 50cc . Jos ollaan pilkun viilaajia niin eipä aina olekaan . Otetaanpa nyt vaikka esimerkkinä jokaiselle tuttu pappatunturi . Pappatunturissa std sylinterihalkaisija on 38mm ja iskunpituus on 43mm joilla kuutiotilavuudeksi tulee 48,7cm3 , joka siis pyöristettynä on papitsan teknisissäkin tiedoissa mainittu 49cm3 . Ensimmäinen ylikoon mäntä ( ja kyllä ! jo tätä sanotaan ylikoon männäksi ) on 38,25mm jolla saadaan 49,4cm3 . Vielä ollaan arvo pyöristettynäkin alle 50cm3 Ehjän sylinterin voisi ehkä arvioida niin että kokeilee millä painolla mäntä liukuu sylinterissä ? Näpräsin tuossa niitä ja huomasin että mäntä on hämmästyttävän tiukka sylkkään vaikka kilometrejä on tuhansittain takana . Voideltuun sylinteriin mäntä ja männän päälle kippo johon vaikkapa muttereita kunnes se lähtee liukuun ja punnitsee määrän . Kirjattu Siitä asti kun tajusin jokaisen tulkitsevan asiat omalla tavallaan , olen ollut epävarma siitä mitä olen heille sanonut . Miksi ei tietty noinkin . Perusmallin rakotulkeissakaan kun ei ole oikein koskaan juuri oikeaa kokoa ja sellainen ammattiverme , jossa on 50 liuskamittaa maksaa jo ihan oikeaa rahaakin . Jos osat on koneessa kiinni , niin ehdottomasti parhaimpana pidän ohivuotomittaria . Tehdastekoiset on kalliita , mutta kompuratarvikkeista tekee moisen hyvällä säkällä jopa kympillä . Puristuspainemittareita en pidä oikein minään . Parempi kuin \" musta tuntuu \" määritys , mutta vaatii juuri kyseiselle moottorille aina jonkin esivertailuarvon . Ohivuotomittarissa 10% ohivuotoa on aina 10% ohivuotoa oli moottori mikä tahansa . Ehjän sylinterin voisi ehkä arvioida niin että kokeilee millä painolla mäntä liukuu sylinterissä ? Näpräsin tuossa niitä ja huomasin että mäntä on hämmästyttävän tiukka sylkkään vaikka kilometrejä on tuhansittain takana . Aika vaikeaa tämäkin , kun pitäisi ottaa huomioon kitka / viskositeetti , joka riippuu niin paljon öljymäärästä sylkässä . Tietysti jos tuon voisi vakioida jotenkin ts . saisi pidettyä muuttujat kurissa ? Puristuspainemittari toimii ihan OK , kun tietää mitä tekee . Ennen kaikkea se vaatii sen vertailuarvon , joka tietysti sekin tulee olla oikein otettu . Kysynpä täällä vähän ohi aiheen , mutta kuitenkin . Minulla on työn alla minicrossin moottori Franco Morini G30 , missä on naarmuuntunut ilmajäähy nicasilsylinteri . Uusi sylinteri on vähän arvokas ja olen miettinyt , että kävisikö siihen joku muu morinin sylinteri . Olen ymmärtänyt , että Morini tekee myös skootterin moottoreita , mutta en ole vielä löytänyt , missä skoottereissa niitä käytetään . Tietäiskö joku täällä ? Kiitoksia vastauksista , ihan samanlaista sylinteriä en löytänyt , Malagutin minicrossin sylintereitä näyttyi olevan , mutta tämä on Lem 4-vaihteinen ja harvinaisempi . 300e maksaa alkuperäissylinteri mäntineen , mikä on koko rojun arvoon nähden hiukan paljon . Toisaalta pikkukrossin käyttö on senverran kevyttä , että voisi tuohon naarmuuntuneeseen sylinteriin koittaa laittaa pelkästään uuden männän . Tietysti olisi hauska löytää 60cc tarvikesatsi .\n",
            "D-Informational\tOta yhteyttä Geologiset tietojärjestelmät ja aineistot Geologisen tiedon saatavuuden turvaaminen kansallisella tasolla ja monipuolisen käytön edistäminen yhteiskunnassa on yksi tutkimusohjelman yleisistä tavoitteista . Geologiset tietojärjestelmät , kuten GeoTIETO -järjestelmä , tarjoavat käyttäjille päivitettyjä geologisia tietoaineistoja halutussa mittakaavassa Internetin kautta . GeoTIETO -järjestelmä rakennettiin yhdessä pääkaupunkiseudun kuntien kanssa . Vastaavanlaisen tietojärjestelmän rakentaminen on parhaillaan menossa Tampereen seudulla ( TAATA-hanke ) .\n",
            "D-Informational\t2 § Avustuksen myöntää hakemuksesta elinkeino- , liikenne- ja ympäristökeskus . Ympäristöministeriö vahvistaa avustuskiintiöt elinkeino- , liikenne- ja ympäristökeskusten toimialueittain sen jälkeen , kun elinkeino- , liikenne- ja ympäristökeskukset ovat toimittaneet ministeriölle yhteenvedot hakemuksista . Finlex ® on oikeusministeriön omistama oikeudellisen aineiston julkinen ja maksuton Internet-palvelu . Finlexin sisällön tuottaa ja sitä ylläpitää Edita Publishing Oy . Oikeusministeriö tai Edita eivät vastaa tietokantojen sisällössä mahdollisesti esiintyvistä virheistä , niiden käytöstä käyttäjälle aiheutuvista välittömistä tai välillisistä vahingoista tai Internet-tietoverkossa esiintyvistä käyttökatkoista tai muista häiriöistä .\n",
            "Opinion\tSaan pitkin päivää todella huolestuttavia viestejä Virosta ja virolaisilta Moskovasta . Tilanne on vakavampi kuin osasin vielä viime viikolla ennakoida . Virossa koetaan tällä hetkellä hyvin vahvasti , että Venäjä testaa Viron kustannuksella toimiiko europpalainen solidaarisuus myös käytännössä eikä vain paperilla . Tavallaan Venäjä mittaa EU:ta ja EU:n kykyä säilyttää yhtenäisyytensä vaikeissa poliittisissa tilanteissa . Mikäli Venäjän annetaan uhitella Viron kanssa , Kremlissä lisätään vain pökkyä pesään ja suunnataan seuraava poliittinen hyökkäys jotain toista pientä EU-maata vastaan . Tästäkin syystä meidän suomalaisten pitää nyt tukea vahvasti Viroa ja Viron demokraattisen järjestelmän piirissä tehtyjä päätöksiä .\n",
            "Discussion\tSavon Sanomat Välille ei aiota raskasta junaa , koska radasta tulee kevytrakenteinen . Kyseeseen voi tulla esimerkiksi raitiotie- tai metrojunatyyppinen kalusto . Savolainen vakuuttaa , että arkkitehdin jo suunnittelema raideyhteys rakennetaan . 28.4.2008 , 18:43 kemkim Vs : \" Junalla \" Pieksämäen ideaparkkiin Nyt , kun ensi kertaa Suomessa ollaan suunnittelemassa pieneen kaupungiin paikallisraideliikennettä , mahdollisuus kertoa Pieksämäen elinkeinojohtaja Timo Savolaiselle , millaista olisi vetovoimainen kevyt kiskoliikenne ja kannattaisiko rataa hyödyntää myös kaavoittamalla asumista sen lähelle ja jos , niin millaista . Ehdotukset voi lähettää timo.savolainen [at ] pieksamaki.fi 28.4.2008 , 20:34 Compact Vs : \" Junalla \" Pieksämäen ideaparkkiin Toisessa ketjussa esitin tämän jenkkiversion kopiointia , ja niinhän se käy ... Ehdin kanssa miettiä samaa asiaa jokin aika sitten , jopa sen verran pitkälle , että kaivoin esille Pieksämäen kartan ja katsoin , josko sitä linjaa voisi jatkaa rautatieasemalta pääkatua pitkin pidemmälle länteen . Olisi ikään kuin heiluri . Epäilen vaan , ettei sille pahemmin käyttöä löydy . Pitäisi tuntea kaupunkia vähän paremmin kuin vaan kartan perusteella . Vaikka olenhan tuolla kerran käynytkin . Järkevää kai olisi kuitenkin , että kun järjestelmä kerran tulee , niin kaupunkilaisetkin siitä jotenkin hyötyisivät . Nyt vaan käytettyjä ratikoita ostamaan . Ei olisi kovin kallis tämä rata , elleivät nyt sitten innostu tekemään jotain USA-tyyppisiä automaatti-people movereita . 28.4.2008 , 21:59 kemkim Vs : \" Junalla \" Pieksämäen ideaparkkiin Lainaus : Alunperin kirjoittanut 339-DF Ehdin kanssa miettiä samaa asiaa jokin aika sitten , jopa sen verran pitkälle , että kaivoin esille Pieksämäen kartan ja katsoin , josko sitä linjaa voisi jatkaa rautatieasemalta pääkatua pitkin pidemmälle länteen . Olisi ikään kuin heiluri . Raideleveydeksi 1435 mm ja kaupasta joku kaksivaunuinen dieseljuna halvalla . Ei tarvitse olla liityntää valtion verkkoon eikä triplahintaista Suomi-spesiaalia missään kohtaa . Esimerkiksi http://www.pesa .pl/php/index_en .php ? ... & %20id_sesja=0 antaa mukavaa kyytiä Krakovan lentokentälle . 29.4.2008 , 0:07 339-DF Vs : \" Junalla \" Pieksämäen ideaparkkiin Lainaus : Alunperin kirjoittanut ZoomZoom Raideleveydeksi 1435 mm ja kaupasta joku kaksivaunuinen dieseljuna halvalla . Niin tai pari hassua käytettyä ratikkaa vielä halvemmalla . Jos saataisiin vaikka noita saksalaisia taittuvaporras-malleja . Düsseldorfissa niitä ainakin on , 70-luvun tekoa . Kun Ideaparkissa ja rautatieasemalla olisi korkea laituri , niin olisi \" matalalattiaratikka \" . Sitten mahdolliset muut välipysäkit voisi olla jalkakäytävämallia , jolloin käytettäisiin tavalliseen tapaan portaita . 29.4.2008 , 18:23 Mikko Laaksonen Vs : \" Junalla \" Pieksämäen ideaparkkiin Joku foorumin reippaista ideanikkareista voisi ottaa yhteyttä Topi Sukariin ja Ideaparkien arkkitehti Frank Schaumaniin ja kertoa vähän konkretiaa tähän asiaan . Sinälläänhän hankkeena asia on hyvin yksinkertainen : - Hankitaan 1-2 luotettavaa käytettyä raitiovaunua esim. Saksasta - Rakennetaan noin 2 km pitkä rata Pieksämäen asema - Ideapark Asia ei sinällään ole ihmeellisempi kuin Fort Worthin Tandy Subway , 29.4.2008 , 19:05 kemkim Vs : \" Junalla \" Pieksämäen ideaparkkiin Lainaus : Alunperin kirjoittanut Mikko Laaksonen Joku foorumin reippaista ideanikkareista voisi ottaa yhteyttä Topi Sukariin ja Ideaparkien arkkitehti Frank Schaumaniin ja kertoa vähän konkretiaa tähän asiaan . Sinullahan olisi asiasta paljon tietoa , olisitko halukas ottamaan yhteyttä ? Tästähän voitaisiin saada Suomeen esimerkkitapaus onnistuneesta joukkoliikenteen järjestämisestä automarkettiin . Frank Schaumanin maili frank.schauman [at ] schaumanArch.fi Toivo Sukarin sähköpostiosoitetta en äkkiseltään löytänyt , mutta Ideaparkiin palaute lähtee osoitteesta ideaimuri[at ]ideapark.fi 29.4.2008 , 22:20 R.Silfverberg Vs : \" Junalla \" Pieksämäen ideaparkkiin Lainaus : Alunperin kirjoittanut Mikko Laaksonen Sinälläänhän hankkeena asia on hyvin yksinkertainen : - Hankitaan 1-2 luotettavaa käytettyä raitiovaunua esim. Saksasta - Rakennetaan noin 2 km pitkä rata Pieksämäen asema - Ideapark Asia ei sinällään ole ihmeellisempi kuin Fort Worthin Tandy Subway , Kyllä maailmankirjat taitavat olla sekaisin , jos 2. kaupunkina Suomessa \" metro \" , tai n 35 vuotta pitkän tauon jälkeen ensimäinen raitiotie Helsingin ulkopuolelle rakennetaan Pieksämäelle . t . Rainer 30.4.2008 , 0:39 Antero Alku Vs : \" Junalla \" Pieksämäen ideaparkkiin Lainaus : Alunperin kirjoittanut R.Silfverberg Kyllä maailmankirjat taitavat olla sekaisin , jos 2. kaupunkina Suomessa \" metro \" , tai n 35 vuotta pitkän tauon jälkeen ensimäinen raitiotie Helsingin ulkopuolelle rakennetaan Pieksämäelle . Eihän siihen muuta tarvita kuin että se mitä sinne mahdollisesti tehdään , nimetään vain metroksi . :) Antero 30.4.2008 , 9:20 R.Silfverberg Vs : \" Junalla \" Pieksämäen ideaparkkiin Lainaus : Alunperin kirjoittanut Antero Alku Eihän siihen muuta tarvita kuin että se mitä sinne mahdollisesti tehdään , nimetään vain metroksi . :) Tarkoitin lähinnä huulena , että kun täällä ovat aktivistit suunnitelleet monta vuotta erilaisia uusia raideliikennehärveleitä Helsinkiin , Espooseen , Turkuun ja Tampereelle , niin sitten tullee autoilevan kansan apostoli ja joukkoliikenteen vihollinen n:o 1 , kauppias Sukari ja ehdottaa tosissaan rakentavansa omaan laskuun pikaraitiotien Pieksämäen aseman ja Ideaparkkinsa välille . :D t . Rainer 30.4.2008 , 13:30 Mikko Laaksonen Vs : \" Junalla \" Pieksämäen ideaparkkiin Lainaus : Alunperin kirjoittanut R.Silfverberg ( ... ) kun täällä ovat aktivistit suunnitelleet monta vuotta erilaisia uusia raideliikennehärveleitä Helsinkiin , Espooseen , Turkuun ja Tampereelle ( ... ) Rainer , muista , että raideliikennehärveleitä ovat suunnitelleet paitsi aktivistit , myös kunnat aivan virallisena suunnittelunaan . Se tekee tietystikin asiasta vielä absurdimman . Raideliikenteen maksattaminen ostoskeskuksen rakentajalla ei toki ole näissäkään kohteissa vieras ajatus . Ehdotukset raideliikenteen maksamisesta \" kaupunkikehityshyödyillä \" ovat periaatteessa samaa muotoa kuin tämä kuvio . Ainoa vain , että kaupunki perisi maankäyttösopimuskorvaukset ja tontin hinnat ja maksaisi niillä raiteet . 30.4.2008 , 13:35 R.Silfverberg Vs : \" Junalla \" Pieksämäen ideaparkkiin Lainaus : Alunperin kirjoittanut Mikko Laaksonen Rainer , muista , että raideliikennehärveleitä ovat suunnitelleet paitsi aktivistit , myös kunnat aivan virallisena suunnittelunaan . Se tekee tietystikin asiasta vielä absurdimman . Niin juuri tekee . Lainaus : Alunperin kirjoittanut Mikko Laaksonen Raideliikenteen maksattaminen ostoskeskuksen rakentajalla ei toki ole näissäkään kohteissa vieras ajatus . Ehdotukset raideliikenteen maksamisesta \" kaupunkikehityshyödyillä \" ovat periaatteessa samaa muotoa kuin tämä kuvio . Ainoa vain , että kaupunki perisi maankäyttösopimuskorvaukset ja tontin hinnat ja maksaisi niillä raiteet . Ei voi muuta sanoa kuin että kunnat ovat hampaattomia . Helsingin seudulle nousee toinen toistaan mahtavampia kauppakeskuksia , mutta onko yhdenkään kauppakeskuksen omistava kiinteistö osallistunut joukkoliikenneyhteyksien maksamiseen millään tavalla ? Kaisaniemen asemaa rahoittivat kadun kauppiaat , jotta se saatiin rakennetuksi asemaksi . Kaisaniemihän oli vuosia pelkkä luola . Tämä tapaus ei kuitenkaan rohkaise kauppiaita . Nykyinen Kodin Anttila -tavaratalorakennus puretaan ja tilalle tulee yliopistojen kirjastokeskus . Metroasema - vaikka onkin erittäin vilkas - ei siis tehnyt epämiellyttävästä katurännistä menestyvää kauppapaikkaa . Eihän siellä kukaan viihdy liikenteen melussa ja pysäköinnin vaivaamilla kapeilla jalkakäytävillä . Tapiolassa kauppakeskustaho käyttää 300 M uusiin parkkitiloihin , kun vanhoista tehdään liiketiloja . Kaupunki maksaa metroaseman . Matinkylässä kaupunki kaavoitti alihintaan ( jotain 30 /krs-m2 ) tonttimaata suunnitellun metroaseman vierestä . Kun vähän kauempana arvo oli 250  , niin tämä tarkoitti , että kaupunki tuki liikerakentajaa . Matinkylässä kauppiaat eivät suostu maksamaan edes moottoritierampeista joita vaativat .\n",
            "Narrative\tLähetä uutinen kaverille Uutinen Uutisvuoksi : Virolaista syrjittiin pankissa Syrjintälautakunta kielsi syrjinnän etnisen alkuperän perusteella pankkipalveluissa .Lautakunta on asettanut S-pankille 5 000 euron uhkasakon , koska se ei ollut hyväksynyt virolaista passia henkilöllisyyden osoittamiseksi , kun henkilö oli hakenut pankista verkkopankkitunnuksia .Syrjintälautakunta totesi , ettei lainsäädännöstä tai muista virallisohjeista ollut aiheutunut estettä hakijan virolaisen passin hyväksymiselle henkilöllisyyden osoittavana henkilöllisyysasiakirjana , ja menettelyn perustana ollut pankin ohje oli merkinnyt etniseen alkuperään perustuvaa erottelua . Pankki ei ollut esittänyt , että sillä olisi ollut aihetta epäillä hakijan esittämän henkilöllisyysasiakirjan aitoutta . Pankin tunnistusperiaatteissa oli ollut yleisenä lähtökohtana , että se oli hyväksynyt pankkitunnusten saamiseksi vain Suomen viranomaisen myöntämän passin tai henkilökortin .\n",
            "Info-Persuasion\tSeAMKin opiskelijat ovat iso voimavara yrityksille ja yhteisöille . Jokaiselle AMK-opiskelijalle kuuluu opintoihinsa opinnäytetyö , eli päättötyö , sekä vähintään yksi työharjoittelujakso . Nämä osat opinnoistaan opiskelijat tekevät jossakin alansa yrityksessä tai organisaatiossa . Pohjalaiset hyvinvointimatkailupalvelut esille 9.9.2010 12:34 Seinäjoen ammattikorkeakoulun hallinnoima HYMA2-hanke ( Pohjalaisen hyvinvointimatkailun tuotteistaminen kansainvälisille markkinoille -hanke ) on koonnut kattavan paketin pohjalaista hyvää oloa uusille internetsivuille . Sivuilta löytyy valmiita varattavia paketteja alueemme saunaillanviettokohteisiin ja kylpylöihin , vinkkejä luonnossa liikkumiseen ja liikuntapalveluihin sekä hauskaa tietoutta suomalaisesta saunasta ja saunomisesta . Unohtamatta tietenkään ruokaa , joka on myös oleellinen osa hyvää oloa ! Seinäjoen ammattikorkeakoulun hallinnoima HYMA2-hanke ( Pohjalaisen hyvinvointimatkailun tuotteistaminen kansainvälisille markkinoille -hanke ) on koonnut kattavan paketin pohjalaista hyvää oloa uusille internetsivuille . Sivuilta löytyy valmiita varattavia paketteja alueemme saunaillanviettokohteisiin ja kylpylöihin , vinkkejä luonnossa liikkumiseen ja liikuntapalveluihin sekä hauskaa tietoutta suomalaisesta saunasta ja saunomisesta . Unohtamatta tietenkään ruokaa , joka on myös oleellinen osa hyvää oloa ! Sivustolle päivitetään syyskuun aikana myös englanninkieliset osiot sekä pienimuotoinen tilaussaunaesite . Tutustu www.hyvinvointimatkailu.fi ja osallistu kyselyyn , jossa arvotaan saunailta Etelä-Pohjanmaalla . HYMA2 -hankkeen tavoitteena on saada aikaan asiakaslähtöiset , testatut hyvinvointimatkailutuotteet niin kotimaan kuin kansainvälisillekin markkinoille sekä tuoda esiin Etelä-Pohjanmaata vetovoimaisena hyvinvointimatkailukohteena . Tavoitteita lähestytään mm. hyödyntämällä tutkittua tietoa tuotekehityksessä , erilaistamalla hyvinvointimatkailutuotteet muun Suomen tarjonnasta , avaamalla kansainväliset markkinat ja lisäämällä Etelä-Pohjanmaan hyvinvointimatkailupalveluiden tunnettavuutta . Hankkeen rahoittavat Etelä-Pohjanmaan Liitto ( EAKR ) sekä kunnat ja yritykset .\n",
            "Narrative\tTDC Tieto- Tapiola Oy on valinnut TDC Oy:n hoitamaan toimipisteiden väliset tietoliikenneyhteydet . Kolmivuotinen sopimus kattaa yhteydet Espoon Tapiolassa olevan pääkonttorin ja kaikkien 220 toimipisteen välillä Hangosta Ivaloon . Mukana on erikokoisia toimipisteitä parin hengen toimistoista yli 50 hengen asiakaspalvelukeskuksiin saakka . TDC toteuttaa Tieto- Tapiolalle skaalautuvan verkon , jonka ominaisuudet ja kapasiteetit mahdollistavat kriittisten sovellusten käytettävyyden liiketoimintojen vaatimusten kasvaessa ja kehittyessä . ” Projekti on haastava ja turvallisuusvaatimukset ylläpitovaiheessa poikkeukselliset . Kokemuksemme vastaavista hankkeista ja asiakkuuksista antavat meille erinomaisen tilaisuuden asiakkaan palvelutason edelleen kehittämiseksi ” , kertoo TDC:n yritysliiketoiminnan johtaja Pasi Mäki . Samaa painottaa myös Timo Hyvönen , teknologia- ja tuotantojohtaja Tieto- Tapiolasta . Hänen mukaansa ” TDC:n kustannustehokkuus ja korkea palvelutaso olivat tärkeimmät valintaan vaikuttaneet seikat . Finanssialan referenssiasiakkuudet olivat myös meille tärkeitä vahvistuksia yhteistyön aloittamiselle . Vuoden mittaan konttoreita muuttaa , aloittaa ja lopettaa jopa kymmeniä . Esimerkiksi kahden kuukauden päästä aloittavan konttorin yhteyksien on toimittava heti , kun se avataan . ” ” Erinomainen menestys EPSI Rating -asiakastyytyväisyystutkimuksessa todella herätti kiinnostuksemme ja laittoi asiat liikkeelle . TDC Service Online -itsepalveluportaali on puolestaan iso etu laskutuksessa ja töiden seurannassa . Myös WLAN eli langaton lähiverkko tarjotaan Tapiolan toimistoille tämän sopimuksen puitteissa , ainakin isoimmat konttorit alkavat jo vaatia sitä ” , lisää Hyvönen . ” Oli mukava todeta , että nimenomaan tapamme toimia vakuutti asiakkaan ” , toteaa TDC:n avainasiakaspäällikkö Marko Mäkinen tyytyväisenä . Lisäpalveluja , kuten TDC Service Onlinea , kehitetään jatkuvasti yhdessä asiakkaiden kanssa . Ympäri vuorokauden käytettävissä olevalla itsepalvelutyökalulla toimintoja saadaan keskitettyä ja tehostettua asiakkaiden kehitystarpeiden mukaisesti . TDC on Suomen finanssialan tietoliikenteen markkinajohtaja , jolla on hoidossaan kaikkiaan jo noin 2400 automaattia , pankkia ja muuta finanssilaitosta . Islannin Grimsvötn-tulivuoresta purkautuva tuhkapilvi on vaikuttanut jo moneen maahan ja tuhkaa voi Ilmatieteen laitoksen alustavien ennusteiden mukaan levitä myös Suomeen tänään keskiviikon aikana . Tulivuorenpurkaus ei tällä hetkellä aiheuta rajoituksia lentoliikenteelle Suomessa , mutta mm. Ruotsissa , Norjassa ja Tanskassa on lentoja jouduttu perumaan . TDC:n asiakas , joka haluaa hyötyä tästä mahdollisuudesta , voi tiedustella vapaita aikoja osoitteesta videomeeting@tdc.fi . Videoneuvottelut varataan ja järjestetään yhtiön edellä mainittujen kaupunkien toimitiloissa . TDC Oy ja Automatia Pankkiautomaatit Oy ovat solmineet nelivuotisen sopimuksen , jolla TDC hoitaa Otto .-pankkiautomaattien tietoliikenneyhteydet kaikkialla Suomessa . Sopimuksen arvo on useita miljoonia euroja koko sopimuskaudelta . TDC Oy voitti viime vuonna kilpailutetun pankkiautomaattien tietoliikenneprojektin ja on siitä lähtien siirtänyt Otto .-automaatteja palveluidensa piiriin 300 automaatin kuukausivauhdilla . Mittava projekti saatiin valmiiksi etuajassa . TDC vastaa myös osaltaan pankkiautomaattien ylläpito- ja muutosprosessien koordinoinnista Automatian toimeksiannosta . ” Tietoliikenneyhteydet ovat elintärkeitä pankkiautomaateille , joiden pitää toimia 24 h vuorokaudessa . Otto .-automaatti on usein laajankin alueen ainoa paikka , josta voi saada käteistä . Yhteyksien on siis oltava paitsi kunnossa myös laadultaan huippuluokkaa ” , sanoo TDC:n yritysliiketoiminnan johtaja Pasi Mäki . ” Vaatimuksemme tietoliikennetoimittajalle ovat erittäin korkeat . TDC:n yhtenä vahvuutena näimme sen , että he ovat keskittyneet yritysasiakkaisiin . Meille keskeisen tärkeää on erityisesti se , että operaattori on joustava ja toimitukset pelaavat ajallaan ja luotettavasti , koska kenttämme elää jatkuvasti . Automaatteja asennetaan , puretaan , siirretään ja uusitaan viikoittain . Kaiken toiminnan pitää tapahtua ripeästi hyvän asiakaspalvelun varmistamiseksi ” , toteaa Automatia Pankkiautomaatit Oy:n tietohallintojohtaja Esa Makkonen . TDC on Suomen finanssialan tietoliikenteen markkinajohtaja hoidossaan kaikkiaan jo noin 2400 automaattia , pankkia ja muuta finanssilaitosta . TDC Suomen toimitusjohtaja Esa Parjanen on eronnut tehtävästään yhteisymmärryksessä TDC:n kanssa . Yhtiön uudeksi toimitusjohtajaksi on nimitetty Timo Levoranta , joka aloittaa tehtävässään 12.5.2011. ” Haluan kiittää Esaa hänen vahvasta panoksestaan TDC:n hyväksi Suomen voimakkaasti kilpaillussa markkinassa . Uuden toimitusjohtajan on hyvä jatkaa tästä eteenpäin pohjoismaisen strategiamme vahvistamista ” , sanoo TDC Nordic –yksikön CEO Jens-Munch Hansen . Levoranta on viimeksi toiminut Outokumpu Oyj:ssä vastaten globaalista loppuasiakasmyynnistä ja markkinoinnista sekä sitä ennen tehnyt pitkän uran Sonerassa , vastaten mm. yritysliiketoimintadivisioonasta . ” TDC Suomen toimitusjohtajuus on kiinnostava haaste . TDC on systemaattisesti ja menestyksellisesti rakentanut voittavaa palvelukulttuuria asiakkaittemme eduksi . Tämä on innostava suunta , jossa voimme edetä yhä pidemmälle . Tämä on matka , jossa haluan olla mukana yhdessä asiakkaittemme ja koko tiimimme kanssa \" , kertoo Timo Levoranta . ” Reilut kolme vuotta TDC:llä on kulunut nopeasti . Olemme Suomessa kasvattaneet yrityksestä jo markkinoiden toiseksi suurimman dataverkkojen toimittajan ja liputtaneet sinnikkäästi paremman asiakaspalvelun puolesta kaikille telealan asiakkaille . Erityisen iloinen olen siitä tunnustuksesta , jonka saimme asiakkailtamme viime syksynä valtakunnallisesti toteutetussa EPSI-tutkimuksessa . Ykkössija asiakastyytyväisyydessä yritysten laajakaistapalveluihin on hieno vahvistus ja osoitus siitä , että koko TDC:n henkilöstö työskentelee tinkimättömästi yhteisen tavoitteen hyväksi ” , toteaa Esa Parjanen . TDC-konsernin liikevaihto kasvoi vuoden 2011 ensimmäisellä neljänneksellä 0,9 % ja oli noin 889 miljoonaa euroa . EBITDA-tulos kasvoi tammi-maaliskuussa 1,2 % noin 364 miljoonaan euroon . Luvut käyvät ilmi TDC:n tänään julkistamasta osavuosikatsauksesta . Hyvä kehitys TV-palveluissa ja TDC Nordic –alueella , eli Suomessa , Ruotsissa ja Norjassa sekä hosting -liiketoiminnassa tasapainotti tulosta . Haasteita aiheutti siirtymä lankaverkoista IP- ja matkapuhelintekniikkaan sekä matkapuhelinmarkkinoiden kova kilpailu . Kovasta kilpailusta huolimatta TDC Groupin kolme mobiilibrändiä – TDC , Telmore ja M1 – onnistuivat säilyttämään 2,5 miljoonaa asiakastaan . “ Mobiilimarkkinoilla on kova kilpailu . Tänään kertomamme tulokset osoittavat selvästi TDC:n vahvuuden . Olen ylpeä työntekijöistämme , jotka pystyvät näin vaativassa markkinatilanteessa vahvoihin tuloksiin ja yhä parempaan asiakastyytyväisyyteen ” , sanoo TDC:n pääjohtaja Henrik Poulsen . “ Suomessa TDC:n liikevaihto ja käyttökate kasvoivat vuoden 2010 ensimmäiseen vuosineljännekseen verrattuna . Olennainen tekijä liiketoiminnan kasvussa on ollut menestyminen uusasiakashankinnassa ” , kertoo Esa Parjanen , Suomen TDC:n toimitusjohtaja . TDC Nordic paransi tulostaan selvästi vuoden ensimmäisellä neljänneksellä , EBITDA-tulos nousi 15,5 % viime vuoden vastaavaan ajanjaksoon verrattuna . Liikevaihto nousi samalla ajanjaksolla 6.5 % . Syksyllä 2010 Risto Siilasmaan johtama asevelvollisuustyöryhmä julkaisi selvityksen suomalaisesta asevelvollisuudesta . Raportin mukaan nuoret ovat tottuneet käyttämään internetiä ja tietojärjestelmiä , mutta asevelvollisuuden alkaessa nämä yhteydet miltei katkeavat . Puolustusvoimat voisi netin avulla madaltaa kynnystä varuskuntaelämään . Varusmiehen on päästävä kasarmilla ollessaan tauoilla ja vapaa-aikana internetiin joko omalla työasemallaan , älypuhelimella tai puolustusvoimien tarjoamalla laitteella , raportissa vaaditaan . Asevelvollisille tulee myös kehittää oma tietojärjestelmä , jolla tiedonvaihtoa asevelvollisen ja puolustusvoimien välillä lisätään ennen kutsuntoja , niiden ja varusmiespalveluksen välissä , sekä varusmiespalvelus- ja reserviläisaikana . ” Niinisalon Tykistöprikaati on valittu pilotiksi , koska se on suomalaisittain melko tyypillinen varuskunta ja lisäksi sopivan kokoinen ” , kertoo everstiluutnantti Jarmo Sinkkonen Pääesikunnan Johtamisjärjestelmäosastolta . ” Helmikuussa alkanut kokeilu kestää vuoden 2011 loppuun ja kysyntä palvelulle on ollut erittäin suurta jo etukäteen . ” , Sinkkonen lisää . ” Niinisalossa tarjottava verkko täyttää Puolustusvoimien korkeat turvallisuusvaatimukset , koska yhteyttä suojaa palomuuri ja sisällönsuodatus . Yksiköitten kantahenkilöstö hallinnoi vierailijaverkon tunnuksia , jotka ovat henkilökohtaisia ja vanhenevat automaattisesti . ” , kertoo tuotepäällikkö Jan Enlund TDC:ltä . TDC Vierailijaverkon käyttäjä toimii internetissä täysin erillään puolustusvoimien muusta verkkoliikenteestä . Puolustusvoimille tärkeä tietoturva on siis varmistettu . Palvelussa internetin käyttö turvataan palomuurin lisäksi TDC Smart Proxy -sisällönsuodatuspalvelulla , jolla internetliikenteestä voidaan suodattaa haittaohjelmia ja muuta haitallista sisältöä . TDC Vierailijaverkko esiteltiin Suomen Turvallisuusalan Vuosikirjassa 2009–2010 vuoden tuoteinnovaatioiden joukossa . TDC teki jälleen vahvan tuloksen tiukasti kilpaillussa markkinassa . Tänään julkistettu vuoden 2010 tulos osoittaa liikevaihdon kasvaneen 12 miljoonalla eurolla 3,5 miljardiin euroon ja EBITDAn 1,5 miljardiin euroon . Myös konsernin kassavirta nousi merkittävästi 15%:lla . Suomessa liikevaihto kasvoi 6,0 % . \" TDC jatkoi Suomessa vahvaa kasvua sekä liikevaihdossa että tuloksessa . Vahvan liiketoimintatuloksen lisäksi onnistuimme kasvattamaan asiakastyytyväisyyttämme ja markkinaosuuttamme suomalaisessa yritysmarkkinassa . Tämä antaa hyvän lähtökohdan vuodelle 2011 ” , Suomen TDC:n toimitusjohtaja Esa Parjanen vahvistaa tyytyväisenä . Vuonna 2011 konsernin liikevaihdon odotetaan jatkavan vuoden 2010 tasolla , EBITDAn sen sijaan odotetaan kasvavan n . 2 % edelliseen vuoteen verrattuna . TDC. Yritysten operaattori , jolle palvelu on ykkösasia . Me TDC:llä keskitymme yritysasiakkaisiin ja tarjoamme heille paitsi liiketoimintaa tukevat telepalvelut myös markkinoiden parhaan asiakaskokemuksen . Valtakunnallinen EPSI Rating tutkimus vahvisti , että TDC on teleoperaattoreiden palvelujohtaja , sillä TDC:llä on Suomen tyytyväisimmät asiakkaat yritysten dataverkkopalveluissa . Saavutimme ykköstilan kaikilla viidellä osa-alueella : imago , asiakkaiden odotukset , tekninen ja asiakaspalvelun laatu sekä palveluiden hinta–laatu -suhde . Parhaan palvelun varmistamiseksi TDC toimii omalla nimellään kaikissa Pohjoismaissa : Suomessa , Ruotsissa , Norjassa ja Tanskassa . Konsernin liikevaihto oli vuonna 2009 noin 4,8 miljardia euroa ja henkilöstöä n . 13.000 . Ja vaikka olemmekin jo Suomen toiseksi suurin yritysverkkojen tarjoaja , tunnustamme nöyränä , että numerot eivät ratkaise . Tärkeintä on mutkaton yhteistyö , jossa osaavat ihmiset pistävät asiat kuntoon ja tekevät hankkeista totta . www.tdc.fi Expert-ketju on ottanut käyttöönsä TDC:n viestintäratkaisut kaikissa Pohjoismaissa . Nelivuotinen sopimus kattaa yhtiön pääkonttorin , varastot ja myymälät Suomessa , Ruotsissa , Norjassa ja Tanskassa yhdistävän IP VPN -dataverkon sekä puhelin- ja vaihderatkaisut . Sopimus on arvoltaan noin 6,3 miljoonaa euroa . “ Valitsimme TDC:n , koska halusimme kumppanin , joka voi tarjota integroidun pohjoismaisen ratkaisun sekä yhdistää myymälämme , pääkonttorimme ja varastomme eri maissa . TDC:n yhdentyvän viestinnän palvelut tuovat meille myös merkittäviä kustannussäästöjä , mikä vaikutti kumppanin valintaan ” sanoo Expert-ketjun IT- ja logistiikkajohtaja Magne Solberg . TDC tarjoaa integroituja ratkaisuja , jotka voidaan ottaa käyttöön kaikkialla Pohjoismaissa . Esimerkki älykkäästä ratkaisusta on Ruotsista keskitetysti hoidettu vaihderatkaisu , joka on kaikkien maiden käytössä ja tekee siten kalliit maakohtaiset investoinnit turhiksi , Toimivat viestintäratkaisut tehostavat sekä Expert-ketjun omia että franchise-pohjalta toimivia myymälöitä . “ Olemme tehneet kattavan avaimet käteen -sopimuksen Expertin kanssa ; kyseessä on täysin integroitu ratkaisu , joka kattaa koko viestinnän kirjon . Vastuu on merkittävä , mutta uskomme , että keskittymisemme pohjoismaisiin asiakkaisiin ja kokemuksemme vastaavista toimituksista antaa meille täydet valmiudet vastata Expert-ketjun odotuksiin . Pohjoismaisten palvelujen laajuutta on myös mahdollista edelleen lisätä osana kumppanuuttamme . Tämä tuo molemmille osapuolille merkittävää etua ” , sanoo TDC Norjan toimitusjohtaja Ketil Kivedahl . Expert AS on yksi Pohjoismaiden suurimmista kulutuselektroniikan jälleenmyyjistä . Sillä on noin 900 myymälää Pohjoismaissa ja Virossa . TDC. Yritysten operaattori , jolle palvelu on ykkösasia . Me TDC:llä keskitymme yritysasiakkaisiin ja tarjoamme heille paitsi liiketoimintaa tukevat telepalvelut myös markkinoiden parhaan asiakaskokemuksen . Valtakunnallinen EPSI Rating tutkimus vahvisti , että TDC on teleoperaattoreiden palvelujohtaja , sillä TDC:llä on Suomen tyytyväisimmät asiakkaat yritysten dataverkkopalveluissa . Saavutimme ykköstilan kaikilla viidellä osa-alueella : imago , asiakkaiden odotukset , tekninen ja asiakaspalvelun laatu sekä palveluiden hinta–laatu -suhde . Parhaan palvelun varmistamiseksi TDC toimii omalla nimellään kaikissa Pohjoismaissa : Suomessa , Ruotsissa , Norjassa ja Tanskassa . Konsernin liikevaihto oli vuonna 2009 noin 4,8 miljardia euroa ja henkilöstöä n . 13.000 . Ja vaikka olemmekin jo Suomen toiseksi suurin yritysverkkojen tarjoaja , tunnustamme nöyränä , että numerot eivät ratkaise . Tärkeintä on mutkaton yhteistyö , jossa osaavat ihmiset pistävät asiat kuntoon ja tekevät hankkeista totta . www.tdc.fi Espoon kaupunki on vuoden 2010 aikana vaihtanut matkaviestinpalvelunsa TDC:lle . Kokonaisratkaisu sisältää kaupungin kaikki n . 5000 mobiililiittymää , sähköposti- ja kalenteripalvelut matkaviestimiin , loppuasiakastuen ja päätelaitteiden vaihtopalvelun . TDC on avannut myös Espoon keskukseen oman palvelutiskin , jossa henkilökohtainen tuki on käyttäjälle lähellä . Ratkaisuun kuuluvan kustannustehokkaan tasahinnoittelun odotetaan tuovan Espoolle 15 % säästöt matkapuhelinkustannuksiin . ” Haimme kustannustehokasta , mutta palvelukeskeistä ratkaisua , joka kattaisi jatkuvasti kehittyvän kaupungin tarpeet . TDC on ollut tietoliikenne- ja puhepalvelutoimittajamme jo vuodesta 2004 lähtien , joten tiesimme , että kumppani tuntee meidät ja sen , miten kaupungin yritysmaailmasta poikkeava toimintaympäristö tulee näin laajassa projektissa huomioida ” , toteaa Espoon kaupungin tietotekniikkapalvelujen johtaja Jorma Rantanen . Projektissa vaihdettiin n . 5000 sim-korttia ja päivitettiin osalle käyttäjistä mobiilitoimisto eli sähköposti matkapuhelimeen . Tuhansien liittymäyhteystietojen kerääminen , henkilöstön tiedottaminen projektin etenemisestä ja sim-korttien toimitusten organisoiminen on ollut haastavaa ja kehittänyt yhteisiä järjestelmiä sekä toimintatapoja entistä toimivimmiksi . Samalla ymmärrys niin asiakkaan kuin sopimustoimittajan organisaatiosta ja sen toiminnasta on syventynyt . ” Projekti on ollut todella vaativa , mutta juuri sen takia myös palkitseva . Mitä läheisemmässä yhteistyössä asiakkaan kanssa toimimme , sitä varmemmin tiedämme myös jatkossa millaisia ratkaisuja meidän tulee olla valmis hänelle jatkossa tarjoamaan ” , sanoo TDC:n yritysliiketoiminnan johtaja Pasi Mäki . Espoon tietoliikenne kulkee TDC:n monipalveluverkossa ja nimetyt yhteyshenkilöt tarjoavat henkilökohtaista palvelua . Uutuutena nyt matkaviestinpalveluprojektin aikana matkapuhelinpalveluita tarjoava , asiakkaan omissa tiloissa avattu TDC Palvelutiski . Lisätietoja : TDC Oy Pasi Mäki , johtaja , yritysliiketoiminta p . 050 994 3222 TDC. Yritysten operaattori , jolle palvelu on ykkösasia . Me TDC:llä keskitymme yritysasiakkaisiin ja tarjoamme heille paitsi liiketoimintaa tukevat telepalvelut myös markkinoiden parhaan asiakaskokemuksen . Valtakunnallinen EPSI Rating tutkimus vahvisti , että TDC on teleoperaattoreiden palvelujohtaja , sillä TDC:llä on Suomen tyytyväisimmät asiakkaat yritysten dataverkkopalveluissa . Saavutimme ykköstilan kaikilla viidellä osa-alueella : imago , asiakkaiden odotukset , tekninen ja asiakaspalvelun laatu sekä palveluiden hinta–laatu -suhde . Parhaan palvelun varmistamiseksi TDC toimii omalla nimellään kaikissa Pohjoismaissa : Suomessa , Ruotsissa , Norjassa ja Tanskassa . Konsernin liikevaihto oli vuonna 2009 noin 4,8 miljardia euroa ja henkilöstöä n . 13.000 . Ja vaikka olemmekin jo Suomen toiseksi suurin yritysverkkojen tarjoaja , tunnustamme nöyränä , että numerot eivät ratkaise . Tärkeintä on mutkaton yhteistyö , jossa osaavat ihmiset pistävät asiat kuntoon ja tekevät hankkeista totta . www.tdc.fi Hiljattain järjestetty lentomekaanikkojen lakko peruutti suuren joukon tapaamisia Pohjoismaiden välillä ja sama toistunee myös tällä viikolla , jos lentoemäntien ja stuerttien lakko käynnistyy huomenna tiistaina . TDC tarjoaa jälleen asiakkailleen mahdollisuuden varata videoneuvottelu Helsingin , Tukholman , Kööpenhaminan ja Oslon välillä toimitiloissaan . Jos lakko alkaa , Pohjoismaissa toimiva teleyritys TDC tarjoaa jälleen asiakkailleen mahdollisuuden varata telepresence-videoneuvottelulaitteistoa maksutta käyttöönsä Helsingin , Tukholman , Kööpenhaminan ja Oslon konttoreissaan . Näin esimerkiksi Suomen ja Tanskan väliset neuvottelut voidaan järjestää lakosta huolimatta . Normaalisti laitteisto on ainoastaan yrityksen sisäisessä käytössä . TDC:n Taloustutkimuksella lokakuussa teettämän selvityksen mukaan joka neljäs tapaaminen voitaisiin järjestää virtuaalisesti esimerkiksi videoneuvotteluilla . TDC. Yritysten operaattori , jolle palvelu on ykkösasia . Me TDC:llä keskitymme yritysasiakkaisiin ja tarjoamme heille paitsi liiketoimintaa tukevat telepalvelut myös markkinoiden parhaan asiakaskokemuksen . Valtakunnallinen EPSI Rating tutkimus vahvisti , että TDC on teleoperaattoreiden palvelujohtaja , sillä TDC:llä on Suomen tyytyväisimmät asiakkaat yritysten dataverkkopalveluissa . Saavutimme ykköstilan kaikilla viidellä osa-alueella : imago , asiakkaiden odotukset , tekninen ja asiakaspalvelun laatu sekä palveluiden hinta–laatu -suhde . Parhaan palvelun varmistamiseksi TDC toimii omalla nimellään kaikissa Pohjoismaissa : Suomessa , Ruotsissa , Norjassa ja Tanskassa . Konsernin liikevaihto oli vuonna 2009 noin 4,8 miljardia euroa ja henkilöstöä n . 13.000 . Ja vaikka olemmekin jo Suomen toiseksi suurin yritysverkkojen tarjoaja , tunnustamme nöyränä , että numerot eivät ratkaise . Tärkeintä on mutkaton yhteistyö , jossa osaavat ihmiset pistävät asiat kuntoon ja tekevät hankkeista totta . www.tdc.fi\n"
          ]
        }
      ]
    },
    {
      "cell_type": "markdown",
      "metadata": {
        "id": "aJ4JwnR53d5F"
      },
      "source": [
        "---\n",
        "First work on the train set of the data\n",
        "* Get a basic idea of the file. How many words in total? How many lines?\n",
        "* How could you print the 10 first lines of the data?\n",
        "* You notice that the data includes also class labels. How could you get those to a separate file? Make a frequency list of the labels\n",
        "* Then create basic statistics of the file: \n",
        "1. How many words alltogether (now that the labels have been excluded)?\n",
        "2. How many unique words?\n",
        "3. What are the most frequent words (e.g. 20)\n",
        "*  To do these, normalize all to lowercase, take all numbers and punctuation \n"
      ]
    },
    {
      "cell_type": "code",
      "metadata": {
        "id": "KuTQWkhK3ekT"
      },
      "source": [
        "! cat train.tsv | wc # both words and lines\n",
        "! head -5 10 train.tsv"
      ],
      "execution_count": null,
      "outputs": []
    },
    {
      "cell_type": "code",
      "metadata": {
        "id": "9il4gloK3nle"
      },
      "source": [
        "! cat train.tsv  | cut -f 1  | head\n",
        "! cat train.tsv  | cut -f 1 > labels.txt\n",
        "! cat train.tsv | cut -f 2 > texts.txt\n",
        "! echo \"here's the frequency list\"\n",
        "! cat labels.txt | sort | uniq -c | sort -rn"
      ],
      "execution_count": null,
      "outputs": []
    },
    {
      "cell_type": "code",
      "metadata": {
        "id": "tR8fwRyt4Bpw"
      },
      "source": [
        "# Basic stats\n",
        "!echo \"words and lines: \"; cat texts.txt | wc # both words and lines\n",
        "! echo \"unique words: \"; cat texts.txt | perl -pe 's/ /\\n/g' | sort | tr '[[:upper:]]' '[[lower:]]' | perl -pe 's/[[:punct:]]//g' | perl -pe 's/[0-9]//g' | uniq | wc -l #unique word number\n",
        "! echo \"most frequent words: \"; cat texts.txt | perl -pe 's/ /\\n/g' | sort | tr '[[:upper:]]' '[[lower:]]' | perl -pe 's/[[:punct:]]//g' | perl -pe 's/[0-9]//g' | egrep -v \"^$\" | uniq -c | sort -rn | head -10"
      ],
      "execution_count": null,
      "outputs": []
    },
    {
      "cell_type": "markdown",
      "metadata": {
        "id": "VO_HVVK35JTe"
      },
      "source": [
        "\n",
        "---\n",
        "Then\n",
        "* Make a script that does all the steps 1-3 above. See that it works.\n",
        "* Run the script with a for loop to the train, dev and test splits of the data"
      ]
    },
    {
      "cell_type": "code",
      "metadata": {
        "id": "INzXVKzp5N8u"
      },
      "source": [
        "# check basic_stats.sh at /home/mavela/dataa"
      ],
      "execution_count": null,
      "outputs": []
    },
    {
      "cell_type": "markdown",
      "metadata": {
        "id": "2_-1T5YPhuTs"
      },
      "source": [
        "\n",
        "----\n",
        "Third - advanced\n",
        "* Run above information separately for each register class so that you give the class name as an argument to the script\n",
        "* Using a for loop and a list of class labels, you can also do all the classes with one (for loop + script) command\n",
        "\n",
        "For looping through lines of a (label list) file, you can e.g. do\n",
        "\n",
        "```\n",
        "while read p; do\n",
        "  echo \"$p\"\n",
        "done <labels.txt\n",
        "```\n",
        "\n",
        "$p is one line of the file"
      ]
    },
    {
      "cell_type": "code",
      "metadata": {
        "id": "TRKu5_M07DGI"
      },
      "source": [
        "# Check ./class_stats.sh  at /home/mavela/dataa\n",
        "# You can the script by \n",
        "while read p; do echo $p; ./class_stats.sh train.tsv $p ; done < labels.txt\n"
      ],
      "execution_count": null,
      "outputs": []
    },
    {
      "cell_type": "markdown",
      "metadata": {
        "id": "CCJULPG3hs9u"
      },
      "source": [
        ""
      ]
    },
    {
      "cell_type": "markdown",
      "metadata": {
        "id": "TuOC1o7Y2zWR"
      },
      "source": [
        "## Exercise 2\n",
        "\n",
        "For this, let's use `pb_head.conllu.gz` at\n",
        "\n",
        "```\n",
        "/home/mavela/dataa/syntaksijasennetyt\n",
        "```\n",
        "* Copy to your own home directory\n",
        "* Basic stats (Remember the file format, gz ending and metadata!)\n",
        "** How many words?\n",
        "** How many sentences?\n",
        "** How many documents? Each document starts with `###C:<doc id=`\n",
        "---\n"
      ]
    },
    {
      "cell_type": "code",
      "metadata": {
        "id": "Jzzq5iNc7d1A"
      },
      "source": [
        "! cp /home/mavela/dataa/syntaksijasennetyt/pb_head.conllu.gz myfile.conllu.gz # this renames the file\n",
        "! cp /home/mavela/dataa/syntaksijasennetyt/pb_head.conllu.gz . # this keeps the filename the same pb_head.conllu.gz\n",
        "\n",
        "mavela@nlpedu-new-1:~/dataa/syntaksijasennetyt$ zcat pb_head.conllu.gz | egrep \"^[0-9]\" | wc -l\n",
        "446518\n",
        "mavela@nlpedu-new-1:~/dataa/syntaksijasennetyt$ zcat pb_head.conllu.gz | egrep \"^1[[:space:]]\" | wc -l\n",
        "35150\n",
        "mavela@nlpedu-new-1:~/dataa/syntaksijasennetyt$ zcat pb_head.conllu.gz | egrep \"###C:<doc id\" | wc -l\n",
        "923\n"
      ],
      "execution_count": null,
      "outputs": []
    },
    {
      "cell_type": "markdown",
      "metadata": {
        "id": "tEc3FBS37ceH"
      },
      "source": [
        "* Part-of-speech classes are given in column 4. Make a frequency list of the classes\n",
        "* Then take a class and make a cleaned frequency list of the class lemmas \n",
        "---\n",
        "* Make a script that takes as an argument a class and then outputs a frequency list of the class lemmas\n",
        "--\n",
        "* Take one of the most frequent lemmas and make a frequency list of the word forms attached to it.\n",
        "* Make a script to do this"
      ]
    },
    {
      "cell_type": "code",
      "metadata": {
        "id": "pdei4zu18nIQ"
      },
      "source": [
        "mavela@nlpedu-new-1:~/dataa/syntaksijasennetyt$ zcat pb_head.conllu.gz | egrep \"^[0-9]\" | cut -f 4 | sort | uniq -c | sort -rn\n",
        " 130244 NOUN\n",
        "  75764 VERB\n",
        "  62773 PUNCT\n",
        "  39557 ADV\n",
        "  30686 ADJ\n",
        "  26131 PRON\n",
        "  23300 PROPN\n",
        "  20452 CONJ\n",
        "   9981 NUM\n",
        "   8339 SCONJ\n",
        "   8245 AUX\n",
        "   6681 ADP\n",
        "   2189 X\n",
        "   1686 SYM\n",
        "    490 INTJ\n",
        "\n",
        "mavela@nlpedu-new-1:~/dataa/syntaksijasennetyt$ zcat pb_head.conllu.gz | egrep \"^[0-9]\" | egrep \"[[:space:]]NOUN[[:space:]]\" | egrep -v \"[[:space:]]PUNCT[[:space:]]\" | cut -f 3 | tr '[[:upper:]]' '[[:lower:]]' | sort | uniq -c | sort -rn | less\n",
        "\n",
        "for the script, check  ./frequent_lemmas.sh  in the same folder. you can run it by\n",
        "./frequent_lemmas.sh pb_head.conllu.gz NOUN\n",
        "\n"
      ],
      "execution_count": null,
      "outputs": []
    }
  ]
}