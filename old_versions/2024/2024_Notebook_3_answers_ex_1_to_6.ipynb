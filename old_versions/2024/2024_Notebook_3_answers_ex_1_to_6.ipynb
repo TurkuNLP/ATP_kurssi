{
  "nbformat": 4,
  "nbformat_minor": 0,
  "metadata": {
    "colab": {
      "provenance": [],
      "authorship_tag": "ABX9TyObB2BPkdE5bF6t0graHNw7",
      "include_colab_link": true
    },
    "kernelspec": {
      "name": "python3",
      "display_name": "Python 3"
    },
    "language_info": {
      "name": "python"
    }
  },
  "cells": [
    {
      "cell_type": "markdown",
      "metadata": {
        "id": "view-in-github",
        "colab_type": "text"
      },
      "source": [
        "<a href=\"https://colab.research.google.com/github/TurkuNLP/ATP_kurssi/blob/master/2024_Notebook_3_answers_ex_1_to_6.ipynb\" target=\"_parent\"><img src=\"https://colab.research.google.com/assets/colab-badge.svg\" alt=\"Open In Colab\"/></a>"
      ]
    },
    {
      "cell_type": "markdown",
      "metadata": {
        "id": "cVGiNOizCxMK"
      },
      "source": [
        "### Fetch data and basic statistics\n",
        "\n",
        "1. Fetch the tweet file found at http://dl.turkunlp.org/atp/tweets_en_nort.csv\n",
        "2.  How many lines does it have? What if we remove empty lines?\n",
        "3.  Direct the non-empty lines to a file.\n",
        "4.  How many words does it have?\n",
        "5.  How does the last tweet look like? (This can be suprisingly useful when working with real data)"
      ]
    },
    {
      "cell_type": "code",
      "execution_count": null,
      "metadata": {
        "id": "f7PgobTMCqqh",
        "colab": {
          "base_uri": "https://localhost:8080/"
        },
        "collapsed": true,
        "outputId": "7479e9da-a373-4611-f75b-ee9e98f6e48e"
      },
      "outputs": [
        {
          "output_type": "stream",
          "name": "stdout",
          "text": [
            "--2024-11-04 09:21:45--  http://dl.turkunlp.org/atp/tweets_en_nort.csv\n",
            "Resolving dl.turkunlp.org (dl.turkunlp.org)... 195.148.30.23\n",
            "Connecting to dl.turkunlp.org (dl.turkunlp.org)|195.148.30.23|:80... connected.\n",
            "HTTP request sent, awaiting response... 200 OK\n",
            "Length: 82188071 (78M) [application/octet-stream]\n",
            "Saving to: ‘tweets_en_nort.csv.1’\n",
            "\n",
            "tweets_en_nort.csv. 100%[===================>]  78.38M  19.9MB/s    in 3.9s    \n",
            "\n",
            "2024-11-04 09:21:49 (19.9 MB/s) - ‘tweets_en_nort.csv.1’ saved [82188071/82188071]\n",
            "\n"
          ]
        }
      ],
      "source": [
        "#1. Fetch the file\n",
        "\n",
        "! wget http://dl.turkunlp.org/atp/tweets_en_nort.csv"
      ]
    },
    {
      "cell_type": "code",
      "execution_count": null,
      "metadata": {
        "id": "KHGdzYleDD3v",
        "colab": {
          "base_uri": "https://localhost:8080/"
        },
        "outputId": "78c31b8b-e74e-455c-b08c-c3138bc90561"
      },
      "outputs": [
        {
          "output_type": "stream",
          "name": "stdout",
          "text": [
            "15\ttwitter-search\t@_Tsunamilkshake pas top #CharlieHebdo #JeSuisCharlie\t2537743877\ttheo_yagami\t552895821730316288\t1215660151\ten\t<a href=\"http://twitter.com/download/android\" rel=\"nofollow\">Twitter for Android</a>\thttp://pbs.twimg.com/profile_background_images/881023503/57d97605059e6a7d321b75c46ac2323a.jpeg\t\t0\t0\tWed Jan 07 18:33:30 +0000 2015\t1420655610\n",
            "\n",
            "17\ttwitter-search\tNA\t\thojaldraoficial\t552895821600264192\t763672748\ten\t<a href=\"http://twitter.com\" rel=\"nofollow\">Twitter Web Client</a>\thttp://abs.twimg.com/images/themes/theme1/bg.png\t\t0\t0\tWed Jan 07 18:33:30 +0000 2015\t1420655610\n",
            "\n",
            "103\ttwitter-search\tJe suis Charline, mais surtout #JeSuisCharlie- freedom of speach is a right! http://t.co/5KLOA114C9\t\tCharlineDeLucaC\t552895817003323392\t834937038\ten\t<a href=\"http://instagram.com\" rel=\"nofollow\">Instagram</a>\thttp://pbs.twimg.com/profile_background_images/690731646/217479ce77b3fa1a6f904db60cc48b9c.jpeg\t\t0\t0\tWed Jan 07 18:33:29 +0000 2015\t1420655609\n",
            "\n",
            "112\ttwitter-search\tThe depraved ways of Islamic extremism should never be allowed to force people into silence. #JeSuisCharlie http://t.co/IZqNiFKBeM\t\tMrThomasLambert\t552895816349016064\t144112123\ten\t<a href=\"http://twitter.com/#!/download/ipad\" rel=\"nofollow\">Twitter for iPad</a>\thttp://pbs.twimg.com/profile_background_images/378800000119614010/110989389ca0fffe0285a3f1a708ff7a.jpeg\t\t0\t0\tWed Jan 07 18:33:29 +0000 2015\t1420655609\n",
            "\n",
            "120\ttwitter-search\tIncredibly sad news out of France today. My thoughts go out to the family and friends of the staff at @Charlie_Hebdo_ #JeSuisCharlie\t\tmarksummers24\t552895815979892736\t753779834\ten\t<a href=\"http://twitter.com\" rel=\"nofollow\">Twitter Web Client</a>\thttp://abs.twimg.com/images/themes/theme1/bg.png\t\t0\t0\tWed Jan 07 18:33:29 +0000 2015\t1420655609\n",
            "\n"
          ]
        }
      ],
      "source": [
        "# better have a look at what we got\n",
        "\n",
        "! cat tweets_en_nort.csv | head"
      ]
    },
    {
      "cell_type": "code",
      "execution_count": null,
      "metadata": {
        "id": "59ovl5qGEC9P",
        "colab": {
          "base_uri": "https://localhost:8080/"
        },
        "outputId": "da0ca9c2-63b4-43e0-bdfd-38a95d554392"
      },
      "outputs": [
        {
          "output_type": "stream",
          "name": "stdout",
          "text": [
            "461412\n"
          ]
        }
      ],
      "source": [
        "#2. Line count\n",
        "\n",
        "! cat tweets_en_nort.csv | wc -l #line count; but remember there were a lot of empty lines\n"
      ]
    },
    {
      "cell_type": "code",
      "source": [
        "#line count with non-empties\n",
        "\n",
        "#Remove empty lines: egrep -v \"^$\"\n",
        "#new line count: wc -l\n",
        "\n",
        "! cat tweets_en_nort.csv | egrep -v \"^$\" | wc -l #first match anything but empty lines, then count how many lines"
      ],
      "metadata": {
        "colab": {
          "base_uri": "https://localhost:8080/"
        },
        "id": "7uEgrJ0ceJ2H",
        "outputId": "ed45a014-828f-4630-860c-3804e97da552"
      },
      "execution_count": null,
      "outputs": [
        {
          "output_type": "stream",
          "name": "stdout",
          "text": [
            "230721\n"
          ]
        }
      ]
    },
    {
      "cell_type": "code",
      "execution_count": null,
      "metadata": {
        "id": "TLBqz7WwEdxd",
        "colab": {
          "base_uri": "https://localhost:8080/"
        },
        "outputId": "6ec40b7b-5dc7-4143-c926-994f20968927"
      },
      "outputs": [
        {
          "output_type": "stream",
          "name": "stdout",
          "text": [
            "15\ttwitter-search\t@_Tsunamilkshake pas top #CharlieHebdo #JeSuisCharlie\t2537743877\ttheo_yagami\t552895821730316288\t1215660151\ten\t<a href=\"http://twitter.com/download/android\" rel=\"nofollow\">Twitter for Android</a>\thttp://pbs.twimg.com/profile_background_images/881023503/57d97605059e6a7d321b75c46ac2323a.jpeg\t\t0\t0\tWed Jan 07 18:33:30 +0000 2015\t1420655610\n",
            "17\ttwitter-search\tNA\t\thojaldraoficial\t552895821600264192\t763672748\ten\t<a href=\"http://twitter.com\" rel=\"nofollow\">Twitter Web Client</a>\thttp://abs.twimg.com/images/themes/theme1/bg.png\t\t0\t0\tWed Jan 07 18:33:30 +0000 2015\t1420655610\n",
            "103\ttwitter-search\tJe suis Charline, mais surtout #JeSuisCharlie- freedom of speach is a right! http://t.co/5KLOA114C9\t\tCharlineDeLucaC\t552895817003323392\t834937038\ten\t<a href=\"http://instagram.com\" rel=\"nofollow\">Instagram</a>\thttp://pbs.twimg.com/profile_background_images/690731646/217479ce77b3fa1a6f904db60cc48b9c.jpeg\t\t0\t0\tWed Jan 07 18:33:29 +0000 2015\t1420655609\n",
            "112\ttwitter-search\tThe depraved ways of Islamic extremism should never be allowed to force people into silence. #JeSuisCharlie http://t.co/IZqNiFKBeM\t\tMrThomasLambert\t552895816349016064\t144112123\ten\t<a href=\"http://twitter.com/#!/download/ipad\" rel=\"nofollow\">Twitter for iPad</a>\thttp://pbs.twimg.com/profile_background_images/378800000119614010/110989389ca0fffe0285a3f1a708ff7a.jpeg\t\t0\t0\tWed Jan 07 18:33:29 +0000 2015\t1420655609\n",
            "120\ttwitter-search\tIncredibly sad news out of France today. My thoughts go out to the family and friends of the staff at @Charlie_Hebdo_ #JeSuisCharlie\t\tmarksummers24\t552895815979892736\t753779834\ten\t<a href=\"http://twitter.com\" rel=\"nofollow\">Twitter Web Client</a>\thttp://abs.twimg.com/images/themes/theme1/bg.png\t\t0\t0\tWed Jan 07 18:33:29 +0000 2015\t1420655609\n",
            "223\ttwitter-search\tNo country is free if its press cannot practice openly and fearlessly. #JeSuisCharlie http://t.co/YCXeKDyJEp\t\tfancybuffalo\t552895808668856320\t87676970\ten\t<a href=\"http://twitter.com/download/iphone\" rel=\"nofollow\">Twitter for iPhone</a>\thttp://pbs.twimg.com/profile_background_images/717982142/07d49a19a8c1a62082fc6bda88d93187.jpeg\t\t0\t0\tWed Jan 07 18:33:27 +0000 2015\t1420655607\n",
            "238\ttwitter-search\tBeing in Paris, absolutely shocked at the #CharlieHebdo #terrorism attack. Condolences. #FreeSpeech #Secular #JeSuisCharlie\t\titsmaloy\t552895807914262528\t20865805\ten\t<a href=\"http://twitter.com\" rel=\"nofollow\">Twitter Web Client</a>\thttp://pbs.twimg.com/profile_background_images/32900806/1280x800.jpg\tPoint\t0\t0\tWed Jan 07 18:33:27 +0000 2015\t1420655607\n",
            "252\ttwitter-search\tMy wife wrote this: http://t.co/Y0HlA2qCCp #JeSuisCharlie\t\tLZHFox\t552895807079604224\t214412490\ten\t<a href=\"http://twitter.com\" rel=\"nofollow\">Twitter Web Client</a>\thttp://abs.twimg.com/images/themes/theme8/bg.gif\t\t0\t0\tWed Jan 07 18:33:27 +0000 2015\t1420655607\n",
            "293\ttwitter-search\tGerman public anti Islamic feelings are now strengthened by the attack in Paris #JeSuisCharlie\t\tChargedQuark\t552895804940091392\t2201550661\ten\t<a href=\"http://twitter.com\" rel=\"nofollow\">Twitter Web Client</a>\thttp://pbs.twimg.com/profile_background_images/378800000120034550/b2fe2367fe7cfd2c9361c2ed4fac75f2.jpeg\t\t0\t0\tWed Jan 07 18:33:26 +0000 2015\t1420655606\n",
            "319\ttwitter-search\tNetNewsLedger #JeSuisCharlie Hashtag Goes Viral Condemning Paris Terror Attack: PARIS - NEWS - People from aro... http://t.co/ACNdobn17V\t\tNouestOn\t552895802226384896\t317155770\ten\t<a href=\"http://twitterfeed.com\" rel=\"nofollow\">twitterfeed</a>\thttp://abs.twimg.com/images/themes/theme1/bg.png\t\t0\t0\tWed Jan 07 18:33:26 +0000 2015\t1420655606\n"
          ]
        }
      ],
      "source": [
        "#3. Non-empty lines to a new file\n",
        "\n",
        "#check what you've got\n",
        "\n",
        "! cat tweets_en_nort.csv | egrep -v \"^$\" | head"
      ]
    },
    {
      "cell_type": "code",
      "source": [
        "#directing to a new file\n",
        "\n",
        "! cat tweets_en_nort.csv | egrep -v \"^$\" > tweets_no_empties.txt"
      ],
      "metadata": {
        "id": "-beI_iuXdt2e"
      },
      "execution_count": null,
      "outputs": []
    },
    {
      "cell_type": "code",
      "source": [
        "! cat tweets_no_empties.txt | head"
      ],
      "metadata": {
        "colab": {
          "base_uri": "https://localhost:8080/"
        },
        "id": "x7x9Wm9Sfprr",
        "outputId": "f5c6216a-f899-4eae-9935-99c05ef4239f"
      },
      "execution_count": null,
      "outputs": [
        {
          "output_type": "stream",
          "name": "stdout",
          "text": [
            "15\ttwitter-search\t@_Tsunamilkshake pas top #CharlieHebdo #JeSuisCharlie\t2537743877\ttheo_yagami\t552895821730316288\t1215660151\ten\t<a href=\"http://twitter.com/download/android\" rel=\"nofollow\">Twitter for Android</a>\thttp://pbs.twimg.com/profile_background_images/881023503/57d97605059e6a7d321b75c46ac2323a.jpeg\t\t0\t0\tWed Jan 07 18:33:30 +0000 2015\t1420655610\n",
            "17\ttwitter-search\tNA\t\thojaldraoficial\t552895821600264192\t763672748\ten\t<a href=\"http://twitter.com\" rel=\"nofollow\">Twitter Web Client</a>\thttp://abs.twimg.com/images/themes/theme1/bg.png\t\t0\t0\tWed Jan 07 18:33:30 +0000 2015\t1420655610\n",
            "103\ttwitter-search\tJe suis Charline, mais surtout #JeSuisCharlie- freedom of speach is a right! http://t.co/5KLOA114C9\t\tCharlineDeLucaC\t552895817003323392\t834937038\ten\t<a href=\"http://instagram.com\" rel=\"nofollow\">Instagram</a>\thttp://pbs.twimg.com/profile_background_images/690731646/217479ce77b3fa1a6f904db60cc48b9c.jpeg\t\t0\t0\tWed Jan 07 18:33:29 +0000 2015\t1420655609\n",
            "112\ttwitter-search\tThe depraved ways of Islamic extremism should never be allowed to force people into silence. #JeSuisCharlie http://t.co/IZqNiFKBeM\t\tMrThomasLambert\t552895816349016064\t144112123\ten\t<a href=\"http://twitter.com/#!/download/ipad\" rel=\"nofollow\">Twitter for iPad</a>\thttp://pbs.twimg.com/profile_background_images/378800000119614010/110989389ca0fffe0285a3f1a708ff7a.jpeg\t\t0\t0\tWed Jan 07 18:33:29 +0000 2015\t1420655609\n",
            "120\ttwitter-search\tIncredibly sad news out of France today. My thoughts go out to the family and friends of the staff at @Charlie_Hebdo_ #JeSuisCharlie\t\tmarksummers24\t552895815979892736\t753779834\ten\t<a href=\"http://twitter.com\" rel=\"nofollow\">Twitter Web Client</a>\thttp://abs.twimg.com/images/themes/theme1/bg.png\t\t0\t0\tWed Jan 07 18:33:29 +0000 2015\t1420655609\n",
            "223\ttwitter-search\tNo country is free if its press cannot practice openly and fearlessly. #JeSuisCharlie http://t.co/YCXeKDyJEp\t\tfancybuffalo\t552895808668856320\t87676970\ten\t<a href=\"http://twitter.com/download/iphone\" rel=\"nofollow\">Twitter for iPhone</a>\thttp://pbs.twimg.com/profile_background_images/717982142/07d49a19a8c1a62082fc6bda88d93187.jpeg\t\t0\t0\tWed Jan 07 18:33:27 +0000 2015\t1420655607\n",
            "238\ttwitter-search\tBeing in Paris, absolutely shocked at the #CharlieHebdo #terrorism attack. Condolences. #FreeSpeech #Secular #JeSuisCharlie\t\titsmaloy\t552895807914262528\t20865805\ten\t<a href=\"http://twitter.com\" rel=\"nofollow\">Twitter Web Client</a>\thttp://pbs.twimg.com/profile_background_images/32900806/1280x800.jpg\tPoint\t0\t0\tWed Jan 07 18:33:27 +0000 2015\t1420655607\n",
            "252\ttwitter-search\tMy wife wrote this: http://t.co/Y0HlA2qCCp #JeSuisCharlie\t\tLZHFox\t552895807079604224\t214412490\ten\t<a href=\"http://twitter.com\" rel=\"nofollow\">Twitter Web Client</a>\thttp://abs.twimg.com/images/themes/theme8/bg.gif\t\t0\t0\tWed Jan 07 18:33:27 +0000 2015\t1420655607\n",
            "293\ttwitter-search\tGerman public anti Islamic feelings are now strengthened by the attack in Paris #JeSuisCharlie\t\tChargedQuark\t552895804940091392\t2201550661\ten\t<a href=\"http://twitter.com\" rel=\"nofollow\">Twitter Web Client</a>\thttp://pbs.twimg.com/profile_background_images/378800000120034550/b2fe2367fe7cfd2c9361c2ed4fac75f2.jpeg\t\t0\t0\tWed Jan 07 18:33:26 +0000 2015\t1420655606\n",
            "319\ttwitter-search\tNetNewsLedger #JeSuisCharlie Hashtag Goes Viral Condemning Paris Terror Attack: PARIS - NEWS - People from aro... http://t.co/ACNdobn17V\t\tNouestOn\t552895802226384896\t317155770\ten\t<a href=\"http://twitterfeed.com\" rel=\"nofollow\">twitterfeed</a>\thttp://abs.twimg.com/images/themes/theme1/bg.png\t\t0\t0\tWed Jan 07 18:33:26 +0000 2015\t1420655606\n"
          ]
        }
      ]
    },
    {
      "cell_type": "code",
      "execution_count": null,
      "metadata": {
        "id": "jObL4D9JE7Eo",
        "colab": {
          "base_uri": "https://localhost:8080/"
        },
        "outputId": "25c6b130-2279-4178-ecd1-e8e45ae863ec"
      },
      "outputs": [
        {
          "output_type": "stream",
          "name": "stdout",
          "text": [
            "230721\n"
          ]
        }
      ],
      "source": [
        "#check that line counts match (in comparison with task 2.)\n",
        "\n",
        "! cat tweets_no_empties.txt | wc -l"
      ]
    },
    {
      "cell_type": "code",
      "execution_count": null,
      "metadata": {
        "id": "zegPPiYPFKJS",
        "colab": {
          "base_uri": "https://localhost:8080/"
        },
        "outputId": "df783897-a571-41e2-9abc-cf52f277f8ba"
      },
      "outputs": [
        {
          "output_type": "stream",
          "name": "stdout",
          "text": [
            "7712343\n"
          ]
        }
      ],
      "source": [
        "#4. Word count of the non-empties file\n",
        "\n",
        "! cat tweets_no_empties.txt | wc -w"
      ]
    },
    {
      "cell_type": "code",
      "execution_count": null,
      "metadata": {
        "id": "Xy6VFXO9PVgM",
        "colab": {
          "base_uri": "https://localhost:8080/"
        },
        "outputId": "d5022beb-a38c-46d1-cf2a-cd5e02caac80"
      },
      "outputs": [
        {
          "output_type": "stream",
          "name": "stdout",
          "text": [
            "1281052\ttwitter-search\t#JeSuisCharlie #FreeRaif #JusticeForYves... this is what we are: a bunch of useless hashtags.\t\ttalktoceline\t641608078631112704\t246378257\ten\t<a href=\"http://twitter.com\" rel=\"nofollow\">Twitter Web Client</a>\thttp://pbs.twimg.com/profile_background_images/216476981/02249_T_J.JPG\t\t0\t0\tWed Sep 09 13:44:21 +0000 2015\t1441806261\n"
          ]
        }
      ],
      "source": [
        "#5. Check the last Tweet\n",
        "\n",
        "! cat tweets_no_empties.txt | tail -1"
      ]
    },
    {
      "cell_type": "markdown",
      "metadata": {
        "id": "V8PbWFpAGOLe"
      },
      "source": [
        "### Further cleaning\n",
        "Remember that the file still had a lot of other information than just the tweets.\n",
        "\n",
        "6. Create a version of the data file where you have only the tweet texts. Read some of the lines to understand which column had the actual tweets."
      ]
    },
    {
      "cell_type": "code",
      "execution_count": null,
      "metadata": {
        "id": "u2FKgosTGdlu",
        "colab": {
          "base_uri": "https://localhost:8080/"
        },
        "outputId": "5c09b43b-aeef-4124-df5b-f9097f493f96"
      },
      "outputs": [
        {
          "output_type": "stream",
          "name": "stdout",
          "text": [
            "@_Tsunamilkshake pas top #CharlieHebdo #JeSuisCharlie\n",
            "NA\n",
            "Je suis Charline, mais surtout #JeSuisCharlie- freedom of speach is a right! http://t.co/5KLOA114C9\n",
            "The depraved ways of Islamic extremism should never be allowed to force people into silence. #JeSuisCharlie http://t.co/IZqNiFKBeM\n",
            "Incredibly sad news out of France today. My thoughts go out to the family and friends of the staff at @Charlie_Hebdo_ #JeSuisCharlie\n",
            "No country is free if its press cannot practice openly and fearlessly. #JeSuisCharlie http://t.co/YCXeKDyJEp\n",
            "Being in Paris, absolutely shocked at the #CharlieHebdo #terrorism attack. Condolences. #FreeSpeech #Secular #JeSuisCharlie\n",
            "My wife wrote this: http://t.co/Y0HlA2qCCp #JeSuisCharlie\n",
            "German public anti Islamic feelings are now strengthened by the attack in Paris #JeSuisCharlie\n",
            "NetNewsLedger #JeSuisCharlie Hashtag Goes Viral Condemning Paris Terror Attack: PARIS - NEWS - People from aro... http://t.co/ACNdobn17V\n"
          ]
        }
      ],
      "source": [
        "# cut -f prints only specific columns\n",
        "\n",
        "#It's always useful and important to check what the command does and that it does what you intend it to do.\n",
        "\n",
        "! cat tweets_no_empties.txt | cut -f 3 | head # Head at the end of the pipe is useful to reading"
      ]
    },
    {
      "cell_type": "code",
      "execution_count": null,
      "metadata": {
        "id": "ys-ShwCPG80h"
      },
      "outputs": [],
      "source": [
        "#6. Direct the Tweets to a new file\n",
        "\n",
        "! cat tweets_no_empties.txt | cut -f 3 > just_tweets.txt"
      ]
    },
    {
      "cell_type": "code",
      "execution_count": null,
      "metadata": {
        "id": "m5gN1YpGG_bq",
        "colab": {
          "base_uri": "https://localhost:8080/"
        },
        "outputId": "af6ce842-7cdf-46af-a8af-bf74ae81b55a"
      },
      "outputs": [
        {
          "output_type": "stream",
          "name": "stdout",
          "text": [
            "@_Tsunamilkshake pas top #CharlieHebdo #JeSuisCharlie\n",
            "NA\n",
            "Je suis Charline, mais surtout #JeSuisCharlie- freedom of speach is a right! http://t.co/5KLOA114C9\n",
            "The depraved ways of Islamic extremism should never be allowed to force people into silence. #JeSuisCharlie http://t.co/IZqNiFKBeM\n",
            "Incredibly sad news out of France today. My thoughts go out to the family and friends of the staff at @Charlie_Hebdo_ #JeSuisCharlie\n",
            "No country is free if its press cannot practice openly and fearlessly. #JeSuisCharlie http://t.co/YCXeKDyJEp\n",
            "Being in Paris, absolutely shocked at the #CharlieHebdo #terrorism attack. Condolences. #FreeSpeech #Secular #JeSuisCharlie\n",
            "My wife wrote this: http://t.co/Y0HlA2qCCp #JeSuisCharlie\n",
            "German public anti Islamic feelings are now strengthened by the attack in Paris #JeSuisCharlie\n",
            "NetNewsLedger #JeSuisCharlie Hashtag Goes Viral Condemning Paris Terror Attack: PARIS - NEWS - People from aro... http://t.co/ACNdobn17V\n"
          ]
        }
      ],
      "source": [
        "#Check that the file looks as it should\n",
        "\n",
        "! head just_tweets.txt"
      ]
    },
    {
      "cell_type": "markdown",
      "metadata": {
        "id": "21ffCS_FDMkW"
      },
      "source": [
        "### Matching specific patterns\n",
        "There is a lot of Charlie-related tweets.\n",
        "\n",
        "7. Do all the tweets have the hashtag #JeSuisCharlie?\n",
        "8. How could you look at tweets that do not have this hashtag?\n",
        "9. How could you search any CaPS-variant of the hashtag using one single egrep-command?\n",
        "10. How are the lines that don't have any variant of the hashtag? How many are there?\n"
      ]
    },
    {
      "cell_type": "markdown",
      "metadata": {
        "id": "qmXz0aEbP6M6"
      },
      "source": [
        "### User names and their frequencies\n",
        "\n",
        "Column 5 of the original tweet file (tweets_no_empties.txt) has user names.\n",
        "\n",
        "11. Take them to a separate file\n",
        "12. What are the 5 most frequent usernames in the dataset?\n",
        "13. How many different usernames does the data have?"
      ]
    },
    {
      "cell_type": "markdown",
      "metadata": {
        "id": "yt7LxhJmOlqj"
      },
      "source": [
        "### Duplicate tweets\n",
        "\n",
        "14. Does the tweet text data include duplicates, i.e., same tweets that have multiple occurrences in the dataset?\n",
        "15. It is a bit suspicious that the dataset includes the same tweets several times. Can you think of a way to exclude those? Uniq man pages or instructions may help here.\n",
        "16. Direct the tweets that occur only once to a file of its own.\n",
        "17. How many tweets do you end up having here?"
      ]
    },
    {
      "cell_type": "markdown",
      "metadata": {
        "id": "SaYej1X2XqJy"
      },
      "source": [
        "### Hashtags\n",
        "The hashtags used in the tweets are available at http://dl.turkunlp.org/atp/hashtags.txt\n",
        "\n",
        "19. Which hashtags are the most frequent ones?\n",
        "20. How many different hashtags do you have?\n",
        "21. Different versions of jesuischarlie seem to be frequent. How could you exclude those? Which are the most frequent hashtags when those are excluded?\n",
        "22. We can find hashtags with different mentions of \"je suis\" (I am) that don't include \"Charlie\" but something else. How could you find those? What do they look like? These were used to express solidarity to also other\n",
        "23. Count these hashtags with \"je suis\" that don't include Charlie but something else."
      ]
    },
    {
      "cell_type": "markdown",
      "source": [
        "**Summary of useful commands in these exercises**\n",
        "\n",
        "`egrep -w` match **as word**, not as part of a word\n",
        "\n",
        "`egrep -v` match lines that **don't include** the given character string\n",
        "\n",
        "`egrep -i` **ignore case** when matching lines (i.e. match lines with upper and/or lower case)\n",
        "\n",
        "`egrep -iv` N.B. the flags can be **combined**\n",
        "\n",
        "`egrep -v \"^$\"`remove **empty lines**\n",
        "\n",
        "`cut -f` select **column(s)**\n",
        "\n",
        "`uniq -u` filter successive duplicate lines, **print only one** of the duplicate lines\n",
        "\n",
        "`sort | uniq -c | sort -rn` **frequency list**\n",
        "\n",
        "`sort | uniq -ci | sort -rn` **frequency list**"
      ],
      "metadata": {
        "id": "_-gWnNGMQxOo"
      }
    }
  ]
}
