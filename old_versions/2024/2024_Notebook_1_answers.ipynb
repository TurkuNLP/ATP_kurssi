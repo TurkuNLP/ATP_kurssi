{
  "nbformat": 4,
  "nbformat_minor": 0,
  "metadata": {
    "colab": {
      "provenance": [],
      "include_colab_link": true
    },
    "kernelspec": {
      "name": "python3",
      "display_name": "Python 3"
    },
    "language_info": {
      "name": "python"
    }
  },
  "cells": [
    {
      "cell_type": "markdown",
      "metadata": {
        "id": "view-in-github",
        "colab_type": "text"
      },
      "source": [
        "<a href=\"https://colab.research.google.com/github/TurkuNLP/ATP_kurssi/blob/master/2024_Notebook_1_answers.ipynb\" target=\"_parent\"><img src=\"https://colab.research.google.com/assets/colab-badge.svg\" alt=\"Open In Colab\"/></a>"
      ]
    },
    {
      "cell_type": "markdown",
      "source": [
        "### Exercise\n",
        "\n",
        "\n",
        "1. Choose another book from Gutenberg and download it\n",
        "2. Make a backup **copy** of the file and delete the original\n",
        "3. Then move (rename) the backup file as something else\n",
        "4. Check with `ls` that all is how you intended\n",
        "5. Save the `head` and `tail` outputs of the new book into separate files\n",
        "6. Check with cat that you got what you wanted\n",
        "7. Then try to use `wc -w`. How many words did the original book have?\n",
        "8. How many words did head and tail outputs have?\n",
        "9. How would you print the output of `wc -w` to a file?\n"
      ],
      "metadata": {
        "id": "4MpyrkZaHYdb"
      }
    },
    {
      "cell_type": "code",
      "source": [
        "# 1. Choose another book from Gutenberg and download it\n",
        "! wget https://www.gutenberg.org/cache/epub/54306/pg54306.txt # Take another book from Gutenberg"
      ],
      "metadata": {
        "id": "H1NumWz_LMYP",
        "colab": {
          "base_uri": "https://localhost:8080/"
        },
        "outputId": "6d44f0ec-9762-4f2f-c4bb-2b3729d91e1d"
      },
      "execution_count": null,
      "outputs": [
        {
          "output_type": "stream",
          "name": "stdout",
          "text": [
            "--2024-10-22 08:56:58--  https://www.gutenberg.org/cache/epub/54306/pg54306.txt\n",
            "Resolving www.gutenberg.org (www.gutenberg.org)... 152.19.134.47, 2610:28:3090:3000:0:bad:cafe:47\n",
            "Connecting to www.gutenberg.org (www.gutenberg.org)|152.19.134.47|:443... connected.\n",
            "HTTP request sent, awaiting response... 200 OK\n",
            "Length: 594771 (581K) [text/plain]\n",
            "Saving to: ‘pg54306.txt’\n",
            "\n",
            "pg54306.txt         100%[===================>] 580.83K  1.81MB/s    in 0.3s    \n",
            "\n",
            "2024-10-22 08:56:59 (1.81 MB/s) - ‘pg54306.txt’ saved [594771/594771]\n",
            "\n"
          ]
        }
      ]
    },
    {
      "cell_type": "code",
      "source": [
        "# 2. Make a backup copy of the file and delete the original\n",
        "! cp pg54306.txt backup.txt # make a back-up copy\n",
        "! rm pg54306.txt # delete the original\n",
        "! mv backup.txt mirdja.txt # rename\n",
        "! ls # check that all went fine"
      ],
      "metadata": {
        "id": "Kcz-o17cLNYK"
      },
      "execution_count": null,
      "outputs": []
    },
    {
      "cell_type": "code",
      "source": [
        "# 3. Then move (rename) the backup file as something else\n",
        "! head mirdja.txt > head-m.txt\n",
        "! tail mirdja.txt > tail-m.txt\n",
        "! ls"
      ],
      "metadata": {
        "id": "liRiHdL4Lh0t",
        "colab": {
          "base_uri": "https://localhost:8080/"
        },
        "outputId": "4305b560-9867-432d-ae5c-8277864dc88b"
      },
      "execution_count": null,
      "outputs": [
        {
          "output_type": "stream",
          "name": "stdout",
          "text": [
            "head-m.txt  mirdja.txt\tsample_data  tail-m.txt\n"
          ]
        }
      ]
    },
    {
      "cell_type": "code",
      "source": [
        "# 4. Check with ls that all is how you intended\n",
        "! wc -w mirdja.txt # word count\n",
        "! wc -w head-m.txt tail-m.txt # see you can count both files at once\n"
      ],
      "metadata": {
        "id": "m3tdR9LELut0",
        "colab": {
          "base_uri": "https://localhost:8080/"
        },
        "outputId": "e80f240b-1cbf-4c8a-fd96-6c0c0fa8520f"
      },
      "execution_count": null,
      "outputs": [
        {
          "output_type": "stream",
          "name": "stdout",
          "text": [
            "75562 mirdja.txt\n",
            " 89 head-m.txt\n",
            " 53 tail-m.txt\n",
            "142 total\n"
          ]
        }
      ]
    },
    {
      "cell_type": "code",
      "source": [
        "! wc -w head-m.txt tail-m.txt > wcs.txt # direct to a file"
      ],
      "metadata": {
        "id": "wXMEtxyAL4J2"
      },
      "execution_count": null,
      "outputs": []
    },
    {
      "cell_type": "code",
      "source": [
        "! cat wcs.txt"
      ],
      "metadata": {
        "id": "Ou-nyU8uMB6Y",
        "colab": {
          "base_uri": "https://localhost:8080/"
        },
        "outputId": "6d5d32a7-8f43-4342-f807-452ca2b6eec0"
      },
      "execution_count": null,
      "outputs": [
        {
          "output_type": "stream",
          "name": "stdout",
          "text": [
            " 89 head-m.txt\n",
            " 53 tail-m.txt\n",
            "142 total\n"
          ]
        }
      ]
    },
    {
      "cell_type": "code",
      "source": [],
      "metadata": {
        "id": "nxiiQf_nMDLx"
      },
      "execution_count": null,
      "outputs": []
    }
  ]
}
