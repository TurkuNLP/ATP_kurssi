{
  "nbformat": 4,
  "nbformat_minor": 0,
  "metadata": {
    "colab": {
      "provenance": [],
      "include_colab_link": true
    },
    "kernelspec": {
      "name": "python3",
      "display_name": "Python 3"
    },
    "language_info": {
      "name": "python"
    }
  },
  "cells": [
    {
      "cell_type": "markdown",
      "metadata": {
        "id": "view-in-github",
        "colab_type": "text"
      },
      "source": [
        "<a href=\"https://colab.research.google.com/github/TurkuNLP/ATP_kurssi/blob/master/Notebook8_2023.ipynb\" target=\"_parent\"><img src=\"https://colab.research.google.com/assets/colab-badge.svg\" alt=\"Open In Colab\"/></a>"
      ]
    },
    {
      "cell_type": "markdown",
      "metadata": {
        "id": "Hbk7qSCj1OQr"
      },
      "source": [
        "## Topics for today: Connecting to a server and scripts\n",
        "\n",
        "* Course server vm0964.kaj.pouta.csc.fi\n",
        "* The course server is called vm0964.kaj.pouta.csc.fi\n",
        "  * Connecting needs a program, such as Putty\n",
        "  * Putty can be installed freely to any Windows laptop (https://www.chiark.greenend.org.uk/~sgtatham/putty/latest.html)\n",
        "* On Linux / Mac machines, you have a Terminal from which you can ssh to the server with `ssh vm.9064.kaj.pouta.csc.fi`\n",
        "\n",
        "* Your username is your UTU username\n",
        "* Your password is told at class and illustrated on Moodle (this page is public so not here)"
      ]
    },
    {
      "cell_type": "markdown",
      "metadata": {
        "id": "iimt0tL91-dM"
      },
      "source": [
        "### Change your password\n",
        "* The command is *passwd*\n",
        "* Note that you can't see the password when typing"
      ]
    },
    {
      "cell_type": "markdown",
      "metadata": {
        "id": "1qarfvipy3HP"
      },
      "source": [
        "### Browsing text files\n",
        "* *cat, head, tail* work\n",
        "* *less* useful to browse a file (q takes you away from less)\n",
        "* less useful at the end of pipes\n",
        "** cat file.txt | egrep \"cool\" | less\n",
        "\n",
        "### Text editors\n",
        "\n",
        "* emacs file.txt\n",
        "(to **exit** emacs, press control+x control+c; to **save** press control+s control+c)\n",
        "\n",
        "* nano file.txt\n"
      ]
    },
    {
      "cell_type": "markdown",
      "metadata": {
        "id": "oCC1YQOxzbdK"
      },
      "source": [
        "## File system\n",
        "\n",
        "* Folders and subfolders similarly to any (Windows or other) machine\n",
        "* Each user has their own home directory (and possible subdirectories)\n",
        "* Here's a nice figure: http://unix.stackexchange.com/questions/89114/what-does-the-jargon-filesystem-mean\n",
        "* `pwd` prints the whole path of the folder\n",
        "\n",
        "* Moving between directories: `cd`\n",
        "  * Upwards:` cd ..` Note the whitespace!\n",
        "  * Downwards: `cd folder`\n",
        "  * Upwards and then downwards: `cd ../anotherfolder`\n",
        "* Back to home directory: `cd`\n",
        "---------\n",
        "### Copying and moving files\n",
        "**Copying**\n",
        "* Downwards:\n",
        "** `cp kukkuu.txt folder/`\n",
        "* Upwards:\n",
        "** ` cp kukkuu.txt ../`\n",
        "* Dot (.) means in this context the current directory:\n",
        "  * `cp ../kukkuu.txt .`\n",
        "\n",
        "* Copy to a new file (cf. save as); results in two files:\n",
        "** ` cp kukkuu.txt kukkuu1.txt`\n",
        "\n",
        "* Copying to a new file and moving the copy:\n",
        "** `cp kukkuu.txt folder/kukkuu1.txt`\n",
        "\n",
        "**Moving**\n",
        "* Downwards:\n",
        "** `mv kukkuu.txt folder/`\n",
        "* Upwards:\n",
        "** ` mv kukkuu.txt ../`\n",
        "\n",
        "* Renaming; results in one file:\n",
        "** ` mv kukkuu.txt kukkuu1.txt`\n",
        "\n",
        "* Renaming and moving:\n",
        "** ` mv kukkuu.txt ../kukkuu1.txt`\n",
        "\n"
      ]
    },
    {
      "cell_type": "markdown",
      "metadata": {
        "id": "aDWzI0jJ3GxG"
      },
      "source": [
        "\n",
        "### Time out 1\n",
        "\n",
        "Make sure you can log in to the server.\n",
        "\n",
        "Try out working on the server. Useful commands can be `mkdir, rmdir, cp, mv, rm` (rmdir and rm go for remove, so remember to be careful! There's no checking whether you really want to remove the file/folder!)\n",
        "\n",
        "* Create a directory called `My_directory` to your home folder\n",
        "\n",
        "* Create a file called `myfile.txt` to the folder. Try to write something to it using a text editor.\n",
        "\n",
        "* Take a copy of `myfile.txt` and rename it as `backup-of-myfile.txt`\n",
        "\n",
        "* Take a file from Gutenberg and browse it with different methods: `head, tail, cat, less`. Note the differences!\n",
        "\n",
        "* ... And note that text editors are not great for browsing larger files, so avoid that!\n",
        "\n",
        "* Finally, remove all files and directories you created during this exercise. You can check with `ls `if you succeeded!"
      ]
    },
    {
      "cell_type": "markdown",
      "source": [
        "## Scripts\n",
        "\n",
        "* Long command combinations can become complicated.\n",
        "* The commands can be saved in a script that can then be executed instead of typing the individual commands on command line\n",
        "----\n",
        "\n",
        "###  Script file\n",
        "\n",
        "* Bash scripts should have `.sh` ending\n",
        "* Bash scripts should start with\n",
        "\n",
        "` #!/bin/bash`\n",
        "* They can be executed by `./script.sh`\n",
        "* Important: you need to add excecuting permissions to your script.\n",
        "* `chmod a+x script.sh`\n",
        "\n",
        "### Script input and output\n",
        "\n",
        "* Standard input / output\n",
        "** `cat input.txt | ./script.sh > output.txt`\n",
        "\n",
        "* Arguments\n",
        "  * `./script.sh input.txt`\n",
        "  * Arguments (such as input.txt above) referred to with` $1, $2,` etc in the script\n"
      ],
      "metadata": {
        "id": "QvHDy26bvBSK"
      }
    },
    {
      "cell_type": "markdown",
      "source": [
        "### Timeout 2.1\n",
        "\n",
        "* Make first a script that counts how many words a file has\n",
        "  * For data, you can fetch any file from the folder `/home/mavela/data-2022`\n",
        "  * Remember that with `ls` `/home/mavela/data-2022` you can list the contents of the folder so you can decide which one to fetch\n",
        "\n",
        "* The script should take the file from standard input (pipe)\n",
        "* Many of the files are quite messy. You can first make a script that counts all the words of the file, and then refine it to count only actual text in the file\n",
        "\n",
        "### Timeout 2.2\n",
        "* Advanced: make a script that downloads a Gutenberg book and prints a clean frequency list (to standard output or to a file)\n",
        "* Note that wget -O allows you to name the downloaded file as you like\n",
        "\n"
      ],
      "metadata": {
        "id": "zhYcr7xRwrUq"
      }
    },
    {
      "cell_type": "code",
      "source": [
        "! wget -O \"MYFILE.txt\" https://www.gutenberg.org/files/84/84-0.txt"
      ],
      "metadata": {
        "id": "kFtyFlxOwz3J"
      },
      "execution_count": null,
      "outputs": []
    }
  ]
}
