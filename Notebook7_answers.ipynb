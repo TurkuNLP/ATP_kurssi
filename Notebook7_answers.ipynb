{
  "nbformat": 4,
  "nbformat_minor": 0,
  "metadata": {
    "colab": {
      "name": "Notebook7_answers.ipynb",
      "provenance": [],
      "authorship_tag": "ABX9TyPDw0dYuiYGFxfp5krs687U",
      "include_colab_link": true
    },
    "kernelspec": {
      "name": "python3",
      "display_name": "Python 3"
    },
    "language_info": {
      "name": "python"
    }
  },
  "cells": [
    {
      "cell_type": "markdown",
      "metadata": {
        "id": "view-in-github",
        "colab_type": "text"
      },
      "source": [
        "<a href=\"https://colab.research.google.com/github/TurkuNLP/ATP_kurssi/blob/master/Notebook7_answers.ipynb\" target=\"_parent\"><img src=\"https://colab.research.google.com/assets/colab-badge.svg\" alt=\"Open In Colab\"/></a>"
      ]
    },
    {
      "cell_type": "markdown",
      "metadata": {
        "id": "9fqE26qHirlk"
      },
      "source": [
        "Let's get some basic information on the file\n",
        "\n",
        "* How many lines in total? How many words? How could you count words excluding punctuation? How to get rid of the metadata?\n",
        "* How many unique words does the file have?\n",
        "* What are the 15 most frequent lemmas? What about words?\n"
      ]
    },
    {
      "cell_type": "markdown",
      "metadata": {
        "id": "42rgPqWz41nO"
      },
      "source": [
        "\n",
        "* Counting simply lines\n",
        "\n",
        "```\n",
        "mavela@nlpedu-new-1:~/dataa/Wed$ zcat suomi24.conllu.gz | wc -l\n",
        "\n",
        "650220\n",
        "```\n",
        "\n",
        "* BUT NOTE THAT THERE IS METADATA ETC, SO THIS GIVES JUST AN ESTIMATE ON THE FILE SIZE\n",
        "\n",
        "* To count number of running words\n",
        "```\n",
        "mavela@nlpedu-new-1:~/dataa/Wed$ zcat suomi24.conllu.gz | egrep \"^[0-9]\" | egrep -v \"PUNCT\" | wc -l\n",
        "472627\n",
        "```\n",
        "* To count unique strings (trying to exluce punctuation)\n",
        "\n",
        "```\n",
        "mavela@nlpedu-new-1:~/dataa/Wed$ zcat suomi24.conllu.gz | egrep \"^[0-9]\" | egrep -v \"PUNCT|SYM\" | cut -f 2 | sort | uniq | wc -l\n",
        "96036\n",
        "mavela@nlpedu-new-1:~/dataa/Wed$ zcat suomi24.conllu.gz | egrep \"^[0-9]\" | egrep -v \"PUNCT|SYM\" | cut -f 2 | sort | uniq | head -5\n",
        "^^\n",
        "=\n",
        ",,\n",
        ",,,\n",
        ",,,,\n",
        "\n",
        "```\n",
        "\n",
        "* To check why those punctuations are still there, it's probably good to have a look at their pos tag categories. You can attach this info to the strings by adding also the 4th column\n",
        "\n",
        "\n",
        "```\n",
        "mavela@nlpedu-new-1:~/dataa/Wed$ zcat suomi24.conllu.gz | egrep \"^[0-9]\" | egrep -v \"PUNCT|SYM\" | cut -f 2,4 | sort |egrep \"\\!+\"\n",
        "!!!!!   ADP\n",
        "!!!     ADV\n",
        "!!!     CONJ\n",
        "!!;     INTJ\n",
        "!!!;    INTJ\n",
        "Letsfinish!     NOUN\n",
        "!;!;!;!;        X\n",
        "!!!!!!!!        X\n",
        "!!!!!!  X\n",
        "!!!     X\n",
        "!!      X\n",
        "!!      X\n",
        "\n",
        "```\n",
        "\n",
        "\n",
        "... So weirdly, these are sometimes getting the X postag. We can take that out too.\n",
        "\n",
        "\n",
        "\n",
        "\n",
        "\n"
      ]
    },
    {
      "cell_type": "markdown",
      "metadata": {
        "id": "Ak53ULiUi5ff"
      },
      "source": [
        "Let's continue with the same Suomi24 file and a closer look at verbs (VERB) and adjectives (ADJ) in the data\n",
        "\n",
        "* How could you search for adjectives or verbs? How many do you find in the data?\n",
        "\n",
        "* What are the most frequent adjectives and verbs you find?\n",
        "\n",
        "* What about their lemma forms?\n",
        "\n",
        "* Make a list of unique verb and adjective lemmas and direct them to separate files\n",
        "\n",
        "* As always, many of the lemmas occurring only once are just noise. How many of the total number of lemmas occur only once? Create new lists withtout these."
      ]
    }
  ]
}