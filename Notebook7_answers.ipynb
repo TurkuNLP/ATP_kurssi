{
  "nbformat": 4,
  "nbformat_minor": 0,
  "metadata": {
    "colab": {
      "name": "Notebook7_answers.ipynb",
      "provenance": [],
      "authorship_tag": "ABX9TyPi02gZ48MhhB43EYfG7ZBG",
      "include_colab_link": true
    },
    "kernelspec": {
      "name": "python3",
      "display_name": "Python 3"
    },
    "language_info": {
      "name": "python"
    }
  },
  "cells": [
    {
      "cell_type": "markdown",
      "metadata": {
        "id": "view-in-github",
        "colab_type": "text"
      },
      "source": [
        "<a href=\"https://colab.research.google.com/github/TurkuNLP/ATP_kurssi/blob/master/Notebook7_answers.ipynb\" target=\"_parent\"><img src=\"https://colab.research.google.com/assets/colab-badge.svg\" alt=\"Open In Colab\"/></a>"
      ]
    },
    {
      "cell_type": "code",
      "metadata": {
        "id": "4HeQdvCM4xu-"
      },
      "source": [
        ""
      ],
      "execution_count": null,
      "outputs": []
    },
    {
      "cell_type": "markdown",
      "metadata": {
        "id": "42rgPqWz41nO"
      },
      "source": [
        "\n",
        "* Counting simply lines\n",
        "\n",
        "```\n",
        "mavela@nlpedu-new-1:~/dataa/Wed$ zcat suomi24.conllu.gz | wc -l\n",
        "\n",
        "650220\n",
        "```\n",
        "\n",
        "* BUT NOTE THAT THERE IS METADATA ETC, SO THIS GIVES JUST AN ESTIMATE ON THE FILE SIZE\n",
        "\n",
        "* To count number of running words\n",
        "```\n",
        "mavela@nlpedu-new-1:~/dataa/Wed$ zcat suomi24.conllu.gz | egrep \"^[0-9]\" | egrep -v \"PUNCT\" | wc -l\n",
        "472627\n",
        "```\n",
        "* To count unique strings (trying to exluce punctuation)\n",
        "\n",
        "```\n",
        "mavela@nlpedu-new-1:~/dataa/Wed$ zcat suomi24.conllu.gz | egrep \"^[0-9]\" | egrep -v \"PUNCT|SYM\" | cut -f 2 | sort | uniq | wc -l\n",
        "96036\n",
        "mavela@nlpedu-new-1:~/dataa/Wed$ zcat suomi24.conllu.gz | egrep \"^[0-9]\" | egrep -v \"PUNCT|SYM\" | cut -f 2 | sort | uniq | head -5\n",
        "^^\n",
        "=\n",
        ",,\n",
        ",,,\n",
        ",,,,\n",
        "\n",
        "```\n",
        "\n",
        "* To check why those punctuations are still there, it's probably good to have a look at their pos tag categories. You can attach this info to the strings by adding also the 4th column\n",
        "\n",
        "\n",
        "```\n",
        "mavela@nlpedu-new-1:~/dataa/Wed$ zcat suomi24.conllu.gz | egrep \"^[0-9]\" | egrep -v \"PUNCT|SYM\" | cut -f 2,4 | sort |egrep \"\\!+\"\n",
        "!!!!!   ADP\n",
        "!!!     ADV\n",
        "!!!     CONJ\n",
        "!!;     INTJ\n",
        "!!!;    INTJ\n",
        "Letsfinish!     NOUN\n",
        "!;!;!;!;        X\n",
        "!!!!!!!!        X\n",
        "!!!!!!  X\n",
        "!!!     X\n",
        "!!      X\n",
        "!!      X\n",
        "\n",
        "```\n",
        "\n",
        "\n",
        "... So weirdly, these are sometimes getting the X postag. We can take that out too.\n",
        "\n",
        "\n",
        "\n",
        "\n",
        "\n"
      ]
    }
  ]
}