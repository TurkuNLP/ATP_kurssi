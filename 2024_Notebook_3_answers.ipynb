{
  "cells": [
    {
      "cell_type": "markdown",
      "metadata": {
        "id": "view-in-github",
        "colab_type": "text"
      },
      "source": [
        "<a href=\"https://colab.research.google.com/github/TurkuNLP/ATP_kurssi/blob/master/2024_Notebook_3_answers.ipynb\" target=\"_parent\"><img src=\"https://colab.research.google.com/assets/colab-badge.svg\" alt=\"Open In Colab\"/></a>"
      ]
    },
    {
      "cell_type": "markdown",
      "metadata": {
        "id": "cVGiNOizCxMK"
      },
      "source": [
        "### Fetch data and basic statistics\n",
        "\n",
        "1. Fetch the tweet file found at http://dl.turkunlp.org/atp/tweets_en_nort.csv\n",
        "2.  How many lines does it have? What if we remove empty lines?\n",
        "3.  Direct the non-empty lines to a file.\n",
        "4.  How many words does it have?\n",
        "5.  How does the last tweet look like? (This can be suprisingly useful when working with real data)"
      ]
    },
    {
      "cell_type": "code",
      "execution_count": null,
      "metadata": {
        "colab": {
          "base_uri": "https://localhost:8080/"
        },
        "collapsed": true,
        "id": "f7PgobTMCqqh",
        "outputId": "a6025139-4a10-426d-a771-aac449fbf375"
      },
      "outputs": [
        {
          "output_type": "stream",
          "name": "stdout",
          "text": [
            "--2024-11-07 07:39:22--  http://dl.turkunlp.org/atp/tweets_en_nort.csv\n",
            "Resolving dl.turkunlp.org (dl.turkunlp.org)... 195.148.30.23\n",
            "Connecting to dl.turkunlp.org (dl.turkunlp.org)|195.148.30.23|:80... connected.\n",
            "HTTP request sent, awaiting response... 200 OK\n",
            "Length: 82188071 (78M) [application/octet-stream]\n",
            "Saving to: ‘tweets_en_nort.csv’\n",
            "\n",
            "tweets_en_nort.csv  100%[===================>]  78.38M  19.3MB/s    in 5.2s    \n",
            "\n",
            "2024-11-07 07:39:28 (15.2 MB/s) - ‘tweets_en_nort.csv’ saved [82188071/82188071]\n",
            "\n"
          ]
        }
      ],
      "source": [
        "#1. Fetch the file\n",
        "\n",
        "! wget http://dl.turkunlp.org/atp/tweets_en_nort.csv"
      ]
    },
    {
      "cell_type": "code",
      "execution_count": null,
      "metadata": {
        "colab": {
          "base_uri": "https://localhost:8080/"
        },
        "id": "KHGdzYleDD3v",
        "outputId": "78c31b8b-e74e-455c-b08c-c3138bc90561"
      },
      "outputs": [
        {
          "name": "stdout",
          "output_type": "stream",
          "text": [
            "15\ttwitter-search\t@_Tsunamilkshake pas top #CharlieHebdo #JeSuisCharlie\t2537743877\ttheo_yagami\t552895821730316288\t1215660151\ten\t<a href=\"http://twitter.com/download/android\" rel=\"nofollow\">Twitter for Android</a>\thttp://pbs.twimg.com/profile_background_images/881023503/57d97605059e6a7d321b75c46ac2323a.jpeg\t\t0\t0\tWed Jan 07 18:33:30 +0000 2015\t1420655610\n",
            "\n",
            "17\ttwitter-search\tNA\t\thojaldraoficial\t552895821600264192\t763672748\ten\t<a href=\"http://twitter.com\" rel=\"nofollow\">Twitter Web Client</a>\thttp://abs.twimg.com/images/themes/theme1/bg.png\t\t0\t0\tWed Jan 07 18:33:30 +0000 2015\t1420655610\n",
            "\n",
            "103\ttwitter-search\tJe suis Charline, mais surtout #JeSuisCharlie- freedom of speach is a right! http://t.co/5KLOA114C9\t\tCharlineDeLucaC\t552895817003323392\t834937038\ten\t<a href=\"http://instagram.com\" rel=\"nofollow\">Instagram</a>\thttp://pbs.twimg.com/profile_background_images/690731646/217479ce77b3fa1a6f904db60cc48b9c.jpeg\t\t0\t0\tWed Jan 07 18:33:29 +0000 2015\t1420655609\n",
            "\n",
            "112\ttwitter-search\tThe depraved ways of Islamic extremism should never be allowed to force people into silence. #JeSuisCharlie http://t.co/IZqNiFKBeM\t\tMrThomasLambert\t552895816349016064\t144112123\ten\t<a href=\"http://twitter.com/#!/download/ipad\" rel=\"nofollow\">Twitter for iPad</a>\thttp://pbs.twimg.com/profile_background_images/378800000119614010/110989389ca0fffe0285a3f1a708ff7a.jpeg\t\t0\t0\tWed Jan 07 18:33:29 +0000 2015\t1420655609\n",
            "\n",
            "120\ttwitter-search\tIncredibly sad news out of France today. My thoughts go out to the family and friends of the staff at @Charlie_Hebdo_ #JeSuisCharlie\t\tmarksummers24\t552895815979892736\t753779834\ten\t<a href=\"http://twitter.com\" rel=\"nofollow\">Twitter Web Client</a>\thttp://abs.twimg.com/images/themes/theme1/bg.png\t\t0\t0\tWed Jan 07 18:33:29 +0000 2015\t1420655609\n",
            "\n"
          ]
        }
      ],
      "source": [
        "# better have a look at what we got\n",
        "\n",
        "! cat tweets_en_nort.csv | head"
      ]
    },
    {
      "cell_type": "code",
      "execution_count": null,
      "metadata": {
        "colab": {
          "base_uri": "https://localhost:8080/"
        },
        "id": "59ovl5qGEC9P",
        "outputId": "da0ca9c2-63b4-43e0-bdfd-38a95d554392"
      },
      "outputs": [
        {
          "name": "stdout",
          "output_type": "stream",
          "text": [
            "461412\n"
          ]
        }
      ],
      "source": [
        "#2. Line count\n",
        "\n",
        "! cat tweets_en_nort.csv | wc -l #line count; but remember there were a lot of empty lines\n"
      ]
    },
    {
      "cell_type": "code",
      "execution_count": null,
      "metadata": {
        "colab": {
          "base_uri": "https://localhost:8080/"
        },
        "id": "7uEgrJ0ceJ2H",
        "outputId": "ed45a014-828f-4630-860c-3804e97da552"
      },
      "outputs": [
        {
          "name": "stdout",
          "output_type": "stream",
          "text": [
            "230721\n"
          ]
        }
      ],
      "source": [
        "#line count with non-empties\n",
        "\n",
        "#Remove empty lines: egrep -v \"^$\"\n",
        "#new line count: wc -l\n",
        "\n",
        "! cat tweets_en_nort.csv | egrep -v \"^$\" | wc -l #first match anything but empty lines, then count how many lines"
      ]
    },
    {
      "cell_type": "code",
      "execution_count": null,
      "metadata": {
        "colab": {
          "base_uri": "https://localhost:8080/"
        },
        "id": "TLBqz7WwEdxd",
        "outputId": "6ec40b7b-5dc7-4143-c926-994f20968927"
      },
      "outputs": [
        {
          "name": "stdout",
          "output_type": "stream",
          "text": [
            "15\ttwitter-search\t@_Tsunamilkshake pas top #CharlieHebdo #JeSuisCharlie\t2537743877\ttheo_yagami\t552895821730316288\t1215660151\ten\t<a href=\"http://twitter.com/download/android\" rel=\"nofollow\">Twitter for Android</a>\thttp://pbs.twimg.com/profile_background_images/881023503/57d97605059e6a7d321b75c46ac2323a.jpeg\t\t0\t0\tWed Jan 07 18:33:30 +0000 2015\t1420655610\n",
            "17\ttwitter-search\tNA\t\thojaldraoficial\t552895821600264192\t763672748\ten\t<a href=\"http://twitter.com\" rel=\"nofollow\">Twitter Web Client</a>\thttp://abs.twimg.com/images/themes/theme1/bg.png\t\t0\t0\tWed Jan 07 18:33:30 +0000 2015\t1420655610\n",
            "103\ttwitter-search\tJe suis Charline, mais surtout #JeSuisCharlie- freedom of speach is a right! http://t.co/5KLOA114C9\t\tCharlineDeLucaC\t552895817003323392\t834937038\ten\t<a href=\"http://instagram.com\" rel=\"nofollow\">Instagram</a>\thttp://pbs.twimg.com/profile_background_images/690731646/217479ce77b3fa1a6f904db60cc48b9c.jpeg\t\t0\t0\tWed Jan 07 18:33:29 +0000 2015\t1420655609\n",
            "112\ttwitter-search\tThe depraved ways of Islamic extremism should never be allowed to force people into silence. #JeSuisCharlie http://t.co/IZqNiFKBeM\t\tMrThomasLambert\t552895816349016064\t144112123\ten\t<a href=\"http://twitter.com/#!/download/ipad\" rel=\"nofollow\">Twitter for iPad</a>\thttp://pbs.twimg.com/profile_background_images/378800000119614010/110989389ca0fffe0285a3f1a708ff7a.jpeg\t\t0\t0\tWed Jan 07 18:33:29 +0000 2015\t1420655609\n",
            "120\ttwitter-search\tIncredibly sad news out of France today. My thoughts go out to the family and friends of the staff at @Charlie_Hebdo_ #JeSuisCharlie\t\tmarksummers24\t552895815979892736\t753779834\ten\t<a href=\"http://twitter.com\" rel=\"nofollow\">Twitter Web Client</a>\thttp://abs.twimg.com/images/themes/theme1/bg.png\t\t0\t0\tWed Jan 07 18:33:29 +0000 2015\t1420655609\n",
            "223\ttwitter-search\tNo country is free if its press cannot practice openly and fearlessly. #JeSuisCharlie http://t.co/YCXeKDyJEp\t\tfancybuffalo\t552895808668856320\t87676970\ten\t<a href=\"http://twitter.com/download/iphone\" rel=\"nofollow\">Twitter for iPhone</a>\thttp://pbs.twimg.com/profile_background_images/717982142/07d49a19a8c1a62082fc6bda88d93187.jpeg\t\t0\t0\tWed Jan 07 18:33:27 +0000 2015\t1420655607\n",
            "238\ttwitter-search\tBeing in Paris, absolutely shocked at the #CharlieHebdo #terrorism attack. Condolences. #FreeSpeech #Secular #JeSuisCharlie\t\titsmaloy\t552895807914262528\t20865805\ten\t<a href=\"http://twitter.com\" rel=\"nofollow\">Twitter Web Client</a>\thttp://pbs.twimg.com/profile_background_images/32900806/1280x800.jpg\tPoint\t0\t0\tWed Jan 07 18:33:27 +0000 2015\t1420655607\n",
            "252\ttwitter-search\tMy wife wrote this: http://t.co/Y0HlA2qCCp #JeSuisCharlie\t\tLZHFox\t552895807079604224\t214412490\ten\t<a href=\"http://twitter.com\" rel=\"nofollow\">Twitter Web Client</a>\thttp://abs.twimg.com/images/themes/theme8/bg.gif\t\t0\t0\tWed Jan 07 18:33:27 +0000 2015\t1420655607\n",
            "293\ttwitter-search\tGerman public anti Islamic feelings are now strengthened by the attack in Paris #JeSuisCharlie\t\tChargedQuark\t552895804940091392\t2201550661\ten\t<a href=\"http://twitter.com\" rel=\"nofollow\">Twitter Web Client</a>\thttp://pbs.twimg.com/profile_background_images/378800000120034550/b2fe2367fe7cfd2c9361c2ed4fac75f2.jpeg\t\t0\t0\tWed Jan 07 18:33:26 +0000 2015\t1420655606\n",
            "319\ttwitter-search\tNetNewsLedger #JeSuisCharlie Hashtag Goes Viral Condemning Paris Terror Attack: PARIS - NEWS - People from aro... http://t.co/ACNdobn17V\t\tNouestOn\t552895802226384896\t317155770\ten\t<a href=\"http://twitterfeed.com\" rel=\"nofollow\">twitterfeed</a>\thttp://abs.twimg.com/images/themes/theme1/bg.png\t\t0\t0\tWed Jan 07 18:33:26 +0000 2015\t1420655606\n"
          ]
        }
      ],
      "source": [
        "#3. Non-empty lines to a new file\n",
        "\n",
        "#check what you've got\n",
        "\n",
        "! cat tweets_en_nort.csv | egrep -v \"^$\" | head"
      ]
    },
    {
      "cell_type": "code",
      "execution_count": null,
      "metadata": {
        "id": "-beI_iuXdt2e"
      },
      "outputs": [],
      "source": [
        "#directing to a new file\n",
        "\n",
        "! cat tweets_en_nort.csv | egrep -v \"^$\" > tweets_no_empties.txt"
      ]
    },
    {
      "cell_type": "code",
      "execution_count": null,
      "metadata": {
        "colab": {
          "base_uri": "https://localhost:8080/"
        },
        "id": "x7x9Wm9Sfprr",
        "outputId": "f5c6216a-f899-4eae-9935-99c05ef4239f"
      },
      "outputs": [
        {
          "name": "stdout",
          "output_type": "stream",
          "text": [
            "15\ttwitter-search\t@_Tsunamilkshake pas top #CharlieHebdo #JeSuisCharlie\t2537743877\ttheo_yagami\t552895821730316288\t1215660151\ten\t<a href=\"http://twitter.com/download/android\" rel=\"nofollow\">Twitter for Android</a>\thttp://pbs.twimg.com/profile_background_images/881023503/57d97605059e6a7d321b75c46ac2323a.jpeg\t\t0\t0\tWed Jan 07 18:33:30 +0000 2015\t1420655610\n",
            "17\ttwitter-search\tNA\t\thojaldraoficial\t552895821600264192\t763672748\ten\t<a href=\"http://twitter.com\" rel=\"nofollow\">Twitter Web Client</a>\thttp://abs.twimg.com/images/themes/theme1/bg.png\t\t0\t0\tWed Jan 07 18:33:30 +0000 2015\t1420655610\n",
            "103\ttwitter-search\tJe suis Charline, mais surtout #JeSuisCharlie- freedom of speach is a right! http://t.co/5KLOA114C9\t\tCharlineDeLucaC\t552895817003323392\t834937038\ten\t<a href=\"http://instagram.com\" rel=\"nofollow\">Instagram</a>\thttp://pbs.twimg.com/profile_background_images/690731646/217479ce77b3fa1a6f904db60cc48b9c.jpeg\t\t0\t0\tWed Jan 07 18:33:29 +0000 2015\t1420655609\n",
            "112\ttwitter-search\tThe depraved ways of Islamic extremism should never be allowed to force people into silence. #JeSuisCharlie http://t.co/IZqNiFKBeM\t\tMrThomasLambert\t552895816349016064\t144112123\ten\t<a href=\"http://twitter.com/#!/download/ipad\" rel=\"nofollow\">Twitter for iPad</a>\thttp://pbs.twimg.com/profile_background_images/378800000119614010/110989389ca0fffe0285a3f1a708ff7a.jpeg\t\t0\t0\tWed Jan 07 18:33:29 +0000 2015\t1420655609\n",
            "120\ttwitter-search\tIncredibly sad news out of France today. My thoughts go out to the family and friends of the staff at @Charlie_Hebdo_ #JeSuisCharlie\t\tmarksummers24\t552895815979892736\t753779834\ten\t<a href=\"http://twitter.com\" rel=\"nofollow\">Twitter Web Client</a>\thttp://abs.twimg.com/images/themes/theme1/bg.png\t\t0\t0\tWed Jan 07 18:33:29 +0000 2015\t1420655609\n",
            "223\ttwitter-search\tNo country is free if its press cannot practice openly and fearlessly. #JeSuisCharlie http://t.co/YCXeKDyJEp\t\tfancybuffalo\t552895808668856320\t87676970\ten\t<a href=\"http://twitter.com/download/iphone\" rel=\"nofollow\">Twitter for iPhone</a>\thttp://pbs.twimg.com/profile_background_images/717982142/07d49a19a8c1a62082fc6bda88d93187.jpeg\t\t0\t0\tWed Jan 07 18:33:27 +0000 2015\t1420655607\n",
            "238\ttwitter-search\tBeing in Paris, absolutely shocked at the #CharlieHebdo #terrorism attack. Condolences. #FreeSpeech #Secular #JeSuisCharlie\t\titsmaloy\t552895807914262528\t20865805\ten\t<a href=\"http://twitter.com\" rel=\"nofollow\">Twitter Web Client</a>\thttp://pbs.twimg.com/profile_background_images/32900806/1280x800.jpg\tPoint\t0\t0\tWed Jan 07 18:33:27 +0000 2015\t1420655607\n",
            "252\ttwitter-search\tMy wife wrote this: http://t.co/Y0HlA2qCCp #JeSuisCharlie\t\tLZHFox\t552895807079604224\t214412490\ten\t<a href=\"http://twitter.com\" rel=\"nofollow\">Twitter Web Client</a>\thttp://abs.twimg.com/images/themes/theme8/bg.gif\t\t0\t0\tWed Jan 07 18:33:27 +0000 2015\t1420655607\n",
            "293\ttwitter-search\tGerman public anti Islamic feelings are now strengthened by the attack in Paris #JeSuisCharlie\t\tChargedQuark\t552895804940091392\t2201550661\ten\t<a href=\"http://twitter.com\" rel=\"nofollow\">Twitter Web Client</a>\thttp://pbs.twimg.com/profile_background_images/378800000120034550/b2fe2367fe7cfd2c9361c2ed4fac75f2.jpeg\t\t0\t0\tWed Jan 07 18:33:26 +0000 2015\t1420655606\n",
            "319\ttwitter-search\tNetNewsLedger #JeSuisCharlie Hashtag Goes Viral Condemning Paris Terror Attack: PARIS - NEWS - People from aro... http://t.co/ACNdobn17V\t\tNouestOn\t552895802226384896\t317155770\ten\t<a href=\"http://twitterfeed.com\" rel=\"nofollow\">twitterfeed</a>\thttp://abs.twimg.com/images/themes/theme1/bg.png\t\t0\t0\tWed Jan 07 18:33:26 +0000 2015\t1420655606\n"
          ]
        }
      ],
      "source": [
        "! cat tweets_no_empties.txt | head"
      ]
    },
    {
      "cell_type": "code",
      "execution_count": null,
      "metadata": {
        "colab": {
          "base_uri": "https://localhost:8080/"
        },
        "id": "jObL4D9JE7Eo",
        "outputId": "25c6b130-2279-4178-ecd1-e8e45ae863ec"
      },
      "outputs": [
        {
          "name": "stdout",
          "output_type": "stream",
          "text": [
            "230721\n"
          ]
        }
      ],
      "source": [
        "#check that line counts match (in comparison with task 2.)\n",
        "\n",
        "! cat tweets_no_empties.txt | wc -l"
      ]
    },
    {
      "cell_type": "code",
      "execution_count": null,
      "metadata": {
        "colab": {
          "base_uri": "https://localhost:8080/"
        },
        "id": "zegPPiYPFKJS",
        "outputId": "df783897-a571-41e2-9abc-cf52f277f8ba"
      },
      "outputs": [
        {
          "name": "stdout",
          "output_type": "stream",
          "text": [
            "7712343\n"
          ]
        }
      ],
      "source": [
        "#4. Word count of the non-empties file\n",
        "\n",
        "! cat tweets_no_empties.txt | wc -w"
      ]
    },
    {
      "cell_type": "code",
      "execution_count": null,
      "metadata": {
        "colab": {
          "base_uri": "https://localhost:8080/"
        },
        "id": "Xy6VFXO9PVgM",
        "outputId": "d5022beb-a38c-46d1-cf2a-cd5e02caac80"
      },
      "outputs": [
        {
          "name": "stdout",
          "output_type": "stream",
          "text": [
            "1281052\ttwitter-search\t#JeSuisCharlie #FreeRaif #JusticeForYves... this is what we are: a bunch of useless hashtags.\t\ttalktoceline\t641608078631112704\t246378257\ten\t<a href=\"http://twitter.com\" rel=\"nofollow\">Twitter Web Client</a>\thttp://pbs.twimg.com/profile_background_images/216476981/02249_T_J.JPG\t\t0\t0\tWed Sep 09 13:44:21 +0000 2015\t1441806261\n"
          ]
        }
      ],
      "source": [
        "#5. Check the last Tweet\n",
        "\n",
        "! cat tweets_no_empties.txt | tail -1"
      ]
    },
    {
      "cell_type": "markdown",
      "metadata": {
        "id": "V8PbWFpAGOLe"
      },
      "source": [
        "### Further cleaning\n",
        "Remember that the file still had a lot of other information than just the tweets.\n",
        "\n",
        "6. Create a version of the data file where you have only the tweet texts. Read some of the lines to understand which column had the actual tweets."
      ]
    },
    {
      "cell_type": "code",
      "execution_count": null,
      "metadata": {
        "colab": {
          "base_uri": "https://localhost:8080/"
        },
        "id": "u2FKgosTGdlu",
        "outputId": "5c09b43b-aeef-4124-df5b-f9097f493f96"
      },
      "outputs": [
        {
          "name": "stdout",
          "output_type": "stream",
          "text": [
            "@_Tsunamilkshake pas top #CharlieHebdo #JeSuisCharlie\n",
            "NA\n",
            "Je suis Charline, mais surtout #JeSuisCharlie- freedom of speach is a right! http://t.co/5KLOA114C9\n",
            "The depraved ways of Islamic extremism should never be allowed to force people into silence. #JeSuisCharlie http://t.co/IZqNiFKBeM\n",
            "Incredibly sad news out of France today. My thoughts go out to the family and friends of the staff at @Charlie_Hebdo_ #JeSuisCharlie\n",
            "No country is free if its press cannot practice openly and fearlessly. #JeSuisCharlie http://t.co/YCXeKDyJEp\n",
            "Being in Paris, absolutely shocked at the #CharlieHebdo #terrorism attack. Condolences. #FreeSpeech #Secular #JeSuisCharlie\n",
            "My wife wrote this: http://t.co/Y0HlA2qCCp #JeSuisCharlie\n",
            "German public anti Islamic feelings are now strengthened by the attack in Paris #JeSuisCharlie\n",
            "NetNewsLedger #JeSuisCharlie Hashtag Goes Viral Condemning Paris Terror Attack: PARIS - NEWS - People from aro... http://t.co/ACNdobn17V\n"
          ]
        }
      ],
      "source": [
        "# cut -f prints only specific columns\n",
        "\n",
        "#It's always useful and important to check what the command does and that it does what you intend it to do.\n",
        "\n",
        "! cat tweets_no_empties.txt | cut -f 3 | head # Head at the end of the pipe is useful to reading"
      ]
    },
    {
      "cell_type": "code",
      "execution_count": null,
      "metadata": {
        "id": "ys-ShwCPG80h"
      },
      "outputs": [],
      "source": [
        "#6. Direct the Tweets to a new file\n",
        "\n",
        "! cat tweets_no_empties.txt | cut -f 3 > just_tweets.txt"
      ]
    },
    {
      "cell_type": "code",
      "execution_count": null,
      "metadata": {
        "colab": {
          "base_uri": "https://localhost:8080/"
        },
        "id": "m5gN1YpGG_bq",
        "outputId": "af6ce842-7cdf-46af-a8af-bf74ae81b55a"
      },
      "outputs": [
        {
          "name": "stdout",
          "output_type": "stream",
          "text": [
            "@_Tsunamilkshake pas top #CharlieHebdo #JeSuisCharlie\n",
            "NA\n",
            "Je suis Charline, mais surtout #JeSuisCharlie- freedom of speach is a right! http://t.co/5KLOA114C9\n",
            "The depraved ways of Islamic extremism should never be allowed to force people into silence. #JeSuisCharlie http://t.co/IZqNiFKBeM\n",
            "Incredibly sad news out of France today. My thoughts go out to the family and friends of the staff at @Charlie_Hebdo_ #JeSuisCharlie\n",
            "No country is free if its press cannot practice openly and fearlessly. #JeSuisCharlie http://t.co/YCXeKDyJEp\n",
            "Being in Paris, absolutely shocked at the #CharlieHebdo #terrorism attack. Condolences. #FreeSpeech #Secular #JeSuisCharlie\n",
            "My wife wrote this: http://t.co/Y0HlA2qCCp #JeSuisCharlie\n",
            "German public anti Islamic feelings are now strengthened by the attack in Paris #JeSuisCharlie\n",
            "NetNewsLedger #JeSuisCharlie Hashtag Goes Viral Condemning Paris Terror Attack: PARIS - NEWS - People from aro... http://t.co/ACNdobn17V\n"
          ]
        }
      ],
      "source": [
        "#Check that the file looks as it should\n",
        "\n",
        "! head just_tweets.txt"
      ]
    },
    {
      "cell_type": "markdown",
      "metadata": {
        "id": "21ffCS_FDMkW"
      },
      "source": [
        "### Matching specific patterns\n",
        "There is a lot of Charlie-related tweets.\n",
        "\n",
        "7. Do all the tweets have the hashtag #JeSuisCharlie?\n",
        "8. How could you look at tweets that do not have this hashtag?\n",
        "9. How could you search any CaPS-variant of the hashtag using one single egrep-command?\n",
        "10. How are the lines that don't have any variant of the hashtag? How many are there?\n"
      ]
    },
    {
      "cell_type": "code",
      "execution_count": null,
      "metadata": {
        "colab": {
          "base_uri": "https://localhost:8080/"
        },
        "id": "78UUDBZVKtSk",
        "outputId": "c4ead85f-1776-4563-95fd-c7537a4c79c5"
      },
      "outputs": [
        {
          "output_type": "stream",
          "name": "stdout",
          "text": [
            "230721\n"
          ]
        }
      ],
      "source": [
        "#7. Do all the tweets have the hashtag #JeSuisCharlie?\n",
        "\n",
        "# Let's check this by comparing line counts\n",
        "# How many lines did we have in total?\n",
        "\n",
        "! cat just_tweets.txt | wc -l"
      ]
    },
    {
      "cell_type": "code",
      "execution_count": null,
      "metadata": {
        "colab": {
          "base_uri": "https://localhost:8080/"
        },
        "id": "mS3ZSl4rE97Y",
        "outputId": "e8ee239f-3d74-44b2-e1b9-9d9856b8de06"
      },
      "outputs": [
        {
          "output_type": "stream",
          "name": "stdout",
          "text": [
            "193108\n"
          ]
        }
      ],
      "source": [
        "#How many lines has the hashtag #JeSuisCharlie?\n",
        "\n",
        "#grep the hashtag\n",
        "#line count\n",
        "\n",
        "! cat just_tweets.txt | egrep \"#JeSuisCharlie\"  | wc -l # so not all of them have this hashtag"
      ]
    },
    {
      "cell_type": "code",
      "execution_count": null,
      "metadata": {
        "colab": {
          "base_uri": "https://localhost:8080/"
        },
        "id": "SBfGWkGgK6ve",
        "outputId": "6ce8f3a0-b8f6-437d-f678-05c8d82a7dd6"
      },
      "outputs": [
        {
          "output_type": "stream",
          "name": "stdout",
          "text": [
            "NA\n",
            "A Classic 2000 Profile By Emily Eakin Of Michel Houellebecq http://t.co/xgLDQELgi0 #jesuischarlie MH's only interview http://t.co/E15qxcSRJF\n",
            "@JesseBrown @JoanneBLY @CNDLND Canadian media not showing cartoons, as well calling attackers \"Gunmen\" not \"Terrorists\" #jesuisCharlie\n",
            "They said they'd avenged the prophet like he'll be that glad about it when he meets them. Not convinced he will. #jesuischarlie\n",
            "#jesuischarlie @ earth http://t.co/1zGjgsZhAf\n",
            "NA\n",
            "NA\n",
            "#Allah Akbar my arse! #Mohammad . #IslamicState #paris #imcharlie #islam #jesuischarlie\n",
            "Irony is Dead. Literally. #jesuischarlie\n",
            "NA\n"
          ]
        }
      ],
      "source": [
        "#8. How could you look at tweets that do not have this hashtag? (i.e. check lines without the verbatim hashtag)\n",
        "\n",
        "#grep reverse, i.e. lines without a match:\n",
        "  #egrep -v\n",
        "\n",
        "! cat just_tweets.txt | egrep -v \"#JeSuisCharlie\" | head # print lines that do not match"
      ]
    },
    {
      "cell_type": "code",
      "execution_count": null,
      "metadata": {
        "colab": {
          "base_uri": "https://localhost:8080/"
        },
        "id": "LdpFEI82Y0RB",
        "outputId": "5fbe0563-d89b-4732-a2fe-40f2d5e9d410"
      },
      "outputs": [
        {
          "output_type": "stream",
          "name": "stdout",
          "text": [
            "@_Tsunamilkshake pas top #CharlieHebdo #JeSuisCharlie\n",
            "Je suis Charline, mais surtout #JeSuisCharlie- freedom of speach is a right! http://t.co/5KLOA114C9\n",
            "The depraved ways of Islamic extremism should never be allowed to force people into silence. #JeSuisCharlie http://t.co/IZqNiFKBeM\n",
            "Incredibly sad news out of France today. My thoughts go out to the family and friends of the staff at @Charlie_Hebdo_ #JeSuisCharlie\n",
            "No country is free if its press cannot practice openly and fearlessly. #JeSuisCharlie http://t.co/YCXeKDyJEp\n",
            "Being in Paris, absolutely shocked at the #CharlieHebdo #terrorism attack. Condolences. #FreeSpeech #Secular #JeSuisCharlie\n",
            "My wife wrote this: http://t.co/Y0HlA2qCCp #JeSuisCharlie\n",
            "German public anti Islamic feelings are now strengthened by the attack in Paris #JeSuisCharlie\n",
            "NetNewsLedger #JeSuisCharlie Hashtag Goes Viral Condemning Paris Terror Attack: PARIS - NEWS - People from aro... http://t.co/ACNdobn17V\n",
            "Solidarity with Paris #JeSuisCharlie\n",
            "A Classic 2000 Profile By Emily Eakin Of Michel Houellebecq http://t.co/xgLDQELgi0 #jesuischarlie MH's only interview http://t.co/E15qxcSRJF\n",
            "@JesseBrown @JoanneBLY @CNDLND Canadian media not showing cartoons, as well calling attackers \"Gunmen\" not \"Terrorists\" #jesuisCharlie\n",
            "Ink must flow, not blood... #JeSuisCharlie\n",
            "I just can't comprehend what it would take for someone to feel compelled to murder a dozen people for drawing cartoons. #JeSuisCharlie\n",
            "#JeSuisCharlie The Case for Mocking Religion http://t.co/JPH8uwBp7h via @slate\n",
            "Thousands of people for Charlie HebdoBBC HQ shooting in Paris. #JeSuisCharlie #London #TrafalgarSquare http://t.co/NlJTorTxG9\n",
            "There are no words. Thank you for giving your lives in the name of Free Speech. You were far greater than their false belief #JeSuisCharlie\n",
            "They said they'd avenged the prophet like he'll be that glad about it when he meets them. Not convinced he will. #jesuischarlie\n",
            "Today is such a horrible day, not just insane aggression but attacking our very core. #JeSuisCharlie\n",
            "#JeSuisCharlie. Everyone of us is. http://t.co/KjValpU8VU\n"
          ]
        }
      ],
      "source": [
        "#9. How could you search any CaPS-variant of the hashtag using one single egrep-command?\n",
        "\n",
        "#print lines that match any variants of #JeSuisCharlie:\n",
        "  #egrep -i (-i means ignore case)\n",
        "\n",
        "! cat just_tweets.txt | egrep -i \"#JeSuisCharlie\" | head -20  # print lines that match in any case"
      ]
    },
    {
      "cell_type": "code",
      "execution_count": null,
      "metadata": {
        "colab": {
          "base_uri": "https://localhost:8080/"
        },
        "id": "uWbtd_owKbdq",
        "outputId": "b80194d2-8466-42c2-c2a0-5bbfb5d3ed17"
      },
      "outputs": [
        {
          "output_type": "stream",
          "name": "stdout",
          "text": [
            "NA\n",
            "NA\n",
            "NA\n",
            "NA\n",
            "NA\n",
            "NA\n",
            "NA\n",
            "NA\n",
            "NA\n",
            "NA\n"
          ]
        }
      ],
      "source": [
        "#10. How are the lines that don't have any variant of the hashtag? How many are there?\n",
        "\n",
        "#print lines that do not match any variants of #JeSuisCharlie:\n",
        "  #egrep -iv\n",
        "\n",
        "! cat just_tweets.txt | egrep -iv \"#JeSuisCharlie\" | head  # print lines that do not match in any case"
      ]
    },
    {
      "cell_type": "code",
      "execution_count": null,
      "metadata": {
        "colab": {
          "base_uri": "https://localhost:8080/"
        },
        "id": "EosM-qslM6LY",
        "outputId": "10395c69-9eec-4d4d-8217-f70152cb7514"
      },
      "outputs": [
        {
          "output_type": "stream",
          "name": "stdout",
          "text": [
            "0\n"
          ]
        }
      ],
      "source": [
        "# egrep -iv \"#JeSuisCharlie\" leaves lines with NA\n",
        "#if we also skip the lines with NA we get nothing -> all the tweets without any form of the hashtag are empty\n",
        "\n",
        "#grep and print lines that don't match \"#JeSuisCharlie\" in any form:\n",
        "  #egrep -iv \"#JeSuisCharlie\"\n",
        "#grep and print lines that don't match NA:\n",
        "  #egrep -v NA\n",
        "\n",
        "! cat just_tweets.txt | egrep -iv \"#JeSuisCharlie\" | egrep -v NA | wc -l"
      ]
    },
    {
      "cell_type": "code",
      "execution_count": null,
      "metadata": {
        "colab": {
          "base_uri": "https://localhost:8080/"
        },
        "id": "AgYXcTalORT7",
        "outputId": "a1b8d277-4b0f-48f3-edbe-61533ad8a70a"
      },
      "outputs": [
        {
          "output_type": "stream",
          "name": "stdout",
          "text": [
            "  17347 NA\n"
          ]
        }
      ],
      "source": [
        "# we can double-check this\n",
        "\n",
        "#grep and print lines that don't match \"#JeSuisCharlie\" in any form:\n",
        "  #egrep -iv \"#JeSuisCharlie\"\n",
        "#count the lines:\n",
        "  #wc -l\n",
        "\n",
        "#!  cat just_tweets.txt | egrep -iv \"#JeSuisCharlie\" | wc -l # this many are empty (the lines feature NA to indicate empty contents)\n",
        "#!  cat just_tweets.txt | egrep -iv \"#JeSuisCharlie\" | egrep \"NA\" | wc -l #all the remaining lines feature NA\n",
        "#!  cat just_tweets.txt | egrep \"^$\" | wc -l #the NA lines are not actually empty, but include no tweet text\n",
        "\n",
        "!  cat just_tweets.txt | egrep -iv \"#JeSuisCharlie\" | egrep \"NA\" | sort | uniq -c | sort -nr  #a frequency list confirms this\n"
      ]
    },
    {
      "cell_type": "markdown",
      "metadata": {
        "id": "qmXz0aEbP6M6"
      },
      "source": [
        "### User names and their frequencies\n",
        "\n",
        "Column 5 of the original tweet file (tweets_no_empties.txt) has user names.\n",
        "\n",
        "11. Take them to a separate file\n",
        "12. What are the 5 most frequent usernames in the dataset?\n",
        "13. How many different usernames does the data have?"
      ]
    },
    {
      "cell_type": "code",
      "execution_count": null,
      "metadata": {
        "colab": {
          "base_uri": "https://localhost:8080/"
        },
        "collapsed": true,
        "id": "QL3y43aoQY_9",
        "outputId": "e937703e-8dbc-4e8c-fcb7-f0e33949dafd"
      },
      "outputs": [
        {
          "output_type": "stream",
          "name": "stdout",
          "text": [
            "15\ttwitter-search\t@_Tsunamilkshake pas top #CharlieHebdo #JeSuisCharlie\t2537743877\ttheo_yagami\t552895821730316288\t1215660151\ten\t<a href=\"http://twitter.com/download/android\" rel=\"nofollow\">Twitter for Android</a>\thttp://pbs.twimg.com/profile_background_images/881023503/57d97605059e6a7d321b75c46ac2323a.jpeg\t\t0\t0\tWed Jan 07 18:33:30 +0000 2015\t1420655610\n",
            "17\ttwitter-search\tNA\t\thojaldraoficial\t552895821600264192\t763672748\ten\t<a href=\"http://twitter.com\" rel=\"nofollow\">Twitter Web Client</a>\thttp://abs.twimg.com/images/themes/theme1/bg.png\t\t0\t0\tWed Jan 07 18:33:30 +0000 2015\t1420655610\n",
            "103\ttwitter-search\tJe suis Charline, mais surtout #JeSuisCharlie- freedom of speach is a right! http://t.co/5KLOA114C9\t\tCharlineDeLucaC\t552895817003323392\t834937038\ten\t<a href=\"http://instagram.com\" rel=\"nofollow\">Instagram</a>\thttp://pbs.twimg.com/profile_background_images/690731646/217479ce77b3fa1a6f904db60cc48b9c.jpeg\t\t0\t0\tWed Jan 07 18:33:29 +0000 2015\t1420655609\n",
            "112\ttwitter-search\tThe depraved ways of Islamic extremism should never be allowed to force people into silence. #JeSuisCharlie http://t.co/IZqNiFKBeM\t\tMrThomasLambert\t552895816349016064\t144112123\ten\t<a href=\"http://twitter.com/#!/download/ipad\" rel=\"nofollow\">Twitter for iPad</a>\thttp://pbs.twimg.com/profile_background_images/378800000119614010/110989389ca0fffe0285a3f1a708ff7a.jpeg\t\t0\t0\tWed Jan 07 18:33:29 +0000 2015\t1420655609\n",
            "120\ttwitter-search\tIncredibly sad news out of France today. My thoughts go out to the family and friends of the staff at @Charlie_Hebdo_ #JeSuisCharlie\t\tmarksummers24\t552895815979892736\t753779834\ten\t<a href=\"http://twitter.com\" rel=\"nofollow\">Twitter Web Client</a>\thttp://abs.twimg.com/images/themes/theme1/bg.png\t\t0\t0\tWed Jan 07 18:33:29 +0000 2015\t1420655609\n",
            "223\ttwitter-search\tNo country is free if its press cannot practice openly and fearlessly. #JeSuisCharlie http://t.co/YCXeKDyJEp\t\tfancybuffalo\t552895808668856320\t87676970\ten\t<a href=\"http://twitter.com/download/iphone\" rel=\"nofollow\">Twitter for iPhone</a>\thttp://pbs.twimg.com/profile_background_images/717982142/07d49a19a8c1a62082fc6bda88d93187.jpeg\t\t0\t0\tWed Jan 07 18:33:27 +0000 2015\t1420655607\n",
            "238\ttwitter-search\tBeing in Paris, absolutely shocked at the #CharlieHebdo #terrorism attack. Condolences. #FreeSpeech #Secular #JeSuisCharlie\t\titsmaloy\t552895807914262528\t20865805\ten\t<a href=\"http://twitter.com\" rel=\"nofollow\">Twitter Web Client</a>\thttp://pbs.twimg.com/profile_background_images/32900806/1280x800.jpg\tPoint\t0\t0\tWed Jan 07 18:33:27 +0000 2015\t1420655607\n",
            "252\ttwitter-search\tMy wife wrote this: http://t.co/Y0HlA2qCCp #JeSuisCharlie\t\tLZHFox\t552895807079604224\t214412490\ten\t<a href=\"http://twitter.com\" rel=\"nofollow\">Twitter Web Client</a>\thttp://abs.twimg.com/images/themes/theme8/bg.gif\t\t0\t0\tWed Jan 07 18:33:27 +0000 2015\t1420655607\n",
            "293\ttwitter-search\tGerman public anti Islamic feelings are now strengthened by the attack in Paris #JeSuisCharlie\t\tChargedQuark\t552895804940091392\t2201550661\ten\t<a href=\"http://twitter.com\" rel=\"nofollow\">Twitter Web Client</a>\thttp://pbs.twimg.com/profile_background_images/378800000120034550/b2fe2367fe7cfd2c9361c2ed4fac75f2.jpeg\t\t0\t0\tWed Jan 07 18:33:26 +0000 2015\t1420655606\n",
            "319\ttwitter-search\tNetNewsLedger #JeSuisCharlie Hashtag Goes Viral Condemning Paris Terror Attack: PARIS - NEWS - People from aro... http://t.co/ACNdobn17V\t\tNouestOn\t552895802226384896\t317155770\ten\t<a href=\"http://twitterfeed.com\" rel=\"nofollow\">twitterfeed</a>\thttp://abs.twimg.com/images/themes/theme1/bg.png\t\t0\t0\tWed Jan 07 18:33:26 +0000 2015\t1420655606\n"
          ]
        }
      ],
      "source": [
        "#11. Direct the usernames from column 5 to a new file\n",
        "\n",
        "! cat tweets_no_empties.txt | head"
      ]
    },
    {
      "cell_type": "code",
      "execution_count": null,
      "metadata": {
        "colab": {
          "base_uri": "https://localhost:8080/"
        },
        "id": "1Z0RushmToKL",
        "outputId": "27fd47e5-6489-400a-e194-6130d2d52c35"
      },
      "outputs": [
        {
          "output_type": "stream",
          "name": "stdout",
          "text": [
            "theo_yagami\n",
            "hojaldraoficial\n",
            "CharlineDeLucaC\n",
            "MrThomasLambert\n",
            "marksummers24\n",
            "fancybuffalo\n",
            "itsmaloy\n",
            "LZHFox\n",
            "ChargedQuark\n",
            "NouestOn\n"
          ]
        }
      ],
      "source": [
        "! cat tweets_no_empties.txt | cut -f 5 | head"
      ]
    },
    {
      "cell_type": "code",
      "execution_count": null,
      "metadata": {
        "id": "3mPR_jedTZnw"
      },
      "outputs": [],
      "source": [
        "! cat tweets_no_empties.txt | cut -f 5 > usernames.txt"
      ]
    },
    {
      "cell_type": "code",
      "execution_count": null,
      "metadata": {
        "colab": {
          "base_uri": "https://localhost:8080/"
        },
        "id": "ezAT1at7bWVF",
        "outputId": "a1278199-618d-4a3c-cbe0-9133d5847a22"
      },
      "outputs": [
        {
          "output_type": "stream",
          "name": "stdout",
          "text": [
            "theo_yagami\n",
            "hojaldraoficial\n",
            "CharlineDeLucaC\n",
            "MrThomasLambert\n",
            "marksummers24\n",
            "fancybuffalo\n",
            "itsmaloy\n",
            "LZHFox\n",
            "ChargedQuark\n",
            "NouestOn\n"
          ]
        }
      ],
      "source": [
        "#Check that the file contains what it is supposed to contain\n",
        "\n",
        "! cat usernames.txt | head"
      ]
    },
    {
      "cell_type": "code",
      "execution_count": null,
      "metadata": {
        "colab": {
          "base_uri": "https://localhost:8080/"
        },
        "id": "ZmRnyrumQ6G4",
        "outputId": "2acaf019-91b9-4a92-db32-7bd31ed4ffcc"
      },
      "outputs": [
        {
          "output_type": "stream",
          "name": "stdout",
          "text": [
            "   3532 jesuischarlie_\n",
            "   3479 Promo_Culturel\n",
            "   2682 BotCharlie\n",
            "   1926 russfeed\n",
            "   1571 carterscarter1\n"
          ]
        }
      ],
      "source": [
        "#12. What are the 5 most frequent usernames in the dataset?\n",
        "\n",
        "#frequency list:\n",
        "  #sort | uniq -ci | sort -rn\n",
        "#ignore case:\n",
        "  #uniq -ci\n",
        "\n",
        "! cat usernames.txt | sort | uniq -ci | sort -rn | head -5 # printing the beginning of the frequency list"
      ]
    },
    {
      "cell_type": "code",
      "execution_count": null,
      "metadata": {
        "colab": {
          "base_uri": "https://localhost:8080/"
        },
        "id": "xXDXVSr6RnLx",
        "outputId": "1f734429-c3c5-4a70-f7c0-f9c9872b0979"
      },
      "outputs": [
        {
          "output_type": "stream",
          "name": "stdout",
          "text": [
            "71196\n"
          ]
        }
      ],
      "source": [
        "#13. How many *different* usernames does the data have?\n",
        "\n",
        "#frequency list\n",
        "#line count\n",
        "\n",
        "\n",
        "! cat usernames.txt | sort | uniq -ci | sort -rn | wc -l # just counting how many lines there are in the frequency list gives you the number\n"
      ]
    },
    {
      "cell_type": "code",
      "execution_count": null,
      "metadata": {
        "colab": {
          "base_uri": "https://localhost:8080/"
        },
        "id": "PuYHH4rGRvz-",
        "outputId": "17c1d4d6-ea56-44d2-ee94-7fbed2bceedc"
      },
      "outputs": [
        {
          "output_type": "stream",
          "name": "stdout",
          "text": [
            "71196\n"
          ]
        }
      ],
      "source": [
        "#actually, it's enough to count the number of unique lines (case ignored) without count or resorting\n",
        "\n",
        "! cat usernames.txt | sort | uniq -i | wc -l"
      ]
    },
    {
      "cell_type": "markdown",
      "metadata": {
        "id": "yt7LxhJmOlqj"
      },
      "source": [
        "### Duplicate tweets\n",
        "\n",
        "14. Does the tweet text data include duplicates, i.e., same tweets that have multiple occurrences in the dataset?\n",
        "15. It is a bit suspicious that the dataset includes the same tweets several times. Can you think of a way to exclude those? Uniq man pages or instructions may help here.\n",
        "16. Direct the tweets that occur only once to a file of its own.\n",
        "17. How many tweets do you end up having here?"
      ]
    },
    {
      "cell_type": "code",
      "execution_count": null,
      "metadata": {
        "colab": {
          "base_uri": "https://localhost:8080/"
        },
        "id": "iAeNCo7sOULu",
        "outputId": "eb64a2cf-660c-4738-dc08-394d386545f5"
      },
      "outputs": [
        {
          "output_type": "stream",
          "name": "stdout",
          "text": [
            "  17347 NA\n",
            "    314 Zoolou M. Couillard Fill... it Up and Keep the Change Un bon cultivateur arrache les mauvais #polqc #JeSuisCharlie http://t.co/zBP6TwwqDp\n",
            "    314 Serpent Couillard Fill... it Up and Keep the Change Un bon cultivateur arrache les mauvaises hr #polqc #JeSuisCharlie http://t.co/zBP6TwwqDp\n",
            "    222 Islamophobia? Fear of Islam NOT irrational. Plenty evidence to support rational fear. #JeSuisJuif #JeSuisCharlie http://t.co/B1n0HBodgV\n",
            "    207 #Racism in #France #jesuischarlie | don't forget &amp; don''t ignore racism against&gt;#Roma #Sinti |http://t.co/mUdugQxref &amp;http://t.co/5yoVEzat9Z\n",
            "    186 #JeSuisCharlie South Korea is not a democratic country. http://t.co/H7H9QtJPr9 #BentonCity #Bingen\n",
            "    180 #JeSuisCharlie #SouthKorea is not a democratic country. http://t.co/u1eapam9uq #Brier #Buckley #Burien\n",
            "    149 #JeSuisCharlie #SouthKorea is not a democratic country. http://t.co/u1eapam9uq #Brewster #Bridgeport\n",
            "    147 #JeSuisCharlie South Korea is not a democratic country. http://t.co/H7H9QtJPr9 #BlackDiamond\n",
            "    141 #JeSuisCharlie #SouthKorea is not a democratic country. http://t.co/u1eapam9uq #Bothell #Bremerton\n",
            "    140 #JeSuisCharlie South Korea is not a democratic country. http://t.co/H7H9QtJPr9 #Blaine #BonneyLake\n",
            "    123 We added the hashlink http://t.co/TDWT7XofP6 to http://t.co/C2U7prv1dE. You can use it instead of #JeSuisCharlie, #CharlieHebdo In tweets!\n",
            "    121 \"@paulocoelho: I wonder where are the millions who tweeted #JeSuisCharlie . Why don't they tweet #IamMuath ?\"\n",
            "    115 Islam is 'Peaceful &amp; Moderate' if you can defend yourself. Islam is 'Violent &amp; Radical' if you are helpless. #JeSuisCharlie #PJNET\n",
            "     96 @JohnKerry - #JeSuisCharlie? But of Course!!! http://t.co/EdUkQLzLjw #TCOT #CCOT #PJNET\n",
            "     91 #Japan #Fukushima if #CharlieHebdo #JeSuisCharlie #France so called #Terrorism,made U shit your pants, think about #global radiation terror\n",
            "     89 The Peaceful Power of a Hashtag: #JeSuisCharlie http://t.co/Fcmt4N0hXe\n",
            "     83 while we have 24/7 talks about #CharlieHebdo #JeSuisCharlie #France&amp; #Terrorism,nobody talks about the real global terror #Japan #Fukushima|\n",
            "     82 #France #Roma R nation's only minority which can be openly discriminated against #jesuischarlie #CharlieHebdo http://t.co/aakNyaTtpf\n",
            "     79 world is concentrated on #CharlieHebdo #JeSuisCharlie #France religion #Vatican&amp;the likes,we R slowly killed by #Japan #Fukushima radiation\n"
          ]
        }
      ],
      "source": [
        "#14. Does the tweet text data include duplicates, i.e., same tweets that have multiple occurrences in the dataset?\n",
        "\n",
        "#frequency list counts the frequencies of duplicate lines, i.e. shows if the same tweets are repeated\n",
        "\n",
        "!  cat just_tweets.txt | sort | uniq -ci | sort -rn | head -20"
      ]
    },
    {
      "cell_type": "code",
      "execution_count": null,
      "metadata": {
        "colab": {
          "base_uri": "https://localhost:8080/"
        },
        "id": "B4st-AkKZN2I",
        "outputId": "433afa77-6b10-403c-ff65-116f86346403"
      },
      "outputs": [
        {
          "output_type": "stream",
          "name": "stdout",
          "text": [
            "204515\n"
          ]
        }
      ],
      "source": [
        "#let's check how many *different* tweets we have\n",
        "\n",
        "!  cat just_tweets.txt | sort | uniq -ci | sort -rn | wc -l"
      ]
    },
    {
      "cell_type": "code",
      "execution_count": null,
      "metadata": {
        "colab": {
          "base_uri": "https://localhost:8080/"
        },
        "id": "HziZwjOZOyz8",
        "outputId": "3fe9bf25-c3f8-4a87-cb10-88125eb90abc"
      },
      "outputs": [
        {
          "output_type": "stream",
          "name": "stdout",
          "text": [
            "$100 to tfirst @ColumbiaLaw student in #AmalClooney's lecture who posts a video/audio of one lecture. #JeSuisCharlie indeed. #GeorgeClooney\n",
            "$10k Muhammad Art &amp; Cartoon Contest 2B Held @ Site of 'Stand W/ the Prophet'... http://t.co/DafEa4HnVd #JeSuisCharlie #freespeech #tcot\n",
            "$10m gift to help house the neediest http://t.co/t8mKnBkETh #JeSuisCharlie\n",
            "$1K #REWARD http://t.co/i6KZlINOta http://t.co/8OJgTXywuM If people cant stand #JeSuisCharlie terrorism, how can we stand THIS terroris.\n",
            "$1K #REWARD http://t.co/ZW8gvbP2gC http://t.co/Sgh6TuSRa0 If people cant stand #JeSuisCharlie terrorism, how can we stand THIS terrorism?\n",
            "$600 USD for #CharlieHebdo magazine and 8 sold already on EBAY http://t.co/JJC1QSJv3U #JeSuisCharlie #Ebay\n",
            "$EBAY:US #JeSuisCharlie creator seeks copyright to protect slogan #EBAY INC http://t.co/2laU0xN6Qz #SP500\n",
            "$EBAY:US #JeSuisCharlie creator seeks copyright to protect slogan #EBAY INC http://t.co/6g1Yf0vamg #SP500\n",
            "$EBAY:US #JeSuisCharlie creator seeks copyright to protect slogan #EBAY INC http://t.co/cOML88g3gb #NASDAQ\n",
            "$EBAY:US #JeSuisCharlie creator seeks copyright to protect slogan #EBAY INC http://t.co/tOjUG0SZBa #NASDAQ\n"
          ]
        }
      ],
      "source": [
        "#15. Exclude duplicate lines\n",
        "\n",
        "#organize the lines alphabetically (duplicate lines are grouped together and organized successively):\n",
        "  #sort\n",
        "#filter successive duplicate lines, print unique lines only:\n",
        "  #uniq -u\n",
        "\n",
        "! cat just_tweets.txt | sort | uniq -iu | head"
      ]
    },
    {
      "cell_type": "code",
      "execution_count": null,
      "metadata": {
        "colab": {
          "base_uri": "https://localhost:8080/"
        },
        "id": "fPmKFWLJYimu",
        "outputId": "6226d9e9-d29e-4506-ceee-961d0fc0d235"
      },
      "outputs": [
        {
          "output_type": "stream",
          "name": "stdout",
          "text": [
            "      1 @zzyzx91 yes. But my issue is #jesuischarlie, why? Why am I a person who made fun of religion?\n",
            "      1 Zyfar: fhollande France lair Zionists! Islamic trace in the attack on #CharlieHebdo magazine was staged. - Je Suis Charlie #JeSuisCharlie...\n",
            "      1 @zydahm But that being said, #JeSuisCharlie does alienate those who don't agree with the values of the magazine but are against the attacks\n",
            "      1 Z WORLD, WHITE NIGHTS, Radicalization in a Paris prison http://t.co/qyOp9wZX5U #JeSuisCharlie http://t.co/2Onl10tDCE .\n",
            "      1 Z World: (Stories) http://t.co/ghjQzwzH3V . . WHITE NIGHTS, Radicalization in a Paris prison #JeSuisCharlie http://t.co/REnLiULjiW\n",
            "      1 @ZweinaM oops sorry sister!!!! That's so cool it reminds me of #JeSuisCharlie\n",
            "      1 Zut alors! The latest version of Notepad++ v6.7.4, the \"#JeSuisCharlie\" edition. Um... tu est virus! http://t.co/Z7EcdeCk3G #ffs...\n",
            "      1 Zut alors! #Dieudonne in trouble yet again. #MediaLawTalk #JeSuisCharlie http://t.co/CTHv6qLBqW\n",
            "      1 @zuschoen @dcagle #CharlieHebdo #JeSuisCharlie #JeMeSensCharlieCoulibaly It's still better than those ones: http://t.co/18qK0fdbf8\n",
            "      1 Zunera Mazhar says she's sorry on Paris terror attacks. http://t.co/1JNdts5B4g #JeSuisCharlie #maddow\n"
          ]
        }
      ],
      "source": [
        "#we can check that we got the unique lines only with frequency list\n",
        "#BUT we need to make sure that we have sort -nr (sort in descending order) in the last pipe\n",
        "\n",
        "! cat just_tweets.txt | sort | uniq -iu | sort | uniq -c | sort -nr | head"
      ]
    },
    {
      "cell_type": "markdown",
      "metadata": {
        "id": "fHMAIYJcXJuz"
      },
      "source": [
        "**N.B.** The command `uniq` has several flags:\n",
        "\n",
        "`uniq -i` ignores case\n",
        "\n",
        "`uniq -c` counts the occurrences of a line\n",
        "\n",
        "`uniq -u` prints unique lines only\n",
        "\n",
        "`uniq -d` prints duplicate lines, but each only once\n",
        "\n",
        "`uniq -D` prints all duplicate lines\n",
        "\n"
      ]
    },
    {
      "cell_type": "code",
      "execution_count": null,
      "metadata": {
        "colab": {
          "base_uri": "https://localhost:8080/"
        },
        "id": "TWjeFggFZjx7",
        "outputId": "1c387472-7a08-4a52-a836-a6cbaeb91b31"
      },
      "outputs": [
        {
          "output_type": "stream",
          "name": "stdout",
          "text": [
            "1188\n"
          ]
        }
      ],
      "source": [
        "#counting the number of duplicate tweets\n",
        "\n",
        "! cat just_tweets.txt | sort | uniq -id | wc -l"
      ]
    },
    {
      "cell_type": "code",
      "execution_count": null,
      "metadata": {
        "colab": {
          "base_uri": "https://localhost:8080/"
        },
        "id": "F7HRD4GLTxzv",
        "outputId": "6c134946-09f1-4ba7-f6ac-84ba8511871a"
      },
      "outputs": [
        {
          "output_type": "stream",
          "name": "stdout",
          "text": [
            "203327\n"
          ]
        }
      ],
      "source": [
        "#Check how many lines are left, i.e. how many unique tweets we have\n",
        "\n",
        "! cat just_tweets.txt | sort | uniq -iu | wc -l"
      ]
    },
    {
      "cell_type": "code",
      "execution_count": null,
      "metadata": {
        "colab": {
          "base_uri": "https://localhost:8080/"
        },
        "id": "WmHD5aAxTiWU",
        "outputId": "8df51dbf-4150-448e-971c-18db7ad783f6"
      },
      "outputs": [
        {
          "output_type": "stream",
          "name": "stdout",
          "text": [
            "$EBAY:US #JeSuisCharlie creator seeks copyright to protect slogan #EBAY INC http://t.co/cOML88g3gb #NASDAQ\n",
            "$EBAY:US #JeSuisCharlie creator seeks copyright to protect slogan #EBAY INC http://t.co/tOjUG0SZBa #NASDAQ\n",
            "$EBAY:US #JeSuisCharlie creator seeks copyright to protect slogan #EBAY INC http://t.co/WcU760OFKL #NASDAQ\n",
            "1000+ Datas Leaked \\!/ @Nouveau_Centre https://t.co/U8Pt2BTbGC http://t.co/500jTiNAgb #OpFrance #op_france #JesuisCharlie #CharlieHebdo\n",
            "12 in France; hundreds/thousands in Nigeria. Responses reflect our biases/values. #CNNAfrica #NigerianLivesMatter #JeSuisCharlie\n",
            "12 white lives matter, but 2,000+ black lives don't. #NAACPBombing #JeSuisCharlie\n",
            "14/14 Just look, how all major traditional US press, practically, no report on \"Terrorist Bombing\" of @NAACP office cc #JeSuisCharlie\n",
            "15 Signs The #CharlieHebdo Attack Was A #FalseFlag http://t.co/BBgtoljYO2 #JeSuisCharlie #Israel #Syria #France #NATO #Palestine #Ukraine\n",
            "1 minute, 37 seconds of fear. Watch it. We dare you: https://t.co/anNAM2Q1LQ #islam #muslim #JeSuisCharlie\n",
            "2 weeks later. #JeSuisCharlie #CharlieHebdo http://t.co/t18NAwGcY1\n"
          ]
        }
      ],
      "source": [
        "# I want to double check that uniq -u works, so I'm trying to find the empty NA tweets\n",
        "\n",
        "! cat just_tweets.txt | sort | uniq -iu | egrep \"NA\" | head"
      ]
    },
    {
      "cell_type": "code",
      "execution_count": null,
      "metadata": {
        "colab": {
          "base_uri": "https://localhost:8080/"
        },
        "id": "IKZC16IoUHb7",
        "outputId": "590bbd82-c437-4202-9f22-f41ea0379299"
      },
      "outputs": [
        {
          "output_type": "stream",
          "name": "stdout",
          "text": [
            "@obyezeks Ma, U dont need to to mk a diff. IMAGINE @MRS-IWEALA CLAIMg #JESUISCHARLIE?NA DOLLAR? HAS SHE EVER DONE DT WT MURDERED NIGERIANS?\n"
          ]
        }
      ],
      "source": [
        "# We need to -w option to get just the correct ones - this seems to work!\n",
        "\n",
        "#match only the character string as a word:\n",
        "  #egrep -w\n",
        "#e.g. egrep \"cat\" matches \"concatenate\", but egrep -w \"cat\" only lines with \"cat\" as a word\n",
        "\n",
        "! cat just_tweets.txt | sort | uniq -iu | egrep -w \"NA\""
      ]
    },
    {
      "cell_type": "code",
      "execution_count": null,
      "metadata": {
        "id": "9ZA_6c3eT3Gf"
      },
      "outputs": [],
      "source": [
        "#16. Direct the tweets that occur only once to a file of its own.\n",
        "\n",
        "! cat just_tweets.txt | sort | uniq -iu > noduplicates.txt"
      ]
    },
    {
      "cell_type": "code",
      "execution_count": null,
      "metadata": {
        "colab": {
          "base_uri": "https://localhost:8080/"
        },
        "id": "mc4M4_j_WCjs",
        "outputId": "884bff6c-d22b-42b9-92b5-71952f5e550c"
      },
      "outputs": [
        {
          "output_type": "stream",
          "name": "stdout",
          "text": [
            "203327\n"
          ]
        }
      ],
      "source": [
        "#17. How many tweets do you end up having here?\n",
        "\n",
        "#check the number of lines in the file to make sure that all the lines made it to the file\n",
        "\n",
        "! cat noduplicates.txt | wc -l"
      ]
    },
    {
      "cell_type": "markdown",
      "metadata": {
        "id": "SaYej1X2XqJy"
      },
      "source": [
        "### Hashtags\n",
        "The hashtags used in the tweets are available at http://dl.turkunlp.org/atp/hashtags.txt\n",
        "\n",
        "19. Which hashtags are the most frequent ones?\n",
        "20. How many different hashtags do you have?\n",
        "21. Different versions of jesuischarlie seem to be frequent. How could you exclude those? Which are the most frequent hashtags when those are excluded?\n",
        "22. We can find hashtags with different mentions of \"je suis\" (I am) that don't include \"Charlie\" but something else. How could you find those? What do they look like? These were used to express solidarity to also other\n",
        "23. Count these hashtags with \"je suis\" that don't include Charlie but something else."
      ]
    },
    {
      "cell_type": "code",
      "execution_count": null,
      "metadata": {
        "colab": {
          "base_uri": "https://localhost:8080/"
        },
        "id": "YyjPVbOKWM7i",
        "outputId": "0e79724d-053e-45c2-ccf7-f943c7933011"
      },
      "outputs": [
        {
          "output_type": "stream",
          "name": "stdout",
          "text": [
            "--2024-11-07 06:43:18--  http://dl.turkunlp.org/atp/hashtags.txt\n",
            "Resolving dl.turkunlp.org (dl.turkunlp.org)... 195.148.30.23\n",
            "Connecting to dl.turkunlp.org (dl.turkunlp.org)|195.148.30.23|:80... connected.\n",
            "HTTP request sent, awaiting response... 200 OK\n",
            "Length: 7533015 (7.2M) [text/plain]\n",
            "Saving to: ‘hashtags.txt’\n",
            "\n",
            "hashtags.txt        100%[===================>]   7.18M  4.99MB/s    in 1.4s    \n",
            "\n",
            "2024-11-07 06:43:20 (4.99 MB/s) - ‘hashtags.txt’ saved [7533015/7533015]\n",
            "\n"
          ]
        }
      ],
      "source": [
        "#Fetch the file\n",
        "\n",
        "! wget http://dl.turkunlp.org/atp/hashtags.txt"
      ]
    },
    {
      "cell_type": "code",
      "execution_count": null,
      "metadata": {
        "colab": {
          "base_uri": "https://localhost:8080/"
        },
        "id": "nkmZJAShX2P0",
        "outputId": "afdcd42b-be16-4393-a664-0c1d42b09fef"
      },
      "outputs": [
        {
          "output_type": "stream",
          "name": "stdout",
          "text": [
            "#CharlieHebdo\n",
            "#JeSuisCharlie\n",
            "#JeSuisCharlie-\n",
            "#JeSuisCharlie\n",
            "#JeSuisCharlie\n",
            "#JeSuisCharlie\n",
            "#CharlieHebdo\n",
            "#terrorism\n",
            "#FreeSpeech\n",
            "#Secular\n"
          ]
        }
      ],
      "source": [
        "#Check the file contents\n",
        "\n",
        "! head hashtags.txt"
      ]
    },
    {
      "cell_type": "code",
      "execution_count": null,
      "metadata": {
        "colab": {
          "base_uri": "https://localhost:8080/"
        },
        "id": "5BfUX1V3X8VV",
        "outputId": "d30f71f5-397a-4068-db37-327bbd4851a3"
      },
      "outputs": [
        {
          "output_type": "stream",
          "name": "stdout",
          "text": [
            " 186703 #JeSuisCharlie\n",
            "  99676 #Letter4All\n",
            "  99648 #letter4u\n",
            "  91328 #Paris\n",
            "  13043 #CharlieHebdo\n",
            "  12396 #jesuischarlie\n",
            "  10415 #french\n",
            "   4363 #Jesuischarlie\n",
            "   2033 #France\n",
            "   1516 #JesuisAhmed\n"
          ]
        }
      ],
      "source": [
        "#19. Which hashtags are the most frequent ones?\n",
        "\n",
        "#frequency list\n",
        "\n",
        "#uniq -ci ignores case and counts the occurrences of the line\n",
        "\n",
        "! cat hashtags.txt | sort | uniq -ci | sort -rn | head # to check the most frequent ones"
      ]
    },
    {
      "cell_type": "code",
      "execution_count": null,
      "metadata": {
        "colab": {
          "base_uri": "https://localhost:8080/"
        },
        "id": "CQcM3-f5YDV6",
        "outputId": "933b9ae5-2e23-430a-a496-80e8741824b4"
      },
      "outputs": [
        {
          "output_type": "stream",
          "name": "stdout",
          "text": [
            "22474\n"
          ]
        }
      ],
      "source": [
        "#20. How many different hashtags do you have?\n",
        "\n",
        "#Count the lines of the hashtags from the frequency list\n",
        "#Here we leave out counting and sorting, since it's not necessary for the count of the number of different hashtags\n",
        "\n",
        "! cat hashtags.txt | sort | uniq -i | wc -l # how many different ones"
      ]
    },
    {
      "cell_type": "code",
      "execution_count": null,
      "metadata": {
        "colab": {
          "base_uri": "https://localhost:8080/"
        },
        "id": "UKvLGXWqcX75",
        "outputId": "c9cb2e6b-1f2a-44dc-8ca9-f767a546fdfb"
      },
      "outputs": [
        {
          "output_type": "stream",
          "name": "stdout",
          "text": [
            "22474\n"
          ]
        }
      ],
      "source": [
        "#the outcome of the line count of the frequency list is the same, though\n",
        "\n",
        "! cat hashtags.txt | sort | uniq -ci | sort -rn | wc -l"
      ]
    },
    {
      "cell_type": "code",
      "execution_count": null,
      "metadata": {
        "colab": {
          "base_uri": "https://localhost:8080/"
        },
        "id": "OvJ0bAv2YKFP",
        "outputId": "ee4af285-8efb-44d5-ec57-0769871034a2"
      },
      "outputs": [
        {
          "output_type": "stream",
          "name": "stdout",
          "text": [
            " 186703 #JeSuisCharlie\n",
            "  99676 #Letter4All\n",
            "  99648 #letter4u\n",
            "  91328 #Paris\n",
            "  13043 #CharlieHebdo\n",
            "  12396 #jesuischarlie\n",
            "  10415 #french\n",
            "   4363 #Jesuischarlie\n",
            "   2033 #France\n",
            "   1516 #JesuisAhmed\n"
          ]
        }
      ],
      "source": [
        "#21. Different versions of jesuischarlie seem to be frequent.\n",
        "\n",
        "! cat hashtags.txt | sort | uniq -ci | sort -rn | head\n",
        "#! cat hashtags.txt | egrep -i \"jesuischarlie\" | head -50 # this matches any version of the notion"
      ]
    },
    {
      "cell_type": "code",
      "source": [
        "#N.B. Although we used the ignore case (-i) with uniq, the different forms of the hashtags #jesuischarlie show up\n",
        "#in the frequency list, since the hashtags might include punctuation etc. after the jesuischarlie part\n",
        "#and these count as different forms of the hashtag\n",
        "\n",
        "! cat hashtags.txt | sort | uniq | egrep \"^#JeSuisCharlie\" | head"
      ],
      "metadata": {
        "id": "XgV9WzwlhO4F",
        "colab": {
          "base_uri": "https://localhost:8080/"
        },
        "outputId": "a8d25a64-dc61-4d63-b1bb-27a2d9d176df"
      },
      "execution_count": null,
      "outputs": [
        {
          "output_type": "stream",
          "name": "stdout",
          "text": [
            "#JeSuisCharlie\n",
            "#JeSuisCharlie!\n",
            "#JeSuisCharlie!!\n",
            "#JeSuisCharlie!!!\n",
            "#JeSuisCharlie!!!!!!!!!\n",
            "#JeSuisCharlie!...\n",
            "#JeSuisCharlie!:\n",
            "#JeSuisCharlie!?\n",
            "#JeSuisCharlie\"\n",
            "#JeSuisCharlie\"!\n"
          ]
        }
      ]
    },
    {
      "cell_type": "code",
      "execution_count": null,
      "metadata": {
        "colab": {
          "base_uri": "https://localhost:8080/"
        },
        "id": "DJA-BJOEYZfN",
        "outputId": "628bf927-4e25-4671-be5f-27f0e3588b58"
      },
      "outputs": [
        {
          "output_type": "stream",
          "name": "stdout",
          "text": [
            "#CharlieHebdo\n",
            "#CharlieHebdo\n",
            "#terrorism\n",
            "#FreeSpeech\n",
            "#Secular\n",
            "#London\n",
            "#TrafalgarSquare\n",
            "#IchbinCharlie\n",
            "#CharlieHebdo\n",
            "#Paris\n"
          ]
        }
      ],
      "source": [
        "#How could you exclude the different versions of jesuischarlie?\n",
        "\n",
        "#grep and print lines that don't match jesuischarlie in any form:\n",
        "  #egrep -iv\n",
        "\n",
        "! cat hashtags.txt | egrep -iv \"jesuischarlie\" | head # with -v we can ignore those"
      ]
    },
    {
      "cell_type": "code",
      "execution_count": null,
      "metadata": {
        "colab": {
          "base_uri": "https://localhost:8080/"
        },
        "id": "NgveaFbmZDZv",
        "outputId": "bc3be88b-4d7b-4042-c9ae-012d7b52ec40"
      },
      "outputs": [
        {
          "output_type": "stream",
          "name": "stdout",
          "text": [
            "  99676 #Letter4All\n",
            "  99648 #letter4u\n",
            "  91328 #Paris\n",
            "  13043 #CharlieHebdo\n",
            "  10415 #french\n",
            "   2033 #France\n",
            "   1516 #JesuisAhmed\n",
            "   1489 #Notinmyname\n",
            "   1467 #charliehebdo\n",
            "   1351 #ISIS\n",
            "   1121 #jeSuisJuif\n",
            "   1016 #iSLAM\n",
            "    841 #ParisShooting\n",
            "    761 #FreedomoFSpeech\n",
            "    716 #tcot\n",
            "    692 #notafraid\n",
            "    689 #islamnoncoupable\n",
            "    686 #islamicstate\n",
            "    662 #parismarch\n",
            "    657 #polqc\n"
          ]
        }
      ],
      "source": [
        "#Which are the most frequent hashtags when those are excluded?\n",
        "\n",
        "#frequency list\n",
        "\n",
        "! cat hashtags.txt | egrep -iv \"jesuischarlie\" | sort | uniq -ci | sort -rn | head -20"
      ]
    },
    {
      "cell_type": "code",
      "execution_count": null,
      "metadata": {
        "colab": {
          "base_uri": "https://localhost:8080/"
        },
        "id": "Adg6jWytZILD",
        "outputId": "60cce5ea-10e5-4994-e483-b471118c7482"
      },
      "outputs": [
        {
          "output_type": "stream",
          "name": "stdout",
          "text": [
            "#jesuishebdo\n",
            "#JeSuisAhmed\n",
            "#JeSuisParis\n",
            "#JeSuisCharly\n",
            "#JeSuisAmhed\n",
            "#JeSuisAmhed\n",
            "#JeSuisAhmed\n",
            "#JeSuisAhmed\n",
            "#JeSuisAhmed\n",
            "#jesuisflic\n"
          ]
        }
      ],
      "source": [
        "#22. We can find hashtags with different mentions of \"je suis\" (I am) that don't include \"Charlie\" but something else.\n",
        "#How could you find those? What do they look like?\n",
        "\n",
        "#grep \"suis\" (ignore case so you get all of them):\n",
        "  #egrep -i \"suis\"\n",
        "#grep \"charlie\" (ignore case so you get all of them) and print lines that don't match:\n",
        "  #egrep -vi \"charlie\"\n",
        "\n",
        "! cat hashtags.txt | egrep -i \"suis\" | egrep -vi \"charlie\" | head # if we first search of \"suis\" and then skip the charlie ones"
      ]
    },
    {
      "cell_type": "code",
      "execution_count": null,
      "metadata": {
        "colab": {
          "base_uri": "https://localhost:8080/"
        },
        "id": "E5IUpxGuZPwg",
        "outputId": "b61c4e1d-b4e9-4568-8895-4e6192bfaaf0"
      },
      "outputs": [
        {
          "output_type": "stream",
          "name": "stdout",
          "text": [
            "   1516 #JesuisAhmed\n",
            "   1121 #jeSuisJuif\n",
            "    133 #jesuisjuif\n",
            "    128 #jesuiscopte\n",
            "    120 #jesuisahmed\n",
            "    111 #jesuisjuis\n",
            "    100 #jesuiskouachi\n",
            "     90 #jesuisraif\n",
            "     89 #jesuismuslim\n",
            "     87 #jesuisdieudonne\n"
          ]
        }
      ],
      "source": [
        "#23. Count these hashtags\n",
        "\n",
        "#frequency list\n",
        "\n",
        "! cat hashtags.txt | egrep -i \"suis\" | egrep -vi \"charlie\" | sort | uniq -ci | sort -rn | head # a frequency list tells us that quite many similar notions were used"
      ]
    },
    {
      "cell_type": "markdown",
      "metadata": {
        "id": "_-gWnNGMQxOo"
      },
      "source": [
        "**Summary of useful commands in these exercises**\n",
        "\n",
        "`egrep -w` match **as word**, not as part of a word\n",
        "\n",
        "`egrep -v` match lines that **don't include** the given character string\n",
        "\n",
        "`egrep -i` **ignore case** when matching lines (i.e. match lines with upper and/or lower case)\n",
        "\n",
        "`egrep -iv` N.B. the flags can be **combined**\n",
        "\n",
        "`egrep -v \"^$\"`remove **empty lines**\n",
        "\n",
        "`cut -f` select **column(s)**\n",
        "\n",
        "`uniq -u` filter successive duplicate lines, **print only the unique lines** (i.e. that do not have any duplicates)\n",
        "\n",
        "`uniq -i` **ignore case** when filtering duplicate lines\n",
        "\n",
        "`sort | uniq -c | sort -rn` **frequency list**\n",
        "\n",
        "`sort | uniq -ci | sort -rn` **frequency list**"
      ]
    }
  ],
  "metadata": {
    "colab": {
      "collapsed_sections": [
        "cVGiNOizCxMK",
        "V8PbWFpAGOLe",
        "21ffCS_FDMkW",
        "qmXz0aEbP6M6"
      ],
      "provenance": [],
      "include_colab_link": true
    },
    "kernelspec": {
      "display_name": "Python 3",
      "name": "python3"
    },
    "language_info": {
      "name": "python"
    }
  },
  "nbformat": 4,
  "nbformat_minor": 0
}