{
  "cells": [
    {
      "cell_type": "markdown",
      "metadata": {
        "id": "view-in-github",
        "colab_type": "text"
      },
      "source": [
        "<a href=\"https://colab.research.google.com/github/TurkuNLP/ATP_kurssi/blob/master/2024_Notebook_3_answers.ipynb\" target=\"_parent\"><img src=\"https://colab.research.google.com/assets/colab-badge.svg\" alt=\"Open In Colab\"/></a>"
      ]
    },
    {
      "cell_type": "markdown",
      "metadata": {
        "id": "cVGiNOizCxMK"
      },
      "source": [
        "### Fetch data and basic statistics\n",
        "\n",
        "1. Fetch the tweet file found at http://dl.turkunlp.org/atp/tweets_en_nort.csv\n",
        "2.  How many lines does it have? What if we remove empty lines?\n",
        "3.  Direct the non-empty lines to a file.\n",
        "4.  How many words does it have?\n",
        "5.  How does the last tweet look like? (This can be suprisingly useful when working with real data)"
      ]
    },
    {
      "cell_type": "code",
      "execution_count": null,
      "metadata": {
        "id": "f7PgobTMCqqh",
        "outputId": "586387c0-df23-4c2b-a61f-41d3977bb88c",
        "colab": {
          "base_uri": "https://localhost:8080/"
        }
      },
      "outputs": [
        {
          "output_type": "stream",
          "name": "stdout",
          "text": [
            "--2024-10-24 09:59:10--  http://dl.turkunlp.org/atp/tweets_en_nort.csv\n",
            "Resolving dl.turkunlp.org (dl.turkunlp.org)... 195.148.30.23\n",
            "Connecting to dl.turkunlp.org (dl.turkunlp.org)|195.148.30.23|:80... connected.\n",
            "HTTP request sent, awaiting response... 200 OK\n",
            "Length: 82188071 (78M) [application/octet-stream]\n",
            "Saving to: ‘tweets_en_nort.csv’\n",
            "\n",
            "tweets_en_nort.csv  100%[===================>]  78.38M  22.5MB/s    in 4.0s    \n",
            "\n",
            "2024-10-24 09:59:15 (19.5 MB/s) - ‘tweets_en_nort.csv’ saved [82188071/82188071]\n",
            "\n"
          ]
        }
      ],
      "source": [
        "#1. Fetch the file\n",
        "\n",
        "! wget http://dl.turkunlp.org/atp/tweets_en_nort.csv"
      ]
    },
    {
      "cell_type": "code",
      "execution_count": null,
      "metadata": {
        "id": "KHGdzYleDD3v",
        "outputId": "c0105c74-40a3-460f-86d3-1f3756e98302",
        "colab": {
          "base_uri": "https://localhost:8080/"
        }
      },
      "outputs": [
        {
          "output_type": "stream",
          "name": "stdout",
          "text": [
            "15\ttwitter-search\t@_Tsunamilkshake pas top #CharlieHebdo #JeSuisCharlie\t2537743877\ttheo_yagami\t552895821730316288\t1215660151\ten\t<a href=\"http://twitter.com/download/android\" rel=\"nofollow\">Twitter for Android</a>\thttp://pbs.twimg.com/profile_background_images/881023503/57d97605059e6a7d321b75c46ac2323a.jpeg\t\t0\t0\tWed Jan 07 18:33:30 +0000 2015\t1420655610\n",
            "\n",
            "17\ttwitter-search\tNA\t\thojaldraoficial\t552895821600264192\t763672748\ten\t<a href=\"http://twitter.com\" rel=\"nofollow\">Twitter Web Client</a>\thttp://abs.twimg.com/images/themes/theme1/bg.png\t\t0\t0\tWed Jan 07 18:33:30 +0000 2015\t1420655610\n",
            "\n",
            "103\ttwitter-search\tJe suis Charline, mais surtout #JeSuisCharlie- freedom of speach is a right! http://t.co/5KLOA114C9\t\tCharlineDeLucaC\t552895817003323392\t834937038\ten\t<a href=\"http://instagram.com\" rel=\"nofollow\">Instagram</a>\thttp://pbs.twimg.com/profile_background_images/690731646/217479ce77b3fa1a6f904db60cc48b9c.jpeg\t\t0\t0\tWed Jan 07 18:33:29 +0000 2015\t1420655609\n",
            "\n",
            "112\ttwitter-search\tThe depraved ways of Islamic extremism should never be allowed to force people into silence. #JeSuisCharlie http://t.co/IZqNiFKBeM\t\tMrThomasLambert\t552895816349016064\t144112123\ten\t<a href=\"http://twitter.com/#!/download/ipad\" rel=\"nofollow\">Twitter for iPad</a>\thttp://pbs.twimg.com/profile_background_images/378800000119614010/110989389ca0fffe0285a3f1a708ff7a.jpeg\t\t0\t0\tWed Jan 07 18:33:29 +0000 2015\t1420655609\n",
            "\n",
            "120\ttwitter-search\tIncredibly sad news out of France today. My thoughts go out to the family and friends of the staff at @Charlie_Hebdo_ #JeSuisCharlie\t\tmarksummers24\t552895815979892736\t753779834\ten\t<a href=\"http://twitter.com\" rel=\"nofollow\">Twitter Web Client</a>\thttp://abs.twimg.com/images/themes/theme1/bg.png\t\t0\t0\tWed Jan 07 18:33:29 +0000 2015\t1420655609\n",
            "\n"
          ]
        }
      ],
      "source": [
        "# better have a look at what we got\n",
        "\n",
        "! cat tweets_en_nort.csv | head"
      ]
    },
    {
      "cell_type": "code",
      "execution_count": null,
      "metadata": {
        "id": "59ovl5qGEC9P",
        "outputId": "a3b74896-44dd-48a0-da69-18001fd8a81b",
        "colab": {
          "base_uri": "https://localhost:8080/"
        }
      },
      "outputs": [
        {
          "output_type": "stream",
          "name": "stdout",
          "text": [
            "461412\n",
            "230721\n"
          ]
        }
      ],
      "source": [
        "#2. Line count\n",
        "\n",
        "! cat tweets_en_nort.csv | wc -l #line count; but remember there were a lot of empty lines\n",
        "\n",
        "#Remove empty lines: egrep -v \"^$\"\n",
        "#new line count: wc -l\n",
        "\n",
        "! cat tweets_en_nort.csv | egrep -v \"^$\" | wc -l #first match anything but empty lines, then count how many lines"
      ]
    },
    {
      "cell_type": "code",
      "execution_count": null,
      "metadata": {
        "id": "TLBqz7WwEdxd"
      },
      "outputs": [],
      "source": [
        "#3. Non-empty lines to a new file\n",
        "\n",
        "! cat tweets_en_nort.csv | egrep -v \"^$\"  > tweets_no_empties.txt"
      ]
    },
    {
      "cell_type": "code",
      "execution_count": null,
      "metadata": {
        "id": "jObL4D9JE7Eo",
        "outputId": "c6bcf975-db94-431a-8f15-e9f4f5799bdb",
        "colab": {
          "base_uri": "https://localhost:8080/"
        }
      },
      "outputs": [
        {
          "output_type": "stream",
          "name": "stdout",
          "text": [
            "230721\n"
          ]
        }
      ],
      "source": [
        "#check that line counts match (in comparison with task 2.)\n",
        "\n",
        "! cat tweets_no_empties.txt | wc -l"
      ]
    },
    {
      "cell_type": "code",
      "execution_count": null,
      "metadata": {
        "id": "zegPPiYPFKJS",
        "outputId": "a275681f-501b-45c7-e9ca-c1177718a673",
        "colab": {
          "base_uri": "https://localhost:8080/"
        }
      },
      "outputs": [
        {
          "output_type": "stream",
          "name": "stdout",
          "text": [
            "7712343\n"
          ]
        }
      ],
      "source": [
        "#4. Word count of the non-empty file\n",
        "\n",
        "! cat tweets_no_empties.txt | wc -w"
      ]
    },
    {
      "cell_type": "code",
      "execution_count": null,
      "metadata": {
        "id": "Xy6VFXO9PVgM",
        "outputId": "9cf52f50-916c-449b-ce20-8c8504fae67b",
        "colab": {
          "base_uri": "https://localhost:8080/"
        }
      },
      "outputs": [
        {
          "output_type": "stream",
          "name": "stdout",
          "text": [
            "1281052\ttwitter-search\t#JeSuisCharlie #FreeRaif #JusticeForYves... this is what we are: a bunch of useless hashtags.\t\ttalktoceline\t641608078631112704\t246378257\ten\t<a href=\"http://twitter.com\" rel=\"nofollow\">Twitter Web Client</a>\thttp://pbs.twimg.com/profile_background_images/216476981/02249_T_J.JPG\t\t0\t0\tWed Sep 09 13:44:21 +0000 2015\t1441806261\n"
          ]
        }
      ],
      "source": [
        "#5. Check the last Tweet\n",
        "\n",
        "! cat tweets_no_empties.txt | tail -1"
      ]
    },
    {
      "cell_type": "markdown",
      "metadata": {
        "id": "V8PbWFpAGOLe"
      },
      "source": [
        "### Further cleaning\n",
        "Remember that the file still had a lot of other information than just the tweets.\n",
        "\n",
        "6. Create a version of the data file where you have only the tweet texts. Read some of the lines to understand which column had the actual tweets."
      ]
    },
    {
      "cell_type": "code",
      "execution_count": null,
      "metadata": {
        "id": "u2FKgosTGdlu",
        "outputId": "5b17c7fa-124c-4b33-b87d-28fff9f21311",
        "colab": {
          "base_uri": "https://localhost:8080/"
        }
      },
      "outputs": [
        {
          "output_type": "stream",
          "name": "stdout",
          "text": [
            "@_Tsunamilkshake pas top #CharlieHebdo #JeSuisCharlie\n",
            "NA\n",
            "Je suis Charline, mais surtout #JeSuisCharlie- freedom of speach is a right! http://t.co/5KLOA114C9\n",
            "The depraved ways of Islamic extremism should never be allowed to force people into silence. #JeSuisCharlie http://t.co/IZqNiFKBeM\n",
            "Incredibly sad news out of France today. My thoughts go out to the family and friends of the staff at @Charlie_Hebdo_ #JeSuisCharlie\n",
            "No country is free if its press cannot practice openly and fearlessly. #JeSuisCharlie http://t.co/YCXeKDyJEp\n",
            "Being in Paris, absolutely shocked at the #CharlieHebdo #terrorism attack. Condolences. #FreeSpeech #Secular #JeSuisCharlie\n",
            "My wife wrote this: http://t.co/Y0HlA2qCCp #JeSuisCharlie\n",
            "German public anti Islamic feelings are now strengthened by the attack in Paris #JeSuisCharlie\n",
            "NetNewsLedger #JeSuisCharlie Hashtag Goes Viral Condemning Paris Terror Attack: PARIS - NEWS - People from aro... http://t.co/ACNdobn17V\n"
          ]
        }
      ],
      "source": [
        "# cut -f prints only specific columns\n",
        "\n",
        "#It's always useful and important to check what the command does and that it does what you intend it to do.\n",
        "\n",
        "! cat tweets_no_empties.txt | cut -f 3 | head # Head at the end of the pipe is useful to reading"
      ]
    },
    {
      "cell_type": "code",
      "execution_count": null,
      "metadata": {
        "id": "ys-ShwCPG80h"
      },
      "outputs": [],
      "source": [
        "#6. Direct the Tweets to a new file\n",
        "\n",
        "! cat tweets_no_empties.txt | cut -f 3 > just_tweets.txt"
      ]
    },
    {
      "cell_type": "code",
      "execution_count": null,
      "metadata": {
        "id": "m5gN1YpGG_bq",
        "outputId": "076b2464-1448-46d7-8962-6daba0c265ee",
        "colab": {
          "base_uri": "https://localhost:8080/"
        }
      },
      "outputs": [
        {
          "output_type": "stream",
          "name": "stdout",
          "text": [
            "@_Tsunamilkshake pas top #CharlieHebdo #JeSuisCharlie\n",
            "NA\n",
            "Je suis Charline, mais surtout #JeSuisCharlie- freedom of speach is a right! http://t.co/5KLOA114C9\n",
            "The depraved ways of Islamic extremism should never be allowed to force people into silence. #JeSuisCharlie http://t.co/IZqNiFKBeM\n",
            "Incredibly sad news out of France today. My thoughts go out to the family and friends of the staff at @Charlie_Hebdo_ #JeSuisCharlie\n",
            "No country is free if its press cannot practice openly and fearlessly. #JeSuisCharlie http://t.co/YCXeKDyJEp\n",
            "Being in Paris, absolutely shocked at the #CharlieHebdo #terrorism attack. Condolences. #FreeSpeech #Secular #JeSuisCharlie\n",
            "My wife wrote this: http://t.co/Y0HlA2qCCp #JeSuisCharlie\n",
            "German public anti Islamic feelings are now strengthened by the attack in Paris #JeSuisCharlie\n",
            "NetNewsLedger #JeSuisCharlie Hashtag Goes Viral Condemning Paris Terror Attack: PARIS - NEWS - People from aro... http://t.co/ACNdobn17V\n"
          ]
        }
      ],
      "source": [
        "#Check that the file looks as it should\n",
        "\n",
        "! head just_tweets.txt"
      ]
    },
    {
      "cell_type": "markdown",
      "metadata": {
        "id": "21ffCS_FDMkW"
      },
      "source": [
        "### Matching specific patterns\n",
        "There is a lot of Charlie-related tweets.\n",
        "\n",
        "7. Do all the tweets have the hashtag #JeSuisCharlie?\n",
        "8. How could you look at tweets that do not have this hashtag?\n",
        "9. How could you search any CaPS-variant of the hashtag using one single egrep-command?\n",
        "10. How are the lines that don't have any variant of the hashtag? How many are there?\n"
      ]
    },
    {
      "cell_type": "code",
      "execution_count": null,
      "metadata": {
        "colab": {
          "base_uri": "https://localhost:8080/"
        },
        "id": "78UUDBZVKtSk",
        "outputId": "d5d48792-950d-4c02-e31e-f2626132f314"
      },
      "outputs": [
        {
          "output_type": "stream",
          "name": "stdout",
          "text": [
            "230721\n"
          ]
        }
      ],
      "source": [
        "# How many did we have in total?\n",
        "\n",
        "! cat just_tweets.txt | wc -l"
      ]
    },
    {
      "cell_type": "code",
      "execution_count": null,
      "metadata": {
        "colab": {
          "base_uri": "https://localhost:8080/"
        },
        "id": "mS3ZSl4rE97Y",
        "outputId": "088cb082-19f0-438d-89ba-2f3da3eecfd8"
      },
      "outputs": [
        {
          "output_type": "stream",
          "name": "stdout",
          "text": [
            "193108\n"
          ]
        }
      ],
      "source": [
        "#7. Do all the Tweets have the hashtag?\n",
        "\n",
        "#grep the hashtag\n",
        "#line count\n",
        "\n",
        "! cat just_tweets.txt | egrep \"#JeSuisCharlie\"  | wc -l # so not all of them have this hashtag"
      ]
    },
    {
      "cell_type": "code",
      "execution_count": null,
      "metadata": {
        "id": "SBfGWkGgK6ve",
        "outputId": "e2b8d55f-66ab-4858-9c8b-d503205193e3",
        "colab": {
          "base_uri": "https://localhost:8080/"
        }
      },
      "outputs": [
        {
          "output_type": "stream",
          "name": "stdout",
          "text": [
            "NA\n",
            "A Classic 2000 Profile By Emily Eakin Of Michel Houellebecq http://t.co/xgLDQELgi0 #jesuischarlie MH's only interview http://t.co/E15qxcSRJF\n",
            "@JesseBrown @JoanneBLY @CNDLND Canadian media not showing cartoons, as well calling attackers \"Gunmen\" not \"Terrorists\" #jesuisCharlie\n",
            "They said they'd avenged the prophet like he'll be that glad about it when he meets them. Not convinced he will. #jesuischarlie\n",
            "#jesuischarlie @ earth http://t.co/1zGjgsZhAf\n",
            "NA\n",
            "NA\n",
            "#Allah Akbar my arse! #Mohammad . #IslamicState #paris #imcharlie #islam #jesuischarlie\n",
            "Irony is Dead. Literally. #jesuischarlie\n",
            "NA\n"
          ]
        }
      ],
      "source": [
        "#8. Check lines without the hashtag\n",
        "\n",
        "#grep reverse, i.e. lines without a match:\n",
        "  #egrep -v\n",
        "\n",
        "! cat just_tweets.txt | egrep -v \"#JeSuisCharlie\" | head # print lines that do not match"
      ]
    },
    {
      "cell_type": "code",
      "source": [
        "#9. CaPS-variants of the hashtag with one single egrep-command\n",
        "\n",
        "#print lines that match any variants of #JeSuisCharlie:\n",
        "  #egrep -i (-i means ignore case, -v means reverse)\n",
        "\n",
        "! cat just_tweets.txt | egrep -i \"#JeSuisCharlie\" | head  # print lines that match in any case"
      ],
      "metadata": {
        "id": "LdpFEI82Y0RB",
        "outputId": "c7125166-dcfe-4551-c5dc-fe83586d128f",
        "colab": {
          "base_uri": "https://localhost:8080/"
        }
      },
      "execution_count": null,
      "outputs": [
        {
          "output_type": "stream",
          "name": "stdout",
          "text": [
            "@_Tsunamilkshake pas top #CharlieHebdo #JeSuisCharlie\n",
            "Je suis Charline, mais surtout #JeSuisCharlie- freedom of speach is a right! http://t.co/5KLOA114C9\n",
            "The depraved ways of Islamic extremism should never be allowed to force people into silence. #JeSuisCharlie http://t.co/IZqNiFKBeM\n",
            "Incredibly sad news out of France today. My thoughts go out to the family and friends of the staff at @Charlie_Hebdo_ #JeSuisCharlie\n",
            "No country is free if its press cannot practice openly and fearlessly. #JeSuisCharlie http://t.co/YCXeKDyJEp\n",
            "Being in Paris, absolutely shocked at the #CharlieHebdo #terrorism attack. Condolences. #FreeSpeech #Secular #JeSuisCharlie\n",
            "My wife wrote this: http://t.co/Y0HlA2qCCp #JeSuisCharlie\n",
            "German public anti Islamic feelings are now strengthened by the attack in Paris #JeSuisCharlie\n",
            "NetNewsLedger #JeSuisCharlie Hashtag Goes Viral Condemning Paris Terror Attack: PARIS - NEWS - People from aro... http://t.co/ACNdobn17V\n",
            "Solidarity with Paris #JeSuisCharlie\n"
          ]
        }
      ]
    },
    {
      "cell_type": "code",
      "execution_count": null,
      "metadata": {
        "id": "uWbtd_owKbdq",
        "outputId": "6fe726a9-8588-418d-d24d-323db0eaff27",
        "colab": {
          "base_uri": "https://localhost:8080/"
        }
      },
      "outputs": [
        {
          "output_type": "stream",
          "name": "stdout",
          "text": [
            "NA\n",
            "NA\n",
            "NA\n",
            "NA\n",
            "NA\n",
            "NA\n",
            "NA\n",
            "NA\n",
            "NA\n",
            "NA\n"
          ]
        }
      ],
      "source": [
        "#10. How are the lines that don't have any variant of the hashtag? How many are there?\n",
        "\n",
        "#print lines that do not match any variants of #JeSuisCharlie:\n",
        "  #egrep -iv\n",
        "\n",
        "! cat just_tweets.txt | egrep -iv \"#JeSuisCharlie\" | head  # print lines that do not match in any case"
      ]
    },
    {
      "cell_type": "code",
      "execution_count": null,
      "metadata": {
        "id": "EosM-qslM6LY"
      },
      "outputs": [],
      "source": [
        "#if we also skip the lines with NA we get nothing -> all the tweets without any form of the hashtag are empty\n",
        "\n",
        "#grep and print lines that don't match \"#JeSuisCharlie\" in any form:\n",
        "  #egrep -iv \"#JeSuisCharlie\"\n",
        "#grep and print lines that don't match NA:\n",
        "  #egrep -v NA\n",
        "\n",
        "! cat just_tweets.txt | egrep -iv \"#JeSuisCharlie\" | egrep -v NA"
      ]
    },
    {
      "cell_type": "code",
      "execution_count": null,
      "metadata": {
        "colab": {
          "base_uri": "https://localhost:8080/"
        },
        "id": "AgYXcTalORT7",
        "outputId": "2ee2d8d6-177a-4510-b3f3-520eced241e6"
      },
      "outputs": [
        {
          "output_type": "stream",
          "name": "stdout",
          "text": [
            "17347\n"
          ]
        }
      ],
      "source": [
        "#10. How are the lines that don't have any variant of the hashtag? How many are there?\n",
        "\n",
        "#grep and print lines that don't match \"#JeSuisCharlie\" in any form:\n",
        "  #egrep -iv \"#JeSuisCharlie\"\n",
        "#count the lines:\n",
        "  #wc -l\n",
        "\n",
        "!  cat just_tweets.txt | egrep -iv \"#JeSuisCharlie\" | wc -l # this many are empty\n",
        "#!  cat just_tweets.txt | egrep -w \"NA\" | wc -l"
      ]
    },
    {
      "cell_type": "markdown",
      "metadata": {
        "id": "qmXz0aEbP6M6"
      },
      "source": [
        "### User names and their frequencies\n",
        "\n",
        "Column 5 of the original tweet file (tweets_no_empties.txt) has user names.\n",
        "\n",
        "11. Take them to a separate file\n",
        "12. What are the 5 most frequent usernames in the dataset?\n",
        "13. How many different usernames does the data have?"
      ]
    },
    {
      "cell_type": "code",
      "execution_count": null,
      "metadata": {
        "id": "QL3y43aoQY_9"
      },
      "outputs": [],
      "source": [
        "#11. Direct the usernames from column 5 to a new file\n",
        "\n",
        "! cat tweets_no_empties.txt | cut -f 5 > usernames.txt"
      ]
    },
    {
      "cell_type": "code",
      "source": [
        "#Check that the file contains what it is supposed to contain\n",
        "\n",
        "! cat usernames.txt | head"
      ],
      "metadata": {
        "id": "ezAT1at7bWVF",
        "outputId": "395e21fd-b1fc-452d-f5d4-aa98eecc6491",
        "colab": {
          "base_uri": "https://localhost:8080/"
        }
      },
      "execution_count": null,
      "outputs": [
        {
          "output_type": "stream",
          "name": "stdout",
          "text": [
            "theo_yagami\n",
            "hojaldraoficial\n",
            "CharlineDeLucaC\n",
            "MrThomasLambert\n",
            "marksummers24\n",
            "fancybuffalo\n",
            "itsmaloy\n",
            "LZHFox\n",
            "ChargedQuark\n",
            "NouestOn\n"
          ]
        }
      ]
    },
    {
      "cell_type": "code",
      "execution_count": null,
      "metadata": {
        "id": "ZmRnyrumQ6G4",
        "outputId": "5d37cc0c-3799-44c7-c9e3-1bfb66445dcd",
        "colab": {
          "base_uri": "https://localhost:8080/"
        }
      },
      "outputs": [
        {
          "output_type": "stream",
          "name": "stdout",
          "text": [
            "   3532 jesuischarlie_\n",
            "   3479 Promo_Culturel\n",
            "   2682 BotCharlie\n",
            "   1926 russfeed\n",
            "   1571 carterscarter1\n"
          ]
        }
      ],
      "source": [
        "#12. What are the 5 most frequent usernames in the dataset?\n",
        "\n",
        "#frequency list:\n",
        "  #sort | uniq -ci | sort -rn\n",
        "#ignore case:\n",
        "  #uniq -ci\n",
        "\n",
        "! cat usernames.txt | sort | uniq -ci | sort -rn | head -5 # printing the beginning of the frequency list"
      ]
    },
    {
      "cell_type": "code",
      "execution_count": null,
      "metadata": {
        "id": "xXDXVSr6RnLx",
        "outputId": "030f3c21-34d3-4588-865f-065739959f3c",
        "colab": {
          "base_uri": "https://localhost:8080/"
        }
      },
      "outputs": [
        {
          "output_type": "stream",
          "name": "stdout",
          "text": [
            "71196\n"
          ]
        }
      ],
      "source": [
        "#13. How many *different* usernames does the data have?\n",
        "\n",
        "#frequency list\n",
        "#line count\n",
        "\n",
        "! cat usernames.txt | sort | uniq -ci | sort -rn | wc -l # just counting how many lines there are in the frequency list gives you the number"
      ]
    },
    {
      "cell_type": "code",
      "execution_count": null,
      "metadata": {
        "id": "PuYHH4rGRvz-",
        "outputId": "0ed1cbf7-7fc5-4cf7-b3f0-ed1c692520d0",
        "colab": {
          "base_uri": "https://localhost:8080/"
        }
      },
      "outputs": [
        {
          "output_type": "stream",
          "name": "stdout",
          "text": [
            "71196\n"
          ]
        }
      ],
      "source": [
        "#actually, it's enough to count the number of unique lines without count or resorting\n",
        "\n",
        "! cat usernames.txt | sort | uniq -i | wc -l"
      ]
    },
    {
      "cell_type": "markdown",
      "metadata": {
        "id": "yt7LxhJmOlqj"
      },
      "source": [
        "### Duplicate tweets\n",
        "\n",
        "14. Does the tweet text data include duplicates, i.e., same tweets that have multiple occurrences in the dataset?\n",
        "15. It is a bit suspicious that the dataset includes the same tweets several times. Can you think of a way to exclude those? Uniq man pages or instructions may help here.\n",
        "16. Direct the tweets that occur only once to a file of its own.\n",
        "17. How many tweets do you end up having here?"
      ]
    },
    {
      "cell_type": "code",
      "execution_count": null,
      "metadata": {
        "id": "iAeNCo7sOULu",
        "outputId": "032f5167-1a48-4924-c82e-e2b4b3fbd5f5",
        "colab": {
          "base_uri": "https://localhost:8080/"
        }
      },
      "outputs": [
        {
          "output_type": "stream",
          "name": "stdout",
          "text": [
            "  17347 NA\n",
            "    314 Zoolou M. Couillard Fill... it Up and Keep the Change Un bon cultivateur arrache les mauvais #polqc #JeSuisCharlie http://t.co/zBP6TwwqDp\n",
            "    314 Serpent Couillard Fill... it Up and Keep the Change Un bon cultivateur arrache les mauvaises hr #polqc #JeSuisCharlie http://t.co/zBP6TwwqDp\n",
            "    222 Islamophobia? Fear of Islam NOT irrational. Plenty evidence to support rational fear. #JeSuisJuif #JeSuisCharlie http://t.co/B1n0HBodgV\n",
            "    207 #Racism in #France #jesuischarlie | don't forget &amp; don''t ignore racism against&gt;#Roma #Sinti |http://t.co/mUdugQxref &amp;http://t.co/5yoVEzat9Z\n",
            "    186 #JeSuisCharlie South Korea is not a democratic country. http://t.co/H7H9QtJPr9 #BentonCity #Bingen\n",
            "    180 #JeSuisCharlie #SouthKorea is not a democratic country. http://t.co/u1eapam9uq #Brier #Buckley #Burien\n",
            "    149 #JeSuisCharlie #SouthKorea is not a democratic country. http://t.co/u1eapam9uq #Brewster #Bridgeport\n",
            "    147 #JeSuisCharlie South Korea is not a democratic country. http://t.co/H7H9QtJPr9 #BlackDiamond\n",
            "    141 #JeSuisCharlie #SouthKorea is not a democratic country. http://t.co/u1eapam9uq #Bothell #Bremerton\n",
            "    140 #JeSuisCharlie South Korea is not a democratic country. http://t.co/H7H9QtJPr9 #Blaine #BonneyLake\n",
            "    123 We added the hashlink http://t.co/TDWT7XofP6 to http://t.co/C2U7prv1dE. You can use it instead of #JeSuisCharlie, #CharlieHebdo In tweets!\n",
            "    121 \"@paulocoelho: I wonder where are the millions who tweeted #JeSuisCharlie . Why don't they tweet #IamMuath ?\"\n",
            "    115 Islam is 'Peaceful &amp; Moderate' if you can defend yourself. Islam is 'Violent &amp; Radical' if you are helpless. #JeSuisCharlie #PJNET\n",
            "     96 @JohnKerry - #JeSuisCharlie? But of Course!!! http://t.co/EdUkQLzLjw #TCOT #CCOT #PJNET\n",
            "     91 #Japan #Fukushima if #CharlieHebdo #JeSuisCharlie #France so called #Terrorism,made U shit your pants, think about #global radiation terror\n",
            "     89 The Peaceful Power of a Hashtag: #JeSuisCharlie http://t.co/Fcmt4N0hXe\n",
            "     83 while we have 24/7 talks about #CharlieHebdo #JeSuisCharlie #France&amp; #Terrorism,nobody talks about the real global terror #Japan #Fukushima|\n",
            "     82 #France #Roma R nation's only minority which can be openly discriminated against #jesuischarlie #CharlieHebdo http://t.co/aakNyaTtpf\n",
            "     79 world is concentrated on #CharlieHebdo #JeSuisCharlie #France religion #Vatican&amp;the likes,we R slowly killed by #Japan #Fukushima radiation\n"
          ]
        }
      ],
      "source": [
        "#14. Does the tweet text data include duplicates, i.e., same tweets that have multiple occurrences in the dataset?\n",
        "\n",
        "#frequency list counts the frequencies of duplicate lines, i.e. shows if the same tweets are repeated\n",
        "\n",
        "!  cat just_tweets.txt | sort | uniq -ci | sort -rn | head -20"
      ]
    },
    {
      "cell_type": "code",
      "execution_count": null,
      "metadata": {
        "colab": {
          "base_uri": "https://localhost:8080/"
        },
        "id": "HziZwjOZOyz8",
        "outputId": "bf4113c1-38c4-4c88-8b73-44f4f97a5764"
      },
      "outputs": [
        {
          "output_type": "stream",
          "name": "stdout",
          "text": [
            "$100 to tfirst @ColumbiaLaw student in #AmalClooney's lecture who posts a video/audio of one lecture. #JeSuisCharlie indeed. #GeorgeClooney\n",
            "$10k Muhammad Art &amp; Cartoon Contest 2B Held @ Site of 'Stand W/ the Prophet'... http://t.co/DafEa4HnVd #JeSuisCharlie #freespeech #tcot\n",
            "$10m gift to help house the neediest http://t.co/t8mKnBkETh #JeSuisCharlie\n",
            "$1K #REWARD http://t.co/i6KZlINOta http://t.co/8OJgTXywuM If people cant stand #JeSuisCharlie terrorism, how can we stand THIS terroris.\n",
            "$1K #REWARD http://t.co/ZW8gvbP2gC http://t.co/Sgh6TuSRa0 If people cant stand #JeSuisCharlie terrorism, how can we stand THIS terrorism?\n",
            "$600 USD for #CharlieHebdo magazine and 8 sold already on EBAY http://t.co/JJC1QSJv3U #JeSuisCharlie #Ebay\n",
            "$EBAY:US #JeSuisCharlie creator seeks copyright to protect slogan #EBAY INC http://t.co/2laU0xN6Qz #SP500\n",
            "$EBAY:US #JeSuisCharlie creator seeks copyright to protect slogan #EBAY INC http://t.co/6g1Yf0vamg #SP500\n",
            "$EBAY:US #JeSuisCharlie creator seeks copyright to protect slogan #EBAY INC http://t.co/cOML88g3gb #NASDAQ\n",
            "$EBAY:US #JeSuisCharlie creator seeks copyright to protect slogan #EBAY INC http://t.co/tOjUG0SZBa #NASDAQ\n"
          ]
        }
      ],
      "source": [
        "#15. Exclude duplicate lines\n",
        "\n",
        "#organize the lines alphabetically (duplicate lines are grouped together and organized successively):\n",
        "  #sort\n",
        "#filter successive duplicate lines, print only one of the duplicate lines:\n",
        "  #uniq -u\n",
        "\n",
        "! cat just_tweets.txt | sort | uniq -u | head"
      ]
    },
    {
      "cell_type": "code",
      "execution_count": null,
      "metadata": {
        "id": "F7HRD4GLTxzv",
        "outputId": "106ecf9e-21af-439f-9fb7-d8c5d0fd91dd",
        "colab": {
          "base_uri": "https://localhost:8080/"
        }
      },
      "outputs": [
        {
          "output_type": "stream",
          "name": "stdout",
          "text": [
            "203402\n"
          ]
        }
      ],
      "source": [
        "#Check how many lines are left\n",
        "\n",
        "! cat just_tweets.txt | sort | uniq -u | wc -l"
      ]
    },
    {
      "cell_type": "code",
      "execution_count": null,
      "metadata": {
        "id": "WmHD5aAxTiWU",
        "outputId": "42196f03-68e1-4cab-a1ac-65205159755e",
        "colab": {
          "base_uri": "https://localhost:8080/"
        }
      },
      "outputs": [
        {
          "output_type": "stream",
          "name": "stdout",
          "text": [
            "$EBAY:US #JeSuisCharlie creator seeks copyright to protect slogan #EBAY INC http://t.co/cOML88g3gb #NASDAQ\n",
            "$EBAY:US #JeSuisCharlie creator seeks copyright to protect slogan #EBAY INC http://t.co/tOjUG0SZBa #NASDAQ\n",
            "$EBAY:US #JeSuisCharlie creator seeks copyright to protect slogan #EBAY INC http://t.co/WcU760OFKL #NASDAQ\n",
            "1000+ Datas Leaked \\!/ @Nouveau_Centre https://t.co/U8Pt2BTbGC http://t.co/500jTiNAgb #OpFrance #op_france #JesuisCharlie #CharlieHebdo\n",
            "12 in France; hundreds/thousands in Nigeria. Responses reflect our biases/values. #CNNAfrica #NigerianLivesMatter #JeSuisCharlie\n",
            "12 white lives matter, but 2,000+ black lives don't. #NAACPBombing #JeSuisCharlie\n",
            "14/14 Just look, how all major traditional US press, practically, no report on \"Terrorist Bombing\" of @NAACP office cc #JeSuisCharlie\n",
            "15 Signs The #CharlieHebdo Attack Was A #FalseFlag http://t.co/BBgtoljYO2 #JeSuisCharlie #Israel #Syria #France #NATO #Palestine #Ukraine\n",
            "1 minute, 37 seconds of fear. Watch it. We dare you: https://t.co/anNAM2Q1LQ #islam #muslim #JeSuisCharlie\n",
            "2 weeks later. #JeSuisCharlie #CharlieHebdo http://t.co/t18NAwGcY1\n",
            "6 million #Muslims in France. SIX MILLION! Not a single Muslim in #Parliament. NOT ONE, NADA. #Paris #France #CharlieHebdo #JeSuisCharlie\n",
            "-9 ** Only #ISLAM country has BLASPHEMY LAW with DEATH PENALTY ** #JeSuisCharlie #US #France #EU\n",
            "@aamer_rahman You stupid idiot. #ParisMarch #FranceUnityMarch #CharlieHebdo #JeSuisCharlie http://t.co/0F7NAdjTRt\n",
            "@A_A_Rios ILLUMINATI MURDERED, ALL WAS SET UP.2ARMANIANS SURVIVED IN OFFICE?!!! #JeSuisCharlie #JeSuisKouachi http://t.co/NJ6Y99Ezmr\n",
            "AC hookers is teaching me the game #achookers #NBAonTNT #JeSuisCharlie #CONAN\n",
            "Admissions desk at the Picasso museum #jesuischarlie http://t.co/3baqENAlu3\n",
            "@afneil Very good-at least after REINCARNATION,he may choose to become a pious #Christian or #JeSuisCharlie\n",
            "\"@AFPphoto: #JeSuisCharlie tribute to #CharlieHebdo at #AFP news room in Paris http://t.co/tZaNAVAcHi\"\n",
            "#AIPAC'S JOURNALISTIC #CNN COWARDS #JeSuisCharlie Typical that #Netanyahu's employees at @CNNPolitics refuse to show cover of #CharlieHebdo\n",
            "@AJEmpire @ChrisLynnHedges \"Am I an \"extremist\"?\" http://t.co/CpuvPnveGu . #JeSuisCharlie #DepletedUranium http://t.co/lFZLEO5OoH . #NATO\n",
            "Alain Mabanckou speaks at the #PENAmerican Gala on May 5, 2015 in New York City. http://t.co/AFWbvQ3rXq #JeSuisCharlie\n",
            "All that #JeSuisCharlie merchandise: Does it raise awareness or just profit off tragedy? http://t.co/5xwT0u4OJy http://t.co/kyq6NAqUx1\n",
            "Al Qaeda in Yemen claims responsibility for Paris attack http://t.co/xhn8KpDlQp #JeSuisCharlie #MSNAU\n",
            "Also so humbling to see so so much of this graffiti en route to #paris #JeSuisCharlie http://t.co/0AxELNA4tY\n",
            "\"Am I an \"extremist\"?\" http://t.co/CpuvPnveGu #JeSuisCharlie #DepletedUranium http://t.co/lFZLEO5OoH #CharlieHebdo #NATO\n",
            "A month since the DiSGUSTiNG &amp; HORRiBLE #ParisAttacks WE will NEVER 4get RELiGiOUS tyranny silencing ppl is UNACCEPTABLE #JeSuisCharlie\n",
            "...And will always be. #JoLetters // #jesuischarlie http://t.co/2NAHxiHZK7\n",
            "Angouleme 2015 -- POST IN PROGRESS: WILL BE UPDATING THIS POST AND ADDING ADDITIONAL FRANCE POS... http://t.co/3ilG2h26qn #JeSuisCharlie\n",
            "Ann Curry FINALLY Leaves NBC For Good! On To Bigger Things? Find Out!: It's been almost three y... http://t.co/J5qp9YcTGN #JeSuisCharlie\n",
            "Anne Hathaway takes NYC stroll with husband Adam Shulman before opening night of her one-woman ... http://t.co/HiA7PNAOOS #JeSuisCharlie\n",
            "ANOTHER ATTACK ON MEDIA HOUSES IN EUROPE?!WHY ARE WE TOLERATING THIS #CharlieHebdo ?CONDEMNATION ISNT ENOUGH..WIPE OUT ISLAM.#JeSuisCharlie\n",
            "Another image to include in the series \"Liberty leading the people\" Y/day in Paris #CharlieHebdo #JeSuisCharlie http://t.co/NAv19d3MOB\n",
            "\"ANY all powerful God that requires ANY 'human' interaction of killing IN THEIR NAME, must be one very WEAK God indeed.\" #JeSuisCharlie\n",
            "Apparently \"only\" 24% of muslims excusing violence = most are moderates! #smfh #JeSuisCharlie http://t.co/9cBITNAA2F http://t.co/2H8a1dqGnC\n",
            "\"Arafel\": Editorial Balance (re: Syria and the use of W.M.Ds... http://t.co/pn22mbmi7E #JeSuisCharlie #CharlieHebdo #NATO\n",
            "\"Arafel\": \"\"Strange and Horrific Wounds\" http://t.co/adHQUnSjFC #JeSuisCharlie #CharlieHebdo #NATO\n",
            "\"Arafel\": \"The Omerta's Deceivers\" http://t.co/mJnyJcm8Ns #JeSuisCharlie #CharlieHebdo #NATO\n",
            "a reminder for #peace (in light of recent horrible acts #NAACPBombing #JeSuisCharlie) http://t.co/3yTOqXyPaw\n",
            "Argentine prosecutor shot #pointblank in forehead: murder by CRISTINA http://t.co/RcsquL45KU via @YahooNews #jesuisCharlie #JesuisNisman\n",
            "#Astronomy #NASA truth in the #Quran The Sky will be Cleft Asunder #WhoIsMohammed #MakeHistoryCute #JeSuisCharlie http://t.co/w8wknmQv6X\n",
            "A suicide bomber is religiously unacceptable regardless of thefaith of those in thecrowd http://t.co/pmbNEXemXS #JeSuisCharlie #NAACPBombing\n",
            "AS WELL AS THE DANISH PEOPLE KNEW HOW TO FIGHT NAZISM YESTERDAY, WILL ALSO FIGHT NEW NAZISM TODAY! #JeSuisCharlie http://t.co/V0xBCeuzqy\n",
            "@AutumnNAlston Well of course mainly white men died in Paris terror attack not Black people. #Ferguson #BlackLivesMatter #JeSuisCharlie\n",
            "@BecketAdams @MOOSEMANAHAN Hitchens said it best: https://t.co/vI9R4qlnTS #JeSuisCharlie\n",
            "@benshapiro @LilianaRose001 .@CAIRNational .@ISNAHQ Truth will not be censored in America for the benefit of Muslims #JeSuisCharlie\n",
            "#BIENAVANT #jesuischarlie The Coasters - #Charlie Brown: http://t.co/U1y0z8xqTp via @YouTube #Découvrir\n",
            "Black African lives do not matter. Convince me otherwise! #BokoHaram #ParisAttacks #CharlieHebdo #INTERNATIONALNEWSUPDATE #JeSuisCharlie\n",
            "BookBurning NAZI 1933 - ISIS 2015 http://t.co/jDM2RiG28k #mosul #JeSuisCharlie\n",
            "#BotCharlie : #fail solidaire #JeSuisCharlie #CharlieHebdo http://t.co/t1MWkcJv5k /Audeladupixel http://t.co/NAyLZJZ0K3\n",
            "#BREAKING: Paris cops respond to a new shooting amid reports a man entered a store with a Kalashnikov #HNNTerror #HNNAfrica #JesuisCharlie\n",
            "BROTHER NATHANEL Did Mossad Do Charlie Hebdo? https://t.co/SEzLG67uI3 #JeSuisCharlie http://t.co/srGR83zkRV\n",
            "\"bunch of clowns\" by Iran graffiti artist NAFIR on #ParisMarch #JeSuisCharlie http://t.co/dbCEqgRaIw\n",
            "#CANADA #CharlieHedbo #JeSuisCharlie Lise Ravary:For #Quebec,what happened in Paris is personal http://t.co/1PBra5l9CT #BabyBoomers memories\n",
            "Cartoonists Around the World Respond to #JeSuisCharlie - http://t.co/96QQIaUYyY http://t.co/meQFqHNA0i\n",
            "Cartoonists Around the World Respond to #JeSuisCharlie http://t.co/IQWyKi06nP http://t.co/aDuScNA4Wp\n",
            "Cartoonists Around the World Respond to #JeSuisCharlie http://t.co/JGAexhjDqT http://t.co/GLCCt9M2NA\n",
            "Cartoonists Around the World Respond to #JeSuisCharlie - http://t.co/kGFfMMu7tJ http://t.co/1niuuJjqNA\n",
            "Cartoonists Around the World Respond to #JeSuisCharlie http://t.co/Kr0qNVNAlH http://t.co/3zvIWl27yw\n",
            "Cartoonists Around the World Respond to #JeSuisCharlie http://t.co/Kr0qNVNAlH http://t.co/fpPdoglret\n",
            "Cartoonists Around the World Respond to #JeSuisCharlie http://t.co/Kr0qNVNAlH http://t.co/I1SNT0tGvg\n",
            "Cartoonists Around the World Respond to #JeSuisCharlie http://t.co/Kr0qNVNAlH http://t.co/oN4Eo0GDN6\n",
            "Cartoonists Around the World Respond to #JeSuisCharlie http://t.co/oXNAF4fygy http://t.co/1U2Guyu0cd\n",
            "Cartoonists Around the World Respond to #JeSuisCharlie http://t.co/oXNAF4fygy http://t.co/FTbyyg3swB\n",
            "Cartoonists Around the World Respond to #JeSuisCharlie http://t.co/oXNAF4fygy http://t.co/i9AYoL0AQL\n",
            "Cartoonists Around the World Respond to #JeSuisCharlie http://t.co/oXNAF4fygy http://t.co/tRl0Cwctr1\n",
            "Cartoonists Around the World Respond to #JeSuisCharlie http://t.co/oXNAF4fygy http://t.co/xVAauRYW9T\n",
            "Cartoonists Around the World Respond to #JeSuisCharlie http://t.co/Pehrc8IyHs http://t.co/ylyNAszrb5\n",
            "Cartoonists Around the World Respond to #JeSuisCharlie - http://t.co/T963aASPVv http://t.co/0ZYM2NASDF\n",
            "Catch these fuckheads and check out my site http://t.co/c8lL8LZFNA #JeSuisCharlie\n",
            "Catherine_CNA: Fifi_Borgia BBCBreaking All of that pale's in comparison to a drawing. #CharlieHebdo - Je Suis Charlie #JeSuisCharlie #Hom...\n",
            "Cavna: #JeSuisCharlie: Cartoonists react to the Charlie Hebdo massacre in Paris http://t.co/XNAIwcF4Q6\n",
            "CBN TV - 'Islamization' of Paris a Warning to the West http://t.co/PHiNA1Eut5 via @CBNProducers #CharlieHebdo #JeSuisCharlie #Pegida #svpol\n",
            "CCharlie Hebdo mocks Muhammad, #JeSuisCharlie on comeback cover. http://t.co/TAYZU0jvzY | http://t.co/r8Ab9NAFt8 #news\n",
            "CELEBRITIES INFLUENCE ON YOUNG PEOPLE: BY MARIANA MÁRQUEZ #BTO2B Nowadays, we live in a world w... http://t.co/K3w5mXlmZZ #JeSuisCharlie\n",
            "Celtic sign Gary Makay-Steven on a pre-contact http://t.co/uGaUGOyPNA #JeSuisCharlie\n",
            "#CENTCOM #CentcomHack #dollar_is_napkin #JeSuisCharlie first 12 hours of dollar collapse http://t.co/IosNAmLv8W\n",
            "Charb &lt;3 #JeSuisCharlie http://t.co/NAox7gVIOR\n",
            "Charlie Hebdo editor blasts magazine's critics from grave: Many of those intellectuals joined m... http://t.co/6NAzissXSV #JeSuisCharlie\n",
            "#CharlieHebdo 'Magazine Murders' Evidence of #Gladio Staging http://t.co/6SpjDSq3XP #news #ParisShooting #JeSuisCharlie @ZenGardner1 @NATO\n",
            "Charlie Hebdo new Muhammed issue is out #JeSuisCharlie #ChalieHebdo #JeSuisAhmed http://t.co/b9xNAIOlB5\n",
            "#CharlieHebdo Paris Shooting #JesuisCharlie #Blasphemer AI Nephilim Strike ^#Falseflag http://t.co/NNAIIVAt3m #Israel #ISIS #SYRIA #GAZA\n",
            "#CharlieHebdo #ParisShooting #JeSuisCharlie #PeoplesChoiceAwards #NAACPBombing PIO and OCI Muslims Big Brother Islamic Andy Townsend\n",
            "#CharlieHebdo #ParisShooting #NAACPBombing #bbcqt #JeSuisCharlie Boxer Muslims 2024 Olympics http://t.co/7v1gxbQu78 via @YouTube\n",
            "#CharlieHebdo Prints 3 Million #Muhammad #Cartoons SEE THE #COVER NOW &gt;&gt; http://t.co/pbTsUO0c4A #JESUISCHARLIE #NOTINMYNAME\n",
            "Check out #CHARLIE #HEBDO \"14 #GENNAIO #2015\" NUMERO #SPECIALE #TOUT #EST #PARDONNE 1178 http://t.co/5gntQh2VdR @eBay #jesuischarlie\n",
            "Check out #CHARLIE #HEBDO \"14 GENNAIO 2015\" NUMERO SPECIALE #TOUT #EST #PARDONNE 1178 http://t.co/8qr9IGHZSv @ebay #jesuischarlie\n",
            "Check out #CHARLIE #HEBDO \"14 #GENNAIO #2015\" NUMERO #SPECIALE #TOUT #EST #PARDONNE 1178 http://t.co/sYh48jdhEX @eBay #jesuischarlie /@Mf.\n",
            "Check out the best pics of the week on @MSNAustralia #JeSuisCharlie #AirAsia #CES #AUSvIND http://t.co/rtwaoiPcwb http://t.co/0YtE80CuE2\n",
            "CHINA DISGUSTING #StopYuLinFest http://t.co/vUzSHqEzca If we cant stand #JeSuisCharlie terrorism how can we stand THIS terrorism? #IAmAnimal\n",
            "CHINA = SHAME #StopYuLinFest http://t.co/4EoLc2k1I5 If we cant stand #JeSuisCharlie terrorism, how can we stand THIS terrorism? #IAmAnimal\n",
            "Chomsky: #ParisAttacks show hypocrisy of West's outrage http://t.co/BtT92vVbdr #CharlieHebdo #FreedomOfSpeech \"#JeSuisCharlie\" #NATO #USA\n",
            "Chris Hedges on Roots of Terrorism, Free Speech Hypocrisy &amp; Translating #JeSuisCharlie http://t.co/Y5uNAmoyWZ\n",
            "CHRISTIAN EXTERMINATION IN MID EAST. ALL CHRISTIANS MUST RISE UP MUST VOTE EVERY TIME FOR CHRISTIANITY'S SURVIVAL AT ALL COST #JeSuisCharlie\n",
            "@Cmdr_Hadfield @NASA no more space exploration, let's please focus on terror and defense! #JeSuisCharlie We need funding for protection\n",
            "CNN: #Chomsky: Paris attacks show #hypocrisy of West's outrage http://t.co/dCuNmZEU1N #rts #JeSuisCharlie #Serbia @NATO bombing '99\n",
            "@cnnireport @ZuneraSerena DOES THIS MUSLIM GIRL STILL HAVE A CLITORIS? THEN I WOULD DO HER. OTHERWISE I'D DO HER ANAL! #JESUISCHARLIE\n",
            "Coin ! chigobiker: #JeSuisCharlie #NotInMyName #killallmuslims #IslamicState #Muslims #Iraqi Forces Take Northern . http://t.co/pQq6zNAreV\n",
            "Coin ! : @chigobiker: #NotInMyName #Islam #islamnoncoupable #iamcharlie #CharlieHebdo #JeSuisCharlie http://t.co/3D4LNAp218...\n",
            "Coin ! chigobiker: #NotInMyName #Islam #islamnoncoupable #JeSuisCharlie NATO Beefs Up Response Military To Face Ru. http://t.co/rvhuBujrS7;\n",
            "Coin ! LeCoinCanard: Coin ! chigobiker: #NotInMyName #Islam #islamnoncoupable #JeSuisCharlie NATO Beefs Up Respons. http://t.co/rvhuBujrS7 ;\n",
            "Coin ! LeCoinCanard: Coin ! LeCoinCanard: Coin ! chigobiker: #NotInMyName #Islam #islamnoncoupable #JeSuisCharlie NATO Beefs Up Respons. .\n",
            "Colorado NAACP office bombing story is getting lost in the media. #BlackLivesMatter #JeSuisCharlie http://t.co/gJUQt8vf6Y\n",
            "Conan's Statement On The Charlie Hebdo Tragedy - CONAN on TBS: http://t.co/W0gb4ytjvV via @YouTube #JeSuisCharlie\n",
            "counterpunch, The Ambiguity of Charlie Hebdo - France Under the Influence. by DIANA JOHNSTONE http://t.co/ZUPxCIorTm #JeSuisCharlie\n",
            "CRAZY CHINA UGLY SHAME HELL http://t.co/RaFDyW8Usa If we cant stand #JeSuisCharlie terrorism, how can we stand THIS terrorism? #IAmAnimal\n",
            "CRIMINAL &gt; TURNED HIS BACK ON OUR ALLIES AFTER 911 #JesuisCharlie &lt; Obama Sends No One to Paris Rally - http://t.co/QBnoVG6vLs\n",
            "Dark day for SA!! #cellphonejamming #SONA2015 What next for our democracy? #JesuisCharlie!! Freedom of speech under attack.\n",
            "#DBENEWS #CharlieHebdo #receives #PENAward at #LiteraryGala in #NYC - #NewYork #NY #USA #JeSuisCharlie http://t.co/THqmfg2y45 #DBEMG #News\n",
            "\"@dcagle: Nice Rick McKee #CharlieHebdo cartoon from our http://t.co/2ViElmgtu7 #JeSuisCharlie #Sony #sonyhack http://t.co/NAtSmf54zV\"\n",
            "Designing tool, lethal impact: a \"Cralachnikov\" by @ludovicroth #ARRO studio #jesuischarlie http://t.co/hdHXNAk5AG http://t.co/oAA2sB3sLa\n",
            "Did WWII NAZIs have free speech rights? Islamophobia in Holland: Nazi Germany and the Jews revisited http://t.co/0Zxgw7Nf1v #JeSuisCharlie\n",
            "#DNACode13 : 500 #France WebSite Hacked By #AnonGhost #OpFrance #JesuisCharlie #CharlieH... http://t.co/Xxjo3NGlYQ http://t.co/RIy28xOGqn\n",
            "Does #freedomofspeech prevent being responsible? No. My thoughts following #CharlieHebdo attack #JeSuisCharlie https://t.co/9NAuDlyL98\n",
            "Does this large protest mean EUro will be giving NATO more support #JesuisCharlie\n",
            "double agent #Spy working 4 both #ISIL &amp; #Qatar #NATO not aware of its allied action #vicenews #JeSuisCharlie #news http://t.co/h2XaXarva8\n",
            "Double agent #Spy working 4 both #ISIL &amp; #Qatar #NATO not aware of its allied action #vicenews #JeSuisCharlie #news http://t.co/wZQyBQXCXJ.\n",
            "Drawing racist caricatures is def on the list of things I'd stop doing if ppl said WE R GONNA FUCKING KILL YOU #jesuischarlie\n",
            "Eagles - Hotel #charlieHebdo (Lyrics): http://t.co/NAtamjoha0 via @YouTube #jesuisCharlie Hotel California\n",
            "EDLOL Zio-NAZIS Spreading Hate and Fear for their Zio-Masters in #Israel! #CharlieHebdo #JeSuisCharlie http://t.co/rZU8yqrkhi\n",
            "Elite G&amp;M readers don't get satire, post #JeSuisCharlie . As Gable himself might say, 'wither editorial cartoons?' http://t.co/xNApdZodK0\n",
            "#ElPaso #JeSuisCharlie #NAACPBombing The fundamentalist right must be shown for what it is - morally corrupt.\n",
            "Epic subject for journos and humans alike! #Jesuischarlie #iamcharlie #freedomofthepress #teesside @i100http://i100.io/0OQNALM\n",
            "\"@EsotericCD: Member of #NATO folks: http://t.co/urniAE4m2X. http://t.co/qOhJJYXQt3\" #Turkey #JeSuisJuif #JeSuisCharlie\n",
            "@EugeneSIBOMANA @MandGAfrica It's the usual \"EuroCentrism\".A lot of events \"#jesuischarlie\" - nobody said anything about victims in #Nigeria\n",
            "European leaders to show solidarity at Paris attacks rally this weekend ##JeSuisCharlie. #UnitedAgainstTerror http://t.co/WxVvNA1x4x\n",
            "@falloutboy is trending but guess what isn't? #JeSuisCharlie #NAACPBombing #BlackLivesMatter\n",
            "Fanaticism is a monster that pretends to be the child of religion. - Voltaire #JeSuisCharlie http://t.co/tzSNAZCFNs\n",
            "@FedericaMog @CharlieFlanagan We are not your #NATO terrorist lapdogs -we are a neutral country. Rem: SerbTV journalists? #JeSuisCharlie\n",
            "FINALLY! Our #blog is #LIVE Please visit to #checkout our #first #post #expressLUC #JeSuisLuc #JeSuisCharlie #Paris http://t.co/kgKXX34naR\n",
            "FINALLY !!!! #Spirou #JesuisCharlie @EditionsDupuis http://t.co/SrGdeEvm0N\n",
            "For those who see religious extremism as a muslim phenomenon have a look at these 'holy' warrior ... #JeSuisCharlie http://t.co/KDTtXwNAGq\n",
            "France Dishonors Charlie Hebdo By Policing Hate Speech: \"Je Suis Charlie,\" crowed every French ... http://t.co/XfhNAucqTA #JeSuisCharlie\n",
            "France wants to fight terrorism by spying on everyone http://t.co/ArKmMHlkFu via @verge #JeSuisCharlie so get a VPN @ http://t.co/NABKL6h2uB\n",
            "FREEDOM #ELLE #JeSuisCharlie #Peace #Freedom #ExpressYourself #Art #Instagram #Valencia http://t.co/zuNAFaxAqR\n",
            "Freedom Rider: Charlie Hebdo: \"Je Suis White People\" http://t.co/rkoLZp95bD #JeSuisCharlie #NATO #Syria #Iraq #WesternValues #hypocrisy\n",
            "Free speech? Can \"we\" discuss how Israel kills journalists on the regular. Or NAAAH? http://t.co/EVP9O2BQUr #JeSuisCharlie #CharlieHebdo\n",
            "@fromTGA 'Turkish cartoonists .. know well what intimidation and censorship means'. Read the article, T our NATO partner #JeSuisCharlie\n",
            "@fromTGA 'Turkish cartoonists .. know well what intimidation and censorship means'. Read the article, T our NATO partner #JeSuisCharlie /@p.\n",
            "#gameinsight #CentcomHack #dollar_is_napkin #JeSuisCharlie first 12 hours of dollar collapse http://t.co/IosNAmLv8W\n",
            "Get-Smart Sunday: Boko Haram in Nigeria, #JeSuisCharlie, NATO-Russia fun: all in @fpinterrupted's weekly digest http://t.co/nEJ7ImXlGR\n",
            "Good explanation of the laws and customs that curtail freedom of expression in France #JeSuisCharlie http://t.co/AfdlVNAySR\n",
            "Got this as it's important to have #jesuischarlie http://t.co/xQ8zzNAlWZ\n",
            "Great piece on why \"I am not Charlie Hebdo\" | CANADALAND #JeSuisCharlie #cdnpoli #terror http://t.co/65BdDVj5jn\n",
            "#GunControl assures only CRIMINALS have GUNS! #ParisAttacks #JeSuisCharlie\n",
            "Hacker: #JeSuisCharlie Being Used by Hackers To Spread Malware http://t.co/jJcNAdVNwy\n",
            "Hair - Let the Sunshine In: http://t.co/JegajuJ7To @YouTube 911 #surveillance #JeSuisCharlie NEED BE NAMED &amp; TREATED AS GENOCIDAL WAR CRIMES\n",
            "#Hashtag Round-Up - #NAACPBombing &amp; #JeSuisCharlie http://t.co/FSCjm4AZ5z #socialmedia #socialmediabuzz\n",
            "Hashtag Round-Up - #NAACPBombing &amp; #JeSuisCharlie http://t.co/tXe6us5XMN\n",
            "Hashtag Round-Up - #NAACPBombing &amp; #JeSuisCharlie http://t.co/UL7c1Qy1E2 http://t.co/2zrk5m90oH\n",
            ".@hateroflibturd1 @NA_NorthWest Here is my comment on #jesuischarlie: http://t.co/s1VsB6jmw9\n",
            "Have you heard '17 - Busta K' by NAAS PRODUCTION on #SoundCloud? https://t.co/3jOxxuKrDe #JesuisCharlie\n",
            "Health Milestone: HIV Successfully 'Eradicated' By Scientists On Human Cell DNA: submitted by ... http://t.co/sdMVIVJQq5 #JeSuisCharlie\n",
            "Hear @JOANNAGRUESOME's new song \"Last Year\": http://t.co/hSllxKw1XF #JeSuisCharlie\n",
            "Helen Mirren makes a statement on the #GoldenGlobes red carpet. #JeSuisCharlie. Photo vi... http://t.co/RJrDFvstpQ http://t.co/oFQOMKOJNA\n",
            "Here is the link 2sign UNITED NATIONS PETITION you will have to type it in. It's so important. #JeSuisCharlie #Yemen http://t.co/1EzBAgyLNS\n",
            "Hey...where is everybody???... Kerry headed to #UnityRally #JeSuisCharlie #LeadingFromBehind #WeNeedAdultsInTheWH http://t.co/NA92DJdxV5\n",
            "Hey, you know how to reassure our NATO allies-show up at their protests against terrorism #JeSuisCharlie\n",
            "HISTORICAL COVERS http://t.co/YUD0NAe2q9 #CharlieHebdo #CharlieHebdocovers #jesuischarlie #charliehebdojanuary2015 http://t.co/n72rE9cWXL\n",
            "Hommage au NASDAQ de New York #jesuischarlie #charliehebdo http://t.co/fRe3NkzypM\n",
            "How the current generation will be at age 85 http://t.co/NAH4tXVYIL #JeSuisCharlie\n",
            "How to ID #Boumeddiene &amp; #Coulibaly fm #Bathily 3 #Muslims&gt;Pair were Nice/Courteous/No problem/Killers #JeSuisCharlie http://t.co/0zNAA1VPnT\n",
            "@HSNCML ILLUMINATI MURDERED TO BRING ORDER FROM CHAOS FOR NEW ROMAN PAGANIST WORLD ORDER http://t.co/hvDBJwy9SD #JeSuisCharlie\n",
            "https://t.co/Q0ourvVfsH http://t.co/t2Njv1OCNA If people cant stand #JeSuisCharlie #terrorism, how can we stand THIS terrorism? #IAmAnimal\n",
            "http://t.co/aLnAwsNAxM @BotCharlie is a fake bent on racism. Allahu akbar means God is greater. Stop twisting the truth #JeSuisCharlie\n",
            "http://t.co/EPXNA97Q88 AFDI Inaugural Muhammad Cartoon Exhibit and $10,000 Contest #JeSuisCharlie #QLDpol\n",
            "I am sad about the #ParisShooting #JeSuisCharlie #CharlieHebdo But why is no one talking about the #NAACPBombing\n",
            "I can't watch the news anymore. #JeSuisCharlie #CharlieHebdo #NAACPBombing #TooMuchBadNews\n",
            "I CURSE YOU SHOUAKI BROTHERS! GIVING ISLAM A BAD NAME. #JeSuisCharlie\n",
            "If the \"goodies\" aren't on their peers's side, who do we look to for help, strength and courage? #JeSuisCharlie http://t.co/aNATN93hTN\n",
            "If you live in the U.S., you don't condemn terrorism if you don't also condemn racism. #NAACPBombing #JeSuisCharlie\n",
            "IF YOU REINSTALL NOTEPAD++ IT NARRATES TO YOU @Notepad_plus #JeSuisCharlie #FreedomofExpression\n",
            "If you support #CharlieHebdo then #BoycottAlJazeera! #JeSuisCharlie http://t.co/2FFfNAyS4f http://t.co/1CwmDhwSFg\n",
            "I guess this is all in spirit of #JeSuisCharlie LOL! \"City of #Paris aims to sue #FoxNews over 'no-go areas' remark\". http://t.co/YFFNA8TGm9\n",
            "I liked a @YouTube video from @phillyd http://t.co/TwLsNANtgF Do France's Facebook Post Arrests Taint #JeSuisCharlie?\n",
            "I liked a @YouTube video http://t.co/NAsT5gw6OU #JeSuisCharlie - JB Bullet\n",
            "I LOVE #FreedomOfSpeech Smoke a joint and chill out! #cdnpoli #pnpcbc #CharlieHebdo #JeSuisCharlie #ISIS #Darwin #DNA http://t.co/6cBmJKjZNW\n",
            "Image from https://t.co/Ax8LBC1V1J. #Jesuischarlie http://t.co/HpeQNAouCj\n",
            "IMGP9415(CFX): Mat W posted a photo: http://t.co/VNAO3sHDFX #JeSuisCharlie\n",
            "In South Asia, say #JeSuisCharlie at your own risk http://t.co/0YwvNAcUlr #RadicalIslam is very widespread in that part of the World\n",
            "IN THE NAME OF THE CRAPPY RELIGION OF PEACE, MUSLIMS SHOOT 3 COPS IN COPENHAGEN. http://t.co/M0LIjGcNlc #JeSuisCharlie #CharlieHebdo #UKIP\n",
            "Irish White Nationalists Highlight Media Cowardice in Latest Dublin Truthgrafs #JeSuisCharlie #JewishPrivilege http://t.co/YLriCtNAOE\n",
            "Is ABOUT TIME to DISCRIMINATE MUSLIMS that KILL for their ILLUSORY God and SECOND-BANANA women, girls #JeSuisCharlie http://t.co/p2r2JcPmA9\n",
            "I say this not in jest. Donate their bodies to necrophiliacs. #jesuischarlie http://t.co/7UNAkypyDp\n",
            "ISRAEL'S JOURNALISTIC COWARDS #JeSuisCharlie Typical that #Netanyahu's shills at #AIPAC'S @_CNN_Today refuse to show cover of #CharlieHebdo\n",
            "ISRAEL'S PUPPET ASSAD BEHIND THE #PARISSHOOTING #JESUISCHARLIE KILL' AS NOT HIS FIRST ASSASSINATION NOR BOMB'. MURDERS R 2 GROW ANTI-ISLAMS\n",
            "IS THERE A CRACK IN THE ILLUMINATI SYSTEM HERE? #BBC QUESTIONS MEDIA COVERAGE OF THE #JESUISCHARLIE... http://t.co/mhzmF5ZvQj\n",
            "I think we finally found Abu Bakr al-Baghdadi's skull, sir. DNA will confirm. #JeSuisCharlie #CharlieHebdo #ISIS http://t.co/BYvBSDi5ls\n",
            "It took almost two years but I accomplished something I once thought impossible http://t.co/IO9fWANA2K #JeSuisCharlie\n",
            "\"It wasn't the [cover] that the world wanted us to do, or the terrorists, but it was ours.\" #JeSuisCharlie http://t.co/VQQ8NADCSu\n",
            "#JaneHorganJones has blocked me too..#Labour I thank you. My work here is done... #JeSuisCharlie #FreedomOfExpression http://t.co/JfDqNAtr5j\n",
            "#Japan's #Muslims rap Charlie cover but condemn #Paris attack http://t.co/NAUW21DoMl via @japantimes #JeSuisCharlie #CharlieHebdo\n",
            "Je Ne Suis Pas Charlie: I Am Mohammad: TEHRAN (FNA)- Those who utter the meme \"I Am Charlie\" ar... http://t.co/SQZvrVPTLE #JeSuisCharlie\n",
            "Jennifer Aniston Is Taking Her Oscar Nomination Snub In Stride As She Reveals Her Next Move! Sh... http://t.co/4O2nFGFNAM #JeSuisCharlie\n",
            "#JesuisCharlie and I am #notafraid http://t.co/x46CONA3zh\n",
            "#JeSuisCharlie and the Day After http://t.co/dqOVQlQUab #SocialMedia | https://t.co/MNjBmz9Qky http://t.co/1ykmdXaNSv /@SocialMediaNAUC\n",
            "#JeSuisCharlie and the Day After http://t.co/dqOVQlQUab #SocialMedia | https://t.co/MNjBmz9Qky http://t.co/EJ1kxIGFPF /@SocialMediaNAUC\n",
            "#JeSuisCharlie and the Day After http://t.co/dqOVQlQUab #SocialMedia | https://t.co/MNjBmz9Qky http://t.co/Sb4vfCd3yW /@SocialMediaNAUC\n",
            "#JeSuisCharlie and the Day After http://t.co/dqOVQlQUab #SocialMedia | https://t.co/MNjBmz9Qky http://t.co/zZuGjORMyI /@SocialMediaNAUC\n",
            "#JeSuisCharlie and the Day After http://t.co/dqOVQlQUab #SocialMedia | https://t.co/MNjBmz9Qky /@SocialMediaNAUC\n",
            "#jesuischarlie #Canada #Australia #Pegida ....... ANTIFA ANARCHY MONARCHY ARE PUPPETS OF THE ELITES http://t.co/V5PkrSZjxk\n",
            "#jesuischarlie #Canada #Australia #Pegida ........ DON'T TRUST THE ELITES LACKEYS ANTIFA AND ANARCHIST OR MONARCHIST http://t.co/pm3WhM85js\n",
            "#JeSuisCharlie - Cartoonists around the world respond http://t.co/LNAUe4qMxo via @cipbtro http://t.co/P5RYyIMgcJ\n",
            "#JeSuisCharlie #CharlieHebdo ISIS evil on par with NAZI genocide regime. http://t.co/a8WztNl509\n",
            "#JeSuisCharlie #CharlieHebdo #ISIS ISIS ARE CRIMINAL EXTREMISTS, NOT ISLAM http://t.co/u1vqrgNdfd http://t.co/Jj3rXTI9U7\n",
            "#JeSuisCharlie Conan's Statement On The Charlie Hebdo Tragedy - CONAN on TBS: http://t.co/lTsyrdiedi via @YouTube\n",
            "#JeSuisCharlie creator @joachimroncin says There's No #Branding a Symbol of Free Speech http://t.co/hNAAlvsKnx http://t.co/DQWKCa2XAY\n",
            "#JeSuisCharlie creator seeks to shield slogan from money-makers http://t.co/V6UpJNAAhx\n",
            "#JeSuisCharlie creator seeks to use copyright to protect slogan http://t.co/v1mYbNAjzn\n",
            "#JeSuisCharlie (dans jurassic world :,3) http://t.co/eNABqNLQJW\n",
            "#JeSuisCharlie DAVOS! FAT BILLIONAIRE JEWS SIT ON THEIR LARD-ASSES &amp; GLOAT! This fall they'll be in pigs' bellies on their way home to Hell!\n",
            "#JESUISCHARLIE EUROPEANS FREEZE &amp; STARVE IN THEIR OWN HOMELAND cuz fat foreign KIKE MILLIONAIRES want to be fat foreign KIKE BILLIONAIRES!\n",
            "#JeSuisCharlie FARCE COS #jewishcommunity TERRIFED AFTER 30 YEARS OF RAPING ROBBING MURDERING US ROUND THE CLOCK THAT GONNABE BIGGEST REVOLT\n",
            "#JESUISCHARLIE FAT JEW MILLIONAIRES IN EUROPE BECOME FAT JEW BILLIONAIRES IN EUROPE as EUROPEANS starve in their own Homeland! JUDEN RAUS!\n",
            "#JeSuisCharlie FILTHY STINKING BILLIONAIRE KIKES FEAR ATTACKS FROM \"SHITTY CATTLE\"! Fear us, SHIT-KIKES! we WILL kill you all! KILL KIK...\n",
            "#JeSuisCharlie FILTHY STINKING BILLIONAIRE KIKES FEAR ATTACKS FROM \"SHITTY CATTLE\"! Fear us, SHIT-KIKES! we WILL kill you all! KILL KIKES!\n",
            "#JeSuisCharlie? Freedom of Expression at Risk - public event, Thurs 4 June, 7pm @CrescentArts https://t.co/JSc3cp9f5x http://t.co/fBIAeYNAdL\n",
            "#jesuischarlie Freedom of speech should not be shot down por roger_rk http://t.co/PiVrvCdSei http://t.co/FU32SHWJNA\n",
            "#JeSuisCharlie GREECE! SO, FINALLY, JEW SOVIET EUROPE GOT A GOVT THAT DOESN'T HAVE - OR WANT! - A JEW COCK UP ITS BUTT! And it's about ti...\n",
            "#JeSuisCharlie GREECE! SO, FINALLY, JEW SOVIET EUROPE GOT A GOVT THAT DOESN'T HAVE - OR WANT! - A JEW COCK UP ITS BUTT! And it's about time!\n",
            "#JeSuisCharlie GREECE! SO, FINALLY, JEW SOVIET EUROPE HAS A GOVT. THAT DOESN'T HAVE - OR WANT - A JEW COCK UP ITS BUTT! It's about time!\n",
            "#Jesuischarlie -http://t.co/0H5J3jK9OX Hebdo 1178 ** ORIGINAL FRENCH VERSION **Newspaper FREE SHIPPING http://t.co/fOsjY9zrQj\n",
            "#Jesuischarlie -http://t.co/0HeKEwD57W Hebdo N°1778 REAL PAPER EDITION &amp; FREE INTERNATIONAL SHIPPING http://t.co/bwqAczSDR6\n",
            "#Jesuischarlie -http://t.co/0HeKEwD57W Hebdo N°1778 REAL PAPER EDITION &amp; FREE INTERNATIONAL SHIPPING http://t.co/xS21ipjQWq\n",
            "#Jesuischarlie -http://t.co/0l2DWE8cyY Hebdo 1178 **** ORIGINAL FRENCH VERSION ***** IN STOCK *** FREE SHIPPING http://t.co/CaV7bu7WAJ\n",
            "#Jesuischarlie -http://t.co/1DYdIEQYrf HEBDO 14 Jan 2015 # 1178 ORIGINAL Printed Edition SHIPS FROM UK ! http://t.co/KL29DPZgBd /@Promo_.\n",
            "#Jesuischarlie -http://t.co/21KU0JWzNA hebdo 1177 + 1178 + 1011 Delivery Worldwide! Historic Edition rare http://t.co/9J1kW3SRBl\n",
            "#Jesuischarlie -http://t.co/2apxfK4Xlk Hebdo 14/01/2015 ORIGINAL BRAND NEW RARE ISSUE http://t.co/5vosNbVhWW\n",
            "#Jesuischarlie -http://t.co/2bcvWmlTBL hebdo 14/01/2015 ORIGINAL REAL PAPER LANGUAGE FRENCH free shipping http://t.co/l2aCCWal16\n",
            "#Jesuischarlie -http://t.co/2hZuMPgVKD hebdo NEW NEVER OPENED RARE 14.01.2015 ORIGINAL first stamp in italy http://t.co/Oe59qOEpkR\n",
            "#Jesuischarlie -http://t.co/2LabifpVf1 Hebdo 1178 ** ORIGINAL FRENCH VERSION **Newspaper http://t.co/MCrk4GGF8g\n",
            "#Jesuischarlie -http://t.co/2ljVgiq8bU Hebdo #1778 PAPER EDITION, FREE INTERNATIONAL SHIPPING http://t.co/OzTTgm5HuE /@Promo_Culturel\n",
            "#Jesuischarlie -http://t.co/3BO5Pj4Vgy HEBDO 14 Jan 2015 # 1178 ORIGINAL Printed Edition SHIPS FROM UK ! http://t.co/oXNj4fVIub\n",
            "#Jesuischarlie -http://t.co/3lwxb1mcTT HEBDO N.1178 NEWSPAPER EDITION OF JAN.14,2015 ORIGINAL LIMITED EDITION http://t.co/3wlFEFCwhw\n",
            "#Jesuischarlie -http://t.co/3nMk5nD9u0 HEBDO - 1178. SPECIAL EDITION NEWSPAPER - ORIGINAL PRESSING http://t.co/IV94h4QtYv\n",
            "#Jesuischarlie -http://t.co/43Xlp9wnU7 HEBDO 14 january 2015 ORIGINAL NEWSPAPER from FRANCE http://t.co/JodvlIbYb2\n",
            "#Jesuischarlie -http://t.co/4gSXPK3ADc HEBDO 1178 - 01/14/2015 NEWSPAPER - ORIGINAL FRENCH EDITION - MINT http://t.co/yhRMGBv8MV\n",
            "#Jesuischarlie -http://t.co/4sXNv0oUb1 HEBDO 13 SEP 1971 # 43 ORIGINAL Authentic RARE VINTAGE Reiser http://t.co/CYnYAjvE0D\n",
            "#Jesuischarlie -http://t.co/4sXNv0oUb1 HEBDO 13 SEP 1971 # 43 ORIGINAL Authentic RARE VINTAGE Reiser http://t.co/SozeeT9xFS\n",
            "#Jesuischarlie -http://t.co/4ygCKImnbo ORIGINAL 2 X CHARLIE HEBDO 1178 FRENCH MAGAZIN NEWSPAPER 14 JANUARY 2015 http://t.co/VlFgTB86zz\n",
            "#Jesuischarlie -http://t.co/4zJpJ7lquC HEBDO N°1177 - 07/01/2015 - RARE LIMITED EDITION - ORIGINAL NEWSPAPER http://t.co/8LzHHEo9T2\n",
            "#Jesuischarlie -http://t.co/54ilX7scb8 NEW CHARLIE HEBDO PAPER EDITION N. 1178, FREE INTERNATIONAL DELIVERY http://t.co/IvbqRysqRa\n",
            "#Jesuischarlie -http://t.co/54ilX7scb8 NEW CHARLIE HEBDO PAPER EDITION N. 1178, FREE INTERNATIONAL DELIVERY http://t.co/xGfcq107PV\n",
            "#Jesuischarlie -http://t.co/5DFP535MOz Hebdo 1178 14 janvier 2015 ORIGINAL French 1stEdition Worldwide Shipping http://t.co/A1DC1xSRO8\n",
            "#Jesuischarlie -http://t.co/5GefzwegPf x RARE Charlie Hebdo #1178 ORIGINAL Hard Paper Copies French Limited Special http://t.co/oUEb64s2Sy\n",
            "#Jesuischarlie -http://t.co/5nFsTlSnXb HEBDO Newspaper - NEW AND LIMITED ORIGINAL EDITION COLLECTOR http://t.co/6PwXMgrghd\n",
            "#Jesuischarlie -http://t.co/5qkB3lh8Yc HEBDO 14 Jan 2015 # 1178 ORIGINAL Authentic Printed Edition RARE http://t.co/KaSjVcfEbd /@Prom...\n",
            "#Jesuischarlie -http://t.co/5s2dm6bZYM Hebdo Magazine - Special Edition 14th January 2015 ORIGINAL AND RARE UK http://t.co/NOz9Qb4J6K\n",
            "#Jesuischarlie -http://t.co/5uYASmTi4q HEBDO ORIGINAL NEWSPAPER FRENCH EDITION 14 JAN 2015 http://t.co/yaukkzXto1\n",
            "#Jesuischarlie -http://t.co/5wBlNfcUCm x CHARLIE HEBDO MAGAZINE / NEWSPAPER - 1178 ORIGINAL FRENCH VERSION FROM PARIS http://t.co/ZbJl8V0zmv\n",
            "#Jesuischarlie -http://t.co/5zZkhErCVK\"CHARLIE HEBDO\" N°1178 ORIGINAL NEWSPAPER EDITION 01/14/2015 \"ALL IS FORGIV... ...\n",
            "#Jesuischarlie -http://t.co/6ENAU9uUho HEBDO N° 1178 Collector 14 january 2015 after terrorist attack http://t.co/PI1AvNVU2a\n",
            "#Jesuischarlie -http://t.co/6IiEYkjXhM HEBDO N°1178 / ORIGINAL NEWSPAPER MAGAZINE FRENCH VERSION 14/01/2015 http://t.co/EcP1OhbkFR /@Pr...\n",
            "#Jesuischarlie -http://t.co/6Ja0iqi3wF JOURNAL COLLECTOR CHARLIE HEBDO 1178(Collector's newspaper charlie weekly) http://t.co/rqCzvUGdZ7\n",
            "#Jesuischarlie -http://t.co/6kYsoTZmds\"CHARLIE HEBDO\" N°1178 ORIGINAL NEWSPAPER EDITION 01/14/2015 \"ALL IS FORGIV... http://t.co/u0TivLxaTJ\n",
            "#Jesuischarlie -http://t.co/6Lm8leEWdJ HEBDO MAGAZINE / NEWSPAPER - 1178 JAN 14 EDITION / ORIGINAL FRENCH PARIS http://t.co/1Lp3ajxkjI\n",
            "#Jesuischarlie -http://t.co/6PxKY8SRqn HEBDO #1778 PAPER EDITION, PAYPAL AND INTERNATIONAL DELIVERY http://t.co/FV5z27TFhJ\n",
            "#Jesuischarlie -http://t.co/72oZ2GyiYZ Hebdo N. 1178 All is Forgiven FREE SHIPPING - ORIGINAL IN FRENCH http://t.co/WxQJYe2lGc\n",
            "#Jesuischarlie -http://t.co/7kJ39PobI8 HEBDO - N°1178 FRENCH NEWSPAPER (14/01/2015) SOLD OUT NATIONWIDE http://t.co/lkSYaPgcDx\n",
            "#Jesuischarlie -http://t.co/7xzL9fEdIf ORIGINAL FRENCH EDITION* Charlie Hebdo 1178 Magazine Newspaper 14/01/2015 http://t.co/zVMh8qHKJM\n",
            "#Jesuischarlie -http://t.co/8bDGRUnNMK UNREAD ORIGINAL MINT CHARLIE HEBDO ISSUE NO. 1178! FREE SHIPPING WORLDWIDE! http://t.co/NVDZocZTNT\n",
            "#Jesuischarlie -http://t.co/8EsTcccigi Hebdo Magazine - Special Edition 14th January 2015 - ORIGINAL AND RARE http://t.co/v58c161TS1\n",
            "#Jesuischarlie -http://t.co/8X1oBVzLwh HEBDO N°1178 / ORIGINAL NEWSPAPER MAGAZINE FRENCH VERSION / 14/01/2015 http://t.co/NsLBbPtqr2\n",
            "#Jesuischarlie -http://t.co/9cRwcOp2FJ HEBDO JOURNAL NUMERO 888 du 24 06 2009 CABU CHARB WORLDWILD SHIPPING http://t.co/JeP4qjoM58\n",
            "#Jesuischarlie -http://t.co/9mimNAbl4p Hebdo 14 January in French Original newspaper http://t.co/w2FMiHS8IE /@Promo_Culturel\n",
            "#Jesuischarlie -http://t.co/9PuBZ58ABU HEBDO - PHYSICAL NEWSPAPER !! - ORIGINAL FRENCH EDITION !! ( Not PDF ! ) http://t.co/t5J2siKf0G\n",
            "#Jesuischarlie -http://t.co/9rsQ1Phgaz HEBDO #1178 - 01/14/2015 - ORIGINAL PAPER VERSION - I'M CHARLIE http://t.co/nav0uwAnVE\n",
            "#Jesuischarlie -http://t.co/a9mEm5Uykl CHARLIE HEBDO n 1177, 1178 give all funds to the Charlie Hebdo association http://t.co/FbEprxNAtH\n",
            "#Jesuischarlie -http://t.co/AgeLHpDyYM Hebdo Magazine - Special Edition 14th January 2015 140115- RARE ORIGINAL http://t.co/OtTEHLLJMp\n",
            "#Jesuischarlie -http://t.co/AiXPVqw59C New listing Charlie hebdo 14/01/2015 ORIGINAL REAL PAPER LANGUAGE LANG http://t.co/GCPo7AXRtd\n",
            "#Jesuischarlie -http://t.co/AlIbJzzpaf HEBDO N°1178 ORIGINAL NEWSPAPER MAGAZINE FRENCH VERSION 14/01/2015 3 http://t.co/7tqo08kAMN\n",
            "#Jesuischarlie -http://t.co/amNpuaL0Un HEBDO 14 Jan 2015 # 1178 ORIGINAL Authentic Printed Edition RARE http://t.co/5Qt4rHu2YP\n",
            "#Jesuischarlie -http://t.co/Anc6uN4lPJ Charlie Hebdo Magazine - Special Edition 14th january 2015 - ORIGINAL AND ... http://t.co/ZRdAxmShUU\n",
            "#Jesuischarlie -http://t.co/aXv2pwDuBr HEBDO 1178 1/14/2015 FIRST FRENCH ORIGINAL EDITION. RARE . Free postage http://t.co/CSTVeQtxvE\n",
            "#Jesuischarlie -http://t.co/aZGgejrFrg Hebdo 1178 FREE SHIPPING WORLDWIDE + DONATION http://t.co/D0mKUnNBNr\n",
            "#Jesuischarlie -http://t.co/B3ouXIDs3F Hebdo Magazine - Special Edition 14th January 2015 ORIGINAL RARE UK http://t.co/neU4CmSnap\n",
            "#Jesuischarlie -http://t.co/b51HGtljLw HEBDO ORIGINAL FRENCH MAGAZINE #1778 MINT JANUARY 14 2015 http://t.co/Y6xZIIqtcR\n",
            "#Jesuischarlie -http://t.co/b5IZ221ic4 listinng Charlie hebdo 14/01/2015 ORIGINAL REAL PAPER LANGUAGE LANG http://t.co/5uOF6Ot6oW\n",
            "#Jesuischarlie -http://t.co/Bu7t43w22Q HEBDO N° 1178....DATE OF ISSUE 14 January 2015....100% ORIGINAL http://t.co/GVlKgERv1x\n",
            "#Jesuischarlie -http://t.co/Bu7t43w22Q HEBDO N° 1178....DATE OF ISSUE 14 January 2015....100% ORIGINAL http://t.co/mwj8zrIVgl\n",
            "#Jesuischarlie -http://t.co/BzrDaocYpk\"CHARLIE HEBDO\" N°1178 ORIGINAL NEWSPAPER EDITION 01/14/2015 \"ALL IS FORGIVEN \" http://t.co/sLDItTgv4G\n",
            "#Jesuischarlie -http://t.co/C0JKLdncNA Hebdo Magazine Special Edition January 14 2015 UK Version Offical £ http://t.co/kWCanVRwBH\n",
            "#Jesuischarlie -http://t.co/c5xI3lUHSM Charlie Hebdo N 1178 Free Shipping Shipped Flat French Language ORIGINAL http://t.co/tU672lOuyZ\n",
            "#Jesuischarlie -http://t.co/cg37ta2WYw SUIS CHARLIE HEBDO NEWSPAPER MAGAZINE JOURNAL 1/14/2015 REAL PHYSICAL PAPER http://t.co/rJ4QPz8YZ6\n",
            "#Jesuischarlie -http://t.co/cMI57M8Rxx NEW CHARLIE HEBDO PAPER EDITION N. 1178, FREE INTERNATIONAL DELIVERY http://t.co/zT07jQIEca\n",
            "#Jesuischarlie -http://t.co/cNjqJQpodW Hebdo #1778 REAL PAPER EDITION - FREE INTERNATIONAL SHIPPING http://t.co/IL8MrHBtAL\n",
            "#Jesuischarlie -http://t.co/Cnoa6y8EHw SUIS CHARLIE HEBDO ORIGINAL HARD COPY FRENCH MAGAZINE #1178 JANUARY 14 2015 http://t.co/DssTzLbt33.\n",
            "#Jesuischarlie -http://t.co/CpXmUaCffm Hebdo #1778 PAPER EDITION, FREE INTERNATIONAL SHIPPING http://t.co/96AH9BWb8x\n",
            "#Jesuischarlie -http://t.co/CpXmUaCffm Hebdo #1778 PAPER EDITION, FREE INTERNATIONAL SHIPPING http://t.co/AhNOhJ6g2A\n",
            "#Jesuischarlie -http://t.co/Cq2e1DOJry HEBDO N.1178 NEWSPAPER EDITION OF JAN.14,2015 ORIGINAL LIMITED EDITION http://t.co/Tk58EKfhXs\n",
            "#Jesuischarlie -http://t.co/CtwIdg1YUv HEBDO NEWSPAPER N°1177+1178 - LIMITED COLLECTOR EDITION - ORIGINAL PRINT http://t.co/EiSncAilXy\n",
            "#Jesuischarlie -http://t.co/CW9KFdPHd3 HEBDO NEWSPAPER N°1177+1178 - LIMITED COLLECTOR EDITION - ORIGINAL PRINT http://t.co/IRFgNp3YJp ...\n",
            "#Jesuischarlie -http://t.co/cXRLqsQ8v0 SUIS CHARLIE HEBDO PARIS support France NAVY FIST short sleeve i am charl http://t.co/qfqq9Bf5IY\n",
            "#Jesuischarlie -http://t.co/D28TT9Pkrm CHARLIE HEBDO **SPECIAL OFFER** N°712 AND N°1011 ORIGINAL PRINT PAPER http://t.co/lo0ZoQDrmj\n",
            "#Jesuischarlie -http://t.co/dc7qQwVS3b HEBDO N°1178 / ORIGINAL NEWSPAPER MAGAZINE FRENCH VERSION / 14/01/2015 http://t.co/loaGKyxUEk\n",
            "#Jesuischarlie -http://t.co/dhBpkpal5S listinng Charlie hebdo 14/01/2015 ORIGINAL REAL PAPER LANGUAGE LANG http://t.co/ZfBDmzDxZw\n",
            "#Jesuischarlie -http://t.co/djGSmz4BMK HEBDO 1178 - 01/14/2015 NEWSPAPER - ORIGINAL FRENCH EDITION - MINT http://t.co/VlEw2dw1ve\n",
            "#Jesuischarlie -http://t.co/dNSnGyVu9x Hebdo caricatures n° 586 NEVER READ INTERNATIONAL DELIVERY / 2003 http://t.co/zkjuOJedxn\n",
            "#Jesuischarlie -http://t.co/Dsme5d96qr Hebdo 1178 ** ORIGINAL FRENCH VERSION ** Paper pre-order FREE SHIPPING http://t.co/xKyNFKTw3x /@...\n",
            "#Jesuischarlie -http://t.co/dSzvyHol9g ORIGINAL FRENCH EDITION* Charlie Hebdo 1178 Magazine Newspaper 14/01/2015 http://t.co/eCBj5hDnrp\n",
            "#Jesuischarlie -http://t.co/dYuPllNfwU HEBDO N.1178 14.01.2015 [ORIGINAL FRENCH FIRST EDITION] - NON FATTO QUOT http://t.co/Qd4OvCyQAN\n",
            "#Jesuischarlie -http://t.co/E4rgbp0j1X HEBDO ORIGINAL FRENCH MAGAZINE #1778 MINT JANUARY 14 2015 http://t.co/wn2Ua5HT4W\n",
            "#Jesuischarlie -http://t.co/eaCytXp50k x CHARLIE HEBDO MAGAZINE / NEWSPAPER - 1178 ORIGINAL FRENCH VERSION FROM PAR. http://t.co/7n9LGUvjhN\n",
            "#Jesuischarlie -http://t.co/EBmklQSaLz SUIS CHARLIE HEBDO ORIGINAL HARD COPY FRENCH MAGAZINE #1178 JANUARY 14 2015 http://t.co/5nIYKe1Ajo\n",
            "#Jesuischarlie -http://t.co/EcysFt6BTH HEBDO #1178 REAL NEWSPAPER ORIGINAL FRENCH EDITION - BRAND NEW - PARIS http://t.co/YJeJ0H0Stq\n",
            "#Jesuischarlie -http://t.co/EEm0Kyj5yd HEBDO N°1177 - 07/01/2015 - RARE LIMITED EDITION - ORIGINAL NEWSPAPER http://t.co/TB0gRa0T9i\n",
            "#Jesuischarlie -http://t.co/EgTMgnyIbk listinng Charlie hebdo 14/01/2015 ORIGINAL REAL PAPER LANGUAGE LANG http://t.co/QFfHaa8hEf /@Pro...\n",
            "#Jesuischarlie -http://t.co/eri3pFhdg9 Hebdo caricatures n° 586 NEVER READ INTERNATIONAL DELIVERY / 2003 http://t.co/2FCFthFvDr\n",
            "#Jesuischarlie -http://t.co/erLfo9oaos N°1178 \"CHARLIE HEBDO\" ORIGINAL NEWSPAPER SPECIAL EDITION 14/01/2015 http://t.co/cuzSqiKcuO\n",
            "#Jesuischarlie -http://t.co/erLfo9oaos N°1178 \"CHARLIE HEBDO\" ORIGINAL NEWSPAPER SPECIAL EDITION 14/01/2015 http://t.co/PxWQcKvyZL\n",
            "#Jesuischarlie -http://t.co/eTcC9mwQnb Hebdo n°1178. ORIGINAL REAL PAPER! (not pdf). DELIVERY TODAY !!! (RARE) http://t.co/GVUA5ulsLP\n",
            "#Jesuischarlie -http://t.co/ewMX03D32Q Hebdo newspaper no. 1178 hard copy real physical paper 1/14/2015 http://t.co/rCKnolNA5l\n",
            "#Jesuischarlie -http://t.co/EztI8B13MI OF 4 CHARLIE HEBDO NEWSPAPERS N° 1178 ORIGINAL FRENCH EDITION http://t.co/iYhN8oNEV1\n",
            "#Jesuischarlie -http://t.co/f0idObWwAm HEBDO N°1178 / ORIGINAL NEWSPAPER MAGAZINE FRENCH VERSION / 14/01/2015 http://t.co/LiveUgyCP4 /@...\n",
            "#Jesuischarlie -http://t.co/F2Uxkok1td HEBDO N°1178 ORIGINAL NEWSPAPER MAGAZINE FRENCH VERSION 14/01/2015 4 http://t.co/s17WoHRhmU /@P...\n",
            "#Jesuischarlie -http://t.co/fd0H7LuWWu HEBDO N°1178 / ORIGINAL NEWSPAPER MAGAZINE FRENCH VERSION 14/01/2015 http://t.co/VmyH7TiHWl\n",
            "#Jesuischarlie -http://t.co/FDzjytdIdD HEBDO 14 january 2015 ORIGINAL NEWSPAPER from FRANCE http://t.co/U7XqAyqobn\n",
            "#Jesuischarlie -http://t.co/fI8LiZVJwP Hebdo Magazine - Special Edition 14th January 2015 - ORIGINAL AND RARE http://t.co/FvXpiV7gD2\n",
            "#Jesuischarlie -http://t.co/fl6VuMqX50 french newspaper Charlie Hebdo 14 January 2015, ORIGINAL first edition http://t.co/QZtk0kl8Do\n",
            "#Jesuischarlie -http://t.co/fLh1AK9zRS N°1178 \"CHARLIE HEBDO\" ORIGINAL NEWSPAPER SPECIAL EDITION 14/01/2015 http://t.co/pyDgvJG0nA\n",
            "#Jesuischarlie -http://t.co/fNKgqAFfNf Hebdo N°1178 14/1/2015 PHYSICAL Newspaper(ORIGINAL!not PDF or reprint) http://t.co/z9KzEV9ldf\n",
            "#Jesuischarlie -http://t.co/fP44Y6cS6A INTERNATIONAL Newspaper 01/14/15 Tribute to CHARLIE HEBDO http://t.co/Yp2v8BbYt0\n",
            "#Jesuischarlie -http://t.co/Fs2zCt3GYd HEBDO N°1178 DU 14/01/2014 ORIGINAL WORLDWIDE SHIPPING http://t.co/Ipra1fNkQU\n",
            "#Jesuischarlie -http://t.co/fuJQvbDPKM HEBDO Newspaper - NEW AND LIMITED ORIGINAL EDITION COLLECTOR http://t.co/XRnvdz42Jy\n",
            "#Jesuischarlie -http://t.co/fuPbbR8le8 HEBDO #1178 REAL ORIGINAL &amp; AUTHENTIC FRENCH EDITION - BRAND NEW - PARIS http://t.co/xok1tAG16x\n",
            "#Jesuischarlie -http://t.co/GbvpnYPL62 Hebdo 1178 ** ORIGINAL FRENCH VERSION **Newspaper http://t.co/3yHuI8OldV\n",
            "#Jesuischarlie -http://t.co/GhcBevBPB6 HEBDO N°1178 / ORIGINAL NEWSPAPER MAGAZINE FRENCH VERSION / 14/01/2015 http://t.co/t6jug5nCmP\n",
            "#Jesuischarlie -http://t.co/gisK753cUz HEBDO N°1178 ORIGINAL NEWSPAPER MAGAZINE FRENCH VERSION 14/01/2015 5 http://t.co/SgNokkgNVC\n",
            "#Jesuischarlie -http://t.co/GoZfZ3GKzB YORKER JANUARY 19, 2015 CHARLIE HEBDO COVER (Eiffel Tower) BY ANA JUAN http://t.co/FAFwLmmiwH\n",
            "#Jesuischarlie -http://t.co/h5mm5iyyoh ORIGINAL 2 X CHARLIE HEBDO 1178 FRENCH MAGAZIN NEWSPAPER 14 JANUARY 2015 http://t.co/1Nu1Am5Dik\n",
            "#Jesuischarlie -http://t.co/H9Fni7URyp NEW YORKER CHARLIE HEBDO ANA JUAN COVER BEAUTIFUL NEW 1/19/15 NO LABEL http://t.co/BayToChJ7W\n",
            "#Jesuischarlie -http://t.co/haKNArJc7e Hebdo French Magazine Collector Issue number 1178 http://t.co/JnfBUXHLwu\n",
            "#Jesuischarlie -http://t.co/hGJNnb4U5H HEBDO - ORIGINAL COLLECTOR LIMITED EDITION NEWSPAPER from survivors http://t.co/MoHbqMq3mA /@Pro...\n",
            "#Jesuischarlie -http://t.co/HKRXyN4Z4X Hebdo Magazine - Special Edition 14th January 2015 140115- RARE ORIGINAL http://t.co/o7jjeZKyFH ...\n",
            "#Jesuischarlie -http://t.co/HmHqLAnUrk Hebdo 1178 ** ORIGINAL FRENCH VERSION ** Paper pre-order FREE SHIPPING http://t.co/tFn4PrZLJt\n",
            "#Jesuischarlie -http://t.co/HQder6mmSq x RARE Charlie Hebdo #1178 ORIGINAL Hard Paper Copies French Limited Special .\n",
            "#Jesuischarlie -http://t.co/HrL7R0CQef CHARLIE HEBDO **SPECIAL OFFER** N°712 AND N°1011 ORIGINAL PRINT PAPER http://t.co/fi0fOkDvk1 /@Pro.\n",
            "#Jesuischarlie -http://t.co/hrxldE0QnH HEBDO FRENCH PAPER ORIGINAL 1178. LIMITED FOR WORLD. je suis charlie http://t.co/6ZvfvDyxBM\n",
            "#Jesuischarlie -http://t.co/HYYTNrnfHL HEBDO N.1178 NEWSPAPER EDITION OF JAN.14,2015 ORIGINAL LIMITED EDITION http://t.co/2t0Tl4qemT\n",
            "#Jesuischarlie -http://t.co/HzHIKSBJDe INTERNATIONAL Newspaper 01/14/15 Tribute to CHARLIE HEBDO http://t.co/a5rmypVL8h\n",
            "#Jesuischarlie -http://t.co/I0ZfyHrmsP HEBDO N°1178 ORIGINAL NEWSPAPER MAGAZINE FRENCH VERSION 14/01/2015 http://t.co/huwVvIFfOD\n",
            "#Jesuischarlie -http://t.co/I3GddxNUj2 HEBDO Official N°1178 FIRST PRINTING 01/14/2015 ORIGINAL - French http://t.co/SoQwtCpKMA\n",
            "#Jesuischarlie -http://t.co/idg4HosiDA NEW YORKER MAGAZINE JANUARY 19, 2015 CHARLIE HEBDO - ANA JUAN FREE SHIPPING http://t.co/5Po1inGnax\n",
            "#Jesuischarlie -http://t.co/iGNauqhFNT Hebdo #1778 PAPER EDITION, FREE INTERNATIONAL SHIPPING http://t.co/Ao9rk1cUzN\n",
            "#Jesuischarlie -http://t.co/iGNauqhFNT Hebdo #1778 PAPER EDITION, FREE INTERNATIONAL SHIPPING http://t.co/UbTt5gMjsL\n",
            "#Jesuischarlie -http://t.co/IhvhX6G2tw HEBDO 6 SEP 1971 # 42 ORIGINAL Authentic Printed Edition RARE VINTAGE http://t.co/hOiAT4m214\n",
            "#Jesuischarlie -http://t.co/IhvhX6G2tw HEBDO 6 SEP 1971 # 42 ORIGINAL Authentic Printed Edition RARE VINTAGE http://t.co/j4p2bsXq3E\n",
            "#Jesuischarlie -http://t.co/IJaPjXLFpD HEBDO N.1178 [ ORIGINAL FRENCH FIRST EDITION ] Newspaper rare Magazine http://t.co/Dwtu09EKph\n",
            "#Jesuischarlie -http://t.co/ip6gdpYAg2 JOURNAL COLLECTOR CHARLIE HEBDO 1178(Collector's newspaper charlie weekly) http://t.co/9aDLi0xWXK\n",
            "#Jesuischarlie -http://t.co/J3D7uyQ45l HEBDO ORIGINAL FRENCH MAGAZINE #1778 MINT JANUARY 14 2015 http://t.co/A8E5yE6XCp\n",
            "#Jesuischarlie -http://t.co/jkgMFSJJYa HEBDO N°1178 / ORIGINAL NEWSPAPER MAGAZINE FRENCH VERSION / 14/01/2015 http://t.co/4olYl9t9zu /@...\n",
            "#Jesuischarlie -http://t.co/jNIpfNZnXh Hebdo 1178 ** ORIGINAL FRENCH VERSION **Newspaper http://t.co/F2r3t8Erhp\n",
            "#Jesuischarlie -http://t.co/jWwjgXAnXr HEBDO 13 SEP 1971 # 43 ORIGINAL Authentic RARE VINTAGE Reiser http://t.co/hHzj0YVWle /@Promo_Culturel\n",
            "#Jesuischarlie -http://t.co/k3F7QYq3k1 HEBDO 1178 - 01/14/2015 NEWSPAPER - ORIGINAL FRENCH EDITION - MINT http://t.co/PWBaMVRwlw\n",
            "#Jesuischarlie -http://t.co/K7RrevdPEi Hebdo Magazine - Special Edition 14th January 2015 - ORIGINAL AND RARE http://t.co/Pjx80OkZeS /@P.\n",
            "#Jesuischarlie -http://t.co/KfFHau3oEa x CHARLIE HEBDO MAGAZINE / NEWSPAPER - 1178 ORIGINAL FRENCH VERSION FROM PAR. http://t.co/PSgUEGg61w\n",
            "#Jesuischarlie -http://t.co/KJwCyi9xNh YORKER JANUARY 19, 2015 CHARLIE HEBDO COVER (Eiffel Tower) BY ANA JUAN http://t.co/D44aelJsOA\n",
            "#Jesuischarlie -http://t.co/kk7zGYoSgG Hebdo 14 January special edition issue 1178 1st ORIGINAL French version http://t.co/f6fVhpX9g4\n",
            "#Jesuischarlie -http://t.co/kk7zGYoSgG Hebdo 14 January special edition issue 1178 1st ORIGINAL French version http://t.co/LKseY9U2Cb\n",
            "#Jesuischarlie -http://t.co/ko7OuYxlp2 Hebdo N°1178 14/1/2015 PHYSICAL Newspaper(ORIGINAL!not PDF or reprint) http://t.co/wa7Ys8lGks\n",
            "#Jesuischarlie -http://t.co/KPmdib7n8G HEBDO N°1178 / ORIGINAL NEWSPAPER MAGAZINE FRENCH VERSION / 14/01/2015 http://t.co/bF1wYe1UPW\n",
            "#Jesuischarlie -http://t.co/L1QMqdrpei HEBDO MAGAZINE / NEWSPAPER - 1178 ORIGINAL FRENCH VERSION FROM PARIS http://t.co/Knd7XBiVHS\n",
            "#Jesuischarlie -http://t.co/L1QMqdrpei HEBDO MAGAZINE / NEWSPAPER - 1178 ORIGINAL FRENCH VERSION FROM PARIS http://t.co/OSPfzM62t3\n",
            "#Jesuischarlie -http://t.co/l7N2IPUvJ8 Hebdo Magazine - Special Edition 14th January 2015 ORIGINAL AND RARE UK http://t.co/vQi5F8mPBG /@P.\n",
            "#Jesuischarlie -http://t.co/l9r72UUbe6 JOURNAL COLLECTOR CHARLIE HEBDO 1178(Collector's newspaper charlie weekly) http://t.co/1HYcSI0Buz .\n",
            "#Jesuischarlie -http://t.co/lEJiJ4NAPV Hebdo Magazine Special Edition January 14 2015 English Version http://t.co/rre1DB8A0B\n",
            "#Jesuischarlie -http://t.co/lGukoyBS0A Charlie Hebdo 14 january 2015 n.1178 After Terroris Attack / Frenc Edition http://t.co/c5NAQR7AyV\n",
            "#Jesuischarlie -http://t.co/lL9OPvDoMw Hebdo N° 1776 REAL PAPER EDITION - RARE &amp; FREE INTERNATIONAL SHIPPING http://t.co/KQgZcKkq9l\n",
            "#Jesuischarlie -http://t.co/LLygxLqiei Charlie Hebdo #1178 ORIGINAL Hard Paper Copy French Limited Edition 99p http://t.co/agXv8O5OZJ\n",
            "#Jesuischarlie -http://t.co/Ls1UTcqlIE Hebdo Magazine - Special Edition 14th January 2015 - ORIGINAL AND RARE http://t.co/eYzK14Sk7p\n",
            "#Jesuischarlie -http://t.co/lWj4PvnXO8 HEBDO NEWSPAPER N° 1178 - LIMITED EDITON - ORIGINAL AND FULL NEWSPAPER http://t.co/0UJJXYAOsm\n",
            "#Jesuischarlie -http://t.co/Lxjm2SEn8w HEBDO 1178 - 01/14/2015 NEWSPAPER - ORIGINAL FRENCH EDITION - MINT http://t.co/GHfIrQu2wv\n",
            "#Jesuischarlie -http://t.co/LZAsroA1ib Hebdo 1178 ** ORIGINAL FRENCH VERSION **Newspaper http://t.co/geoisQwCnG\n",
            "#Jesuischarlie -http://t.co/m1XJwJeKww HEBDO #1778 PAPER EDITION, PAYPAL AND INTERNATIONAL DELIVERY http://t.co/Gn81F2UHfa\n",
            "#Jesuischarlie -http://t.co/M2qNtPyoEV Hebdo 1178 ** ORIGINAL FRENCH VERSION ** Paper pre-order FREE SHIPPING http://t.co/iJYAopvz61\n",
            "#Jesuischarlie -http://t.co/MaHT86Za1M\"CHARLIE HEBDO\" n.2 ITALY SPECIAL EDITION N.1178 ORIGINAL PRINT -JAN.14th 1... http://t.co/LKPzy7X864\n",
            "#Jesuischarlie -http://t.co/mkCCFGo6Ia HEBDO ORIGINAL FRENCH EDITION - 14TH JANUARY 2015 N1778 http://t.co/1HnS7oszl6\n",
            "#Jesuischarlie -http://t.co/mlHhrFZBZG HEBDO JESUIS CHARLIE FRENCH NEWSPAPER VERY RARE SOLD OUT http://t.co/jNAfhWQz3X /@Promo_Culturel\n",
            "#Jesuischarlie -http://t.co/mM9z3Q0mJq HEBDO - ORIGINAL COLLECTOR LIMITED EDITION NEWSPAPER from survivors http://t.co/r17X6tnkOM\n",
            "#Jesuischarlie -http://t.co/MMjJcapiJi hebdo n°1177 FREE SHIPPING INTERNATIONAL http://t.co/DiD3dz4yP5\n",
            "#Jesuischarlie -http://t.co/mQKIj0tRS2 NEW CHARLIE HEBDO 07 JANUARY 2015 N° 1177 INTERNATIONAL SHIPPING http://t.co/tP9Tlai627\n",
            "#Jesuischarlie -http://t.co/mv4TbQiAUP HEBDO 14 Jan 2015 # 1178 ORIGINAL Printed Edition SHIPS FROM UK ! http://t.co/mIJluY9ltS\n",
            "#Jesuischarlie -http://t.co/n2tnTe73bC HEBDO - 1178. SPECIAL EDITION NEWSPAPER - ORIGINAL PRESSING http://t.co/4gweUqGKY3 /@Promo_Culturel\n",
            "#Jesuischarlie -http://t.co/N2YVnb33SC HEBDO N°1178 ORIGINAL NEWSPAPER MAGAZINE FRENCH VERSION 14/01/2015 2 http://t.co/IPOoIzEVH9\n",
            "#Jesuischarlie -http://t.co/n7GiCrHvTG Hebdo Magazine Special Limited Edition January 14th 2015 - ORIGINAL COPY http://t.co/TkrR1htcv8\n",
            "#Jesuischarlie -http://t.co/N9VXEA58Zw HEBDO - N°1178 FRENCH NEWSPAPER (14/01/2015) SOLD OUT NATIONWIDE http://t.co/45vEwTDWfL\n",
            "#Jesuischarlie -http://t.co/NAWsEfR264 HEBDO SATIRIC WEEKLY NEWSPAPER http://t.co/7ewSQknZhX\n",
            "#Jesuischarlie -http://t.co/NAWsEfR264 HEBDO SATIRIC WEEKLY NEWSPAPER http://t.co/KbR7ntN5uY\n",
            "#Jesuischarlie -http://t.co/NFfa7XeYm2 Hebdo 1178 ** ORIGINAL FRENCH VERSION **Newspaper http://t.co/DlRs4JbUXJ\n",
            "#Jesuischarlie -http://t.co/NfWmnoAiMw Hebdo 1178 ** ORIGINAL FRENCH VERSION **Newspaper http://t.co/2o76B39Qc7\n",
            "#Jesuischarlie -http://t.co/nGGXwrrHNy HEBDO MAGAZINE / NEWSPAPER - 1178 ORIGINAL FRENCH VERSION FROM PARIS http://t.co/VWIt3tPbaA\n",
            "#Jesuischarlie -http://t.co/nGGXwrrHNy HEBDO MAGAZINE / NEWSPAPER - 1178 ORIGINAL FRENCH VERSION FROM PARIS http://t.co/X1FpV2UiZB\n",
            "#Jesuischarlie -http://t.co/nh650S9fjy Hebdo n°1178. ORIGINAL REAL PAPER! (not pdf). DELIVERY TODAY !!! (RARE) http://t.co/rdmKSoVcmy\n",
            "#Jesuischarlie -http://t.co/nhxYGNTPIf HEBDO N.1178 14.01.2015 [ORIGINAL FRENCH FIRST EDITION] - NON FATTO QUOT http://t.co/iHDmEYRzxW\n",
            "#Jesuischarlie -http://t.co/NrsHdpocvF Charlie Hebdo N 1178 Edition Free Shipping French Language ORIGINAL http://t.co/J0MwdZ9vhB\n",
            "#Jesuischarlie -http://t.co/NxWLVpu8su SUIS CHARLIE HEBDO ORIGINAL HARD COPY FRENCH MAGAZINE #1178 JANUARY 14 2015 http://t.co/bfqrHdNDZY\n",
            "#Jesuischarlie -http://t.co/o90gAYd2jl New listing Charlie hebdo 14/01/2015 ORIGINAL REAL PAPER LANGUAGE LANG http://t.co/joLP5jUfCV\n",
            "#Jesuischarlie -http://t.co/obAcMsrkry SUIS CHARLIE HEBDO ORIGINAL HARD COPY FRENCH MAGAZINE #1178 JANUARY 14 2015 http://t.co/cyaEwtfV6z\n",
            "#Jesuischarlie -http://t.co/OC3DXR2yXD Hebdo Hard Copy Jan 14th ORIGINAL from FRANCE ( no PDF) http://t.co/5IlWIgV5q0\n",
            "#Jesuischarlie -http://t.co/OF9QZM0Jfr Hebdo 1178 First Edition - ORIGINAL NEWSPAPER http://t.co/f8LK2QLtPC\n",
            "#Jesuischarlie -http://t.co/oIpqrvU0oK HEBDO #1178 INTERNATIONAL SHIPPING FOR FREE http://t.co/AlZFr3gIsK\n",
            "#Jesuischarlie -http://t.co/oQuQzUEWEj HEBDO N 1178 ORIGINAL PHYSICAL PAPER ! SHIP IMMEDIATLY FEDEX http://t.co/97J0hyjLB0\n",
            "#Jesuischarlie -http://t.co/Orr9nCmwen Charlie Hebdo #1178 ORIGINAL Hard Paper Copy French Limited Edition 99p http://t.co/9Fy8RuZEwc /@P.\n",
            "#Jesuischarlie -http://t.co/OWZwgmSjBA Hebdo Magazine - Special Edition 14th January 2015 - ORIGINAL AND RARE http://t.co/RzVG6BwKcg\n",
            "#Jesuischarlie -http://t.co/P57BkonirL N°1178 \"CHARLIE HEBDO\" ORIGINAL NEWSPAPER SPECIAL EDITION 14/01/2015 http://t.co/uiKLaeV0zw\n",
            "#Jesuischarlie -http://t.co/p9CNAqeYDc Hebdo Magazine Special Edition 14 January 2015 n 1178 paper version http://t.co/BQtRKH2oEG\n",
            "#Jesuischarlie -http://t.co/PeZQpgowmo N°1178 \"CHARLIE HEBDO\" ORIGINAL NEWSPAPER SPECIAL EDITION 14/01/2015 http://t.co/1X7R3DrC20 /@Pr...\n",
            "#Jesuischarlie -http://t.co/Pfy8mmSQZS Charlie Hebdo Magazine - Special Edition 14th january 2015 - ORIGINAL AND ... ...\n",
            "#Jesuischarlie -http://t.co/pG97ekfuBN HEBDO N°1178 / ORIGINAL NEWSPAPER MAGAZINE FRENCH VERSION / 14/01/2015 http://t.co/CTLIzDuyOg\n",
            "#Jesuischarlie -http://t.co/pG97ekfuBN HEBDO N°1178 / ORIGINAL NEWSPAPER MAGAZINE FRENCH VERSION / 14/01/2015 http://t.co/QPf3M2lOGB\n",
            "#Jesuischarlie -http://t.co/phIQzg1of6 Charlie Hebdo Magazine - Special Edition 14th january 2015 - ORIGINAL AND RARE http://t.co/Bzp1a4cfh2\n",
            "#Jesuischarlie -http://t.co/PI6FcDKFv4 Hebdo N° 1776 REAL PAPER EDITION - RARE &amp; FREE INTERNATIONAL SHIPPING http://t.co/37R5JSn8wg\n",
            "#Jesuischarlie -http://t.co/ppJXKgMxjq HEBDO #1178 INTERNATIONAL SHIPPING FOR FREE http://t.co/Xyy9JxkFO4 /@Promo_Culturel\n",
            "#Jesuischarlie -http://t.co/PqSZFnpGeG SUIS CHARLIE HEBDO ORIGINAL HARD COPY FRENCH MAGAZINE #1178 JANUARY 14 2015 http://t.co/iToOCj4dXK.\n",
            "#Jesuischarlie -http://t.co/pU8E2v3xt0 Newspaper muhammad ORIGINAL Charlie HEBDO Jan 14 2015 n.1178 out of stock http://t.co/VY5nXY4WjB\n",
            "#Jesuischarlie -http://t.co/pUrAObB3XY Hebdo 1178 ** ORIGINAL FRENCH VERSION **Newspaper http://t.co/eCErd0xlz9\n",
            "#Jesuischarlie -http://t.co/PyhEN4Ikdb HEBDO N°1178 ORIGINAL NEWSPAPER MAGAZINE FRENCH VERSION 14/01/2015 4 http://t.co/P31XcxLeb1\n",
            "#Jesuischarlie -http://t.co/PYRfVLufKF Charlie Hebdo #1178 ORIGINAL Hard Paper Copy French Limited Edition 99p http://t.co/rKlNgNCnxG\n",
            "#Jesuischarlie -http://t.co/q3VS5FL0fk HEBDO MAGAZINE / NEWSPAPER - 1178 JAN 14 EDITION / ORIGINAL FRENCH PARIS http://t.co/Z4ysMK3X4X\n",
            "#Jesuischarlie -http://t.co/QANOFJ6tVC HEBDO 17 JULY 1972 # 87 ORIGINAL Authentic RARE VINTAGE Reiser http://t.co/pRoY4NKKEE\n",
            "#Jesuischarlie -http://t.co/QKeuXDUds0 HEBDO N.1178 NEWSPAPER EDITION OF JAN.14,2015 ORIGINAL LIMITED EDITION http://t.co/F7rJRcPjXA\n",
            "#Jesuischarlie -http://t.co/QoahS7p98H Hebdo n°1178 du 14/01/2015 AFTER ATTACK FAST International shipment. http://t.co/NACFMID1hV\n",
            "#Jesuischarlie -http://t.co/qPdmvXeKrl SUIS CHARLIE HEBDO PARIS support France NAVY FIST short sleeve i am charl http://t.co/Ygjerawty9\n",
            "#Jesuischarlie -http://t.co/qrMO07Q2Bd Hebdo N° 1776 REAL PAPER EDITION - RARE &amp; FREE INTERNATIONAL SHIPPING http://t.co/Qe8I6yTxhd /@Pr.\n",
            "#Jesuischarlie -http://t.co/QRZrem8ZfM SUIS CHARLIE HEBDO PARIS support France NAVY FIST short sleeve i am charl http://t.co/I9PhBjCRhb\n",
            "#Jesuischarlie -http://t.co/qYRR9WnKTl HEBDO 14 Jan 2015 # 1178 ORIGINAL Authentic Printed Edition RARE http://t.co/AqiklzAE14\n",
            "#Jesuischarlie -http://t.co/rKbZhvYTbP Hebdo Magazine - Special Edition 14th January 2015 - ORIGINAL AND RARE http://t.co/1eGnCbNwES\n",
            "#Jesuischarlie -http://t.co/RQBzjl394f HEBDO french magazine very rare N 1178 JOURNAL PROMISE DON FOR CHARLIE http://t.co/yF5bmlfiVT\n",
            "#Jesuischarlie -http://t.co/s3cvdqPc0D HEBDO 1178 1/14/2015 FIRST FRENCH ORIGINAL EDITION. RARE . Free postage http://t.co/DzP4Ts9lNU\n",
            "#Jesuischarlie -http://t.co/s3cvdqPc0D HEBDO 1178 1/14/2015 FIRST ORIGINAL EDITION. RARE !!!. Free postage http://t.co/6Q0b4Pclx9\n",
            "#Jesuischarlie -http://t.co/s4tZ0lG4Zr french newspaper Charlie Hebdo 14 January 2015, ORIGINAL first edition http://t.co/pT7gdMvqud\n",
            "#Jesuischarlie -http://t.co/s4ypDDmPI5 HEBDO NEWSPAPER N°1177+1178 - LIMITED COLLECTOR EDITION - ORIGINAL PRINT http://t.co/IqPxwwNNle\n",
            "#Jesuischarlie -http://t.co/SAFHrJBQUs Original CANARD ENCHAINE Magazine 1992 with cover by CABU of CHARLIE HEBDO http://t.co/dMbGHxEYPg\n",
            "#Jesuischarlie -http://t.co/SCojFdAr7D HEBDO N.1178. 14 JANUARY 2015 . ORIGINAL, LIMITED EDITION. http://t.co/ABOsPamezr\n",
            "#Jesuischarlie -http://t.co/SFkHuO7NMI Charlie Hebdo Issue Jan 15 FINAL ISSUE. Own A Piece Of History. http://t.co/HpmzQDLfKE\n",
            "#Jesuischarlie -http://t.co/shqNAmFka0 HEBDO 1178 - 01/15/2015 NEWSPAPER Rare French Commemorative Edition http://t.co/lQk0P5LqPH\n",
            "#Jesuischarlie -http://t.co/skEBIHP7oj\"CHARLIE HEBDO\" N°1178 ORIGINAL NEWSPAPER EDITION 01/14/2015 \"ALL IS FORGIVEN. http://t.co/5zlZaDABsS\n",
            "#Jesuischarlie -http://t.co/SPjFsQ4QNN Hebdo #1776 PAPER EDITION, FREE INTERNATIONAL SHIPPING http://t.co/9GDS8hD35x\n",
            "#Jesuischarlie -http://t.co/ssQJlWFlmW\"CHARLIE HEBDO\" N°1178 ORIGINAL NEWSPAPER EDITION 01/14/2015 \"ALL IS FORGIV... http://t.co/mtAltRQbkk\n",
            "#Jesuischarlie -http://t.co/sW6BO73ujw HEBDO 1178 - 01/14/2015 NEWSPAPER - ORIGINAL FRENCH EDITION - MINT http://t.co/XkWVl1ndHj /@Prom...\n",
            "#Jesuischarlie -http://t.co/SwclAQFIjL HEBDO 1178 - 01/14/2015 NEWSPAPER - ORIGINAL FRENCH EDITION - MINT http://t.co/jtdwFeZh1j\n",
            "#Jesuischarlie -http://t.co/SWj6CgeMz7 x CHARLIE HEBDO MAGAZINE / NEWSPAPER - 1178 ORIGINAL FRENCH VERSION FROM PAR. http://t.co/UGJ2v9BxHy\n",
            "#Jesuischarlie -http://t.co/SWK7BM95ML Charlie Hebdo Magazine - Special Edition 14th january 2015 - ORIGINAL AND ... http://t.co/wxFBQLBEfK\n",
            "#Jesuischarlie -http://t.co/sxg1cMrQSP JOURNAL COLLECTOR CHARLIE HEBDO 1178(Collector's newspaper charlie weekly) http://t.co/3DYXBhzL6q\n",
            "#Jesuischarlie -http://t.co/t1TJqOoLnb HEBDO MAGAZINE / NEWSPAPER - 1178 ORIGINAL FRENCH VERSION FROM PARIS http://t.co/eRURaQj4ky\n",
            "#Jesuischarlie -http://t.co/t1TJqOoLnb HEBDO MAGAZINE / NEWSPAPER - 1178 ORIGINAL FRENCH VERSION FROM PARIS http://t.co/xCrIcHzT1A\n",
            "#Jesuischarlie -http://t.co/t7KC6BsjIk HEBDO Newspaper - NEW AND LIMITED ORIGINAL EDITION COLLECTOR http://t.co/uVQ7Yl7Hfs\n",
            "#Jesuischarlie -http://t.co/tQZ3YhLsuh N°1178 \"CHARLIE HEBDO\" ORIGINAL NEWSPAPER SPECIAL EDITION 14/01/2015 http://t.co/aHZ7RAS60e\n",
            "#Jesuischarlie -http://t.co/tsmdpISMW9 Hebdo #1178 ORIGINAL FRENCH EDITION Purchased in Paris on January 14 http://t.co/APWYCh7emE\n",
            "#Jesuischarlie -http://t.co/tVcIgdQwXQ HEBDO Newspaper - NEW AND LIMITED ORIGINAL EDITION COLLECTOR http://t.co/5GQWdDPPpP\n",
            "#Jesuischarlie -http://t.co/tVcIgdQwXQ HEBDO Newspaper - NEW AND LIMITED ORIGINAL EDITION COLLECTOR http://t.co/jjKchpukfE\n",
            "#Jesuischarlie -http://t.co/TvSWOiHjvP HEBDO ORIGINAL 45 PIECES NR 1178, FRESH FROM PRINTHOUSE, IMMACULATE http://t.co/kWvajNsjKn\n",
            "#Jesuischarlie -http://t.co/TXjleuPwiI HEBDO N°1178 ORIGINAL NEWSPAPER MAGAZINE FRENCH VERSION 14/01/2015 5 http://t.co/1EDr2QtV8p /@P...\n",
            "#Jesuischarlie -http://t.co/u5PVwR0eVL N°1178 \"CHARLIE HEBDO\" ORIGINAL NEWSPAPER SPECIAL EDITION 14/01/2015 http://t.co/8HglAvVW0e\n",
            "#Jesuischarlie -http://t.co/u5PVwR0eVL N°1178 \"CHARLIE HEBDO\" ORIGINAL NEWSPAPER SPECIAL EDITION 14/01/2015 http://t.co/LRuvQSqAql\n",
            "#Jesuischarlie -http://t.co/uhhbz9v4lt NEW CHARLIE HEBDO PAPER EDITION N. 1178, FREE INTERNATIONAL DELIVERY http://t.co/5EiQburJJs /@P...\n",
            "#Jesuischarlie -http://t.co/UiMAIfdsgv Hebdo Newspapers ORIGINAL FR VERSION /14th January 2015/ N1178 http://t.co/fOKMIcUblG\n",
            "#Jesuischarlie -http://t.co/UiMAIfdsgv Hebdo Newspapers ORIGINAL FR VERSION /14th January 2015/ N1178 http://t.co/KhvgHNvgnh\n",
            "#Jesuischarlie -http://t.co/uKXtyNAHDC OF 10 collectors Charlie Hebdo Jan 14 authentic newspaper 1178 Free Int S/H http://t.co/vzAaAdlXWT\n",
            "#Jesuischarlie -http://t.co/UQtKMhPewf HEBDO 14 Jan 2015 # 1178 ORIGINAL Printed Edition SHIPS FROM UK ! http://t.co/8kiWMrtAnz /@Promo_.\n",
            "#Jesuischarlie -http://t.co/UsLKfXGgI5 ! CHARLIE HEBDO #1778 : PAPER EDITION / FREE INTERNATIONAL SHIPPING WORLDW http://t.co/P7Elmzal6g\n",
            "#Jesuischarlie -http://t.co/uV4NtpejnM HEBDO ORIGINAL NEWSPAPER FRENCH EDITION 14 JAN 2015 http://t.co/QATckz48T0\n",
            "#Jesuischarlie -http://t.co/UVBeeEc8Ul HEBDO Newspaper - NEW AND LIMITED ORIGINAL EDITION COLLECTOR http://t.co/ldU6hIdf4h\n",
            "#Jesuischarlie -http://t.co/UYU5jfSN5M hebdo 14/01/2015 ORIGINAL REAL PAPER LANGUAGE FRENCH free shipping http://t.co/A7STKWHlaF\n",
            "#Jesuischarlie -http://t.co/vboScLWKmU Charlie Hebdo #1178 ORIGINAL Hard Paper Copy French Limited Edition 99p http://t.co/7goKCVJhwV\n",
            "#Jesuischarlie -http://t.co/VBoXf2Bp18 hebdo 14/01/2015 ORIGINAL REAL PAPER LANGUAGE FRENCH free shipping http://t.co/lqjJLjnKmo\n",
            "#Jesuischarlie -http://t.co/VBoXf2Bp18 hebdo 14/01/2015 ORIGINAL REAL PAPER LANGUAGE FRENCH free shipping http://t.co/OWUAWv7PTo\n",
            "#Jesuischarlie -http://t.co/vdm9nfQXiN NEW CHARLIE HEBDO PAPER EDITION N. 1178, FREE INTERNATIONAL DELIVERY http://t.co/ZIS725ikEi\n",
            "#Jesuischarlie -http://t.co/VdNAJk4KJI Hebdo Newspaper 14 January Commemorative Edition http://t.co/wzjrAKHNu7\n",
            "#Jesuischarlie -http://t.co/vFyfSQH18u HEBDO 1178 14/01 january , ORIGINAL PHYSICAL PAPER ! http://t.co/hd3jCLhPok\n",
            "#Jesuischarlie -http://t.co/vifx4So7k2 HEBDO °1178 14/1/2015 ITALIAN EDITION SUPER SAVER INTERNATIONAL SHIPPING http://t.co/d8r3scyzjk\n",
            "#Jesuischarlie -http://t.co/vlzdqZNAQw SUIS CHARLIE HEBDO . Paris France Terror 2015 Cover size M - T-shirt Green ...\n",
            "#Jesuischarlie -http://t.co/vQuOU8eFrf HEBDO N°1178 / ORIGINAL NEWSPAPER MAGAZINE FRENCH VERSION / 14/01/2015 http://t.co/DEetzRtHdj\n",
            "#Jesuischarlie -http://t.co/vU9laIaFcW REAL PHYSICAL PAPER CHARLIE HEBDO No. 1178 ORIGINAL FIRST FRENCH EDITION http://t.co/TXIAmLOdPa\n",
            "#Jesuischarlie -http://t.co/w2EmahI1xv HEBDO N°1178 ORIGINAL NEWSPAPER MAGAZINE FRENCH VERSION 14/01/2015 http://t.co/ADubiHtD4X /@Prom...\n",
            "#Jesuischarlie -http://t.co/W7OHXT6LTm french newspaper Charlie Hebdo 14 January 2015, ORIGINAL first edition http://t.co/VdZH13CKox\n",
            "#Jesuischarlie -http://t.co/w84UR3xBqg Hebdo #1778 PAPER EDITION - RARE &amp; FREE INTERNATIONAL SHIPPING http://t.co/fJlg17aD7A\n",
            "#Jesuischarlie -http://t.co/wgMoSCWWxV Hebdo 1178 ** ORIGINAL FRENCH VERSION ** Paper pre-order FREE SHIPPING http://t.co/f6HvrHbO0k\n",
            "#Jesuischarlie -http://t.co/WkVOtOFTri Hebdo Magazines - Special Edition 1971- 2015 - ORIGINAL AND RARE http://t.co/qmG2ICqK8P\n",
            "#Jesuischarlie -http://t.co/WnRE4aEM7S HEBDO NEWSPAPER N°1177+1178 - LIMITED COLLECTOR EDITION - ORIGINAL PRINT http://t.co/TBz4cs8DSD\n",
            "#Jesuischarlie -http://t.co/WOMk0wiD5S HEBDO n 1177 - LAST ORIGINAL VERY RARE BEFORE ATTACK - WORLD SHIPPING http://t.co/z1pVpEthxt\n",
            "#Jesuischarlie -http://t.co/WWwv4z8H0r Hebdo 1st Print 1178 ** ORIGINAL FRENCH VERSION ** Free Shipping http://t.co/pKeJqyJ3eZ\n",
            "#Jesuischarlie -http://t.co/XDFDyyrhGH Hebdo 1178 French Edition FREE SHIPPING WORLDWIDE + DONATION http://t.co/ru42RLY0jp\n",
            "#Jesuischarlie -http://t.co/xDubBtThv6 Hebdo #1778 REAL PAPER EDITION - FREE INTERNATIONAL SHIPPING http://t.co/TsyflwENGW /@Promo_Culturel\n",
            "#Jesuischarlie -http://t.co/XPBnxfXrsQ HEBDO PHYSICAL NEWSPAPER 1178 - ORIGINAL FRENCH PAPER Ed. OOS 14/01/2015 http://t.co/cHI3rqCf8S\n",
            "#Jesuischarlie -http://t.co/XPt3tdX9rt Hebdo magazine newspaper HS 15 exemplaire ORIGINAL 01/2015 FREE POST http://t.co/1LBrocmZ2v\n",
            "#Jesuischarlie -http://t.co/xQCKnQ9ezQ SUIS CHARLIE HEBDO NEWSPAPER MAGAZINE JOURNAL 1/14/2015 REAL PHYSICAL PAPER http://t.co/ZlTze2Pc8q\n",
            "#Jesuischarlie -http://t.co/Y2IkxnpFoR HEBDO N°1177 - 07/01/2015 - RARE LIMITED EDITION - ORIGINAL NEWSPAPER http://t.co/mbUUdCVhQj\n",
            "#Jesuischarlie -http://t.co/YB03Kjl5DS ! CHARLIE HEBDO #1778 : PAPER EDITION / FREE INTERNATIONAL SHIPPING WORLDW http://t.co/GkmlFwyipu\n",
            "#Jesuischarlie -http://t.co/ycTVM2ClKo HEBDO N°1177 - 07/01/2015 - RARE LIMITED EDITION - ORIGINAL NEWSPAPER http://t.co/0v8DWXVsqf\n",
            "#Jesuischarlie -http://t.co/YgPurqNAVH Hebdo 14th of January, paper edition, very rare &amp; sold out everywhere http://t.co/AzZEEPKcc4\n",
            "#Jesuischarlie -http://t.co/yhoVabJ1FY HEBDO 14 Jan 2015 # 1178 ORIGINAL Authentic Printed Edition RARE http://t.co/okFJKjjvNM\n",
            "#Jesuischarlie -http://t.co/YijAJilJFn THE LAST CHARLIE HEBDO AFTER THE ATTACK +THE CANARD last draw of cabu http://t.co/Rt4yZtkzSl\n",
            "#Jesuischarlie -http://t.co/Yjx4X2dk7P HEBDO - ORIGINAL COLLECTOR LIMITED EDITION NEWSPAPER from survivors http://t.co/nml46MFIZf\n",
            "#Jesuischarlie -http://t.co/YoYBRptFi1 CHARLIE HEBDO ATTENTAT - JOURNAL THE NEW YORK TIMES - http://t.co/SAgGPPWR61\n",
            "#Jesuischarlie -http://t.co/YqDJL2nVyG Hebdo Magazine - Special Edition 14th January 2015 - ORIGINAL AND RARE http://t.co/bADBICDQif\n",
            "#Jesuischarlie -http://t.co/YrRrgyl4Ib Hebdo Magazine - Special Edition 14th January 2015 - ORIGINAL http://t.co/xTmNsOM023\n",
            "#Jesuischarlie -http://t.co/YSPSCuJRRV HEBDO N°1178 / ORIGINAL NEWSPAPER MAGAZINE FRENCH VERSION / 14/01/2015 http://t.co/2ANbGezcaI\n",
            "#Jesuischarlie -http://t.co/yXZJCQ7iun HEBDO N.1178 [ ORIGINAL FRENCH FIRST EDITION ] Newspaper rare Magazine http://t.co/6jm6MrecXV\n",
            "#Jesuischarlie -http://t.co/z3qFV3mByn\"CHARLIE HEBDO\" n.2 ITALY SPECIAL EDITION N.1178 ORIGINAL PRINT -JAN.14th 1... http://t.co/5ZXOS0TWxY\n",
            "#Jesuischarlie -http://t.co/ZayoWspjdI HEBDO (N°1178) 14.01.2015 - ORIGINAL EDITION PAPER - PRIOR INTL DELIVERY http://t.co/IdHEGKWzFE\n",
            "#Jesuischarlie -http://t.co/zdIAZ4NDeu HEBDO 1178 1/14/2015 FIRST FRENCH ORIGINAL EDITION. RARE . Free postage http://t.co/sSDLMx8T4u\n",
            "#Jesuischarlie -http://t.co/ZV3XN0Bszo HEBDO N°1178 ORIGINAL NEWSPAPER MAGAZINE FRENCH VERSION 14/01/2015 http://t.co/PfOfy5IoJ5\n",
            "#Jesuischarlie -http://t.co/zXg9BGHgfK Hebdo 14th January special edition issue 1178 French version Italy http://t.co/pUPKB3AhNA\n",
            "#JeSuisCharlie HUMANS! HOW DARE YOU HATE THE POOR LYING THIEVING BILLIONAIRE JEWS WHO RAPED YOUR HOMELAND &amp; STOLE YOUR MONEY! ANTI-SEMIT...\n",
            "#JeSuisCharlie HUMANS! HOW DARE YOU HATE THE POOR LYING THIEVING BILLIONAIRE JEWS WHO RAPED YOUR HOMELAND &amp; STOLE YOUR MONEY! ANTI-SEMITES!\n",
            "#JeSuisCharlie ideas are bulletproof! http://t.co/NAyOwc1Mws\n",
            "#JeSuisCharlie I don't see why people can't just criticize the parts of #Islam or a #religion they disagree (cont) http://t.co/CRw6NAP8DI\n",
            "#JESUISCHARLIE I'M GONNA LAUGH MY ASS OFF WHEN ALL THE BRAINDEAD SHEEPLE SCREAMING JE SUIS CHARLIE GET HERDED INTO KIKE GULAGS! BAAAAAAAAA!\n",
            "#JeSuisCharlie in Hebrew is an ANAGRAM for \"I AM ISRAEL\"... No Joke!: http://t.co/PIdb9cHuGL #falseflag #JesuisHypocrite #JeSuisBullShit\n",
            "#JeSuisCharlie In Memory. https://t.co/hLvNAj5KUu\n",
            "#JeSuisCharlie INTERNATIONAL\n",
            "#JeSuisCharlie in the West Village. #CharlieHebdo #westvillagesigns http://t.co/il16nEKleT @DNAinfo http://t.co/8fImdfOgpf\n",
            "#JeSuisCharlie #Islamaphobia Don't blame all #Muslims FOR ACTIONS of a few #WESTERN #NATIONS - http://t.co/M5CkOyvech\n",
            "#JeSuisCharlie - JB Bullet: http://t.co/4hfpT0NABD via @YouTube\n",
            "#JeSuisCharlie JEW/NAZI REGIME IN UKRAINE is losing to the freedom fighters! Now the USA/EU Kikes will send their Human slave army to help!\n",
            "#JeSuisCharlie JEW/NAZI UKRAINE! \"Chocolate Kike\" Poroshenko lets his \"Nazis\" break the peace treaty &amp; screams; \"The Russians are shooting!\"\n",
            "#JESUISCHARLIE JEW/NAZI UKRAINE! Israeli propaganda machine France 24 keeps puking up Jew lies about Kike rape of Ukraine! Blames Russia!\n",
            "#JESUISCHARLIE JEW/NAZI UKRAINE! KIKE FALSE FLAG PARIS! MILITARY PROTECTION FOR KIKES! FASCIST ISRAEL HAS INVADED EUROPE! JE SUIS PATRIOT!\n",
            "#JESUISCHARLIE JEW/NAZI UKRAINE; Satan's Kikes raped Ukraine &amp; now force the people to fight so the Kikes can rape Russia too! JUDEN RAU...\n",
            "#JESUISCHARLIE JEW/NAZI UKRAINE; Satan's Kikes raped Ukraine &amp; now force the people to fight so the Kikes can rape Russia too! JUDEN RAUS!\n",
            "#JeSuisCharlie JEW/NAZI UKRAINE! USA/EU Kikes send Gestapo pigs to fight with the \"Nazis\" in Ukraine! Kikes will attack Russia this summe...\n",
            "#JeSuisCharlie JEW/NAZI UKRAINE! USA/EU Kikes send Gestapo pigs to fight with the \"Nazis\" in Ukraine! Kikes will attack Russia this summer!\n",
            "#JeSuisCharlie JEWNITED NATIONS HAS CIRCLE JERK FOR DISGUSTING WHINING KIKES! Oy Vey, Moishe! \"Anti-Semitism\"! Poor fat billionaire Kikes!\n",
            "#JESUISCHARLIE JEWS ARE RICH CUZ THEY SNEAK INTO COUNTRIES &amp; TAKE OVER THE NATURAL RESOURCES then sell them back to the Humans at 20×price!\n",
            "#JeSuisCharlie JOURNALISM IS NOT A CRIME INSULTISM IS NOT JOURNALISM AND NOT DOING JOURNALISM PROPERLY IS A CRIME http://t.co/0SxdUDc0nc\n",
            "#JeSuisCharlie KIKE FALSE FLAG IN FRANCE! MOSSAD HIT IN ARGENTINA! These arrogant pieces of pig shit think they can do anything they wan...\n",
            "#JeSuisCharlie KIKE FALSE FLAG IN FRANCE! MOSSAD HIT IN ARGENTINA! These arrogant pieces of pig shit think they can do anything they want!\n",
            "#JESUISCHARLIE KIKE RAPE OF UKRAINE TO GET RUSSIA! KIKE FALSE FLAG/PARIS TO GET \"PROTECTION\" FOR KIKE CRIMINALS IN EUROPE! KIKE WWIII SOON!\n",
            "#JeSuisCharlie #libertedexpression My Angel @sylvainreynard @ninabocci http://t.co/L7zjyBNAiX\n",
            "#JeSuisCharlie MOISHE, FOREIGN BILLIONAIRE KIKE SAYS; \"I raped Europe &amp; stole the Europeans' money! Now they hate me! Nazis &amp; Anti-Semites!\"\n",
            "#JeSuisCharlie #NAACPBombing Never expectd twitter to b the source to bring these tragedies to my attention Prayers for the world We need it\n",
            "#JeSuisCharlie #NAACPBombing seems today is yet another big day in our history for people who randomly slaughter people who aren't like them\n",
            "#JESUISCHARLIE... NAO IS FREEDOM DRINK MOVE... https://t.co/XJOdDCEqFO\n",
            "#JeSuisCharlie #NATO murdered journalists deliberately! No justice for the victims. Amnesty International http://t.co/cGMnTt3VhH\n",
            "Je suis Charlie - NAU News : NAU News: Thanks for your comments Blake. In actuality, though, it... http://t.co/I5XZ0YFviI #JeSuisCharlie\n",
            "#JESUISCHARLIE NOW OUR KIKE RULERS ARE GONNA GIVE AWAY 1 TRILLION JEWROS TO RICH FOREIGN KIKES IN EUROPE! Who's paying for it? We Europeans!\n",
            "#JeSuisCharlie #NuclearPowerIndustry is the greatest MENACE To The World. http://t.co/0cbEFApXa7\n",
            "#JeSuisCharlie, one of the most popular hashtags ever, was in 3.4 million tweets in 24 hours http://t.co/ZsX2xx4mpM http://t.co/BNAyrlWFvB\n",
            "#JeSuisCharlie one week later (The New Yorker Cartoons via @lolobrigida75 ) http://t.co/aHdvwdNA9Y\n",
            "#JeSuisCharlie #ParisAttacks ISLAM-SUBMIT OR DIE EUROPE-ARM AND LIVE GOVERNMENTS-INADEQUATE http://t.co/ALMjoNhdG0\n",
            "#JeSuisCharlie Q: Why are there so many unsolved murders in Utah? A: There are no dental records and everyone has the same DNA\n",
            "#JeSuisCharlie SHEEPLE! YOU GAVE OUR PLANET TO SATAN &amp; NOW HIS JEWS ARE GOING TO EXTERMINATE YOU! ENJOY THE GULAGS, ASSHOLES!\n",
            "#JeSuisCharlie Song \"Ur a Cartoonist\" ~ Parody of Meghan Trainor \"Lips Are Movin'\" ~ Rucka Rucka Ali http://t.co/AoTnAVzXNA\n",
            "#JeSuisCharlie stained by sleazy politicians cashing in :\\ Why aren't we shocked when this happens in poor countries? http://t.co/2bSKNAqX8n\n",
            "#jesuischarlie Terror &amp; Censors - What were Symbionese-Cohn-Bandit-IRA-Shining Path-KKK-NAZIs-etc -- Sociopaths Psychopaths &amp; Mad Bulls\n",
            "#JeSuisCharlie The Merits of Islam 2 http://t.co/NASzlI7yJ7\n",
            "#JeSuisCharlie the world leaders marching for #CharileHebdo free speech was like watching NASCAR without the crash\n",
            "#jesuischarlie #tours: julienlavergne posted a photo: http://t.co/HFqNAyY9HZ #JeSuisCharlie\n",
            "#JeSuisCharlie tweeted 5 million times http://t.co/8rNAh8ADwr (News) #newzealand #nznews\n",
            "#JESUISCHARLIE WE PAY MILLIONS FOR THE \"PROTECTION\" OF BILLIONAIRE KIKES IN EUROPE NOW while Humans freeze &amp; starve because of Jew greed!\n",
            "#JeSuisCharlie WHEN I WAS A KID, CANADA WAS A GOOD COUNTRY. Now it's just another Kike Apartheid shithole! They're destroying our planet!\n",
            "#jesuisjuifs #JeSuisCharlie #PoisonousNarrative THE FINAL COUNTDOWN: http://t.co/LM9BcGjrwI\n",
            "JesuisSalma #JeSuisCharlie am awaiting unity march for all killed under NATO US UK DRones? The innocent kids women parents??\n",
            "@jimfitzpatrick Same #EU #NATO thugs who murdered 12 Serb TV journalists and studio staff to silence them. Hypocrites. #JeSuisCharlie\n",
            "@JuliaDavisNews @CanadaNATO #Russia #JeSuisCharlie That's ridiculous!!!\n",
            "Just 126 people in the world are infected with the Guinea worm disease; humans are close to era... http://t.co/roEWNAqf3Q #JeSuisCharlie\n",
            "Just been @ Danish Embassy, Paris. Met @6MON2PANAME who posted lots of pictures. #copenhagen #paris #JeSuisCharlie #JeSuisDanois\n",
            "@Kassandra_Troy A REFORM OR SAY \"ISLAMIC RENAISSANCE\" IS ONLY POSSIBLE IF QURAN IS CRITISIZED AND SHARIA+JIHAD IS DENOUNCED #JeSuisCharlie\n",
            "Key data for the previous price movement https://t.co/FGNA6ZeJLv #charliehebdo #gameinsight #jesuischarlie\n",
            "@KleerFax #cokeheads #itsallwayscocacola #JeSuisCharlie #CharieHebdo ,thanks for follow http://t.co/GsbKWRpNAp\n",
            "Kurds were kicking #ISIS ass before it was cool. #TwitterKurds @CENTCOM #NATO #EU #CharlieHebdo #JeSuisCharlie\n",
            "Last Wordz. #KILLUMINATI Ppl stop being such a let down. #JeSuisNigeria #JeSuisCharlie &lt;still?!. http://t.co/R9lHn8FPN7\n",
            "LE CANADA N'EST PAS CHARLIE: Islamists won't kill free speech-we will http://t.co/zPcNQhKk1Y via @macleansmag #JeSuisCharlie\n",
            "LE JOURNAL INTIME DE SUBLIMA: Back to run on the track with positive thoughts!!!... http://t.co/cLKktmEch5 #JeSuisCharlie #story #Fitness\n",
            "@Lilikins8 @kosherDYL @DNAinfoCHI You can download the full magazine PDF You can read it here : https://t.co/f706QEdIMW #JeSuisCharlie\n",
            "Love it! \"@Bipartisanism: The best cartoon yet about the #ParisShooting. #CharlieHebdo #JeSuisCharlie http://t.co/yNA2xdVYeX\"\n",
            "Madonna by Luz on #CharlieHedbo Paper - Thanks @newsofM #JeSuisCharlie @m_scrapbook @MDNAMafia @fr_lola @mtribefrance http://t.co/hx0uxoQjlq\n",
            "Man. George Clooney NAILED IT: humility, passion, global affairs, perspective. #jesuischarlie #goldenglobes\n",
            "Many said #JeSuisCharlie, @funhomemusical's @AlisonBechdel &amp; @mcctheater CORALINE's @neilhimself step up @penusa Gala http://t.co/QFHfH5dNAX\n",
            "Marching such nice of them not at all hypocrisy and then ending with his opinion = #JeSuisCharlie all v theatrical Nd dramatic. /@ITSSANNA\n",
            "@Mathichaton #JeSuisCharlie LIVE SUR SNAP!\n",
            "@MaxBlumenthal : Is this statement true Max? :#JeSuisCharlie in Hebrew is an ANAGRAM for \"I AM ISRAEL\":\n",
            "\"@MDNAMafia: Madonna and Marine Le Pen on the cover of Charlie Hebdo, back in June 2012 #JeSuisCharlie http://t.co/zeWtGckxMl\"\n",
            "Message of Leader of the Islamic Republic of Iran http://t.co/0IZrGTi2uu #letter4u #Letter4All #Paris #JeSuisCharlie http://t.co/r3NATIfzld\n",
            "Message of Leader of the Islamic Republic of Iran http://t.co/10nVK3lTCz #letter4u #Letter4All #Paris #JeSuisCharlie http://t.co/0UgSyLwQNA\n",
            "Message of Leader of the Islamic Republic of Iran http://t.co/10nVK3lTCz #letter4u #Letter4All #Paris #JeSuisCharlie http://t.co/NAerSqrzmy\n",
            "Message of Leader of the Islamic Republic of Iran http://t.co/1AdQiN7PFe #letter4u #Letter4All #Paris #JeSuisCharlie http://t.co/sNAGke7h0p\n",
            "Message of Leader of the Islamic Republic of Iran http://t.co/1eLylML2kH #letter4u #Letter4All #Paris #JeSuisCharlie http://t.co/ARNAImm0ge\n",
            "Message of Leader of the Islamic Republic of Iran http://t.co/1eLylML2kH #letter4u #Letter4All #Paris #JeSuisCharlie http://t.co/hiLQiPONNA\n",
            "Message of Leader of the Islamic Republic of Iran http://t.co/1eLylML2kH #letter4u #Letter4All #Paris #JeSuisCharlie http://t.co/NAVwvap7lB\n",
            "Message of Leader of the Islamic Republic of Iran http://t.co/1ppwee0aH0 #letter4u #Letter4All #Paris #JeSuisCharlie http://t.co/wNAGO6DYQW\n",
            "Message of Leader of the Islamic Republic of Iran http://t.co/2LkLF4FcWq #letter4u #Letter4All #Paris #JeSuisCharlie http://t.co/NAzG8HRL6Y\n",
            "Message of Leader of the Islamic Republic of Iran http://t.co/2LkLF4FcWq #letter4u #Letter4All #Paris #JeSuisCharlie http://t.co/zooF8FQzNA\n",
            "Message of Leader of the Islamic Republic of Iran http://t.co/2YAzvfMkEj #letter4u #Letter4All #Paris #JeSuisCharlie http://t.co/Hj06aNA42p\n",
            "Message of Leader of the Islamic Republic of Iran http://t.co/37iODK1k3L #letter4u #Letter4All #Paris #JeSuisCharlie http://t.co/wVNAiB24aO\n",
            "Message of Leader of the Islamic Republic of Iran http://t.co/3nK3EWtyWb #letter4u #Letter4All #Paris #JeSuisCharlie http://t.co/ChXRHlNAcR\n",
            "Message of Leader of the Islamic Republic of Iran http://t.co/3u4nhZvIMZ #letter4u #Letter4All #Paris #JeSuisCharlie http://t.co/pgRYNAg64o\n",
            "Message of Leader of the Islamic Republic of Iran http://t.co/4N00BW2DOc #letter4u #Letter4All #Paris #JeSuisCharlie http://t.co/43cjosNAVt\n",
            "Message of Leader of the Islamic Republic of Iran http://t.co/4PVVmYfhJX #letter4u #Letter4All #Paris #JeSuisCharlie http://t.co/kBKNAYIXIp\n",
            "Message of Leader of the Islamic Republic of Iran http://t.co/4zSt0qz4GG #letter4u #Letter4All #Paris #JeSuisCharlie http://t.co/PZuuGi4NAO\n",
            "Message of Leader of the Islamic Republic of Iran http://t.co/4zSt0qz4GG #letter4u #Letter4All #Paris #JeSuisCharlie http://t.co/WYdwqYNAhh\n",
            "Message of Leader of the Islamic Republic of Iran http://t.co/5Ds2kIhIYt #letter4u #Letter4All #Paris #JeSuisCharlie http://t.co/rhJsyjJ6NA\n",
            "Message of Leader of the Islamic Republic of Iran http://t.co/5VykzPYCT0 #letter4u #Letter4All #Paris #JeSuisCharlie http://t.co/FjskC4NAPo\n",
            "Message of Leader of the Islamic Republic of Iran http://t.co/5VykzPYCT0 #letter4u #Letter4All #Paris #JeSuisCharlie http://t.co/NAdpgJDVZW\n",
            "Message of Leader of the Islamic Republic of Iran http://t.co/6xTcVqaBLB #letter4u #Letter4All #Paris #JeSuisCharlie http://t.co/cPaNA7ylyU\n",
            "Message of Leader of the Islamic Republic of Iran http://t.co/6xTcVqaBLB #letter4u #Letter4All #Paris #JeSuisCharlie http://t.co/uSaSeNAkKO\n",
            "Message of Leader of the Islamic Republic of Iran http://t.co/6xzzwJK1iN #letter4u #Letter4All #Paris #JeSuisCharlie http://t.co/cNAHqv5tGC\n",
            "Message of Leader of the Islamic Republic of Iran http://t.co/8CxPwkR1fy #letter4u #Letter4All #Paris #JeSuisCharlie http://t.co/sQgrNA2ZE6\n",
            "Message of Leader of the Islamic Republic of Iran http://t.co/8OpdZ2PKtL #letter4u #Letter4All #Paris #JeSuisCharlie http://t.co/pQJNABmXu5\n",
            "Message of Leader of the Islamic Republic of Iran http://t.co/8OpdZ2PKtL #letter4u #Letter4All #Paris #JeSuisCharlie http://t.co/yEiKrdNA1h\n",
            "Message of Leader of the Islamic Republic of Iran http://t.co/9fPzUxzfS6 #letter4u #Letter4All #Paris #JeSuisCharlie http://t.co/eEkVNAy280\n",
            "Message of Leader of the Islamic Republic of Iran http://t.co/9o7V7bUiK1 #letter4u #Letter4All #Paris #JeSuisCharlie http://t.co/DuAzvhtNAT\n",
            "Message of Leader of the Islamic Republic of Iran http://t.co/9Z4CPv70xx #letter4u #Letter4All #Paris #JeSuisCharlie http://t.co/NALpkQTU8I\n",
            "Message of Leader of the Islamic Republic of Iran http://t.co/A6JhxNVVPz #letter4u #Letter4All #Paris #JeSuisCharlie http://t.co/NAUcweTilB\n",
            "Message of Leader of the Islamic Republic of Iran http://t.co/A6JhxNVVPz #letter4u #Letter4All #Paris #JeSuisCharlie http://t.co/Sgwy9ZNAMr\n",
            "Message of Leader of the Islamic Republic of Iran http://t.co/A8ZtEmt65L #letter4u #Letter4All #Paris #JeSuisCharlie http://t.co/cOOfBvENAw\n",
            "Message of Leader of the Islamic Republic of Iran http://t.co/AbjlJqSaws #letter4u #Letter4All #Paris #JeSuisCharlie http://t.co/jNNAMUNyer\n",
            "Message of Leader of the Islamic Republic of Iran http://t.co/AbjlJqSaws #letter4u #Letter4All #Paris #JeSuisCharlie http://t.co/LiaNAHWDSF\n",
            "Message of Leader of the Islamic Republic of Iran http://t.co/AbjlJqSaws #letter4u #Letter4All #Paris #JeSuisCharlie http://t.co/W58NAqbiwD\n",
            "Message of Leader of the Islamic Republic of Iran http://t.co/AbjlJqSaws #letter4u #Letter4All #Paris #JeSuisCharlie http://t.co/z1dRNAbJ5d\n",
            "Message of Leader of the Islamic Republic of Iran http://t.co/af5Ot0FtTn #letter4u #Letter4All #Paris #JeSuisCharlie http://t.co/egno5CGmNA\n",
            "Message of Leader of the Islamic Republic of Iran http://t.co/af5Ot0FtTn #letter4u #Letter4All #Paris #JeSuisCharlie http://t.co/s0Y23V4NAp\n",
            "Message of Leader of the Islamic Republic of Iran http://t.co/agVa6vBd14 #letter4u #Letter4All #Paris #JeSuisCharlie http://t.co/5deRgvsNAG\n",
            "Message of Leader of the Islamic Republic of Iran http://t.co/agVa6vBd14 #letter4u #Letter4All #Paris #JeSuisCharlie http://t.co/CIVhxaNAYq\n",
            "Message of Leader of the Islamic Republic of Iran http://t.co/ak5zmOXVdU #letter4u #Letter4All #Paris #JeSuisCharlie http://t.co/gt6NAj60qC\n",
            "Message of Leader of the Islamic Republic of Iran http://t.co/aMtXAoB5K8 #letter4u #Letter4All #Paris #JeSuisCharlie http://t.co/vsNAFgPUn6\n",
            "Message of Leader of the Islamic Republic of Iran http://t.co/amuemmGLcN #letter4u #Letter4All #Paris #JeSuisCharlie http://t.co/BR4K6NAojL\n",
            "Message of Leader of the Islamic Republic of Iran http://t.co/AqKWnA9y4A #letter4u #Letter4All #Paris #JeSuisCharlie http://t.co/ct0jv5ktNA\n",
            "Message of Leader of the Islamic Republic of Iran http://t.co/AqKWnA9y4A #letter4u #Letter4All #Paris #JeSuisCharlie http://t.co/GF4tnrYNAo\n",
            "Message of Leader of the Islamic Republic of Iran http://t.co/AqKWnA9y4A #letter4u #Letter4All #Paris #JeSuisCharlie http://t.co/HOmwNAAYrM\n",
            "Message of Leader of the Islamic Republic of Iran http://t.co/AqKWnA9y4A #letter4u #Letter4All #Paris #JeSuisCharlie http://t.co/YfNNAdBODv\n",
            "Message of Leader of the Islamic Republic of Iran http://t.co/aUdRuyIS4f #letter4u #Letter4All #Paris #JeSuisCharlie http://t.co/HfIRJFNAyx\n",
            "Message of Leader of the Islamic Republic of Iran http://t.co/B0YsrUe0dy #letter4u #Letter4All #Paris #JeSuisCharlie http://t.co/esozNAG2kk\n",
            "Message of Leader of the Islamic Republic of Iran http://t.co/B0YsrUe0dy #letter4u #Letter4All #Paris #JeSuisCharlie http://t.co/ObUevNApys\n",
            "Message of Leader of the Islamic Republic of Iran http://t.co/b5ztX4bOLC #letter4u #Letter4All #Paris #JeSuisCharlie http://t.co/46csFqXNAk\n",
            "Message of Leader of the Islamic Republic of Iran http://t.co/bUQP0sop6G #letter4u #Letter4All #Paris #JeSuisCharlie http://t.co/HIFNAeHK19\n",
            "Message of Leader of the Islamic Republic of Iran http://t.co/bUQP0sop6G #letter4u #Letter4All #Paris #JeSuisCharlie http://t.co/HxMewNAZKU\n",
            "Message of Leader of the Islamic Republic of Iran http://t.co/bUQP0sop6G #letter4u #Letter4All #Paris #JeSuisCharlie http://t.co/NAhFoUpN3v\n",
            "Message of Leader of the Islamic Republic of Iran http://t.co/bUQP0sop6G #letter4u #Letter4All #Paris #JeSuisCharlie http://t.co/sZCkGMXVNA\n",
            "Message of Leader of the Islamic Republic of Iran http://t.co/BX7tDIpEim #letter4u #Letter4All #Paris #JeSuisCharlie http://t.co/IihNAgt9wE\n",
            "Message of Leader of the Islamic Republic of Iran http://t.co/BX7tDIpEim #letter4u #Letter4All #Paris #JeSuisCharlie http://t.co/N4JYtXNA3C\n",
            "Message of Leader of the Islamic Republic of Iran http://t.co/BX7tDIpEim #letter4u #Letter4All #Paris #JeSuisCharlie http://t.co/NAdJknsUbc\n",
            "Message of Leader of the Islamic Republic of Iran http://t.co/BX7tDIpEim #letter4u #Letter4All #Paris #JeSuisCharlie http://t.co/XXSYmTyNAF\n",
            "Message of Leader of the Islamic Republic of Iran http://t.co/C4BjmM4RI4 #letter4u #Letter4All #Paris #JeSuisCharlie http://t.co/tZNAa94cRL\n",
            "Message of Leader of the Islamic Republic of Iran http://t.co/c61DpFwrwF #letter4u #Letter4All #Paris #JeSuisCharlie http://t.co/bNADv7IyE9\n",
            "Message of Leader of the Islamic Republic of Iran http://t.co/c61DpFwrwF #letter4u #Letter4All #Paris #JeSuisCharlie http://t.co/NAhc2ware1\n",
            "Message of Leader of the Islamic Republic of Iran http://t.co/ChAqy3eSjO #letter4u #Letter4All #Paris #JeSuisCharlie http://t.co/ubYwwNAMAP\n",
            "Message of Leader of the Islamic Republic of Iran http://t.co/d2n7KiJDht #letter4u #Letter4All #Paris #JeSuisCharlie http://t.co/SNAiKKJkZI\n",
            "Message of Leader of the Islamic Republic of Iran http://t.co/dbBSFmYV0U #letter4u #Letter4All #Paris #JeSuisCharlie http://t.co/6dMKNAcCMb\n",
            "Message of Leader of the Islamic Republic of Iran http://t.co/DpZjQZbFPT #letter4u #Letter4All #Paris #JeSuisCharlie http://t.co/7w4rjbENAz\n",
            "Message of Leader of the Islamic Republic of Iran http://t.co/dRsYOWkVA5 #letter4u #Letter4All #Paris #JeSuisCharlie http://t.co/w1FaNAHukv\n",
            "Message of Leader of the Islamic Republic of Iran http://t.co/dzIdk1CtrU #letter4u #Letter4All #Paris #JeSuisCharlie http://t.co/cOCpNA7Ncs\n",
            "Message of Leader of the Islamic Republic of Iran http://t.co/dzIdk1CtrU #letter4u #Letter4All #Paris #JeSuisCharlie http://t.co/uWZKbNjxNA\n",
            "Message of Leader of the Islamic Republic of Iran http://t.co/ecUh8gCKfo #letter4u #Letter4All #Paris #JeSuisCharlie http://t.co/0NuTpNAtNW\n",
            "Message of Leader of the Islamic Republic of Iran http://t.co/ecUh8gCKfo #letter4u #Letter4All #Paris #JeSuisCharlie http://t.co/GoWNAypRZH\n",
            "Message of Leader of the Islamic Republic of Iran http://t.co/eSOpyIKwnJ #letter4u #Letter4All #Paris #JeSuisCharlie http://t.co/APnd7WpaNA\n",
            "Message of Leader of the Islamic Republic of Iran http://t.co/EW78aiszrX #letter4u #Letter4All #Paris #JeSuisCharlie http://t.co/dJCyFeHmNA\n",
            "Message of Leader of the Islamic Republic of Iran http://t.co/eWG20KbOIp #letter4u #Letter4All #Paris #JeSuisCharlie http://t.co/1Db79aNA9T\n",
            "Message of Leader of the Islamic Republic of Iran http://t.co/eWG20KbOIp #letter4u #Letter4All #Paris #JeSuisCharlie http://t.co/l5EftjoHNA\n",
            "Message of Leader of the Islamic Republic of Iran http://t.co/ey2npy2Yoe #letter4u #Letter4All #Paris #JeSuisCharlie http://t.co/B3ctWEtPNA\n",
            "Message of Leader of the Islamic Republic of Iran http://t.co/ey2npy2Yoe #letter4u #Letter4All #Paris #JeSuisCharlie http://t.co/oNAfKiu6f1\n",
            "Message of Leader of the Islamic Republic of Iran http://t.co/fI3lGdGYOM #letter4u #Letter4All #Paris #JeSuisCharlie http://t.co/NALRF0w8Nk\n",
            "Message of Leader of the Islamic Republic of Iran http://t.co/FSQxjTAhSt #letter4u #Letter4All #Paris #JeSuisCharlie http://t.co/Co7QNAHYlr\n",
            "Message of Leader of the Islamic Republic of Iran http://t.co/gfaG3TTHwV #letter4u #Letter4All #Paris #JeSuisCharlie http://t.co/iNACcGkNru\n",
            "Message of Leader of the Islamic Republic of Iran http://t.co/gfaG3TTHwV #letter4u #Letter4All #Paris #JeSuisCharlie http://t.co/qFmfu4NNAs\n",
            "Message of Leader of the Islamic Republic of Iran http://t.co/GHchKajFZ1 #letter4u #Letter4All #Paris #JeSuisCharlie http://t.co/4GNAT0dbKo\n",
            "Message of Leader of the Islamic Republic of Iran http://t.co/GHchKajFZ1 #letter4u #Letter4All #Paris #JeSuisCharlie http://t.co/NV0kks3qNA\n",
            "Message of Leader of the Islamic Republic of Iran http://t.co/gqFkSuAdF8 #letter4u #Letter4All #Paris #JeSuisCharlie http://t.co/5hfL8pn7NA\n",
            "Message of Leader of the Islamic Republic of Iran http://t.co/gqFkSuAdF8 #letter4u #Letter4All #Paris #JeSuisCharlie http://t.co/NAKnWIwyHU\n",
            "Message of Leader of the Islamic Republic of Iran http://t.co/gqFkSuAdF8 #letter4u #Letter4All #Paris #JeSuisCharlie http://t.co/yAh1wNAIwK\n",
            "Message of Leader of the Islamic Republic of Iran http://t.co/gyX3I62N3A #letter4u #Letter4All #Paris #JeSuisCharlie http://t.co/k9G1w5BNAS\n",
            "Message of Leader of the Islamic Republic of Iran http://t.co/gyX3I62N3A #letter4u #Letter4All #Paris #JeSuisCharlie http://t.co/NAZg5C5W75\n",
            "Message of Leader of the Islamic Republic of Iran http://t.co/gyX3I62N3A #letter4u #Letter4All #Paris #JeSuisCharlie http://t.co/xkd9FXNAv1\n",
            "Message of Leader of the Islamic Republic of Iran http://t.co/gyX3I6knV8 #letter4u #Letter4All #Paris #JeSuisCharlie http://t.co/NA90I2IvTG\n",
            "Message of Leader of the Islamic Republic of Iran http://t.co/h6CaLe8nci #letter4u #Letter4All #Paris #JeSuisCharlie http://t.co/vVNAUyw9wm\n",
            "Message of Leader of the Islamic Republic of Iran http://t.co/HIWzjpgObE #letter4u #Letter4All #Paris #JeSuisCharlie http://t.co/LDrq5dNAE1\n",
            "Message of Leader of the Islamic Republic of Iran http://t.co/HIWzjpgObE #letter4u #Letter4All #Paris #JeSuisCharlie http://t.co/LzXPqqNASA\n",
            "Message of Leader of the Islamic Republic of Iran http://t.co/htqSjrbuJN #letter4u #Letter4All #Paris #JeSuisCharlie http://t.co/NA4ci4Q3TQ\n",
            "Message of Leader of the Islamic Republic of Iran http://t.co/IbHQm9a8vk #letter4u #Letter4All #Paris #JeSuisCharlie http://t.co/5o92TVNAsJ\n",
            "Message of Leader of the Islamic Republic of Iran http://t.co/IbHQm9a8vk #letter4u #Letter4All #Paris #JeSuisCharlie http://t.co/C7vGulANAs\n",
            "Message of Leader of the Islamic Republic of Iran http://t.co/IbHQm9a8vk #letter4u #Letter4All #Paris #JeSuisCharlie http://t.co/eoa0M7C2NA\n",
            "Message of Leader of the Islamic Republic of Iran http://t.co/IbHQm9a8vk #letter4u #Letter4All #Paris #JeSuisCharlie http://t.co/NAPUWkDPdS\n",
            "Message of Leader of the Islamic Republic of Iran http://t.co/iGzepWkLKG #letter4u #Letter4All #Paris #JeSuisCharlie http://t.co/MHJENAfVKX\n",
            "Message of Leader of the Islamic Republic of Iran http://t.co/iGzepWkLKG #letter4u #Letter4All #Paris #JeSuisCharlie http://t.co/NA2CUJCAfM\n",
            "Message of Leader of the Islamic Republic of Iran http://t.co/IjiQrWY2aK #letter4u #Letter4All #Paris #JeSuisCharlie http://t.co/7WbJAiNA08\n",
            "Message of Leader of the Islamic Republic of Iran http://t.co/irQeooy3sy #letter4u #Letter4All #Paris #JeSuisCharlie http://t.co/SRX2ziNAFP\n",
            "Message of Leader of the Islamic Republic of Iran http://t.co/IrQJ8e0E4s #letter4u #Letter4All #Paris #JeSuisCharlie http://t.co/drjPU6lNAn\n",
            "Message of Leader of the Islamic Republic of Iran http://t.co/Iwk1CcLgBa #letter4u #Letter4All #Paris #JeSuisCharlie http://t.co/8pzVxgNA5A\n",
            "Message of Leader of the Islamic Republic of Iran http://t.co/JKStzF5IXH #letter4u #Letter4All #Paris #JeSuisCharlie http://t.co/EUZXzm6wNA\n",
            "Message of Leader of the Islamic Republic of Iran http://t.co/JKStzF5IXH #letter4u #Letter4All #Paris #JeSuisCharlie http://t.co/NA8Z02G335\n",
            "Message of Leader of the Islamic Republic of Iran http://t.co/JKStzF5IXH #letter4u #Letter4All #Paris #JeSuisCharlie http://t.co/NAfeXDROoy\n",
            "Message of Leader of the Islamic Republic of Iran http://t.co/JKStzF5IXH #letter4u #Letter4All #Paris #JeSuisCharlie http://t.co/SbEUblM3NA\n",
            "Message of Leader of the Islamic Republic of Iran http://t.co/Jq2vREo6x8 #letter4u #Letter4All #Paris #JeSuisCharlie http://t.co/KSXb6NARsv\n",
            "Message of Leader of the Islamic Republic of Iran http://t.co/jtkwfgZ1Gi #letter4u #Letter4All #Paris #JeSuisCharlie http://t.co/4MpNAJJ3Ob\n",
            "Message of Leader of the Islamic Republic of Iran http://t.co/jtkwfhgCxQ #letter4u #Letter4All #Paris #JeSuisCharlie http://t.co/NA21IFYch1\n",
            "Message of Leader of the Islamic Republic of Iran http://t.co/JtLtAhjSPA #letter4u #Letter4All #Paris #JeSuisCharlie http://t.co/hairNAUrRP\n",
            "Message of Leader of the Islamic Republic of Iran http://t.co/JtLtAhjSPA #letter4u #Letter4All #Paris #JeSuisCharlie http://t.co/w1FG2NAQe5\n",
            "Message of Leader of the Islamic Republic of Iran http://t.co/JtLtAhjSPA #letter4u #Letter4All #Paris #JeSuisCharlie http://t.co/zvSRjeMNA9\n",
            "Message of Leader of the Islamic Republic of Iran http://t.co/kE6f51hZIH #letter4u #Letter4All #Paris #JeSuisCharlie http://t.co/378HwNAUlJ\n",
            "Message of Leader of the Islamic Republic of Iran http://t.co/kE6f51hZIH #letter4u #Letter4All #Paris #JeSuisCharlie http://t.co/BNASOOvLwt\n",
            "Message of Leader of the Islamic Republic of Iran http://t.co/keLd8oJSOk #letter4u #Letter4All #Paris #JeSuisCharlie http://t.co/QJoRQNAtUp\n",
            "Message of Leader of the Islamic Republic of Iran http://t.co/kK8UmGz3AN #letter4u #Letter4All #Paris #JeSuisCharlie http://t.co/hK4dWNA730\n",
            "Message of Leader of the Islamic Republic of Iran http://t.co/kK8UmGz3AN #letter4u #Letter4All #Paris #JeSuisCharlie http://t.co/nHQG52NATd\n",
            "Message of Leader of the Islamic Republic of Iran http://t.co/klwX2SZicp #letter4u #Letter4All #Paris #JeSuisCharlie http://t.co/2v7QzNAgj4\n",
            "Message of Leader of the Islamic Republic of Iran http://t.co/klwX2SZicp #letter4u #Letter4All #Paris #JeSuisCharlie http://t.co/FPBNAq9yLG\n",
            "Message of Leader of the Islamic Republic of Iran http://t.co/kXS0DvblGN #letter4u #Letter4All #Paris #JeSuisCharlie http://t.co/pS7mjNAw04\n",
            "Message of Leader of the Islamic Republic of Iran http://t.co/l5Zb6DvGsr #letter4u #Letter4All #Paris #JeSuisCharlie http://t.co/tWNAvBbMuB\n",
            "Message of Leader of the Islamic Republic of Iran http://t.co/lb6Xsfz2rm #letter4u #Letter4All #Paris #JeSuisCharlie http://t.co/5Z9NASvY79\n",
            "Message of Leader of the Islamic Republic of Iran http://t.co/lb6Xsfz2rm #letter4u #Letter4All #Paris #JeSuisCharlie http://t.co/FPklj2cLNA\n",
            "Message of Leader of the Islamic Republic of Iran http://t.co/LhlaIpNL7y #letter4u #Letter4All #Paris #JeSuisCharlie http://t.co/NAFwgLh6Lh\n",
            "Message of Leader of the Islamic Republic of Iran http://t.co/LRfMVMscjG #letter4u #Letter4All #Paris #JeSuisCharlie http://t.co/9zbNAcMVPn\n",
            "Message of Leader of the Islamic Republic of Iran http://t.co/LRfMVMscjG #letter4u #Letter4All #Paris #JeSuisCharlie http://t.co/TpUD3JNAZW\n",
            "Message of Leader of the Islamic Republic of Iran http://t.co/LVj8tk5uWA #letter4u #Letter4All #Paris #JeSuisCharlie http://t.co/9wxG3NAhTD\n",
            "Message of Leader of the Islamic Republic of Iran http://t.co/LVj8tk5uWA #letter4u #Letter4All #Paris #JeSuisCharlie http://t.co/c5w32fNAI3\n",
            "Message of Leader of the Islamic Republic of Iran http://t.co/NbkYazjded #letter4u #Letter4All #Paris #JeSuisCharlie http://t.co/9sd9NAYtBm\n",
            "Message of Leader of the Islamic Republic of Iran http://t.co/nBlL2tMY3N #letter4u #Letter4All #Paris #JeSuisCharlie http://t.co/NAD77KO9U6\n",
            "Message of Leader of the Islamic Republic of Iran http://t.co/nBlL2tvmFd #letter4u #Letter4All #Paris #JeSuisCharlie http://t.co/nCyZptNAiD\n",
            "Message of Leader of the Islamic Republic of Iran http://t.co/NeB5JCvrtN #letter4u #Letter4All #Paris #JeSuisCharlie http://t.co/LNAWzOLlQu\n",
            "Message of Leader of the Islamic Republic of Iran http://t.co/nGPBiv2CEz #letter4u #Letter4All #Paris #JeSuisCharlie http://t.co/HEIVNAPYpU\n",
            "Message of Leader of the Islamic Republic of Iran http://t.co/niTxpeTFue #letter4u #Letter4All #Paris #JeSuisCharlie http://t.co/NAXjJLt33F\n",
            "Message of Leader of the Islamic Republic of Iran http://t.co/nk9Y8xG14x #letter4u #Letter4All #Paris #JeSuisCharlie http://t.co/lNAoWCpByr\n",
            "Message of Leader of the Islamic Republic of Iran http://t.co/NUrRlv5OwQ #letter4u #Letter4All #Paris #JeSuisCharlie http://t.co/7B0fweNA8W\n",
            "Message of Leader of the Islamic Republic of Iran http://t.co/NUrRlv5OwQ #letter4u #Letter4All #Paris #JeSuisCharlie http://t.co/iBSn5Eh9NA\n",
            "Message of Leader of the Islamic Republic of Iran http://t.co/NUrRlv5OwQ #letter4u #Letter4All #Paris #JeSuisCharlie http://t.co/xNA3jxestj\n",
            "Message of Leader of the Islamic Republic of Iran http://t.co/ormejX5iYS #letter4u #Letter4All #Paris #JeSuisCharlie http://t.co/5sUG8XqlNA\n",
            "Message of Leader of the Islamic Republic of Iran http://t.co/oWNWALulCd #letter4u #Letter4All #Paris #JeSuisCharlie http://t.co/dJyNAIdfAd\n",
            "Message of Leader of the Islamic Republic of Iran http://t.co/oWNWALulCd #letter4u #Letter4All #Paris #JeSuisCharlie http://t.co/IVNAqdnV5t\n",
            "Message of Leader of the Islamic Republic of Iran http://t.co/oWNWALulCd #letter4u #Letter4All #Paris #JeSuisCharlie http://t.co/vLFcNAqEZQ\n",
            "Message of Leader of the Islamic Republic of Iran http://t.co/P6OvnKKops #letter4u #Letter4All #Paris #JeSuisCharlie http://t.co/Uxl6NAAlTV\n",
            "Message of Leader of the Islamic Republic of Iran http://t.co/P6OvnKsNxU #letter4u #Letter4All #Paris #JeSuisCharlie http://t.co/L0kBNAUVWN\n",
            "Message of Leader of the Islamic Republic of Iran http://t.co/PC77p46NdA #letter4u #Letter4All #Paris #JeSuisCharlie http://t.co/OxNAcXTblr\n",
            "Message of Leader of the Islamic Republic of Iran http://t.co/PC77p46NdA #letter4u #Letter4All #Paris #JeSuisCharlie http://t.co/wRNAb2QL9Q\n",
            "Message of Leader of the Islamic Republic of Iran http://t.co/pJ9Z9qP9No #letter4u #Letter4All #Paris #JeSuisCharlie http://t.co/O0amATxNAF\n",
            "Message of Leader of the Islamic Republic of Iran http://t.co/PKezT3ko6o #letter4u #Letter4All #Paris #JeSuisCharlie http://t.co/dEQoNAkemM\n",
            "Message of Leader of the Islamic Republic of Iran http://t.co/plXJB5fQ3Y #letter4u #Letter4All #Paris #JeSuisCharlie http://t.co/GNAMIAGSvR\n",
            "Message of Leader of the Islamic Republic of Iran http://t.co/plXJB5xrsy #letter4u #Letter4All #Paris #JeSuisCharlie http://t.co/NAYWcwfOYf\n",
            "Message of Leader of the Islamic Republic of Iran http://t.co/qYHsOi8gK9 #letter4u #Letter4All #Paris #JeSuisCharlie http://t.co/4brrNAzzPR\n",
            "Message of Leader of the Islamic Republic of Iran http://t.co/qYHsOi8gK9 #letter4u #Letter4All #Paris #JeSuisCharlie http://t.co/OYyNAP9lmx\n",
            "Message of Leader of the Islamic Republic of Iran http://t.co/Qz6wRAZaNo #letter4u #Letter4All #Paris #JeSuisCharlie http://t.co/n85mlJNAkI\n",
            "Message of Leader of the Islamic Republic of Iran http://t.co/Qz6wRAZaNo #letter4u #Letter4All #Paris #JeSuisCharlie http://t.co/SFcINNAuMD\n",
            "Message of Leader of the Islamic Republic of Iran http://t.co/Qz6wRAZaNo #letter4u #Letter4All #Paris #JeSuisCharlie http://t.co/zNA6LZAcgk\n",
            "Message of Leader of the Islamic Republic of Iran http://t.co/rcMbHEDWD0 #letter4u #Letter4All #Paris #JeSuisCharlie http://t.co/ArNA54ynCg\n",
            "Message of Leader of the Islamic Republic of Iran http://t.co/rcMbHEDWD0 #letter4u #Letter4All #Paris #JeSuisCharlie http://t.co/E6NAq8JgUy\n",
            "Message of Leader of the Islamic Republic of Iran http://t.co/rjBqzOPgHO #letter4u #Letter4All #Paris #JeSuisCharlie http://t.co/aNAVyiSPBe\n",
            "Message of Leader of the Islamic Republic of Iran http://t.co/rNQNHf0unA #letter4u #Letter4All #Paris #JeSuisCharlie http://t.co/NASeWs9KME\n",
            "Message of Leader of the Islamic Republic of Iran http://t.co/rNQNHf0unA #letter4u #Letter4All #Paris #JeSuisCharlie http://t.co/wra2I5aNA0\n",
            "Message of Leader of the Islamic Republic of Iran http://t.co/RSitpmTkHM #letter4u #Letter4All #Paris #JeSuisCharlie http://t.co/L2wpYYPNAQ\n",
            "Message of Leader of the Islamic Republic of Iran http://t.co/RWQZ3raZ6r #letter4u #Letter4All #Paris #JeSuisCharlie http://t.co/NADm8BFyGK\n",
            "Message of Leader of the Islamic Republic of Iran http://t.co/RWQZ3raZ6r #letter4u #Letter4All #Paris #JeSuisCharlie http://t.co/NAxzdS3on3\n",
            "Message of Leader of the Islamic Republic of Iran http://t.co/RWQZ3raZ6r #letter4u #Letter4All #Paris #JeSuisCharlie http://t.co/sqbO6gatNA\n",
            "Message of Leader of the Islamic Republic of Iran http://t.co/s5x1JeDKNm #letter4u #Letter4All #Paris #JeSuisCharlie http://t.co/uNAjeCKJAj\n",
            "Message of Leader of the Islamic Republic of Iran http://t.co/s5x1JeDKNm #letter4u #Letter4All #Paris #JeSuisCharlie http://t.co/XL2H9g1vNA\n",
            "Message of Leader of the Islamic Republic of Iran http://t.co/s5x1JeVlEU #letter4u #Letter4All #Paris #JeSuisCharlie http://t.co/isNAR69RQE\n",
            "Message of Leader of the Islamic Republic of Iran http://t.co/sabS0jUpjF #letter4u #Letter4All #Paris #JeSuisCharlie http://t.co/806Y5qeENA\n",
            "Message of Leader of the Islamic Republic of Iran http://t.co/Sb7P7s4csM #letter4u #Letter4All #Paris #JeSuisCharlie http://t.co/NAOk3w02eS\n",
            "Message of Leader of the Islamic Republic of Iran http://t.co/tA6lzQNXwP #letter4u #Letter4All #Paris #JeSuisCharlie http://t.co/5l8NAoVZs7\n",
            "Message of Leader of the Islamic Republic of Iran http://t.co/tUE3fnWByH #letter4u #Letter4All #Paris #JeSuisCharlie http://t.co/NATd3G5Jly\n",
            "Message of Leader of the Islamic Republic of Iran http://t.co/uECu5bH2Jp #letter4u #Letter4All #Paris #JeSuisCharlie http://t.co/At9GNAI9xJ\n",
            "Message of Leader of the Islamic Republic of Iran http://t.co/uECu5bH2Jp #letter4u #Letter4All #Paris #JeSuisCharlie http://t.co/ihHNAK8Teh\n",
            "Message of Leader of the Islamic Republic of Iran http://t.co/uGe1POJ26L #letter4u #Letter4All #Paris #JeSuisCharlie http://t.co/4NA0dEj9HO\n",
            "Message of Leader of the Islamic Republic of Iran http://t.co/uGe1POJ26L #letter4u #Letter4All #Paris #JeSuisCharlie http://t.co/RpidNAuoGm\n",
            "Message of Leader of the Islamic Republic of Iran http://t.co/UN3iFoI906 #letter4u #Letter4All #Paris #JeSuisCharlie http://t.co/9S7AfQZNAW\n",
            "Message of Leader of the Islamic Republic of Iran http://t.co/UN3iFoI906 #letter4u #Letter4All #Paris #JeSuisCharlie http://t.co/NAyeSRb9Lk\n",
            "Message of Leader of the Islamic Republic of Iran http://t.co/UU34Z7zGcm #letter4u #Letter4All #Paris #JeSuisCharlie http://t.co/7GANAokB82\n",
            "Message of Leader of the Islamic Republic of Iran http://t.co/v1BbZR3zbU #letter4u #Letter4All #Paris #JeSuisCharlie http://t.co/fNAjakmysG\n",
            "Message of Leader of the Islamic Republic of Iran http://t.co/vFpYQt4bQs #letter4u #Letter4All #Paris #JeSuisCharlie http://t.co/YrBLOBRuNA\n",
            "Message of Leader of the Islamic Republic of Iran http://t.co/vIZUdwRaFy #letter4u #Letter4All #Paris #JeSuisCharlie http://t.co/xlNAWMwrCo\n",
            "Message of Leader of the Islamic Republic of Iran http://t.co/vIZUdwzzgY #letter4u #Letter4All #Paris #JeSuisCharlie http://t.co/UqJBCkNAgq\n",
            "Message of Leader of the Islamic Republic of Iran http://t.co/vXFIyH3RwW #letter4u #Letter4All #Paris #JeSuisCharlie http://t.co/NAcoBPneBB\n",
            "Message of Leader of the Islamic Republic of Iran http://t.co/WdaY5nyw0e #letter4u #Letter4All #Paris #JeSuisCharlie http://t.co/c5x24NAiZA\n",
            "Message of Leader of the Islamic Republic of Iran http://t.co/WG8vMpIdOU #letter4u #Letter4All #Paris #JeSuisCharlie http://t.co/oANAlth8FC\n",
            "Message of Leader of the Islamic Republic of Iran http://t.co/WG8vMpIdOU #letter4u #Letter4All #Paris #JeSuisCharlie http://t.co/sHZHNANnSm\n",
            "Message of Leader of the Islamic Republic of Iran http://t.co/wJQA2IY40r #letter4u #Letter4All #Paris #JeSuisCharlie http://t.co/hC8VNAPU2G\n",
            "Message of Leader of the Islamic Republic of Iran http://t.co/wJQA2IY40r #letter4u #Letter4All #Paris #JeSuisCharlie http://t.co/kJZNAifEe3\n",
            "Message of Leader of the Islamic Republic of Iran http://t.co/wJQA2IY40r #letter4u #Letter4All #Paris #JeSuisCharlie http://t.co/NAJ0LBTxlU\n",
            "Message of Leader of the Islamic Republic of Iran http://t.co/wQMTjMW9ao #letter4u #Letter4All #Paris #JeSuisCharlie http://t.co/CNArYAg763\n",
            "Message of Leader of the Islamic Republic of Iran http://t.co/x4r1hGOCkh #letter4u #Letter4All #Paris #JeSuisCharlie http://t.co/NA9aVHjb7z\n",
            "Message of Leader of the Islamic Republic of Iran http://t.co/x4r1hGOCkh #letter4u #Letter4All #Paris #JeSuisCharlie http://t.co/WG4KNAwehv\n",
            "Message of Leader of the Islamic Republic of Iran http://t.co/x4r1hGOCkh #letter4u #Letter4All #Paris #JeSuisCharlie http://t.co/YhV5ZOENAI\n",
            "Message of Leader of the Islamic Republic of Iran http://t.co/xj48Hk8MRG #letter4u #Letter4All #Paris #JeSuisCharlie http://t.co/NAXuYxxpYN\n",
            "Message of Leader of the Islamic Republic of Iran http://t.co/xj48Hk8MRG #letter4u #Letter4All #Paris #JeSuisCharlie http://t.co/szNAnywQi2\n",
            "Message of Leader of the Islamic Republic of Iran http://t.co/Xo6l4tNou0 #letter4u #Letter4All #Paris #JeSuisCharlie http://t.co/jk0fVWMeNA\n",
            "Message of Leader of the Islamic Republic of Iran http://t.co/Xo6l4tNou0 #letter4u #Letter4All #Paris #JeSuisCharlie http://t.co/VXNAhZjZGJ\n",
            "Message of Leader of the Islamic Republic of Iran http://t.co/Xo6l4tNou0 #letter4u #Letter4All #Paris #JeSuisCharlie http://t.co/WLMqNAK3Ab\n",
            "Message of Leader of the Islamic Republic of Iran http://t.co/XWB9Vs9fDT #letter4u #Letter4All #Paris #JeSuisCharlie http://t.co/vAfNAFliGU\n",
            "Message of Leader of the Islamic Republic of Iran http://t.co/yTX5IazXxX #letter4u #Letter4All #Paris #JeSuisCharlie http://t.co/GgLsgnVFNA\n",
            "Message of Leader of the Islamic Republic of Iran http://t.co/yv5sSV76DY #letter4u #Letter4All #Paris #JeSuisCharlie http://t.co/cQNAfkKuPu\n",
            "Message of Leader of the Islamic Republic of Iran http://t.co/zI5yBRcMv9 #letter4u #Letter4All #Paris #JeSuisCharlie http://t.co/gB831cxiNA\n",
            "Message of Leader of the Islamic Republic of Iran http://t.co/zq15nUg4y4 #letter4u #Letter4All #Paris #JeSuisCharlie http://t.co/NAC8xsOQyN\n",
            "Message of Leader of the Islamic Republic of Iran http://t.co/zRPKnhCPtw #letter4u #Letter4All #Paris #JeSuisCharlie http://t.co/jMNAXSodoT\n",
            "Message of Leader of the Islamic Republic of Iran http://t.co/zRPKnhUqS6 #letter4u #Letter4All #Paris #JeSuisCharlie http://t.co/fV9NAcpeLn\n",
            "Message of Leader of the Islamic Republic of Iran. #letter4u #Letter4All @Khamenei_ir #JeSuisCharlie #french http://t.co/5YNAEhGYAp\n",
            "Message of Leader of the Islamic Republic of Iran. #letter4u #Letter4All @Khamenei_ir #JeSuisCharlie #french http://t.co/8OFKlEHNA4\n",
            "Message of Leader of the Islamic Republic of Iran. #letter4u #Letter4All @Khamenei_ir #JeSuisCharlie #french http://t.co/acvgXPfNAQ\n",
            "Message of Leader of the Islamic Republic of Iran. #letter4u #Letter4All @Khamenei_ir #JeSuisCharlie #french http://t.co/aK0JRJNAdj\n",
            "Message of Leader of the Islamic Republic of Iran. #letter4u #Letter4All @Khamenei_ir #JeSuisCharlie #french http://t.co/AZFCNAqT8e\n",
            "Message of Leader of the Islamic Republic of Iran. #letter4u #Letter4All @Khamenei_ir #JeSuisCharlie #french http://t.co/kNAzcZtEgV\n",
            "Message of Leader of the Islamic Republic of Iran. #letter4u #Letter4All @Khamenei_ir #JeSuisCharlie #french http://t.co/m5GINA2VYJ\n",
            "Message of Leader of the Islamic Republic of Iran. #letter4u #Letter4All @Khamenei_ir #JeSuisCharlie #french http://t.co/ME9RNA3J63\n",
            "Message of Leader of the Islamic Republic of Iran. #letter4u #Letter4All @Khamenei_ir #JeSuisCharlie #french http://t.co/NATvs9Syuh\n",
            "Message of Leader of the Islamic Republic of Iran. #letter4u #Letter4All @Khamenei_ir #JeSuisCharlie #french http://t.co/NAzUK0Gkoz\n",
            "Message of Leader of the Islamic Republic of Iran. #letter4u #Letter4All @Khamenei_ir #JeSuisCharlie #french http://t.co/oL9oNAOztd\n",
            "Message of Leader of the Islamic Republic of Iran. #letter4u #Letter4All @Khamenei_ir #JeSuisCharlie #french http://t.co/OMNAmLFs14\n",
            "Message of Leader of the Islamic Republic of Iran. #letter4u #Letter4All @Khamenei_ir #JeSuisCharlie #french http://t.co/PmwNAi1WB4\n",
            "Message of Leader of the Islamic Republic of Iran. #letter4u #Letter4All @Khamenei_ir #JeSuisCharlie #french http://t.co/ppAjNA024R\n",
            "Message of Leader of the Islamic Republic of Iran. #letter4u #Letter4All @Khamenei_ir #JeSuisCharlie #french http://t.co/pskxi09NAl\n",
            "Message of Leader of the Islamic Republic of Iran. #letter4u #Letter4All @Khamenei_ir #JeSuisCharlie #french http://t.co/QUNA7XZe6F\n",
            "Message of Leader of the Islamic Republic of Iran. #letter4u #Letter4All @Khamenei_ir #JeSuisCharlie #french http://t.co/scLwHNABjz\n",
            "Message of Leader of the Islamic Republic of Iran. #letter4u #Letter4All @Khamenei_ir #JeSuisCharlie #french http://t.co/SNAqBoX0Qq\n",
            "Message of Leader of the Islamic Republic of Iran. #letter4u #Letter4All @Khamenei_ir #JeSuisCharlie #french http://t.co/wBteauFRNA\n",
            "Message of Leader of the Islamic Republic of Iran. #letter4u #Letter4All @Khamenei_ir #JeSuisCharlie #french http://t.co/wNAvVB3xDT\n",
            "Message of Leader of the Islamic Republic of Iran. #letter4u #Letter4All @Khamenei_ir #JeSuisCharlie #french http://t.co/WWNAX3Sd5I\n",
            "Message of Leader of the Islamic Republic of Iran. #letter4u #Letter4All @Khamenei_ir #JeSuisCharlie #french http://t.co/xAYNA24Gfd\n",
            "Message of Leader of the Islamic Republic of Iran. #letter4u #Letter4All @Khamenei_ir #JeSuisCharlie #french http://t.co/XRDgNATnQq\n",
            "Message of Leader of the Islamic Republic of Iran. #letter4u #Letter4All @Khamenei_ir #JeSuisCharlie #french http://t.co/YCNA0H01q5\n",
            "@mfa_russia Germany France Israel EU @NATO exploit Holocaust for their causes! #JeSuisCharlie #CharlieHebdo http://t.co/ELGVBIiPul\n",
            "@MillerMENA @mediastudied 10,000? #JeSuisCharlie was 4,000,000 people.\n",
            "\"@MimiFaust: Pray to end violence #PrayForNigeria #JeSuisCharlie #StandUp #BeCounted http://t.co/ypkSWIYLI4 http://t.co/THQ6xNA0yb\"lolol\n",
            "Miss BumBum Contestant: 'I'm Being Punished For Stupid Vanity' (GRAPHIC PHOTO): A Miss BumBum r... http://t.co/AbQWoNA979 #JeSuisCharlie\n",
            "Miss Israel and miss France, together against terror #JeSuisCharlie #JeSuisJuif http://t.co/G4NAZMMkB1\n",
            "Modern China? NO, UGLY CHINA http://t.co/f5uneZBII1 If we cant stand #JeSuisCharlie terrorism, how can we stand THIS terrorism? #IAmAnimal\n",
            ".@moi_Bahrain You say #Bahrain regime is committed to freedom of expression. Prove it! Drop all charges against @NABEELRAJAB #JeSuisCharlie\n",
            "Most inappropriate shoot ever? Near-naked model poses in soaked Je Suis Charlie t-shirt: But mo... http://t.co/Vsm0pNAJGm #JeSuisCharlie\n",
            "MT @brianstelter: Paris-based @Le_Figaro calls this \"a record in the history of the French press.\" http://t.co/OisNAo1G4L #jesuischarlie\n",
            "MT @CHSRoom65: gr11 s/book page;intended to echo 9/11 visuals #JeSuisCharlie http://t.co/dNA5bqAOCI\n",
            "My free speech trumps your religion. I don't have respect for religion that needs guns to make a point. #JeSuisCharlie #NAACPBombing\n",
            "MY NAME IS CHARLIE HEBDO http://t.co/SxzIlr7s3G #JeSuisCharlie\n",
            "NAACP bomber vsScott Garman convicted abortion clinic bomber anarchy leftist http://t.co/OrmbPgLRZX #FoxNews #CNN #AlJazeera #JeSuisCharlie\n",
            "#NAACPBombing (I am black) #JeSuisCharlie #wearethepeople Mainstream Media censors #Mainstreammedia is not free\n",
            "@NAAS_PRODUCTION thank u for the follow! Massive respect to you all and big love #legends #respect #JeSuisCharlie\n",
            "@NABEELRAJAB faces 6 years in prison for TWEETING. Support for free expression https://t.co/xGBm3u4dRs #JeSuisCharlie @Limportant_fr @hrw\n",
            "@NAGISAFTLOUIS didnt you know about the terrorist attack in a french magazine studio thing (charlie hebdo) they made the # #jesuischarlie\n",
            "@NAGISAFTLOUIS dont you know about #jesuischarlie\n",
            "@NAInfidels you are obsessed with hating Islam! #JeSuisCharlie was not\n",
            "#NAI-propaganda \"journalists\" now go all #JeSuisCharlie because their union takes disciplinary action. I'm going to be sick. #Greece\n",
            "NASA evacuates its side of space station, but finds no leak http://t.co/eGT1SARz9h #JeSuisCharlie\n",
            "@NASA #JeSuisCharlie Prophet Muhammad said: God has sent me to perfect good manners and to do good deeds http://t.co/ezl8xcOtP3\n",
            "NASA Set to Launch Soil Moisture Tracking Satellite: NASA's next mission into space will study ... http://t.co/iaX2QvL1fN #JeSuisCharlie\n",
            "NASCAR Driver Kurt Busch Claims Ex-Girlfriend Is a Trained Assassin  http://t.co/YwWUkOAkIs #JeSuisCharlie\n",
            "@NASCARNAC her comments on Facebook have been censored thats so UN American #CharlieHebdo #JeSuisCharlie\n",
            "@NASDAQ Hello, can you follow me please, we (@6mois) want to publish a picture you posted here last week with the hashtag #JeSuisCharlie\n",
            "\"@NASDAQ: We pay tribute to the Charlie Hebdo victims. #JeSuisCharlie http://t.co/DCDX9jZ92M\"\n",
            "\"@NASDAQ: We pay tribute to the Charlie Hebdo victims. #JeSuisCharlie http://t.co/IcAV87IFCc\" very proud of this public display.\n",
            "@NASDAQ Why not! #JeSuisCharlie #CharlieHebdo #LiberteEgaliteFraternite #finance #education http://t.co/o3ewK89SwV http://t.co/y7gCtXlfja\n",
            "NASTY; NASTY \"@davidicke: 'Zionism needs anti-Semitism to justify crimes': http://t.co/2rSdm7CLPY #JeSuisCharlie http://t.co/VIV1dtRVp6\"\n",
            "@nathalie_rayner NATH!&lt;3 hahaha!!;) \"ME\"! ;) No! I just drink wine!;) &lt;3 #LoveYouMore &amp; #JeSuisCharlie &amp; LAUGH!;) http://t.co/IS2iBTzx6w\n",
            "@NATO 4 Blocking On Facebook I'm Going 2 Rape Your God With BaseballBat Then Fill Anal Cavity With TNT &amp; Detonate CockSucker! #JeSuisCharlie\n",
            "NATO finally says we are sorry for bombing innocent people in Yugoslavia. http://t.co/QiOlXEy8nu #tcot #tlot #JeSuisCharlie\n",
            "NAZI #GOVERNMENT #EBAY ITEMS W/#SWASTIKA! Visit Ebay Store http://t.co/LvHJjlfHuW #JeNeSuisPasCharlie #JeSuisCharlie #isis #death #War\n",
            "@NeddraASmith @SChurch00 @_JuicieGINA i meant all three of y'all. You should be eating spin do or bruschetta. #Selma #JeSuisCharlie\n",
            "Needed at next #Hajj in #Mecca #Islam http://t.co/6mYLHuSv5e\"@anchemchoudary #Cair @CAIRNational @mmfa @MuslimMatters @ISNAHQ #JeSuisCharlie\n",
            "Netanyahu accused of using french terror tragedy for political gains. #RIP #FRENCHJOURNALISTS #FRANCE #PARIS #JESUISCHARLIE #FRANCE24\n",
            "@netanyahu in Paris? First time a NAZI for the peace. But it's wrong. Dear world: he was faking. He's a NAZI actor #JeSuisCharlie\n",
            "Netanyahu was asked not to come to Paris &amp; did anyway. Perhaps occupation is just part of his DNA. #JeSuisCharlie\n",
            "New issue of Charlie Hebdo published http://t.co/rNAu8wxaJ6 #CharlieHebdo cha #JeSuisCharlie\n",
            "New street-art popped up. #jesuischarlie http://t.co/Zs61L5UNAB http://t.co/mUpYuWy5sJ\n",
            "\"@NewYorker: The cover of next week's issue, by Ana Juan: http://t.co/ZOxNAUumlN #JeSuisCharlie http://t.co/pzeMxjR7mv\" #RealNews #Freedom\n",
            "Nick Cannon FINALLY Files For Divorce From Mariah Carey!: Well this was a long time coming! On ... http://t.co/3b7vjCO4m9 #JeSuisCharlie\n",
            "@NICKIMINAJ are you Charlie ? #JeSuisCharlie\n",
            "@NICKIMINAJ please pray for us #JeSuisCharlie\n",
            "Nigeria: 2,000 feared killed in Boko Haram's 'deadliest massacre' http://t.co/JyDfmINAS0 #goedemorgen #Parijs #Afrika #jesuisCharlie #nonext\n",
            "Nigerian President Goodluck Jonathan deciding if he should comment on #JeSuisCharlie or the #BagaHolocaust first http://t.co/QYn0ZeYnNA\n",
            "Nineties branding redux #paris #nofear #jesuischarlie @ Paris Gare du Nord https://t.co/CFNA7eAF86\n",
            "Noam Chomsky on #CharlieHebdo: No #JeSuisCharlie equivalent from govts &amp; media to NATO's 1999 bombing of Serbian TV https://t.co/9QvhWJLjEg\n",
            "#NonSequitur #Comics | ArcaMax Publishing http://t.co/GvJIJ9w3br via @po_st #JeSuisCharlie FINALLY MAKES IT in the #dailypaper! In #US...\n",
            "\"Not Afraid.\" Powerful image from Paris tonight. #JeSuisCharlie (Photo: Thibault Camus/AP) http://t.co/r4ylnxTJEe http://t.co/pNAejcRqWs\n",
            "#NotInMyName #Islam #islamnoncoupable #CharlieHebdo #JeSuisCharlie Muslims hack quebec website with threats http://t.co/Y07NAmXudC\n",
            "#NotInMyName #Islam #islamnoncoupable #JeSuisCharlie NATO Beefs Up Response Military To Face Russia, ISIS Threats - http://t.co/IfK5zris2q\n",
            "#NotInMyName #islamnoncoupable #JeSuisCharlie #Islamophobia #MuslimLivesMatter #Muslims claims #Iraq suicide bombings http://t.co/kqr3m3TNAg\n",
            "#NotInMyName #killallmuslims #islamnoncoupable #JeSuisCharlie #IslamicState #ISIS mastered the city of al-Baghdadi http://t.co/7NASDsdtv9\n",
            "Now #NATO will have a #JeSuisCharlie or #Breivik attack maybe even stage a kidnap like they did to Aldo Moro @Ian56789 #Ukraine #banderastan\n",
            "Numbers: The Capital of Hell http://t.co/3tvM6wGp4U via @_Cryptosphere #poetry #JeSuisCharlie #BokoHaram #NAACPBombing\n",
            "\"@nypost: Latest Charlie Hebdo issue finally in New York...sort of http://t.co/1AXkMZIjTE\" As you say ...FINALLY ! #JeSuisCharlie\n",
            "OBAMA'S 'ALLEGEDLY A COLLEGE GRADUATE': AWESOME ANALYSIS OF CHOOM DUDE http://t.co/NbEM7LdS9Z #UniteBlue #p2 #JeSuisCharlie #CharlieHebdo\n",
            "@obyezeks Ma, U dont need to to mk a diff. IMAGINE @MRS-IWEALA CLAIMg #JESUISCHARLIE?NA DOLLAR? HAS SHE EVER DONE DT WT MURDERED NIGERIANS?\n",
            "OH MON DIEU. #JeSuisCharlie LIVE SUR SNAP !\n",
            "ONA &amp; 33 journalism orgs, representing 20,000+ journalists, stand in solidarity with #CharlieHebdo #JeSuisCharlie http://t.co/CqGcRB29FP\n",
            "ONLY JOURNALISTS MATTER https://t.co/NB7vk6KqBB #Christianophobia #mediabias #JeNeSuisPasCharlie #JeSuisCharlie #nigeria #ReligiousFreedom\n",
            "Opening Night at the Santa Barbara Film Festival!: Opening Night at the Arlington Theatre on St... http://t.co/ljfDFNAjoQ #JeSuisCharlie\n",
            "@OrgIAC Supporters of #Iran'ian opposition join the rally against Extremism-Washington #CharlieHebdo #JeSuisCharlie http://t.co/1IJqRNAoZz\n",
            "Our pick of cartoons &amp; artwork responses to the #CharlieHebdo attacks in Paris #JeSuisCharlie http://t.co/5vFYws3jAC http://t.co/YNAA2UKDt9\n",
            "Over 200 #journalists killed in #Russia &gt;&gt; http://t.co/WgF7EpdYcF &lt;&lt; #Putin #Donetsk #JeSuisCharlie #Mistral #terrorism #NATO #Ukraine\n",
            "@paddy67a @citizenNA @LouiseMensch @JoelTaylorMetro no the same people that used the #JeSuisCharlie as a stick to beat muslims with\n",
            "@paigemacp @HadadDNA If nothing is sacred, then nothing should be immune. #Jenesuispascharlie #JeSuisCharlie http://t.co/d1r1sitlQX\n",
            "@Paradoxy13: Psychotic #Assad Shabiha stabbing &amp; trying to decapitate a corpse http://t.co/2ynRHckuv4 #syria #JeSuisCharlie #FRANCE #CANADA\n",
            "#Paris Charlie Hebdo attack has at least 3 #NATO Operation Gladio signatures http://t.co/XvB9FOGTiD #news #jesuisCharlie #PJNET #WAAR #TCOT\n",
            "Paris Shooters Just Returned from NATO's Proxy War in Syria http://t.co/vx08gx1ZWI via @grtvnews #CharlieHebdo #JeSuisCharlie #ParisAttacks\n",
            "Paris Terror Attack: NATO Member Accuses US and Israel of Involvement http://t.co/SZXXjf2LzY #ParisAttacks #CharlieHebdo #JeSuisCharlie\n",
            "#PENAmerican If we dictate what cannot be said, we give others the power to do the same. I will not give my free speech away. #JeSuisCharlie\n",
            "PEN Gives Freedom of Expression Courage Award to #CharlieHebdo - @PENAmerican #TomStoppard #JeSuisCharlie https://t.co/7yizIIZIdT\n",
            "People complain about adverts to @NAT_Group as It may be a little offensive but I bet you where all tweeting #JeSuisCharlie 4 months ago.\n",
            "Perception, perception, perception... Fact - let's make it our common religion? #muslim #islam #JeSuisCharlie http://t.co/6kbNAHtUt2\n",
            "Phoebe Legere's ACADIAN MOON at MIDEM! Plus: CANADIAN UPDATE!: \"We are honored to be one of sev... http://t.co/F85K7Tw3sZ #JeSuisCharlie\n",
            "Pic from my #keynote at #NATO's Public Diplomacy #Conference. Here I'm discussing the power behind #JeSuisCharlie http://t.co/fOKGJjZBu4\n",
            "Picket of muslims, jews and Christians in remembrance of the victims of the Paris terrorist attacks. #JeSuisCharlie http://t.co/WNAZOuktwe\n",
            "#Porky @Poroshenko With these hands I will rebuild #Ukraine http://t.co/fwkGQ8SSRs #Davos2015 #JeSuisCharlie #JeSuisDonetsk @NATO complicyt\n",
            "Poser... #JeSuisCharlie #PeoplesChoiceAwards #HoyEstaPara #idolpremiere https://t.co/qgvNAQyuKt\n",
            "Post-attack @Charlie_Hebdo_ weekly circulation tops 7 million http://t.co/vKQSsqRnKw #CharlieHebdo #JeSuisCharlie http://t.co/A4NAmlzqAj\n",
            "Powerful Cartoons Drawn In Response To The #CharlieHebdo Terror Attack http://t.co/JZ0YcNA0T8 #JeSuisCharlie #TerrorismHasNoReligion\n",
            "@PranavDNA your article was shameful and shows your cowardly mentality! Uou are not real journalist @calamur #JeSuisCharlie #CharlieHebdo\n",
            "Prof @rjjoconnell of @TJI_ sets out the law on free speech at our #JeSuisCharlie debate @CrescentArts in Belfast. http://t.co/NAxAEIVC0n\n",
            "@PUPPACHEZIDEK - \"NO MORE WAR\" http://t.co/Iu0xQtaZHs #PEACE #UNITY #LOVE #USA #NIGERIA #FRANCE #JeSuisCharlie @RebelVibez @LPINTERNATIONA1\n",
            "Q for @InklessPW or others in Paris: have #JeSuisCharlie msgs joined the #BringBackOurGirls sign near Parc Monceau? https://t.co/xeB3NAGveS\n",
            "Rashid Razaq: As a Muslim, I know there is no God-given right not to be offended #FreeToExplain #JeSuisCharlie http://t.co/uUFDNAGO4B\n",
            "Read the latest #CharlieHebdo magazine extract here #JeSuisCharlie... http://t.co/ESuyiNAkiF\n",
            "Really disgraceful move by Peter Carey. So much for courageous artists. #jesuischarlie #PENAmerica http://t.co/hhkHJldafD\n",
            "Remember #JeSuisCharlie Al-Qaeda from Yemen? Why is #NATO (via #SaudiArabia) defending Al-Qaeda from the #Houthis in #Yemen now? #FalseFlag\n",
            "@RenaThorneModel THANK You so much dear RENA and thanks for your kind words Yes we support #JeSuisCharlie xxx big kiss from France\n",
            "@ricky_raw @willmenaker i tweeted last week that on #JeSuisCharlie one finds Muslims denouncing &amp; on #NAACPBombing one finds cons mocking it\n",
            "@RonanFarrow Just caught the show from this afternoon. Very powerful segments regarding #NAACPBombing and #JeSuisCharlie . You're amazing!\n",
            "Rupert Murdoch Tweets About \"Jihadist Cancer\" Following Paris Attack http://t.co/HQ8NAhvDbz via @THR #TCOT #TPP #TLOT #JeSuisCharlie #Muslim\n",
            "@russelltovey @LookingHBO i'm french and since wednesday i've lost GREAT JOURNALISTS &amp; SO KIND MEN so i'm just too sad #JeSuisCharlie\n",
            "#Russia reacts to @Charlie_Hebdo_ tragedy. http://t.co/8w7etlVPgd #JeSuisCharlie @CanadaNATO @RussiaInsider @Interpreter_Mag @aminteres...\n",
            "#Russia reacts to @Charlie_Hebdo_ tragedy. http://t.co/TPDY94UIVP #JeSuisCharlie @CanadaNATO @RussiaInsider @Interpreter_Mag @aminterest\n",
            "@salty_1970 @SERG_ROTTENBERG exactly #JeSuisCharlie is similar to NATO's Gladio project.\n",
            "Saudis are our allies right? Blogger to be flogged for setting up Free Saudi Liberals site: http://t.co/CAlU818NA4 #jesuischarlie #canpoli\n",
            "Scientists Extract DNA from 45,000-Year-Old Extinct Kangaroo, Wallaby http://t.co/U58KSEXRto #JeSuisCharlie\n",
            "sebastien joho posted a photo: http://t.co/3YvNAZ02fx #JeSuisCharlie\n",
            "Seriously You Think #NAACPBombing #ParisShooting #CharlieHebdo #JeSuisCharlie Are Coincidence Considering #ArrestBush #PrinceAndrew\n",
            "Seven offensive images the New York Times wasn't afraid to publish http://t.co/rPWE0LUbhL ht @HadadDNA #jesuischarlie\n",
            "Sfakianakis http://t.co/VP5FDSjUXG Submarine Corporation Paul Mitchell Sanyo #NASDAQ #CharlieHebdo #JeSuisCharlie\n",
            "Six #PEN Members Decline Gala After Award for #CharlieHebdo http://t.co/TxyfQKQ7ZB #JeSuisCharlie #PENAmericanCenter http://t.co/gkIHJqAjN3\n",
            ".@Snapchat @raadiakhan: advertises for #JeSuisCharlie but silent on #Ferguson #PeshawarAttack &amp; #NAACPBombing &amp; #Nigeria2000 etc. wonder why\n",
            "SNAPSHOT: Frenchman Yann Kermorgant shows solidarity after tragic events in his home country. #JeSuisCharlie #afcb. http://t.co/oZYbEC0TH2\n",
            "SNL - Dakota Johnson - I.S.I.S. Commercial: http://t.co/QGNAPol2X3 #JeSuisCharlie\n",
            "So are Islamic State \"fake muslims\" too? They've put \"Islamic\" IN THEIR FUCKING NAME! Bad PR, Islam! #JeSuisCharlie http://t.co/HfnUzuRd0h\n",
            "Social Advocacy and Politics: Was #JeSuisCharlie #JeSuisBiggestHashtagEver? While the schoolmarms parse data ove... http://t.co/NAmdaGy30w\n",
            "SocialMediaNAUC: #JeSuisCharlie and the Day After http://t.co/mTQ0DpijD4 #SocialMedia | https://t.co/uGG3Q0qzYP http://t.co/gN3wXsk9Ss\n",
            "Sociopaths are truly DEMENTED #CharlieHebdo #JeSuisCharlie #ISIS #Islam #cartoonists #Allah #Jesus http://t.co/iNAB2HGLpu\n",
            "Some Idiot Will Probably Try to Trademark #JeSuisCharlie. It Won't Work http://t.co/5Nl3iYvxHb http://t.co/rGVlNAWkrY\n",
            "Some Idiot Will Probably Try to Trademark #JeSuisCharlie. It Won't Work | WIRED http://t.co/1NAjw1TuyZ #prsahoosier\n",
            "Some of the Best Reptilian Shape-Shifting Ever Captured.in HD (ORIGINALL...: http://t.co/eRhCC1hnjn vía @YouTube #jesuischarlie\n",
            "So .@ryenmitchell is #JeSuisCharlie but thinks #terrorism against black Americans is ok. #NAACPBombing\n",
            "[ SOUNDCLOUD ] @M_Chedid @NACHOFFICIEL #CommeUnSeulHomme #JeSuisCharlie Bel hommage ! Bravo Monsieur -M- !!! https://t.co/r8Ms18S9yL\n",
            "#Spotlight Creator of #JeSuisCharlie tries to protect its meaning - PBS NewsHour http://t.co/T7EwbBuNAI\n",
            "Spread some love with us today! @BarryMCosmetics http://t.co/tfSnijcT0e #JeSuisCharlie #beauty #nails http://t.co/yFCv4i1NAp\n",
            "#StateOfTheUnion #Obama-#Hillary all BLA BLA &amp; all LIES! #NATO #CIA #UN @nytimes #Euro #UK #Russia #EU #JeSuisCharlie http://t.co/wwTrRij88r\n",
            "Street of Paris #jesuischarlie #streetartparis #streetofparis by rubenalves09 http://t.co/1Ng82NA2ym\n",
            "@sundnce99 @NAInfidels @Deftduckling @manjrn @foxnewsvideo totally right, there is #NoModerateIslam #fact #EnoughIsEnough #JeSuisCharlie\n",
            "@Sunnybluesky321 @MadeYouParanoid @RiosJose559 @imraansiddiqi @DrZuhdiJasser #JeSuisCharlie #CharlieHebdo long 4gotten by phobes #UseNAbuse\n",
            "SUPERNATURE @lundidismoioui @grandcentralmia #RollerDisco #jesuischarlie http://t.co/B0aJ3724b0\n",
            "SUPERNATURE @lundidismoioui @grandcentralmia #RollerDisco #jesuischarlie http://t.co/umqN6T0Il2 /@MilkFrom1989\n",
            "Support Freedom Of Expression. Support #CharlieHebdo by buying this tshirt #JeSuisCharlie http://t.co/iHvhoI1xm0 http://t.co/xbIAAvNAOo\n",
            "Support Freedom Of Expression. Support #CharlieHebdo by buying this tshirt #JeSuisCharlie http://t.co/UMw7NACM5g http://t.co/14hvrqsJ9W\n",
            "Support Freedom Of Expression. Support #CharlieHebdo by buying this tshirt #JeSuisCharlie http://t.co/UMw7NACM5g http://t.co/LX9iqazXgH\n",
            "Supreme Court DENIES Charles Warner's Last-Minute Execution Stay Request: McALESTER, Okla. (AP)... http://t.co/0onUNAjvuI #JeSuisCharlie\n",
            "@SyriaCD: #Syria Syrian civil defense This Is Not A Hollywood Film :https://t.co/e7XzbcLV0g #JeSuisCharlie #NO2VETO #FRANCE #CANADA #USA\n",
            "Take this guy out http://t.co/jyVNAb6BZz The needs of the Many ... #EndIslam @RedNationRising @CarmineZozzora #tcot #JeSuisCharlie #ccot\n",
            "TERROR ENABLER: WH Lies About France Terror to Preserve PC View on Islam http://t.co/B3O1VAn5kZ #jesuischarlie #SisterPatriots #tcot\n",
            "#Terror leads to disaster in this world and it leads to Hell in the next world #JeSuisCharlie #NAACPBombing #NoCreoEn http://t.co/zffWjpvrx1\n",
            "thank you for your 100 views on this piece of #art by Laure RENAUD @SaatchiArt http://t.co/0BI47FoCgU dedicated to #jesuischarlie\n",
            "Thank you France, for being so open-minded! It isn't the case everywhere. #JeSuisCharlie Obviously gonna buy this one http://t.co/C2Sg28nNAf\n",
            "that ain't all folks #CharlieHebdo #ParisShooting #NAACPBombing #JeSuisCharlie https://t.co/e5zQMv4CMa . http://t.co/0w1dCjpjRM\n",
            "@TheAcademy LOL U FORGOT TO NOMINATE ANNIE #JeSuisCharlie\n",
            "The Charlie Hebdo Jihad Massacre: Time to Stand for Free Speech http://t.co/LGMy36UNNA #JeSuisCharlie #CharlieHebdo #Parijs\n",
            "\"The Charlie Hebdo Story Simply Doesn't Wash\" #CharlieHebdo #JeSuisCharlie http://t.co/nCZHXD7fKg #NATO\n",
            "The CotoBuzz Journal #JeSuisCharlie: ADELA TAPIA, FORMER OFFICE MANAGER TO BE ARRAIGNED... http://t.co/EHhkRMKU4C\n",
            "The Freedom of Europe is defended in #Kurdistan! #JeSuisCharlie #ISIS #Shingal #Irak #Paris http://t.co/GjjwLNArmn\n",
            "the #JeSuisCharlie animals are laughing about the #NAACPBombing and the attacks on mosques throughout Europe. Wow, such defenders of freedom\n",
            "The #jesuischarlie crew is such an obvious propaganda ring incessantly hammering islamophobia while NATO and US arms ISIS.\n",
            "'The #jesuischarlie movement is an odious display of middle-class domination, prejudice and Islamophobia' http://t.co/NAafbEnYG0\n",
            "@TheLeadCNN @CNNSitRoom @CNNAshleigh @CNN where can I purchase a copy of this weeks #CharlieHebdo issue in the US? Thanks! #JeSuisCharlie\n",
            "The new cartoonist. #cartoon #JeSuisCharlie #FreedomOfSpeech http://t.co/n1BN4kNA1l\n",
            "The #NewYorker NAILS IT. #ChalieHebdo #JeSuisCharlie #ParisShooting http://t.co/XylBfNw3zF\n",
            "The politician who tried reducing NASA funding (and successfully shut it down for over two week... http://t.co/iqOs8zSaXu #JeSuisCharlie\n",
            "The propaganda's supporters of #NAI now for their new episode: #JeSuisCharlie Chaplin\n",
            "@THEREALNATURE #JeSuisCharlie -CAD- \"Censored\" (classified) [-The Hunt For Red October-] https://t.co/0ZPDKz0Bxp\n",
            "The reason the Paris SNAFU is so concerning is b/c it makes one wonder what else this crew fumbles. #stunning #JeSuisCharlie\n",
            "@theshizzle786 @richardkoyd @iam_DanishKhan @TelegraphNews #JESUISCHARLIE #JeSuisBaga #EXTERMINATEeveryBURQA!! #BURQAS=OPPRESSION!!!!!\n",
            "THE U.S.A (VIETNAM) BAND-AID WARRIOR #JesuisCharlie &gt; @JohnKerry MISSED MARCH, will go to Paris this week http://t.co/qt2Eva5ijn\n",
            "The Week Video News 13.01.15 http://t.co/Y36SQBNAOb #cyprus #JeSuisCharlie #CyprusAirways\n",
            "The world deals with FANATICS of every stripe.Any ideology can be perverted to support torture(terror)The enemy is thought #JeSuisCharlie\n",
            "This arrived to Turku today #jesuischarlie #charliehebdo @yleturku http://t.co/vpNAayIPzb\n",
            "This FINALLY makes sense!!! #JeSuisCharlie #TheProphetHasSpoken #NoHate #NoH8 #atheists http://t.co/ym5mBBAd2q\n",
            "This is amazing! \"@Hassanvand: \"bunch of clowns\" by Iran graffiti artist NAFIR on #ParisMarch #JeSuisCharlie http://t.co/fNPY8gQmvh\"\n",
            "This is #Serbian journalists who were killed by NATO troops in the telecentre. But they're not Charlie #JeSuisCharlie http://t.co/kvCvwjWhBQ\n",
            "This is #Serbian journalists who were killed by NATO troops in the telecentre. But they're not Charlie #JeSuisCharlie http://t.co/YEILKZCcao\n",
            "This Is What The Wedding Night Is Actually Like, According To Married People: Expectations for ... http://t.co/lST311guNA #JeSuisCharlie\n",
            "This is why the internet cares more about 17 French people than 2000 Nigerians http://t.co/mXTf2dDNAq #CharlieHebdo #JeSuisCharlie\n",
            "This New Footage Of #CharlieHebdo #Attack is Un-f*cking real. #JESUISCHARLIE #NOTINMYNAME #ISIL #ISIS #DAESH http://t.co/BfsieJ4zrI\n",
            "TIL Jurassic Park (1993) is the 7th most scientifically accurate film according to NASA http://t.co/fFhVN8aTQ5 #JeSuisCharlie\n",
            "Timerman in Paris, but not officially http://t.co/NAdZll24Rm @CFKArgentina @clarincom @jmcapitanich @argentina @FRANCE24 #JeSuisCharlie\n",
            "TIME TO ELIMINATE ALL FAITH #NOFAITHNOWAR #JeSuisCharlie #CharlieHebdo #RespectForMuslims #ParisShooting # http://t.co/bAYJjITW6C\n",
            "To those who were supporting #jesuisCharlie ,idiots FANATIC people why dont u support #jesuisMUath\n",
            "Tough day for world. #JeSuisCharlie #NAACP\n",
            "Trying to dilute &amp; justify a terrorist attack in #Paris by mentioning other incidents in #MENA reflects low moral standards. #JeSuisCharlie\n",
            "#Turkey @20committee More on lovely ally https://t.co/rL0B5r4fCw #NATO @NATOCanada @NATOSource @CanadaNATO #cdnfp #JeSuisCharlie #Erdogan\n",
            "#Turkey blocks Charlie Hebdo websites http://t.co/2okHgEXSnb . via @YahooNews #JeSuisCharlie #NATO #EU\n",
            "#Tweet #Mention - Twitter: #JeSuisCharlie one of most popular hashtags - SAN FRANCISCO - It's official:. http://t.co/isGPRCQANA #Twitter\n",
            "#Tweet #Mention - Twitter: #JeSuisCharlie one of most popular hashtags - SAN FRANCISCO - It's official:. http://t.co/lRK2NAu2rx #Twitter\n",
            "Two main reasons of radicalization are Hollywood and hadiths. @MiddleEastEye #ChalieHebdo #JeSuisCharlie #Islam #Sunnis #Terrorism #NATO\n",
            "UGLY CHINA http://t.co/GuYDGlI7xQ http://t.co/D3yUdcdN2d If we cant stand #JeSuisCharlie terrorism how can we stand THISterrorism?#IAmAnimal\n",
            "UGLY CHINA SHAME ON YOU http://t.co/G7cPF6P5AX If people cant stand #JeSuisCharlie terrorism, how can we stand THIS terrorism? #IAmAnim...\n",
            "UGLY CHINA SHAME ON YOU http://t.co/smEA0vmTmc If people cant stand #JeSuisCharlie terrorism, how can we stand THIS terrorism? #IAmAnimal\n",
            "UGLY CHINA! #StopYuLinFest http://t.co/1v49Gu5EKt If people cant stand #JeSuisCharlie terrorism, how can we stand THIS terrorism? #IAmAnimal\n",
            "UK GUJARATI MUSLIM PEER LORD NOON CALLS FOR DEATH PENALTY FOR TERRORISTS.#Labour2015 #UKIP @ConHome #JeSuisCharlie http://t.co/qTt6xYvLWQ\n",
            "Ukip candidate replaced after he called for US President Barack Obama to be KIDNAPPED like a Na... http://t.co/6XM5ryVOIT #JeSuisCharlie\n",
            "Ukip candidate replaced after he called for US President Barack Obama to be KIDNAPPED like a Na... http://t.co/DTRAAXRW4m #JeSuisCharlie\n",
            "Uri Avneri--Waving in the first Row. #JeSuisCharlie. http://t.co/OBy0WdNAQx\n",
            "\"@UriksFredrik: #bergen #skostredet #litteraturhuset #jesuischarlie #charliehebdo http://t.co/NAHQjJTMId\" Been there done that :P\n",
            "#US-#NATO State-Sponsored Terrorism is the \"Number One Killer\" of Journalists http://t.co/2Mh22Y1LBD via @grtvnews #JeSuisCharlie #falseflag\n",
            "Via @Spiral16 Hashtag Round-Up - #NAACPBombing &amp; #JeSuisCharlie: Since the introduction of the hashtag to soc... http://t.co/SaTx1MXIla\n",
            "#vote5sos #teamfollowback It's beautiful to watch the spread of #JeSuisCharlie across the world - Quartz http://t.co/UWNA7d8w2Z\n",
            "WANNA HAVE Free of speech for Comfortwomen, victims of sewolferry and minority #JesuisCharlie http://t.co/jimNehqB2y\n",
            "We at The Guardian proudly have our #jesuischarlie badges exhibited tonight at 'Pin-o-Rama' the new. https://t.co/yswasNAlRz\n",
            "Well #CANADA #BC ??? ARE WE OR ARE WE NOT? #JeSuisCharlie http://t.co/WOBUBOZY9v\n",
            "Were millions of NAmericanNaivesVictims of wstrn genocide @#JeSuisCharlie march behind 1stline? #hypocrites #lagabbia http://t.co/tp2O2Ahwje\n",
            "What about other ppl and childrens, they are fotgotten? #NATO #JeSuisCharlie #JeSuisBelgrade #1999bombing http://t.co/gkr4yOjc5E\n",
            "What #freedom of speech? Of foxes, chickens, and #JeSuisCharlie http://t.co/VarnuWPsNA #lyrics #songs #satire #hope\n",
            "''What?!' Gutfeld Calls Out CNN's Amanpour for Labeling Terrorists 'Activists'\" http://t.co/DG2NAq36Kp #JeSuisCharlie #CharlieHebdo Paris\n",
            "When it was no telescope #NASA #StarsSousHypnose #JesuisCharlie #CharlieHebdo #WhoIsMohammed http://t.co/6QBY3b9nAB http://t.co/udSlfxR5PH\n",
            "when ppl make hashtags w/ other #JeSuis... than theORiGiNAL #JeSuisCharlie they show theWORLD they SUCK NORespect 4 theViCTiMS #CharlieHebdo\n",
            "When she hits it on the head, SHE NAILS IT BIG TIME!!!!!! #JeSuisCharlie #terrorism #igmilitia #domesticterrorist... http://t.co/4VQoBWitFD\n",
            "Who Is Muhammad https://t.co/WJ0ipNA7jx je refuse #JeSuisCharlie #IamCharlie #IAmCharlieHebdo #Charlie #CharlieHebdo #KouachiBrothers\n",
            "Who's a Charlie France cracks down on free speech in order to defend it #BS #NWO #NATO #JeSuisCharlie #CameronMustGo http://t.co/eZigmrnD9A\n",
            "Why are leaders of INDIAN NATIONAL #CONGRESS justifying terrorist attacks? Media should stop approaching them for statements. #JeSuisCharlie\n",
            "Why #Media Ignoring #NAACPBombing? #jesuischarlie #mainstream #US #Colorado #domesticterrorism #terrorism http://t.co/hIJ3h17g6G via @bustle\n",
            "Why Moderate Muslims Balk At 'Je Suis Charlie' - AINA (press release): Why Moderate Muslims Bal... http://t.co/v4ALdtKqxw #JeSuisCharlie\n",
            "Why won't @fhollande tell us if @PutinRF_Eng is behind the #JeSuisCharlie attack? #Mistral #Ukraine #Russia @NATO\n",
            "Will BSP take strong action against Qureshi for his encouraging terrorist of #ParisShooting ? #CharlieHebdo #JeSuisCharlie #NAACPBombing\n",
            "Will #Paris finally wake up &amp; ELIMINATE these \"#NoGoZones\" where Muslims impose #Shariah INSIDE France? #JeSuisCharlie #teaparty #tgdn #tcot\n",
            "Will #Paris finally wake up &amp; ELIMINATE these \"#NoGoZones\" where Muslims impose #Shariah WITHIN France? #JeSuisCharlie #teaparty #tgdn #tcot\n",
            "With all the talk about #JeSuisCharlie, we forget that the free speech battle was lost years ago in the chambers... http://t.co/HvDNA66fM0\n",
            "World leaders join mass #Paris march to honour attack victims http://t.co/7TkNAY2LCq #JesuisCharlie\n",
            "YaMeCanse20 says: #BotCharlie : #CharlieHebdo #ISIS #JeSuisAmerica #JeSuisCharlie http://t.co/mCJyhGeJYW /DNACode13 http://t.co/0lQTMrm6Wn\n",
            "YaMeCanse21 says: #mia_silverwoman: eastlondonlines Keep creating #CharlieHebdo #JeSuisCharlie http://t.co/Yf9NAfsMou http://t.co/GO7Qp6B1tM\n",
            "YaMeCanse21 says: #qenygequduwy: No one will ever silence a peaceful crowd #JeSuisCharlie #CharlieHebdo via Fashcom http://t.co/UrcNAacxll\n",
            "Yes, #JeSuisCharlie but I'm also #Nigeria and #coloradoNAACP\n",
            "Yo #JeSuisCharlie June 8, 632 AD, Medina, Saudi Arabia Muhammad, Died Muhammad Prophet NEW NATIONAL HOLIDAY http://t.co/9waD2usCK9 /@...\n",
            "Yo #JeSuisCharlie June 8, 632 AD, Medina, Saudi Arabia Muhammad, Died Muhammad Prophet NEW NATIONAL HOLIDAY http://t.co/jSRqH5FcJD\n",
            "You kill JOURNALISTS because they share a different opinion, tomorrow u yet need them to circulate ur message? #JeSuisCharlie #CharlieHebdo\n",
            "Young Turks: #NAACP Targeted With Explosive Device In Heart Of America https://t.co/SdQGOOftTA #NAACPBombing #CharlieHebdo #JeSuisCharlie\n",
            "Zionist media terrorizing us again.... #CharlieHebdo #JeSuisCharlie http://t.co/mn0kNAHqir\n"
          ]
        }
      ],
      "source": [
        "# I want to make sure uniq -u works, so I'm trying to find the empty NA tweets\n",
        "\n",
        "! cat just_tweets.txt | sort | uniq -u | egrep \"NA\" | -head"
      ]
    },
    {
      "cell_type": "code",
      "execution_count": null,
      "metadata": {
        "id": "IKZC16IoUHb7",
        "outputId": "97b03d8f-88f7-402d-e2b0-d551295dc499",
        "colab": {
          "base_uri": "https://localhost:8080/"
        }
      },
      "outputs": [
        {
          "output_type": "stream",
          "name": "stdout",
          "text": [
            "@obyezeks Ma, U dont need to to mk a diff. IMAGINE @MRS-IWEALA CLAIMg #JESUISCHARLIE?NA DOLLAR? HAS SHE EVER DONE DT WT MURDERED NIGERIANS?\n"
          ]
        }
      ],
      "source": [
        "# We need to -w option to get just the correct ones - this seems to work!\n",
        "\n",
        "#match only the character string as a word:\n",
        "  #egrep -w\n",
        "#e.g. egrep \"cat\" matches \"concatenate\", but egrep -w \"cat\" only lines with \"cat\" as a word\n",
        "\n",
        "! cat just_tweets.txt | sort | uniq -u | egrep -w \"NA\""
      ]
    },
    {
      "cell_type": "code",
      "execution_count": null,
      "metadata": {
        "id": "9ZA_6c3eT3Gf"
      },
      "outputs": [],
      "source": [
        "#16. Direct the tweets that occur only once to a file of its own.\n",
        "\n",
        "! cat just_tweets.txt | sort | uniq -u > noduplicates.txt"
      ]
    },
    {
      "cell_type": "code",
      "execution_count": null,
      "metadata": {
        "id": "mc4M4_j_WCjs",
        "outputId": "263dcceb-9ae7-47e5-9629-bddf46b09f68",
        "colab": {
          "base_uri": "https://localhost:8080/"
        }
      },
      "outputs": [
        {
          "output_type": "stream",
          "name": "stdout",
          "text": [
            "203402\n"
          ]
        }
      ],
      "source": [
        "#17. How many tweets do you end up having here?\n",
        "\n",
        "#check the number of lines in the file to make sure that all the lines made it to the file\n",
        "\n",
        "! cat noduplicates.txt | wc -l"
      ]
    },
    {
      "cell_type": "markdown",
      "metadata": {
        "id": "SaYej1X2XqJy"
      },
      "source": [
        "### Hashtags\n",
        "The hashtags used in the tweets are available at http://dl.turkunlp.org/atp/hashtags.txt\n",
        "\n",
        "19. Which hashtags are the most frequent ones?\n",
        "20. How many different hashtags do you have?\n",
        "21. Different versions of jesuischarlie seem to be frequent. How could you exclude those? Which are the most frequent hashtags when those are excluded?\n",
        "22. We can find hashtags with different mentions of \"je suis\" (I am) that don't include \"Charlie\" but something else. How could you find those? What do they look like? These were used to express solidarity to also other\n",
        "23. Count these hashtags with \"je suis\" that don't include Charlie but something else."
      ]
    },
    {
      "cell_type": "code",
      "execution_count": null,
      "metadata": {
        "id": "YyjPVbOKWM7i",
        "outputId": "bf14674c-1902-42e5-8285-facc476cdb1e",
        "colab": {
          "base_uri": "https://localhost:8080/"
        }
      },
      "outputs": [
        {
          "output_type": "stream",
          "name": "stdout",
          "text": [
            "--2024-10-24 10:09:00--  http://dl.turkunlp.org/atp/hashtags.txt\n",
            "Resolving dl.turkunlp.org (dl.turkunlp.org)... 195.148.30.23\n",
            "Connecting to dl.turkunlp.org (dl.turkunlp.org)|195.148.30.23|:80... connected.\n",
            "HTTP request sent, awaiting response... 200 OK\n",
            "Length: 7533015 (7.2M) [text/plain]\n",
            "Saving to: ‘hashtags.txt’\n",
            "\n",
            "hashtags.txt        100%[===================>]   7.18M   358KB/s    in 14s     \n",
            "\n",
            "2024-10-24 10:09:14 (538 KB/s) - ‘hashtags.txt’ saved [7533015/7533015]\n",
            "\n"
          ]
        }
      ],
      "source": [
        "#Fetch the file\n",
        "\n",
        "! wget http://dl.turkunlp.org/atp/hashtags.txt"
      ]
    },
    {
      "cell_type": "code",
      "execution_count": null,
      "metadata": {
        "id": "nkmZJAShX2P0",
        "outputId": "eed85004-9c13-4696-e062-6e5217747e4f",
        "colab": {
          "base_uri": "https://localhost:8080/"
        }
      },
      "outputs": [
        {
          "output_type": "stream",
          "name": "stdout",
          "text": [
            "#CharlieHebdo\n",
            "#JeSuisCharlie\n",
            "#JeSuisCharlie-\n",
            "#JeSuisCharlie\n",
            "#JeSuisCharlie\n",
            "#JeSuisCharlie\n",
            "#CharlieHebdo\n",
            "#terrorism\n",
            "#FreeSpeech\n",
            "#Secular\n"
          ]
        }
      ],
      "source": [
        "#Check the file contents\n",
        "\n",
        "! head hashtags.txt"
      ]
    },
    {
      "cell_type": "code",
      "execution_count": null,
      "metadata": {
        "id": "5BfUX1V3X8VV",
        "outputId": "667c3cd4-1f78-40d4-ef65-f06825c83c37",
        "colab": {
          "base_uri": "https://localhost:8080/"
        }
      },
      "outputs": [
        {
          "output_type": "stream",
          "name": "stdout",
          "text": [
            "22474\n"
          ]
        }
      ],
      "source": [
        "#19. Which hashtags are the most frequent ones?\n",
        "\n",
        "#frequency list\n",
        "\n",
        "! cat hashtags.txt | sort | uniq -ci | sort -rn | head # to check the most frequent ones"
      ]
    },
    {
      "cell_type": "code",
      "execution_count": null,
      "metadata": {
        "id": "CQcM3-f5YDV6",
        "outputId": "c3c63733-0444-47bb-af1a-4ca1f642ce63",
        "colab": {
          "base_uri": "https://localhost:8080/"
        }
      },
      "outputs": [
        {
          "output_type": "stream",
          "name": "stdout",
          "text": [
            "22474\n"
          ]
        }
      ],
      "source": [
        "#20. How many different (i.e. unique) hashtags do you have?\n",
        "\n",
        "#Count the lines of unique hashtags from the frequency list\n",
        "#Here we leave out counting and sorting, since it's not necessary for the unique count (the outcome is the same, though, which\n",
        "#you can check by running this: ! cat hashtags.txt | sort | uniq -ci | sort -rn | wc -l\n",
        "\n",
        "! cat hashtags.txt | sort | uniq -i | wc -l # how many unique ones"
      ]
    },
    {
      "cell_type": "code",
      "execution_count": null,
      "metadata": {
        "id": "OvJ0bAv2YKFP",
        "outputId": "34811882-610e-4896-ee39-330dc235eed0",
        "colab": {
          "base_uri": "https://localhost:8080/"
        }
      },
      "outputs": [
        {
          "output_type": "stream",
          "name": "stdout",
          "text": [
            "212422\n"
          ]
        }
      ],
      "source": [
        "#21. Different versions of jesuischarlie seem to be frequent.\n",
        "\n",
        "! cat hashtags.txt | egrep -i \"jesuischarlie\" | head # this matches any version of the notion"
      ]
    },
    {
      "cell_type": "code",
      "execution_count": null,
      "metadata": {
        "id": "DJA-BJOEYZfN",
        "outputId": "834855e3-c34e-454b-c951-e36f98d2154c",
        "colab": {
          "base_uri": "https://localhost:8080/"
        }
      },
      "outputs": [
        {
          "output_type": "stream",
          "name": "stdout",
          "text": [
            "#CharlieHebdo\n",
            "#CharlieHebdo\n",
            "#terrorism\n",
            "#FreeSpeech\n",
            "#Secular\n",
            "#London\n",
            "#TrafalgarSquare\n",
            "#IchbinCharlie\n",
            "#CharlieHebdo\n",
            "#Paris\n"
          ]
        }
      ],
      "source": [
        "#How could you exclude the different versions of jesuischarlie?\n",
        "\n",
        "#grep and print lines that don't match jesuischarlie in any form:\n",
        "  #egrep -iv\n",
        "\n",
        "! cat hashtags.txt | egrep -iv \"jesuischarlie\" | head # with -v we can ignore those"
      ]
    },
    {
      "cell_type": "code",
      "execution_count": null,
      "metadata": {
        "id": "NgveaFbmZDZv",
        "outputId": "b825a919-9580-44df-9306-7be9cfc1e7c1",
        "colab": {
          "base_uri": "https://localhost:8080/"
        }
      },
      "outputs": [
        {
          "output_type": "stream",
          "name": "stdout",
          "text": [
            "  99676 #Letter4All\n",
            "  99648 #letter4u\n",
            "  91328 #Paris\n",
            "  13043 #CharlieHebdo\n",
            "  10415 #french\n",
            "   2033 #France\n",
            "   1516 #JesuisAhmed\n",
            "   1489 #Notinmyname\n",
            "   1467 #charliehebdo\n",
            "   1351 #ISIS\n",
            "   1121 #jeSuisJuif\n",
            "   1016 #iSLAM\n",
            "    841 #ParisShooting\n",
            "    761 #FreedomoFSpeech\n",
            "    716 #tcot\n",
            "    692 #notafraid\n",
            "    689 #islamnoncoupable\n",
            "    686 #islamicstate\n",
            "    662 #parismarch\n",
            "    657 #polqc\n"
          ]
        }
      ],
      "source": [
        "#Which are the most frequent hashtags when those are excluded?\n",
        "\n",
        "#frequency list\n",
        "\n",
        "! cat hashtags.txt | egrep -iv \"jesuischarlie\" | sort | uniq -ci | sort -rn | head -20 # and make a list of those"
      ]
    },
    {
      "cell_type": "code",
      "execution_count": null,
      "metadata": {
        "id": "Adg6jWytZILD",
        "outputId": "d0a7e316-19bd-43e5-da0e-b8dabb297a83",
        "colab": {
          "base_uri": "https://localhost:8080/"
        }
      },
      "outputs": [
        {
          "output_type": "stream",
          "name": "stdout",
          "text": [
            "#jesuishebdo\n",
            "#JeSuisAhmed\n",
            "#JeSuisParis\n",
            "#JeSuisCharly\n",
            "#JeSuisAmhed\n",
            "#JeSuisAmhed\n",
            "#JeSuisAhmed\n",
            "#JeSuisAhmed\n",
            "#JeSuisAhmed\n",
            "#jesuisflic\n"
          ]
        }
      ],
      "source": [
        "#22. We can find hashtags with different mentions of \"je suis\" (I am) that don't include \"Charlie\" but something else.\n",
        "#How could you find those? What do they look like?\n",
        "\n",
        "#grep \"suis\" (ignore case so you get all of them):\n",
        "  #egrep -i \"suis\"\n",
        "#grep \"charlie\" (ignore case so you get all of them) and print lines that don't match:\n",
        "  #egrep -vi \"charlie\"\n",
        "\n",
        "! cat hashtags.txt | egrep -i \"suis\" | egrep -vi \"charlie\" | head # if we first search of \"suis\" and then skip the charlie ones"
      ]
    },
    {
      "cell_type": "code",
      "execution_count": null,
      "metadata": {
        "id": "E5IUpxGuZPwg",
        "outputId": "616b77a6-2dc8-4e37-92a9-f3bd0c5f262b",
        "colab": {
          "base_uri": "https://localhost:8080/"
        }
      },
      "outputs": [
        {
          "output_type": "stream",
          "name": "stdout",
          "text": [
            "   1516 #JesuisAhmed\n",
            "   1121 #jeSuisJuif\n",
            "    133 #jesuisjuif\n",
            "    128 #jesuiscopte\n",
            "    120 #jesuisahmed\n",
            "    111 #jesuisjuis\n",
            "    100 #jesuiskouachi\n",
            "     90 #jesuisraif\n",
            "     89 #jesuismuslim\n",
            "     87 #jesuisdieudonne\n"
          ]
        }
      ],
      "source": [
        "#23. Count these hashtags\n",
        "\n",
        "#frequency list\n",
        "\n",
        "! cat hashtags.txt | egrep -i \"suis\" | egrep -vi \"charlie\" | sort | uniq -ci | sort -rn | head # a frequency list tells us that quite many similar notions were used"
      ]
    },
    {
      "cell_type": "markdown",
      "source": [
        "**Summary of useful commands in these exercises**\n",
        "\n",
        "`egrep -w` match **as word**, not as part of a word\n",
        "\n",
        "`egrep -v` match lines that **don't include** the given character string\n",
        "\n",
        "`egrep -i` **ignore case** when matching lines (i.e. match lines with upper and/or lower case)\n",
        "\n",
        "`egrep -iv` N.B. the flags can be **combined**\n",
        "\n",
        "`egrep -v \"^$\"`remove **empty lines**\n",
        "\n",
        "`cut -f` select **column(s)**\n",
        "\n",
        "`uniq -u` filter successive duplicate lines, **print only one** of the duplicate lines\n",
        "\n",
        "`sort | uniq -c | sort -rn` **frequency list**\n",
        "\n",
        "`sort | uniq -ci | sort -rn` **frequency list**"
      ],
      "metadata": {
        "id": "_-gWnNGMQxOo"
      }
    }
  ],
  "metadata": {
    "colab": {
      "collapsed_sections": [
        "cVGiNOizCxMK",
        "V8PbWFpAGOLe",
        "21ffCS_FDMkW",
        "qmXz0aEbP6M6"
      ],
      "provenance": [],
      "include_colab_link": true
    },
    "kernelspec": {
      "display_name": "Python 3",
      "name": "python3"
    },
    "language_info": {
      "name": "python"
    }
  },
  "nbformat": 4,
  "nbformat_minor": 0
}